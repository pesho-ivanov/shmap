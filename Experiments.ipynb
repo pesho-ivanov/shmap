{
 "cells": [
  {
   "cell_type": "markdown",
   "id": "959bbb85",
   "metadata": {},
   "source": [
    "# Contents\n",
    "\n",
    "* [Read Filtering](#Read-Filtering)\n",
    "\n",
    "# Read Filtering\n",
    "\n",
    "The code in this section describes how the simulated set of reads is filtered to exclude all reads for which edlib finds more than 20 mapping positions.\n",
    "\n",
    "###### Requirements:\n",
    "* Set of simulated reads (`simulations/reads/t2thumanChrY_sr0.00010909090909090909_dr0.0009818181818181818_i0.0009090909090909091_sd7361077429744071834_lmn100_lmx1000000_lavg9000_ls7000_dp10.fasta`)\n",
    "* edlib mapping results for whole read set (`simulations/edlibMappings/t2thumanChrY_sr0.00010909090909090909_dr0.0009818181818181818_i0.0009090909090909091_sd7361077429744071834_lmn100_lmx1000000_lavg9000_ls7000_dp10_ri0-69400.er`)"
   ]
  },
  {
   "cell_type": "code",
   "execution_count": null,
   "id": "1e9ea26e",
   "metadata": {},
   "outputs": [],
   "source": [
    "from Bio import SeqIO\n",
    "\n",
    "edlibResultPath = \"simulations/edlibMappings/t2thumanChrY_sr0.00010909090909090909_dr0.0009818181818181818_i0.0\" + \\\n",
    "\"009090909090909091_sd7361077429744071834_lmn100_lmx1000000_lavg9000_ls7000_dp10_ri0-69400.er\"\n",
    "rarelyMappedReadIds = {}\n",
    "readId = -1\n",
    "resultCounter = 0\n",
    "\n",
    "for l in open(edlibResultPath, 'r'):\n",
    "    if l.startswith(\"simulations/edlibMappings/\"):\n",
    "        if readId > -1 and resultCounter <= 20:\n",
    "            rarelyMappedReadIds[readId] = None\n",
    "            \n",
    "        readId = int(l.split(\"_ri\")[1].split(\".er\")[0])\n",
    "        resultCounter = 0\n",
    "    else:\n",
    "        resultCounter += 1\n",
    "        \n",
    "if resultCounter <= 20:\n",
    "    rarelyMappedReadIds[readId] = None\n",
    "    \n",
    "allReadsPath = \"simulations/reads/t2thumanChrY_sr0.00010909090909090909_dr0.0009818181818181818_i0.000909090909\" + \\\n",
    "\"0909091_sd7361077429744071834_lmn100_lmx1000000_lavg9000_ls7000_dp10.fasta\"\n",
    "    \n",
    "rarelyMappedReadRecords = [r for r in SeqIO.parse(allReadsPath, \"fasta\") if int(r.id) in rarelyMappedReadIds]\n",
    "rarelyMappedReadsFilePath = \"simulations/reads/t2thumanChrY_sr0.00010909090909090909_dr0.0009818181818181818_i0\" + \\\n",
    "\".0009090909090909091_sd7361077429744071834_lmn100_lmx1000000_lavg9000_ls7000_dp10_rm20.fasta\"\n",
    "SeqIO.write(rarelyMappedReadRecords, open(rarelyMappedReadsFilePath, 'w'), \"fasta\")"
   ]
  },
  {
   "cell_type": "code",
   "execution_count": null,
   "id": "d376bc9c",
   "metadata": {},
   "outputs": [],
   "source": []
  }
 ],
 "metadata": {
  "kernelspec": {
   "display_name": "Python 3",
   "language": "python",
   "name": "python3"
  },
  "language_info": {
   "codemirror_mode": {
    "name": "ipython",
    "version": 3
   },
   "file_extension": ".py",
   "mimetype": "text/x-python",
   "name": "python",
   "nbconvert_exporter": "python",
   "pygments_lexer": "ipython3",
   "version": "3.9.5"
  }
 },
 "nbformat": 4,
 "nbformat_minor": 5
}
