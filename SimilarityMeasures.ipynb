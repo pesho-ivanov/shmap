{
 "cells": [
  {
   "cell_type": "code",
   "execution_count": 16,
   "id": "eeb2132a",
   "metadata": {},
   "outputs": [],
   "source": [
    "from glob import glob\n",
    "\n",
    "scores = {\"intersec\": {}, \"algnWoutOffs\": {}}\n",
    "\n",
    "#Iterate over simulation results\n",
    "for m in scores.keys():\n",
    "    for f in glob(f\"../simulations/scores_mes{m}_s20620220951_n100_l10008_m*.txt\"):\n",
    "        #Parse mutation rate from file name\n",
    "        mRate = float(f.split(\"_m\")[2].split(\"_i\")[0])\n",
    "        #Initialize a score list for each mutation rate\n",
    "        scores[m][mRate] = []\n",
    "\n",
    "        for l in open(f, 'r'):\n",
    "            scores[m][mRate].append(int(l))"
   ]
  },
  {
   "cell_type": "code",
   "execution_count": 17,
   "id": "7545b0ca",
   "metadata": {},
   "outputs": [
    {
     "data": {
      "image/png": "[encoded data removed]",
      "text/plain": [
       "<Figure size 432x288 with 1 Axes>"
      ]
     },
     "metadata": {
      "needs_background": "light"
     },
     "output_type": "display_data"
    }
   ],
   "source": [
    "from matplotlib import pyplot as plt\n",
    "from numpy import mean, std\n",
    "\n",
    "rateRange = sorted(scores[\"algnWoutOffs\"].keys())\n",
    "\n",
    "for m in scores.keys():\n",
    "    plt.errorbar(rateRange, [mean(scores[m][r]) for r in rateRange], yerr=[std(scores[m][r]) for r in rateRange], \\\n",
    "                label=m)\n",
    "    \n",
    "plt.title(\"Score vs. Mutation Rate\")\n",
    "plt.xlabel(\"Mutation Rate\")\n",
    "plt.ylabel(\"Score\")\n",
    "plt.legend()\n",
    "plt.show()"
   ]
  },
  {
   "cell_type": "markdown",
   "id": "927b06f9",
   "metadata": {},
   "source": [
    "# Homology Scores"
   ]
  },
  {
   "cell_type": "code",
   "execution_count": 1,
   "id": "09455b4d",
   "metadata": {},
   "outputs": [],
   "source": [
    "#Mapping between a nucleotide character and its bitwise representation\n",
    "NT_IN_BITS = {'A': 0, 'C': 1, 'G': 2, 'T': 3}\n",
    "\n",
    "#This function calculates the hash of a bitwise k-mer representation. The function is influenced by the code of \"The minimizer Jaccard estimator is \n",
    "#biased and inconsistent.\" from Belbasi et al. (function \"minimap2_hash(seed,v,mask)\" in file \"minimap2_hash_uncompiled.py\").\n",
    "def getHash(kmer, mask):\n",
    "    u = kmer & mask\n",
    "    u = ((~u) + (u << 21)) & mask # u = (u<<21)-(u+1) = 77594587*u-1\n",
    "    u = u ^ (u >> 24)\n",
    "    u = ((u + (u << 3)) + (u << 8)) & mask # u *= 265\n",
    "    u = u ^ (u >> 14)\n",
    "    u = ((u + (u << 2)) + (u << 4)) & mask # u *= 21\n",
    "    u = u ^ (u >> 28)\n",
    "    u = (u + (u << 31)) & mask # u *= 2147483649\n",
    "\n",
    "    return u\n",
    "\n",
    "#This function calculates the sketch of a sequence. It is influenced by the code of \"The minimizer Jaccard estimator is biased and inconsistent.\"\n",
    "#from Belbasi et al. (function \"hash_sequence(seq,kmerSize,hashFunc,canonical=False)\" in file \"jaccard_correction_test.py\").\n",
    "def calcSketch(seq, k, thres):\n",
    "    sketch = []\n",
    "\n",
    "    #Calculate mask\n",
    "    mask = (4 ** k) - 1\n",
    "\n",
    "    #Iterate of all k-mers in sequence\n",
    "    for i in range(len(seq) - k + 1):\n",
    "        kmerBits = 0\n",
    "\n",
    "        #Get bit representation of k-mer\n",
    "        for c in seq[i:i+k]:\n",
    "            kmerBits = (kmerBits << 2) + NT_IN_BITS[c]\n",
    "\n",
    "        #Calculate hash\n",
    "        kmerHash = getHash(kmerBits, mask)\n",
    "\n",
    "        #Add hash to sketch if it is small enough\n",
    "        if kmerHash <= thres:\n",
    "            sketch.append((i, kmerHash))\n",
    "\n",
    "    return sketch"
   ]
  },
  {
   "cell_type": "code",
   "execution_count": 46,
   "id": "013f05e3",
   "metadata": {},
   "outputs": [],
   "source": [
    "from glob import glob\n",
    "from math import floor\n",
    "\n",
    "#K-mer length\n",
    "K = 9\n",
    "#Dictionary to store sketches of all texts\n",
    "textSketches = {}\n",
    "    \n",
    "#Calculate sketches of sequences\n",
    "for f in glob(\"../simulations/searchPairs_gn100_rn400_gl1000_rl500_o3_m0*\"):\n",
    "    #Get mutation rate\n",
    "    mRate = float(f.split(\"_m\")[1].split(\"_i\")[0])\n",
    "    #Initialize new list\n",
    "    textSketches[mRate] = []\n",
    "    #Calculate hash threshold\n",
    "    thres = floor(((4 ** K) - 1) * 0.1)\n",
    "    \n",
    "    for l in open(f, 'r'):\n",
    "        textSketches[mRate].append(calcSketch(l.strip().split(' ')[1], K, thres))"
   ]
  },
  {
   "cell_type": "code",
   "execution_count": 53,
   "id": "81ca30db",
   "metadata": {},
   "outputs": [
    {
     "name": "stdout",
     "output_type": "stream",
     "text": [
      "len(coords[mRate]) 100\n",
      "len(coords[mRate]) 100\n",
      "len(coords[mRate]) 100\n",
      "len(coords[mRate]) 100\n",
      "len(coords[mRate]) 100\n",
      "len(coords[mRate]) 100\n",
      "len(coords[mRate]) 100\n",
      "len(coords[mRate]) 100\n",
      "len(coords[mRate]) 100\n",
      "len(coords[mRate]) 100\n",
      "len(coords[mRate]) 100\n"
     ]
    }
   ],
   "source": [
    "##Load found t-homologies##\n",
    "\n",
    "#A dictionary for all scores\n",
    "scores = {}\n",
    "#A dictionary to store the number ob found t-homologies per pair\n",
    "homsPerPair = {}\n",
    "#A dictionary to store the percentage of coverage of real homologies by t-homologies\n",
    "percCovs = {}\n",
    "#A dictionary to store start end stop positions of all t-homologies\n",
    "coords = {}\n",
    "\n",
    "for f in glob(\"../simulations/homologies_gn100_rn400_gl1000_rl500_o3_m0*\"):\n",
    "    #Get mutation rate\n",
    "    mRate = float(f.split(\"_m\")[1].split(\"_i\")[0])\n",
    "    lastPairID = 1\n",
    "    nbHoms = 0\n",
    "    \n",
    "    #Initialize new lists\n",
    "    for d in scores, homsPerPair, percCovs, coords:\n",
    "        d[mRate] = []\n",
    "    \n",
    "    for l in open(f, 'r'):\n",
    "        l.strip()\n",
    "        \n",
    "        if l.startswith(\"Pair\"):\n",
    "            pairID = int(l.split(' ')[1])\n",
    "            coords[mRate].append([])\n",
    "            continue\n",
    "            \n",
    "        if l.startswith('['):\n",
    "            #Get score\n",
    "            scores[mRate].append(int(l.split(' ')[1]))\n",
    "            #Get start position in sequence\n",
    "            start = textSketches[mRate][pairID - 1][int(l.split('[')[1].split(',')[0]) - 1][0]\n",
    "            #Get end position in sequence\n",
    "            end = textSketches[mRate][pairID - 1][int(l.split(',')[1].split(']')[0]) - 1][0]\n",
    "            #Save start and end coordinates\n",
    "            coords[mRate][-1].append((start, end))\n",
    "            #Add sequence coverage\n",
    "            percCovs[mRate].append((end - start) / 5000.)\n",
    "            \n",
    "            #Check if we are dealing with a new pair\n",
    "            if lastPairID != pairID:\n",
    "                homsPerPair[mRate].append(nbHoms)\n",
    "                nbHoms = 0\n",
    "                lastPairID = pairID\n",
    "                \n",
    "            #Count homologies for this pair\n",
    "            nbHoms += 1\n",
    "    \n",
    "    homsPerPair[mRate].append(nbHoms)\n",
    "    \n",
    "    #Testing\n",
    "    #print(\"len(coords[mRate])\", len(coords[mRate]))"
   ]
  },
  {
   "cell_type": "code",
   "execution_count": 48,
   "id": "6a497a6e",
   "metadata": {},
   "outputs": [
    {
     "data": {
      "image/png": "[encoded data removed]",
      "text/plain": [
       "<Figure size 432x288 with 1 Axes>"
      ]
     },
     "metadata": {
      "needs_background": "light"
     },
     "output_type": "display_data"
    }
   ],
   "source": [
    "from matplotlib import pyplot as plt\n",
    "from numpy import mean, std\n",
    "\n",
    "rates = sorted(scores.keys())\n",
    "plt.errorbar(rates, [mean(scores[r]) for r in rates], yerr=[std(scores[r]) for r in rates])    \n",
    "plt.title(\"t-homology Scores vs. Mutation Rate\")\n",
    "plt.xlabel(\"Mutation Rate\")\n",
    "plt.ylabel(\"Score\")\n",
    "plt.show()"
   ]
  },
  {
   "cell_type": "code",
   "execution_count": 49,
   "id": "8db76bf4",
   "metadata": {},
   "outputs": [
    {
     "data": {
      "image/png": "[encoded data removed]",
      "text/plain": [
       "<Figure size 432x288 with 1 Axes>"
      ]
     },
     "metadata": {
      "needs_background": "light"
     },
     "output_type": "display_data"
    }
   ],
   "source": [
    "rates = sorted(homsPerPair.keys())\n",
    "plt.errorbar(rates, [mean(homsPerPair[r]) for r in rates], yerr=[std(homsPerPair[r]) for r in rates])    \n",
    "plt.title(\"t-homologies per Sketch vs. Mutation Rate\")\n",
    "plt.xlabel(\"Mutation Rate\")\n",
    "plt.show()"
   ]
  },
  {
   "cell_type": "code",
   "execution_count": 50,
   "id": "278daa83",
   "metadata": {},
   "outputs": [
    {
     "data": {
      "image/png": "[encoded data removed]",
      "text/plain": [
       "<Figure size 432x288 with 1 Axes>"
      ]
     },
     "metadata": {
      "needs_background": "light"
     },
     "output_type": "display_data"
    }
   ],
   "source": [
    "rates = sorted(percCovs.keys())\n",
    "plt.errorbar(rates, [mean(percCovs[r]) for r in rates], yerr=[std(percCovs[r]) for r in rates])    \n",
    "plt.title(\"t-homology Coverage vs. Mutation Rate\")\n",
    "plt.xlabel(\"Mutation Rate\")\n",
    "plt.ylabel(\"Coverage\")\n",
    "plt.show()"
   ]
  },
  {
   "cell_type": "markdown",
   "id": "45089448",
   "metadata": {},
   "source": [
    "## Find Threshold Score to Find All Homologies"
   ]
  },
  {
   "cell_type": "code",
   "execution_count": 67,
   "id": "68f1c262",
   "metadata": {},
   "outputs": [],
   "source": [
    "#Map scores to coordinates\n",
    "results = {}\n",
    "\n",
    "for m in scores.keys():\n",
    "    results[m] = []\n",
    "    i = 0\n",
    "    \n",
    "    for p in coords[m]:\n",
    "        results[m].append([])\n",
    "        \n",
    "        for c in p:\n",
    "            results[m][-1].append((scores[m][i], c[0], c[1]))\n",
    "            i += 1"
   ]
  },
  {
   "cell_type": "code",
   "execution_count": 68,
   "id": "6cdbb2f9",
   "metadata": {},
   "outputs": [],
   "source": [
    "#Load pattern sketches\n",
    "patternSketches = {}\n",
    "\n",
    "for f in glob(\"../simulations/searchPairs_gn100_rn400_gl1000_rl500_o3_m0*\"):\n",
    "    #Get mutation rate\n",
    "    mRate = float(f.split(\"_m\")[1].split(\"_i\")[0])\n",
    "    #Initialize new list\n",
    "    patternSketches[mRate] = []\n",
    "    #Calculate hash threshold\n",
    "    thres = floor(((4 ** K) - 1) * 0.1)\n",
    "    \n",
    "    for l in open(f, 'r'):\n",
    "        patternSketches[mRate].append(calcSketch(l.strip().split(' ')[0], K, thres))"
   ]
  },
  {
   "cell_type": "code",
   "execution_count": 71,
   "id": "876bdbde",
   "metadata": {},
   "outputs": [
    {
     "name": "stdout",
     "output_type": "stream",
     "text": [
      "{0.01: [[[533, 1481], [2011, 2950], [3512, 4485]], [[503, 1487], [2003, 2981], [3503, 4490]], [[516, 1481], [2009, 2967], [3509, 4479]], [[503, 1500], [2003, 2983], [3513, 4477]], [[501, 1491], [2001, 2987], [3501, 4488]], [[534, 1473], [2005, 2971], [3501, 4473]], [[512, 1490], [2012, 2992], [3513, 4479]], [[524, 1459], [2025, 2979], [3524, 4472]], [[534, 1483], [2008, 2977], [3509, 4483]], [[515, 1457], [2009, 2949], [3510, 4479]], [[510, 1486], [2010, 2977], [3511, 4484]], [[519, 1488], [2018, 2984], [3519, 4457]], [[534, 1485], [2036, 2989], [3536, 4476]], [[510, 1485], [2010, 2986], [3510, 4465]], [[504, 1476], [2004, 2977], [3504, 4482]], [[508, 1468], [2008, 2966], [3507, 4488]], [[532, 1491], [2025, 2982], [3524, 4489]], [[562, 1484], [2005, 2980], [3505, 4488]], [[502, 1413], [2021, 2964], [3523, 4467]], [[500, 1489], [2000, 2974], [3500, 4483]], [[511, 1464], [2004, 2964], [3500, 4465]], [[509, 1488], [2009, 2984], [3526, 4489]], [[537, 1481], [2038, 2984], [3544, 4484]], [[527, 1476], [2006, 2990], [3507, 4490]], [[502, 1475], [2003, 2974], [3503, 4459]], [[526, 1480], [2002, 2975], [3502, 4475]], [[507, 1482], [2007, 2987], [3506, 4487]], [[513, 1464], [2013, 2961], [3513, 4463]], [[506, 1485], [2005, 2986], [3505, 4488]], [[507, 1486], [2007, 2986], [3507, 4488]], [[571, 1480], [2002, 2983], [3502, 4486]], [[534, 1490], [2057, 2985], [3500, 4490]], [[517, 1489], [2001, 2981], [3516, 4479]], [[512, 1479], [2012, 2981], [3523, 4477]], [[506, 1466], [2004, 2973], [3506, 4482]], [[537, 1482], [2027, 2981], [3548, 4469]], [[500, 1458], [2001, 2962], [3500, 4448]], [[512, 1484], [2012, 2966], [3511, 4481]], [[516, 1485], [2006, 2986], [3506, 4487]], [[507, 1453], [2007, 2952], [3507, 4446]], [[519, 1476], [2008, 2974], [3508, 4477]], [[501, 1486], [2001, 2978], [3516, 4488]], [[504, 1473], [2023, 2972], [3504, 4475]], [[509, 1485], [2000, 2980], [3500, 4483]], [[528, 1476], [2012, 2981], [3500, 4429]], [[550, 1483], [2045, 2987], [3546, 4488]], [[520, 1466], [2007, 2988], [3507, 4458]], [[509, 1477], [2009, 2974], [3547, 4476]], [[535, 1483], [2012, 2984], [3512, 4469]], [[503, 1490], [2003, 2981], [3514, 4483]], [[503, 1475], [2005, 2987], [3503, 4472]], [[500, 1474], [2000, 2974], [3515, 4486]], [[511, 1474], [2010, 2961], [3519, 4476]], [[531, 1485], [2032, 2976], [3531, 4460]], [[562, 1485], [2025, 2981], [3510, 4478]], [[505, 1485], [2009, 2984], [3505, 4485]], [[503, 1457], [2003, 2965], [3503, 4468]], [[504, 1456], [2005, 2964], [3505, 4447]], [[511, 1476], [2003, 2978], [3503, 4476]], [[524, 1483], [2016, 2985], [3516, 4474]], [[501, 1474], [2001, 2980], [3513, 4475]], [[533, 1485], [2006, 2988], [3506, 4489]], [[511, 1478], [2033, 2981], [3535, 4486]], [[509, 1483], [2000, 2989], [3510, 4472]], [[500, 1454], [2032, 2964], [3500, 4467]], [[500, 1464], [2000, 2962], [3500, 4465]], [[501, 1466], [2002, 2971], [3501, 4469]], [[518, 1489], [2017, 2984], [3517, 4479]], [[504, 1471], [2004, 2956], [3504, 4469]], [[503, 1486], [2003, 2988], [3503, 4467]], [[530, 1420], [2022, 2955], [3523, 4461]], [[500, 1474], [2013, 2969], [3515, 4464]], [[503, 1458], [2004, 2985], [3504, 4483]], [[500, 1453], [2009, 2952], [3500, 4453]], [[509, 1491], [2009, 2984], [3509, 4474]], [[518, 1471], [2018, 2970], [3525, 4476]], [[520, 1490], [2019, 2983], [3536, 4488]], [[513, 1489], [2014, 2989], [3531, 4487]], [[506, 1488], [2014, 2983], [3506, 4441]], [[514, 1483], [2014, 2984], [3513, 4485]], [[515, 1474], [2015, 2973], [3515, 4466]], [[513, 1471], [2021, 2961], [3513, 4454]], [[511, 1467], [2011, 2967], [3511, 4467]], [[511, 1465], [2010, 2960], [3510, 4472]], [[502, 1469], [2018, 2965], [3502, 4460]], [[518, 1487], [2021, 2986], [3518, 4490]], [[511, 1487], [2011, 2979], [3511, 4481]], [[500, 1466], [2032, 2953], [3500, 4467]], [[509, 1482], [2010, 2979], [3510, 4486]], [[520, 1487], [2032, 2985], [3531, 4481]], [[518, 1483], [2016, 2990], [3502, 4483]], [[533, 1487], [2005, 2987], [3505, 4482]], [[502, 1466], [2002, 2959], [3502, 4471]], [[500, 1477], [2000, 2987], [3500, 4489]], [[502, 1474], [2002, 2969], [3508, 4482]], [[508, 1470], [2011, 2976], [3508, 4477]], [[513, 1437], [2057, 2937], [3513, 4450]], [[535, 1474], [2010, 2976], [3511, 4469]], [[503, 1477], [2004, 2975], [3509, 4481]], [[500, 1482], [2000, 2984], [3500, 4484]]], 0.09: [[[563, 1357], [2007, 2936], [3507, 4474]], [[708, 1449], [2047, 2907], [3787, 4410]], [[638, 1235], [2182, 2866], [4129, 4387]], [[579, 1232], [2051, 2874], [3663, 4413]], [[509, 1362], [2016, 2810], [3510, 4479]], [[534, 1320], [2258, 2620], [3529, 4340]], [[509, 1413], [2025, 2870], [3670, 4375]], [[500, 1444], [2004, 2965], [3559, 4369]], [[553, 1254], [2296, 2867], [3501, 4369]], [[561, 1459], [2018, 2848], [3504, 4242]], [[563, 1487], [2026, 2880], [3612, 4385]], [[515, 1385], [2170, 2956], [3657, 4489]], [[513, 1398], [2056, 2971], [3514, 4354]], [[604, 1308], [2026, 2965], [3513, 4413]], [[502, 1434], [2149, 2900], [3525, 4407]], [[535, 1459], [2454, 2953], [3518, 4462]], [[665, 1405], [2057, 2980], [3613, 4437]], [[615, 1415], [2002, 2810], [3502, 4339]], [[586, 1369], [2034, 2849], [3567, 4341]], [[568, 1168], [2031, 2467], [3509, 4456]], [[526, 1449], [2042, 2841], [3713, 4439]], [[626, 1216], [2140, 2945], [3501, 4473]], [[627, 1442], [2140, 2954], [3551, 4366]], [[537, 1472], [2063, 2814], [3942, 4468]], [[581, 1453], [2192, 2661], [3532, 4462]], [[516, 1364], [2033, 2889], [3595, 4013]], [[529, 1351], [2280, 2935], [3630, 4463]], [[600, 1434], [2094, 2961], [3552, 4394]], [[542, 1409], [2023, 2878], [3519, 4132]], [[553, 1098], [2058, 2967], [4013, 4456]], [[573, 1195], [2007, 2952], [3500, 4451]], [[507, 1434], [2338, 2977], [3522, 4203]], [[566, 1228], [2053, 2924], [3664, 4392]], [[601, 1427], [2450, 2688], [3503, 4342]], [[660, 1042], [2057, 2974], [3592, 4432]], [[680, 1481], [2429, 2833], [3680, 4413]], [[554, 1463], [2115, 2897], [3762, 4482]], [[962, 1369], [2179, 2978], [3768, 4473]], [[507, 1481], [2047, 2830], [3617, 4434]], [[534, 1264], [2079, 2839], [3572, 4304]], [[535, 1491], [2085, 2941], [3513, 4426]], [[719, 1217], [2009, 2973], [3644, 4286]], [[639, 1461], [2067, 2901], [3581, 4205]], [[550, 1410], [2043, 2957], [3581, 4397]], [[537, 1474], [2005, 2920], [3541, 4475]], [[531, 1409], [2089, 2974], [3637, 4470]], [[571, 1375], [2096, 2899], [3588, 4304]], [[545, 1174], [2003, 2963], [3575, 4390]], [[708, 1346], [2073, 2681], [3679, 4360]], [[573, 1388], [2052, 2857], [3675, 4371]], [[505, 1369], [2033, 2981], [3534, 4445]], [[675, 1446], [2198, 2906], [3653, 4423]], [[571, 1392], [2151, 2946], [3557, 4353]], [[593, 1437], [2102, 2944], [3596, 4378]], [[715, 1334], [2151, 2983], [3602, 4392]], [[769, 1399], [2213, 2853], [3504, 4345]], [[1165, 1381], [2109, 2988], [3500, 4414]], [[530, 1436], [2062, 2565], [3537, 4465]], [[585, 1437], [2001, 2866], [3571, 4354]], [[922, 1364], [2073, 2865], [3925, 4429]], [[599, 1336], [2083, 2961], [3520, 4434]], [[721, 1447], [2026, 2872], [3646, 4385]], [[564, 1298], [2036, 2792], [3535, 4414]], [[564, 1442], [2039, 2942], [3540, 4445]], [[511, 1159], [2161, 2889], [3524, 4475]], [[505, 1429], [2005, 2973], [3626, 4461]], [[551, 1482], [2151, 2868], [3625, 4439]], [[531, 1462], [2068, 2729], [3571, 4454]], [[526, 1344], [2027, 2946], [3621, 4416]], [[647, 1430], [2110, 2883], [3529, 4250]], [[551, 1369], [2054, 2986], [3510, 4411]], [[648, 1398], [2187, 2923], [3686, 4477]], [[544, 1412], [2078, 2980], [3615, 4398]], [[594, 1444], [2099, 2938], [3520, 4489]], [[512, 1464], [2043, 2899], [3801, 4469]], [[745, 1444], [2064, 2926], [3589, 4459]], [[589, 1145], [2139, 2945], [3816, 4475]], [[571, 1448], [2007, 2951], [3943, 4073]], [[645, 1446], [2094, 2905], [3608, 4405]], [[555, 1438], [2009, 2855], [3560, 4471]], [[629, 1220], [2044, 2976], [3538, 4413]], [[561, 1411], [2007, 2899], [3678, 4455]], [[631, 1383], [2107, 2949], [3535, 4427]], [[559, 1474], [2236, 2609], [3566, 4471]], [[579, 1489], [2209, 2928], [3568, 4201]], [[560, 1461], [2019, 2978], [3527, 4426]], [[527, 1420], [2110, 2717], [3594, 4484]], [[587, 1435], [2107, 2763], [3507, 4474]], [[617, 1346], [2038, 2934], [3783, 4347]], [[533, 1393], [2057, 2718], [3674, 4453]], [[843, 1442], [2066, 2769], [3542, 4452]], [[811, 1490], [2145, 2877], [3722, 4202]], [[507, 1447], [2187, 2825], [3556, 4285]], [[644, 1366], [2257, 2893], [3566, 4367]], [[692, 1437], [2009, 2765], [3664, 4447]], [[646, 1463], [2012, 2977], [3543, 4386]], [[543, 1416], [2002, 2953], [3593, 4332]], [[590, 1471], [2013, 2887], [3513, 4365]], [[528, 1399], [2011, 2816], [3685, 4357]], [[507, 1420], [2032, 2876], [3510, 4455]]], 0.04: [[[521, 1488], [2059, 2928], [3546, 4491]], [[581, 1445], [2006, 2950], [3514, 4468]], [[525, 1406], [2007, 2980], [3562, 4489]], [[507, 1438], [2001, 2964], [3502, 4456]], [[500, 1477], [2031, 2977], [3500, 4487]], [[612, 1426], [2135, 2949], [3546, 4460]], [[510, 1471], [2049, 2972], [3552, 4468]], [[515, 1457], [2016, 2977], [3534, 4461]], [[509, 1473], [2045, 2970], [3510, 4478]], [[525, 1490], [2010, 2941], [3502, 4473]], [[525, 1434], [2034, 2909], [3506, 4329]], [[522, 1441], [2000, 2960], [3524, 4449]], [[532, 1470], [2036, 2946], [3537, 4450]], [[514, 1335], [2061, 2908], [3513, 4349]], [[540, 1449], [2068, 2960], [3509, 4460]], [[510, 1452], [2046, 2974], [3517, 4411]], [[574, 1466], [2026, 2969], [3504, 4485]], [[509, 1477], [2058, 2933], [3606, 4447]], [[501, 1392], [2013, 2895], [3574, 4406]], [[506, 1389], [2049, 2937], [3505, 4416]], [[531, 1431], [2007, 2960], [3539, 4450]], [[514, 1481], [2015, 2967], [3516, 4476]], [[536, 1490], [2066, 2974], [3511, 4482]], [[603, 1427], [2083, 2930], [3502, 4448]], [[541, 1481], [2022, 2987], [3555, 4483]], [[518, 1466], [2032, 2968], [3553, 4386]], [[524, 1426], [2023, 2881], [3505, 4486]], [[571, 1486], [2004, 2985], [3574, 4482]], [[501, 1463], [2016, 2967], [3527, 4451]], [[525, 1450], [2010, 2989], [3524, 4453]], [[556, 1465], [2026, 2974], [3503, 4470]], [[559, 1462], [2034, 2963], [3531, 4460]], [[504, 1473], [2077, 2984], [3560, 4479]], [[530, 1473], [2000, 2902], [3501, 4477]], [[521, 1460], [2004, 2967], [3506, 4452]], [[534, 1463], [2000, 2965], [3564, 4488]], [[536, 1483], [2036, 2975], [3530, 4376]], [[514, 1477], [2001, 2961], [3549, 4430]], [[519, 1452], [2054, 2925], [3517, 4488]], [[522, 1459], [2033, 2942], [3514, 4427]], [[504, 1469], [2003, 2986], [3570, 4488]], [[546, 1465], [2022, 2883], [3529, 4474]], [[505, 1448], [2005, 2906], [3514, 4468]], [[523, 1421], [2006, 2929], [3510, 4425]], [[535, 1457], [2035, 2903], [3639, 4480]], [[505, 1403], [2012, 2921], [3528, 4422]], [[533, 1465], [2033, 2972], [3540, 4378]], [[525, 1468], [2029, 2984], [3540, 4459]], [[504, 1471], [2004, 2986], [3756, 4457]], [[553, 1409], [2008, 2961], [3557, 4462]], [[508, 1454], [2004, 2969], [3617, 4482]], [[625, 1311], [2003, 2976], [3502, 4469]], [[560, 1455], [2029, 2941], [3586, 4474]], [[552, 1456], [2019, 2975], [3520, 4486]], [[523, 1487], [2062, 2968], [3558, 4481]], [[531, 1451], [2061, 2976], [3530, 4426]], [[501, 1440], [2001, 2933], [3525, 4429]], [[504, 1468], [2050, 2905], [3504, 4455]], [[510, 1448], [2011, 2964], [3592, 4451]], [[569, 1481], [2012, 2981], [3565, 4486]], [[517, 1464], [2024, 2909], [3543, 4399]], [[502, 1457], [2023, 2982], [3503, 4425]], [[531, 1464], [2027, 2981], [3617, 4391]], [[568, 1476], [2016, 2973], [3515, 4474]], [[514, 1485], [2012, 2951], [3540, 4471]], [[523, 1469], [2008, 2981], [3504, 4429]], [[520, 1490], [2006, 2964], [3545, 4474]], [[506, 1474], [2006, 2968], [3530, 4484]], [[527, 1468], [2035, 2975], [3522, 4486]], [[522, 1439], [2010, 2982], [3562, 4462]], [[514, 1478], [2006, 2976], [3506, 4476]], [[519, 1322], [2002, 2992], [3541, 4465]], [[535, 1384], [2036, 2935], [3501, 4487]], [[553, 1483], [2047, 2967], [3553, 4466]], [[506, 1483], [2058, 2961], [3547, 4433]], [[500, 1402], [2036, 2959], [3551, 4430]], [[513, 1475], [2013, 2887], [3513, 4441]], [[534, 1364], [2000, 2951], [3500, 4407]], [[575, 1480], [2015, 2967], [3513, 4400]], [[501, 1470], [2066, 2966], [3501, 4489]], [[516, 1488], [2017, 2964], [3544, 4475]], [[531, 1475], [2064, 2977], [3528, 4477]], [[617, 1475], [2026, 2985], [3527, 4489]], [[530, 1469], [2013, 2964], [3543, 4484]], [[565, 1449], [2084, 2929], [3522, 4475]], [[559, 1432], [2013, 2988], [3582, 4323]], [[520, 1465], [2019, 2922], [3507, 4447]], [[519, 1445], [2033, 2958], [3506, 4394]], [[506, 1464], [2078, 2967], [3516, 4481]], [[500, 1435], [2012, 2987], [3586, 4480]], [[556, 1471], [2030, 2944], [3574, 4457]], [[517, 1437], [2021, 2947], [3515, 4452]], [[513, 1486], [2070, 2959], [3512, 4486]], [[547, 1474], [2006, 2971], [3506, 4402]], [[507, 1485], [2022, 2980], [3507, 4462]], [[535, 1459], [2028, 2987], [3529, 4479]], [[502, 1481], [2001, 2941], [3503, 4429]], [[501, 1484], [2030, 2910], [3501, 4443]], [[513, 1465], [2051, 2986], [3519, 4462]], [[503, 1481], [2012, 2974], [3503, 4482]]], 0.08: [[[605, 1457], [2073, 2964], [3556, 4487]], [[611, 1448], [2046, 2956], [3575, 4454]], [[559, 1466], [2120, 2858], [3554, 4445]], [[589, 1461], [2161, 2953], [3712, 4480]], [[508, 1248], [2099, 2934], [3826, 4330]], [[511, 1336], [2065, 2807], [3500, 4379]], [[539, 1475], [2050, 2969], [3502, 4379]], [[549, 1375], [2125, 2763], [3546, 4443]], [[515, 1204], [2120, 2815], [3558, 4477]], [[559, 1430], [2172, 2881], [3579, 4256]], [[736, 1458], [2162, 2962], [3558, 4480]], [[617, 1419], [2100, 2969], [3511, 4463]], [[522, 1388], [2015, 2826], [3550, 4108]], [[572, 1476], [2216, 2981], [3582, 4238]], [[652, 1466], [2135, 2918], [3669, 4430]], [[626, 1399], [2113, 2950], [3548, 4386]], [[508, 1307], [2052, 2807], [3593, 4432]], [[606, 1283], [2128, 2941], [3577, 4486]], [[622, 1468], [2010, 2864], [3595, 4436]], [[532, 1453], [2132, 2917], [3675, 4413]], [[820, 1417], [2275, 2966], [3502, 4388]], [[597, 1402], [2083, 2943], [3594, 4381]], [[535, 1425], [2040, 2727], [3563, 4320]], [[751, 1399], [2056, 2964], [3566, 4420]], [[713, 1429], [2070, 2939], [3712, 4245]], [[609, 1468], [2018, 2931], [3531, 4463]], [[525, 1454], [2120, 2972], [3525, 4333]], [[542, 1476], [2212, 2546], [3598, 4439]], [[540, 1431], [2002, 2887], [3519, 4292]], [[690, 1430], [2064, 2938], [3756, 4219]], [[536, 1467], [2065, 2916], [3508, 4431]], [[617, 1453], [2008, 2939], [3621, 4465]], [[506, 1475], [2038, 2967], [3557, 4259]], [[593, 1307], [2047, 2980], [3571, 4485]], [[551, 1464], [2054, 2926], [3656, 4415]], [[506, 1477], [2130, 2978], [3593, 4369]], [[521, 1456], [2130, 2860], [3528, 4436]], [[564, 1470], [2001, 2867], [3501, 4446]], [[570, 1370], [2546, 2965], [3596, 4391]], [[541, 1486], [2126, 2843], [3538, 4437]], [[509, 1470], [2117, 2970], [3537, 4431]], [[531, 1431], [2034, 2965], [3551, 4459]], [[630, 1463], [2066, 2880], [3867, 4410]], [[748, 1439], [2056, 2871], [3614, 4399]], [[523, 1447], [2202, 2983], [3561, 4463]], [[545, 1141], [2051, 2962], [3633, 4394]], [[543, 1276], [2163, 2637], [3548, 4455]], [[522, 1401], [2002, 2859], [3606, 4442]], [[652, 1459], [2157, 2921], [3512, 4460]], [[509, 1409], [2085, 2974], [3841, 4456]], [[509, 1445], [2107, 2932], [3561, 4449]], [[768, 1310], [2029, 2969], [3726, 4434]], [[511, 1411], [2010, 2703], [3869, 4443]], [[509, 1445], [2003, 2863], [3567, 4474]], [[515, 1450], [2269, 2747], [3514, 4464]], [[550, 1432], [2280, 2791], [3552, 4405]], [[567, 1403], [2070, 2929], [3710, 4338]], [[574, 1346], [2061, 2896], [3603, 4488]], [[671, 1446], [2031, 2953], [3536, 4438]], [[597, 1380], [2141, 2983], [3577, 4464]], [[570, 1483], [2016, 2956], [3704, 4465]], [[639, 1295], [2015, 2975], [3545, 4452]], [[606, 1355], [2349, 2871], [3580, 4446]], [[608, 1416], [2015, 2912], [3524, 4436]], [[659, 1457], [2112, 2790], [3592, 4447]], [[542, 1481], [2101, 2989], [3564, 4334]], [[548, 1320], [2039, 2981], [3704, 4349]], [[592, 1469], [2027, 2901], [3775, 4322]], [[863, 1164], [2081, 2967], [3504, 4417]], [[588, 1472], [2034, 2933], [3581, 4335]], [[612, 1414], [2004, 2878], [3505, 4448]], [[603, 1456], [2089, 2973], [3552, 4460]], [[502, 1474], [2086, 2938], [3540, 4305]], [[618, 1486], [2045, 2972], [3563, 4474]], [[501, 1206], [2089, 2837], [3580, 4382]], [[539, 1389], [2181, 2923], [3666, 4465]], [[547, 1474], [2048, 2956], [3654, 4346]], [[711, 1354], [2012, 2876], [3511, 4387]], [[642, 1377], [2128, 2988], [3556, 4463]], [[598, 1331], [2001, 2941], [3628, 4442]], [[552, 1384], [2214, 2934], [3550, 4379]], [[592, 1398], [2045, 2845], [3532, 4409]], [[572, 1468], [2058, 2934], [4105, 4458]], [[594, 1438], [2008, 2938], [3530, 4459]], [[639, 1408], [2013, 2914], [3525, 4444]], [[610, 1388], [2020, 2870], [3597, 4458]], [[505, 1373], [2008, 2821], [3575, 4365]], [[674, 1437], [2032, 2970], [3565, 4385]], [[819, 1454], [2231, 2746], [3523, 4459]], [[698, 1405], [2030, 2893], [3530, 4460]], [[522, 1379], [2034, 2942], [3539, 4362]], [[621, 1471], [2151, 2955], [3618, 4482]], [[512, 1375], [2013, 2972], [3674, 4414]], [[527, 1468], [2041, 2694], [3596, 4204]], [[769, 1399], [2005, 2821], [3528, 4414]], [[532, 1452], [2272, 2975], [3687, 4259]], [[559, 1445], [2016, 2703], [3566, 4317]], [[503, 1398], [2025, 2853], [3588, 4384]], [[542, 1445], [2010, 2887], [3732, 4429]], [[676, 1429], [2339, 2898], [3514, 4479]]], 0.07: [[[736, 1479], [2179, 2935], [3593, 4340]], [[535, 1469], [2083, 2977], [3517, 4472]], [[572, 1471], [2072, 2949], [3583, 4437]], [[594, 1336], [2058, 2972], [3574, 4209]], [[542, 1434], [2039, 2901], [3667, 4414]], [[822, 1482], [2057, 2936], [3500, 4468]], [[670, 1441], [2036, 2934], [3504, 4396]], [[501, 1399], [2000, 2970], [3510, 4409]], [[512, 1420], [2106, 2817], [3632, 4311]], [[516, 1442], [2003, 2868], [3558, 4479]], [[504, 1458], [2108, 2877], [3595, 4374]], [[519, 1482], [2005, 2985], [3519, 4241]], [[545, 1452], [2016, 2923], [3547, 4476]], [[501, 1484], [2129, 2954], [3661, 4422]], [[652, 1449], [2061, 2935], [3525, 4449]], [[523, 1438], [2063, 2939], [3596, 4460]], [[524, 1172], [2021, 2846], [3590, 4456]], [[685, 1304], [2013, 2921], [3540, 4447]], [[524, 1252], [2094, 2964], [3523, 4459]], [[506, 1482], [2133, 2963], [3827, 4425]], [[543, 1457], [2060, 2910], [3615, 4377]], [[611, 1451], [2111, 2938], [3579, 4428]], [[515, 1351], [2016, 2870], [3540, 4458]], [[501, 1421], [2173, 2963], [3517, 4420]], [[607, 1448], [2121, 2878], [3632, 4457]], [[532, 1384], [2060, 2759], [3559, 4445]], [[515, 1444], [2053, 2967], [3546, 4425]], [[620, 1417], [2169, 2908], [3533, 4435]], [[505, 1377], [2026, 2956], [3551, 4413]], [[620, 1462], [2306, 2920], [3576, 4385]], [[505, 1406], [2020, 2940], [3520, 4401]], [[531, 1479], [2003, 2985], [3535, 4457]], [[557, 1464], [2088, 2858], [3550, 4122]], [[552, 1282], [2001, 2986], [3648, 4466]], [[512, 1368], [2035, 2867], [3517, 4375]], [[502, 1412], [2020, 2974], [3564, 4452]], [[505, 1439], [2021, 2823], [3505, 4476]], [[569, 1379], [2081, 2931], [3500, 4452]], [[514, 1406], [2057, 2866], [3521, 4482]], [[552, 1445], [2105, 2887], [3519, 4483]], [[532, 1377], [2117, 2936], [3525, 4410]], [[524, 1421], [2024, 2878], [3544, 4374]], [[561, 1411], [2084, 2905], [3554, 4370]], [[520, 1437], [2006, 2991], [3518, 4483]], [[508, 1480], [2017, 2952], [3508, 4416]], [[532, 1474], [2116, 2900], [3643, 4415]], [[541, 1464], [2212, 2778], [3734, 4445]], [[644, 1478], [2028, 2971], [3500, 4440]], [[587, 1421], [2014, 2880], [3628, 4341]], [[523, 1376], [2020, 2980], [3639, 4340]], [[502, 1368], [2000, 2903], [3536, 4452]], [[597, 1402], [2001, 2861], [3654, 4440]], [[518, 1469], [2167, 2991], [3541, 4435]], [[548, 1251], [2057, 2948], [3557, 4450]], [[500, 1498], [2000, 2885], [3535, 4388]], [[582, 1483], [2198, 2844], [3535, 4370]], [[520, 1242], [2112, 2959], [3509, 4422]], [[521, 1452], [2000, 2938], [3660, 4447]], [[527, 1448], [2000, 2973], [3540, 4320]], [[505, 1440], [2050, 2766], [3541, 4249]], [[533, 1357], [2003, 2856], [3632, 4456]], [[509, 1342], [2043, 2893], [3506, 4475]], [[578, 1443], [2060, 2931], [3539, 4452]], [[661, 1418], [2064, 2727], [3554, 4412]], [[574, 1330], [2010, 2967], [3547, 4389]], [[601, 1467], [2081, 2903], [3539, 4361]], [[540, 1459], [2069, 2846], [3549, 4348]], [[502, 1447], [2074, 2866], [3509, 4432]], [[593, 1443], [2003, 2971], [3534, 4390]], [[528, 1443], [2319, 2886], [3600, 4409]], [[510, 1449], [2187, 2909], [3512, 4462]], [[631, 1474], [2015, 2973], [3523, 4475]], [[533, 1426], [2067, 2953], [3565, 4463]], [[526, 1491], [2058, 2957], [3563, 4483]], [[512, 1458], [2094, 2978], [3613, 4464]], [[574, 1467], [2069, 2982], [3606, 4461]], [[523, 1430], [2130, 2942], [3524, 4348]], [[538, 1365], [2067, 2946], [3534, 4287]], [[558, 1469], [2009, 2975], [3519, 4293]], [[595, 1478], [2036, 2860], [3530, 4378]], [[542, 1457], [2009, 2972], [3551, 4457]], [[538, 1458], [2012, 2942], [3608, 4461]], [[514, 1445], [2086, 2905], [3528, 4458]], [[507, 1425], [2002, 2969], [3605, 4398]], [[508, 1452], [2004, 2904], [3592, 4326]], [[557, 1452], [2055, 2961], [3516, 4483]], [[564, 1464], [2032, 2953], [3521, 4436]], [[503, 1359], [2009, 2810], [3511, 4457]], [[552, 1439], [2125, 2959], [3535, 4249]], [[525, 1460], [2107, 2849], [3521, 4301]], [[559, 1471], [2256, 2949], [3556, 4258]], [[516, 1466], [2135, 2968], [3518, 4400]], [[544, 1447], [2037, 2907], [3550, 4433]], [[517, 1391], [2014, 2938], [3517, 4341]], [[526, 1447], [2110, 2783], [3554, 4460]], [[503, 1303], [2024, 2976], [3564, 4471]], [[555, 1484], [2004, 2977], [3677, 4305]], [[530, 1427], [2015, 2961], [3560, 4403]], [[582, 1441], [2038, 2912], [3572, 4369]], [[500, 1466], [2000, 2831], [3500, 4312]]], 0.03: [[[509, 1480], [2054, 2976], [3541, 4480]], [[501, 1456], [2023, 2961], [3582, 4484]], [[528, 1479], [2006, 2964], [3528, 4481]], [[535, 1471], [2037, 2966], [3538, 4480]], [[546, 1482], [2030, 2984], [3546, 4410]], [[531, 1454], [2094, 2937], [3502, 4419]], [[518, 1445], [2048, 2956], [3519, 4472]], [[527, 1456], [2009, 2961], [3510, 4471]], [[536, 1470], [2006, 2975], [3509, 4470]], [[512, 1405], [2000, 2962], [3500, 4484]], [[522, 1441], [2020, 2985], [3520, 4480]], [[568, 1464], [2054, 2967], [3568, 4486]], [[618, 1473], [2004, 2932], [3504, 4468]], [[536, 1487], [2036, 2972], [3574, 4477]], [[555, 1469], [2027, 2932], [3543, 4420]], [[521, 1492], [2048, 2982], [3517, 4487]], [[518, 1485], [2016, 2982], [3517, 4487]], [[509, 1467], [2003, 2983], [3511, 4444]], [[508, 1447], [2035, 2934], [3531, 4418]], [[500, 1480], [2000, 2975], [3500, 4457]], [[501, 1430], [2001, 2908], [3508, 4359]], [[501, 1465], [2013, 2912], [3524, 4460]], [[535, 1494], [2034, 2895], [3561, 4465]], [[505, 1394], [2005, 2918], [3544, 4416]], [[503, 1488], [2003, 2980], [3502, 4478]], [[502, 1456], [2001, 2968], [3550, 4470]], [[542, 1446], [2014, 2967], [3506, 4483]], [[501, 1453], [2008, 2962], [3501, 4470]], [[544, 1472], [2004, 2979], [3545, 4482]], [[507, 1392], [2022, 2922], [3508, 4408]], [[547, 1483], [2011, 2983], [3513, 4482]], [[585, 1487], [2002, 2924], [3619, 4469]], [[510, 1472], [2029, 2964], [3509, 4444]], [[503, 1479], [2003, 2964], [3513, 4480]], [[574, 1474], [2069, 2980], [3513, 4454]], [[599, 1481], [2057, 2957], [3506, 4497]], [[509, 1478], [2070, 2983], [3506, 4476]], [[528, 1423], [2029, 2927], [3538, 4428]], [[514, 1437], [2009, 2961], [3540, 4441]], [[530, 1468], [2040, 2983], [3530, 4488]], [[561, 1479], [2079, 2969], [3591, 4457]], [[514, 1435], [2035, 2979], [3529, 4476]], [[514, 1488], [2014, 2907], [3503, 4487]], [[518, 1482], [2022, 2968], [3523, 4487]], [[517, 1472], [2018, 2987], [3516, 4455]], [[559, 1484], [2078, 2971], [3526, 4473]], [[523, 1448], [2043, 2973], [3548, 4489]], [[539, 1435], [2052, 2969], [3513, 4439]], [[539, 1409], [2037, 2946], [3522, 4478]], [[509, 1473], [2039, 2987], [3560, 4473]], [[515, 1466], [2063, 2962], [3564, 4387]], [[510, 1472], [2009, 2979], [3517, 4445]], [[504, 1457], [2005, 2983], [3506, 4484]], [[513, 1476], [2043, 2978], [3504, 4487]], [[500, 1466], [2013, 2954], [3511, 4445]], [[521, 1477], [2024, 2951], [3560, 4416]], [[532, 1460], [2031, 2967], [3529, 4490]], [[507, 1427], [2007, 2983], [3507, 4445]], [[541, 1455], [2029, 2967], [3528, 4463]], [[501, 1484], [2030, 2954], [3526, 4476]], [[511, 1488], [2030, 2980], [3511, 4490]], [[518, 1453], [2026, 2950], [3555, 4473]], [[536, 1462], [2018, 2945], [3535, 4472]], [[517, 1448], [2041, 2976], [3558, 4461]], [[501, 1486], [2001, 2977], [3501, 4365]], [[536, 1483], [2023, 2969], [3531, 4476]], [[540, 1470], [2048, 2951], [3505, 4377]], [[520, 1336], [2071, 2925], [3527, 4442]], [[506, 1481], [2044, 2973], [3506, 4487]], [[509, 1482], [2020, 2948], [3509, 4476]], [[503, 1493], [2004, 2945], [3503, 4393]], [[511, 1479], [2003, 2991], [3503, 4481]], [[509, 1478], [2009, 2904], [3500, 4409]], [[537, 1453], [2013, 2961], [3518, 4488]], [[529, 1485], [2005, 2959], [3504, 4481]], [[516, 1467], [2037, 2944], [3511, 4481]], [[569, 1439], [2023, 2972], [3587, 4454]], [[505, 1453], [2053, 2930], [3503, 4482]], [[508, 1441], [2008, 2898], [3506, 4448]], [[535, 1480], [2035, 2941], [3530, 4482]], [[535, 1446], [2023, 2979], [3516, 4475]], [[503, 1491], [2003, 2989], [3503, 4488]], [[500, 1456], [2039, 2945], [3590, 4447]], [[533, 1414], [2003, 2968], [3503, 4408]], [[500, 1479], [2014, 2985], [3507, 4484]], [[518, 1466], [2030, 2981], [3518, 4480]], [[549, 1459], [2035, 2866], [3524, 4403]], [[500, 1450], [2000, 2943], [3500, 4456]], [[513, 1441], [2028, 2921], [3531, 4319]], [[500, 1455], [2000, 2958], [3500, 4443]], [[512, 1436], [2043, 2947], [3513, 4453]], [[504, 1490], [2004, 2981], [3504, 4447]], [[543, 1481], [2047, 2978], [3533, 4484]], [[515, 1436], [2015, 2979], [3519, 4483]], [[524, 1480], [2024, 2948], [3533, 4487]], [[508, 1449], [2006, 2944], [3508, 4457]], [[505, 1480], [2009, 2969], [3506, 4491]], [[611, 1467], [2048, 2938], [3520, 4491]], [[542, 1481], [2009, 2980], [3511, 4481]], [[561, 1484], [2030, 2971], [3513, 4421]]], 0.05: [[[535, 1400], [2032, 2791], [3550, 4474]], [[532, 1451], [2005, 2971], [3533, 4445]], [[682, 1480], [2027, 2972], [3526, 4421]], [[533, 1471], [2006, 2976], [3571, 4468]], [[564, 1427], [2066, 2972], [3564, 4454]], [[611, 1467], [2006, 2973], [3764, 4474]], [[503, 1471], [2036, 2926], [3513, 4468]], [[573, 1364], [2032, 2940], [3535, 4345]], [[516, 1452], [2018, 2912], [3535, 4429]], [[541, 1475], [2001, 2968], [3557, 4471]], [[551, 1474], [2013, 2954], [3599, 4445]], [[504, 1465], [2004, 2940], [3510, 4275]], [[595, 1423], [2000, 2962], [3513, 4305]], [[508, 1404], [2032, 2988], [3509, 4485]], [[590, 1460], [2084, 2868], [3589, 4459]], [[538, 1443], [2051, 2927], [3525, 4434]], [[524, 1416], [2015, 2983], [3596, 4415]], [[519, 1476], [2007, 2919], [3508, 4483]], [[527, 1372], [2058, 2933], [3552, 4474]], [[586, 1422], [2012, 2966], [3509, 4464]], [[545, 1413], [2064, 2899], [3501, 4405]], [[512, 1488], [2035, 2949], [3538, 4416]], [[529, 1480], [2044, 2973], [3504, 4481]], [[515, 1452], [2124, 2955], [3621, 4460]], [[564, 1434], [2002, 2963], [3509, 4464]], [[535, 1430], [2001, 2947], [3502, 4360]], [[513, 1469], [2003, 2971], [3512, 4488]], [[610, 1389], [2024, 2985], [3633, 4442]], [[556, 1457], [2029, 2945], [3527, 4366]], [[508, 1463], [2094, 2941], [3522, 4452]], [[511, 1453], [2023, 2985], [3501, 4453]], [[519, 1455], [2034, 2893], [3534, 4407]], [[568, 1401], [2002, 2893], [3504, 4480]], [[523, 1328], [2011, 2978], [3540, 4459]], [[538, 1329], [2026, 2934], [3529, 4358]], [[507, 1407], [2022, 2945], [3507, 4456]], [[535, 1466], [2036, 2972], [3504, 4435]], [[530, 1475], [2035, 2972], [3551, 4484]], [[665, 1449], [2011, 2936], [3605, 4442]], [[502, 1439], [2012, 2933], [3502, 4479]], [[505, 1440], [2005, 2963], [3514, 4409]], [[548, 1454], [2052, 2982], [3532, 4457]], [[527, 1480], [2011, 2986], [3512, 4416]], [[515, 1476], [2088, 2973], [3514, 4415]], [[532, 1445], [2006, 2958], [3506, 4427]], [[524, 1445], [2001, 2964], [3504, 4439]], [[510, 1474], [2029, 2928], [3508, 4437]], [[570, 1406], [2053, 2970], [3504, 4468]], [[585, 1438], [2054, 2943], [3509, 4487]], [[507, 1474], [2074, 2957], [3539, 4448]], [[509, 1419], [2057, 2964], [3509, 4486]], [[503, 1485], [2004, 2988], [3527, 4469]], [[650, 1478], [2003, 2868], [3551, 4402]], [[531, 1417], [2030, 2980], [3505, 4472]], [[501, 1464], [2107, 2920], [3591, 4429]], [[501, 1423], [2041, 2979], [3501, 4478]], [[628, 1464], [2067, 2956], [3631, 4457]], [[577, 1426], [2011, 2938], [3528, 4471]], [[511, 1448], [2015, 2974], [3516, 4404]], [[549, 1477], [2019, 2945], [3526, 4460]], [[523, 1479], [2036, 2974], [3530, 4437]], [[548, 1442], [2012, 2934], [3515, 4371]], [[500, 1475], [2067, 2972], [3501, 4473]], [[569, 1472], [2047, 2926], [3500, 4474]], [[514, 1481], [2005, 2970], [3557, 4469]], [[532, 1453], [2006, 2991], [3518, 4421]], [[585, 1456], [2011, 2968], [3576, 4479]], [[604, 1476], [2060, 2973], [3605, 4442]], [[561, 1446], [2136, 2965], [3547, 4431]], [[509, 1452], [2010, 2979], [3633, 4329]], [[539, 1472], [2008, 2986], [3526, 4470]], [[545, 1441], [2007, 2961], [3511, 4435]], [[600, 1444], [2122, 2986], [3510, 4427]], [[682, 1431], [2129, 2943], [3515, 4312]], [[502, 1460], [2002, 2956], [3536, 4450]], [[616, 1476], [2020, 2843], [3520, 4449]], [[518, 1471], [2052, 2952], [3568, 4466]], [[500, 1484], [2063, 2960], [3575, 4470]], [[528, 1461], [2057, 2970], [3519, 4412]], [[502, 1340], [2120, 2980], [3643, 4469]], [[500, 1480], [2029, 2955], [3542, 4451]], [[532, 1476], [2026, 2919], [3530, 4437]], [[511, 1449], [2008, 2980], [3575, 4453]], [[539, 1487], [2009, 2970], [3556, 4458]], [[585, 1477], [2012, 2943], [3510, 4403]], [[558, 1474], [2028, 2959], [3526, 4397]], [[523, 1456], [2026, 2979], [3523, 4472]], [[520, 1454], [2050, 2977], [3531, 4467]], [[501, 1459], [2001, 2965], [3501, 4488]], [[577, 1473], [2047, 2952], [3518, 4488]], [[513, 1468], [2008, 2932], [3512, 4471]], [[539, 1435], [2092, 2951], [3513, 4416]], [[500, 1447], [2043, 2950], [3513, 4363]], [[550, 1374], [2040, 2906], [3572, 4402]], [[606, 1427], [2021, 2967], [3547, 4405]], [[503, 1392], [2061, 2933], [3564, 4466]], [[514, 1479], [2002, 2956], [3522, 4413]], [[513, 1474], [2061, 2940], [3516, 4446]], [[677, 1429], [2145, 2983], [3503, 4479]], [[513, 1465], [2007, 2977], [3506, 4419]]], 0.1: [[[588, 1423], [2070, 2709], [3566, 4476]], [[606, 1395], [2121, 2790], [3746, 4486]], [[549, 1334], [2148, 2935], [3835, 4485]], [[544, 1104], [2036, 2927], [3562, 4262]], [[512, 1474], [2012, 2940], [3512, 4312]], [[659, 1372], [2248, 2954], [3552, 4238]], [[728, 1365], [2201, 2874], [3502, 4246]], [[723, 1254], [2043, 2780], [3518, 4136]], [[810, 1282], [2057, 2983], [3732, 4487]], [[830, 1136], [2171, 2949], [3717, 4389]], [[559, 1114], [2036, 2903], [3536, 4435]], [[661, 1434], [2148, 2976], [3982, 4404]], [[744, 1489], [2169, 2968], [3525, 4474]], [[549, 1251], [2037, 2931], [3623, 4122]], [[528, 1477], [2026, 2935], [3513, 4487]], [[892, 1462], [2233, 2890], [3589, 4393]], [[609, 1103], [2016, 2877], [3504, 4442]], [[794, 1439], [2000, 2883], [3574, 4425]], [[1003, 1418], [2079, 2751], [3579, 4350]], [[686, 1121], [2035, 2518], [3534, 4403]], [[665, 1058], [2024, 2891], [3758, 4299]], [[632, 1465], [2464, 2843], [4128, 4259]], [[652, 1447], [2051, 2984], [3549, 4476]], [[560, 1280], [2077, 2908], [3504, 4068]], [[582, 1459], [2068, 2867], [3523, 4321]], [[524, 1378], [2099, 2876], [3519, 4422]], [[652, 1451], [2307, 2910], [3566, 4388]], [[505, 1383], [2722, 2853], [3527, 4323]], [[838, 1395], [2017, 2995], [3654, 4474]], [[771, 1413], [2014, 2989], [3546, 4486]], [[838, 1181], [2565, 2922], [3573, 4356]], [[1279, 1476], [2036, 2853], [3610, 4443]], [[520, 1366], [2067, 2872], [3884, 4367]], [[851, 1459], [2101, 2956], [3539, 4413]], [[649, 1459], [2154, 2947], [3820, 4232]], [[739, 1464], [2051, 2933], [3694, 4428]], [[734, 1410], [2063, 2733], [3585, 4400]], [[585, 1258], [2013, 2854], [3750, 4453]], [[585, 1247], [2130, 2519], [3506, 4327]], [[556, 1457], [2122, 2892], [3527, 4432]], [[624, 1438], [2123, 2731], [3523, 4251]], [[824, 1482], [2156, 2899], [3722, 4351]], [[1006, 1251], [2092, 2801], [3579, 4354]], [[632, 1481], [2118, 2984], [3582, 4450]], [[720, 1467], [2017, 2895], [4082, 4438]], [[549, 1438], [2466, 2756], [3897, 4160]], [[547, 1301], [2293, 2981], [3802, 4421]], [[563, 894], [2057, 2845], [3574, 4377]], [[531, 1459], [2060, 2889], [3516, 4387]], [[509, 1383], [2177, 2980], [3639, 4324]], [[603, 1327], [2003, 2895], [3503, 4475]], [[560, 1484], [2224, 2892], [3848, 4414]], [[641, 1369], [2019, 2887], [3500, 4459]], [[518, 1365], [2088, 2803], [3550, 4069]], [[787, 1434], [2074, 2916], [3592, 4312]], [[509, 1408], [2001, 2937], [3501, 4354]], [[763, 1392], [2405, 2951], [3645, 4418]], [[907, 1293], [2162, 2937], [3748, 4407]], [[549, 1029], [2049, 2959], [3591, 4109]], [[580, 1428], [2214, 2835], [3677, 4445]], [[506, 1266], [2170, 2876], [3921, 4307]], [[633, 1339], [2102, 2948], [3533, 4378]], [[550, 1425], [2082, 2947], [3542, 4362]], [[577, 1480], [2159, 2973], [3829, 4381]], [[538, 1457], [2369, 2975], [3577, 4279]], [[507, 1465], [2489, 2973], [3931, 4435]], [[623, 1129], [2001, 2785], [3539, 4303]], [[508, 1480], [2024, 2789], [3503, 4376]], [[774, 1429], [2128, 2823], [3797, 4307]], [[563, 1496], [2101, 2697], [3671, 4467]], [[546, 1321], [2075, 2877], [3513, 4409]], [[591, 1366], [2556, 2878], [3644, 4401]], [[571, 1217], [2034, 2951], [3575, 4432]], [[771, 1377], [2067, 2962], [3567, 4419]], [[797, 1332], [2095, 2922], [3568, 4322]], [[655, 1378], [2052, 2846], [3555, 4278]], [[574, 1362], [2032, 2638], [3570, 4108]], [[566, 1413], [2114, 2872], [3575, 4232]], [[734, 1403], [2280, 2899], [3521, 4125]], [[817, 1406], [2026, 2891], [3546, 4354]], [[515, 1446], [2017, 2971], [3853, 4450]], [[682, 1347], [2124, 2655], [3611, 4158]], [[593, 1424], [2111, 2919], [3609, 4479]], [[910, 1391], [2082, 2889], [3647, 4122]], [[599, 1446], [2458, 2854], [3578, 4408]], [[659, 1264], [2075, 2913], [3764, 4364]], [[635, 1207], [2008, 2914], [3666, 4418]], [[609, 1463], [2065, 2913], [3692, 4410]], [[500, 1411], [2159, 2900], [3644, 4415]], [[546, 1321], [2074, 2747], [3603, 4492]], [[784, 1283], [2005, 2863], [3661, 4266]], [[722, 1399], [2052, 2914], [3665, 4405]], [[823, 1364], [2163, 2881], [3578, 4431]], [[527, 1406], [2074, 2954], [3656, 4253]], [[527, 1418], [2069, 2887], [3623, 4428]], [[504, 1409], [2070, 2912], [3575, 4469]], [[706, 1118], [2094, 2869], [3757, 4382]], [[525, 1398], [2054, 2903], [3531, 4457]], [[501, 1340], [2011, 2857], [3520, 4353]], [[657, 1480], [2018, 2760], [3600, 4215]]], 0.06: [[[616, 1468], [2010, 2951], [3503, 4380]], [[568, 1360], [2060, 2976], [3734, 4429]], [[589, 1436], [2005, 2930], [3573, 4445]], [[653, 1465], [2079, 2942], [3592, 4480]], [[641, 1387], [2001, 2970], [3703, 4260]], [[531, 1451], [2109, 2981], [3529, 4467]], [[538, 1435], [2005, 2901], [3509, 4429]], [[577, 1469], [2030, 2951], [3575, 4352]], [[587, 1449], [2104, 2950], [3643, 4479]], [[511, 1475], [2020, 2981], [3500, 4431]], [[517, 1373], [2021, 2902], [3525, 4425]], [[545, 1445], [2007, 2843], [3566, 4353]], [[521, 1467], [2002, 2849], [3519, 4381]], [[621, 1461], [2064, 2924], [3550, 4474]], [[633, 1253], [2015, 2975], [3527, 4450]], [[655, 1407], [2130, 2919], [3559, 4455]], [[578, 1472], [2065, 2961], [3527, 4344]], [[541, 1357], [2020, 2984], [3511, 4449]], [[536, 1342], [2044, 2968], [3536, 4448]], [[500, 1377], [2020, 2975], [3534, 4418]], [[511, 1491], [2060, 2971], [3540, 4456]], [[532, 1464], [2096, 2903], [3532, 4462]], [[530, 1465], [2043, 2975], [3504, 4457]], [[519, 1390], [2023, 2926], [3522, 4401]], [[502, 1441], [2059, 2910], [3504, 4412]], [[580, 1471], [2020, 2975], [3521, 4462]], [[645, 1142], [2028, 2931], [3543, 4458]], [[568, 1450], [2117, 2938], [3528, 4481]], [[553, 1441], [2022, 2944], [3592, 4474]], [[589, 1402], [2010, 2972], [3523, 4467]], [[595, 1421], [2009, 2754], [3524, 4356]], [[529, 1482], [2006, 2971], [3506, 4407]], [[507, 1481], [2035, 2922], [3508, 4484]], [[698, 1473], [2030, 2925], [3527, 4446]], [[517, 1476], [2016, 2918], [3611, 4481]], [[597, 1445], [2108, 2972], [3502, 4471]], [[538, 1449], [2042, 2895], [3585, 4236]], [[533, 1467], [2072, 2944], [3533, 4470]], [[533, 1442], [2037, 2977], [3633, 4334]], [[609, 1450], [2088, 2959], [3582, 4477]], [[506, 1447], [2080, 2929], [3566, 4404]], [[605, 1273], [2017, 2980], [3533, 4447]], [[560, 1454], [2173, 2941], [3545, 4440]], [[663, 1433], [2039, 2967], [3804, 4419]], [[541, 1459], [2024, 2958], [3503, 4389]], [[529, 1378], [2062, 2974], [3548, 4467]], [[538, 1483], [2015, 2948], [3516, 4475]], [[556, 1461], [2061, 2958], [3634, 4450]], [[508, 1473], [2021, 2980], [3629, 4479]], [[514, 1464], [2113, 2958], [3532, 4450]], [[560, 1449], [2164, 2975], [3518, 4455]], [[525, 1458], [2030, 2922], [3515, 4465]], [[608, 1455], [2029, 2747], [3602, 4306]], [[593, 1446], [2007, 2800], [3596, 4440]], [[566, 1390], [2059, 2967], [3666, 4325]], [[514, 1327], [2012, 2985], [3549, 4464]], [[507, 1432], [2007, 2876], [3585, 4428]], [[693, 1479], [2016, 2973], [3501, 4473]], [[515, 1436], [2210, 2879], [3501, 4461]], [[550, 1480], [2003, 2999], [3549, 4408]], [[550, 1479], [2144, 2904], [3525, 4483]], [[500, 1370], [2000, 2737], [3500, 4439]], [[524, 1486], [2145, 2977], [3501, 4463]], [[504, 1464], [2004, 2965], [3504, 4364]], [[516, 1455], [2097, 2989], [3549, 4488]], [[615, 1486], [2017, 2960], [3574, 4438]], [[566, 1477], [2030, 2898], [3521, 4477]], [[539, 1478], [2046, 2955], [3683, 4315]], [[509, 1477], [2062, 2874], [3539, 4468]], [[502, 1462], [2038, 2954], [3508, 4411]], [[625, 1428], [2136, 2741], [3566, 4383]], [[518, 1466], [2101, 2944], [3523, 4483]], [[508, 1468], [2112, 2978], [3522, 4488]], [[511, 1457], [2001, 2900], [3561, 4455]], [[501, 1465], [2067, 2852], [3557, 4265]], [[520, 1446], [2152, 2974], [3521, 4476]], [[515, 1481], [2018, 2905], [3557, 4425]], [[581, 1466], [2002, 2970], [3503, 4413]], [[503, 1445], [2033, 2933], [3520, 4468]], [[554, 1300], [2024, 2952], [3616, 4386]], [[509, 1397], [2011, 2918], [3550, 4456]], [[521, 1434], [2073, 2905], [3510, 4480]], [[500, 1479], [2031, 2972], [3531, 4459]], [[585, 1460], [2081, 2951], [3542, 4420]], [[500, 1450], [2018, 2919], [3521, 4481]], [[549, 1434], [2143, 2974], [3504, 4460]], [[538, 1402], [2029, 2919], [3511, 4482]], [[532, 1479], [2046, 2941], [3600, 4470]], [[547, 1383], [2023, 2972], [3536, 4452]], [[523, 1371], [2019, 2948], [3510, 4334]], [[504, 1431], [2017, 2929], [3545, 4445]], [[508, 1423], [2122, 2888], [3509, 4478]], [[531, 1461], [2025, 2908], [3555, 4405]], [[558, 1457], [2126, 2895], [3504, 4384]], [[609, 1446], [2004, 2954], [3539, 4402]], [[556, 1482], [2088, 2980], [3541, 4484]], [[543, 1420], [2337, 2988], [3632, 4398]], [[519, 1433], [2040, 2840], [3550, 4430]], [[541, 1439], [2042, 2966], [3540, 4420]], [[527, 1344], [2025, 2910], [3539, 4452]]], 0.02: [[[517, 1476], [2002, 2972], [3502, 4466]], [[504, 1470], [2004, 2963], [3541, 4448]], [[502, 1483], [2002, 2938], [3528, 4483]], [[500, 1453], [2032, 2941], [3510, 4453]], [[510, 1455], [2010, 2980], [3509, 4479]], [[536, 1474], [2008, 2986], [3598, 4484]], [[523, 1467], [2003, 2986], [3503, 4460]], [[510, 1471], [2011, 2979], [3597, 4483]], [[502, 1482], [2003, 2961], [3502, 4455]], [[502, 1487], [2029, 2986], [3502, 4482]], [[504, 1460], [2012, 2986], [3504, 4481]], [[531, 1455], [2000, 2948], [3502, 4474]], [[552, 1485], [2041, 2944], [3541, 4481]], [[514, 1486], [2016, 2985], [3509, 4482]], [[517, 1461], [2000, 2954], [3501, 4464]], [[505, 1478], [2006, 2987], [3518, 4411]], [[501, 1482], [2040, 2934], [3501, 4488]], [[503, 1383], [2022, 2953], [3520, 4466]], [[524, 1484], [2004, 2980], [3503, 4463]], [[527, 1479], [2000, 2967], [3534, 4476]], [[555, 1483], [2013, 2980], [3514, 4476]], [[517, 1484], [2003, 2974], [3503, 4458]], [[502, 1460], [2002, 2959], [3502, 4467]], [[502, 1450], [2018, 2972], [3527, 4476]], [[542, 1460], [2010, 2980], [3574, 4465]], [[511, 1485], [2004, 2974], [3504, 4458]], [[524, 1483], [2034, 2986], [3540, 4485]], [[503, 1479], [2004, 2984], [3536, 4485]], [[512, 1448], [2012, 2982], [3513, 4484]], [[554, 1487], [2051, 2969], [3503, 4454]], [[500, 1468], [2000, 2992], [3507, 4483]], [[528, 1460], [2014, 2919], [3530, 4421]], [[529, 1472], [2030, 2960], [3529, 4489]], [[521, 1457], [2018, 2975], [3516, 4467]], [[512, 1470], [2013, 2984], [3522, 4489]], [[519, 1475], [2007, 2977], [3505, 4489]], [[502, 1444], [2019, 2964], [3516, 4434]], [[521, 1471], [2001, 2976], [3501, 4467]], [[519, 1472], [2021, 2956], [3561, 4440]], [[513, 1481], [2005, 2988], [3507, 4463]], [[500, 1478], [2000, 2965], [3513, 4474]], [[513, 1484], [2004, 2950], [3531, 4473]], [[564, 1476], [2035, 2977], [3565, 4479]], [[502, 1447], [2002, 2954], [3502, 4453]], [[547, 1480], [2008, 2972], [3520, 4484]], [[513, 1388], [2012, 2936], [3512, 4475]], [[518, 1465], [2018, 2966], [3547, 4478]], [[506, 1486], [2006, 2970], [3506, 4477]], [[522, 1458], [2000, 2915], [3522, 4457]], [[513, 1473], [2012, 2987], [3513, 4487]], [[510, 1425], [2026, 2960], [3502, 4487]], [[505, 1454], [2006, 2978], [3558, 4474]], [[526, 1395], [2001, 2978], [3501, 4489]], [[500, 1469], [2026, 2985], [3500, 4444]], [[505, 1476], [2019, 2964], [3553, 4475]], [[549, 1461], [2006, 2979], [3548, 4480]], [[525, 1442], [2024, 2960], [3524, 4459]], [[501, 1476], [2008, 2988], [3501, 4482]], [[525, 1486], [2033, 2979], [3525, 4480]], [[563, 1467], [2013, 2974], [3515, 4423]], [[500, 1483], [2004, 2976], [3500, 4437]], [[500, 1477], [2000, 2979], [3500, 4456]], [[542, 1469], [2008, 2961], [3546, 4488]], [[500, 1491], [2013, 2977], [3500, 4492]], [[507, 1488], [2003, 2987], [3507, 4451]], [[526, 1452], [2026, 2973], [3502, 4457]], [[538, 1457], [2035, 2967], [3537, 4381]], [[503, 1485], [2002, 2975], [3502, 4457]], [[525, 1381], [2036, 2976], [3525, 4480]], [[512, 1422], [2009, 2946], [3508, 4444]], [[515, 1465], [2031, 2983], [3515, 4467]], [[502, 1476], [2002, 2986], [3502, 4471]], [[502, 1461], [2020, 2976], [3502, 4457]], [[511, 1487], [2039, 2982], [3530, 4458]], [[540, 1442], [2019, 2976], [3520, 4461]], [[514, 1472], [2022, 2980], [3514, 4466]], [[520, 1428], [2011, 2974], [3532, 4483]], [[527, 1393], [2027, 2951], [3527, 4428]], [[523, 1431], [2088, 2980], [3554, 4474]], [[517, 1473], [2015, 2976], [3508, 4468]], [[516, 1474], [2015, 2980], [3517, 4472]], [[514, 1478], [2024, 2986], [3514, 4475]], [[506, 1487], [2038, 2972], [3517, 4480]], [[501, 1431], [2024, 2898], [3503, 4442]], [[508, 1486], [2074, 2961], [3526, 4490]], [[589, 1483], [2001, 2977], [3619, 4487]], [[505, 1486], [2066, 2980], [3505, 4475]], [[512, 1481], [2004, 2977], [3503, 4478]], [[552, 1345], [2028, 2988], [3525, 4473]], [[504, 1479], [2004, 2980], [3504, 4480]], [[501, 1477], [2001, 2989], [3502, 4470]], [[523, 1470], [2027, 2969], [3530, 4486]], [[509, 1475], [2113, 2957], [3508, 4475]], [[500, 1479], [2040, 2977], [3500, 4478]], [[507, 1467], [2008, 2977], [3538, 4482]], [[503, 1480], [2062, 2948], [3501, 4485]], [[515, 1455], [2003, 2969], [3503, 4493]], [[508, 1473], [2008, 2982], [3508, 4474]], [[510, 1464], [2013, 2944], [3510, 4458]], [[508, 1485], [2030, 2989], [3528, 4482]]], 0.0: [[[511, 1467], [2011, 2967], [3511, 4467]], [[522, 1477], [2022, 2977], [3522, 4477]], [[511, 1490], [2011, 2990], [3511, 4490]], [[502, 1490], [2002, 2990], [3502, 4490]], [[502, 1463], [2002, 2963], [3502, 4463]], [[506, 1491], [2006, 2991], [3506, 4491]], [[500, 1485], [2000, 2985], [3500, 4485]], [[500, 1490], [2000, 2990], [3500, 4490]], [[509, 1484], [2009, 2984], [3509, 4484]], [[501, 1490], [2001, 2990], [3501, 4490]], [[501, 1481], [2001, 2981], [3501, 4481]], [[516, 1473], [2016, 2973], [3516, 4473]], [[503, 1489], [2003, 2989], [3503, 4489]], [[502, 1490], [2002, 2990], [3502, 4490]], [[507, 1491], [2007, 2991], [3507, 4491]], [[511, 1485], [2011, 2985], [3511, 4485]], [[503, 1484], [2003, 2984], [3503, 4484]], [[526, 1481], [2026, 2981], [3526, 4481]], [[506, 1482], [2006, 2982], [3506, 4482]], [[503, 1481], [2003, 2981], [3503, 4481]], [[545, 1491], [2045, 2991], [3545, 4491]], [[506, 1486], [2006, 2986], [3506, 4486]], [[511, 1484], [2011, 2984], [3511, 4484]], [[501, 1487], [2001, 2987], [3501, 4487]], [[511, 1488], [2011, 2988], [3511, 4488]], [[530, 1485], [2030, 2985], [3530, 4485]], [[508, 1481], [2008, 2981], [3508, 4481]], [[504, 1456], [2004, 2956], [3504, 4456]], [[523, 1449], [2023, 2949], [3523, 4449]], [[508, 1486], [2008, 2986], [3508, 4486]], [[515, 1489], [2015, 2989], [3515, 4489]], [[502, 1485], [2002, 2985], [3502, 4485]], [[524, 1485], [2024, 2985], [3524, 4485]], [[504, 1477], [2004, 2977], [3504, 4477]], [[500, 1477], [2000, 2977], [3500, 4477]], [[506, 1440], [2006, 2940], [3506, 4440]], [[504, 1480], [2004, 2980], [3504, 4480]], [[523, 1490], [2023, 2990], [3523, 4490]], [[521, 1491], [2021, 2991], [3521, 4491]], [[511, 1482], [2011, 2982], [3511, 4482]], [[508, 1485], [2008, 2985], [3508, 4485]], [[503, 1486], [2003, 2986], [3503, 4486]], [[510, 1487], [2010, 2987], [3510, 4487]], [[503, 1489], [2003, 2989], [3503, 4489]], [[504, 1481], [2004, 2981], [3504, 4481]], [[504, 1486], [2004, 2986], [3504, 4486]], [[504, 1485], [2004, 2985], [3504, 4485]], [[508, 1486], [2008, 2986], [3508, 4486]], [[511, 1489], [2011, 2989], [3511, 4489]], [[531, 1468], [2031, 2968], [3531, 4468]], [[506, 1435], [2006, 2935], [3506, 4435]], [[519, 1490], [2019, 2990], [3519, 4490]], [[507, 1477], [2007, 2977], [3507, 4477]], [[510, 1482], [2010, 2982], [3510, 4482]], [[502, 1481], [2002, 2981], [3502, 4481]], [[500, 1484], [2000, 2984], [3500, 4484]], [[505, 1489], [2005, 2989], [3505, 4489]], [[503, 1489], [2003, 2989], [3503, 4489]], [[504, 1486], [2004, 2986], [3504, 4486]], [[502, 1486], [2002, 2986], [3502, 4486]], [[515, 1469], [2015, 2969], [3515, 4469]], [[508, 1488], [2008, 2988], [3508, 4488]], [[506, 1491], [2006, 2991], [3506, 4491]], [[528, 1484], [2028, 2984], [3528, 4484]], [[501, 1491], [2001, 2991], [3501, 4491]], [[524, 1483], [2024, 2983], [3524, 4483]], [[501, 1487], [2001, 2987], [3501, 4487]], [[510, 1490], [2010, 2990], [3510, 4490]], [[510, 1453], [2010, 2953], [3510, 4453]], [[528, 1486], [2028, 2986], [3528, 4486]], [[503, 1463], [2003, 2963], [3503, 4463]], [[500, 1484], [2000, 2984], [3500, 4484]], [[530, 1489], [2030, 2989], [3530, 4489]], [[511, 1452], [2011, 2952], [3511, 4452]], [[510, 1487], [2010, 2987], [3510, 4487]], [[505, 1466], [2005, 2966], [3505, 4466]], [[503, 1489], [2003, 2989], [3503, 4489]], [[507, 1485], [2007, 2985], [3507, 4485]], [[507, 1490], [2007, 2990], [3507, 4490]], [[500, 1474], [2000, 2974], [3500, 4474]], [[526, 1479], [2026, 2979], [3526, 4479]], [[520, 1485], [2020, 2985], [3520, 4485]], [[512, 1487], [2012, 2987], [3512, 4487]], [[516, 1486], [2016, 2986], [3516, 4486]], [[509, 1487], [2009, 2987], [3509, 4487]], [[506, 1476], [2006, 2976], [3506, 4476]], [[524, 1470], [2024, 2970], [3524, 4470]], [[520, 1486], [2020, 2986], [3520, 4486]], [[509, 1468], [2009, 2968], [3509, 4468]], [[507, 1483], [2007, 2983], [3507, 4483]], [[511, 1485], [2011, 2985], [3511, 4485]], [[502, 1485], [2002, 2985], [3502, 4485]], [[501, 1488], [2001, 2988], [3501, 4488]], [[500, 1486], [2000, 2986], [3500, 4486]], [[500, 1474], [2000, 2974], [3500, 4474]], [[512, 1485], [2012, 2985], [3512, 4485]], [[505, 1468], [2005, 2968], [3505, 4468]], [[508, 1491], [2008, 2991], [3508, 4491]], [[501, 1490], [2001, 2990], [3501, 4490]], [[512, 1484], [2012, 2984], [3512, 4484]]]}\n"
     ]
    }
   ],
   "source": [
    "#Calculate initial homology intervals\n",
    "homInts = {}\n",
    "\n",
    "for m in results.keys():\n",
    "    homInts[m] = []\n",
    "    \n",
    "    for i in range(len(textSketches[m])):\n",
    "        patternHashes = [p[1] for p in patternSketches[m][i]]\n",
    "        homInts[m].append([])\n",
    "        nextHomStart = 500\n",
    "        nextHomEnd = 1500\n",
    "        \n",
    "        for h in textSketches[m][i]:\n",
    "            if nextHomStart < nextHomEnd:\n",
    "                if h[1] in patternHashes and h[0] >= nextHomStart and h[0] <= nextHomEnd:\n",
    "                    homInts[m][i].append([h[0], h[0]])\n",
    "                    nextHomStart += 1500\n",
    "            else:\n",
    "                if h[1] in patternHashes and h[0] <= nextHomEnd:\n",
    "                    homInts[m][i][-1][1] = h[0]\n",
    "                \n",
    "                if h[0] > nextHomEnd:\n",
    "                    nextHomEnd += 1500"
   ]
  },
  {
   "cell_type": "code",
   "execution_count": 95,
   "id": "b7ee8dbc",
   "metadata": {},
   "outputs": [
    {
     "name": "stdout",
     "output_type": "stream",
     "text": [
      "res: (232, 493, 4457)\n",
      "intervals: [[511, 1467], [2011, 2967], [3511, 4467]]\n",
      "newIntervals: [[4458, 4467]]\n",
      "res: (269, 474, 4473)\n",
      "intervals: [[522, 1477], [2022, 2977], [3522, 4477]]\n",
      "newIntervals: [[4474, 4477]]\n",
      "res: (322, 493, 4477)\n",
      "intervals: [[511, 1490], [2011, 2990], [3511, 4490]]\n",
      "newIntervals: [[4478, 4490]]\n",
      "res: (320, 495, 4483)\n",
      "intervals: [[502, 1490], [2002, 2990], [3502, 4490]]\n",
      "newIntervals: [[4484, 4490]]\n",
      "res: (305, 194, 4483)\n",
      "intervals: [[4484, 4490]]\n",
      "newIntervals: [[4484, 4490]]\n",
      "res: (351, 464, 4460)\n",
      "intervals: [[502, 1463], [2002, 2963], [3502, 4463]]\n",
      "newIntervals: [[4461, 4463]]\n",
      "res: (313, 487, 4485)\n",
      "intervals: [[506, 1491], [2006, 2991], [3506, 4491]]\n",
      "newIntervals: [[4486, 4491]]\n",
      "res: (299, 487, 4582)\n",
      "intervals: [[4486, 4491]]\n",
      "newIntervals: []\n",
      "res: (323, 488, 4472)\n",
      "intervals: [[500, 1485], [2000, 2985], [3500, 4485]]\n",
      "newIntervals: [[4473, 4485]]\n",
      "res: (300, 488, 4733)\n",
      "intervals: [[4473, 4485]]\n",
      "newIntervals: []\n",
      "res: (207, 495, 4489)\n",
      "intervals: [[500, 1490], [2000, 2990], [3500, 4490]]\n",
      "newIntervals: [[4490, 4490]]\n",
      "res: (312, 493, 4483)\n",
      "intervals: [[509, 1484], [2009, 2984], [3509, 4484]]\n",
      "newIntervals: [[4484, 4484]]\n",
      "res: (287, 496, 4489)\n",
      "intervals: [[501, 1490], [2001, 2990], [3501, 4490]]\n",
      "newIntervals: [[4490, 4490]]\n",
      "res: (327, 455, 4475)\n",
      "intervals: [[501, 1481], [2001, 2981], [3501, 4481]]\n",
      "newIntervals: [[4476, 4481]]\n",
      "res: (323, 455, 4548)\n",
      "intervals: [[4476, 4481]]\n",
      "newIntervals: []\n",
      "res: (326, 499, 4458)\n",
      "intervals: [[516, 1473], [2016, 2973], [3516, 4473]]\n",
      "newIntervals: [[4459, 4473]]\n",
      "res: (285, 495, 4484)\n",
      "intervals: [[503, 1489], [2003, 2989], [3503, 4489]]\n",
      "newIntervals: [[4485, 4489]]\n",
      "res: (257, 473, 4479)\n",
      "intervals: [[502, 1490], [2002, 2990], [3502, 4490]]\n",
      "newIntervals: [[4480, 4490]]\n",
      "res: (255, 487, 4468)\n",
      "intervals: [[507, 1491], [2007, 2991], [3507, 4491]]\n",
      "newIntervals: [[4469, 4491]]\n",
      "res: (243, 488, 4481)\n",
      "intervals: [[511, 1485], [2011, 2985], [3511, 4485]]\n",
      "newIntervals: [[4482, 4485]]\n",
      "res: (315, 493, 4479)\n",
      "intervals: [[503, 1484], [2003, 2984], [3503, 4484]]\n",
      "newIntervals: [[4480, 4484]]\n",
      "res: (268, 499, 4477)\n",
      "intervals: [[526, 1481], [2026, 2981], [3526, 4481]]\n",
      "newIntervals: [[4478, 4481]]\n",
      "res: (357, 495, 4471)\n",
      "intervals: [[506, 1482], [2006, 2982], [3506, 4482]]\n",
      "newIntervals: [[4472, 4482]]\n",
      "res: (314, 498, 4479)\n",
      "intervals: [[503, 1481], [2003, 2981], [3503, 4481]]\n",
      "newIntervals: [[4480, 4481]]\n",
      "res: (304, 408, 4479)\n",
      "intervals: [[4480, 4481]]\n",
      "newIntervals: [[4480, 4481]]\n",
      "res: (298, 494, 4490)\n",
      "intervals: [[545, 1491], [2045, 2991], [3545, 4491]]\n",
      "newIntervals: [[4491, 4491]]\n",
      "res: (357, 494, 4483)\n",
      "intervals: [[506, 1486], [2006, 2986], [3506, 4486]]\n",
      "newIntervals: [[4484, 4486]]\n",
      "res: (383, 499, 4483)\n",
      "intervals: [[511, 1484], [2011, 2984], [3511, 4484]]\n",
      "newIntervals: [[4484, 4484]]\n",
      "res: (310, 490, 4461)\n",
      "intervals: [[501, 1487], [2001, 2987], [3501, 4487]]\n",
      "newIntervals: [[4462, 4487]]\n",
      "res: (262, 37, 4461)\n",
      "intervals: [[4462, 4487]]\n",
      "newIntervals: [[4462, 4487]]\n",
      "res: (321, 499, 4474)\n",
      "intervals: [[511, 1488], [2011, 2988], [3511, 4488]]\n",
      "newIntervals: [[4475, 4488]]\n",
      "res: (300, 478, 4475)\n",
      "intervals: [[530, 1485], [2030, 2985], [3530, 4485]]\n",
      "newIntervals: [[4476, 4485]]\n",
      "res: (304, 495, 4478)\n",
      "intervals: [[508, 1481], [2008, 2981], [3508, 4481]]\n",
      "newIntervals: [[4479, 4481]]\n",
      "res: (279, 489, 4452)\n",
      "intervals: [[504, 1456], [2004, 2956], [3504, 4456]]\n",
      "newIntervals: [[4453, 4456]]\n",
      "res: (288, 497, 4448)\n",
      "intervals: [[523, 1449], [2023, 2949], [3523, 4449]]\n",
      "newIntervals: [[4449, 4449]]\n",
      "res: (310, 489, 4467)\n",
      "intervals: [[508, 1486], [2008, 2986], [3508, 4486]]\n",
      "newIntervals: [[4468, 4486]]\n",
      "res: (296, 493, 4485)\n",
      "intervals: [[515, 1489], [2015, 2989], [3515, 4489]]\n",
      "newIntervals: [[4486, 4489]]\n",
      "res: (298, 493, 4450)\n",
      "intervals: [[502, 1485], [2002, 2985], [3502, 4485]]\n",
      "newIntervals: [[4451, 4485]]\n",
      "res: (282, 258, 4450)\n",
      "intervals: [[4451, 4485]]\n",
      "newIntervals: [[4451, 4485]]\n",
      "res: (283, 494, 4481)\n",
      "intervals: [[524, 1485], [2024, 2985], [3524, 4485]]\n",
      "newIntervals: [[4482, 4485]]\n",
      "res: (297, 497, 4467)\n",
      "intervals: [[504, 1477], [2004, 2977], [3504, 4477]]\n",
      "newIntervals: [[4468, 4477]]\n",
      "res: (286, 499, 4477)\n",
      "intervals: [[500, 1477], [2000, 2977], [3500, 4477]]\n",
      "newIntervals: []\n",
      "res: (247, 491, 4428)\n",
      "intervals: [[506, 1440], [2006, 2940], [3506, 4440]]\n",
      "newIntervals: [[4429, 4440]]\n",
      "res: (210, 91, 4428)\n",
      "intervals: [[4429, 4440]]\n",
      "newIntervals: [[4429, 4440]]\n",
      "res: (319, 489, 4465)\n",
      "intervals: [[504, 1480], [2004, 2980], [3504, 4480]]\n",
      "newIntervals: [[4466, 4480]]\n",
      "res: (288, 144, 4465)\n",
      "intervals: [[4466, 4480]]\n",
      "newIntervals: [[4466, 4480]]\n",
      "res: (308, 498, 4485)\n",
      "intervals: [[523, 1490], [2023, 2990], [3523, 4490]]\n",
      "newIntervals: [[4486, 4490]]\n",
      "res: (298, 498, 4578)\n",
      "intervals: [[4486, 4490]]\n",
      "newIntervals: []\n",
      "res: (270, 498, 4463)\n",
      "intervals: [[521, 1491], [2021, 2991], [3521, 4491]]\n",
      "newIntervals: [[4464, 4491]]\n",
      "res: (266, 405, 4463)\n",
      "intervals: [[4464, 4491]]\n",
      "newIntervals: [[4464, 4491]]\n",
      "res: (227, 498, 4944)\n",
      "intervals: [[4464, 4491]]\n",
      "newIntervals: []\n",
      "res: (326, 489, 4456)\n",
      "intervals: [[511, 1482], [2011, 2982], [3511, 4482]]\n",
      "newIntervals: [[4457, 4482]]\n",
      "res: (268, 487, 4469)\n",
      "intervals: [[508, 1485], [2008, 2985], [3508, 4485]]\n",
      "newIntervals: [[4470, 4485]]\n",
      "res: (286, 497, 4467)\n",
      "intervals: [[503, 1486], [2003, 2986], [3503, 4486]]\n",
      "newIntervals: [[4468, 4486]]\n",
      "res: (267, 479, 4473)\n",
      "intervals: [[510, 1487], [2010, 2987], [3510, 4487]]\n",
      "newIntervals: [[4474, 4487]]\n",
      "res: (256, 479, 4603)\n",
      "intervals: [[4474, 4487]]\n",
      "newIntervals: []\n",
      "res: (298, 492, 4485)\n",
      "intervals: [[503, 1489], [2003, 2989], [3503, 4489]]\n",
      "newIntervals: [[4486, 4489]]\n",
      "res: (225, 498, 4478)\n",
      "intervals: [[504, 1481], [2004, 2981], [3504, 4481]]\n",
      "newIntervals: [[4479, 4481]]\n",
      "res: (309, 485, 4479)\n",
      "intervals: [[504, 1486], [2004, 2986], [3504, 4486]]\n",
      "newIntervals: [[4480, 4486]]\n",
      "res: (325, 495, 4470)\n",
      "intervals: [[504, 1485], [2004, 2985], [3504, 4485]]\n",
      "newIntervals: [[4471, 4485]]\n",
      "res: (323, 495, 4485)\n",
      "intervals: [[508, 1486], [2008, 2986], [3508, 4486]]\n",
      "newIntervals: [[4486, 4486]]\n",
      "res: (334, 494, 4484)\n",
      "intervals: [[511, 1489], [2011, 2989], [3511, 4489]]\n",
      "newIntervals: [[4485, 4489]]\n",
      "res: (247, 483, 4459)\n",
      "intervals: [[531, 1468], [2031, 2968], [3531, 4468]]\n",
      "newIntervals: [[4460, 4468]]\n",
      "res: (234, 252, 4459)\n",
      "intervals: [[4460, 4468]]\n",
      "newIntervals: [[4460, 4468]]\n",
      "res: (284, 475, 4430)\n",
      "intervals: [[506, 1435], [2006, 2935], [3506, 4435]]\n",
      "newIntervals: [[4431, 4435]]\n",
      "res: (256, 475, 4780)\n",
      "intervals: [[4431, 4435]]\n",
      "newIntervals: []\n",
      "res: (324, 498, 4483)\n",
      "intervals: [[519, 1490], [2019, 2990], [3519, 4490]]\n",
      "newIntervals: [[4484, 4490]]\n",
      "res: (302, 199, 4483)\n",
      "intervals: [[4484, 4490]]\n",
      "newIntervals: [[4484, 4490]]\n",
      "res: (320, 496, 4464)\n",
      "intervals: [[507, 1477], [2007, 2977], [3507, 4477]]\n",
      "newIntervals: [[4465, 4477]]\n",
      "res: (278, 496, 4476)\n",
      "intervals: [[510, 1482], [2010, 2982], [3510, 4482]]\n",
      "newIntervals: [[4477, 4482]]\n",
      "res: (283, 487, 4473)\n",
      "intervals: [[502, 1481], [2002, 2981], [3502, 4481]]\n",
      "newIntervals: [[4474, 4481]]\n",
      "res: (306, 499, 4478)\n",
      "intervals: [[500, 1484], [2000, 2984], [3500, 4484]]\n",
      "newIntervals: [[4479, 4484]]\n",
      "res: (292, 499, 4600)\n",
      "intervals: [[4479, 4484]]\n",
      "newIntervals: []\n",
      "res: (296, 495, 4486)\n",
      "intervals: [[505, 1489], [2005, 2989], [3505, 4489]]\n",
      "newIntervals: [[4487, 4489]]\n",
      "res: (268, 205, 4486)\n",
      "intervals: [[4487, 4489]]\n",
      "newIntervals: [[4487, 4489]]\n",
      "res: (334, 493, 4488)\n",
      "intervals: [[503, 1489], [2003, 2989], [3503, 4489]]\n",
      "newIntervals: [[4489, 4489]]\n",
      "res: (253, 497, 4456)\n",
      "intervals: [[504, 1486], [2004, 2986], [3504, 4486]]\n",
      "newIntervals: [[4457, 4486]]\n",
      "res: (207, 497, 4960)\n",
      "intervals: [[4457, 4486]]\n",
      "newIntervals: []\n",
      "res: (300, 489, 4471)\n",
      "intervals: [[502, 1486], [2002, 2986], [3502, 4486]]\n",
      "newIntervals: [[4472, 4486]]\n",
      "res: (256, 475, 4451)\n",
      "intervals: [[515, 1469], [2015, 2969], [3515, 4469]]\n",
      "newIntervals: [[4452, 4469]]\n",
      "res: (282, 491, 4486)\n",
      "intervals: [[508, 1488], [2008, 2988], [3508, 4488]]\n",
      "newIntervals: [[4487, 4488]]\n",
      "res: (375, 468, 4490)\n",
      "intervals: [[506, 1491], [2006, 2991], [3506, 4491]]\n",
      "newIntervals: [[4491, 4491]]\n",
      "res: (362, 468, 4630)\n",
      "intervals: [[4491, 4491]]\n",
      "newIntervals: []\n",
      "res: (286, 497, 4474)\n",
      "intervals: [[528, 1484], [2028, 2984], [3528, 4484]]\n",
      "newIntervals: [[4475, 4484]]\n",
      "res: (248, 495, 4471)\n",
      "intervals: [[501, 1491], [2001, 2991], [3501, 4491]]\n",
      "newIntervals: [[4472, 4491]]\n",
      "res: (203, 495, 4930)\n",
      "intervals: [[4472, 4491]]\n",
      "newIntervals: []\n",
      "res: (238, 499, 4477)\n",
      "intervals: [[524, 1483], [2024, 2983], [3524, 4483]]\n",
      "newIntervals: [[4478, 4483]]\n",
      "res: (210, 259, 4477)\n",
      "intervals: [[4478, 4483]]\n",
      "newIntervals: [[4478, 4483]]\n",
      "res: (262, 498, 4476)\n",
      "intervals: [[501, 1487], [2001, 2987], [3501, 4487]]\n",
      "newIntervals: [[4477, 4487]]\n",
      "res: (329, 498, 4483)\n",
      "intervals: [[510, 1490], [2010, 2990], [3510, 4490]]\n",
      "newIntervals: [[4484, 4490]]\n",
      "res: (345, 489, 4445)\n",
      "intervals: [[510, 1453], [2010, 2953], [3510, 4453]]\n",
      "newIntervals: [[4446, 4453]]\n",
      "res: (264, 497, 4481)\n",
      "intervals: [[528, 1486], [2028, 2986], [3528, 4486]]\n",
      "newIntervals: [[4482, 4486]]\n",
      "res: (222, 159, 4481)\n",
      "intervals: [[4482, 4486]]\n",
      "newIntervals: [[4482, 4486]]\n",
      "res: (296, 480, 4455)\n",
      "intervals: [[503, 1463], [2003, 2963], [3503, 4463]]\n",
      "newIntervals: [[4456, 4463]]\n",
      "res: (283, 350, 4455)\n",
      "intervals: [[4456, 4463]]\n",
      "newIntervals: [[4456, 4463]]\n",
      "res: (346, 495, 4483)\n",
      "intervals: [[500, 1484], [2000, 2984], [3500, 4484]]\n",
      "newIntervals: [[4484, 4484]]\n",
      "res: (335, 495, 4671)\n",
      "intervals: [[4484, 4484]]\n",
      "newIntervals: []\n",
      "res: (321, 492, 4484)\n",
      "intervals: [[530, 1489], [2030, 2989], [3530, 4489]]\n",
      "newIntervals: [[4485, 4489]]\n",
      "res: (277, 490, 4447)\n",
      "intervals: [[511, 1452], [2011, 2952], [3511, 4452]]\n",
      "newIntervals: [[4448, 4452]]\n",
      "res: (243, 493, 4482)\n",
      "intervals: [[510, 1487], [2010, 2987], [3510, 4487]]\n",
      "newIntervals: [[4483, 4487]]\n",
      "res: (359, 499, 4465)\n",
      "intervals: [[505, 1466], [2005, 2966], [3505, 4466]]\n",
      "newIntervals: [[4466, 4466]]\n",
      "res: (296, 488, 4478)\n",
      "intervals: [[503, 1489], [2003, 2989], [3503, 4489]]\n",
      "newIntervals: [[4479, 4489]]\n",
      "res: (279, 273, 4478)\n",
      "intervals: [[4479, 4489]]\n",
      "newIntervals: [[4479, 4489]]\n",
      "res: (351, 489, 4484)\n",
      "intervals: [[507, 1485], [2007, 2985], [3507, 4485]]\n",
      "newIntervals: [[4485, 4485]]\n",
      "res: (329, 489, 4722)\n",
      "intervals: [[4485, 4485]]\n",
      "newIntervals: []\n",
      "res: (261, 499, 4487)\n",
      "intervals: [[507, 1490], [2007, 2990], [3507, 4490]]\n",
      "newIntervals: [[4488, 4490]]\n",
      "res: (228, 499, 4873)\n",
      "intervals: [[4488, 4490]]\n",
      "newIntervals: []\n",
      "res: (264, 496, 4464)\n",
      "intervals: [[500, 1474], [2000, 2974], [3500, 4474]]\n",
      "newIntervals: [[4465, 4474]]\n",
      "res: (307, 496, 4478)\n",
      "intervals: [[526, 1479], [2026, 2979], [3526, 4479]]\n",
      "newIntervals: [[4479, 4479]]\n",
      "res: (340, 491, 4525)\n",
      "intervals: [[520, 1485], [2020, 2985], [3520, 4485]]\n",
      "newIntervals: []\n",
      "res: (328, 489, 4481)\n",
      "intervals: [[512, 1487], [2012, 2987], [3512, 4487]]\n",
      "newIntervals: [[4482, 4487]]\n",
      "res: (319, 399, 4481)\n",
      "intervals: [[4482, 4487]]\n",
      "newIntervals: [[4482, 4487]]\n",
      "res: (257, 490, 4474)\n",
      "intervals: [[516, 1486], [2016, 2986], [3516, 4486]]\n",
      "newIntervals: [[4475, 4486]]\n",
      "res: (334, 495, 4480)\n",
      "intervals: [[509, 1487], [2009, 2987], [3509, 4487]]\n",
      "newIntervals: [[4481, 4487]]\n",
      "res: (242, 491, 4472)\n",
      "intervals: [[506, 1476], [2006, 2976], [3506, 4476]]\n",
      "newIntervals: [[4473, 4476]]\n",
      "res: (256, 495, 4461)\n",
      "intervals: [[524, 1470], [2024, 2970], [3524, 4470]]\n",
      "newIntervals: [[4462, 4470]]\n",
      "res: (289, 498, 4483)\n",
      "intervals: [[520, 1486], [2020, 2986], [3520, 4486]]\n",
      "newIntervals: [[4484, 4486]]\n",
      "res: (283, 493, 4466)\n",
      "intervals: [[509, 1468], [2009, 2968], [3509, 4468]]\n",
      "newIntervals: [[4467, 4468]]\n",
      "res: (312, 480, 4463)\n",
      "intervals: [[507, 1483], [2007, 2983], [3507, 4483]]\n",
      "newIntervals: [[4464, 4483]]\n",
      "res: (301, 359, 4463)\n",
      "intervals: [[4464, 4483]]\n",
      "newIntervals: [[4464, 4483]]\n",
      "res: (279, 19, 4463)\n",
      "intervals: [[4464, 4483]]\n",
      "newIntervals: [[4464, 4483]]\n",
      "res: (365, 495, 4480)\n",
      "intervals: [[511, 1485], [2011, 2985], [3511, 4485]]\n",
      "newIntervals: [[4481, 4485]]\n",
      "res: (355, 495, 4578)\n",
      "intervals: [[4481, 4485]]\n",
      "newIntervals: []\n",
      "res: (377, 482, 4469)\n",
      "intervals: [[502, 1485], [2002, 2985], [3502, 4485]]\n",
      "newIntervals: [[4470, 4485]]\n",
      "res: (338, 482, 4868)\n",
      "intervals: [[4470, 4485]]\n",
      "newIntervals: []\n",
      "res: (317, 471, 4485)\n",
      "intervals: [[501, 1488], [2001, 2988], [3501, 4488]]\n",
      "newIntervals: [[4486, 4488]]\n",
      "res: (308, 471, 4558)\n",
      "intervals: [[4486, 4488]]\n",
      "newIntervals: []\n",
      "res: (265, 472, 4481)\n",
      "intervals: [[500, 1486], [2000, 2986], [3500, 4486]]\n",
      "newIntervals: [[4482, 4486]]\n",
      "res: (221, 496, 4465)\n",
      "intervals: [[500, 1474], [2000, 2974], [3500, 4474]]\n",
      "newIntervals: [[4466, 4474]]\n",
      "res: (269, 497, 4472)\n",
      "intervals: [[512, 1485], [2012, 2985], [3512, 4485]]\n",
      "newIntervals: [[4473, 4485]]\n",
      "res: (288, 492, 4413)\n",
      "intervals: [[505, 1468], [2005, 2968], [3505, 4468]]\n",
      "newIntervals: [[4414, 4468]]\n",
      "res: (286, 463, 4413)\n",
      "intervals: [[4414, 4468]]\n",
      "newIntervals: [[4414, 4468]]\n",
      "res: (261, 155, 4413)\n",
      "intervals: [[4414, 4468]]\n",
      "newIntervals: [[4414, 4468]]\n",
      "res: (233, 478, 4478)\n",
      "intervals: [[508, 1491], [2008, 2991], [3508, 4491]]\n",
      "newIntervals: [[4479, 4491]]\n",
      "res: (322, 492, 4489)\n",
      "intervals: [[501, 1490], [2001, 2990], [3501, 4490]]\n",
      "newIntervals: [[4490, 4490]]\n",
      "res: (228, 494, 4481)\n",
      "intervals: [[512, 1484], [2012, 2984], [3512, 4484]]\n",
      "newIntervals: [[4482, 4484]]\n"
     ]
    }
   ],
   "source": [
    "from math import inf\n",
    "\n",
    "#Find threshold score\n",
    "minScores = {}\n",
    "\n",
    "for m in [0]:\n",
    "    minScore = inf\n",
    "    \n",
    "    for i in range(len(results[m])):\n",
    "        pairResults = sorted(results[m][i], key=lambda r: r[0], reverse=True)\n",
    "        \n",
    "        #Testing\n",
    "        #print(m, pairResults[-1])\n",
    "        \n",
    "        intervals = list(homInts[m][i])\n",
    "        \n",
    "        while pairResults and intervals:\n",
    "            res = pairResults.pop(0)\n",
    "            newIntervals = []\n",
    "            \n",
    "            for intv in intervals:\n",
    "                if res[1] >= intv[0] and res[1] <= intv[1]:\n",
    "                    if res[1] - intv[0] > 0:\n",
    "                        newIntervals.append([intv[0], res[1] - 1])\n",
    "                if res[2] >= intv[0] and res[2] < intv[1]:\n",
    "                    newIntervals.append([res[2] + 1, intv[1]])\n",
    "                if res[1] > intv[1]:\n",
    "                    newIntervals.append(intv)\n",
    "                if res[2] < intv[0]:\n",
    "                    newIntervals.append(intv)\n",
    "                      \n",
    "            #Testing\n",
    "            print(\"res:\", res)\n",
    "            print(\"intervals:\", intervals)\n",
    "            print(\"newIntervals:\", newIntervals)\n",
    "            \n",
    "            intervals = newIntervals\n",
    "            \n",
    "            if minScore > res[0]:\n",
    "                minScore = res[0]\n",
    "                \n",
    "    minScores[m] = minScore"
   ]
  },
  {
   "cell_type": "code",
   "execution_count": 79,
   "id": "ba12a1f7",
   "metadata": {},
   "outputs": [
    {
     "data": {
      "text/plain": [
       "{0.01: 85,\n",
       " 0.09: -433,\n",
       " 0.04: -189,\n",
       " 0.08: -407,\n",
       " 0.07: -362,\n",
       " 0.03: -141,\n",
       " 0.05: -269,\n",
       " 0.1: -448,\n",
       " 0.06: -303,\n",
       " 0.02: -37,\n",
       " 0.0: 203}"
      ]
     },
     "execution_count": 79,
     "metadata": {},
     "output_type": "execute_result"
    }
   ],
   "source": [
    "minScores"
   ]
  },
  {
   "cell_type": "code",
   "execution_count": 81,
   "id": "5f196777",
   "metadata": {},
   "outputs": [
    {
     "name": "stdout",
     "output_type": "stream",
     "text": [
      "0.01 85\n",
      "0.09 -449\n",
      "0.04 -200\n",
      "0.08 -416\n",
      "0.07 -399\n",
      "0.03 -141\n",
      "0.05 -317\n",
      "0.1 -450\n",
      "0.06 -345\n",
      "0.02 -37\n",
      "0.0 203\n"
     ]
    }
   ],
   "source": [
    "for m in results.keys():\n",
    "    print(m, min([r[0] for p in results[m] for r in p]))"
   ]
  },
  {
   "cell_type": "code",
   "execution_count": 93,
   "id": "6e51ade7",
   "metadata": {},
   "outputs": [
    {
     "name": "stdout",
     "output_type": "stream",
     "text": [
      "[[(24, 493, 4457), (105, 1968, 4457), (168, 3499, 4457), (87, 493, 2957), (168, 1968, 2957), (168, 493, 1457)], [(87, 474, 4473), (150, 1996, 4473), (180, 3499, 4473), (117, 474, 2973), (180, 1996, 2973), (180, 474, 1473)], [(128, 493, 4477), (161, 1995, 4477), (208, 3495, 4477), (175, 493, 2977), (208, 1995, 2977), (208, 493, 1477)], [(57, 194, 4483), (104, 495, 4483), (141, 1992, 4483), (214, 3496, 4483), (130, 194, 2983), (177, 495, 2983), (214, 1992, 2983), (167, 194, 1483), (214, 495, 1483)], [(173, 464, 4460), (207, 1999, 4460), (220, 3477, 4460), (186, 464, 2960), (220, 1999, 2960), (220, 464, 1460)], [(87, 487, 4582), (133, 1993, 4582), (158, 3494, 4582), (131, 487, 4485), (177, 1993, 4485), (202, 3494, 4485), (156, 487, 2985), (202, 1993, 2985), (202, 487, 1485)], [(58, 488, 4733), (73, 1993, 4733), (139, 3485, 4733), (129, 488, 4472), (144, 1993, 4472), (210, 3485, 4472), (195, 488, 2972), (210, 1993, 2972), (210, 488, 1472)], [(-11, 495, 4489), (72, 1994, 4489), (158, 3499, 4489), (75, 495, 2989), (158, 1994, 2989), (158, 495, 1489)], [(104, 493, 4483), (141, 1989, 4483), (208, 3481, 4483), (171, 493, 2983), (208, 1989, 2983), (208, 493, 1483)], [(59, 496, 4489), (135, 1998, 4489), (200, 3495, 4489), (124, 496, 2989), (200, 1998, 2989), (200, 496, 1489)], [(139, 455, 4548), (145, 1991, 4548), (191, 3498, 4548), (153, 455, 4475), (159, 1991, 4475), (205, 3498, 4475), (158, 455, 3141), (164, 1991, 3141), (199, 455, 2975), (205, 1991, 2975), (206, 455, 1475)], [(122, 499, 4458), (177, 1996, 4458), (214, 3486, 4458), (159, 499, 2958), (214, 1996, 2958), (214, 499, 1458)], [(63, 495, 4484), (117, 1996, 4484), (198, 3496, 4484), (144, 495, 2984), (198, 1996, 2984), (198, 495, 1484)], [(43, 473, 4479), (99, 1996, 4479), (182, 3495, 4479), (126, 473, 2979), (182, 1996, 2979), (182, 473, 1479)], [(55, 487, 4468), (65, 1763, 4468), (120, 1983, 4468), (176, 3489, 4468), (111, 487, 2968), (121, 1763, 2968), (176, 1983, 2968), (132, 487, 1606), (176, 487, 1468)], [(57, 488, 4481), (105, 1996, 4481), (168, 3440, 4481), (120, 488, 2981), (168, 1996, 2981), (168, 488, 1481)], [(89, 493, 4479), (144, 1994, 4479), (214, 3496, 4479), (159, 493, 2979), (214, 1994, 2979), (214, 493, 1479)], [(94, 499, 4477), (122, 1987, 4477), (177, 3467, 4477), (149, 499, 2977), (177, 1987, 2977), (177, 499, 1477)], [(175, 495, 4471), (195, 1995, 4471), (224, 3499, 4471), (204, 495, 2971), (224, 1995, 2971), (224, 495, 1471)], [(86, 408, 4479), (118, 498, 4479), (171, 1998, 4479), (206, 3495, 4479), (121, 408, 2979), (153, 498, 2979), (206, 1998, 2979), (174, 408, 1479), (206, 498, 1479)], [(110, 494, 4490), (159, 1996, 4490), (195, 3489, 4490), (146, 494, 2990), (195, 1996, 2990), (195, 494, 1490)], [(177, 494, 4483), (188, 1967, 4483), (223, 3499, 4483), (212, 494, 2983), (223, 1967, 2983), (223, 494, 1483)], [(179, 499, 4483), (211, 1985, 4483), (242, 3499, 4483), (181, 499, 3113), (213, 1985, 3113), (210, 499, 2983), (242, 1985, 2983), (242, 499, 1483)], [(-16, 37, 4461), (130, 490, 4461), (174, 1997, 4461), (200, 3492, 4461), (10, 37, 2961), (156, 490, 2961), (200, 1997, 2961), (54, 37, 1461), (200, 490, 1461)], [(105, 499, 4474), (151, 1947, 4474), (165, 1998, 4474), (214, 3496, 4474), (154, 499, 2974), (200, 1947, 2974), (214, 1998, 2974), (214, 499, 1474)], [(124, 478, 4475), (159, 1957, 4475), (194, 3499, 4475), (159, 478, 2975), (194, 1957, 2975), (194, 478, 1475)], [(120, 495, 4478), (168, 1964, 4478), (198, 3488, 4478), (150, 495, 2978), (198, 1964, 2978), (198, 495, 1478)], [(61, 489, 4452), (102, 1999, 4452), (194, 3475, 4452), (153, 489, 2952), (194, 1999, 2952), (194, 489, 1452)], [(64, 497, 4448), (125, 1980, 4448), (199, 3491, 4448), (138, 497, 2948), (199, 1980, 2948), (199, 497, 1448)], [(104, 489, 4467), (139, 1950, 4467), (153, 1986, 4467), (206, 3487, 4467), (157, 489, 2967), (192, 1950, 2967), (206, 1986, 2967), (206, 489, 1467)], [(80, 493, 4485), (156, 1978, 4485), (202, 3477, 4485), (126, 493, 2985), (202, 1978, 2985), (202, 493, 1485)], [(40, 258, 4450), (90, 493, 4450), (142, 1994, 4450), (200, 3498, 4450), (98, 258, 2950), (148, 493, 2950), (200, 1994, 2950), (150, 258, 1450), (200, 493, 1450)], [(57, 494, 4481), (105, 1989, 4481), (198, 3499, 4481), (150, 494, 2981), (198, 1989, 2981), (198, 494, 1481)], [(95, 497, 4467), (149, 1992, 4467), (199, 3487, 4467), (118, 497, 3093), (172, 1992, 3093), (144, 497, 2967), (198, 1992, 2967), (198, 497, 1467)], [(88, 499, 4477), (145, 1958, 4477), (193, 3499, 4477), (135, 499, 2942), (192, 1958, 2942), (192, 499, 1442)], [(-44, 91, 4428), (69, 491, 4428), (108, 1996, 4428), (168, 3498, 4428), (16, 91, 2928), (129, 491, 2928), (168, 1996, 2928), (55, 91, 1428), (168, 491, 1428)], [(46, 144, 4465), (141, 489, 4465), (153, 1986, 4465), (204, 3487, 4465), (97, 144, 2965), (192, 489, 2965), (204, 1986, 2965), (109, 144, 1465), (204, 489, 1465)], [(44, 498, 4578), (127, 1990, 4578), (180, 3483, 4578), (76, 498, 4485), (159, 1990, 4485), (212, 3483, 4485), (129, 498, 2985), (212, 1990, 2985), (212, 498, 1485)], [(-79, 405, 4944), (-65, 498, 4944), (49, 1998, 4944), (55, 3455, 4944), (52, 405, 4463), (66, 498, 4463), (180, 1998, 4463), (186, 3455, 4463), (58, 405, 2963), (72, 498, 2963), (186, 1998, 2963), (172, 405, 1463), (186, 498, 1463)], [(106, 489, 4456), (168, 1979, 4456), (218, 3486, 4456), (156, 489, 2956), (218, 1979, 2956), (218, 489, 1456)], [(84, 487, 4469), (129, 1986, 4469), (180, 3499, 4469), (135, 487, 2969), (180, 1986, 2969), (180, 487, 1469)], [(106, 497, 4467), (126, 1966, 4467), (188, 3484, 4467), (168, 497, 2967), (188, 1966, 2967), (188, 497, 1467)], [(20, 479, 4603), (89, 1999, 4603), (151, 3498, 4603), (55, 479, 4473), (124, 1999, 4473), (186, 3498, 4473), (85, 479, 3092), (154, 1999, 3092), (117, 479, 2973), (186, 1999, 2973), (186, 479, 1473)], [(110, 492, 4485), (147, 1957, 4485), (196, 3459, 4485), (159, 492, 2985), (196, 1957, 2985), (196, 492, 1485)], [(-5, 498, 4478), (96, 1995, 4478), (170, 3498, 4478), (69, 498, 2978), (170, 1995, 2978), (170, 498, 1478)], [(103, 485, 4479), (141, 1991, 4479), (206, 3497, 4479), (168, 485, 2979), (206, 1991, 2979), (206, 485, 1479)], [(103, 495, 4470), (186, 1983, 4470), (218, 3482, 4470), (135, 495, 2970), (218, 1983, 2970), (218, 495, 1470)], [(161, 495, 4485), (198, 1954, 4485), (202, 3493, 4485), (165, 495, 2985), (202, 1954, 2985), (202, 495, 1485)], [(154, 494, 4484), (183, 1988, 4484), (212, 3497, 4484), (183, 494, 2984), (212, 1988, 2984), (212, 494, 1484)], [(36, 252, 4459), (77, 483, 4459), (108, 1986, 4459), (166, 3498, 4459), (94, 252, 2959), (135, 483, 2959), (166, 1986, 2959), (125, 252, 1459), (166, 483, 1459)], [(-10, 475, 4780), (40, 1983, 4780), (108, 3481, 4780), (76, 475, 4430), (126, 1983, 4430), (194, 3481, 4430), (144, 475, 2930), (194, 1983, 2930), (194, 475, 1430)], [(74, 199, 4483), (142, 498, 4483), (173, 1998, 4483), (207, 3494, 4483), (108, 199, 2983), (176, 498, 2983), (207, 1998, 2983), (139, 199, 1483), (207, 498, 1483)], [(102, 496, 4464), (144, 1997, 4464), (214, 3497, 4464), (172, 496, 2964), (214, 1997, 2964), (214, 496, 1464)], [(34, 496, 4476), (132, 1994, 4476), (200, 3486, 4476), (102, 496, 2976), (200, 1994, 2976), (200, 496, 1476)], [(73, 487, 4473), (156, 1981, 4473), (194, 3481, 4473), (111, 487, 2973), (194, 1981, 2973), (194, 487, 1473)], [(50, 499, 4600), (115, 1999, 4600), (162, 3484, 4600), (94, 499, 4478), (159, 1999, 4478), (206, 3484, 4478), (141, 499, 2978), (206, 1999, 2978), (206, 499, 1478)], [(18, 205, 4486), (104, 495, 4486), (147, 1990, 4486), (196, 3499, 4486), (67, 205, 2986), (153, 495, 2986), (196, 1990, 2986), (110, 205, 1486), (196, 495, 1486)], [(132, 493, 4488), (194, 1975, 4488), (217, 3484, 4488), (155, 493, 2988), (217, 1975, 2988), (217, 493, 1488)], [(-70, 497, 4990), (-29, 1992, 4990), (-24, 3341, 4990), (-16, 3397, 4990), (25, 3492, 4990), (-65, 497, 4960), (-24, 1992, 4960), (-19, 3341, 4960), (-11, 3397, 4960), (30, 3492, 4960), (75, 497, 4456), (116, 1992, 4456), (121, 3341, 4456), (129, 3397, 4456), (170, 3492, 4456), (129, 497, 2956), (170, 1992, 2956), (170, 497, 1456)], [(106, 489, 4471), (172, 1990, 4471), (198, 3499, 4471), (115, 489, 3030), (181, 1990, 3030), (132, 489, 2971), (198, 1990, 2971), (198, 489, 1471)], [(64, 475, 4451), (126, 1964, 4451), (176, 3482, 4451), (114, 475, 2951), (176, 1964, 2951), (176, 475, 1451)], [(86, 491, 4486), (141, 1994, 4486), (190, 3497, 4486), (135, 491, 2986), (190, 1994, 2986), (190, 491, 1486)], [(156, 468, 4630), (157, 1965, 4630), (191, 3484, 4630), (197, 468, 4490), (198, 1965, 4490), (232, 3484, 4490), (231, 468, 2990), (232, 1965, 2990), (232, 468, 1490)], [(106, 497, 4474), (161, 1997, 4474), (187, 3476, 4474), (132, 497, 2974), (187, 1997, 2974), (187, 497, 1474)], [(-139, 495, 4930), (-97, 1828, 4930), (-32, 1996, 4930), (49, 3483, 4930), (-2, 495, 4471), (40, 1828, 4471), (105, 1996, 4471), (186, 3483, 4471), (79, 495, 2971), (121, 1828, 2971), (186, 1996, 2971), (186, 495, 1471)], [(-60, 259, 4477), (26, 499, 4477), (126, 1992, 4477), (172, 3485, 4477), (-14, 259, 2977), (72, 499, 2977), (172, 1992, 2977), (86, 259, 1477), (172, 499, 1477)], [(66, 498, 4476), (114, 1999, 4476), (180, 3498, 4476), (132, 498, 2976), (180, 1999, 2976), (180, 498, 1476)], [(121, 498, 4483), (127, 1852, 4483), (162, 1991, 4483), (216, 3499, 4483), (175, 498, 2983), (181, 1852, 2983), (216, 1991, 2983), (216, 498, 1483)], [(147, 489, 4445), (162, 1976, 4445), (222, 3497, 4445), (207, 489, 2945), (222, 1976, 2945), (222, 489, 1445)], [(-48, 159, 4481), (80, 497, 4481), (144, 1979, 4481), (178, 3498, 4481), (-14, 159, 2981), (114, 497, 2981), (178, 1979, 2981), (50, 159, 1481), (178, 497, 1481)], [(51, 350, 4455), (92, 480, 4455), (122, 1909, 4455), (139, 1977, 4455), (198, 3495, 4455), (72, 350, 3123), (113, 480, 3123), (143, 1909, 3123), (160, 1977, 3123), (110, 350, 2955), (151, 480, 2955), (181, 1909, 2955), (198, 1977, 2955), (157, 350, 1455), (198, 480, 1455)], [(10, 204, 4671), (105, 495, 4671), (134, 1971, 4671), (181, 3481, 4671), (189, 3499, 4671), (45, 204, 4483), (140, 495, 4483), (169, 1971, 4483), (216, 3481, 4483), (224, 3499, 4483), (100, 204, 2983), (195, 495, 2983), (224, 1971, 2983), (129, 204, 1483), (224, 495, 1483)], [(123, 492, 4484), (174, 1991, 4484), (210, 3498, 4484), (159, 492, 2984), (210, 1991, 2984), (210, 492, 1484)], [(59, 490, 4447), (109, 1951, 4447), (120, 1990, 4447), (192, 3493, 4447), (131, 490, 2947), (181, 1951, 2947), (192, 1990, 2947), (184, 490, 1505), (192, 490, 1447)], [(33, 493, 4482), (126, 1996, 4482), (174, 3487, 4482), (81, 493, 2982), (174, 1996, 2982), (174, 493, 1482)], [(171, 499, 4465), (205, 1995, 4465), (226, 3492, 4465), (192, 499, 2965), (226, 1995, 2965), (226, 499, 1465)], [(11, 273, 4478), (64, 488, 4478), (159, 1999, 4478), (206, 3489, 4478), (58, 273, 2978), (111, 488, 2978), (206, 1999, 2978), (153, 273, 1478), (206, 488, 1478)], [(71, 489, 4722), (120, 1992, 4722), (159, 3497, 4722), (139, 489, 4484), (188, 1992, 4484), (227, 3497, 4484), (178, 489, 2984), (227, 1992, 2984), (229, 489, 1501)], [(-72, 499, 4873), (14, 1999, 4873), (87, 3478, 4873), (29, 499, 4487), (115, 1999, 4487), (188, 3478, 4487), (97, 499, 3012), (183, 1999, 3012), (102, 499, 2987), (188, 1999, 2987), (188, 499, 1487)], [(64, 496, 4464), (132, 1998, 4464), (182, 3498, 4464), (114, 496, 2964), (182, 1998, 2964), (182, 496, 1464)], [(137, 496, 4478), (159, 1985, 4478), (196, 3495, 4478), (174, 496, 2978), (196, 1985, 2978), (196, 496, 1478)], [(132, 491, 4525), (174, 1995, 4525), (219, 3471, 4525), (134, 491, 4482), (176, 1995, 4482), (221, 3471, 4482), (179, 491, 2982), (221, 1995, 2982), (221, 491, 1482)], [(115, 399, 4481), (144, 489, 4481), (177, 1992, 4481), (210, 3498, 4481), (148, 399, 2981), (177, 489, 2981), (210, 1992, 2981), (181, 399, 1481), (210, 489, 1481)], [(83, 490, 4474), (144, 1975, 4474), (172, 3472, 4474), (111, 490, 2974), (172, 1975, 2974), (172, 490, 1474)], [(128, 495, 4480), (180, 1987, 4480), (218, 3479, 4480), (166, 495, 2980), (218, 1987, 2980), (186, 495, 1572), (218, 495, 1480)], [(22, 491, 4472), (114, 1999, 4472), (176, 3468, 4472), (84, 491, 2972), (176, 1999, 2972), (176, 491, 1472)], [(32, 495, 4461), (84, 1999, 4461), (184, 3493, 4461), (132, 495, 2961), (184, 1999, 2961), (184, 495, 1461)], [(115, 498, 4483), (150, 1995, 4483), (188, 3490, 4483), (153, 498, 2983), (188, 1995, 2983), (188, 498, 1483)], [(81, 493, 4466), (138, 1993, 4466), (192, 3470, 4466), (135, 493, 2966), (192, 1993, 2966), (192, 493, 1466)], [(9, 19, 4463), (77, 359, 4463), (112, 480, 4463), (165, 1994, 4463), (206, 3491, 4463), (50, 19, 2963), (118, 359, 2963), (153, 480, 2963), (206, 1994, 2963), (103, 19, 1463), (171, 359, 1463), (206, 480, 1463)], [(5, 35, 4578), (151, 495, 4578), (199, 1977, 4578), (37, 35, 4480), (183, 495, 4480), (231, 1977, 4480), (82, 35, 1480), (228, 495, 1480)], [(78, 482, 4868), (105, 1994, 4868), (114, 3486, 4868), (197, 482, 4469), (224, 1994, 4469), (233, 3486, 4469), (206, 482, 2969), (233, 1994, 2969), (233, 482, 1469)], [(92, 471, 4558), (162, 1995, 4558), (177, 3479, 4558), (121, 471, 4485), (191, 1995, 4485), (206, 3479, 4485), (136, 471, 2985), (206, 1995, 2985), (206, 471, 1485)], [(51, 472, 4481), (108, 1998, 4481), (186, 3489, 4481), (129, 472, 2981), (186, 1998, 2981), (186, 472, 1481)], [(15, 496, 4465), (102, 1991, 4465), (162, 3492, 4465), (75, 496, 2965), (162, 1991, 2965), (162, 496, 1465)], [(57, 497, 4472), (134, 1998, 4472), (145, 3323, 4472), (186, 3478, 4472), (109, 497, 2972), (186, 1998, 2972), (186, 497, 1472)], [(7, 155, 4413), (84, 463, 4413), (94, 492, 4413), (132, 1998, 4413), (192, 3498, 4413), (67, 155, 2913), (144, 463, 2913), (154, 492, 2913), (192, 1998, 2913), (105, 155, 1413), (182, 463, 1413), (192, 492, 1413)], [(5, 478, 4478), (92, 1999, 4478), (173, 3486, 4478), (86, 478, 2978), (173, 1999, 2978), (173, 478, 1478)], [(110, 492, 4489), (165, 1998, 4489), (178, 3354, 4489), (213, 3483, 4489), (158, 492, 2989), (213, 1998, 2989), (213, 492, 1489)], [(20, 494, 4481), (87, 1993, 4481), (165, 3498, 4481), (33, 494, 3144), (100, 1993, 3144), (98, 494, 2981), (165, 1993, 2981), (165, 494, 1481)]]\n"
     ]
    }
   ],
   "source": [
    "#Load non-unit score results\n",
    "nonUnitRes = {}\n",
    "\n",
    "for f in glob(\"../simulations/homologies_gn100_rn400_gl1000_rl500_o3_m0*_c1_u3.txt\"):\n",
    "    #Get mutation rate\n",
    "    mRate = float(f.split(\"_m\")[1].split(\"_i\")[0])\n",
    "    lastPairID = 1\n",
    "    \n",
    "    nonUnitRes[mRate] = []\n",
    "    \n",
    "    for l in open(f, 'r'):\n",
    "        l.strip()\n",
    "        \n",
    "        if l.startswith(\"Pair\"):\n",
    "            pairID = int(l.split(' ')[1])\n",
    "            nonUnitRes[mRate].append([])\n",
    "            continue\n",
    "            \n",
    "        if l.startswith('['):\n",
    "            #Get start position in sequence\n",
    "            start = textSketches[mRate][pairID - 1][int(l.split('[')[1].split(',')[0]) - 1][0]\n",
    "            #Get end position in sequence\n",
    "            end = textSketches[mRate][pairID - 1][int(l.split(',')[1].split(']')[0]) - 1][0]\n",
    "            #Save score, start and end coordinates\n",
    "            nonUnitRes[mRate][-1].append((int(l.split(' ')[1]), start, end))\n",
    "            \n",
    "print(nonUnitRes[0])"
   ]
  },
  {
   "cell_type": "code",
   "execution_count": 89,
   "id": "68b76c21",
   "metadata": {
    "scrolled": false
   },
   "outputs": [
    {
     "name": "stdout",
     "output_type": "stream",
     "text": [
      "Mutation rate: 0.0\n"
     ]
    },
    {
     "data": {
      "image/png": "[encoded data removed]",
      "text/plain": [
       "<Figure size 432x288 with 1 Axes>"
      ]
     },
     "metadata": {
      "needs_background": "light"
     },
     "output_type": "display_data"
    },
    {
     "name": "stdout",
     "output_type": "stream",
     "text": [
      "Mutation rate: 0.01\n"
     ]
    },
    {
     "data": {
      "image/png": "[encoded data removed]",
      "text/plain": [
       "<Figure size 432x288 with 1 Axes>"
      ]
     },
     "metadata": {
      "needs_background": "light"
     },
     "output_type": "display_data"
    },
    {
     "name": "stdout",
     "output_type": "stream",
     "text": [
      "Mutation rate: 0.02\n"
     ]
    },
    {
     "data": {
      "image/png": "[encoded data removed]",
      "text/plain": [
       "<Figure size 432x288 with 1 Axes>"
      ]
     },
     "metadata": {
      "needs_background": "light"
     },
     "output_type": "display_data"
    },
    {
     "name": "stdout",
     "output_type": "stream",
     "text": [
      "Mutation rate: 0.03\n"
     ]
    },
    {
     "data": {
      "image/png": "[encoded data removed]",
      "text/plain": [
       "<Figure size 432x288 with 1 Axes>"
      ]
     },
     "metadata": {
      "needs_background": "light"
     },
     "output_type": "display_data"
    },
    {
     "name": "stdout",
     "output_type": "stream",
     "text": [
      "Mutation rate: 0.04\n"
     ]
    },
    {
     "data": {
      "image/png": "[encoded data removed]",
      "text/plain": [
       "<Figure size 432x288 with 1 Axes>"
      ]
     },
     "metadata": {
      "needs_background": "light"
     },
     "output_type": "display_data"
    },
    {
     "name": "stdout",
     "output_type": "stream",
     "text": [
      "Mutation rate: 0.05\n"
     ]
    },
    {
     "data": {
      "image/png": "[encoded data removed]",
      "text/plain": [
       "<Figure size 432x288 with 1 Axes>"
      ]
     },
     "metadata": {
      "needs_background": "light"
     },
     "output_type": "display_data"
    },
    {
     "name": "stdout",
     "output_type": "stream",
     "text": [
      "Mutation rate: 0.06\n"
     ]
    },
    {
     "data": {
      "image/png": "[encoded data removed]",
      "text/plain": [
       "<Figure size 432x288 with 1 Axes>"
      ]
     },
     "metadata": {
      "needs_background": "light"
     },
     "output_type": "display_data"
    },
    {
     "name": "stdout",
     "output_type": "stream",
     "text": [
      "Mutation rate: 0.07\n"
     ]
    },
    {
     "data": {
      "image/png": "[encoded data removed]",
      "text/plain": [
       "<Figure size 432x288 with 1 Axes>"
      ]
     },
     "metadata": {
      "needs_background": "light"
     },
     "output_type": "display_data"
    },
    {
     "name": "stdout",
     "output_type": "stream",
     "text": [
      "Mutation rate: 0.08\n"
     ]
    },
    {
     "data": {
      "image/png": "[encoded data removed]",
      "text/plain": [
       "<Figure size 432x288 with 1 Axes>"
      ]
     },
     "metadata": {
      "needs_background": "light"
     },
     "output_type": "display_data"
    },
    {
     "name": "stdout",
     "output_type": "stream",
     "text": [
      "Mutation rate: 0.09\n"
     ]
    },
    {
     "data": {
      "image/png": "[encoded data removed]",
      "text/plain": [
       "<Figure size 432x288 with 1 Axes>"
      ]
     },
     "metadata": {
      "needs_background": "light"
     },
     "output_type": "display_data"
    },
    {
     "name": "stdout",
     "output_type": "stream",
     "text": [
      "Mutation rate: 0.1\n"
     ]
    },
    {
     "data": {
      "image/png": "[encoded data removed]",
      "text/plain": [
       "<Figure size 432x288 with 1 Axes>"
      ]
     },
     "metadata": {
      "needs_background": "light"
     },
     "output_type": "display_data"
    }
   ],
   "source": [
    "mRates = sorted(coords.keys())\n",
    "maxY = 1.\n",
    "padding = 0.2\n",
    "\n",
    "for m in mRates:\n",
    "    print(\"Mutation rate:\", m)\n",
    "    \n",
    "    for ps in results[m][:3]:\n",
    "        toPlot = [p for p in ps if p[0] >= minScores[m]]\n",
    "        plt.hlines([maxY + i * padding for i in range(len(toPlot))], [t[1] for t in toPlot], [t[2] for t in toPlot])\n",
    "        maxY += 1. + padding * len(toPlot)\n",
    "        \n",
    "    plt.show()"
   ]
  },
  {
   "cell_type": "code",
   "execution_count": 42,
   "id": "e2bd4f75",
   "metadata": {},
   "outputs": [
    {
     "data": {
      "text/plain": [
       "2.12"
      ]
     },
     "execution_count": 42,
     "metadata": {},
     "output_type": "execute_result"
    }
   ],
   "source": [
    "mean(homsPerPair[0.01])"
   ]
  },
  {
   "cell_type": "code",
   "execution_count": 43,
   "id": "2ef7afd6",
   "metadata": {},
   "outputs": [
    {
     "data": {
      "text/plain": [
       "6.24"
      ]
     },
     "execution_count": 43,
     "metadata": {},
     "output_type": "execute_result"
    }
   ],
   "source": [
    "mean(homsPerPair[0.02])"
   ]
  },
  {
   "cell_type": "code",
   "execution_count": 45,
   "id": "95b86717",
   "metadata": {},
   "outputs": [
    {
     "ename": "KeyError",
     "evalue": "0.0",
     "output_type": "error",
     "traceback": [
      "\u001b[0;31m---------------------------------------------------------------------------\u001b[0m",
      "\u001b[0;31mKeyError\u001b[0m                                  Traceback (most recent call last)",
      "\u001b[0;32m<ipython-input-45-31f04c55cbee>\u001b[0m in \u001b[0;36m<module>\u001b[0;34m\u001b[0m\n\u001b[0;32m----> 1\u001b[0;31m \u001b[0mmean\u001b[0m\u001b[0;34m(\u001b[0m\u001b[0mhomsPerPair\u001b[0m\u001b[0;34m[\u001b[0m\u001b[0;36m0.0\u001b[0m\u001b[0;34m]\u001b[0m\u001b[0;34m)\u001b[0m\u001b[0;34m\u001b[0m\u001b[0;34m\u001b[0m\u001b[0m\n\u001b[0m",
      "\u001b[0;31mKeyError\u001b[0m: 0.0"
     ]
    }
   ],
   "source": [
    "mean(homsPerPair[])"
   ]
  },
  {
   "cell_type": "code",
   "execution_count": null,
   "id": "cca7ff2f",
   "metadata": {},
   "outputs": [],
   "source": []
  }
 ],
 "metadata": {
  "kernelspec": {
   "display_name": "Python 3",
   "language": "python",
   "name": "python3"
  },
  "language_info": {
   "codemirror_mode": {
    "name": "ipython",
    "version": 3
   },
   "file_extension": ".py",
   "mimetype": "text/x-python",
   "name": "python",
   "nbconvert_exporter": "python",
   "pygments_lexer": "ipython3",
   "version": "3.9.5"
  }
 },
 "nbformat": 4,
 "nbformat_minor": 5
}
