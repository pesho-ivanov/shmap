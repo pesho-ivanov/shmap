{
 "cells": [
  {
   "cell_type": "code",
   "execution_count": 13,
   "metadata": {},
   "outputs": [
    {
     "data": {
      "text/html": [
       "<div>\n",
       "<style scoped>\n",
       "    .dataframe tbody tr th:only-of-type {\n",
       "        vertical-align: middle;\n",
       "    }\n",
       "\n",
       "    .dataframe tbody tr th {\n",
       "        vertical-align: top;\n",
       "    }\n",
       "\n",
       "    .dataframe thead th {\n",
       "        text-align: right;\n",
       "    }\n",
       "</style>\n",
       "<table border=\"1\" class=\"dataframe\">\n",
       "  <thead>\n",
       "    <tr style=\"text-align: right;\">\n",
       "      <th></th>\n",
       "      <th>aligned reads</th>\n",
       "      <th>wrong alignments</th>\n",
       "      <th>time (sec)</th>\n",
       "      <th>memory (GB)</th>\n",
       "    </tr>\n",
       "    <tr>\n",
       "      <th>tool</th>\n",
       "      <th></th>\n",
       "      <th></th>\n",
       "      <th></th>\n",
       "      <th></th>\n",
       "    </tr>\n",
       "  </thead>\n",
       "  <tbody>\n",
       "    <tr>\n",
       "      <th>sweep</th>\n",
       "      <td>40040</td>\n",
       "      <td>117</td>\n",
       "      <td>70.48</td>\n",
       "      <td>6.66</td>\n",
       "    </tr>\n",
       "    <tr>\n",
       "      <th>minimap</th>\n",
       "      <td>40040</td>\n",
       "      <td>68</td>\n",
       "      <td>52.64</td>\n",
       "      <td>3.98</td>\n",
       "    </tr>\n",
       "    <tr>\n",
       "      <th>winnowmap</th>\n",
       "      <td>40040</td>\n",
       "      <td>80</td>\n",
       "      <td>879.95</td>\n",
       "      <td>3.24</td>\n",
       "    </tr>\n",
       "    <tr>\n",
       "      <th>mapquik</th>\n",
       "      <td>15569</td>\n",
       "      <td>15556</td>\n",
       "      <td>7.83</td>\n",
       "      <td>5.70</td>\n",
       "    </tr>\n",
       "  </tbody>\n",
       "</table>\n",
       "</div>"
      ],
      "text/plain": [
       "           aligned reads  wrong alignments time (sec)  memory (GB)\n",
       "tool                                                              \n",
       "sweep              40040               117      70.48         6.66\n",
       "minimap            40040                68      52.64         3.98\n",
       "winnowmap          40040                80     879.95         3.24\n",
       "mapquik            15569             15556       7.83         5.70"
      ]
     },
     "metadata": {},
     "output_type": "display_data"
    },
    {
     "name": "stdout",
     "output_type": "stream",
     "text": [
      "\\begin{tabular}{lrrlr}\n",
      "\\toprule\n",
      " & aligned reads & wrong alignments & time (sec) & memory (GB) \\\\\n",
      "tool &  &  &  &  \\\\\n",
      "\\midrule\n",
      "sweep & 40040 & 117 & 70.48 & 6.660000 \\\\\n",
      "minimap & 40040 & 68 & 52.64 & 3.980000 \\\\\n",
      "winnowmap & 40040 & 80 & 879.95 & 3.240000 \\\\\n",
      "mapquik & 15569 & 15556 & 7.83 & 5.700000 \\\\\n",
      "\\bottomrule\n",
      "\\end{tabular}\n",
      "\n"
     ]
    }
   ],
   "source": [
    "import pandas as pd\n",
    "\n",
    "def get_table(outdir, tools):\n",
    "    alldf = pd.DataFrame(columns=['tool', 'aligned reads', 'wrong alignments', 'time (sec)', 'memory (GB)'])\n",
    "    for tool in tools:\n",
    "        evaldf = pd.read_csv(f'{outdir}/{tool}.eval', sep='\\t', names=['Q', 'quality', 'aligned', 'wrong', 'wrong_frac', 'aligned_cum'])\n",
    "        aligned = evaldf['aligned'].sum()\n",
    "        wrong = evaldf['wrong'].sum()\n",
    "        with open(f'{outdir}/{tool}.time') as f:\n",
    "            arr = f.readline().split()\n",
    "            assert len(arr) == 2\n",
    "            time, mem = arr\n",
    "        alldf.loc[len(alldf.index)] = [tool, aligned, wrong, time, mem]\n",
    "    alldf = alldf.set_index('tool')\n",
    "    alldf['memory (GB)'] = (alldf['memory (GB)'].astype(float) / (1024 * 1024)).round(2)\n",
    "    return alldf\n",
    "\n",
    "chm13_1B_df = get_table('newevals/chm13-1B-a0.99-d1', ['sweep', 'minimap', 'winnowmap', 'mapquik'])\n",
    "display(chm13_1B_df)\n",
    "print(chm13_1B_df.to_latex())"
   ]
  },
  {
   "cell_type": "code",
   "execution_count": null,
   "metadata": {},
   "outputs": [],
   "source": []
  }
 ],
 "metadata": {
  "kernelspec": {
   "display_name": "Python 3",
   "language": "python",
   "name": "python3"
  },
  "language_info": {
   "codemirror_mode": {
    "name": "ipython",
    "version": 3
   },
   "file_extension": ".py",
   "mimetype": "text/x-python",
   "name": "python",
   "nbconvert_exporter": "python",
   "pygments_lexer": "ipython3",
   "version": "3.10.12"
  },
  "orig_nbformat": 4
 },
 "nbformat": 4,
 "nbformat_minor": 2
}
