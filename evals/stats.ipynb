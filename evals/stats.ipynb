{
 "cells": [
  {
   "cell_type": "code",
   "execution_count": 4,
   "metadata": {},
   "outputs": [
    {
     "name": "stdout",
     "output_type": "stream",
     "text": [
      "reads/HG002_24kb_132517_061936_2fl_DC_hifi_reads.10GB.fastq\n",
      "Number of reads: 221505\n",
      "Mean Read Length: 24217.60\n",
      "Standard Deviation: 4171.14\n"
     ]
    }
   ],
   "source": [
    "from Bio import SeqIO\n",
    "import statistics\n",
    "\n",
    "reads_file = \"reads/HG002_24kb_132517_061936_2fl_DC_hifi_reads.10GB.fastq\"\n",
    "#reads_file = \"reads/HG002_24kb.fastq\"\n",
    "read_lengths = [len(record.seq) for record in SeqIO.parse(reads_file, \"fastq\")]\n",
    "\n",
    "mean_length = sum(read_lengths) / len(read_lengths)\n",
    "sd_length = statistics.stdev(read_lengths)\n",
    "\n",
    "print(reads_file)\n",
    "print(\"Number of reads:\", len(read_lengths))\n",
    "print(f\"Mean Read Length: {mean_length:.2f}\")\n",
    "print(f\"Standard Deviation: {sd_length:.2f}\")\n"
   ]
  },
  {
   "cell_type": "code",
   "execution_count": null,
   "metadata": {},
   "outputs": [],
   "source": []
  }
 ],
 "metadata": {
  "kernelspec": {
   "display_name": "Python 3",
   "language": "python",
   "name": "python3"
  },
  "language_info": {
   "codemirror_mode": {
    "name": "ipython",
    "version": 3
   },
   "file_extension": ".py",
   "mimetype": "text/x-python",
   "name": "python",
   "nbconvert_exporter": "python",
   "pygments_lexer": "ipython3",
   "version": "3.10.12"
  }
 },
 "nbformat": 4,
 "nbformat_minor": 2
}
