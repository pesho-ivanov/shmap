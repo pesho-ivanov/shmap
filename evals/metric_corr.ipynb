{
 "cells": [
  {
   "cell_type": "code",
   "execution_count": 1,
   "metadata": {},
   "outputs": [],
   "source": [
    "from readpaf import parse_paf\n",
    "import matplotlib.pyplot as plt\n",
    "import numpy as np\n",
    "import pandas as pd\n",
    "import marimo as mo"
   ]
  },
  {
   "cell_type": "code",
   "execution_count": 2,
   "metadata": {},
   "outputs": [],
   "source": [
    "handle = open('simple_test_gt.paf')\n",
    "df = parse_paf(handle, dataframe=True)"
   ]
  },
  {
   "cell_type": "code",
   "execution_count": 13,
   "metadata": {},
   "outputs": [],
   "source": [
    "def plot_corr(f):\n",
    "    handle = open(f)\n",
    "    df = parse_paf(handle, dataframe=True)\n",
    "\n",
    "    plt.xlim(0.5, 0.9)\n",
    "    plt.ylim(0.5, 0.9)\n",
    "    plt.scatter(df.gt_J + np.random.normal(0, 0.01, size=len(df.gt_J)),\n",
    "                df.gt_C + np.random.normal(0, 0.01, size=len(df.gt_C)),\n",
    "                alpha=0.1)\n",
    "    plt.xlabel('gt_J')\n",
    "    plt.ylabel('gt_C')\n",
    "    plt.show()\n",
    "\n",
    "# get a subset of columns of df\n",
    "df2 = df[['J', 'J2', 'gt_J', 'gt_C', 'gt_C_bucket']]"
   ]
  },
  {
   "cell_type": "code",
   "execution_count": 18,
   "metadata": {},
   "outputs": [
    {
     "data": {
      "application/vnd.jupyter.widget-view+json": {
       "model_id": "ebd77dccb138443cb756006689ba6984",
       "version_major": 2,
       "version_minor": 0
      },
      "text/plain": [
       "HBox(children=(HBox(children=(VBox(children=(Button(button_style='primary', icon='arrows', layout=Layout(width…"
      ]
     },
     "execution_count": 18,
     "metadata": {},
     "output_type": "execute_result"
    }
   ],
   "source": [
    "import ipywidgets\n",
    "import jscatter\n",
    "import numpy as np\n",
    "import pandas as pd\n",
    "\n",
    "df_sample = pd.DataFrame({\n",
    "  # Random floats\n",
    "  \"mass\": np.random.rand(500),\n",
    "  \"speed\": np.random.rand(500),\n",
    "  \"pval\": np.random.rand(500),\n",
    "  # Random letters A, B, C, D, E, F, G, H\n",
    "  \"cat\": np.vectorize(lambda x: chr(65 + round(x * 8)))(np.random.rand(500)),\n",
    "})\n",
    "\n",
    "scatter = jscatter.Scatter(data=df, x=\"gt_J\", y=\"gt_C\")\n",
    "\n",
    "output = ipywidgets.Output()\n",
    "\n",
    "@output.capture(clear_output=True)\n",
    "def selection_change_handler(change):\n",
    "    #display(df.loc[change.new].style.hide(axis='index'))\n",
    "            \n",
    "scatter.widget.observe(selection_change_handler, names=[\"selection\"])\n",
    "\n",
    "ipywidgets.HBox([scatter.show(), output])"
   ]
  },
  {
   "cell_type": "code",
   "execution_count": null,
   "metadata": {},
   "outputs": [],
   "source": []
  }
 ],
 "metadata": {
  "kernelspec": {
   "display_name": "Python 3",
   "language": "python",
   "name": "python3"
  },
  "language_info": {
   "codemirror_mode": {
    "name": "ipython",
    "version": 3
   },
   "file_extension": ".py",
   "mimetype": "text/x-python",
   "name": "python",
   "nbconvert_exporter": "python",
   "pygments_lexer": "ipython3",
   "version": "3.10.12"
  }
 },
 "nbformat": 4,
 "nbformat_minor": 2
}
