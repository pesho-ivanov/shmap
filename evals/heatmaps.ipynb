{
 "cells": [
  {
   "cell_type": "code",
   "execution_count": null,
   "metadata": {},
   "outputs": [],
   "source": [
    "Ks = [14, 16, 18, 20, 22, 24, 26]\n",
    "Rs = ['0.01', '0.05', '0.1', '0.15', '0.2']\n",
    "\n",
    "def read_matrix(Ys, Xs, ylabel, xlabel, experiment):\n",
    "    TOOL = 'sweepmap'\n",
    "    DATA = ('t2tChrY', 't2tChrY-a0.99-d1-l10000') # ('chm13', 'chm13-a0.99-d1-l10000')\n",
    "\n",
    "    VARS = {'thinning': ('S', 'M'), 'sketching': ('K', 'R')}\n",
    "    vary, varx = VARS[experiment]\n",
    "\n",
    "    map_time_df = pd.DataFrame(index=Ys, columns=Xs)\n",
    "    map_time_df.index.name = ylabel\n",
    "    map_time_df.columns.name = xlabel\n",
    "    issue_perc_df = map_time_df.copy() # pd.DataFrame(index=MAX_SEEDS, columns=MAX_MATCHES)\n",
    "\n",
    "    for y in Ys:\n",
    "        for x in Xs:\n",
    "            refname, data = DATA\n",
    "            reads = fasta2df(Path('reads') / Path('reads-'+data+'.fa'))\n",
    "            pref = Path(\"out\") / data / experiment / f'{TOOL}-{vary}{y}-{varx}{x}'\n",
    "            eval_file = str(pref) + '.eval'\n",
    "            unaligned,  aligned,  wrong,     issue_perc = get_eval(eval_file, len(reads))\n",
    "            index_time, map_time, index_mem, total_mem  = get_times(pref)\n",
    "            map_time_df.loc[y, x] = map_time\n",
    "            issue_perc_df.loc[y, x] = issue_perc / 100.0\n",
    "\n",
    "    return map_time_df, issue_perc_df\n",
    "\n",
    "def plot_SM_heatmap(df, name, title, cm):\n",
    "    fig, ax = plt.subplots(figsize=(6, 4))\n",
    "    sns.heatmap(df.astype(float), ax=ax, annot=True, fmt=\".2f\", cmap=cm) #, cbar=False)\n",
    "    ax.set_title(title)\n",
    "    ax.set_ylabel(df.index.name)\n",
    "    ax.set_xlabel(df.columns.name)\n",
    "    ax.set_yticklabels(ax.get_yticklabels(), rotation=0)\n",
    "    ax.invert_yaxis()\n",
    "    plt.tight_layout()\n",
    "    plt.show()\n",
    "    fig.savefig(f'imgs/{name}.png', dpi=300)\n",
    "    plt.close(fig)\n",
    "\n",
    "KR_map_time_df, KR_issue_perc_df = read_matrix(Ks, Rs, 'kmer size (K)', 'FracMinHash ratio (R)', 'sketching')\n",
    "plot_SM_heatmap(KR_map_time_df, name='heatmapKR_maptime', title='Map time', cm='mako_r')\n",
    "plot_SM_heatmap(KR_issue_perc_df, name='heatmapKR_percissues', title='Percent of issues (wrong + unaligned)', cm='rocket_r')\n",
    "\n",
    "MAX_SEEDS = [10, 30, 100, 300, 1000, 3000, 10000]\n",
    "MAX_MATCHES = [100, 300, 1000, 3000, 10000, 30000, 100000, 300000]\n",
    "SM_map_time_df, SM_issue_perc_df = read_matrix(MAX_SEEDS, MAX_MATCHES, 'max seeds (S)', 'max matches (M)', 'thinning')\n",
    "plot_SM_heatmap(SM_map_time_df, name='heatmapSM_maptime', title='Map time', cm='mako_r')\n",
    "plot_SM_heatmap(SM_issue_perc_df, name='heatmapSM_percissues', title='Percent of issues (wrong + unaligned)', cm='rocket_r')"
   ]
  },
  {
   "cell_type": "code",
   "execution_count": null,
   "metadata": {},
   "outputs": [],
   "source": [
    "vcf_df = read_vcf('refs/t2tChrY-SVs.vcf')\n",
    "fa_orig = read_fasta_file('refs/t2tChrY.fa')\n",
    "fa_SURVIVOR = read_fasta_file('refs/t2tChrY-SVs.fasta')\n",
    "l_orig = gen_unique_labels(fa_orig)\n",
    "fa_SV, labels_SV = mutate(fa_orig, l_orig, vcf_df)\n",
    "#are_equal(fa_orig, fa_SURVIVOR)\n",
    "are_equal(fa_SV, fa_SURVIVOR)"
   ]
  },
  {
   "cell_type": "markdown",
   "metadata": {},
   "source": []
  }
 ],
 "metadata": {
  "language_info": {
   "name": "python"
  }
 },
 "nbformat": 4,
 "nbformat_minor": 2
}
