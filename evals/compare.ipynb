{
 "cells": [
  {
   "cell_type": "code",
   "execution_count": 3,
   "metadata": {},
   "outputs": [
    {
     "name": "stderr",
     "output_type": "stream",
     "text": [
      "/usr/lib/python3/dist-packages/scipy/__init__.py:146: UserWarning: A NumPy version >=1.17.3 and <1.25.0 is required for this version of SciPy (detected version 1.25.2\n",
      "  warnings.warn(f\"A NumPy version >={np_minversion} and <{np_maxversion}\"\n"
     ]
    }
   ],
   "source": [
    "import seaborn as sns\n",
    "import matplotlib.pyplot as plt\n",
    "import pandas as pd\n",
    "import numpy as np\n",
    "from pathlib import Path\n",
    "from IPython.display import display, HTML\n",
    "from Bio import SeqIO\n",
    "import os\n",
    "#from astropy import units as u\n",
    "import sys\n",
    "from readpaf import parse_paf\n",
    "from collections import Counter, defaultdict\n",
    "from tqdm import tqdm\n",
    "\n",
    "#import sv\n",
    "\n",
    "#from itables import init_notebook_mode\n",
    "#init_notebook_mode(all_interactive=True)\n",
    "pd.set_option('display.max_columns', None)\n",
    "\n",
    "def to_latex(df, data, refname):\n",
    "    latex = \"\"\n",
    "    df.index = df.index.map(lambda x: f'\\\\{x}')\n",
    "    df.columns = df.columns.str.replace(' ', '\\\\\\\\')\n",
    "    df.columns = df.columns.str.replace('%', '\\%')\n",
    "    df.columns = df.columns.map(lambda x: '\\makecell{' + x + '}')\n",
    "    #df = df.astype(str).map(lambda x: x.rstrip('0').rstrip('.') if '.' in x else x)\n",
    "    latex += df.to_latex(escape=False, label=f'tab:{refname}', caption=data, float_format = lambda x: '{:0.2f}'.format(x) if pd.notna(x) else '-')\n",
    "    #latex += df.to_latex(float_format = lambda x: '{:0.2f}'.format(x) if pd.notna(x) else '-')\n",
    "    latex += '\\n'\n",
    "    return latex"
   ]
  },
  {
   "cell_type": "code",
   "execution_count": 4,
   "metadata": {},
   "outputs": [],
   "source": [
    "import numpy as np\n",
    "import pandas as pd\n",
    "import matplotlib.pyplot as plt\n",
    "from matplotlib.ticker import FuncFormatter\n",
    "\n",
    "def plot_mapping_quality(df, ax, tool, reads):\n",
    "    marker = { 'blend': 'o', 'minimap': 's', 'winnowmap': 'x', 'shmap': 'd', 'mm2-fast': 'v', 'mapquik': 'p' } \n",
    "\n",
    "    df_sorted = df.sort_values(by=\"mapping_quality\", ascending=False).reset_index(drop=True)\n",
    "    #display(df_sorted.head(10))\n",
    "\n",
    "    total_reads = len(df)\n",
    "    fraction_mapped = []\n",
    "    error_rates = []\n",
    "    wrongs = 0\n",
    "    \n",
    "    for i in range(total_reads):\n",
    "        if df_sorted.iloc[i][\"is_correct\"] == False:\n",
    "            wrongs += 1\n",
    "        if i == total_reads-1 or df_sorted.iloc[i][\"mapping_quality\"] != df_sorted.iloc[i+1][\"mapping_quality\"]:\n",
    "            error_rates.append(wrongs / (i+1))\n",
    "            fraction_mapped.append((i+1) / reads)\n",
    "\n",
    "    #print(reads, total_reads, wrongs)\n",
    "    #print(error_rates, fraction_mapped)\n",
    "\n",
    "    # Plot the results\n",
    "    tool_marker = marker[ tool.split('-')[0] ]\n",
    "    ax.plot(error_rates, fraction_mapped, marker=tool_marker, linestyle='-', label=tool)\n",
    "    plt.xlim(1e-5, 1e-1)\n",
    "    plt.ylim(0.9, 1)\n",
    "    ax.set_xscale('log')  # Log scale for error rate\n",
    "    ax.set_xlabel(\"Error rate of mapped reads\")\n",
    "    ax.set_ylabel(\"Fraction of mapped reads\")\n",
    "    ax.set_title(\"Fraction of Mapped Reads vs Error Rate\")\n",
    "    \n",
    "    # Customize x-axis labels to show 10^-i without coefficients\n",
    "    def log_format(x, pos):\n",
    "        exponent = int(np.log10(x))\n",
    "        return f'$10^{{{exponent}}}$'\n",
    "    \n",
    "    ax.xaxis.set_major_formatter(FuncFormatter(log_format))\n",
    "\n",
    "    ax.grid(True, which=\"both\", linestyle=\"--\", linewidth=0.5)\n",
    "\n"
   ]
  },
  {
   "cell_type": "code",
   "execution_count": 7,
   "metadata": {},
   "outputs": [],
   "source": [
    "#def perc(a, b):\n",
    "#    if b == 0:\n",
    "#        return np.nan\n",
    "#    return 100.0 * a / b\n",
    "\n",
    "def fasta2df(fn):\n",
    "    seqs = SeqIO.parse(fn, \"fasta\")\n",
    "    df = pd.DataFrame((str(s.id), str(s.seq)) for s in seqs)\n",
    "    df.columns = [\"ID\", \"Sequence\"]\n",
    "    return df\n",
    "\n",
    "#def is_overlapping(a, sv_row):\n",
    "#    return a.GT_from <= sv_row['END'] and sv_row['POS'] <= a.GT_to \n",
    "    \n",
    "min_overlap = 0.1\n",
    "\n",
    "def get_overlap(a):\n",
    "     if a.GT_ref != a.target_name:\n",
    "         return False\n",
    "     if a.GT_strand != a.strand:\n",
    "         return False\n",
    "     union_from = min(a.GT_from, a.target_start)\n",
    "     union_to = max(a.GT_to, a.target_end)\n",
    "\n",
    "     intersect_from = max(a.GT_from, a.target_start)\n",
    "     intersect_to = min(a.GT_to, a.target_end)\n",
    "     overlap = max(0.0, (intersect_to - intersect_from) / (union_to - union_from))\n",
    "     return overlap\n",
    "\n",
    "def read_paf(pref, reads, experiment, tool, ax):\n",
    "    paf_file = pref.parent / (pref.name + '.paf')\n",
    "    #print(paf_file)\n",
    "    no_GT = False\n",
    "    if not paf_file.exists():\n",
    "        raise Exception(f\"File does not exist or is empty: {paf_file}\")\n",
    "    with open(paf_file) as handle:\n",
    "        df = parse_paf(handle, dataframe=True)\n",
    "        df['experiment'] = experiment\n",
    "        df['tool'] = tool\n",
    "        try:\n",
    "            df[ ['read_name', 'GT_ref', 'GT_from', 'GT_to', 'GT_strand'] ] = df['query_name'].str.split('!', expand=True)\n",
    "            df['GT_from'] = df['GT_from'].astype(int)\n",
    "            df['GT_to'] = df['GT_to'].astype(int)\n",
    "            df['overlap'] = df.apply(get_overlap, axis=1)\n",
    "            df['is_correct'] = df['overlap'] >= min_overlap\n",
    "            #df['is_correct_labels'] = df.apply(lambda x: is_correct_labels(x, orig_l, mutated_l), axis=1)\n",
    "            #df['is_correct'] = df.apply(lambda x: is_correct_labels(x, orig_l, mutated_l), axis=1)\n",
    "            #df['start_diff'] = df.target_start - df.GT_from  # TODO: different coordinate systems!\n",
    "            #df['end_diff'] = df.target_end - df.GT_to  # TODO: different coordinate systems!\n",
    "            #df['read_sv'] = 'none' # df.apply(lambda x: read_falls_on_what_sv(x, vcf_df), axis=1)\n",
    "        except Exception as e:\n",
    "            #display(e)\n",
    "            df['read_name'] = df['query_name']\n",
    "            df['GT_ref'] = np.NaN\n",
    "            df['GT_from'] = np.NaN\n",
    "            df['GT_to'] = np.NaN\n",
    "            df['GT_strand'] = np.NaN\n",
    "            df['overlap'] = np.NaN\n",
    "            df['is_correct'] = True\n",
    "            #df['is_correct_labels'] = True\n",
    "            #df['start_diff'] = 0\n",
    "            #df['end_diff'] = 0\n",
    "            #df['read_sv'] = 'none'\n",
    "            no_GT = True\n",
    "    df = df.sort_values(['read_name', 'residue_matches'], ascending=[True, False], ignore_index=True)\n",
    "    #display(df)\n",
    "\n",
    "    paf = defaultdict(int)\n",
    "    paf['Mapped Q60'] = 0\n",
    "    paf['Q<60 or missed'] = np.nan\n",
    "    paf['Wrong Q60'] = 0\n",
    "    #mapped_reads = 0\n",
    "    #wrong = 0\n",
    "\n",
    "    #def process_group(group_first_index, group_last_index):\n",
    "    #    nonlocal mapped_reads, wrong\n",
    "    #    group = df.loc[group_first_index:group_last_index]\n",
    "    #    mapped_reads += 1\n",
    "    #    if (group.mapping_quality == 60).all():\n",
    "    #        paf['Mapped Q60'] += 1\n",
    "    #        if not group.is_correct.all():\n",
    "    #            paf['Wrong Q60'] += 1\n",
    "    #    else:\n",
    "    #        wrong += 1\n",
    "\n",
    "    #group_first_i, group_read_name = 0, df.loc[0, 'read_name']\n",
    "    #for i, a in df.iterrows():\n",
    "    #    if a.read_name != group_read_name:\n",
    "    #        process_group(group_first_i, i-1)\n",
    "    #        group_first_i, group_read_name = i, a.read_name\n",
    "    #process_group(group_first_i, len(df)-1)\n",
    "\n",
    "    #df['is_q60'] = (df['mapping_quality'] == 60)\n",
    "    \n",
    "    df_max = df.loc[df.groupby('read_name')['alignment_block_length'].idxmax()]\n",
    "    df_max = df_max.reset_index(drop=True)\n",
    "\n",
    "    #grouped = df.groupby('read_name').agg(\n",
    "    #    all_q60=('is_q60', 'all'),       # True if every row in the group is Q60\n",
    "    #    all_correct=('is_correct', 'all')# True if every row in the group is correct\n",
    "    #)\n",
    "    mapped_reads = len(df_max)  # total number of read_name groups\n",
    "    mapped_q60 = (df_max['mapping_quality'] == 60).sum()\n",
    "    mapped_ql60 = (df_max['mapping_quality'] < 60).sum()\n",
    "    wrong_q60 = ((df_max['mapping_quality'] == 60) & (df_max['is_correct'] == False)).sum()\n",
    "    #wrong = (df_max['is_correct'] == False).sum()\n",
    "\n",
    "    paf['Mapped Q60'] = int(mapped_q60)\n",
    "    paf['Wrong Q60']  = int(wrong_q60)\n",
    "\n",
    "    missed = reads - mapped_reads\n",
    "    Ql60_or_missed = mapped_ql60 + missed\n",
    "    #print('reads=', reads, 'mapped_reads=', mapped_reads, 'mapped_q60=', mapped_q60, 'missed=', missed, 'Ql60_or_missed=', Ql60_or_missed)\n",
    "    #paf['Q<60 or missed'] = wrong_or_missed\n",
    "    paf['Q<60 or missed'] = \"{:.1f}%\".format(100 * Ql60_or_missed / reads)\n",
    "\n",
    "    if no_GT:\n",
    "        paf['Wrong Q60'] = 'n/a'\n",
    "\n",
    "    #for name, group in df.groupby('read_name'):\n",
    "    #    if len(group) > 1:\n",
    "    #        print(name)\n",
    "    #        display(group)\n",
    "    \n",
    "    plot_mapping_quality(df_max, ax, tool, reads)\n",
    "\n",
    "    return pd.Series(paf, dtype='object')\n",
    "    \n",
    "index_time_col = 'Index [sec]'\n",
    "map_time_col = 'Map [sec]'\n",
    "memory_col = 'Memory [GB]'\n",
    "\n",
    "def read_times(pref):\n",
    "    times = {}\n",
    "    with open(str(pref) + '.index.time') as f_index_time:\n",
    "        index_time, index_mem = map(float, f_index_time.readline().split())\n",
    "        times[index_time_col] = index_time #* u.second\n",
    "        #times['index_mem'] = index_mem / 2**20\n",
    "        with open(str(pref) + '.time') as f_time:\n",
    "            total_time, total_mem = map(float, f_time.readline().split())\n",
    "            #times['time total'] = total_time #* u.second\n",
    "            times[map_time_col] = total_time - times[index_time_col]\n",
    "            times[memory_col] = (total_mem / 2**20) #* u.GB\n",
    "    return pd.Series(times, dtype='object').map('{:.1f}'.format)\n",
    "\n",
    "def get_comparison_table(main_dir: Path, refname, experiment: Path, tools):\n",
    "    empty_cell = -1\n",
    "    alldf = pd.DataFrame()\n",
    "    alldf.name = experiment\n",
    "    ref = fasta2df(Path('refs') / (refname + '.fa'))\n",
    "    reads = fasta2df(Path('reads') / (str(experiment) + '.fa'))\n",
    "\n",
    "    rows = []\n",
    "    fig, ax = plt.subplots()\n",
    "\n",
    "    for tool in tqdm(tools, desc=f'Tools for {experiment}', leave=False):\n",
    "        d = Path(main_dir) / tool / experiment / tool\n",
    "        #d = Path(main_dir) / experiment / tool / tool\n",
    "        row = pd.Series({\n",
    "            'tool': tool,\n",
    "        })\n",
    "        paf = read_paf(d, len(reads), experiment, tool, ax)\n",
    "        row = pd.concat([row, paf])\n",
    "        try:\n",
    "            row = pd.concat([row, read_times(d)])   # .time, .index.time\n",
    "        except Exception as e:\n",
    "            print(f\"An error occurred while reading times {d}: {e}\")\n",
    "            row[index_time_col] = empty_cell\n",
    "            row[map_time_col] = empty_cell\n",
    "            row[memory_col] = empty_cell\n",
    "        rows.append(row)\n",
    "        #except Exception as e:\n",
    "        #    print(f\"An error occurred while reading PAF {d}: {e}\")\n",
    "    ax.legend()\n",
    "    plt.show()\n",
    "\n",
    "    alldf = pd.DataFrame(rows)\n",
    "    alldf = alldf.set_index('tool')\n",
    "    alldf.index.name = None\n",
    "    return alldf"
   ]
  },
  {
   "cell_type": "code",
   "execution_count": 6,
   "metadata": {},
   "outputs": [
    {
     "data": {
      "text/html": [
       " <style> table { font-family: \"Courier New\", Courier, monospace; } </style> "
      ],
      "text/plain": [
       "<IPython.core.display.HTML object>"
      ]
     },
     "metadata": {},
     "output_type": "display_data"
    },
    {
     "name": "stderr",
     "output_type": "stream",
     "text": [
      "Tools for chrY-readschrY-a?-d2-l?:   0%|          | 0/2 [00:00<?, ?it/s]"
     ]
    },
    {
     "name": "stdout",
     "output_type": "stream",
     "text": [
      "out_small/shmap-k25-r0.03-t0.5-diff0.05/chrY-readschrY-a?-d2-l?/shmap-k25-r0.03-t0.5-diff0.05.paf\n"
     ]
    },
    {
     "name": "stderr",
     "output_type": "stream",
     "text": [
      "Tools for chrY-readschrY-a?-d2-l?:  50%|█████     | 1/2 [00:02<00:02,  2.80s/it]"
     ]
    },
    {
     "name": "stdout",
     "output_type": "stream",
     "text": [
      "out_small/blend/chrY-readschrY-a?-d2-l?/blend.paf\n"
     ]
    },
    {
     "name": "stderr",
     "output_type": "stream",
     "text": [
      "                                                                                \r"
     ]
    },
    {
     "data": {
      "image/png": "[encoded data removed]",
      "text/plain": [
       "<Figure size 432x288 with 1 Axes>"
      ]
     },
     "metadata": {
      "needs_background": "light"
     },
     "output_type": "display_data"
    },
    {
     "data": {
      "text/html": [
       "<style type=\"text/css\">\n",
       "</style>\n",
       "<table id=\"T_c6257\">\n",
       "  <caption>chrY-readschrY-a?-d2-l?</caption>\n",
       "  <thead>\n",
       "    <tr>\n",
       "      <th class=\"blank level0\" >&nbsp;</th>\n",
       "      <th id=\"T_c6257_level0_col0\" class=\"col_heading level0 col0\" >Mapped Q60</th>\n",
       "      <th id=\"T_c6257_level0_col1\" class=\"col_heading level0 col1\" >Q<60 or missed</th>\n",
       "      <th id=\"T_c6257_level0_col2\" class=\"col_heading level0 col2\" >Wrong Q60</th>\n",
       "      <th id=\"T_c6257_level0_col3\" class=\"col_heading level0 col3\" >Index [sec]</th>\n",
       "      <th id=\"T_c6257_level0_col4\" class=\"col_heading level0 col4\" >Map [sec]</th>\n",
       "      <th id=\"T_c6257_level0_col5\" class=\"col_heading level0 col5\" >Memory [GB]</th>\n",
       "    </tr>\n",
       "  </thead>\n",
       "  <tbody>\n",
       "    <tr>\n",
       "      <th id=\"T_c6257_level0_row0\" class=\"row_heading level0 row0\" >shmap-k25-r0.03-t0.5-diff0.05</th>\n",
       "      <td id=\"T_c6257_row0_col0\" class=\"data row0 col0\" >2963</td>\n",
       "      <td id=\"T_c6257_row0_col1\" class=\"data row0 col1\" >64.2%</td>\n",
       "      <td id=\"T_c6257_row0_col2\" class=\"data row0 col2\" >0</td>\n",
       "      <td id=\"T_c6257_row0_col3\" class=\"data row0 col3\" >0.3</td>\n",
       "      <td id=\"T_c6257_row0_col4\" class=\"data row0 col4\" >22.4</td>\n",
       "      <td id=\"T_c6257_row0_col5\" class=\"data row0 col5\" >0.3</td>\n",
       "    </tr>\n",
       "    <tr>\n",
       "      <th id=\"T_c6257_level0_row1\" class=\"row_heading level0 row1\" >blend</th>\n",
       "      <td id=\"T_c6257_row1_col0\" class=\"data row1 col0\" >4097</td>\n",
       "      <td id=\"T_c6257_row1_col1\" class=\"data row1 col1\" >50.4%</td>\n",
       "      <td id=\"T_c6257_row1_col2\" class=\"data row1 col2\" >3</td>\n",
       "      <td id=\"T_c6257_row1_col3\" class=\"data row1 col3\" >0.8</td>\n",
       "      <td id=\"T_c6257_row1_col4\" class=\"data row1 col4\" >125.9</td>\n",
       "      <td id=\"T_c6257_row1_col5\" class=\"data row1 col5\" >0.2</td>\n",
       "    </tr>\n",
       "  </tbody>\n",
       "</table>\n"
      ],
      "text/plain": [
       "<pandas.io.formats.style.Styler at 0x730f5ac63190>"
      ]
     },
     "metadata": {},
     "output_type": "display_data"
    },
    {
     "name": "stderr",
     "output_type": "stream",
     "text": [
      "Tools for chm13-readshg002-a?-d1-l?:   0%|          | 0/2 [00:00<?, ?it/s]"
     ]
    },
    {
     "name": "stdout",
     "output_type": "stream",
     "text": [
      "out_small/shmap-k25-r0.03-t0.5-diff0.05/chm13-readshg002-a?-d1-l?/shmap-k25-r0.03-t0.5-diff0.05.paf\n"
     ]
    },
    {
     "name": "stderr",
     "output_type": "stream",
     "text": [
      "Tools for chm13-readshg002-a?-d1-l?:  50%|█████     | 1/2 [02:12<02:12, 132.49s/it]"
     ]
    },
    {
     "name": "stdout",
     "output_type": "stream",
     "text": [
      "out_small/blend/chm13-readshg002-a?-d1-l?/blend.paf\n"
     ]
    },
    {
     "name": "stderr",
     "output_type": "stream",
     "text": [
      "                                                                                   \r"
     ]
    },
    {
     "data": {
      "image/png": "[encoded data removed]",
      "text/plain": [
       "<Figure size 432x288 with 1 Axes>"
      ]
     },
     "metadata": {
      "needs_background": "light"
     },
     "output_type": "display_data"
    },
    {
     "data": {
      "text/html": [
       "<style type=\"text/css\">\n",
       "</style>\n",
       "<table id=\"T_3bf2c\">\n",
       "  <caption>chm13-readshg002-a?-d1-l?</caption>\n",
       "  <thead>\n",
       "    <tr>\n",
       "      <th class=\"blank level0\" >&nbsp;</th>\n",
       "      <th id=\"T_3bf2c_level0_col0\" class=\"col_heading level0 col0\" >Mapped Q60</th>\n",
       "      <th id=\"T_3bf2c_level0_col1\" class=\"col_heading level0 col1\" >Q<60 or missed</th>\n",
       "      <th id=\"T_3bf2c_level0_col2\" class=\"col_heading level0 col2\" >Wrong Q60</th>\n",
       "      <th id=\"T_3bf2c_level0_col3\" class=\"col_heading level0 col3\" >Index [sec]</th>\n",
       "      <th id=\"T_3bf2c_level0_col4\" class=\"col_heading level0 col4\" >Map [sec]</th>\n",
       "      <th id=\"T_3bf2c_level0_col5\" class=\"col_heading level0 col5\" >Memory [GB]</th>\n",
       "    </tr>\n",
       "  </thead>\n",
       "  <tbody>\n",
       "    <tr>\n",
       "      <th id=\"T_3bf2c_level0_row0\" class=\"row_heading level0 row0\" >shmap-k25-r0.03-t0.5-diff0.05</th>\n",
       "      <td id=\"T_3bf2c_row0_col0\" class=\"data row0 col0\" >354323</td>\n",
       "      <td id=\"T_3bf2c_row0_col1\" class=\"data row0 col1\" >5.9%</td>\n",
       "      <td id=\"T_3bf2c_row0_col2\" class=\"data row0 col2\" >440</td>\n",
       "      <td id=\"T_3bf2c_row0_col3\" class=\"data row0 col3\" >33.6</td>\n",
       "      <td id=\"T_3bf2c_row0_col4\" class=\"data row0 col4\" >110.6</td>\n",
       "      <td id=\"T_3bf2c_row0_col5\" class=\"data row0 col5\" >8.6</td>\n",
       "    </tr>\n",
       "    <tr>\n",
       "      <th id=\"T_3bf2c_level0_row1\" class=\"row_heading level0 row1\" >blend</th>\n",
       "      <td id=\"T_3bf2c_row1_col0\" class=\"data row1 col0\" >365460</td>\n",
       "      <td id=\"T_3bf2c_row1_col1\" class=\"data row1 col1\" >2.9%</td>\n",
       "      <td id=\"T_3bf2c_row1_col2\" class=\"data row1 col2\" >467</td>\n",
       "      <td id=\"T_3bf2c_row1_col3\" class=\"data row1 col3\" >51.2</td>\n",
       "      <td id=\"T_3bf2c_row1_col4\" class=\"data row1 col4\" >253.7</td>\n",
       "      <td id=\"T_3bf2c_row1_col5\" class=\"data row1 col5\" >5.4</td>\n",
       "    </tr>\n",
       "  </tbody>\n",
       "</table>\n"
      ],
      "text/plain": [
       "<pandas.io.formats.style.Styler at 0x730f5aca9060>"
      ]
     },
     "metadata": {},
     "output_type": "display_data"
    },
    {
     "name": "stderr",
     "output_type": "stream",
     "text": [
      "Tools for chm13-readschm13-a?-d1-l?:   0%|          | 0/2 [00:00<?, ?it/s]"
     ]
    },
    {
     "name": "stdout",
     "output_type": "stream",
     "text": [
      "out_small/shmap-k25-r0.03-t0.5-diff0.05/chm13-readschm13-a?-d1-l?/shmap-k25-r0.03-t0.5-diff0.05.paf\n"
     ]
    },
    {
     "name": "stderr",
     "output_type": "stream",
     "text": [
      "Tools for chm13-readschm13-a?-d1-l?:  50%|█████     | 1/2 [01:21<01:21, 81.91s/it]"
     ]
    },
    {
     "name": "stdout",
     "output_type": "stream",
     "text": [
      "out_small/blend/chm13-readschm13-a?-d1-l?/blend.paf\n"
     ]
    },
    {
     "name": "stderr",
     "output_type": "stream",
     "text": [
      "                                                                                  \r"
     ]
    },
    {
     "data": {
      "image/png": "[encoded data removed]",
      "text/plain": [
       "<Figure size 432x288 with 1 Axes>"
      ]
     },
     "metadata": {
      "needs_background": "light"
     },
     "output_type": "display_data"
    },
    {
     "data": {
      "text/html": [
       "<style type=\"text/css\">\n",
       "</style>\n",
       "<table id=\"T_b9b70\">\n",
       "  <caption>chm13-readschm13-a?-d1-l?</caption>\n",
       "  <thead>\n",
       "    <tr>\n",
       "      <th class=\"blank level0\" >&nbsp;</th>\n",
       "      <th id=\"T_b9b70_level0_col0\" class=\"col_heading level0 col0\" >Mapped Q60</th>\n",
       "      <th id=\"T_b9b70_level0_col1\" class=\"col_heading level0 col1\" >Q<60 or missed</th>\n",
       "      <th id=\"T_b9b70_level0_col2\" class=\"col_heading level0 col2\" >Wrong Q60</th>\n",
       "      <th id=\"T_b9b70_level0_col3\" class=\"col_heading level0 col3\" >Index [sec]</th>\n",
       "      <th id=\"T_b9b70_level0_col4\" class=\"col_heading level0 col4\" >Map [sec]</th>\n",
       "      <th id=\"T_b9b70_level0_col5\" class=\"col_heading level0 col5\" >Memory [GB]</th>\n",
       "    </tr>\n",
       "  </thead>\n",
       "  <tbody>\n",
       "    <tr>\n",
       "      <th id=\"T_b9b70_level0_row0\" class=\"row_heading level0 row0\" >shmap-k25-r0.03-t0.5-diff0.05</th>\n",
       "      <td id=\"T_b9b70_row0_col0\" class=\"data row0 col0\" >185986</td>\n",
       "      <td id=\"T_b9b70_row0_col1\" class=\"data row0 col1\" >9.8%</td>\n",
       "      <td id=\"T_b9b70_row0_col2\" class=\"data row0 col2\" >0</td>\n",
       "      <td id=\"T_b9b70_row0_col3\" class=\"data row0 col3\" >34.5</td>\n",
       "      <td id=\"T_b9b70_row0_col4\" class=\"data row0 col4\" >90.9</td>\n",
       "      <td id=\"T_b9b70_row0_col5\" class=\"data row0 col5\" >8.6</td>\n",
       "    </tr>\n",
       "    <tr>\n",
       "      <th id=\"T_b9b70_level0_row1\" class=\"row_heading level0 row1\" >blend</th>\n",
       "      <td id=\"T_b9b70_row1_col0\" class=\"data row1 col0\" >194588</td>\n",
       "      <td id=\"T_b9b70_row1_col1\" class=\"data row1 col1\" >5.7%</td>\n",
       "      <td id=\"T_b9b70_row1_col2\" class=\"data row1 col2\" >4</td>\n",
       "      <td id=\"T_b9b70_row1_col3\" class=\"data row1 col3\" >52.6</td>\n",
       "      <td id=\"T_b9b70_row1_col4\" class=\"data row1 col4\" >194.9</td>\n",
       "      <td id=\"T_b9b70_row1_col5\" class=\"data row1 col5\" >5.4</td>\n",
       "    </tr>\n",
       "  </tbody>\n",
       "</table>\n"
      ],
      "text/plain": [
       "<pandas.io.formats.style.Styler at 0x730f5fb3af20>"
      ]
     },
     "metadata": {},
     "output_type": "display_data"
    },
    {
     "name": "stderr",
     "output_type": "stream",
     "text": [
      "Tools for HG002_small:   0%|          | 0/2 [00:00<?, ?it/s]"
     ]
    },
    {
     "name": "stdout",
     "output_type": "stream",
     "text": [
      "out_small/shmap-k25-r0.03-t0.5-diff0.05/HG002_small/shmap-k25-r0.03-t0.5-diff0.05.paf\n"
     ]
    },
    {
     "name": "stderr",
     "output_type": "stream",
     "text": [
      "Tools for HG002_small:  50%|█████     | 1/2 [02:40<02:40, 160.86s/it]"
     ]
    },
    {
     "name": "stdout",
     "output_type": "stream",
     "text": [
      "out_small/blend/HG002_small/blend.paf\n"
     ]
    },
    {
     "name": "stderr",
     "output_type": "stream",
     "text": [
      "                                                                     \r"
     ]
    },
    {
     "data": {
      "image/png": "[encoded data removed]",
      "text/plain": [
       "<Figure size 432x288 with 1 Axes>"
      ]
     },
     "metadata": {
      "needs_background": "light"
     },
     "output_type": "display_data"
    },
    {
     "data": {
      "text/html": [
       "<style type=\"text/css\">\n",
       "</style>\n",
       "<table id=\"T_51586\">\n",
       "  <caption>HG002_small</caption>\n",
       "  <thead>\n",
       "    <tr>\n",
       "      <th class=\"blank level0\" >&nbsp;</th>\n",
       "      <th id=\"T_51586_level0_col0\" class=\"col_heading level0 col0\" >Mapped Q60</th>\n",
       "      <th id=\"T_51586_level0_col1\" class=\"col_heading level0 col1\" >Q<60 or missed</th>\n",
       "      <th id=\"T_51586_level0_col2\" class=\"col_heading level0 col2\" >Wrong Q60</th>\n",
       "      <th id=\"T_51586_level0_col3\" class=\"col_heading level0 col3\" >Index [sec]</th>\n",
       "      <th id=\"T_51586_level0_col4\" class=\"col_heading level0 col4\" >Map [sec]</th>\n",
       "      <th id=\"T_51586_level0_col5\" class=\"col_heading level0 col5\" >Memory [GB]</th>\n",
       "    </tr>\n",
       "  </thead>\n",
       "  <tbody>\n",
       "    <tr>\n",
       "      <th id=\"T_51586_level0_row0\" class=\"row_heading level0 row0\" >shmap-k25-r0.03-t0.5-diff0.05</th>\n",
       "      <td id=\"T_51586_row0_col0\" class=\"data row0 col0\" >508119</td>\n",
       "      <td id=\"T_51586_row0_col1\" class=\"data row0 col1\" >8.1%</td>\n",
       "      <td id=\"T_51586_row0_col2\" class=\"data row0 col2\" >n/a</td>\n",
       "      <td id=\"T_51586_row0_col3\" class=\"data row0 col3\" >32.6</td>\n",
       "      <td id=\"T_51586_row0_col4\" class=\"data row0 col4\" >190.9</td>\n",
       "      <td id=\"T_51586_row0_col5\" class=\"data row0 col5\" >8.6</td>\n",
       "    </tr>\n",
       "    <tr>\n",
       "      <th id=\"T_51586_level0_row1\" class=\"row_heading level0 row1\" >blend</th>\n",
       "      <td id=\"T_51586_row1_col0\" class=\"data row1 col0\" >521759</td>\n",
       "      <td id=\"T_51586_row1_col1\" class=\"data row1 col1\" >5.7%</td>\n",
       "      <td id=\"T_51586_row1_col2\" class=\"data row1 col2\" >n/a</td>\n",
       "      <td id=\"T_51586_row1_col3\" class=\"data row1 col3\" >51.9</td>\n",
       "      <td id=\"T_51586_row1_col4\" class=\"data row1 col4\" >465.8</td>\n",
       "      <td id=\"T_51586_row1_col5\" class=\"data row1 col5\" >5.4</td>\n",
       "    </tr>\n",
       "  </tbody>\n",
       "</table>\n"
      ],
      "text/plain": [
       "<pandas.io.formats.style.Styler at 0x730f5aca6680>"
      ]
     },
     "metadata": {},
     "output_type": "display_data"
    }
   ],
   "source": [
    "main_dir = Path('out_small')\n",
    "#tools = ['mm2-fast', 'winnowmap']\n",
    "#tools = ['shmap-k25-r0.05-t0.4-diff0.05', 'minimap', 'blend', 'mapquik', 'mm2-fast', 'winnowmap'] #, ['shmap-k25-r0.05-t0.4-diff2', 'shmap-k25-r0.05-t0.4-diff0.02', 'shmap-k25-r0.05-t0.4-diff0.15', 'blend'] #, 'shmap-diff0.02', 'shmap-diff0.1'] #, 'blend', 'winnowmap', 'minimap', 'mapquik', 'mm2-fast'] #, 'shmap-diff0.15', 'shmap-diff0.02', 'shmap'] #, 'shmap-MIN_DIFF-002']  # 'shmap-noprune',  'shmap-k25-r0.05-t0.4-diff0.15', 'shmap-k25-r0.05-t0.5-diff0.1'\n",
    "tools = ['shmap-k25-r0.03-t0.5-diff0.05', 'blend'] #['minimap']#, , 'shmap-k25-r0.05-t0.4-diff0.02']\n",
    "experiments = [\n",
    "    ('chrY',  'chrY-readschrY-a?-d2-l?'),\n",
    "    ('chm13', 'chm13-readshg002-a?-d1-l?'),\n",
    "    ('chm13', 'chm13-readschm13-a?-d1-l?'),\n",
    "    ('chm13', 'HG002_small'),\n",
    "]\n",
    "\n",
    "pd.set_option('display.width', 100)\n",
    "css = \"\"\" <style> table { font-family: \"Courier New\", Courier, monospace; } </style> \"\"\"\n",
    "display(HTML(css))\n",
    "dfs = []\n",
    "keys = []\n",
    "for refname, data in experiments:\n",
    "    df = get_comparison_table(main_dir=main_dir, refname=refname, experiment=data, tools=tools).round(2)\n",
    "    dfs.append(df)\n",
    "    keys.append(data)\n",
    "    df_styled = df.style.set_caption(data)\n",
    "    display(df_styled)\n",
    "DF = pd.concat(dfs, keys=keys)\n",
    "#display(DF)\n",
    "DF.to_latex('evals-table.tex', escape=True, multirow=False)"
   ]
  },
  {
   "cell_type": "code",
   "execution_count": 115,
   "metadata": {},
   "outputs": [
    {
     "data": {
      "text/html": [
       " <style> table { font-family: \"Courier New\", Courier, monospace; } </style> "
      ],
      "text/plain": [
       "<IPython.core.display.HTML object>"
      ]
     },
     "metadata": {},
     "output_type": "display_data"
    },
    {
     "ename": "FileNotFoundError",
     "evalue": "[Errno 2] No such file or directory: 'refs/t2tChrY.fa'",
     "output_type": "error",
     "traceback": [
      "\u001b[0;31m---------------------------------------------------------------------------\u001b[0m",
      "\u001b[0;31mFileNotFoundError\u001b[0m                         Traceback (most recent call last)",
      "\u001b[0;32m/tmp/ipykernel_14620/3411991147.py\u001b[0m in \u001b[0;36m<module>\u001b[0;34m\u001b[0m\n\u001b[1;32m     16\u001b[0m \u001b[0mkeys\u001b[0m \u001b[0;34m=\u001b[0m \u001b[0;34m[\u001b[0m\u001b[0;34m]\u001b[0m\u001b[0;34m\u001b[0m\u001b[0;34m\u001b[0m\u001b[0m\n\u001b[1;32m     17\u001b[0m \u001b[0;32mfor\u001b[0m \u001b[0mrefname\u001b[0m\u001b[0;34m,\u001b[0m \u001b[0mdata\u001b[0m \u001b[0;32min\u001b[0m \u001b[0mexperiments\u001b[0m\u001b[0;34m:\u001b[0m\u001b[0;34m\u001b[0m\u001b[0;34m\u001b[0m\u001b[0m\n\u001b[0;32m---> 18\u001b[0;31m     \u001b[0mdf\u001b[0m \u001b[0;34m=\u001b[0m \u001b[0mget_comparison_table\u001b[0m\u001b[0;34m(\u001b[0m\u001b[0mmain_dir\u001b[0m\u001b[0;34m=\u001b[0m\u001b[0mmain_dir\u001b[0m\u001b[0;34m,\u001b[0m \u001b[0mrefname\u001b[0m\u001b[0;34m=\u001b[0m\u001b[0mrefname\u001b[0m\u001b[0;34m,\u001b[0m \u001b[0mexperiment\u001b[0m\u001b[0;34m=\u001b[0m\u001b[0mdata\u001b[0m\u001b[0;34m,\u001b[0m \u001b[0mtools\u001b[0m\u001b[0;34m=\u001b[0m\u001b[0mtools\u001b[0m\u001b[0;34m)\u001b[0m\u001b[0;34m.\u001b[0m\u001b[0mround\u001b[0m\u001b[0;34m(\u001b[0m\u001b[0;36m2\u001b[0m\u001b[0;34m)\u001b[0m\u001b[0;34m\u001b[0m\u001b[0;34m\u001b[0m\u001b[0m\n\u001b[0m\u001b[1;32m     19\u001b[0m     \u001b[0mdfs\u001b[0m\u001b[0;34m.\u001b[0m\u001b[0mappend\u001b[0m\u001b[0;34m(\u001b[0m\u001b[0mdf\u001b[0m\u001b[0;34m)\u001b[0m\u001b[0;34m\u001b[0m\u001b[0;34m\u001b[0m\u001b[0m\n\u001b[1;32m     20\u001b[0m     \u001b[0mkeys\u001b[0m\u001b[0;34m.\u001b[0m\u001b[0mappend\u001b[0m\u001b[0;34m(\u001b[0m\u001b[0mdata\u001b[0m\u001b[0;34m)\u001b[0m\u001b[0;34m\u001b[0m\u001b[0;34m\u001b[0m\u001b[0m\n",
      "\u001b[0;32m/tmp/ipykernel_14620/4218661564.py\u001b[0m in \u001b[0;36mget_comparison_table\u001b[0;34m(main_dir, refname, experiment, tools)\u001b[0m\n\u001b[1;32m    146\u001b[0m     \u001b[0malldf\u001b[0m \u001b[0;34m=\u001b[0m \u001b[0mpd\u001b[0m\u001b[0;34m.\u001b[0m\u001b[0mDataFrame\u001b[0m\u001b[0;34m(\u001b[0m\u001b[0;34m)\u001b[0m\u001b[0;34m\u001b[0m\u001b[0;34m\u001b[0m\u001b[0m\n\u001b[1;32m    147\u001b[0m     \u001b[0malldf\u001b[0m\u001b[0;34m.\u001b[0m\u001b[0mname\u001b[0m \u001b[0;34m=\u001b[0m \u001b[0mexperiment\u001b[0m\u001b[0;34m\u001b[0m\u001b[0;34m\u001b[0m\u001b[0m\n\u001b[0;32m--> 148\u001b[0;31m     \u001b[0mref\u001b[0m \u001b[0;34m=\u001b[0m \u001b[0mfasta2df\u001b[0m\u001b[0;34m(\u001b[0m\u001b[0mPath\u001b[0m\u001b[0;34m(\u001b[0m\u001b[0;34m'refs'\u001b[0m\u001b[0;34m)\u001b[0m \u001b[0;34m/\u001b[0m \u001b[0;34m(\u001b[0m\u001b[0mrefname\u001b[0m \u001b[0;34m+\u001b[0m \u001b[0;34m'.fa'\u001b[0m\u001b[0;34m)\u001b[0m\u001b[0;34m)\u001b[0m\u001b[0;34m\u001b[0m\u001b[0;34m\u001b[0m\u001b[0m\n\u001b[0m\u001b[1;32m    149\u001b[0m     \u001b[0mreads\u001b[0m \u001b[0;34m=\u001b[0m \u001b[0mfasta2df\u001b[0m\u001b[0;34m(\u001b[0m\u001b[0mPath\u001b[0m\u001b[0;34m(\u001b[0m\u001b[0;34m'reads'\u001b[0m\u001b[0;34m)\u001b[0m \u001b[0;34m/\u001b[0m \u001b[0;34m(\u001b[0m\u001b[0mstr\u001b[0m\u001b[0;34m(\u001b[0m\u001b[0mexperiment\u001b[0m\u001b[0;34m)\u001b[0m \u001b[0;34m+\u001b[0m \u001b[0;34m'.fa'\u001b[0m\u001b[0;34m)\u001b[0m\u001b[0;34m)\u001b[0m\u001b[0;34m\u001b[0m\u001b[0;34m\u001b[0m\u001b[0m\n\u001b[1;32m    150\u001b[0m \u001b[0;34m\u001b[0m\u001b[0m\n",
      "\u001b[0;32m/tmp/ipykernel_14620/4218661564.py\u001b[0m in \u001b[0;36mfasta2df\u001b[0;34m(fn)\u001b[0m\n\u001b[1;32m      5\u001b[0m \u001b[0;34m\u001b[0m\u001b[0m\n\u001b[1;32m      6\u001b[0m \u001b[0;32mdef\u001b[0m \u001b[0mfasta2df\u001b[0m\u001b[0;34m(\u001b[0m\u001b[0mfn\u001b[0m\u001b[0;34m)\u001b[0m\u001b[0;34m:\u001b[0m\u001b[0;34m\u001b[0m\u001b[0;34m\u001b[0m\u001b[0m\n\u001b[0;32m----> 7\u001b[0;31m     \u001b[0mseqs\u001b[0m \u001b[0;34m=\u001b[0m \u001b[0mSeqIO\u001b[0m\u001b[0;34m.\u001b[0m\u001b[0mparse\u001b[0m\u001b[0;34m(\u001b[0m\u001b[0mfn\u001b[0m\u001b[0;34m,\u001b[0m \u001b[0;34m\"fasta\"\u001b[0m\u001b[0;34m)\u001b[0m\u001b[0;34m\u001b[0m\u001b[0;34m\u001b[0m\u001b[0m\n\u001b[0m\u001b[1;32m      8\u001b[0m     \u001b[0mdf\u001b[0m \u001b[0;34m=\u001b[0m \u001b[0mpd\u001b[0m\u001b[0;34m.\u001b[0m\u001b[0mDataFrame\u001b[0m\u001b[0;34m(\u001b[0m\u001b[0;34m(\u001b[0m\u001b[0mstr\u001b[0m\u001b[0;34m(\u001b[0m\u001b[0ms\u001b[0m\u001b[0;34m.\u001b[0m\u001b[0mid\u001b[0m\u001b[0;34m)\u001b[0m\u001b[0;34m,\u001b[0m \u001b[0mstr\u001b[0m\u001b[0;34m(\u001b[0m\u001b[0ms\u001b[0m\u001b[0;34m.\u001b[0m\u001b[0mseq\u001b[0m\u001b[0;34m)\u001b[0m\u001b[0;34m)\u001b[0m \u001b[0;32mfor\u001b[0m \u001b[0ms\u001b[0m \u001b[0;32min\u001b[0m \u001b[0mseqs\u001b[0m\u001b[0;34m)\u001b[0m\u001b[0;34m\u001b[0m\u001b[0;34m\u001b[0m\u001b[0m\n\u001b[1;32m      9\u001b[0m     \u001b[0mdf\u001b[0m\u001b[0;34m.\u001b[0m\u001b[0mcolumns\u001b[0m \u001b[0;34m=\u001b[0m \u001b[0;34m[\u001b[0m\u001b[0;34m\"ID\"\u001b[0m\u001b[0;34m,\u001b[0m \u001b[0;34m\"Sequence\"\u001b[0m\u001b[0;34m]\u001b[0m\u001b[0;34m\u001b[0m\u001b[0;34m\u001b[0m\u001b[0m\n",
      "\u001b[0;32m~/.local/lib/python3.10/site-packages/Bio/SeqIO/__init__.py\u001b[0m in \u001b[0;36mparse\u001b[0;34m(handle, format, alphabet)\u001b[0m\n\u001b[1;32m    603\u001b[0m     \u001b[0miterator_generator\u001b[0m \u001b[0;34m=\u001b[0m \u001b[0m_FormatToIterator\u001b[0m\u001b[0;34m.\u001b[0m\u001b[0mget\u001b[0m\u001b[0;34m(\u001b[0m\u001b[0mformat\u001b[0m\u001b[0;34m)\u001b[0m\u001b[0;34m\u001b[0m\u001b[0;34m\u001b[0m\u001b[0m\n\u001b[1;32m    604\u001b[0m     \u001b[0;32mif\u001b[0m \u001b[0miterator_generator\u001b[0m\u001b[0;34m:\u001b[0m\u001b[0;34m\u001b[0m\u001b[0;34m\u001b[0m\u001b[0m\n\u001b[0;32m--> 605\u001b[0;31m         \u001b[0;32mreturn\u001b[0m \u001b[0miterator_generator\u001b[0m\u001b[0;34m(\u001b[0m\u001b[0mhandle\u001b[0m\u001b[0;34m)\u001b[0m\u001b[0;34m\u001b[0m\u001b[0;34m\u001b[0m\u001b[0m\n\u001b[0m\u001b[1;32m    606\u001b[0m     \u001b[0;32mif\u001b[0m \u001b[0mformat\u001b[0m \u001b[0;32min\u001b[0m \u001b[0mAlignIO\u001b[0m\u001b[0;34m.\u001b[0m\u001b[0m_FormatToIterator\u001b[0m\u001b[0;34m:\u001b[0m\u001b[0;34m\u001b[0m\u001b[0;34m\u001b[0m\u001b[0m\n\u001b[1;32m    607\u001b[0m         \u001b[0;31m# Use Bio.AlignIO to read in the alignments\u001b[0m\u001b[0;34m\u001b[0m\u001b[0;34m\u001b[0m\u001b[0m\n",
      "\u001b[0;32m~/.local/lib/python3.10/site-packages/Bio/SeqIO/FastaIO.py\u001b[0m in \u001b[0;36m__init__\u001b[0;34m(self, source, alphabet, title2ids)\u001b[0m\n\u001b[1;32m    221\u001b[0m             )\n\u001b[1;32m    222\u001b[0m         \u001b[0mself\u001b[0m\u001b[0;34m.\u001b[0m\u001b[0mtitle2ids\u001b[0m \u001b[0;34m=\u001b[0m \u001b[0mtitle2ids\u001b[0m\u001b[0;34m\u001b[0m\u001b[0;34m\u001b[0m\u001b[0m\n\u001b[0;32m--> 223\u001b[0;31m         \u001b[0msuper\u001b[0m\u001b[0;34m(\u001b[0m\u001b[0;34m)\u001b[0m\u001b[0;34m.\u001b[0m\u001b[0m__init__\u001b[0m\u001b[0;34m(\u001b[0m\u001b[0msource\u001b[0m\u001b[0;34m,\u001b[0m \u001b[0mmode\u001b[0m\u001b[0;34m=\u001b[0m\u001b[0;34m\"t\"\u001b[0m\u001b[0;34m,\u001b[0m \u001b[0mfmt\u001b[0m\u001b[0;34m=\u001b[0m\u001b[0;34m\"Fasta\"\u001b[0m\u001b[0;34m)\u001b[0m\u001b[0;34m\u001b[0m\u001b[0;34m\u001b[0m\u001b[0m\n\u001b[0m\u001b[1;32m    224\u001b[0m \u001b[0;34m\u001b[0m\u001b[0m\n\u001b[1;32m    225\u001b[0m     \u001b[0;32mdef\u001b[0m \u001b[0mparse\u001b[0m\u001b[0;34m(\u001b[0m\u001b[0mself\u001b[0m\u001b[0;34m,\u001b[0m \u001b[0mhandle\u001b[0m\u001b[0;34m)\u001b[0m\u001b[0;34m:\u001b[0m\u001b[0;34m\u001b[0m\u001b[0;34m\u001b[0m\u001b[0m\n",
      "\u001b[0;32m~/.local/lib/python3.10/site-packages/Bio/SeqIO/Interfaces.py\u001b[0m in \u001b[0;36m__init__\u001b[0;34m(self, source, alphabet, mode, fmt)\u001b[0m\n\u001b[1;32m     43\u001b[0m             \u001b[0;32mraise\u001b[0m \u001b[0mValueError\u001b[0m\u001b[0;34m(\u001b[0m\u001b[0;34m\"The alphabet argument is no longer supported\"\u001b[0m\u001b[0;34m)\u001b[0m\u001b[0;34m\u001b[0m\u001b[0;34m\u001b[0m\u001b[0m\n\u001b[1;32m     44\u001b[0m         \u001b[0;32mtry\u001b[0m\u001b[0;34m:\u001b[0m\u001b[0;34m\u001b[0m\u001b[0;34m\u001b[0m\u001b[0m\n\u001b[0;32m---> 45\u001b[0;31m             \u001b[0mself\u001b[0m\u001b[0;34m.\u001b[0m\u001b[0mstream\u001b[0m \u001b[0;34m=\u001b[0m \u001b[0mopen\u001b[0m\u001b[0;34m(\u001b[0m\u001b[0msource\u001b[0m\u001b[0;34m,\u001b[0m \u001b[0;34m\"r\"\u001b[0m \u001b[0;34m+\u001b[0m \u001b[0mmode\u001b[0m\u001b[0;34m)\u001b[0m\u001b[0;34m\u001b[0m\u001b[0;34m\u001b[0m\u001b[0m\n\u001b[0m\u001b[1;32m     46\u001b[0m             \u001b[0mself\u001b[0m\u001b[0;34m.\u001b[0m\u001b[0mshould_close_stream\u001b[0m \u001b[0;34m=\u001b[0m \u001b[0;32mTrue\u001b[0m\u001b[0;34m\u001b[0m\u001b[0;34m\u001b[0m\u001b[0m\n\u001b[1;32m     47\u001b[0m         \u001b[0;32mexcept\u001b[0m \u001b[0mTypeError\u001b[0m\u001b[0;34m:\u001b[0m  \u001b[0;31m# not a path, assume we received a stream\u001b[0m\u001b[0;34m\u001b[0m\u001b[0;34m\u001b[0m\u001b[0m\n",
      "\u001b[0;31mFileNotFoundError\u001b[0m: [Errno 2] No such file or directory: 'refs/t2tChrY.fa'"
     ]
    }
   ],
   "source": [
    "main_dir = Path('out')\n",
    "#tools = ['mm2-fast', 'winnowmap']\n",
    "tools = ['minimap', 'winnowmap', 'blend', 'mapquik', 'shmap-noprune', 'shmap']\n",
    "#tools = ['minimap', 'shmap-noprune', 'shmap']\n",
    "experiments = [\n",
    "    ('t2tChrY', 't2tChrY-readst2tChrY-a0.99-d10-l10000'),\n",
    "    ('chm13',   'chm13-readschm13-a0.99-d1-l10000'),\n",
    "    ('t2tChrY', 't2tChrY-readst2tChrY-a0.99-d10-l24000'),\n",
    "    ('chm13',   'HG002_24kb_10G'),\n",
    "]\n",
    "\n",
    "pd.set_option('display.width', 100)\n",
    "css = \"\"\" <style> table { font-family: \"Courier New\", Courier, monospace; } </style> \"\"\"\n",
    "display(HTML(css))\n",
    "dfs = []\n",
    "keys = []\n",
    "for refname, data in experiments:\n",
    "    df = get_comparison_table(main_dir=main_dir, refname=refname, experiment=data, tools=tools).round(2)\n",
    "    dfs.append(df)\n",
    "    keys.append(data)\n",
    "    df_styled = df.style.set_caption(data)\n",
    "    display(df_styled)\n",
    "DF = pd.concat(dfs, keys=keys)\n",
    "display(DF)\n",
    "DF.to_latex('evals-table.tex', escape=True, multirow=False)"
   ]
  },
  {
   "cell_type": "code",
   "execution_count": 5,
   "metadata": {},
   "outputs": [
    {
     "ename": "NameError",
     "evalue": "name 'df_styled' is not defined",
     "output_type": "error",
     "traceback": [
      "\u001b[0;31m---------------------------------------------------------------------------\u001b[0m",
      "\u001b[0;31mNameError\u001b[0m                                 Traceback (most recent call last)",
      "\u001b[0;32m/tmp/ipykernel_3957263/209361413.py\u001b[0m in \u001b[0;36m<module>\u001b[0;34m\u001b[0m\n\u001b[1;32m      3\u001b[0m     \u001b[0;32mreturn\u001b[0m \u001b[0;34m[\u001b[0m\u001b[0;34m'font-weight: bold'\u001b[0m \u001b[0;32mif\u001b[0m \u001b[0mv\u001b[0m \u001b[0;32melse\u001b[0m \u001b[0;34m''\u001b[0m \u001b[0;32mfor\u001b[0m \u001b[0mv\u001b[0m \u001b[0;32min\u001b[0m \u001b[0mis_max\u001b[0m\u001b[0;34m]\u001b[0m\u001b[0;34m\u001b[0m\u001b[0;34m\u001b[0m\u001b[0m\n\u001b[1;32m      4\u001b[0m \u001b[0;34m\u001b[0m\u001b[0m\n\u001b[0;32m----> 5\u001b[0;31m \u001b[0mdf_high\u001b[0m \u001b[0;34m=\u001b[0m \u001b[0mdf_styled\u001b[0m\u001b[0;34m.\u001b[0m\u001b[0mapply\u001b[0m\u001b[0;34m(\u001b[0m\u001b[0mhighlight_max\u001b[0m\u001b[0;34m)\u001b[0m\u001b[0;34m.\u001b[0m\u001b[0mset_caption\u001b[0m\u001b[0;34m(\u001b[0m\u001b[0mdata\u001b[0m\u001b[0;34m)\u001b[0m\u001b[0;34m\u001b[0m\u001b[0;34m\u001b[0m\u001b[0m\n\u001b[0m\u001b[1;32m      6\u001b[0m \u001b[0mdisplay\u001b[0m\u001b[0;34m(\u001b[0m\u001b[0mdf_high\u001b[0m\u001b[0;34m.\u001b[0m\u001b[0mto_latex\u001b[0m\u001b[0;34m(\u001b[0m\u001b[0mescape\u001b[0m\u001b[0;34m=\u001b[0m\u001b[0;32mFalse\u001b[0m\u001b[0;34m)\u001b[0m\u001b[0;34m)\u001b[0m\u001b[0;34m\u001b[0m\u001b[0;34m\u001b[0m\u001b[0m\n\u001b[1;32m      7\u001b[0m \u001b[0;34m\u001b[0m\u001b[0m\n",
      "\u001b[0;31mNameError\u001b[0m: name 'df_styled' is not defined"
     ]
    }
   ],
   "source": [
    "def highlight_max(s):\n",
    "    is_max = s == s.max()\n",
    "    return ['font-weight: bold' if v else '' for v in is_max]\n",
    "\n",
    "df_high = df_styled.apply(highlight_max).set_caption(data)\n",
    "display(df_high.to_latex(escape=False))\n",
    "\n",
    "display(df_high)"
   ]
  },
  {
   "cell_type": "code",
   "execution_count": 109,
   "metadata": {},
   "outputs": [
    {
     "data": {
      "text/html": [
       "<div>\n",
       "<style scoped>\n",
       "    .dataframe tbody tr th:only-of-type {\n",
       "        vertical-align: middle;\n",
       "    }\n",
       "\n",
       "    .dataframe tbody tr th {\n",
       "        vertical-align: top;\n",
       "    }\n",
       "\n",
       "    .dataframe thead th {\n",
       "        text-align: right;\n",
       "    }\n",
       "</style>\n",
       "<table border=\"1\" class=\"dataframe\">\n",
       "  <thead>\n",
       "    <tr style=\"text-align: right;\">\n",
       "      <th></th>\n",
       "      <th></th>\n",
       "      <th>Mapped Q60</th>\n",
       "      <th>Q&lt;60 or missed</th>\n",
       "      <th>Wrong Q60</th>\n",
       "      <th>Index [sec]</th>\n",
       "      <th>Map [sec]</th>\n",
       "      <th>Memory [GB]</th>\n",
       "    </tr>\n",
       "  </thead>\n",
       "  <tbody>\n",
       "    <tr>\n",
       "      <th rowspan=\"5\" valign=\"top\">t2tChrY-readst2tChrY-a0.99-d10-l10000</th>\n",
       "      <th>jaccmap</th>\n",
       "      <td>43528</td>\n",
       "      <td>0</td>\n",
       "      <td>12</td>\n",
       "      <td>0.7</td>\n",
       "      <td>117.1</td>\n",
       "      <td>0.4</td>\n",
       "    </tr>\n",
       "    <tr>\n",
       "      <th>minimap</th>\n",
       "      <td>20572</td>\n",
       "      <td>0</td>\n",
       "      <td>0</td>\n",
       "      <td>1.6</td>\n",
       "      <td>1153.4</td>\n",
       "      <td>0.7</td>\n",
       "    </tr>\n",
       "    <tr>\n",
       "      <th>mapquik</th>\n",
       "      <td>25907</td>\n",
       "      <td>7727</td>\n",
       "      <td>0</td>\n",
       "      <td>0.5</td>\n",
       "      <td>4.7</td>\n",
       "      <td>1.5</td>\n",
       "    </tr>\n",
       "    <tr>\n",
       "      <th>blend</th>\n",
       "      <td>29461</td>\n",
       "      <td>0</td>\n",
       "      <td>132</td>\n",
       "      <td>1.1</td>\n",
       "      <td>371.8</td>\n",
       "      <td>0.6</td>\n",
       "    </tr>\n",
       "    <tr>\n",
       "      <th>winnowmap</th>\n",
       "      <td>34803</td>\n",
       "      <td>0</td>\n",
       "      <td>38</td>\n",
       "      <td>2.5</td>\n",
       "      <td>54016.1</td>\n",
       "      <td>16.4</td>\n",
       "    </tr>\n",
       "    <tr>\n",
       "      <th rowspan=\"5\" valign=\"top\">chm13-readschm13-a0.99-d0.1-l10000</th>\n",
       "      <th>jaccmap</th>\n",
       "      <td>30278</td>\n",
       "      <td>0</td>\n",
       "      <td>1</td>\n",
       "      <td>41.5</td>\n",
       "      <td>15.5</td>\n",
       "      <td>12.3</td>\n",
       "    </tr>\n",
       "    <tr>\n",
       "      <th>minimap</th>\n",
       "      <td>28233</td>\n",
       "      <td>0</td>\n",
       "      <td>0</td>\n",
       "      <td>79.2</td>\n",
       "      <td>60.9</td>\n",
       "      <td>10.2</td>\n",
       "    </tr>\n",
       "    <tr>\n",
       "      <th>mapquik</th>\n",
       "      <td>8</td>\n",
       "      <td>17378</td>\n",
       "      <td>8</td>\n",
       "      <td>30.3</td>\n",
       "      <td>3.1</td>\n",
       "      <td>4.2</td>\n",
       "    </tr>\n",
       "    <tr>\n",
       "      <th>blend</th>\n",
       "      <td>29288</td>\n",
       "      <td>2</td>\n",
       "      <td>19</td>\n",
       "      <td>51.4</td>\n",
       "      <td>13.0</td>\n",
       "      <td>5.4</td>\n",
       "    </tr>\n",
       "    <tr>\n",
       "      <th>winnowmap</th>\n",
       "      <td>29501</td>\n",
       "      <td>1</td>\n",
       "      <td>4</td>\n",
       "      <td>120.1</td>\n",
       "      <td>1372.5</td>\n",
       "      <td>3.3</td>\n",
       "    </tr>\n",
       "    <tr>\n",
       "      <th rowspan=\"4\" valign=\"top\">t2tChrY-readst2tChrY-a0.99-d1-l24000</th>\n",
       "      <th>jaccmap</th>\n",
       "      <td>2198</td>\n",
       "      <td>0</td>\n",
       "      <td>1</td>\n",
       "      <td>0.6</td>\n",
       "      <td>5.8</td>\n",
       "      <td>0.4</td>\n",
       "    </tr>\n",
       "    <tr>\n",
       "      <th>minimap</th>\n",
       "      <td>935</td>\n",
       "      <td>0</td>\n",
       "      <td>0</td>\n",
       "      <td>1.7</td>\n",
       "      <td>159.4</td>\n",
       "      <td>0.3</td>\n",
       "    </tr>\n",
       "    <tr>\n",
       "      <th>mapquik</th>\n",
       "      <td>1472</td>\n",
       "      <td>84</td>\n",
       "      <td>0</td>\n",
       "      <td>0.5</td>\n",
       "      <td>0.5</td>\n",
       "      <td>1.5</td>\n",
       "    </tr>\n",
       "    <tr>\n",
       "      <th>blend</th>\n",
       "      <td>1521</td>\n",
       "      <td>0</td>\n",
       "      <td>6</td>\n",
       "      <td>1.1</td>\n",
       "      <td>52.9</td>\n",
       "      <td>0.2</td>\n",
       "    </tr>\n",
       "    <tr>\n",
       "      <th rowspan=\"4\" valign=\"top\">HG002_24kb</th>\n",
       "      <th>jaccmap</th>\n",
       "      <td>21522</td>\n",
       "      <td>52</td>\n",
       "      <td>n/a</td>\n",
       "      <td>43.2</td>\n",
       "      <td>33.2</td>\n",
       "      <td>12.3</td>\n",
       "    </tr>\n",
       "    <tr>\n",
       "      <th>minimap</th>\n",
       "      <td>20365</td>\n",
       "      <td>3</td>\n",
       "      <td>n/a</td>\n",
       "      <td>78.7</td>\n",
       "      <td>141.4</td>\n",
       "      <td>10.2</td>\n",
       "    </tr>\n",
       "    <tr>\n",
       "      <th>mapquik</th>\n",
       "      <td>510</td>\n",
       "      <td>9894</td>\n",
       "      <td>n/a</td>\n",
       "      <td>30.4</td>\n",
       "      <td>6.6</td>\n",
       "      <td>4.2</td>\n",
       "    </tr>\n",
       "    <tr>\n",
       "      <th>blend</th>\n",
       "      <td>20752</td>\n",
       "      <td>9</td>\n",
       "      <td>n/a</td>\n",
       "      <td>51.2</td>\n",
       "      <td>32.2</td>\n",
       "      <td>5.4</td>\n",
       "    </tr>\n",
       "  </tbody>\n",
       "</table>\n",
       "</div>"
      ],
      "text/plain": [
       "                                                 Mapped Q60  Q<60 or missed Wrong Q60 Index [sec]  \\\n",
       "t2tChrY-readst2tChrY-a0.99-d10-l10000 jaccmap         43528               0        12         0.7   \n",
       "                                      minimap         20572               0         0         1.6   \n",
       "                                      mapquik         25907            7727         0         0.5   \n",
       "                                      blend           29461               0       132         1.1   \n",
       "                                      winnowmap       34803               0        38         2.5   \n",
       "chm13-readschm13-a0.99-d0.1-l10000    jaccmap         30278               0         1        41.5   \n",
       "                                      minimap         28233               0         0        79.2   \n",
       "                                      mapquik             8           17378         8        30.3   \n",
       "                                      blend           29288               2        19        51.4   \n",
       "                                      winnowmap       29501               1         4       120.1   \n",
       "t2tChrY-readst2tChrY-a0.99-d1-l24000  jaccmap          2198               0         1         0.6   \n",
       "                                      minimap           935               0         0         1.7   \n",
       "                                      mapquik          1472              84         0         0.5   \n",
       "                                      blend            1521               0         6         1.1   \n",
       "HG002_24kb                            jaccmap         21522              52       n/a        43.2   \n",
       "                                      minimap         20365               3       n/a        78.7   \n",
       "                                      mapquik           510            9894       n/a        30.4   \n",
       "                                      blend           20752               9       n/a        51.2   \n",
       "\n",
       "                                                Map [sec] Memory [GB]  \n",
       "t2tChrY-readst2tChrY-a0.99-d10-l10000 jaccmap       117.1         0.4  \n",
       "                                      minimap      1153.4         0.7  \n",
       "                                      mapquik         4.7         1.5  \n",
       "                                      blend         371.8         0.6  \n",
       "                                      winnowmap   54016.1        16.4  \n",
       "chm13-readschm13-a0.99-d0.1-l10000    jaccmap        15.5        12.3  \n",
       "                                      minimap        60.9        10.2  \n",
       "                                      mapquik         3.1         4.2  \n",
       "                                      blend          13.0         5.4  \n",
       "                                      winnowmap    1372.5         3.3  \n",
       "t2tChrY-readst2tChrY-a0.99-d1-l24000  jaccmap         5.8         0.4  \n",
       "                                      minimap       159.4         0.3  \n",
       "                                      mapquik         0.5         1.5  \n",
       "                                      blend          52.9         0.2  \n",
       "HG002_24kb                            jaccmap        33.2        12.3  \n",
       "                                      minimap       141.4        10.2  \n",
       "                                      mapquik         6.6         4.2  \n",
       "                                      blend          32.2         5.4  "
      ]
     },
     "metadata": {},
     "output_type": "display_data"
    }
   ],
   "source": [
    "DF = pd.concat(dfs, keys=keys)\n",
    "display(DF)\n",
    "DF.to_latex('evals-table.tex', escape=True)"
   ]
  },
  {
   "cell_type": "code",
   "execution_count": 124,
   "metadata": {},
   "outputs": [],
   "source": [
    "DF.to_latex('evals-table.tex', escape=True, multirow=False)"
   ]
  },
  {
   "cell_type": "code",
   "execution_count": 14,
   "metadata": {},
   "outputs": [
    {
     "data": {
      "image/png": "[encoded data removed]",
      "text/plain": [
       "<Figure size 432x360 with 1 Axes>"
      ]
     },
     "metadata": {
      "needs_background": "light"
     },
     "output_type": "display_data"
    }
   ],
   "source": [
    "data = {\n",
    "    \"is_correct\": [1, 0, 1, 1, 0, 1, 0, 1, 1, 0],\n",
    "    \"mapping_quality\": [30, 20, 50, 40, 10, 60, 15, 35, 25, 5]\n",
    "}\n",
    "df = pd.DataFrame(data)\n",
    "plot_mapping_quality(df)"
   ]
  },
  {
   "cell_type": "code",
   "execution_count": null,
   "metadata": {},
   "outputs": [],
   "source": []
  }
 ],
 "metadata": {
  "kernelspec": {
   "display_name": "Python 3",
   "language": "python",
   "name": "python3"
  },
  "language_info": {
   "codemirror_mode": {
    "name": "ipython",
    "version": 3
   },
   "file_extension": ".py",
   "mimetype": "text/x-python",
   "name": "python",
   "nbconvert_exporter": "python",
   "pygments_lexer": "ipython3",
   "version": "3.10.12"
  },
  "orig_nbformat": 4
 },
 "nbformat": 4,
 "nbformat_minor": 2
}
