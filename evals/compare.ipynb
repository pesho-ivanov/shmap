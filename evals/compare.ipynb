{
 "cells": [
  {
   "cell_type": "code",
   "execution_count": 1,
   "metadata": {},
   "outputs": [
    {
     "name": "stderr",
     "output_type": "stream",
     "text": [
      "/usr/lib/python3/dist-packages/scipy/__init__.py:146: UserWarning: A NumPy version >=1.17.3 and <1.25.0 is required for this version of SciPy (detected version 1.25.2\n",
      "  warnings.warn(f\"A NumPy version >={np_minversion} and <{np_maxversion}\"\n"
     ]
    }
   ],
   "source": [
    "import seaborn as sns\n",
    "import matplotlib.pyplot as plt\n",
    "import pandas as pd\n",
    "import numpy as np\n",
    "from pathlib import Path\n",
    "from IPython.display import display, HTML\n",
    "from Bio import SeqIO\n",
    "import os\n",
    "#from astropy import units as u\n",
    "import sys\n",
    "from readpaf import parse_paf\n",
    "from collections import Counter\n",
    "from tqdm import tqdm\n",
    "\n",
    "import sv\n",
    "\n",
    "#from itables import init_notebook_mode\n",
    "#init_notebook_mode(all_interactive=True)\n",
    "\n",
    "def to_latex(df, data, refname):\n",
    "    latex = \"\"\n",
    "    df.index = df.index.map(lambda x: f'\\\\{x}')\n",
    "    df.columns = df.columns.str.replace(' ', '\\\\\\\\')\n",
    "    df.columns = df.columns.str.replace('%', '\\%')\n",
    "    df.columns = df.columns.map(lambda x: '\\makecell{' + x + '}')\n",
    "    #df = df.astype(str).map(lambda x: x.rstrip('0').rstrip('.') if '.' in x else x)\n",
    "    latex += df.to_latex(escape=False, label=f'tab:{refname}', caption=data, float_format = lambda x: '{:0.2f}'.format(x) if pd.notna(x) else '-')\n",
    "    #latex += df.to_latex(float_format = lambda x: '{:0.2f}'.format(x) if pd.notna(x) else '-')\n",
    "    latex += '\\n'\n",
    "    return latex"
   ]
  },
  {
   "cell_type": "code",
   "execution_count": 2,
   "metadata": {},
   "outputs": [],
   "source": [
    "def union_length(df):\n",
    "    df_sorted = df.sort_values(by='target_start').reset_index(drop=True)\n",
    "    merged_intervals = []\n",
    "    current_start, current_end = df_sorted.iloc[0]['target_start'], df_sorted.iloc[0]['target_end']\n",
    "\n",
    "    for index, row in df_sorted.iterrows():\n",
    "        if index == 0:\n",
    "            continue\n",
    "        if row['target_start'] <= current_end:\n",
    "            current_end = max(current_end, row['target_end'])\n",
    "        else:\n",
    "            merged_intervals.append((current_start, current_end))\n",
    "            current_start, current_end = row['target_start'], row['target_end']\n",
    "\n",
    "    merged_intervals.append((current_start, current_end))\n",
    "    union_length = sum(end - start for start, end in merged_intervals)\n",
    "    return union_length"
   ]
  },
  {
   "cell_type": "code",
   "execution_count": 11,
   "metadata": {},
   "outputs": [],
   "source": [
    "def perc(a, b):\n",
    "    if b == 0:\n",
    "        return np.nan\n",
    "    return 100.0 * a / b\n",
    "\n",
    "def fasta2df(fn):\n",
    "    seqs = SeqIO.parse(fn, \"fasta\")\n",
    "    df = pd.DataFrame((str(s.id), str(s.seq)) for s in seqs)\n",
    "    df.columns = [\"ID\", \"Sequence\"]\n",
    "    return df\n",
    "\n",
    "def is_overlapping(a, sv_row):\n",
    "    return a.GT_from <= sv_row['END'] and sv_row['POS'] <= a.GT_to \n",
    "    \n",
    "min_overlap = 0.9\n",
    "\n",
    "# def is_correct(a):\n",
    "#     if a.GT_ref != a.target_name:\n",
    "#         return False\n",
    "#     if a.GT_strand != a.strand:\n",
    "#         return False\n",
    "#     union_from = min(a.GT_from, a.target_start)\n",
    "#     union_to = max(a.GT_to, a.target_end)\n",
    "\n",
    "#     intersect_from = max(a.GT_from, a.target_start)\n",
    "#     intersect_to = min(a.GT_to, a.target_end)\n",
    "#     overlaps = intersect_to - intersect_from >= min_overlap * (union_to - union_from)\n",
    "#     return overlaps\n",
    "\n",
    "def is_correct_labels(a, GT_l, target_l, debug=False):\n",
    "    if a.GT_ref != a.target_name:\n",
    "        return False\n",
    "    if a.GT_strand != a.strand:  # won't work for inversions\n",
    "        return False\n",
    "#    union_from = min(a.GT_from, a.target_start)\n",
    "#    union_to = max(a.GT_to, a.target_end)\n",
    "\n",
    "    GT_labels = Counter(target_l[a.GT_ref][a.GT_from:a.GT_to])\n",
    "    target_labels = Counter(GT_l[a.target_name][a.target_start:a.target_end])\n",
    "    #GT_labels = Counter(GT_l[a.GT_ref][a.GT_from:a.GT_to])\n",
    "    #target_labels = Counter(target_l[a.target_name][a.target_start:a.target_end])\n",
    "    intersection = GT_labels & target_labels\n",
    "    union = GT_labels | target_labels\n",
    "    overlaps = sum(intersection.values()) >= min_overlap * sum(union.values())\n",
    "\n",
    "    if debug:\n",
    "        display(a)\n",
    "        display('           GT from {} to {}'.format(a.GT_from, a.GT_to))\n",
    "        display('       target from {} to {}'.format(a.target_start, a.target_end))\n",
    "        display('    GT_labels from {} to {}'.format(min(GT_labels), max(GT_labels)))\n",
    "        display('target_labels from {} to {}'.format(min(target_labels), max(target_labels)))\n",
    "        display('{} >?= {} = {} * union {} => {}'.format(sum(intersection.values()), min_overlap * sum(union.values()), min_overlap, sum(union.values()), overlaps))\n",
    "    return overlaps\n",
    "\n",
    "#def read_falls_on_what_sv_old(a, vcf_df):\n",
    "#    #print('read_falls_on_what_sv', a)\n",
    "#    sv_cnt = 0\n",
    "#    sv_type = 'none'\n",
    "#    for index, sv_row in vcf_df.iterrows():\n",
    "#        if sv_row['CHROM'] != a.GT_ref:\n",
    "#            continue\n",
    "#        if is_overlapping(a, sv_row):\n",
    "#            sv_cnt += 1\n",
    "#            sv_type = sv_row['SVTYPE']\n",
    "#    if sv_cnt > 1:\n",
    "#        return 'multi'\n",
    "#    return sv_type \n",
    "\n",
    "def read_falls_on_what_sv(a, vcf_df):\n",
    "    query_start = a['GT_from']\n",
    "    query_end = a['GT_to']\n",
    "    start_idx = vcf_df['POS'].searchsorted(query_start, side='right')\n",
    "    end_idx = vcf_df['END'].searchsorted(query_end, side='left')\n",
    "    overlap_df = vcf_df.iloc[start_idx:end_idx]\n",
    "    overlap_ch_df = overlap_df[overlap_df['CHROM'] == a['GT_ref']]\n",
    "    overlap_ch_sv = overlap_ch_df[(overlap_ch_df['POS'] <= query_end) & (overlap_ch_df['END'] >= query_start)]\n",
    "    #if len(overlap_ch_sv) > 0:\n",
    "    #    display(a, overlap_ch_sv)\n",
    "    if len(overlap_ch_sv) == 0:\n",
    "        return 'none'\n",
    "    elif len(overlap_ch_sv) == 1:\n",
    "        return overlap_ch_sv.iloc[0]['SVTYPE']\n",
    "    else:\n",
    "        return 'multi'\n",
    "\n",
    "def read_paf(pref, reads, experiment, tool, orig_l: dict, mutated_l: dict, vcf_df: pd.DataFrame):\n",
    "    display(vcf_df)\n",
    "    paf_file = pref.with_suffix('.paf')\n",
    "    no_GT = False\n",
    "    if not paf_file.exists():\n",
    "        raise Exception(f\"File does not exist or is empty: {paf_file}\")\n",
    "    with open(paf_file) as handle:\n",
    "        df = parse_paf(handle, dataframe=True)\n",
    "        df['experiment'] = experiment\n",
    "        df['tool'] = tool\n",
    "        try:\n",
    "            df[ ['read_name', 'GT_ref', 'GT_from', 'GT_to', 'GT_strand'] ] = df['query_name'].str.split('!', expand=True)\n",
    "            df['GT_from'] = df['GT_from'].astype(int)\n",
    "            df['GT_to'] = df['GT_to'].astype(int)\n",
    "            #df['is_correct_labels'] = df.apply(lambda x: is_correct_labels(x, orig_l, mutated_l), axis=1)\n",
    "            #df['is_correct'] = df.apply(is_correct, axis=1)\n",
    "            df['is_correct'] = df.apply(lambda x: is_correct_labels(x, orig_l, mutated_l), axis=1)\n",
    "            df['start_diff'] = df.target_start - df.GT_from  # TODO: different coordinate systems!\n",
    "            df['end_diff'] = df.target_end - df.GT_to  # TODO: different coordinate systems!\n",
    "            df['read_sv'] = df.apply(lambda x: read_falls_on_what_sv(x, vcf_df), axis=1)\n",
    "        except ValueError as e:\n",
    "            display(e)\n",
    "            df['read_name'] = df['query_name']\n",
    "            #df['is_correct_labels'] = True\n",
    "            df['is_correct'] = True\n",
    "            df['start_diff'] = 0\n",
    "            df['end_diff'] = 0\n",
    "            df['read_sv'] = 'none'\n",
    "            no_GT = True\n",
    "        display(df)\n",
    "    df = df.sort_values(['read_name', 'residue_matches'], ascending=[True, False], ignore_index=True)\n",
    "\n",
    "    # initialize from left to right\n",
    "    myNA = 'N/A'\n",
    "    bad = 'bad'\n",
    "    unique = 'uniq'\n",
    "    multi = 'mult'\n",
    "    bad_mappings_perc = bad+' mappings p.multiread'\n",
    "    paf = {}\n",
    "    paf[unique] = 0\n",
    "    paf[multi] = 0\n",
    "    paf['unmapped'] = 0\n",
    "    for suffix in ['', ' Q60']:\n",
    "        paf[bad + suffix] = 0\n",
    "        if suffix == '':\n",
    "            paf[multi+' '+bad+' group'] = 0\n",
    "            paf[bad_mappings_perc] = 0\n",
    "        paf[bad + ' ' + unique + suffix] = 0\n",
    "        paf[bad + ' ' + multi + suffix] = 0\n",
    "    prev_read_name = None\n",
    "\n",
    "    at_least_one_correct = False\n",
    "    for index, a in df.iterrows():\n",
    "        assert(df.loc[index, 'read_name'] == a.read_name)\n",
    "        next_read_name = df.loc[index + 1, 'read_name'] if index + 1 < len(df) else None\n",
    "        is_unique = a.read_name != prev_read_name and a.read_name != next_read_name\n",
    "        if is_unique:\n",
    "            paf[unique] += 1\n",
    "        if a.read_name != prev_read_name: \n",
    "            at_least_one_correct = False\n",
    "        if a.is_correct:\n",
    "            at_least_one_correct = True\n",
    "        elif not is_unique:\n",
    "            paf[bad_mappings_perc] += 1\n",
    "        if a.read_name != next_read_name:\n",
    "            if not at_least_one_correct and not is_unique:\n",
    "                paf[multi+' '+bad+' group'] += 1\n",
    "        if a.read_name == prev_read_name:\n",
    "            continue\n",
    "        if not is_unique:\n",
    "            paf[multi] += 1\n",
    "        if not a.is_correct:\n",
    "            #print('wrong:', a)\n",
    "            suffix = ' Q60' if a.mapping_quality == 60 else ''\n",
    "            paf[bad + suffix] += 1\n",
    "            if next_read_name != a.read_name:\n",
    "                paf[bad + ' ' + unique + suffix] += 1\n",
    "            else:\n",
    "                paf[bad + ' ' + multi + suffix] += 1\n",
    "        prev_read_name = a.read_name\n",
    "\n",
    "    if paf[multi] > 0:\n",
    "        paf[bad_mappings_perc] = '{:.2f}'.format(paf[bad_mappings_perc] / paf[multi])\n",
    "    else:\n",
    "        paf[bad_mappings_perc] = myNA\n",
    "    paf['unmapped'] = reads - paf[unique] - paf[multi]\n",
    "\n",
    "    paf['mean start diff'] = '{:.1f}'.format(df[df.is_correct].start_diff.mean())\n",
    "    paf['mean end diff'] = '{:.1f}'.format(df[df.is_correct].end_diff.mean())\n",
    "\n",
    "    for key in [unique, multi, 'unmapped', bad]:\n",
    "        paf[key] = '{} ({:.2f}%)'.format(paf[key], perc(paf[key], reads))\n",
    "    \n",
    "    if no_GT:\n",
    "        for suff in ['', ' '+unique, ' '+multi]:\n",
    "            for suffsuff in ['', ' Q60']:\n",
    "                paf[bad + suff + suffsuff] = myNA \n",
    "            paf[multi+' '+bad+' group'] = myNA\n",
    "            paf['addit '+bad+' aligns'] = myNA\n",
    "        paf['mean start diff'] = myNA\n",
    "        paf['mean end diff'] = myNA\n",
    "\n",
    "    paf['alignments depth'] = '{:.2f}'.format(sum(df['query_length']) / df.iloc[0]['target_length'])\n",
    "    union_len = union_length(df)\n",
    "    paf['covered reference'] = '{} ({:.2f}%)'.format(union_len, perc(union_len, df.iloc[0]['target_length']))\n",
    "\n",
    "    # for each sv type in vcf_df or 'multi', count how many alignment are not correct and calculate their percentage of all alignments on this SV\n",
    "    for sv_type in list(vcf_df['SVTYPE'].unique()) + ['multi']:\n",
    "        if sv_type == 'none':\n",
    "            continue\n",
    "        sv_df = df[df['read_sv'] == sv_type]\n",
    "        bad_sv = sv_df[~sv_df['is_correct']]\n",
    "        paf[f'bad {sv_type}'] = '{} / {} ({:.2f}%)'.format(len(bad_sv), len(sv_df), perc(len(bad_sv), len(sv_df)))\n",
    "\n",
    "    # debug\n",
    "    #for row in df[df['read_sv'] != 'none'].itertuples():\n",
    "    #    is_correct_labels(row, orig_l, mutated_l, debug=True)\n",
    "\n",
    "    return pd.Series(paf, dtype='object')\n",
    "    \n",
    "#def read_eval(pref, reads):\n",
    "#    eval_file = pref.with_suffix('.eval')\n",
    "#    if not eval_file.exists() or os.stat(eval_file).st_size == 0:\n",
    "#        raise Exception(f\"File does not exist or is empty: {eval_file}\")\n",
    "#    evaldf = pd.read_csv(eval_file, sep='\\t', names=['Q', 'quality', 'aligned', 'misaligned', 'misaligned/aligned', 'aligned cum'])\n",
    "#    evals = {}\n",
    "#    evals['eval aligned'] = evaldf.iloc[-1]['aligned cum']\n",
    "#    evals['eval misaligned'] = evaldf.iloc[-1]['misaligned']\n",
    "#    #display(f'aligned: {evals[\"eval aligned\"]}, misaligned: {evals[\"eval misaligned\"]}')\n",
    "#    q60row = evaldf[evaldf['quality'] == 60]\n",
    "#    assert(len(q60row) == 1)\n",
    "#    #evals['eval unaligned'] = reads - evals['eval aligned']\n",
    "#    evals['eval correct'] = evals['eval aligned'] - evals['eval misaligned']\n",
    "#    evals['eval Q60 aligned'] = q60row['aligned'].values[0]\n",
    "#    evals['eval Q60 misaligned'] = q60row['misaligned'].values[0]\n",
    "#    #evals['eval noncorrect%'] = (100.0 * (evals['eval misaligned'] + evals['eval unaligned']) / evals['eval aligned']) #.round(2)\n",
    "#    return pd.Series(evals, dtype='object')\n",
    "\n",
    "def read_times(pref):\n",
    "    times = {}\n",
    "    with open(str(pref) + '.index.time') as f_index_time:\n",
    "        index_time, index_mem = map(float, f_index_time.readline().split())\n",
    "        times['index time'] = index_time #* u.second\n",
    "        #times['index_mem'] = index_mem / 2**20\n",
    "        with open(str(pref) + '.time') as f_time:\n",
    "            total_time, total_mem = map(float, f_time.readline().split())\n",
    "            #times['time total'] = total_time #* u.second\n",
    "            times['map time'] = total_time - times['index time']\n",
    "            times['memory'] = (total_mem / 2**20) #* u.GB\n",
    "    return pd.Series(times, dtype='object').map('{:.1f}'.format)\n",
    "\n",
    "def get_comparison_table(refname, readsim_refname, experiment, tools):\n",
    "    empty_cell = -1\n",
    "    alldf = pd.DataFrame()\n",
    "    alldf.name = experiment\n",
    "    ref = fasta2df(Path('refs') / (refname+'.fa'))\n",
    "    reads = fasta2df(Path('reads') / Path(experiment+'.fa'))\n",
    "\n",
    "    # SVs\n",
    "    orig_fa_dict = sv.read_fasta_file(Path('refs') / (refname+'.fa'))\n",
    "    orig_l = sv.gen_unique_labels(orig_fa_dict)\n",
    "    try:\n",
    "        vcf_df = sv.read_vcf(Path('refs') / (readsim_refname+'.vcf'))\n",
    "        assert((vcf_df.POS <= vcf_df.END).all())\n",
    "        vcf_df = vcf_df.sort_values(by='POS').reset_index(drop=True)\n",
    "        mutated_fa, mutated_l = sv.mutate(orig_fa_dict, orig_l, vcf_df)\n",
    "    except FileNotFoundError:\n",
    "        vcf_df = None\n",
    "        mutated_fa, mutated_l = orig_fa_dict, orig_l\n",
    "\n",
    "    rows = []\n",
    "\n",
    "    for tool in tqdm(tools, desc=f'Tools for {experiment}'):\n",
    "        d = Path(\"out\") / experiment / tool / tool\n",
    "        row = pd.Series({\n",
    "            'tool': tool,\n",
    "            'reads': len(reads),\n",
    "        })\n",
    "        row = pd.concat([row, read_paf(d, len(reads), experiment, tool, orig_l, mutated_l, vcf_df)])     # .paf\n",
    "        try:\n",
    "            row = pd.concat([row, read_times(d)])   # .time, .index.time\n",
    "        except Exception as e:\n",
    "            print(f\"An error occurred while reading times {d}: {e}\")\n",
    "            row['index time'] = empty_cell\n",
    "            row['map time'] = empty_cell\n",
    "            row['memory'] = empty_cell\n",
    "        rows.append(row)\n",
    "    alldf = pd.DataFrame(rows)\n",
    "    alldf = alldf.set_index('tool')\n",
    "    alldf.index.name = None\n",
    "    return alldf"
   ]
  },
  {
   "cell_type": "markdown",
   "metadata": {},
   "source": [
    "Build a table to compare the mappers by accuracy, runtime (indexing and mapping) and memory."
   ]
  },
  {
   "cell_type": "code",
   "execution_count": 10,
   "metadata": {},
   "outputs": [
    {
     "data": {
      "text/html": [
       " <style> table { font-family: \"Courier New\", Courier, monospace; } </style> "
      ],
      "text/plain": [
       "<IPython.core.display.HTML object>"
      ]
     },
     "metadata": {},
     "output_type": "display_data"
    },
    {
     "name": "stderr",
     "output_type": "stream",
     "text": [
      "Tools for t2tChrY-readst2tChrY-SVs-a0.99-d0.1-l10000:   0%|          | 0/2 [00:00<?, ?it/s]"
     ]
    },
    {
     "data": {
      "text/html": [
       "<div>\n",
       "<style scoped>\n",
       "    .dataframe tbody tr th:only-of-type {\n",
       "        vertical-align: middle;\n",
       "    }\n",
       "\n",
       "    .dataframe tbody tr th {\n",
       "        vertical-align: top;\n",
       "    }\n",
       "\n",
       "    .dataframe thead th {\n",
       "        text-align: right;\n",
       "    }\n",
       "</style>\n",
       "<table border=\"1\" class=\"dataframe\">\n",
       "  <thead>\n",
       "    <tr style=\"text-align: right;\">\n",
       "      <th></th>\n",
       "      <th>CHROM</th>\n",
       "      <th>POS</th>\n",
       "      <th>ID</th>\n",
       "      <th>REF</th>\n",
       "      <th>ALT</th>\n",
       "      <th>QUAL</th>\n",
       "      <th>FILTER</th>\n",
       "      <th>PRECISE</th>\n",
       "      <th>SVTYPE</th>\n",
       "      <th>SVMETHOD</th>\n",
       "      <th>CHR2</th>\n",
       "      <th>END</th>\n",
       "      <th>SVLEN</th>\n",
       "      <th>dup_num</th>\n",
       "    </tr>\n",
       "  </thead>\n",
       "  <tbody>\n",
       "    <tr>\n",
       "      <th>0</th>\n",
       "      <td>NC_060948.1</td>\n",
       "      <td>5299</td>\n",
       "      <td>[INV2156SURVIVOR]</td>\n",
       "      <td>N</td>\n",
       "      <td>INV</td>\n",
       "      <td>None</td>\n",
       "      <td>PASS</td>\n",
       "      <td>True</td>\n",
       "      <td>INV</td>\n",
       "      <td>SURVIVOR_sim</td>\n",
       "      <td>NC_060948.1</td>\n",
       "      <td>6011</td>\n",
       "      <td>712</td>\n",
       "      <td>NaN</td>\n",
       "    </tr>\n",
       "    <tr>\n",
       "      <th>1</th>\n",
       "      <td>NC_060948.1</td>\n",
       "      <td>46009</td>\n",
       "      <td>[INV2230SURVIVOR]</td>\n",
       "      <td>N</td>\n",
       "      <td>INV</td>\n",
       "      <td>None</td>\n",
       "      <td>PASS</td>\n",
       "      <td>True</td>\n",
       "      <td>INV</td>\n",
       "      <td>SURVIVOR_sim</td>\n",
       "      <td>NC_060948.1</td>\n",
       "      <td>46722</td>\n",
       "      <td>713</td>\n",
       "      <td>NaN</td>\n",
       "    </tr>\n",
       "    <tr>\n",
       "      <th>2</th>\n",
       "      <td>NC_060948.1</td>\n",
       "      <td>73059</td>\n",
       "      <td>[DEL1089SURVIVOR]</td>\n",
       "      <td>TGACAGGAAGAGGGGGTCTCCGGCTGTGACAGGAAGAGGGAGTCTC...</td>\n",
       "      <td>T</td>\n",
       "      <td>None</td>\n",
       "      <td>PASS</td>\n",
       "      <td>True</td>\n",
       "      <td>DEL</td>\n",
       "      <td>SURVIVOR_sim</td>\n",
       "      <td>NC_060948.1</td>\n",
       "      <td>73242</td>\n",
       "      <td>183</td>\n",
       "      <td>NaN</td>\n",
       "    </tr>\n",
       "    <tr>\n",
       "      <th>3</th>\n",
       "      <td>NC_060948.1</td>\n",
       "      <td>91267</td>\n",
       "      <td>[DEL1921SURVIVOR]</td>\n",
       "      <td>TCAGCTTCGGAGACACAATTCTCTATCCTTTTCATGTCATTTTGCT...</td>\n",
       "      <td>T</td>\n",
       "      <td>None</td>\n",
       "      <td>PASS</td>\n",
       "      <td>True</td>\n",
       "      <td>DEL</td>\n",
       "      <td>SURVIVOR_sim</td>\n",
       "      <td>NC_060948.1</td>\n",
       "      <td>91319</td>\n",
       "      <td>52</td>\n",
       "      <td>NaN</td>\n",
       "    </tr>\n",
       "    <tr>\n",
       "      <th>4</th>\n",
       "      <td>NC_060948.1</td>\n",
       "      <td>94881</td>\n",
       "      <td>[DUP206SURVIVOR]</td>\n",
       "      <td>N</td>\n",
       "      <td>DUP</td>\n",
       "      <td>None</td>\n",
       "      <td>PASS</td>\n",
       "      <td>True</td>\n",
       "      <td>DUP</td>\n",
       "      <td>SURVIVOR_sim</td>\n",
       "      <td>NC_060948.1</td>\n",
       "      <td>95279</td>\n",
       "      <td>398</td>\n",
       "      <td>5</td>\n",
       "    </tr>\n",
       "    <tr>\n",
       "      <th>...</th>\n",
       "      <td>...</td>\n",
       "      <td>...</td>\n",
       "      <td>...</td>\n",
       "      <td>...</td>\n",
       "      <td>...</td>\n",
       "      <td>...</td>\n",
       "      <td>...</td>\n",
       "      <td>...</td>\n",
       "      <td>...</td>\n",
       "      <td>...</td>\n",
       "      <td>...</td>\n",
       "      <td>...</td>\n",
       "      <td>...</td>\n",
       "      <td>...</td>\n",
       "    </tr>\n",
       "    <tr>\n",
       "      <th>2995</th>\n",
       "      <td>NC_060948.1</td>\n",
       "      <td>62340189</td>\n",
       "      <td>[DUP973SURVIVOR]</td>\n",
       "      <td>N</td>\n",
       "      <td>DUP</td>\n",
       "      <td>None</td>\n",
       "      <td>PASS</td>\n",
       "      <td>True</td>\n",
       "      <td>DUP</td>\n",
       "      <td>SURVIVOR_sim</td>\n",
       "      <td>NC_060948.1</td>\n",
       "      <td>62340741</td>\n",
       "      <td>552</td>\n",
       "      <td>3</td>\n",
       "    </tr>\n",
       "    <tr>\n",
       "      <th>2996</th>\n",
       "      <td>NC_060948.1</td>\n",
       "      <td>62410894</td>\n",
       "      <td>[DUP791SURVIVOR]</td>\n",
       "      <td>N</td>\n",
       "      <td>DUP</td>\n",
       "      <td>None</td>\n",
       "      <td>PASS</td>\n",
       "      <td>True</td>\n",
       "      <td>DUP</td>\n",
       "      <td>SURVIVOR_sim</td>\n",
       "      <td>NC_060948.1</td>\n",
       "      <td>62411154</td>\n",
       "      <td>260</td>\n",
       "      <td>5</td>\n",
       "    </tr>\n",
       "    <tr>\n",
       "      <th>2997</th>\n",
       "      <td>NC_060948.1</td>\n",
       "      <td>62426699</td>\n",
       "      <td>[DUP225SURVIVOR]</td>\n",
       "      <td>N</td>\n",
       "      <td>DUP</td>\n",
       "      <td>None</td>\n",
       "      <td>PASS</td>\n",
       "      <td>True</td>\n",
       "      <td>DUP</td>\n",
       "      <td>SURVIVOR_sim</td>\n",
       "      <td>NC_060948.1</td>\n",
       "      <td>62427269</td>\n",
       "      <td>570</td>\n",
       "      <td>4</td>\n",
       "    </tr>\n",
       "    <tr>\n",
       "      <th>2998</th>\n",
       "      <td>NC_060948.1</td>\n",
       "      <td>62449565</td>\n",
       "      <td>[DUP546SURVIVOR]</td>\n",
       "      <td>N</td>\n",
       "      <td>DUP</td>\n",
       "      <td>None</td>\n",
       "      <td>PASS</td>\n",
       "      <td>True</td>\n",
       "      <td>DUP</td>\n",
       "      <td>SURVIVOR_sim</td>\n",
       "      <td>NC_060948.1</td>\n",
       "      <td>62449846</td>\n",
       "      <td>281</td>\n",
       "      <td>3</td>\n",
       "    </tr>\n",
       "    <tr>\n",
       "      <th>2999</th>\n",
       "      <td>NC_060948.1</td>\n",
       "      <td>62451770</td>\n",
       "      <td>[INV2808SURVIVOR]</td>\n",
       "      <td>N</td>\n",
       "      <td>INV</td>\n",
       "      <td>None</td>\n",
       "      <td>PASS</td>\n",
       "      <td>True</td>\n",
       "      <td>INV</td>\n",
       "      <td>SURVIVOR_sim</td>\n",
       "      <td>NC_060948.1</td>\n",
       "      <td>62452371</td>\n",
       "      <td>601</td>\n",
       "      <td>NaN</td>\n",
       "    </tr>\n",
       "  </tbody>\n",
       "</table>\n",
       "<p>3000 rows × 14 columns</p>\n",
       "</div>"
      ],
      "text/plain": [
       "            CHROM       POS                 ID                                                REF  \\\n",
       "0     NC_060948.1      5299  [INV2156SURVIVOR]                                                  N   \n",
       "1     NC_060948.1     46009  [INV2230SURVIVOR]                                                  N   \n",
       "2     NC_060948.1     73059  [DEL1089SURVIVOR]  TGACAGGAAGAGGGGGTCTCCGGCTGTGACAGGAAGAGGGAGTCTC...   \n",
       "3     NC_060948.1     91267  [DEL1921SURVIVOR]  TCAGCTTCGGAGACACAATTCTCTATCCTTTTCATGTCATTTTGCT...   \n",
       "4     NC_060948.1     94881   [DUP206SURVIVOR]                                                  N   \n",
       "...           ...       ...                ...                                                ...   \n",
       "2995  NC_060948.1  62340189   [DUP973SURVIVOR]                                                  N   \n",
       "2996  NC_060948.1  62410894   [DUP791SURVIVOR]                                                  N   \n",
       "2997  NC_060948.1  62426699   [DUP225SURVIVOR]                                                  N   \n",
       "2998  NC_060948.1  62449565   [DUP546SURVIVOR]                                                  N   \n",
       "2999  NC_060948.1  62451770  [INV2808SURVIVOR]                                                  N   \n",
       "\n",
       "      ALT  QUAL FILTER  PRECISE SVTYPE      SVMETHOD         CHR2       END  SVLEN dup_num  \n",
       "0     INV  None   PASS     True    INV  SURVIVOR_sim  NC_060948.1      6011    712     NaN  \n",
       "1     INV  None   PASS     True    INV  SURVIVOR_sim  NC_060948.1     46722    713     NaN  \n",
       "2       T  None   PASS     True    DEL  SURVIVOR_sim  NC_060948.1     73242    183     NaN  \n",
       "3       T  None   PASS     True    DEL  SURVIVOR_sim  NC_060948.1     91319     52     NaN  \n",
       "4     DUP  None   PASS     True    DUP  SURVIVOR_sim  NC_060948.1     95279    398       5  \n",
       "...   ...   ...    ...      ...    ...           ...          ...       ...    ...     ...  \n",
       "2995  DUP  None   PASS     True    DUP  SURVIVOR_sim  NC_060948.1  62340741    552       3  \n",
       "2996  DUP  None   PASS     True    DUP  SURVIVOR_sim  NC_060948.1  62411154    260       5  \n",
       "2997  DUP  None   PASS     True    DUP  SURVIVOR_sim  NC_060948.1  62427269    570       4  \n",
       "2998  DUP  None   PASS     True    DUP  SURVIVOR_sim  NC_060948.1  62449846    281       3  \n",
       "2999  INV  None   PASS     True    INV  SURVIVOR_sim  NC_060948.1  62452371    601     NaN  \n",
       "\n",
       "[3000 rows x 14 columns]"
      ]
     },
     "metadata": {},
     "output_type": "display_data"
    },
    {
     "data": {
      "text/html": [
       "<div>\n",
       "<style scoped>\n",
       "    .dataframe tbody tr th:only-of-type {\n",
       "        vertical-align: middle;\n",
       "    }\n",
       "\n",
       "    .dataframe tbody tr th {\n",
       "        vertical-align: top;\n",
       "    }\n",
       "\n",
       "    .dataframe thead th {\n",
       "        text-align: right;\n",
       "    }\n",
       "</style>\n",
       "<table border=\"1\" class=\"dataframe\">\n",
       "  <thead>\n",
       "    <tr style=\"text-align: right;\">\n",
       "      <th></th>\n",
       "      <th>query_name</th>\n",
       "      <th>query_length</th>\n",
       "      <th>query_start</th>\n",
       "      <th>query_end</th>\n",
       "      <th>strand</th>\n",
       "      <th>target_name</th>\n",
       "      <th>target_length</th>\n",
       "      <th>target_start</th>\n",
       "      <th>target_end</th>\n",
       "      <th>residue_matches</th>\n",
       "      <th>...</th>\n",
       "      <th>tool</th>\n",
       "      <th>read_name</th>\n",
       "      <th>GT_ref</th>\n",
       "      <th>GT_from</th>\n",
       "      <th>GT_to</th>\n",
       "      <th>GT_strand</th>\n",
       "      <th>is_correct</th>\n",
       "      <th>start_diff</th>\n",
       "      <th>end_diff</th>\n",
       "      <th>read_sv</th>\n",
       "    </tr>\n",
       "  </thead>\n",
       "  <tbody>\n",
       "    <tr>\n",
       "      <th>0</th>\n",
       "      <td>S1_264!NC_060948.1!863842!885058!-</td>\n",
       "      <td>21263</td>\n",
       "      <td>27</td>\n",
       "      <td>21246</td>\n",
       "      <td>-</td>\n",
       "      <td>NC_060948.1</td>\n",
       "      <td>62460029</td>\n",
       "      <td>837522</td>\n",
       "      <td>858694</td>\n",
       "      <td>8470</td>\n",
       "      <td>...</td>\n",
       "      <td>winnowmap</td>\n",
       "      <td>S1_264</td>\n",
       "      <td>NC_060948.1</td>\n",
       "      <td>863842</td>\n",
       "      <td>885058</td>\n",
       "      <td>-</td>\n",
       "      <td>True</td>\n",
       "      <td>-26320</td>\n",
       "      <td>-26364</td>\n",
       "      <td>multi</td>\n",
       "    </tr>\n",
       "    <tr>\n",
       "      <th>1</th>\n",
       "      <td>S1_212!NC_060948.1!59000472!59020548!-</td>\n",
       "      <td>20138</td>\n",
       "      <td>51</td>\n",
       "      <td>19968</td>\n",
       "      <td>-</td>\n",
       "      <td>NC_060948.1</td>\n",
       "      <td>62460029</td>\n",
       "      <td>57054525</td>\n",
       "      <td>57074038</td>\n",
       "      <td>5757</td>\n",
       "      <td>...</td>\n",
       "      <td>winnowmap</td>\n",
       "      <td>S1_212</td>\n",
       "      <td>NC_060948.1</td>\n",
       "      <td>59000472</td>\n",
       "      <td>59020548</td>\n",
       "      <td>-</td>\n",
       "      <td>True</td>\n",
       "      <td>-1945947</td>\n",
       "      <td>-1946510</td>\n",
       "      <td>DEL</td>\n",
       "    </tr>\n",
       "    <tr>\n",
       "      <th>2</th>\n",
       "      <td>S1_388!NC_060948.1!54641776!54659240!-</td>\n",
       "      <td>17502</td>\n",
       "      <td>2</td>\n",
       "      <td>17464</td>\n",
       "      <td>-</td>\n",
       "      <td>NC_060948.1</td>\n",
       "      <td>62460029</td>\n",
       "      <td>52822468</td>\n",
       "      <td>52839892</td>\n",
       "      <td>4933</td>\n",
       "      <td>...</td>\n",
       "      <td>winnowmap</td>\n",
       "      <td>S1_388</td>\n",
       "      <td>NC_060948.1</td>\n",
       "      <td>54641776</td>\n",
       "      <td>54659240</td>\n",
       "      <td>-</td>\n",
       "      <td>True</td>\n",
       "      <td>-1819308</td>\n",
       "      <td>-1819348</td>\n",
       "      <td>multi</td>\n",
       "    </tr>\n",
       "    <tr>\n",
       "      <th>3</th>\n",
       "      <td>S1_578!NC_060948.1!1612770!1630118!-</td>\n",
       "      <td>17383</td>\n",
       "      <td>10</td>\n",
       "      <td>17366</td>\n",
       "      <td>-</td>\n",
       "      <td>NC_060948.1</td>\n",
       "      <td>62460029</td>\n",
       "      <td>1567416</td>\n",
       "      <td>1582682</td>\n",
       "      <td>6495</td>\n",
       "      <td>...</td>\n",
       "      <td>winnowmap</td>\n",
       "      <td>S1_578</td>\n",
       "      <td>NC_060948.1</td>\n",
       "      <td>1612770</td>\n",
       "      <td>1630118</td>\n",
       "      <td>-</td>\n",
       "      <td>False</td>\n",
       "      <td>-45354</td>\n",
       "      <td>-47436</td>\n",
       "      <td>none</td>\n",
       "    </tr>\n",
       "    <tr>\n",
       "      <th>4</th>\n",
       "      <td>S1_49!NC_060948.1!22850635!22867945!+</td>\n",
       "      <td>17373</td>\n",
       "      <td>12</td>\n",
       "      <td>17311</td>\n",
       "      <td>+</td>\n",
       "      <td>NC_060948.1</td>\n",
       "      <td>62460029</td>\n",
       "      <td>22055903</td>\n",
       "      <td>22073141</td>\n",
       "      <td>6997</td>\n",
       "      <td>...</td>\n",
       "      <td>winnowmap</td>\n",
       "      <td>S1_49</td>\n",
       "      <td>NC_060948.1</td>\n",
       "      <td>22850635</td>\n",
       "      <td>22867945</td>\n",
       "      <td>+</td>\n",
       "      <td>True</td>\n",
       "      <td>-794732</td>\n",
       "      <td>-794804</td>\n",
       "      <td>none</td>\n",
       "    </tr>\n",
       "    <tr>\n",
       "      <th>...</th>\n",
       "      <td>...</td>\n",
       "      <td>...</td>\n",
       "      <td>...</td>\n",
       "      <td>...</td>\n",
       "      <td>...</td>\n",
       "      <td>...</td>\n",
       "      <td>...</td>\n",
       "      <td>...</td>\n",
       "      <td>...</td>\n",
       "      <td>...</td>\n",
       "      <td>...</td>\n",
       "      <td>...</td>\n",
       "      <td>...</td>\n",
       "      <td>...</td>\n",
       "      <td>...</td>\n",
       "      <td>...</td>\n",
       "      <td>...</td>\n",
       "      <td>...</td>\n",
       "      <td>...</td>\n",
       "      <td>...</td>\n",
       "      <td>...</td>\n",
       "    </tr>\n",
       "    <tr>\n",
       "      <th>767</th>\n",
       "      <td>S1_393!NC_060948.1!58608478!58614092!+</td>\n",
       "      <td>5632</td>\n",
       "      <td>37</td>\n",
       "      <td>5631</td>\n",
       "      <td>+</td>\n",
       "      <td>NC_060948.1</td>\n",
       "      <td>62460029</td>\n",
       "      <td>56670599</td>\n",
       "      <td>56676175</td>\n",
       "      <td>1673</td>\n",
       "      <td>...</td>\n",
       "      <td>winnowmap</td>\n",
       "      <td>S1_393</td>\n",
       "      <td>NC_060948.1</td>\n",
       "      <td>58608478</td>\n",
       "      <td>58614092</td>\n",
       "      <td>+</td>\n",
       "      <td>True</td>\n",
       "      <td>-1937879</td>\n",
       "      <td>-1937917</td>\n",
       "      <td>none</td>\n",
       "    </tr>\n",
       "    <tr>\n",
       "      <th>768</th>\n",
       "      <td>S1_395!NC_060948.1!31001437!31007041!+</td>\n",
       "      <td>5610</td>\n",
       "      <td>124</td>\n",
       "      <td>5579</td>\n",
       "      <td>+</td>\n",
       "      <td>NC_060948.1</td>\n",
       "      <td>62460029</td>\n",
       "      <td>29942493</td>\n",
       "      <td>29947942</td>\n",
       "      <td>1586</td>\n",
       "      <td>...</td>\n",
       "      <td>winnowmap</td>\n",
       "      <td>S1_395</td>\n",
       "      <td>NC_060948.1</td>\n",
       "      <td>31001437</td>\n",
       "      <td>31007041</td>\n",
       "      <td>+</td>\n",
       "      <td>True</td>\n",
       "      <td>-1058944</td>\n",
       "      <td>-1059099</td>\n",
       "      <td>none</td>\n",
       "    </tr>\n",
       "    <tr>\n",
       "      <th>769</th>\n",
       "      <td>S1_465!NC_060948.1!53771016!53776522!+</td>\n",
       "      <td>5526</td>\n",
       "      <td>36</td>\n",
       "      <td>5526</td>\n",
       "      <td>+</td>\n",
       "      <td>NC_060948.1</td>\n",
       "      <td>62460029</td>\n",
       "      <td>51986505</td>\n",
       "      <td>51991975</td>\n",
       "      <td>1559</td>\n",
       "      <td>...</td>\n",
       "      <td>winnowmap</td>\n",
       "      <td>S1_465</td>\n",
       "      <td>NC_060948.1</td>\n",
       "      <td>53771016</td>\n",
       "      <td>53776522</td>\n",
       "      <td>+</td>\n",
       "      <td>True</td>\n",
       "      <td>-1784511</td>\n",
       "      <td>-1784547</td>\n",
       "      <td>none</td>\n",
       "    </tr>\n",
       "    <tr>\n",
       "      <th>770</th>\n",
       "      <td>S1_148!NC_060948.1!17603290!17608747!-</td>\n",
       "      <td>5470</td>\n",
       "      <td>13</td>\n",
       "      <td>5403</td>\n",
       "      <td>-</td>\n",
       "      <td>NC_060948.1</td>\n",
       "      <td>62460029</td>\n",
       "      <td>16970430</td>\n",
       "      <td>16975806</td>\n",
       "      <td>2295</td>\n",
       "      <td>...</td>\n",
       "      <td>winnowmap</td>\n",
       "      <td>S1_148</td>\n",
       "      <td>NC_060948.1</td>\n",
       "      <td>17603290</td>\n",
       "      <td>17608747</td>\n",
       "      <td>-</td>\n",
       "      <td>True</td>\n",
       "      <td>-632860</td>\n",
       "      <td>-632941</td>\n",
       "      <td>none</td>\n",
       "    </tr>\n",
       "    <tr>\n",
       "      <th>771</th>\n",
       "      <td>S1_535!NC_060948.1!59671724!59675979!+</td>\n",
       "      <td>4262</td>\n",
       "      <td>126</td>\n",
       "      <td>4229</td>\n",
       "      <td>+</td>\n",
       "      <td>NC_060948.1</td>\n",
       "      <td>62460029</td>\n",
       "      <td>57732396</td>\n",
       "      <td>57736267</td>\n",
       "      <td>1185</td>\n",
       "      <td>...</td>\n",
       "      <td>winnowmap</td>\n",
       "      <td>S1_535</td>\n",
       "      <td>NC_060948.1</td>\n",
       "      <td>59671724</td>\n",
       "      <td>59675979</td>\n",
       "      <td>+</td>\n",
       "      <td>False</td>\n",
       "      <td>-1939328</td>\n",
       "      <td>-1939712</td>\n",
       "      <td>none</td>\n",
       "    </tr>\n",
       "  </tbody>\n",
       "</table>\n",
       "<p>772 rows × 28 columns</p>\n",
       "</div>"
      ],
      "text/plain": [
       "                                 query_name  query_length  query_start  query_end strand  \\\n",
       "0        S1_264!NC_060948.1!863842!885058!-         21263           27      21246      -   \n",
       "1    S1_212!NC_060948.1!59000472!59020548!-         20138           51      19968      -   \n",
       "2    S1_388!NC_060948.1!54641776!54659240!-         17502            2      17464      -   \n",
       "3      S1_578!NC_060948.1!1612770!1630118!-         17383           10      17366      -   \n",
       "4     S1_49!NC_060948.1!22850635!22867945!+         17373           12      17311      +   \n",
       "..                                      ...           ...          ...        ...    ...   \n",
       "767  S1_393!NC_060948.1!58608478!58614092!+          5632           37       5631      +   \n",
       "768  S1_395!NC_060948.1!31001437!31007041!+          5610          124       5579      +   \n",
       "769  S1_465!NC_060948.1!53771016!53776522!+          5526           36       5526      +   \n",
       "770  S1_148!NC_060948.1!17603290!17608747!-          5470           13       5403      -   \n",
       "771  S1_535!NC_060948.1!59671724!59675979!+          4262          126       4229      +   \n",
       "\n",
       "     target_name  target_length  target_start  target_end  residue_matches  ...       tool  \\\n",
       "0    NC_060948.1       62460029        837522      858694             8470  ...  winnowmap   \n",
       "1    NC_060948.1       62460029      57054525    57074038             5757  ...  winnowmap   \n",
       "2    NC_060948.1       62460029      52822468    52839892             4933  ...  winnowmap   \n",
       "3    NC_060948.1       62460029       1567416     1582682             6495  ...  winnowmap   \n",
       "4    NC_060948.1       62460029      22055903    22073141             6997  ...  winnowmap   \n",
       "..           ...            ...           ...         ...              ...  ...        ...   \n",
       "767  NC_060948.1       62460029      56670599    56676175             1673  ...  winnowmap   \n",
       "768  NC_060948.1       62460029      29942493    29947942             1586  ...  winnowmap   \n",
       "769  NC_060948.1       62460029      51986505    51991975             1559  ...  winnowmap   \n",
       "770  NC_060948.1       62460029      16970430    16975806             2295  ...  winnowmap   \n",
       "771  NC_060948.1       62460029      57732396    57736267             1185  ...  winnowmap   \n",
       "\n",
       "     read_name       GT_ref   GT_from     GT_to  GT_strand  is_correct start_diff end_diff read_sv  \n",
       "0       S1_264  NC_060948.1    863842    885058          -        True     -26320   -26364   multi  \n",
       "1       S1_212  NC_060948.1  59000472  59020548          -        True   -1945947 -1946510     DEL  \n",
       "2       S1_388  NC_060948.1  54641776  54659240          -        True   -1819308 -1819348   multi  \n",
       "3       S1_578  NC_060948.1   1612770   1630118          -       False     -45354   -47436    none  \n",
       "4        S1_49  NC_060948.1  22850635  22867945          +        True    -794732  -794804    none  \n",
       "..         ...          ...       ...       ...        ...         ...        ...      ...     ...  \n",
       "767     S1_393  NC_060948.1  58608478  58614092          +        True   -1937879 -1937917    none  \n",
       "768     S1_395  NC_060948.1  31001437  31007041          +        True   -1058944 -1059099    none  \n",
       "769     S1_465  NC_060948.1  53771016  53776522          +        True   -1784511 -1784547    none  \n",
       "770     S1_148  NC_060948.1  17603290  17608747          -        True    -632860  -632941    none  \n",
       "771     S1_535  NC_060948.1  59671724  59675979          +       False   -1939328 -1939712    none  \n",
       "\n",
       "[772 rows x 28 columns]"
      ]
     },
     "metadata": {},
     "output_type": "display_data"
    },
    {
     "data": {
      "text/plain": [
       "Pandas(Index=3, query_name='S1_101!NC_060948.1!59546000!59555296!+', query_length=9302, query_start=5, query_end=9280, strand='+', target_name='NC_060948.1', target_length=62460029, target_start=57575157, target_end=57584426, residue_matches=2906, alignment_block_length=9296, mapping_quality=3, tp='P', cm=220, s1=2905, s2=2863, rl=1118, experiment='t2tChrY-readst2tChrY-SVs-a0.99-d0.1-l10000', tool='winnowmap', read_name='S1_101', GT_ref='NC_060948.1', GT_from=59546000, GT_to=59555296, GT_strand='+', is_correct=True, start_diff=-1970843, end_diff=-1970870, read_sv='INS')"
      ]
     },
     "metadata": {},
     "output_type": "display_data"
    },
    {
     "data": {
      "text/plain": [
       "'           GT from 59546000 to 59555296'"
      ]
     },
     "metadata": {},
     "output_type": "display_data"
    },
    {
     "data": {
      "text/plain": [
       "'       target from 57575157 to 57584426'"
      ]
     },
     "metadata": {},
     "output_type": "display_data"
    },
    {
     "data": {
      "text/plain": [
       "'    GT_labels from 57575153 to 57584448'"
      ]
     },
     "metadata": {},
     "output_type": "display_data"
    },
    {
     "data": {
      "text/plain": [
       "'target_labels from 57575158 to 57584426'"
      ]
     },
     "metadata": {},
     "output_type": "display_data"
    },
    {
     "data": {
      "text/plain": [
       "'9269 >?= 8366.4 = 0.9 * union 9296 => True'"
      ]
     },
     "metadata": {},
     "output_type": "display_data"
    },
    {
     "data": {
      "text/plain": [
       "Pandas(Index=4, query_name='S1_102!NC_060948.1!8587156!8597501!-', query_length=10373, query_start=35, query_end=10342, strand='-', target_name='NC_060948.1', target_length=62460029, target_start=8266354, target_end=8276178, residue_matches=4017, alignment_block_length=10327, mapping_quality=60, tp='P', cm=308, s1=3945, s2=0, rl=15, experiment='t2tChrY-readst2tChrY-SVs-a0.99-d0.1-l10000', tool='winnowmap', read_name='S1_102', GT_ref='NC_060948.1', GT_from=8587156, GT_to=8597501, GT_strand='-', is_correct=True, start_diff=-320802, end_diff=-321323, read_sv='INV')"
      ]
     },
     "metadata": {},
     "output_type": "display_data"
    },
    {
     "data": {
      "text/plain": [
       "'           GT from 8587156 to 8597501'"
      ]
     },
     "metadata": {},
     "output_type": "display_data"
    },
    {
     "data": {
      "text/plain": [
       "'       target from 8266354 to 8276178'"
      ]
     },
     "metadata": {},
     "output_type": "display_data"
    },
    {
     "data": {
      "text/plain": [
       "'    GT_labels from -18540 to 8276213'"
      ]
     },
     "metadata": {},
     "output_type": "display_data"
    },
    {
     "data": {
      "text/plain": [
       "'target_labels from 8266355 to 8276178'"
      ]
     },
     "metadata": {},
     "output_type": "display_data"
    },
    {
     "data": {
      "text/plain": [
       "'9824 >?= 9310.5 = 0.9 * union 10345 => True'"
      ]
     },
     "metadata": {},
     "output_type": "display_data"
    },
    {
     "data": {
      "text/plain": [
       "Pandas(Index=5, query_name='S1_103!NC_060948.1!32832279!32845297!+', query_length=13033, query_start=5, query_end=12959, strand='+', target_name='NC_060948.1', target_length=62460029, target_start=31722619, target_end=31735558, residue_matches=3583, alignment_block_length=12976, mapping_quality=60, tp='P', cm=276, s1=3583, s2=0, rl=0, experiment='t2tChrY-readst2tChrY-SVs-a0.99-d0.1-l10000', tool='winnowmap', read_name='S1_103', GT_ref='NC_060948.1', GT_from=32832279, GT_to=32845297, GT_strand='+', is_correct=True, start_diff=-1109660, end_diff=-1109739, read_sv='INV')"
      ]
     },
     "metadata": {},
     "output_type": "display_data"
    },
    {
     "data": {
      "text/plain": [
       "'           GT from 32832279 to 32845297'"
      ]
     },
     "metadata": {},
     "output_type": "display_data"
    },
    {
     "data": {
      "text/plain": [
       "'       target from 31722619 to 31735558'"
      ]
     },
     "metadata": {},
     "output_type": "display_data"
    },
    {
     "data": {
      "text/plain": [
       "'    GT_labels from 31722615 to 31735632'"
      ]
     },
     "metadata": {},
     "output_type": "display_data"
    },
    {
     "data": {
      "text/plain": [
       "'target_labels from 31722620 to 31735558'"
      ]
     },
     "metadata": {},
     "output_type": "display_data"
    },
    {
     "data": {
      "text/plain": [
       "'12939 >?= 11716.2 = 0.9 * union 13018 => True'"
      ]
     },
     "metadata": {},
     "output_type": "display_data"
    },
    {
     "data": {
      "text/plain": [
       "Pandas(Index=6, query_name='S1_104!NC_060948.1!34053117!34061820!-', query_length=8745, query_start=63, query_end=8706, strand='-', target_name='NC_060948.1', target_length=62460029, target_start=32920209, target_end=32928810, residue_matches=2449, alignment_block_length=8649, mapping_quality=5, tp='P', cm=182, s1=2448, s2=2385, rl=1074, experiment='t2tChrY-readst2tChrY-SVs-a0.99-d0.1-l10000', tool='winnowmap', read_name='S1_104', GT_ref='NC_060948.1', GT_from=34053117, GT_to=34061820, GT_strand='-', is_correct=True, start_diff=-1132908, end_diff=-1133010, read_sv='INV')"
      ]
     },
     "metadata": {},
     "output_type": "display_data"
    },
    {
     "data": {
      "text/plain": [
       "'           GT from 34053117 to 34061820'"
      ]
     },
     "metadata": {},
     "output_type": "display_data"
    },
    {
     "data": {
      "text/plain": [
       "'       target from 32920209 to 32928810'"
      ]
     },
     "metadata": {},
     "output_type": "display_data"
    },
    {
     "data": {
      "text/plain": [
       "'    GT_labels from 32920172 to 32928874'"
      ]
     },
     "metadata": {},
     "output_type": "display_data"
    },
    {
     "data": {
      "text/plain": [
       "'target_labels from 32920210 to 32928810'"
      ]
     },
     "metadata": {},
     "output_type": "display_data"
    },
    {
     "data": {
      "text/plain": [
       "'8601 >?= 7832.7 = 0.9 * union 8703 => True'"
      ]
     },
     "metadata": {},
     "output_type": "display_data"
    },
    {
     "data": {
      "text/plain": [
       "Pandas(Index=8, query_name='S1_106!NC_060948.1!22438808!22453370!-', query_length=14628, query_start=25, query_end=14592, strand='-', target_name='NC_060948.1', target_length=62460029, target_start=21648398, target_end=21662899, residue_matches=5729, alignment_block_length=14589, mapping_quality=60, tp='P', cm=427, s1=5728, s2=0, rl=1560, experiment='t2tChrY-readst2tChrY-SVs-a0.99-d0.1-l10000', tool='winnowmap', read_name='S1_106', GT_ref='NC_060948.1', GT_from=22438808, GT_to=22453370, GT_strand='-', is_correct=True, start_diff=-790410, end_diff=-790471, read_sv='DUP')"
      ]
     },
     "metadata": {},
     "output_type": "display_data"
    },
    {
     "data": {
      "text/plain": [
       "'           GT from 22438808 to 22453370'"
      ]
     },
     "metadata": {},
     "output_type": "display_data"
    },
    {
     "data": {
      "text/plain": [
       "'       target from 21648398 to 21662899'"
      ]
     },
     "metadata": {},
     "output_type": "display_data"
    },
    {
     "data": {
      "text/plain": [
       "'    GT_labels from 21648363 to 21662924'"
      ]
     },
     "metadata": {},
     "output_type": "display_data"
    },
    {
     "data": {
      "text/plain": [
       "'target_labels from 21648399 to 21662899'"
      ]
     },
     "metadata": {},
     "output_type": "display_data"
    },
    {
     "data": {
      "text/plain": [
       "'14501 >?= 13105.800000000001 = 0.9 * union 14562 => True'"
      ]
     },
     "metadata": {},
     "output_type": "display_data"
    },
    {
     "data": {
      "text/plain": [
       "Pandas(Index=9, query_name='S1_107!NC_060948.1!18203199!18209981!+', query_length=6801, query_start=17, query_end=6791, strand='+', target_name='NC_060948.1', target_length=62460029, target_start=17551474, target_end=17557601, residue_matches=2625, alignment_block_length=6787, mapping_quality=60, tp='P', cm=199, s1=2524, s2=96, rl=0, experiment='t2tChrY-readst2tChrY-SVs-a0.99-d0.1-l10000', tool='winnowmap', read_name='S1_107', GT_ref='NC_060948.1', GT_from=18203199, GT_to=18209981, GT_strand='+', is_correct=True, start_diff=-651725, end_diff=-652380, read_sv='INS')"
      ]
     },
     "metadata": {},
     "output_type": "display_data"
    },
    {
     "data": {
      "text/plain": [
       "'           GT from 18203199 to 18209981'"
      ]
     },
     "metadata": {},
     "output_type": "display_data"
    },
    {
     "data": {
      "text/plain": [
       "'       target from 17551474 to 17557601'"
      ]
     },
     "metadata": {},
     "output_type": "display_data"
    },
    {
     "data": {
      "text/plain": [
       "'    GT_labels from 17551458 to 17557611'"
      ]
     },
     "metadata": {},
     "output_type": "display_data"
    },
    {
     "data": {
      "text/plain": [
       "'target_labels from 17551475 to 17557601'"
      ]
     },
     "metadata": {},
     "output_type": "display_data"
    },
    {
     "data": {
      "text/plain": [
       "'6127 >?= 6103.8 = 0.9 * union 6782 => True'"
      ]
     },
     "metadata": {},
     "output_type": "display_data"
    },
    {
     "data": {
      "text/plain": [
       "Pandas(Index=10, query_name='S1_108!NC_060948.1!6814976!6826053!-', query_length=11099, query_start=5013, query_end=11061, strand='-', target_name='NC_060948.1', target_length=62460029, target_start=6567133, target_end=6573170, residue_matches=2510, alignment_block_length=6064, mapping_quality=60, tp='P', cm=190, s1=2510, s2=0, rl=0, experiment='t2tChrY-readst2tChrY-SVs-a0.99-d0.1-l10000', tool='winnowmap', read_name='S1_108', GT_ref='NC_060948.1', GT_from=6814976, GT_to=6826053, GT_strand='-', is_correct=False, start_diff=-247843, end_diff=-252883, read_sv='INV')"
      ]
     },
     "metadata": {},
     "output_type": "display_data"
    },
    {
     "data": {
      "text/plain": [
       "'           GT from 6814976 to 6826053'"
      ]
     },
     "metadata": {},
     "output_type": "display_data"
    },
    {
     "data": {
      "text/plain": [
       "'       target from 6567133 to 6573170'"
      ]
     },
     "metadata": {},
     "output_type": "display_data"
    },
    {
     "data": {
      "text/plain": [
       "'    GT_labels from 6567095 to 6575693'"
      ]
     },
     "metadata": {},
     "output_type": "display_data"
    },
    {
     "data": {
      "text/plain": [
       "'target_labels from 6567134 to 6573170'"
      ]
     },
     "metadata": {},
     "output_type": "display_data"
    },
    {
     "data": {
      "text/plain": [
       "'6037 >?= 9969.300000000001 = 0.9 * union 11077 => False'"
      ]
     },
     "metadata": {},
     "output_type": "display_data"
    },
    {
     "data": {
      "text/plain": [
       "Pandas(Index=11, query_name='S1_108!NC_060948.1!6814976!6826053!-', query_length=11099, query_start=5, query_end=2923, strand='-', target_name='NC_060948.1', target_length=62460029, target_start=6572781, target_end=6575688, residue_matches=1206, alignment_block_length=2925, mapping_quality=60, tp='P', cm=90, s1=1206, s2=0, rl=0, experiment='t2tChrY-readst2tChrY-SVs-a0.99-d0.1-l10000', tool='winnowmap', read_name='S1_108', GT_ref='NC_060948.1', GT_from=6814976, GT_to=6826053, GT_strand='-', is_correct=False, start_diff=-242195, end_diff=-250365, read_sv='INV')"
      ]
     },
     "metadata": {},
     "output_type": "display_data"
    },
    {
     "data": {
      "text/plain": [
       "'           GT from 6814976 to 6826053'"
      ]
     },
     "metadata": {},
     "output_type": "display_data"
    },
    {
     "data": {
      "text/plain": [
       "'       target from 6572781 to 6575688'"
      ]
     },
     "metadata": {},
     "output_type": "display_data"
    },
    {
     "data": {
      "text/plain": [
       "'    GT_labels from 6567095 to 6575693'"
      ]
     },
     "metadata": {},
     "output_type": "display_data"
    },
    {
     "data": {
      "text/plain": [
       "'target_labels from 6572782 to 6575688'"
      ]
     },
     "metadata": {},
     "output_type": "display_data"
    },
    {
     "data": {
      "text/plain": [
       "'2907 >?= 9969.300000000001 = 0.9 * union 11077 => False'"
      ]
     },
     "metadata": {},
     "output_type": "display_data"
    },
    {
     "data": {
      "text/plain": [
       "Pandas(Index=12, query_name='S1_108!NC_060948.1!6814976!6826053!-', query_length=11099, query_start=3360, query_end=3751, strand='-', target_name='NC_060948.1', target_length=62460029, target_start=6572781, target_end=6573170, residue_matches=171, alignment_block_length=391, mapping_quality=60, tp='P', cm=12, s1=171, s2=0, rl=0, experiment='t2tChrY-readst2tChrY-SVs-a0.99-d0.1-l10000', tool='winnowmap', read_name='S1_108', GT_ref='NC_060948.1', GT_from=6814976, GT_to=6826053, GT_strand='-', is_correct=False, start_diff=-242195, end_diff=-252883, read_sv='INV')"
      ]
     },
     "metadata": {},
     "output_type": "display_data"
    },
    {
     "data": {
      "text/plain": [
       "'           GT from 6814976 to 6826053'"
      ]
     },
     "metadata": {},
     "output_type": "display_data"
    },
    {
     "data": {
      "text/plain": [
       "'       target from 6572781 to 6573170'"
      ]
     },
     "metadata": {},
     "output_type": "display_data"
    },
    {
     "data": {
      "text/plain": [
       "'    GT_labels from 6567095 to 6575693'"
      ]
     },
     "metadata": {},
     "output_type": "display_data"
    },
    {
     "data": {
      "text/plain": [
       "'target_labels from 6572782 to 6573170'"
      ]
     },
     "metadata": {},
     "output_type": "display_data"
    },
    {
     "data": {
      "text/plain": [
       "'389 >?= 9969.300000000001 = 0.9 * union 11077 => False'"
      ]
     },
     "metadata": {},
     "output_type": "display_data"
    },
    {
     "data": {
      "text/plain": [
       "Pandas(Index=13, query_name='S1_108!NC_060948.1!6814976!6826053!-', query_length=11099, query_start=3049, query_end=3293, strand='-', target_name='NC_060948.1', target_length=62460029, target_start=6572825, target_end=6573067, residue_matches=104, alignment_block_length=244, mapping_quality=60, tp='P', cm=8, s1=104, s2=0, rl=0, experiment='t2tChrY-readst2tChrY-SVs-a0.99-d0.1-l10000', tool='winnowmap', read_name='S1_108', GT_ref='NC_060948.1', GT_from=6814976, GT_to=6826053, GT_strand='-', is_correct=False, start_diff=-242151, end_diff=-252986, read_sv='INV')"
      ]
     },
     "metadata": {},
     "output_type": "display_data"
    },
    {
     "data": {
      "text/plain": [
       "'           GT from 6814976 to 6826053'"
      ]
     },
     "metadata": {},
     "output_type": "display_data"
    },
    {
     "data": {
      "text/plain": [
       "'       target from 6572825 to 6573067'"
      ]
     },
     "metadata": {},
     "output_type": "display_data"
    },
    {
     "data": {
      "text/plain": [
       "'    GT_labels from 6567095 to 6575693'"
      ]
     },
     "metadata": {},
     "output_type": "display_data"
    },
    {
     "data": {
      "text/plain": [
       "'target_labels from 6572826 to 6573067'"
      ]
     },
     "metadata": {},
     "output_type": "display_data"
    },
    {
     "data": {
      "text/plain": [
       "'242 >?= 9969.300000000001 = 0.9 * union 11077 => False'"
      ]
     },
     "metadata": {},
     "output_type": "display_data"
    },
    {
     "data": {
      "text/plain": [
       "Pandas(Index=14, query_name='S1_108!NC_060948.1!6814976!6826053!-', query_length=11099, query_start=3775, query_end=3952, strand='-', target_name='NC_060948.1', target_length=62460029, target_start=6572992, target_end=6573170, residue_matches=75, alignment_block_length=179, mapping_quality=40, tp='P', cm=5, s1=75, s2=0, rl=0, experiment='t2tChrY-readst2tChrY-SVs-a0.99-d0.1-l10000', tool='winnowmap', read_name='S1_108', GT_ref='NC_060948.1', GT_from=6814976, GT_to=6826053, GT_strand='-', is_correct=False, start_diff=-241984, end_diff=-252883, read_sv='INV')"
      ]
     },
     "metadata": {},
     "output_type": "display_data"
    },
    {
     "data": {
      "text/plain": [
       "'           GT from 6814976 to 6826053'"
      ]
     },
     "metadata": {},
     "output_type": "display_data"
    },
    {
     "data": {
      "text/plain": [
       "'       target from 6572992 to 6573170'"
      ]
     },
     "metadata": {},
     "output_type": "display_data"
    },
    {
     "data": {
      "text/plain": [
       "'    GT_labels from 6567095 to 6575693'"
      ]
     },
     "metadata": {},
     "output_type": "display_data"
    },
    {
     "data": {
      "text/plain": [
       "'target_labels from 6572993 to 6573170'"
      ]
     },
     "metadata": {},
     "output_type": "display_data"
    },
    {
     "data": {
      "text/plain": [
       "'178 >?= 9969.300000000001 = 0.9 * union 11077 => False'"
      ]
     },
     "metadata": {},
     "output_type": "display_data"
    },
    {
     "data": {
      "text/plain": [
       "Pandas(Index=20, query_name='S1_113!NC_060948.1!48853467!48862826!+', query_length=9375, query_start=16, query_end=9272, strand='+', target_name='NC_060948.1', target_length=62460029, target_start=47216340, target_end=47222971, residue_matches=2249, alignment_block_length=9267, mapping_quality=15, tp='P', cm=179, s1=1835, s2=1702, rl=819, experiment='t2tChrY-readst2tChrY-SVs-a0.99-d0.1-l10000', tool='winnowmap', read_name='S1_113', GT_ref='NC_060948.1', GT_from=48853467, GT_to=48862826, GT_strand='+', is_correct=False, start_diff=-1637127, end_diff=-1639855, read_sv='DUP')"
      ]
     },
     "metadata": {},
     "output_type": "display_data"
    },
    {
     "data": {
      "text/plain": [
       "'           GT from 48853467 to 48862826'"
      ]
     },
     "metadata": {},
     "output_type": "display_data"
    },
    {
     "data": {
      "text/plain": [
       "'       target from 47216340 to 47222971'"
      ]
     },
     "metadata": {},
     "output_type": "display_data"
    },
    {
     "data": {
      "text/plain": [
       "'    GT_labels from 47216325 to 47223073'"
      ]
     },
     "metadata": {},
     "output_type": "display_data"
    },
    {
     "data": {
      "text/plain": [
       "'target_labels from 47216341 to 47222971'"
      ]
     },
     "metadata": {},
     "output_type": "display_data"
    },
    {
     "data": {
      "text/plain": [
       "'6631 >?= 8423.1 = 0.9 * union 9359 => False'"
      ]
     },
     "metadata": {},
     "output_type": "display_data"
    },
    {
     "data": {
      "text/plain": [
       "Pandas(Index=25, query_name='S1_118!NC_060948.1!9730472!9741389!-', query_length=10937, query_start=21, query_end=10929, strand='-', target_name='NC_060948.1', target_length=62460029, target_start=9378714, target_end=9389602, residue_matches=4551, alignment_block_length=10935, mapping_quality=60, tp='P', cm=339, s1=4550, s2=857, rl=0, experiment='t2tChrY-readst2tChrY-SVs-a0.99-d0.1-l10000', tool='winnowmap', read_name='S1_118', GT_ref='NC_060948.1', GT_from=9730472, GT_to=9741389, GT_strand='-', is_correct=True, start_diff=-351758, end_diff=-351787, read_sv='multi')"
      ]
     },
     "metadata": {},
     "output_type": "display_data"
    },
    {
     "data": {
      "text/plain": [
       "'           GT from 9730472 to 9741389'"
      ]
     },
     "metadata": {},
     "output_type": "display_data"
    },
    {
     "data": {
      "text/plain": [
       "'       target from 9378714 to 9389602'"
      ]
     },
     "metadata": {},
     "output_type": "display_data"
    },
    {
     "data": {
      "text/plain": [
       "'    GT_labels from 9378707 to 9389623'"
      ]
     },
     "metadata": {},
     "output_type": "display_data"
    },
    {
     "data": {
      "text/plain": [
       "'target_labels from 9378715 to 9389602'"
      ]
     },
     "metadata": {},
     "output_type": "display_data"
    },
    {
     "data": {
      "text/plain": [
       "'10888 >?= 9825.300000000001 = 0.9 * union 10917 => True'"
      ]
     },
     "metadata": {},
     "output_type": "display_data"
    },
    {
     "data": {
      "text/plain": [
       "Pandas(Index=26, query_name='S1_119!NC_060948.1!54551382!54561072!+', query_length=9719, query_start=141, query_end=9672, strand='+', target_name='NC_060948.1', target_length=62460029, target_start=51180241, target_end=51189745, residue_matches=2711, alignment_block_length=9548, mapping_quality=0, tp='P', cm=215, s1=2711, s2=2711, rl=1072, experiment='t2tChrY-readst2tChrY-SVs-a0.99-d0.1-l10000', tool='winnowmap', read_name='S1_119', GT_ref='NC_060948.1', GT_from=54551382, GT_to=54561072, GT_strand='+', is_correct=False, start_diff=-3371141, end_diff=-3371327, read_sv='INV')"
      ]
     },
     "metadata": {},
     "output_type": "display_data"
    },
    {
     "data": {
      "text/plain": [
       "'           GT from 54551382 to 54561072'"
      ]
     },
     "metadata": {},
     "output_type": "display_data"
    },
    {
     "data": {
      "text/plain": [
       "'       target from 51180241 to 51189745'"
      ]
     },
     "metadata": {},
     "output_type": "display_data"
    },
    {
     "data": {
      "text/plain": [
       "'    GT_labels from 52736537 to 52746226'"
      ]
     },
     "metadata": {},
     "output_type": "display_data"
    },
    {
     "data": {
      "text/plain": [
       "'target_labels from 51180242 to 51189745'"
      ]
     },
     "metadata": {},
     "output_type": "display_data"
    },
    {
     "data": {
      "text/plain": [
       "'0 >?= 17274.600000000002 = 0.9 * union 19194 => False'"
      ]
     },
     "metadata": {},
     "output_type": "display_data"
    },
    {
     "data": {
      "text/plain": [
       "Pandas(Index=27, query_name='S1_12!NC_060948.1!22636970!22649877!-', query_length=12941, query_start=24, query_end=12901, strand='-', target_name='NC_060948.1', target_length=62460029, target_start=21844635, target_end=21857479, residue_matches=4710, alignment_block_length=12898, mapping_quality=60, tp='P', cm=363, s1=4710, s2=240, rl=0, experiment='t2tChrY-readst2tChrY-SVs-a0.99-d0.1-l10000', tool='winnowmap', read_name='S1_12', GT_ref='NC_060948.1', GT_from=22636970, GT_to=22649877, GT_strand='-', is_correct=True, start_diff=-792335, end_diff=-792398, read_sv='INV')"
      ]
     },
     "metadata": {},
     "output_type": "display_data"
    },
    {
     "data": {
      "text/plain": [
       "'           GT from 22636970 to 22649877'"
      ]
     },
     "metadata": {},
     "output_type": "display_data"
    },
    {
     "data": {
      "text/plain": [
       "'       target from 21844635 to 21857479'"
      ]
     },
     "metadata": {},
     "output_type": "display_data"
    },
    {
     "data": {
      "text/plain": [
       "'    GT_labels from 21844597 to 21857503'"
      ]
     },
     "metadata": {},
     "output_type": "display_data"
    },
    {
     "data": {
      "text/plain": [
       "'target_labels from 21844636 to 21857479'"
      ]
     },
     "metadata": {},
     "output_type": "display_data"
    },
    {
     "data": {
      "text/plain": [
       "'12844 >?= 11616.300000000001 = 0.9 * union 12907 => True'"
      ]
     },
     "metadata": {},
     "output_type": "display_data"
    },
    {
     "data": {
      "text/plain": [
       "Pandas(Index=53, query_name='S1_134!NC_060948.1!37391679!37401836!-', query_length=10188, query_start=34, query_end=10187, strand='-', target_name='NC_060948.1', target_length=62460029, target_start=36128670, target_end=36138792, residue_matches=2860, alignment_block_length=10166, mapping_quality=60, tp='P', cm=215, s1=2860, s2=0, rl=105, experiment='t2tChrY-readst2tChrY-SVs-a0.99-d0.1-l10000', tool='winnowmap', read_name='S1_134', GT_ref='NC_060948.1', GT_from=37391679, GT_to=37401836, GT_strand='-', is_correct=True, start_diff=-1263009, end_diff=-1263044, read_sv='INV')"
      ]
     },
     "metadata": {},
     "output_type": "display_data"
    },
    {
     "data": {
      "text/plain": [
       "'           GT from 37391679 to 37401836'"
      ]
     },
     "metadata": {},
     "output_type": "display_data"
    },
    {
     "data": {
      "text/plain": [
       "'       target from 36128670 to 36138792'"
      ]
     },
     "metadata": {},
     "output_type": "display_data"
    },
    {
     "data": {
      "text/plain": [
       "'    GT_labels from 36128670 to 36138826'"
      ]
     },
     "metadata": {},
     "output_type": "display_data"
    },
    {
     "data": {
      "text/plain": [
       "'target_labels from 36128671 to 36138792'"
      ]
     },
     "metadata": {},
     "output_type": "display_data"
    },
    {
     "data": {
      "text/plain": [
       "'10122 >?= 9141.300000000001 = 0.9 * union 10157 => True'"
      ]
     },
     "metadata": {},
     "output_type": "display_data"
    },
    {
     "data": {
      "text/plain": [
       "Pandas(Index=57, query_name='S1_138!NC_060948.1!46668722!46677750!-', query_length=9054, query_start=96, query_end=9005, strand='-', target_name='NC_060948.1', target_length=62460029, target_start=45111156, target_end=45120037, residue_matches=2488, alignment_block_length=8920, mapping_quality=3, tp='P', cm=187, s1=2486, s2=2451, rl=1004, experiment='t2tChrY-readst2tChrY-SVs-a0.99-d0.1-l10000', tool='winnowmap', read_name='S1_138', GT_ref='NC_060948.1', GT_from=46668722, GT_to=46677750, GT_strand='-', is_correct=True, start_diff=-1557566, end_diff=-1557713, read_sv='DUP')"
      ]
     },
     "metadata": {},
     "output_type": "display_data"
    },
    {
     "data": {
      "text/plain": [
       "'           GT from 46668722 to 46677750'"
      ]
     },
     "metadata": {},
     "output_type": "display_data"
    },
    {
     "data": {
      "text/plain": [
       "'       target from 45111156 to 45120037'"
      ]
     },
     "metadata": {},
     "output_type": "display_data"
    },
    {
     "data": {
      "text/plain": [
       "'    GT_labels from 45111108 to 45120135'"
      ]
     },
     "metadata": {},
     "output_type": "display_data"
    },
    {
     "data": {
      "text/plain": [
       "'target_labels from 45111157 to 45120037'"
      ]
     },
     "metadata": {},
     "output_type": "display_data"
    },
    {
     "data": {
      "text/plain": [
       "'8881 >?= 8125.2 = 0.9 * union 9028 => True'"
      ]
     },
     "metadata": {},
     "output_type": "display_data"
    },
    {
     "data": {
      "text/plain": [
       "Pandas(Index=58, query_name='S1_139!NC_060948.1!31706782!31715308!+', query_length=8550, query_start=25, query_end=8513, strand='+', target_name='NC_060948.1', target_length=62460029, target_start=30635190, target_end=30643654, residue_matches=2750, alignment_block_length=8501, mapping_quality=2, tp='P', cm=212, s1=2750, s2=2718, rl=931, experiment='t2tChrY-readst2tChrY-SVs-a0.99-d0.1-l10000', tool='winnowmap', read_name='S1_139', GT_ref='NC_060948.1', GT_from=31706782, GT_to=31715308, GT_strand='+', is_correct=True, start_diff=-1071592, end_diff=-1071654, read_sv='DUP')"
      ]
     },
     "metadata": {},
     "output_type": "display_data"
    },
    {
     "data": {
      "text/plain": [
       "'           GT from 31706782 to 31715308'"
      ]
     },
     "metadata": {},
     "output_type": "display_data"
    },
    {
     "data": {
      "text/plain": [
       "'       target from 30635190 to 30643654'"
      ]
     },
     "metadata": {},
     "output_type": "display_data"
    },
    {
     "data": {
      "text/plain": [
       "'    GT_labels from 30635166 to 30643691'"
      ]
     },
     "metadata": {},
     "output_type": "display_data"
    },
    {
     "data": {
      "text/plain": [
       "'target_labels from 30635191 to 30643654'"
      ]
     },
     "metadata": {},
     "output_type": "display_data"
    },
    {
     "data": {
      "text/plain": [
       "'8464 >?= 7673.400000000001 = 0.9 * union 8526 => True'"
      ]
     },
     "metadata": {},
     "output_type": "display_data"
    },
    {
     "data": {
      "text/plain": [
       "Pandas(Index=61, query_name='S1_141!NC_060948.1!17533720!17545537!+', query_length=11865, query_start=41, query_end=11865, strand='+', target_name='NC_060948.1', target_length=62460029, target_start=16901547, target_end=16913323, residue_matches=4752, alignment_block_length=11836, mapping_quality=60, tp='P', cm=362, s1=4751, s2=0, rl=90, experiment='t2tChrY-readst2tChrY-SVs-a0.99-d0.1-l10000', tool='winnowmap', read_name='S1_141', GT_ref='NC_060948.1', GT_from=17533720, GT_to=17545537, GT_strand='+', is_correct=True, start_diff=-632173, end_diff=-632214, read_sv='DUP')"
      ]
     },
     "metadata": {},
     "output_type": "display_data"
    },
    {
     "data": {
      "text/plain": [
       "'           GT from 17533720 to 17545537'"
      ]
     },
     "metadata": {},
     "output_type": "display_data"
    },
    {
     "data": {
      "text/plain": [
       "'       target from 16901547 to 16913323'"
      ]
     },
     "metadata": {},
     "output_type": "display_data"
    },
    {
     "data": {
      "text/plain": [
       "'    GT_labels from 16901507 to 16913323'"
      ]
     },
     "metadata": {},
     "output_type": "display_data"
    },
    {
     "data": {
      "text/plain": [
       "'target_labels from 16901548 to 16913323'"
      ]
     },
     "metadata": {},
     "output_type": "display_data"
    },
    {
     "data": {
      "text/plain": [
       "'11776 >?= 10635.300000000001 = 0.9 * union 11817 => True'"
      ]
     },
     "metadata": {},
     "output_type": "display_data"
    },
    {
     "data": {
      "text/plain": [
       "Pandas(Index=66, query_name='S1_146!NC_060948.1!31125207!31133984!-', query_length=8795, query_start=42, query_end=8751, strand='-', target_name='NC_060948.1', target_length=62460029, target_start=30065785, target_end=30074475, residue_matches=2678, alignment_block_length=8726, mapping_quality=9, tp='P', cm=208, s1=2678, s2=2567, rl=841, experiment='t2tChrY-readst2tChrY-SVs-a0.99-d0.1-l10000', tool='winnowmap', read_name='S1_146', GT_ref='NC_060948.1', GT_from=31125207, GT_to=31133984, GT_strand='-', is_correct=True, start_diff=-1059422, end_diff=-1059509, read_sv='INS')"
      ]
     },
     "metadata": {},
     "output_type": "display_data"
    },
    {
     "data": {
      "text/plain": [
       "'           GT from 31125207 to 31133984'"
      ]
     },
     "metadata": {},
     "output_type": "display_data"
    },
    {
     "data": {
      "text/plain": [
       "'       target from 30065785 to 30074475'"
      ]
     },
     "metadata": {},
     "output_type": "display_data"
    },
    {
     "data": {
      "text/plain": [
       "'    GT_labels from 30065742 to 30074518'"
      ]
     },
     "metadata": {},
     "output_type": "display_data"
    },
    {
     "data": {
      "text/plain": [
       "'target_labels from 30065786 to 30074475'"
      ]
     },
     "metadata": {},
     "output_type": "display_data"
    },
    {
     "data": {
      "text/plain": [
       "'8690 >?= 7899.3 = 0.9 * union 8777 => True'"
      ]
     },
     "metadata": {},
     "output_type": "display_data"
    },
    {
     "data": {
      "text/plain": [
       "Pandas(Index=75, query_name='S1_153!NC_060948.1!9634968!9644924!+', query_length=9988, query_start=37, query_end=9961, strand='+', target_name='NC_060948.1', target_length=62460029, target_start=9287804, target_end=9297696, residue_matches=3951, alignment_block_length=9945, mapping_quality=0, tp='P', cm=302, s1=3950, s2=3950, rl=0, experiment='t2tChrY-readst2tChrY-SVs-a0.99-d0.1-l10000', tool='winnowmap', read_name='S1_153', GT_ref='NC_060948.1', GT_from=9634968, GT_to=9644924, GT_strand='+', is_correct=True, start_diff=-347164, end_diff=-347228, read_sv='DEL')"
      ]
     },
     "metadata": {},
     "output_type": "display_data"
    },
    {
     "data": {
      "text/plain": [
       "'           GT from 9634968 to 9644924'"
      ]
     },
     "metadata": {},
     "output_type": "display_data"
    },
    {
     "data": {
      "text/plain": [
       "'       target from 9287804 to 9297696'"
      ]
     },
     "metadata": {},
     "output_type": "display_data"
    },
    {
     "data": {
      "text/plain": [
       "'    GT_labels from 9287768 to 9297723'"
      ]
     },
     "metadata": {},
     "output_type": "display_data"
    },
    {
     "data": {
      "text/plain": [
       "'target_labels from 9287805 to 9297696'"
      ]
     },
     "metadata": {},
     "output_type": "display_data"
    },
    {
     "data": {
      "text/plain": [
       "'9892 >?= 8960.4 = 0.9 * union 9956 => True'"
      ]
     },
     "metadata": {},
     "output_type": "display_data"
    },
    {
     "data": {
      "text/plain": [
       "Pandas(Index=81, query_name='S1_159!NC_060948.1!41116948!41129671!+', query_length=12769, query_start=31, query_end=12677, strand='+', target_name='NC_060948.1', target_length=62460029, target_start=39753123, target_end=39765725, residue_matches=3466, alignment_block_length=12677, mapping_quality=60, tp='P', cm=258, s1=3464, s2=0, rl=0, experiment='t2tChrY-readst2tChrY-SVs-a0.99-d0.1-l10000', tool='winnowmap', read_name='S1_159', GT_ref='NC_060948.1', GT_from=41116948, GT_to=41129671, GT_strand='+', is_correct=True, start_diff=-1363825, end_diff=-1363946, read_sv='multi')"
      ]
     },
     "metadata": {},
     "output_type": "display_data"
    },
    {
     "data": {
      "text/plain": [
       "'           GT from 41116948 to 41129671'"
      ]
     },
     "metadata": {},
     "output_type": "display_data"
    },
    {
     "data": {
      "text/plain": [
       "'       target from 39753123 to 39765725'"
      ]
     },
     "metadata": {},
     "output_type": "display_data"
    },
    {
     "data": {
      "text/plain": [
       "'    GT_labels from 39753093 to 39765815'"
      ]
     },
     "metadata": {},
     "output_type": "display_data"
    },
    {
     "data": {
      "text/plain": [
       "'target_labels from 39753124 to 39765725'"
      ]
     },
     "metadata": {},
     "output_type": "display_data"
    },
    {
     "data": {
      "text/plain": [
       "'12602 >?= 11450.7 = 0.9 * union 12723 => True'"
      ]
     },
     "metadata": {},
     "output_type": "display_data"
    },
    {
     "data": {
      "text/plain": [
       "Pandas(Index=82, query_name='S1_16!NC_060948.1!7324425!7333760!-', query_length=9353, query_start=28, query_end=9308, strand='-', target_name='NC_060948.1', target_length=62460029, target_start=7066029, target_end=7073883, residue_matches=3347, alignment_block_length=9453, mapping_quality=60, tp='P', cm=257, s1=3072, s2=188, rl=0, experiment='t2tChrY-readst2tChrY-SVs-a0.99-d0.1-l10000', tool='winnowmap', read_name='S1_16', GT_ref='NC_060948.1', GT_from=7324425, GT_to=7333760, GT_strand='-', is_correct=False, start_diff=-258396, end_diff=-259877, read_sv='INV')"
      ]
     },
     "metadata": {},
     "output_type": "display_data"
    },
    {
     "data": {
      "text/plain": [
       "'           GT from 7324425 to 7333760'"
      ]
     },
     "metadata": {},
     "output_type": "display_data"
    },
    {
     "data": {
      "text/plain": [
       "'       target from 7066029 to 7073883'"
      ]
     },
     "metadata": {},
     "output_type": "display_data"
    },
    {
     "data": {
      "text/plain": [
       "'    GT_labels from 7065985 to 7073911'"
      ]
     },
     "metadata": {},
     "output_type": "display_data"
    },
    {
     "data": {
      "text/plain": [
       "'target_labels from 7066030 to 7073883'"
      ]
     },
     "metadata": {},
     "output_type": "display_data"
    },
    {
     "data": {
      "text/plain": [
       "'7698 >?= 8541.9 = 0.9 * union 9491 => False'"
      ]
     },
     "metadata": {},
     "output_type": "display_data"
    },
    {
     "data": {
      "text/plain": [
       "Pandas(Index=83, query_name='S1_160!NC_060948.1!39206826!39220506!-', query_length=13707, query_start=30, query_end=13665, strand='-', target_name='NC_060948.1', target_length=62460029, target_start=37903718, target_end=37917807, residue_matches=3906, alignment_block_length=14144, mapping_quality=60, tp='P', cm=290, s1=3830, s2=538, rl=436, experiment='t2tChrY-readst2tChrY-SVs-a0.99-d0.1-l10000', tool='winnowmap', read_name='S1_160', GT_ref='NC_060948.1', GT_from=39206826, GT_to=39220506, GT_strand='-', is_correct=True, start_diff=-1303108, end_diff=-1302699, read_sv='DUP')"
      ]
     },
     "metadata": {},
     "output_type": "display_data"
    },
    {
     "data": {
      "text/plain": [
       "'           GT from 39206826 to 39220506'"
      ]
     },
     "metadata": {},
     "output_type": "display_data"
    },
    {
     "data": {
      "text/plain": [
       "'       target from 37903718 to 37917807'"
      ]
     },
     "metadata": {},
     "output_type": "display_data"
    },
    {
     "data": {
      "text/plain": [
       "'    GT_labels from 37903677 to 37917837'"
      ]
     },
     "metadata": {},
     "output_type": "display_data"
    },
    {
     "data": {
      "text/plain": [
       "'target_labels from 37903719 to 37917807'"
      ]
     },
     "metadata": {},
     "output_type": "display_data"
    },
    {
     "data": {
      "text/plain": [
       "'13608 >?= 12744.9 = 0.9 * union 14161 => True'"
      ]
     },
     "metadata": {},
     "output_type": "display_data"
    },
    {
     "data": {
      "text/plain": [
       "Pandas(Index=85, query_name='S1_162!NC_060948.1!47229857!47245013!-', query_length=15199, query_start=41, query_end=15170, strand='-', target_name='NC_060948.1', target_length=62460029, target_start=45656250, target_end=45670765, residue_matches=4460, alignment_block_length=15152, mapping_quality=60, tp='P', cm=336, s1=4370, s2=0, rl=0, experiment='t2tChrY-readst2tChrY-SVs-a0.99-d0.1-l10000', tool='winnowmap', read_name='S1_162', GT_ref='NC_060948.1', GT_from=47229857, GT_to=47245013, GT_strand='-', is_correct=True, start_diff=-1573607, end_diff=-1574248, read_sv='DUP')"
      ]
     },
     "metadata": {},
     "output_type": "display_data"
    },
    {
     "data": {
      "text/plain": [
       "'           GT from 47229857 to 47245013'"
      ]
     },
     "metadata": {},
     "output_type": "display_data"
    },
    {
     "data": {
      "text/plain": [
       "'       target from 45656250 to 45670765'"
      ]
     },
     "metadata": {},
     "output_type": "display_data"
    },
    {
     "data": {
      "text/plain": [
       "'    GT_labels from 45656224 to 45670806'"
      ]
     },
     "metadata": {},
     "output_type": "display_data"
    },
    {
     "data": {
      "text/plain": [
       "'target_labels from 45656251 to 45670765'"
      ]
     },
     "metadata": {},
     "output_type": "display_data"
    },
    {
     "data": {
      "text/plain": [
       "'14515 >?= 13640.4 = 0.9 * union 15156 => True'"
      ]
     },
     "metadata": {},
     "output_type": "display_data"
    },
    {
     "data": {
      "text/plain": [
       "Pandas(Index=86, query_name='S1_163!NC_060948.1!49000852!49013016!+', query_length=12193, query_start=129, query_end=12190, strand='+', target_name='NC_060948.1', target_length=62460029, target_start=47357151, target_end=47369182, residue_matches=3329, alignment_block_length=12081, mapping_quality=60, tp='P', cm=251, s1=3328, s2=1855, rl=768, experiment='t2tChrY-readst2tChrY-SVs-a0.99-d0.1-l10000', tool='winnowmap', read_name='S1_163', GT_ref='NC_060948.1', GT_from=49000852, GT_to=49013016, GT_strand='+', is_correct=True, start_diff=-1643701, end_diff=-1643834, read_sv='INV')"
      ]
     },
     "metadata": {},
     "output_type": "display_data"
    },
    {
     "data": {
      "text/plain": [
       "'           GT from 49000852 to 49013016'"
      ]
     },
     "metadata": {},
     "output_type": "display_data"
    },
    {
     "data": {
      "text/plain": [
       "'       target from 47357151 to 47369182'"
      ]
     },
     "metadata": {},
     "output_type": "display_data"
    },
    {
     "data": {
      "text/plain": [
       "'    GT_labels from 47357022 to 47369185'"
      ]
     },
     "metadata": {},
     "output_type": "display_data"
    },
    {
     "data": {
      "text/plain": [
       "'target_labels from 47357152 to 47369182'"
      ]
     },
     "metadata": {},
     "output_type": "display_data"
    },
    {
     "data": {
      "text/plain": [
       "'12031 >?= 10947.6 = 0.9 * union 12164 => True'"
      ]
     },
     "metadata": {},
     "output_type": "display_data"
    },
    {
     "data": {
      "text/plain": [
       "Pandas(Index=87, query_name='S1_164!NC_060948.1!45895536!45904822!-', query_length=9323, query_start=33, query_end=9186, strand='-', target_name='NC_060948.1', target_length=62460029, target_start=44352197, target_end=44361316, residue_matches=2664, alignment_block_length=9164, mapping_quality=33, tp='P', cm=201, s1=2663, s2=2291, rl=870, experiment='t2tChrY-readst2tChrY-SVs-a0.99-d0.1-l10000', tool='winnowmap', read_name='S1_164', GT_ref='NC_060948.1', GT_from=45895536, GT_to=45904822, GT_strand='-', is_correct=True, start_diff=-1543339, end_diff=-1543506, read_sv='multi')"
      ]
     },
     "metadata": {},
     "output_type": "display_data"
    },
    {
     "data": {
      "text/plain": [
       "'           GT from 45895536 to 45904822'"
      ]
     },
     "metadata": {},
     "output_type": "display_data"
    },
    {
     "data": {
      "text/plain": [
       "'       target from 44352197 to 44361316'"
      ]
     },
     "metadata": {},
     "output_type": "display_data"
    },
    {
     "data": {
      "text/plain": [
       "'    GT_labels from 44352064 to 44361349'"
      ]
     },
     "metadata": {},
     "output_type": "display_data"
    },
    {
     "data": {
      "text/plain": [
       "'target_labels from 44352198 to 44361316'"
      ]
     },
     "metadata": {},
     "output_type": "display_data"
    },
    {
     "data": {
      "text/plain": [
       "'9119 >?= 8357.4 = 0.9 * union 9286 => True'"
      ]
     },
     "metadata": {},
     "output_type": "display_data"
    },
    {
     "data": {
      "text/plain": [
       "Pandas(Index=93, query_name='S1_17!NC_060948.1!30632247!30644549!+', query_length=12325, query_start=5, query_end=12215, strand='+', target_name='NC_060948.1', target_length=62460029, target_start=29598836, target_end=29611112, residue_matches=2663, alignment_block_length=12379, mapping_quality=60, tp='P', cm=210, s1=2626, s2=1311, rl=384, experiment='t2tChrY-readst2tChrY-SVs-a0.99-d0.1-l10000', tool='winnowmap', read_name='S1_17', GT_ref='NC_060948.1', GT_from=30632247, GT_to=30644549, GT_strand='+', is_correct=False, start_diff=-1033411, end_diff=-1033437, read_sv='INS')"
      ]
     },
     "metadata": {},
     "output_type": "display_data"
    },
    {
     "data": {
      "text/plain": [
       "'           GT from 30632247 to 30644549'"
      ]
     },
     "metadata": {},
     "output_type": "display_data"
    },
    {
     "data": {
      "text/plain": [
       "'       target from 29598836 to 29611112'"
      ]
     },
     "metadata": {},
     "output_type": "display_data"
    },
    {
     "data": {
      "text/plain": [
       "'    GT_labels from 29598832 to 29607729'"
      ]
     },
     "metadata": {},
     "output_type": "display_data"
    },
    {
     "data": {
      "text/plain": [
       "'target_labels from 29598837 to 29611112'"
      ]
     },
     "metadata": {},
     "output_type": "display_data"
    },
    {
     "data": {
      "text/plain": [
       "'8893 >?= 14116.5 = 0.9 * union 15685 => False'"
      ]
     },
     "metadata": {},
     "output_type": "display_data"
    },
    {
     "data": {
      "text/plain": [
       "Pandas(Index=94, query_name='S1_170!NC_060948.1!36422067!36434106!-', query_length=12097, query_start=34, query_end=12089, strand='-', target_name='NC_060948.1', target_length=62460029, target_start=35193740, target_end=35205737, residue_matches=3400, alignment_block_length=12071, mapping_quality=60, tp='P', cm=265, s1=3399, s2=247, rl=0, experiment='t2tChrY-readst2tChrY-SVs-a0.99-d0.1-l10000', tool='winnowmap', read_name='S1_170', GT_ref='NC_060948.1', GT_from=36422067, GT_to=36434106, GT_strand='-', is_correct=True, start_diff=-1228327, end_diff=-1228369, read_sv='DUP')"
      ]
     },
     "metadata": {},
     "output_type": "display_data"
    },
    {
     "data": {
      "text/plain": [
       "'           GT from 36422067 to 36434106'"
      ]
     },
     "metadata": {},
     "output_type": "display_data"
    },
    {
     "data": {
      "text/plain": [
       "'       target from 35193740 to 35205737'"
      ]
     },
     "metadata": {},
     "output_type": "display_data"
    },
    {
     "data": {
      "text/plain": [
       "'    GT_labels from 35193733 to 35205771'"
      ]
     },
     "metadata": {},
     "output_type": "display_data"
    },
    {
     "data": {
      "text/plain": [
       "'target_labels from 35193741 to 35205737'"
      ]
     },
     "metadata": {},
     "output_type": "display_data"
    },
    {
     "data": {
      "text/plain": [
       "'11997 >?= 10835.1 = 0.9 * union 12039 => True'"
      ]
     },
     "metadata": {},
     "output_type": "display_data"
    },
    {
     "data": {
      "text/plain": [
       "Pandas(Index=97, query_name='S1_173!NC_060948.1!53970780!53984592!+', query_length=13857, query_start=32, query_end=13768, strand='+', target_name='NC_060948.1', target_length=62460029, target_start=52179876, target_end=52191604, residue_matches=3278, alignment_block_length=13751, mapping_quality=60, tp='P', cm=252, s1=2975, s2=759, rl=525, experiment='t2tChrY-readst2tChrY-SVs-a0.99-d0.1-l10000', tool='winnowmap', read_name='S1_173', GT_ref='NC_060948.1', GT_from=53970780, GT_to=53984592, GT_strand='+', is_correct=False, start_diff=-1790904, end_diff=-1792988, read_sv='multi')"
      ]
     },
     "metadata": {},
     "output_type": "display_data"
    },
    {
     "data": {
      "text/plain": [
       "'           GT from 53970780 to 53984592'"
      ]
     },
     "metadata": {},
     "output_type": "display_data"
    },
    {
     "data": {
      "text/plain": [
       "'       target from 52179876 to 52191604'"
      ]
     },
     "metadata": {},
     "output_type": "display_data"
    },
    {
     "data": {
      "text/plain": [
       "'    GT_labels from 52179845 to 52191694'"
      ]
     },
     "metadata": {},
     "output_type": "display_data"
    },
    {
     "data": {
      "text/plain": [
       "'target_labels from 52179877 to 52191604'"
      ]
     },
     "metadata": {},
     "output_type": "display_data"
    },
    {
     "data": {
      "text/plain": [
       "'11728 >?= 12430.800000000001 = 0.9 * union 13812 => False'"
      ]
     },
     "metadata": {},
     "output_type": "display_data"
    },
    {
     "data": {
      "text/plain": [
       "Pandas(Index=113, query_name='S1_181!NC_060948.1!3193427!3204446!+', query_length=11047, query_start=29, query_end=11021, strand='+', target_name='NC_060948.1', target_length=62460029, target_start=3073684, target_end=3084648, residue_matches=4441, alignment_block_length=11013, mapping_quality=60, tp='P', cm=334, s1=4441, s2=0, rl=127, experiment='t2tChrY-readst2tChrY-SVs-a0.99-d0.1-l10000', tool='winnowmap', read_name='S1_181', GT_ref='NC_060948.1', GT_from=3193427, GT_to=3204446, GT_strand='+', is_correct=True, start_diff=-119743, end_diff=-119798, read_sv='INV')"
      ]
     },
     "metadata": {},
     "output_type": "display_data"
    },
    {
     "data": {
      "text/plain": [
       "'           GT from 3193427 to 3204446'"
      ]
     },
     "metadata": {},
     "output_type": "display_data"
    },
    {
     "data": {
      "text/plain": [
       "'       target from 3073684 to 3084648'"
      ]
     },
     "metadata": {},
     "output_type": "display_data"
    },
    {
     "data": {
      "text/plain": [
       "'    GT_labels from 3073656 to 3084674'"
      ]
     },
     "metadata": {},
     "output_type": "display_data"
    },
    {
     "data": {
      "text/plain": [
       "'target_labels from 3073685 to 3084648'"
      ]
     },
     "metadata": {},
     "output_type": "display_data"
    },
    {
     "data": {
      "text/plain": [
       "'10964 >?= 9917.1 = 0.9 * union 11019 => True'"
      ]
     },
     "metadata": {},
     "output_type": "display_data"
    },
    {
     "data": {
      "text/plain": [
       "Pandas(Index=115, query_name='S1_183!NC_060948.1!22505738!22517263!+', query_length=11544, query_start=20, query_end=11477, strand='+', target_name='NC_060948.1', target_length=62460029, target_start=21715430, target_end=21726866, residue_matches=4985, alignment_block_length=11482, mapping_quality=60, tp='P', cm=387, s1=4985, s2=0, rl=120, experiment='t2tChrY-readst2tChrY-SVs-a0.99-d0.1-l10000', tool='winnowmap', read_name='S1_183', GT_ref='NC_060948.1', GT_from=22505738, GT_to=22517263, GT_strand='+', is_correct=True, start_diff=-790308, end_diff=-790397, read_sv='INS')"
      ]
     },
     "metadata": {},
     "output_type": "display_data"
    },
    {
     "data": {
      "text/plain": [
       "'           GT from 22505738 to 22517263'"
      ]
     },
     "metadata": {},
     "output_type": "display_data"
    },
    {
     "data": {
      "text/plain": [
       "'       target from 21715430 to 21726866'"
      ]
     },
     "metadata": {},
     "output_type": "display_data"
    },
    {
     "data": {
      "text/plain": [
       "'    GT_labels from 21715411 to 21726935'"
      ]
     },
     "metadata": {},
     "output_type": "display_data"
    },
    {
     "data": {
      "text/plain": [
       "'target_labels from 21715431 to 21726866'"
      ]
     },
     "metadata": {},
     "output_type": "display_data"
    },
    {
     "data": {
      "text/plain": [
       "'11436 >?= 10372.5 = 0.9 * union 11525 => True'"
      ]
     },
     "metadata": {},
     "output_type": "display_data"
    },
    {
     "data": {
      "text/plain": [
       "Pandas(Index=117, query_name='S1_185!NC_060948.1!21619640!21631738!+', query_length=12140, query_start=10, query_end=12098, strand='+', target_name='NC_060948.1', target_length=62460029, target_start=20859409, target_end=20871456, residue_matches=4773, alignment_block_length=12136, mapping_quality=60, tp='P', cm=356, s1=4763, s2=0, rl=0, experiment='t2tChrY-readst2tChrY-SVs-a0.99-d0.1-l10000', tool='winnowmap', read_name='S1_185', GT_ref='NC_060948.1', GT_from=21619640, GT_to=21631738, GT_strand='+', is_correct=True, start_diff=-760231, end_diff=-760282, read_sv='INV')"
      ]
     },
     "metadata": {},
     "output_type": "display_data"
    },
    {
     "data": {
      "text/plain": [
       "'           GT from 21619640 to 21631738'"
      ]
     },
     "metadata": {},
     "output_type": "display_data"
    },
    {
     "data": {
      "text/plain": [
       "'       target from 20859409 to 20871456'"
      ]
     },
     "metadata": {},
     "output_type": "display_data"
    },
    {
     "data": {
      "text/plain": [
       "'    GT_labels from 20859400 to 20871497'"
      ]
     },
     "metadata": {},
     "output_type": "display_data"
    },
    {
     "data": {
      "text/plain": [
       "'target_labels from 20859410 to 20871456'"
      ]
     },
     "metadata": {},
     "output_type": "display_data"
    },
    {
     "data": {
      "text/plain": [
       "'12047 >?= 10888.2 = 0.9 * union 12098 => True'"
      ]
     },
     "metadata": {},
     "output_type": "display_data"
    },
    {
     "data": {
      "text/plain": [
       "Pandas(Index=118, query_name='S1_186!NC_060948.1!48709784!48724783!-', query_length=15056, query_start=70, query_end=14741, strand='-', target_name='NC_060948.1', target_length=62460029, target_start=32426664, target_end=32443002, residue_matches=2434, alignment_block_length=16527, mapping_quality=60, tp='P', cm=184, s1=2117, s2=1542, rl=487, experiment='t2tChrY-readst2tChrY-SVs-a0.99-d0.1-l10000', tool='winnowmap', read_name='S1_186', GT_ref='NC_060948.1', GT_from=48709784, GT_to=48724783, GT_strand='-', is_correct=False, start_diff=-16283120, end_diff=-16281781, read_sv='INV')"
      ]
     },
     "metadata": {},
     "output_type": "display_data"
    },
    {
     "data": {
      "text/plain": [
       "'           GT from 48709784 to 48724783'"
      ]
     },
     "metadata": {},
     "output_type": "display_data"
    },
    {
     "data": {
      "text/plain": [
       "'       target from 32426664 to 32443002'"
      ]
     },
     "metadata": {},
     "output_type": "display_data"
    },
    {
     "data": {
      "text/plain": [
       "'    GT_labels from 47079058 to 47088644'"
      ]
     },
     "metadata": {},
     "output_type": "display_data"
    },
    {
     "data": {
      "text/plain": [
       "'target_labels from 32426665 to 32443002'"
      ]
     },
     "metadata": {},
     "output_type": "display_data"
    },
    {
     "data": {
      "text/plain": [
       "'0 >?= 28203.3 = 0.9 * union 31337 => False'"
      ]
     },
     "metadata": {},
     "output_type": "display_data"
    },
    {
     "data": {
      "text/plain": [
       "Pandas(Index=126, query_name='S1_192!NC_060948.1!2677204!2682878!-', query_length=5698, query_start=44, query_end=5666, strand='-', target_name='NC_060948.1', target_length=62460029, target_start=2587388, target_end=2592987, residue_matches=2269, alignment_block_length=5628, mapping_quality=60, tp='P', cm=168, s1=2269, s2=45, rl=0, experiment='t2tChrY-readst2tChrY-SVs-a0.99-d0.1-l10000', tool='winnowmap', read_name='S1_192', GT_ref='NC_060948.1', GT_from=2677204, GT_to=2682878, GT_strand='-', is_correct=True, start_diff=-89816, end_diff=-89891, read_sv='INS')"
      ]
     },
     "metadata": {},
     "output_type": "display_data"
    },
    {
     "data": {
      "text/plain": [
       "'           GT from 2677204 to 2682878'"
      ]
     },
     "metadata": {},
     "output_type": "display_data"
    },
    {
     "data": {
      "text/plain": [
       "'       target from 2587388 to 2592987'"
      ]
     },
     "metadata": {},
     "output_type": "display_data"
    },
    {
     "data": {
      "text/plain": [
       "'    GT_labels from 2587358 to 2593031'"
      ]
     },
     "metadata": {},
     "output_type": "display_data"
    },
    {
     "data": {
      "text/plain": [
       "'target_labels from 2587389 to 2592987'"
      ]
     },
     "metadata": {},
     "output_type": "display_data"
    },
    {
     "data": {
      "text/plain": [
       "'5599 >?= 5106.6 = 0.9 * union 5674 => True'"
      ]
     },
     "metadata": {},
     "output_type": "display_data"
    },
    {
     "data": {
      "text/plain": [
       "Pandas(Index=130, query_name='S1_195!NC_060948.1!39343250!39353540!+', query_length=10327, query_start=124, query_end=10313, strand='+', target_name='NC_060948.1', target_length=62460029, target_start=32833969, target_end=32844124, residue_matches=2954, alignment_block_length=10206, mapping_quality=41, tp='P', cm=221, s1=2954, s2=2451, rl=946, experiment='t2tChrY-readst2tChrY-SVs-a0.99-d0.1-l10000', tool='winnowmap', read_name='S1_195', GT_ref='NC_060948.1', GT_from=39343250, GT_to=39353540, GT_strand='+', is_correct=False, start_diff=-6509281, end_diff=-6509416, read_sv='multi')"
      ]
     },
     "metadata": {},
     "output_type": "display_data"
    },
    {
     "data": {
      "text/plain": [
       "'           GT from 39343250 to 39353540'"
      ]
     },
     "metadata": {},
     "output_type": "display_data"
    },
    {
     "data": {
      "text/plain": [
       "'       target from 32833969 to 32844124'"
      ]
     },
     "metadata": {},
     "output_type": "display_data"
    },
    {
     "data": {
      "text/plain": [
       "'    GT_labels from 38036054 to 38046343'"
      ]
     },
     "metadata": {},
     "output_type": "display_data"
    },
    {
     "data": {
      "text/plain": [
       "'target_labels from 32833970 to 32844124'"
      ]
     },
     "metadata": {},
     "output_type": "display_data"
    },
    {
     "data": {
      "text/plain": [
       "'0 >?= 18400.5 = 0.9 * union 20445 => False'"
      ]
     },
     "metadata": {},
     "output_type": "display_data"
    },
    {
     "data": {
      "text/plain": [
       "Pandas(Index=137, query_name='S1_2!NC_060948.1!7313490!7324160!-', query_length=10687, query_start=6, query_end=10663, strand='-', target_name='NC_060948.1', target_length=62460029, target_start=7055073, target_end=7065713, residue_matches=4407, alignment_block_length=10701, mapping_quality=60, tp='P', cm=331, s1=4398, s2=0, rl=0, experiment='t2tChrY-readst2tChrY-SVs-a0.99-d0.1-l10000', tool='winnowmap', read_name='S1_2', GT_ref='NC_060948.1', GT_from=7313490, GT_to=7324160, GT_strand='-', is_correct=True, start_diff=-258417, end_diff=-258447, read_sv='DUP')"
      ]
     },
     "metadata": {},
     "output_type": "display_data"
    },
    {
     "data": {
      "text/plain": [
       "'           GT from 7313490 to 7324160'"
      ]
     },
     "metadata": {},
     "output_type": "display_data"
    },
    {
     "data": {
      "text/plain": [
       "'       target from 7055073 to 7065713'"
      ]
     },
     "metadata": {},
     "output_type": "display_data"
    },
    {
     "data": {
      "text/plain": [
       "'    GT_labels from 7055050 to 7065719'"
      ]
     },
     "metadata": {},
     "output_type": "display_data"
    },
    {
     "data": {
      "text/plain": [
       "'target_labels from 7055074 to 7065713'"
      ]
     },
     "metadata": {},
     "output_type": "display_data"
    },
    {
     "data": {
      "text/plain": [
       "'10640 >?= 9603.0 = 0.9 * union 10670 => True'"
      ]
     },
     "metadata": {},
     "output_type": "display_data"
    },
    {
     "data": {
      "text/plain": [
       "Pandas(Index=140, query_name='S1_201!NC_060948.1!5892100!5902123!+', query_length=10057, query_start=40, query_end=10012, strand='+', target_name='NC_060948.1', target_length=62460029, target_start=5677948, target_end=5687886, residue_matches=4045, alignment_block_length=9996, mapping_quality=60, tp='P', cm=300, s1=4045, s2=0, rl=411, experiment='t2tChrY-readst2tChrY-SVs-a0.99-d0.1-l10000', tool='winnowmap', read_name='S1_201', GT_ref='NC_060948.1', GT_from=5892100, GT_to=5902123, GT_strand='+', is_correct=True, start_diff=-214152, end_diff=-214237, read_sv='DUP')"
      ]
     },
     "metadata": {},
     "output_type": "display_data"
    },
    {
     "data": {
      "text/plain": [
       "'           GT from 5892100 to 5902123'"
      ]
     },
     "metadata": {},
     "output_type": "display_data"
    },
    {
     "data": {
      "text/plain": [
       "'       target from 5677948 to 5687886'"
      ]
     },
     "metadata": {},
     "output_type": "display_data"
    },
    {
     "data": {
      "text/plain": [
       "'    GT_labels from 5677909 to 5687931'"
      ]
     },
     "metadata": {},
     "output_type": "display_data"
    },
    {
     "data": {
      "text/plain": [
       "'target_labels from 5677949 to 5687886'"
      ]
     },
     "metadata": {},
     "output_type": "display_data"
    },
    {
     "data": {
      "text/plain": [
       "'9938 >?= 9020.7 = 0.9 * union 10023 => True'"
      ]
     },
     "metadata": {},
     "output_type": "display_data"
    },
    {
     "data": {
      "text/plain": [
       "Pandas(Index=143, query_name='S1_204!NC_060948.1!46550947!46561886!-', query_length=10965, query_start=1, query_end=10885, strand='-', target_name='NC_060948.1', target_length=62460029, target_start=44993788, target_end=45004648, residue_matches=3212, alignment_block_length=10912, mapping_quality=60, tp='P', cm=247, s1=3212, s2=2062, rl=760, experiment='t2tChrY-readst2tChrY-SVs-a0.99-d0.1-l10000', tool='winnowmap', read_name='S1_204', GT_ref='NC_060948.1', GT_from=46550947, GT_to=46561886, GT_strand='-', is_correct=True, start_diff=-1557159, end_diff=-1557238, read_sv='INV')"
      ]
     },
     "metadata": {},
     "output_type": "display_data"
    },
    {
     "data": {
      "text/plain": [
       "'           GT from 46550947 to 46561886'"
      ]
     },
     "metadata": {},
     "output_type": "display_data"
    },
    {
     "data": {
      "text/plain": [
       "'       target from 44993788 to 45004648'"
      ]
     },
     "metadata": {},
     "output_type": "display_data"
    },
    {
     "data": {
      "text/plain": [
       "'    GT_labels from 44993711 to 45004649'"
      ]
     },
     "metadata": {},
     "output_type": "display_data"
    },
    {
     "data": {
      "text/plain": [
       "'target_labels from 44993789 to 45004648'"
      ]
     },
     "metadata": {},
     "output_type": "display_data"
    },
    {
     "data": {
      "text/plain": [
       "'10860 >?= 9845.1 = 0.9 * union 10939 => True'"
      ]
     },
     "metadata": {},
     "output_type": "display_data"
    },
    {
     "data": {
      "text/plain": [
       "Pandas(Index=144, query_name='S1_205!NC_060948.1!5420419!5428466!+', query_length=8074, query_start=1, query_end=8050, strand='+', target_name='NC_060948.1', target_length=62460029, target_start=5218403, target_end=5226424, residue_matches=3382, alignment_block_length=8063, mapping_quality=60, tp='P', cm=275, s1=3382, s2=0, rl=0, experiment='t2tChrY-readst2tChrY-SVs-a0.99-d0.1-l10000', tool='winnowmap', read_name='S1_205', GT_ref='NC_060948.1', GT_from=5420419, GT_to=5428466, GT_strand='+', is_correct=True, start_diff=-202016, end_diff=-202042, read_sv='DEL')"
      ]
     },
     "metadata": {},
     "output_type": "display_data"
    },
    {
     "data": {
      "text/plain": [
       "'           GT from 5420419 to 5428466'"
      ]
     },
     "metadata": {},
     "output_type": "display_data"
    },
    {
     "data": {
      "text/plain": [
       "'       target from 5218403 to 5226424'"
      ]
     },
     "metadata": {},
     "output_type": "display_data"
    },
    {
     "data": {
      "text/plain": [
       "'    GT_labels from 5218403 to 5226449'"
      ]
     },
     "metadata": {},
     "output_type": "display_data"
    },
    {
     "data": {
      "text/plain": [
       "'target_labels from 5218404 to 5226424'"
      ]
     },
     "metadata": {},
     "output_type": "display_data"
    },
    {
     "data": {
      "text/plain": [
       "'8021 >?= 7242.3 = 0.9 * union 8047 => True'"
      ]
     },
     "metadata": {},
     "output_type": "display_data"
    },
    {
     "data": {
      "text/plain": [
       "Pandas(Index=146, query_name='S1_207!NC_060948.1!24622932!24634752!+', query_length=11832, query_start=51, query_end=11788, strand='+', target_name='NC_060948.1', target_length=62460029, target_start=23763938, target_end=23775841, residue_matches=5076, alignment_block_length=11940, mapping_quality=54, tp='P', cm=389, s1=5047, s2=4238, rl=0, experiment='t2tChrY-readst2tChrY-SVs-a0.99-d0.1-l10000', tool='winnowmap', read_name='S1_207', GT_ref='NC_060948.1', GT_from=24622932, GT_to=24634752, GT_strand='+', is_correct=True, start_diff=-858994, end_diff=-858911, read_sv='INV')"
      ]
     },
     "metadata": {},
     "output_type": "display_data"
    },
    {
     "data": {
      "text/plain": [
       "'           GT from 24622932 to 24634752'"
      ]
     },
     "metadata": {},
     "output_type": "display_data"
    },
    {
     "data": {
      "text/plain": [
       "'       target from 23763938 to 23775841'"
      ]
     },
     "metadata": {},
     "output_type": "display_data"
    },
    {
     "data": {
      "text/plain": [
       "'    GT_labels from 23763889 to 23775885'"
      ]
     },
     "metadata": {},
     "output_type": "display_data"
    },
    {
     "data": {
      "text/plain": [
       "'target_labels from 23763939 to 23775841'"
      ]
     },
     "metadata": {},
     "output_type": "display_data"
    },
    {
     "data": {
      "text/plain": [
       "'11726 >?= 10797.300000000001 = 0.9 * union 11997 => True'"
      ]
     },
     "metadata": {},
     "output_type": "display_data"
    },
    {
     "data": {
      "text/plain": [
       "Pandas(Index=149, query_name='S1_21!NC_060948.1!43700767!43708145!+', query_length=7406, query_start=23, query_end=7352, strand='+', target_name='NC_060948.1', target_length=62460029, target_start=42238590, target_end=42245893, residue_matches=2142, alignment_block_length=7336, mapping_quality=3, tp='P', cm=161, s1=2142, s2=2112, rl=820, experiment='t2tChrY-readst2tChrY-SVs-a0.99-d0.1-l10000', tool='winnowmap', read_name='S1_21', GT_ref='NC_060948.1', GT_from=43700767, GT_to=43708145, GT_strand='+', is_correct=True, start_diff=-1462177, end_diff=-1462252, read_sv='DEL')"
      ]
     },
     "metadata": {},
     "output_type": "display_data"
    },
    {
     "data": {
      "text/plain": [
       "'           GT from 43700767 to 43708145'"
      ]
     },
     "metadata": {},
     "output_type": "display_data"
    },
    {
     "data": {
      "text/plain": [
       "'       target from 42238590 to 42245893'"
      ]
     },
     "metadata": {},
     "output_type": "display_data"
    },
    {
     "data": {
      "text/plain": [
       "'    GT_labels from 42238568 to 42245945'"
      ]
     },
     "metadata": {},
     "output_type": "display_data"
    },
    {
     "data": {
      "text/plain": [
       "'target_labels from 42238591 to 42245893'"
      ]
     },
     "metadata": {},
     "output_type": "display_data"
    },
    {
     "data": {
      "text/plain": [
       "'7303 >?= 6640.2 = 0.9 * union 7378 => True'"
      ]
     },
     "metadata": {},
     "output_type": "display_data"
    },
    {
     "data": {
      "text/plain": [
       "Pandas(Index=150, query_name='S1_210!NC_060948.1!29811669!29823175!-', query_length=11547, query_start=12, query_end=10644, strand='-', target_name='NC_060948.1', target_length=62460029, target_start=28803306, target_end=28813960, residue_matches=2938, alignment_block_length=10706, mapping_quality=60, tp='P', cm=226, s1=2925, s2=633, rl=120, experiment='t2tChrY-readst2tChrY-SVs-a0.99-d0.1-l10000', tool='winnowmap', read_name='S1_210', GT_ref='NC_060948.1', GT_from=29811669, GT_to=29823175, GT_strand='-', is_correct=False, start_diff=-1008363, end_diff=-1009215, read_sv='INV')"
      ]
     },
     "metadata": {},
     "output_type": "display_data"
    },
    {
     "data": {
      "text/plain": [
       "'           GT from 29811669 to 29823175'"
      ]
     },
     "metadata": {},
     "output_type": "display_data"
    },
    {
     "data": {
      "text/plain": [
       "'       target from 28803306 to 28813960'"
      ]
     },
     "metadata": {},
     "output_type": "display_data"
    },
    {
     "data": {
      "text/plain": [
       "'    GT_labels from 28805244 to 28813971'"
      ]
     },
     "metadata": {},
     "output_type": "display_data"
    },
    {
     "data": {
      "text/plain": [
       "'target_labels from 28803307 to 28813960'"
      ]
     },
     "metadata": {},
     "output_type": "display_data"
    },
    {
     "data": {
      "text/plain": [
       "'8717 >?= 12098.7 = 0.9 * union 13443 => False'"
      ]
     },
     "metadata": {},
     "output_type": "display_data"
    },
    {
     "data": {
      "text/plain": [
       "Pandas(Index=151, query_name='S1_211!NC_060948.1!37261082!37273272!+', query_length=12228, query_start=23, query_end=12163, strand='+', target_name='NC_060948.1', target_length=62460029, target_start=36004545, target_end=36016322, residue_matches=3358, alignment_block_length=12160, mapping_quality=60, tp='P', cm=262, s1=3306, s2=1388, rl=631, experiment='t2tChrY-readst2tChrY-SVs-a0.99-d0.1-l10000', tool='winnowmap', read_name='S1_211', GT_ref='NC_060948.1', GT_from=37261082, GT_to=37273272, GT_strand='+', is_correct=True, start_diff=-1256537, end_diff=-1256950, read_sv='multi')"
      ]
     },
     "metadata": {},
     "output_type": "display_data"
    },
    {
     "data": {
      "text/plain": [
       "'           GT from 37261082 to 37273272'"
      ]
     },
     "metadata": {},
     "output_type": "display_data"
    },
    {
     "data": {
      "text/plain": [
       "'       target from 36004545 to 36016322'"
      ]
     },
     "metadata": {},
     "output_type": "display_data"
    },
    {
     "data": {
      "text/plain": [
       "'    GT_labels from -74545 to 36016387'"
      ]
     },
     "metadata": {},
     "output_type": "display_data"
    },
    {
     "data": {
      "text/plain": [
       "'target_labels from 36004546 to 36016322'"
      ]
     },
     "metadata": {},
     "output_type": "display_data"
    },
    {
     "data": {
      "text/plain": [
       "'11777 >?= 10971.0 = 0.9 * union 12190 => True'"
      ]
     },
     "metadata": {},
     "output_type": "display_data"
    },
    {
     "data": {
      "text/plain": [
       "Pandas(Index=152, query_name='S1_212!NC_060948.1!59000472!59020548!-', query_length=20138, query_start=51, query_end=19968, strand='-', target_name='NC_060948.1', target_length=62460029, target_start=57054525, target_end=57074038, residue_matches=5757, alignment_block_length=19958, mapping_quality=60, tp='P', cm=449, s1=5701, s2=1456, rl=591, experiment='t2tChrY-readst2tChrY-SVs-a0.99-d0.1-l10000', tool='winnowmap', read_name='S1_212', GT_ref='NC_060948.1', GT_from=59000472, GT_to=59020548, GT_strand='-', is_correct=True, start_diff=-1945947, end_diff=-1946510, read_sv='DEL')"
      ]
     },
     "metadata": {},
     "output_type": "display_data"
    },
    {
     "data": {
      "text/plain": [
       "'           GT from 59000472 to 59020548'"
      ]
     },
     "metadata": {},
     "output_type": "display_data"
    },
    {
     "data": {
      "text/plain": [
       "'       target from 57054525 to 57074038'"
      ]
     },
     "metadata": {},
     "output_type": "display_data"
    },
    {
     "data": {
      "text/plain": [
       "'    GT_labels from 57054357 to 57074088'"
      ]
     },
     "metadata": {},
     "output_type": "display_data"
    },
    {
     "data": {
      "text/plain": [
       "'target_labels from 57054526 to 57074038'"
      ]
     },
     "metadata": {},
     "output_type": "display_data"
    },
    {
     "data": {
      "text/plain": [
       "'19513 >?= 18068.4 = 0.9 * union 20076 => True'"
      ]
     },
     "metadata": {},
     "output_type": "display_data"
    },
    {
     "data": {
      "text/plain": [
       "Pandas(Index=155, query_name='S1_215!NC_060948.1!18193653!18204206!+', query_length=10585, query_start=12, query_end=10572, strand='+', target_name='NC_060948.1', target_length=62460029, target_start=17541923, target_end=17552451, residue_matches=4294, alignment_block_length=10582, mapping_quality=60, tp='P', cm=334, s1=4294, s2=0, rl=270, experiment='t2tChrY-readst2tChrY-SVs-a0.99-d0.1-l10000', tool='winnowmap', read_name='S1_215', GT_ref='NC_060948.1', GT_from=18193653, GT_to=18204206, GT_strand='+', is_correct=True, start_diff=-651730, end_diff=-651755, read_sv='INV')"
      ]
     },
     "metadata": {},
     "output_type": "display_data"
    },
    {
     "data": {
      "text/plain": [
       "'           GT from 18193653 to 18204206'"
      ]
     },
     "metadata": {},
     "output_type": "display_data"
    },
    {
     "data": {
      "text/plain": [
       "'       target from 17541923 to 17552451'"
      ]
     },
     "metadata": {},
     "output_type": "display_data"
    },
    {
     "data": {
      "text/plain": [
       "'    GT_labels from 17541912 to 17552464'"
      ]
     },
     "metadata": {},
     "output_type": "display_data"
    },
    {
     "data": {
      "text/plain": [
       "'target_labels from 17541924 to 17552451'"
      ]
     },
     "metadata": {},
     "output_type": "display_data"
    },
    {
     "data": {
      "text/plain": [
       "'10528 >?= 9497.7 = 0.9 * union 10553 => True'"
      ]
     },
     "metadata": {},
     "output_type": "display_data"
    },
    {
     "data": {
      "text/plain": [
       "Pandas(Index=158, query_name='S1_218!NC_060948.1!36395167!36407323!-', query_length=12200, query_start=35, query_end=12169, strand='-', target_name='NC_060948.1', target_length=62460029, target_start=35167141, target_end=35179353, residue_matches=3110, alignment_block_length=12265, mapping_quality=60, tp='P', cm=238, s1=3089, s2=452, rl=288, experiment='t2tChrY-readst2tChrY-SVs-a0.99-d0.1-l10000', tool='winnowmap', read_name='S1_218', GT_ref='NC_060948.1', GT_from=36395167, GT_to=36407323, GT_strand='-', is_correct=False, start_diff=-1228026, end_diff=-1227970, read_sv='DEL')"
      ]
     },
     "metadata": {},
     "output_type": "display_data"
    },
    {
     "data": {
      "text/plain": [
       "'           GT from 36395167 to 36407323'"
      ]
     },
     "metadata": {},
     "output_type": "display_data"
    },
    {
     "data": {
      "text/plain": [
       "'       target from 35167141 to 35179353'"
      ]
     },
     "metadata": {},
     "output_type": "display_data"
    },
    {
     "data": {
      "text/plain": [
       "'    GT_labels from 35169527 to 35179388'"
      ]
     },
     "metadata": {},
     "output_type": "display_data"
    },
    {
     "data": {
      "text/plain": [
       "'target_labels from 35167142 to 35179353'"
      ]
     },
     "metadata": {},
     "output_type": "display_data"
    },
    {
     "data": {
      "text/plain": [
       "'9827 >?= 13086.9 = 0.9 * union 14541 => False'"
      ]
     },
     "metadata": {},
     "output_type": "display_data"
    },
    {
     "data": {
      "text/plain": [
       "Pandas(Index=163, query_name='S1_222!NC_060948.1!28445262!28455583!-', query_length=10348, query_start=47, query_end=10316, strand='-', target_name='NC_060948.1', target_length=62460029, target_start=27487806, target_end=27498048, residue_matches=4107, alignment_block_length=10294, mapping_quality=60, tp='P', cm=306, s1=4107, s2=0, rl=0, experiment='t2tChrY-readst2tChrY-SVs-a0.99-d0.1-l10000', tool='winnowmap', read_name='S1_222', GT_ref='NC_060948.1', GT_from=28445262, GT_to=28455583, GT_strand='-', is_correct=True, start_diff=-957456, end_diff=-957535, read_sv='DUP')"
      ]
     },
     "metadata": {},
     "output_type": "display_data"
    },
    {
     "data": {
      "text/plain": [
       "'           GT from 28445262 to 28455583'"
      ]
     },
     "metadata": {},
     "output_type": "display_data"
    },
    {
     "data": {
      "text/plain": [
       "'       target from 27487806 to 27498048'"
      ]
     },
     "metadata": {},
     "output_type": "display_data"
    },
    {
     "data": {
      "text/plain": [
       "'    GT_labels from 27487775 to 27498095'"
      ]
     },
     "metadata": {},
     "output_type": "display_data"
    },
    {
     "data": {
      "text/plain": [
       "'target_labels from 27487807 to 27498048'"
      ]
     },
     "metadata": {},
     "output_type": "display_data"
    },
    {
     "data": {
      "text/plain": [
       "'10242 >?= 9288.9 = 0.9 * union 10321 => True'"
      ]
     },
     "metadata": {},
     "output_type": "display_data"
    },
    {
     "data": {
      "text/plain": [
       "Pandas(Index=166, query_name='S1_225!NC_060948.1!40916848!40928609!+', query_length=11807, query_start=29, query_end=11758, strand='+', target_name='NC_060948.1', target_length=62460029, target_start=39560957, target_end=39572408, residue_matches=3012, alignment_block_length=11738, mapping_quality=60, tp='P', cm=231, s1=2974, s2=0, rl=0, experiment='t2tChrY-readst2tChrY-SVs-a0.99-d0.1-l10000', tool='winnowmap', read_name='S1_225', GT_ref='NC_060948.1', GT_from=40916848, GT_to=40928609, GT_strand='+', is_correct=False, start_diff=-1355891, end_diff=-1356201, read_sv='INV')"
      ]
     },
     "metadata": {},
     "output_type": "display_data"
    },
    {
     "data": {
      "text/plain": [
       "'           GT from 40916848 to 40928609'"
      ]
     },
     "metadata": {},
     "output_type": "display_data"
    },
    {
     "data": {
      "text/plain": [
       "'       target from 39560957 to 39572408'"
      ]
     },
     "metadata": {},
     "output_type": "display_data"
    },
    {
     "data": {
      "text/plain": [
       "'    GT_labels from 39560929 to 39570037'"
      ]
     },
     "metadata": {},
     "output_type": "display_data"
    },
    {
     "data": {
      "text/plain": [
       "'target_labels from 39560958 to 39572408'"
      ]
     },
     "metadata": {},
     "output_type": "display_data"
    },
    {
     "data": {
      "text/plain": [
       "'9080 >?= 12718.800000000001 = 0.9 * union 14132 => False'"
      ]
     },
     "metadata": {},
     "output_type": "display_data"
    },
    {
     "data": {
      "text/plain": [
       "Pandas(Index=168, query_name='S1_227!NC_060948.1!19558006!19564913!+', query_length=6945, query_start=28, query_end=6929, strand='+', target_name='NC_060948.1', target_length=62460029, target_start=18854057, target_end=18860920, residue_matches=2928, alignment_block_length=6911, mapping_quality=60, tp='P', cm=225, s1=2928, s2=1622, rl=0, experiment='t2tChrY-readst2tChrY-SVs-a0.99-d0.1-l10000', tool='winnowmap', read_name='S1_227', GT_ref='NC_060948.1', GT_from=19558006, GT_to=19564913, GT_strand='+', is_correct=True, start_diff=-703949, end_diff=-703993, read_sv='DUP')"
      ]
     },
     "metadata": {},
     "output_type": "display_data"
    },
    {
     "data": {
      "text/plain": [
       "'           GT from 19558006 to 19564913'"
      ]
     },
     "metadata": {},
     "output_type": "display_data"
    },
    {
     "data": {
      "text/plain": [
       "'       target from 18854057 to 18860920'"
      ]
     },
     "metadata": {},
     "output_type": "display_data"
    },
    {
     "data": {
      "text/plain": [
       "'    GT_labels from 18854031 to 18860937'"
      ]
     },
     "metadata": {},
     "output_type": "display_data"
    },
    {
     "data": {
      "text/plain": [
       "'target_labels from 18854058 to 18860920'"
      ]
     },
     "metadata": {},
     "output_type": "display_data"
    },
    {
     "data": {
      "text/plain": [
       "'6863 >?= 6216.3 = 0.9 * union 6907 => True'"
      ]
     },
     "metadata": {},
     "output_type": "display_data"
    },
    {
     "data": {
      "text/plain": [
       "Pandas(Index=172, query_name='S1_230!NC_060948.1!15677588!15686291!-', query_length=8699, query_start=26, query_end=8675, strand='-', target_name='NC_060948.1', target_length=62460029, target_start=15126219, target_end=15134872, residue_matches=3766, alignment_block_length=8679, mapping_quality=60, tp='P', cm=285, s1=3766, s2=88, rl=0, experiment='t2tChrY-readst2tChrY-SVs-a0.99-d0.1-l10000', tool='winnowmap', read_name='S1_230', GT_ref='NC_060948.1', GT_from=15677588, GT_to=15686291, GT_strand='-', is_correct=True, start_diff=-551369, end_diff=-551419, read_sv='DUP')"
      ]
     },
     "metadata": {},
     "output_type": "display_data"
    },
    {
     "data": {
      "text/plain": [
       "'           GT from 15677588 to 15686291'"
      ]
     },
     "metadata": {},
     "output_type": "display_data"
    },
    {
     "data": {
      "text/plain": [
       "'       target from 15126219 to 15134872'"
      ]
     },
     "metadata": {},
     "output_type": "display_data"
    },
    {
     "data": {
      "text/plain": [
       "'    GT_labels from 15126196 to 15134898'"
      ]
     },
     "metadata": {},
     "output_type": "display_data"
    },
    {
     "data": {
      "text/plain": [
       "'target_labels from 15126220 to 15134872'"
      ]
     },
     "metadata": {},
     "output_type": "display_data"
    },
    {
     "data": {
      "text/plain": [
       "'8653 >?= 7832.7 = 0.9 * union 8703 => True'"
      ]
     },
     "metadata": {},
     "output_type": "display_data"
    },
    {
     "data": {
      "text/plain": [
       "Pandas(Index=173, query_name='S1_231!NC_060948.1!46258987!46268691!+', query_length=9719, query_start=14, query_end=9682, strand='+', target_name='NC_060948.1', target_length=62460029, target_start=44710703, target_end=44720356, residue_matches=2528, alignment_block_length=9689, mapping_quality=3, tp='P', cm=199, s1=2528, s2=2483, rl=1116, experiment='t2tChrY-readst2tChrY-SVs-a0.99-d0.1-l10000', tool='winnowmap', read_name='S1_231', GT_ref='NC_060948.1', GT_from=46258987, GT_to=46268691, GT_strand='+', is_correct=True, start_diff=-1548284, end_diff=-1548335, read_sv='DEL')"
      ]
     },
     "metadata": {},
     "output_type": "display_data"
    },
    {
     "data": {
      "text/plain": [
       "'           GT from 46258987 to 46268691'"
      ]
     },
     "metadata": {},
     "output_type": "display_data"
    },
    {
     "data": {
      "text/plain": [
       "'       target from 44710703 to 44720356'"
      ]
     },
     "metadata": {},
     "output_type": "display_data"
    },
    {
     "data": {
      "text/plain": [
       "'    GT_labels from 44710690 to 44720393'"
      ]
     },
     "metadata": {},
     "output_type": "display_data"
    },
    {
     "data": {
      "text/plain": [
       "'target_labels from 44710704 to 44720356'"
      ]
     },
     "metadata": {},
     "output_type": "display_data"
    },
    {
     "data": {
      "text/plain": [
       "'9653 >?= 8733.6 = 0.9 * union 9704 => True'"
      ]
     },
     "metadata": {},
     "output_type": "display_data"
    },
    {
     "data": {
      "text/plain": [
       "Pandas(Index=174, query_name='S1_232!NC_060948.1!50999911!51009290!-', query_length=9417, query_start=4, query_end=9315, strand='-', target_name='NC_060948.1', target_length=62460029, target_start=49296330, target_end=49305603, residue_matches=2626, alignment_block_length=9330, mapping_quality=34, tp='P', cm=205, s1=2624, s2=2220, rl=1056, experiment='t2tChrY-readst2tChrY-SVs-a0.99-d0.1-l10000', tool='winnowmap', read_name='S1_232', GT_ref='NC_060948.1', GT_from=50999911, GT_to=51009290, GT_strand='-', is_correct=True, start_diff=-1703581, end_diff=-1703687, read_sv='multi')"
      ]
     },
     "metadata": {},
     "output_type": "display_data"
    },
    {
     "data": {
      "text/plain": [
       "'           GT from 50999911 to 51009290'"
      ]
     },
     "metadata": {},
     "output_type": "display_data"
    },
    {
     "data": {
      "text/plain": [
       "'       target from 49296330 to 49305603'"
      ]
     },
     "metadata": {},
     "output_type": "display_data"
    },
    {
     "data": {
      "text/plain": [
       "'    GT_labels from 49296229 to 49305607'"
      ]
     },
     "metadata": {},
     "output_type": "display_data"
    },
    {
     "data": {
      "text/plain": [
       "'target_labels from 49296331 to 49305603'"
      ]
     },
     "metadata": {},
     "output_type": "display_data"
    },
    {
     "data": {
      "text/plain": [
       "'9273 >?= 8441.1 = 0.9 * union 9379 => True'"
      ]
     },
     "metadata": {},
     "output_type": "display_data"
    },
    {
     "data": {
      "text/plain": [
       "Pandas(Index=176, query_name='S1_234!NC_060948.1!58599468!58612321!-', query_length=12893, query_start=8, query_end=12876, strand='-', target_name='NC_060948.1', target_length=62460029, target_start=56661569, target_end=56674397, residue_matches=3145, alignment_block_length=12885, mapping_quality=60, tp='P', cm=244, s1=3143, s2=854, rl=405, experiment='t2tChrY-readst2tChrY-SVs-a0.99-d0.1-l10000', tool='winnowmap', read_name='S1_234', GT_ref='NC_060948.1', GT_from=58599468, GT_to=58612321, GT_strand='-', is_correct=True, start_diff=-1937899, end_diff=-1937924, read_sv='INS')"
      ]
     },
     "metadata": {},
     "output_type": "display_data"
    },
    {
     "data": {
      "text/plain": [
       "'           GT from 58599468 to 58612321'"
      ]
     },
     "metadata": {},
     "output_type": "display_data"
    },
    {
     "data": {
      "text/plain": [
       "'       target from 56661569 to 56674397'"
      ]
     },
     "metadata": {},
     "output_type": "display_data"
    },
    {
     "data": {
      "text/plain": [
       "'    GT_labels from 56661553 to 56674405'"
      ]
     },
     "metadata": {},
     "output_type": "display_data"
    },
    {
     "data": {
      "text/plain": [
       "'target_labels from 56661570 to 56674397'"
      ]
     },
     "metadata": {},
     "output_type": "display_data"
    },
    {
     "data": {
      "text/plain": [
       "'12828 >?= 11567.7 = 0.9 * union 12853 => True'"
      ]
     },
     "metadata": {},
     "output_type": "display_data"
    },
    {
     "data": {
      "text/plain": [
       "Pandas(Index=178, query_name='S1_236!NC_060948.1!33016288!33029435!-', query_length=13198, query_start=56, query_end=13161, strand='-', target_name='NC_060948.1', target_length=62460029, target_start=31895570, target_end=31908482, residue_matches=3767, alignment_block_length=13129, mapping_quality=60, tp='P', cm=286, s1=3742, s2=601, rl=186, experiment='t2tChrY-readst2tChrY-SVs-a0.99-d0.1-l10000', tool='winnowmap', read_name='S1_236', GT_ref='NC_060948.1', GT_from=33016288, GT_to=33029435, GT_strand='-', is_correct=True, start_diff=-1120718, end_diff=-1120953, read_sv='DUP')"
      ]
     },
     "metadata": {},
     "output_type": "display_data"
    },
    {
     "data": {
      "text/plain": [
       "'           GT from 33016288 to 33029435'"
      ]
     },
     "metadata": {},
     "output_type": "display_data"
    },
    {
     "data": {
      "text/plain": [
       "'       target from 31895570 to 31908482'"
      ]
     },
     "metadata": {},
     "output_type": "display_data"
    },
    {
     "data": {
      "text/plain": [
       "'    GT_labels from -65254 to 31908537'"
      ]
     },
     "metadata": {},
     "output_type": "display_data"
    },
    {
     "data": {
      "text/plain": [
       "'target_labels from 31895571 to 31908482'"
      ]
     },
     "metadata": {},
     "output_type": "display_data"
    },
    {
     "data": {
      "text/plain": [
       "'12912 >?= 11832.300000000001 = 0.9 * union 13147 => True'"
      ]
     },
     "metadata": {},
     "output_type": "display_data"
    },
    {
     "data": {
      "text/plain": [
       "Pandas(Index=179, query_name='S1_237!NC_060948.1!31467638!31481669!+', query_length=14073, query_start=0, query_end=12968, strand='+', target_name='NC_060948.1', target_length=62460029, target_start=30404749, target_end=30416892, residue_matches=3438, alignment_block_length=12989, mapping_quality=60, tp='P', cm=258, s1=3315, s2=2359, rl=1013, experiment='t2tChrY-readst2tChrY-SVs-a0.99-d0.1-l10000', tool='winnowmap', read_name='S1_237', GT_ref='NC_060948.1', GT_from=31467638, GT_to=31481669, GT_strand='+', is_correct=False, start_diff=-1062889, end_diff=-1064777, read_sv='INS')"
      ]
     },
     "metadata": {},
     "output_type": "display_data"
    },
    {
     "data": {
      "text/plain": [
       "'           GT from 31467638 to 31481669'"
      ]
     },
     "metadata": {},
     "output_type": "display_data"
    },
    {
     "data": {
      "text/plain": [
       "'       target from 30404749 to 30416892'"
      ]
     },
     "metadata": {},
     "output_type": "display_data"
    },
    {
     "data": {
      "text/plain": [
       "'    GT_labels from 30404750 to 30417995'"
      ]
     },
     "metadata": {},
     "output_type": "display_data"
    },
    {
     "data": {
      "text/plain": [
       "'target_labels from 30404750 to 30416892'"
      ]
     },
     "metadata": {},
     "output_type": "display_data"
    },
    {
     "data": {
      "text/plain": [
       "'12143 >?= 12627.9 = 0.9 * union 14031 => False'"
      ]
     },
     "metadata": {},
     "output_type": "display_data"
    },
    {
     "data": {
      "text/plain": [
       "Pandas(Index=184, query_name='S1_240!NC_060948.1!26431773!26440731!-', query_length=8977, query_start=40, query_end=8929, strand='-', target_name='NC_060948.1', target_length=62460029, target_start=25512533, target_end=25521150, residue_matches=3502, alignment_block_length=8908, mapping_quality=1, tp='P', cm=265, s1=3462, s2=3448, rl=0, experiment='t2tChrY-readst2tChrY-SVs-a0.99-d0.1-l10000', tool='winnowmap', read_name='S1_240', GT_ref='NC_060948.1', GT_from=26431773, GT_to=26440731, GT_strand='-', is_correct=True, start_diff=-919240, end_diff=-919581, read_sv='INS')"
      ]
     },
     "metadata": {},
     "output_type": "display_data"
    },
    {
     "data": {
      "text/plain": [
       "'           GT from 26431773 to 26440731'"
      ]
     },
     "metadata": {},
     "output_type": "display_data"
    },
    {
     "data": {
      "text/plain": [
       "'       target from 25512533 to 25521150'"
      ]
     },
     "metadata": {},
     "output_type": "display_data"
    },
    {
     "data": {
      "text/plain": [
       "'    GT_labels from -51917 to 25521189'"
      ]
     },
     "metadata": {},
     "output_type": "display_data"
    },
    {
     "data": {
      "text/plain": [
       "'target_labels from 25512534 to 25521150'"
      ]
     },
     "metadata": {},
     "output_type": "display_data"
    },
    {
     "data": {
      "text/plain": [
       "'8617 >?= 8062.2 = 0.9 * union 8958 => True'"
      ]
     },
     "metadata": {},
     "output_type": "display_data"
    },
    {
     "data": {
      "text/plain": [
       "Pandas(Index=191, query_name='S1_246!NC_060948.1!1877651!1889686!-', query_length=12069, query_start=38, query_end=12022, strand='-', target_name='NC_060948.1', target_length=62460029, target_start=1822647, target_end=1833693, residue_matches=4527, alignment_block_length=12004, mapping_quality=60, tp='P', cm=331, s1=4387, s2=0, rl=0, experiment='t2tChrY-readst2tChrY-SVs-a0.99-d0.1-l10000', tool='winnowmap', read_name='S1_246', GT_ref='NC_060948.1', GT_from=1877651, GT_to=1889686, GT_strand='-', is_correct=True, start_diff=-55004, end_diff=-55993, read_sv='multi')"
      ]
     },
     "metadata": {},
     "output_type": "display_data"
    },
    {
     "data": {
      "text/plain": [
       "'           GT from 1877651 to 1889686'"
      ]
     },
     "metadata": {},
     "output_type": "display_data"
    },
    {
     "data": {
      "text/plain": [
       "'       target from 1822647 to 1833693'"
      ]
     },
     "metadata": {},
     "output_type": "display_data"
    },
    {
     "data": {
      "text/plain": [
       "'    GT_labels from 1822601 to 1833731'"
      ]
     },
     "metadata": {},
     "output_type": "display_data"
    },
    {
     "data": {
      "text/plain": [
       "'target_labels from 1822648 to 1833693'"
      ]
     },
     "metadata": {},
     "output_type": "display_data"
    },
    {
     "data": {
      "text/plain": [
       "'11046 >?= 10831.5 = 0.9 * union 12035 => True'"
      ]
     },
     "metadata": {},
     "output_type": "display_data"
    },
    {
     "data": {
      "text/plain": [
       "Pandas(Index=195, query_name='S1_248!NC_060948.1!56537021!56550487!-', query_length=13518, query_start=102, query_end=13492, strand='-', target_name='NC_060948.1', target_length=62460029, target_start=54654090, target_end=54667429, residue_matches=3673, alignment_block_length=13408, mapping_quality=60, tp='P', cm=285, s1=3672, s2=321, rl=123, experiment='t2tChrY-readst2tChrY-SVs-a0.99-d0.1-l10000', tool='winnowmap', read_name='S1_248', GT_ref='NC_060948.1', GT_from=56537021, GT_to=56550487, GT_strand='-', is_correct=True, start_diff=-1882931, end_diff=-1883058, read_sv='INV')"
      ]
     },
     "metadata": {},
     "output_type": "display_data"
    },
    {
     "data": {
      "text/plain": [
       "'           GT from 56537021 to 56550487'"
      ]
     },
     "metadata": {},
     "output_type": "display_data"
    },
    {
     "data": {
      "text/plain": [
       "'       target from 54654090 to 54667429'"
      ]
     },
     "metadata": {},
     "output_type": "display_data"
    },
    {
     "data": {
      "text/plain": [
       "'    GT_labels from 54654065 to 54667530'"
      ]
     },
     "metadata": {},
     "output_type": "display_data"
    },
    {
     "data": {
      "text/plain": [
       "'target_labels from 54654091 to 54667429'"
      ]
     },
     "metadata": {},
     "output_type": "display_data"
    },
    {
     "data": {
      "text/plain": [
       "'13339 >?= 12119.4 = 0.9 * union 13466 => True'"
      ]
     },
     "metadata": {},
     "output_type": "display_data"
    },
    {
     "data": {
      "text/plain": [
       "Pandas(Index=201, query_name='S1_253!NC_060948.1!15601156!15613115!+', query_length=12004, query_start=25, query_end=11984, strand='+', target_name='NC_060948.1', target_length=62460029, target_start=15049995, target_end=15061909, residue_matches=4716, alignment_block_length=11981, mapping_quality=60, tp='P', cm=351, s1=4716, s2=0, rl=150, experiment='t2tChrY-readst2tChrY-SVs-a0.99-d0.1-l10000', tool='winnowmap', read_name='S1_253', GT_ref='NC_060948.1', GT_from=15601156, GT_to=15613115, GT_strand='+', is_correct=True, start_diff=-551161, end_diff=-551206, read_sv='INV')"
      ]
     },
     "metadata": {},
     "output_type": "display_data"
    },
    {
     "data": {
      "text/plain": [
       "'           GT from 15601156 to 15613115'"
      ]
     },
     "metadata": {},
     "output_type": "display_data"
    },
    {
     "data": {
      "text/plain": [
       "'       target from 15049995 to 15061909'"
      ]
     },
     "metadata": {},
     "output_type": "display_data"
    },
    {
     "data": {
      "text/plain": [
       "'    GT_labels from 15049971 to 15061929'"
      ]
     },
     "metadata": {},
     "output_type": "display_data"
    },
    {
     "data": {
      "text/plain": [
       "'target_labels from 15049996 to 15061909'"
      ]
     },
     "metadata": {},
     "output_type": "display_data"
    },
    {
     "data": {
      "text/plain": [
       "'11914 >?= 10763.1 = 0.9 * union 11959 => True'"
      ]
     },
     "metadata": {},
     "output_type": "display_data"
    },
    {
     "data": {
      "text/plain": [
       "Pandas(Index=205, query_name='S1_256!NC_060948.1!27406641!27414491!-', query_length=7894, query_start=394, query_end=7850, strand='-', target_name='NC_060948.1', target_length=62460029, target_start=26468599, target_end=26476016, residue_matches=3215, alignment_block_length=7464, mapping_quality=1, tp='P', cm=245, s1=3213, s2=3198, rl=0, experiment='t2tChrY-readst2tChrY-SVs-a0.99-d0.1-l10000', tool='winnowmap', read_name='S1_256', GT_ref='NC_060948.1', GT_from=27406641, GT_to=27414491, GT_strand='-', is_correct=True, start_diff=-938042, end_diff=-938475, read_sv='DEL')"
      ]
     },
     "metadata": {},
     "output_type": "display_data"
    },
    {
     "data": {
      "text/plain": [
       "'           GT from 27406641 to 27414491'"
      ]
     },
     "metadata": {},
     "output_type": "display_data"
    },
    {
     "data": {
      "text/plain": [
       "'       target from 26468599 to 26476016'"
      ]
     },
     "metadata": {},
     "output_type": "display_data"
    },
    {
     "data": {
      "text/plain": [
       "'    GT_labels from 26468557 to 26476079'"
      ]
     },
     "metadata": {},
     "output_type": "display_data"
    },
    {
     "data": {
      "text/plain": [
       "'target_labels from 26468600 to 26476016'"
      ]
     },
     "metadata": {},
     "output_type": "display_data"
    },
    {
     "data": {
      "text/plain": [
       "'7417 >?= 7065.0 = 0.9 * union 7850 => True'"
      ]
     },
     "metadata": {},
     "output_type": "display_data"
    },
    {
     "data": {
      "text/plain": [
       "Pandas(Index=206, query_name='S1_256!NC_060948.1!27406641!27414491!-', query_length=7894, query_start=8, query_end=289, strand='-', target_name='NC_060948.1', target_length=62460029, target_start=26475315, target_end=26475595, residue_matches=158, alignment_block_length=281, mapping_quality=0, tp='P', cm=12, s1=158, s2=158, rl=0, experiment='t2tChrY-readst2tChrY-SVs-a0.99-d0.1-l10000', tool='winnowmap', read_name='S1_256', GT_ref='NC_060948.1', GT_from=27406641, GT_to=27414491, GT_strand='-', is_correct=False, start_diff=-931326, end_diff=-938896, read_sv='DEL')"
      ]
     },
     "metadata": {},
     "output_type": "display_data"
    },
    {
     "data": {
      "text/plain": [
       "'           GT from 27406641 to 27414491'"
      ]
     },
     "metadata": {},
     "output_type": "display_data"
    },
    {
     "data": {
      "text/plain": [
       "'       target from 26475315 to 26475595'"
      ]
     },
     "metadata": {},
     "output_type": "display_data"
    },
    {
     "data": {
      "text/plain": [
       "'    GT_labels from 26468557 to 26476079'"
      ]
     },
     "metadata": {},
     "output_type": "display_data"
    },
    {
     "data": {
      "text/plain": [
       "'target_labels from 26475316 to 26475595'"
      ]
     },
     "metadata": {},
     "output_type": "display_data"
    },
    {
     "data": {
      "text/plain": [
       "'280 >?= 7065.0 = 0.9 * union 7850 => False'"
      ]
     },
     "metadata": {},
     "output_type": "display_data"
    },
    {
     "data": {
      "text/plain": [
       "Pandas(Index=214, query_name='S1_26!NC_060948.1!1516555!1526974!-', query_length=10447, query_start=1043, query_end=10412, strand='-', target_name='NC_060948.1', target_length=62460029, target_start=1476844, target_end=1486188, residue_matches=3881, alignment_block_length=9389, mapping_quality=60, tp='P', cm=287, s1=3881, s2=0, rl=0, experiment='t2tChrY-readst2tChrY-SVs-a0.99-d0.1-l10000', tool='winnowmap', read_name='S1_26', GT_ref='NC_060948.1', GT_from=1516555, GT_to=1526974, GT_strand='-', is_correct=False, start_diff=-39711, end_diff=-40786, read_sv='INV')"
      ]
     },
     "metadata": {},
     "output_type": "display_data"
    },
    {
     "data": {
      "text/plain": [
       "'           GT from 1516555 to 1526974'"
      ]
     },
     "metadata": {},
     "output_type": "display_data"
    },
    {
     "data": {
      "text/plain": [
       "'       target from 1476844 to 1486188'"
      ]
     },
     "metadata": {},
     "output_type": "display_data"
    },
    {
     "data": {
      "text/plain": [
       "'    GT_labels from 1476810 to 1486311'"
      ]
     },
     "metadata": {},
     "output_type": "display_data"
    },
    {
     "data": {
      "text/plain": [
       "'target_labels from 1476845 to 1486188'"
      ]
     },
     "metadata": {},
     "output_type": "display_data"
    },
    {
     "data": {
      "text/plain": [
       "'9344 >?= 9377.1 = 0.9 * union 10419 => False'"
      ]
     },
     "metadata": {},
     "output_type": "display_data"
    },
    {
     "data": {
      "text/plain": [
       "Pandas(Index=215, query_name='S1_26!NC_060948.1!1516555!1526974!-', query_length=10447, query_start=122, query_end=913, strand='-', target_name='NC_060948.1', target_length=62460029, target_start=1485485, target_end=1486273, residue_matches=381, alignment_block_length=792, mapping_quality=60, tp='P', cm=31, s1=253, s2=0, rl=0, experiment='t2tChrY-readst2tChrY-SVs-a0.99-d0.1-l10000', tool='winnowmap', read_name='S1_26', GT_ref='NC_060948.1', GT_from=1516555, GT_to=1526974, GT_strand='-', is_correct=False, start_diff=-31070, end_diff=-40701, read_sv='INV')"
      ]
     },
     "metadata": {},
     "output_type": "display_data"
    },
    {
     "data": {
      "text/plain": [
       "'           GT from 1516555 to 1526974'"
      ]
     },
     "metadata": {},
     "output_type": "display_data"
    },
    {
     "data": {
      "text/plain": [
       "'       target from 1485485 to 1486273'"
      ]
     },
     "metadata": {},
     "output_type": "display_data"
    },
    {
     "data": {
      "text/plain": [
       "'    GT_labels from 1476810 to 1486311'"
      ]
     },
     "metadata": {},
     "output_type": "display_data"
    },
    {
     "data": {
      "text/plain": [
       "'target_labels from 1485486 to 1486273'"
      ]
     },
     "metadata": {},
     "output_type": "display_data"
    },
    {
     "data": {
      "text/plain": [
       "'788 >?= 9377.1 = 0.9 * union 10419 => False'"
      ]
     },
     "metadata": {},
     "output_type": "display_data"
    },
    {
     "data": {
      "text/plain": [
       "Pandas(Index=216, query_name='S1_260!NC_060948.1!22845346!22856033!-', query_length=10701, query_start=37, query_end=10687, strand='-', target_name='NC_060948.1', target_length=62460029, target_start=22050616, target_end=22061252, residue_matches=4361, alignment_block_length=10681, mapping_quality=60, tp='P', cm=327, s1=4361, s2=0, rl=0, experiment='t2tChrY-readst2tChrY-SVs-a0.99-d0.1-l10000', tool='winnowmap', read_name='S1_260', GT_ref='NC_060948.1', GT_from=22845346, GT_to=22856033, GT_strand='-', is_correct=True, start_diff=-794730, end_diff=-794781, read_sv='INS')"
      ]
     },
     "metadata": {},
     "output_type": "display_data"
    },
    {
     "data": {
      "text/plain": [
       "'           GT from 22845346 to 22856033'"
      ]
     },
     "metadata": {},
     "output_type": "display_data"
    },
    {
     "data": {
      "text/plain": [
       "'       target from 22050616 to 22061252'"
      ]
     },
     "metadata": {},
     "output_type": "display_data"
    },
    {
     "data": {
      "text/plain": [
       "'    GT_labels from 22050603 to 22061289'"
      ]
     },
     "metadata": {},
     "output_type": "display_data"
    },
    {
     "data": {
      "text/plain": [
       "'target_labels from 22050617 to 22061252'"
      ]
     },
     "metadata": {},
     "output_type": "display_data"
    },
    {
     "data": {
      "text/plain": [
       "'10636 >?= 9618.300000000001 = 0.9 * union 10687 => True'"
      ]
     },
     "metadata": {},
     "output_type": "display_data"
    },
    {
     "data": {
      "text/plain": [
       "Pandas(Index=218, query_name='S1_262!NC_060948.1!11145144!11155826!-', query_length=10719, query_start=25, query_end=10671, strand='-', target_name='NC_060948.1', target_length=62460029, target_start=10743530, target_end=10752931, residue_matches=3049, alignment_block_length=10659, mapping_quality=57, tp='P', cm=237, s1=2859, s2=2344, rl=0, experiment='t2tChrY-readst2tChrY-SVs-a0.99-d0.1-l10000', tool='winnowmap', read_name='S1_262', GT_ref='NC_060948.1', GT_from=11145144, GT_to=11155826, GT_strand='-', is_correct=False, start_diff=-401614, end_diff=-402895, read_sv='DUP')"
      ]
     },
     "metadata": {},
     "output_type": "display_data"
    },
    {
     "data": {
      "text/plain": [
       "'           GT from 11145144 to 11155826'"
      ]
     },
     "metadata": {},
     "output_type": "display_data"
    },
    {
     "data": {
      "text/plain": [
       "'       target from 10743530 to 10752931'"
      ]
     },
     "metadata": {},
     "output_type": "display_data"
    },
    {
     "data": {
      "text/plain": [
       "'    GT_labels from 10743483 to 10752956'"
      ]
     },
     "metadata": {},
     "output_type": "display_data"
    },
    {
     "data": {
      "text/plain": [
       "'target_labels from 10743531 to 10752931'"
      ]
     },
     "metadata": {},
     "output_type": "display_data"
    },
    {
     "data": {
      "text/plain": [
       "'9401 >?= 9613.800000000001 = 0.9 * union 10682 => False'"
      ]
     },
     "metadata": {},
     "output_type": "display_data"
    },
    {
     "data": {
      "text/plain": [
       "Pandas(Index=220, query_name='S1_264!NC_060948.1!863842!885058!-', query_length=21263, query_start=27, query_end=21246, strand='-', target_name='NC_060948.1', target_length=62460029, target_start=837522, target_end=858694, residue_matches=8470, alignment_block_length=21274, mapping_quality=60, tp='P', cm=631, s1=8464, s2=0, rl=0, experiment='t2tChrY-readst2tChrY-SVs-a0.99-d0.1-l10000', tool='winnowmap', read_name='S1_264', GT_ref='NC_060948.1', GT_from=863842, GT_to=885058, GT_strand='-', is_correct=True, start_diff=-26320, end_diff=-26364, read_sv='multi')"
      ]
     },
     "metadata": {},
     "output_type": "display_data"
    },
    {
     "data": {
      "text/plain": [
       "'           GT from 863842 to 885058'"
      ]
     },
     "metadata": {},
     "output_type": "display_data"
    },
    {
     "data": {
      "text/plain": [
       "'       target from 837522 to 858694'"
      ]
     },
     "metadata": {},
     "output_type": "display_data"
    },
    {
     "data": {
      "text/plain": [
       "'    GT_labels from 837506 to 858721'"
      ]
     },
     "metadata": {},
     "output_type": "display_data"
    },
    {
     "data": {
      "text/plain": [
       "'target_labels from 837523 to 858694'"
      ]
     },
     "metadata": {},
     "output_type": "display_data"
    },
    {
     "data": {
      "text/plain": [
       "'21172 >?= 19094.4 = 0.9 * union 21216 => True'"
      ]
     },
     "metadata": {},
     "output_type": "display_data"
    },
    {
     "data": {
      "text/plain": [
       "Pandas(Index=223, query_name='S1_267!NC_060948.1!8770175!8786661!+', query_length=16536, query_start=18, query_end=16532, strand='+', target_name='NC_060948.1', target_length=62460029, target_start=8448128, target_end=8464553, residue_matches=6770, alignment_block_length=16540, mapping_quality=60, tp='P', cm=504, s1=6763, s2=0, rl=351, experiment='t2tChrY-readst2tChrY-SVs-a0.99-d0.1-l10000', tool='winnowmap', read_name='S1_267', GT_ref='NC_060948.1', GT_from=8770175, GT_to=8786661, GT_strand='+', is_correct=True, start_diff=-322047, end_diff=-322108, read_sv='INS')"
      ]
     },
     "metadata": {},
     "output_type": "display_data"
    },
    {
     "data": {
      "text/plain": [
       "'           GT from 8770175 to 8786661'"
      ]
     },
     "metadata": {},
     "output_type": "display_data"
    },
    {
     "data": {
      "text/plain": [
       "'       target from 8448128 to 8464553'"
      ]
     },
     "metadata": {},
     "output_type": "display_data"
    },
    {
     "data": {
      "text/plain": [
       "'    GT_labels from -18656 to 8464557'"
      ]
     },
     "metadata": {},
     "output_type": "display_data"
    },
    {
     "data": {
      "text/plain": [
       "'target_labels from 8448129 to 8464553'"
      ]
     },
     "metadata": {},
     "output_type": "display_data"
    },
    {
     "data": {
      "text/plain": [
       "'16425 >?= 14837.4 = 0.9 * union 16486 => True'"
      ]
     },
     "metadata": {},
     "output_type": "display_data"
    },
    {
     "data": {
      "text/plain": [
       "Pandas(Index=225, query_name='S1_269!NC_060948.1!60499826!60506708!+', query_length=6898, query_start=27, query_end=6853, strand='+', target_name='NC_060948.1', target_length=62460029, target_start=59325746, target_end=59332557, residue_matches=2022, alignment_block_length=6838, mapping_quality=0, tp='P', cm=156, s1=2022, s2=2022, rl=924, experiment='t2tChrY-readst2tChrY-SVs-a0.99-d0.1-l10000', tool='winnowmap', read_name='S1_269', GT_ref='NC_060948.1', GT_from=60499826, GT_to=60506708, GT_strand='+', is_correct=False, start_diff=-1174080, end_diff=-1174151, read_sv='DEL')"
      ]
     },
     "metadata": {},
     "output_type": "display_data"
    },
    {
     "data": {
      "text/plain": [
       "'           GT from 60499826 to 60506708'"
      ]
     },
     "metadata": {},
     "output_type": "display_data"
    },
    {
     "data": {
      "text/plain": [
       "'       target from 59325746 to 59332557'"
      ]
     },
     "metadata": {},
     "output_type": "display_data"
    },
    {
     "data": {
      "text/plain": [
       "'    GT_labels from 58478035 to 58484916'"
      ]
     },
     "metadata": {},
     "output_type": "display_data"
    },
    {
     "data": {
      "text/plain": [
       "'target_labels from 59325747 to 59332557'"
      ]
     },
     "metadata": {},
     "output_type": "display_data"
    },
    {
     "data": {
      "text/plain": [
       "'0 >?= 12323.7 = 0.9 * union 13693 => False'"
      ]
     },
     "metadata": {},
     "output_type": "display_data"
    },
    {
     "data": {
      "text/plain": [
       "Pandas(Index=227, query_name='S1_270!NC_060948.1!15768215!15775002!-', query_length=6795, query_start=49, query_end=6737, strand='-', target_name='NC_060948.1', target_length=62460029, target_start=15208664, target_end=15215346, residue_matches=2971, alignment_block_length=6706, mapping_quality=60, tp='P', cm=222, s1=2971, s2=0, rl=0, experiment='t2tChrY-readst2tChrY-SVs-a0.99-d0.1-l10000', tool='winnowmap', read_name='S1_270', GT_ref='NC_060948.1', GT_from=15768215, GT_to=15775002, GT_strand='-', is_correct=True, start_diff=-559551, end_diff=-559656, read_sv='DEL')"
      ]
     },
     "metadata": {},
     "output_type": "display_data"
    },
    {
     "data": {
      "text/plain": [
       "'           GT from 15768215 to 15775002'"
      ]
     },
     "metadata": {},
     "output_type": "display_data"
    },
    {
     "data": {
      "text/plain": [
       "'       target from 15208664 to 15215346'"
      ]
     },
     "metadata": {},
     "output_type": "display_data"
    },
    {
     "data": {
      "text/plain": [
       "'    GT_labels from 15208608 to 15215394'"
      ]
     },
     "metadata": {},
     "output_type": "display_data"
    },
    {
     "data": {
      "text/plain": [
       "'target_labels from 15208665 to 15215346'"
      ]
     },
     "metadata": {},
     "output_type": "display_data"
    },
    {
     "data": {
      "text/plain": [
       "'6682 >?= 6108.3 = 0.9 * union 6787 => True'"
      ]
     },
     "metadata": {},
     "output_type": "display_data"
    },
    {
     "data": {
      "text/plain": [
       "Pandas(Index=231, query_name='S1_273!NC_060948.1!58081767!58097737!+', query_length=16032, query_start=29, query_end=15982, strand='+', target_name='NC_060948.1', target_length=62460029, target_start=56155827, target_end=56171718, residue_matches=3994, alignment_block_length=15972, mapping_quality=60, tp='P', cm=311, s1=3993, s2=638, rl=450, experiment='t2tChrY-readst2tChrY-SVs-a0.99-d0.1-l10000', tool='winnowmap', read_name='S1_273', GT_ref='NC_060948.1', GT_from=58081767, GT_to=58097737, GT_strand='+', is_correct=True, start_diff=-1925940, end_diff=-1926019, read_sv='multi')"
      ]
     },
     "metadata": {},
     "output_type": "display_data"
    },
    {
     "data": {
      "text/plain": [
       "'           GT from 58081767 to 58097737'"
      ]
     },
     "metadata": {},
     "output_type": "display_data"
    },
    {
     "data": {
      "text/plain": [
       "'       target from 56155827 to 56171718'"
      ]
     },
     "metadata": {},
     "output_type": "display_data"
    },
    {
     "data": {
      "text/plain": [
       "'    GT_labels from 56155799 to 56171768'"
      ]
     },
     "metadata": {},
     "output_type": "display_data"
    },
    {
     "data": {
      "text/plain": [
       "'target_labels from 56155828 to 56171718'"
      ]
     },
     "metadata": {},
     "output_type": "display_data"
    },
    {
     "data": {
      "text/plain": [
       "'15891 >?= 14373.0 = 0.9 * union 15970 => True'"
      ]
     },
     "metadata": {},
     "output_type": "display_data"
    },
    {
     "data": {
      "text/plain": [
       "Pandas(Index=233, query_name='S1_274!NC_060948.1!10436134!10445673!-', query_length=9550, query_start=566, query_end=1415, strand='-', target_name='NC_060948.1', target_length=62460029, target_start=10074004, target_end=10074852, residue_matches=396, alignment_block_length=849, mapping_quality=0, tp='P', cm=29, s1=396, s2=396, rl=0, experiment='t2tChrY-readst2tChrY-SVs-a0.99-d0.1-l10000', tool='winnowmap', read_name='S1_274', GT_ref='NC_060948.1', GT_from=10436134, GT_to=10445673, GT_strand='-', is_correct=False, start_diff=-362130, end_diff=-370821, read_sv='INS')"
      ]
     },
     "metadata": {},
     "output_type": "display_data"
    },
    {
     "data": {
      "text/plain": [
       "'           GT from 10436134 to 10445673'"
      ]
     },
     "metadata": {},
     "output_type": "display_data"
    },
    {
     "data": {
      "text/plain": [
       "'       target from 10074004 to 10074852'"
      ]
     },
     "metadata": {},
     "output_type": "display_data"
    },
    {
     "data": {
      "text/plain": [
       "'    GT_labels from -20600 to 10074858'"
      ]
     },
     "metadata": {},
     "output_type": "display_data"
    },
    {
     "data": {
      "text/plain": [
       "'target_labels from 10074005 to 10074852'"
      ]
     },
     "metadata": {},
     "output_type": "display_data"
    },
    {
     "data": {
      "text/plain": [
       "'848 >?= 8585.1 = 0.9 * union 9539 => False'"
      ]
     },
     "metadata": {},
     "output_type": "display_data"
    },
    {
     "data": {
      "text/plain": [
       "Pandas(Index=234, query_name='S1_274!NC_060948.1!10436134!10445673!-', query_length=9550, query_start=2, query_end=558, strand='-', target_name='NC_060948.1', target_length=62460029, target_start=10074004, target_end=10074557, residue_matches=257, alignment_block_length=556, mapping_quality=0, tp='P', cm=19, s1=257, s2=257, rl=0, experiment='t2tChrY-readst2tChrY-SVs-a0.99-d0.1-l10000', tool='winnowmap', read_name='S1_274', GT_ref='NC_060948.1', GT_from=10436134, GT_to=10445673, GT_strand='-', is_correct=False, start_diff=-362130, end_diff=-371116, read_sv='INS')"
      ]
     },
     "metadata": {},
     "output_type": "display_data"
    },
    {
     "data": {
      "text/plain": [
       "'           GT from 10436134 to 10445673'"
      ]
     },
     "metadata": {},
     "output_type": "display_data"
    },
    {
     "data": {
      "text/plain": [
       "'       target from 10074004 to 10074557'"
      ]
     },
     "metadata": {},
     "output_type": "display_data"
    },
    {
     "data": {
      "text/plain": [
       "'    GT_labels from -20600 to 10074858'"
      ]
     },
     "metadata": {},
     "output_type": "display_data"
    },
    {
     "data": {
      "text/plain": [
       "'target_labels from 10074005 to 10074557'"
      ]
     },
     "metadata": {},
     "output_type": "display_data"
    },
    {
     "data": {
      "text/plain": [
       "'553 >?= 8585.1 = 0.9 * union 9539 => False'"
      ]
     },
     "metadata": {},
     "output_type": "display_data"
    },
    {
     "data": {
      "text/plain": [
       "Pandas(Index=237, query_name='S1_277!NC_060948.1!53874095!53886827!+', query_length=12757, query_start=46, query_end=12714, strand='+', target_name='NC_060948.1', target_length=62460029, target_start=52086885, target_end=52099527, residue_matches=3326, alignment_block_length=12695, mapping_quality=60, tp='P', cm=260, s1=3325, s2=1896, rl=921, experiment='t2tChrY-readst2tChrY-SVs-a0.99-d0.1-l10000', tool='winnowmap', read_name='S1_277', GT_ref='NC_060948.1', GT_from=53874095, GT_to=53886827, GT_strand='+', is_correct=True, start_diff=-1787210, end_diff=-1787300, read_sv='multi')"
      ]
     },
     "metadata": {},
     "output_type": "display_data"
    },
    {
     "data": {
      "text/plain": [
       "'           GT from 53874095 to 53886827'"
      ]
     },
     "metadata": {},
     "output_type": "display_data"
    },
    {
     "data": {
      "text/plain": [
       "'       target from 52086885 to 52099527'"
      ]
     },
     "metadata": {},
     "output_type": "display_data"
    },
    {
     "data": {
      "text/plain": [
       "'    GT_labels from 52086839 to 52099570'"
      ]
     },
     "metadata": {},
     "output_type": "display_data"
    },
    {
     "data": {
      "text/plain": [
       "'target_labels from 52086886 to 52099527'"
      ]
     },
     "metadata": {},
     "output_type": "display_data"
    },
    {
     "data": {
      "text/plain": [
       "'12642 >?= 11458.800000000001 = 0.9 * union 12732 => True'"
      ]
     },
     "metadata": {},
     "output_type": "display_data"
    },
    {
     "data": {
      "text/plain": [
       "Pandas(Index=238, query_name='S1_278!NC_060948.1!13332658!13343273!-', query_length=10647, query_start=129, query_end=10625, strand='-', target_name='NC_060948.1', target_length=62460029, target_start=12868906, target_end=12879371, residue_matches=4119, alignment_block_length=10520, mapping_quality=60, tp='P', cm=311, s1=4119, s2=0, rl=0, experiment='t2tChrY-readst2tChrY-SVs-a0.99-d0.1-l10000', tool='winnowmap', read_name='S1_278', GT_ref='NC_060948.1', GT_from=13332658, GT_to=13343273, GT_strand='-', is_correct=True, start_diff=-463752, end_diff=-463902, read_sv='DUP')"
      ]
     },
     "metadata": {},
     "output_type": "display_data"
    },
    {
     "data": {
      "text/plain": [
       "'           GT from 13332658 to 13343273'"
      ]
     },
     "metadata": {},
     "output_type": "display_data"
    },
    {
     "data": {
      "text/plain": [
       "'       target from 12868906 to 12879371'"
      ]
     },
     "metadata": {},
     "output_type": "display_data"
    },
    {
     "data": {
      "text/plain": [
       "'    GT_labels from 12868885 to 12880126'"
      ]
     },
     "metadata": {},
     "output_type": "display_data"
    },
    {
     "data": {
      "text/plain": [
       "'target_labels from 12868907 to 12879371'"
      ]
     },
     "metadata": {},
     "output_type": "display_data"
    },
    {
     "data": {
      "text/plain": [
       "'10465 >?= 9553.5 = 0.9 * union 10615 => True'"
      ]
     },
     "metadata": {},
     "output_type": "display_data"
    },
    {
     "data": {
      "text/plain": [
       "Pandas(Index=239, query_name='S1_279!NC_060948.1!11137822!11148174!+', query_length=10370, query_start=15, query_end=10353, strand='+', target_name='NC_060948.1', target_length=62460029, target_start=10736175, target_end=10746495, residue_matches=4342, alignment_block_length=10359, mapping_quality=0, tp='P', cm=334, s1=4342, s2=4342, rl=0, experiment='t2tChrY-readst2tChrY-SVs-a0.99-d0.1-l10000', tool='winnowmap', read_name='S1_279', GT_ref='NC_060948.1', GT_from=11137822, GT_to=11148174, GT_strand='+', is_correct=True, start_diff=-401647, end_diff=-401679, read_sv='DUP')"
      ]
     },
     "metadata": {},
     "output_type": "display_data"
    },
    {
     "data": {
      "text/plain": [
       "'           GT from 11137822 to 11148174'"
      ]
     },
     "metadata": {},
     "output_type": "display_data"
    },
    {
     "data": {
      "text/plain": [
       "'       target from 10736175 to 10746495'"
      ]
     },
     "metadata": {},
     "output_type": "display_data"
    },
    {
     "data": {
      "text/plain": [
       "'    GT_labels from 10736161 to 10746512'"
      ]
     },
     "metadata": {},
     "output_type": "display_data"
    },
    {
     "data": {
      "text/plain": [
       "'target_labels from 10736176 to 10746495'"
      ]
     },
     "metadata": {},
     "output_type": "display_data"
    },
    {
     "data": {
      "text/plain": [
       "'10320 >?= 9316.800000000001 = 0.9 * union 10352 => True'"
      ]
     },
     "metadata": {},
     "output_type": "display_data"
    },
    {
     "data": {
      "text/plain": [
       "Pandas(Index=241, query_name='S1_280!NC_060948.1!15158507!15166691!-', query_length=8219, query_start=2, query_end=8217, strand='-', target_name='NC_060948.1', target_length=62460029, target_start=14614727, target_end=14622984, residue_matches=3594, alignment_block_length=8300, mapping_quality=60, tp='P', cm=271, s1=3580, s2=0, rl=0, experiment='t2tChrY-readst2tChrY-SVs-a0.99-d0.1-l10000', tool='winnowmap', read_name='S1_280', GT_ref='NC_060948.1', GT_from=15158507, GT_to=15166691, GT_strand='-', is_correct=True, start_diff=-543780, end_diff=-543707, read_sv='DEL')"
      ]
     },
     "metadata": {},
     "output_type": "display_data"
    },
    {
     "data": {
      "text/plain": [
       "'           GT from 15158507 to 15166691'"
      ]
     },
     "metadata": {},
     "output_type": "display_data"
    },
    {
     "data": {
      "text/plain": [
       "'       target from 14614727 to 14622984'"
      ]
     },
     "metadata": {},
     "output_type": "display_data"
    },
    {
     "data": {
      "text/plain": [
       "'    GT_labels from 14614726 to 14622986'"
      ]
     },
     "metadata": {},
     "output_type": "display_data"
    },
    {
     "data": {
      "text/plain": [
       "'target_labels from 14614728 to 14622984'"
      ]
     },
     "metadata": {},
     "output_type": "display_data"
    },
    {
     "data": {
      "text/plain": [
       "'8180 >?= 7434.900000000001 = 0.9 * union 8261 => True'"
      ]
     },
     "metadata": {},
     "output_type": "display_data"
    },
    {
     "data": {
      "text/plain": [
       "Pandas(Index=242, query_name='S1_281!NC_060948.1!60352504!60363238!+', query_length=10747, query_start=99, query_end=10732, strand='+', target_name='NC_060948.1', target_length=62460029, target_start=59183654, target_end=59194275, residue_matches=2386, alignment_block_length=10663, mapping_quality=0, tp='P', cm=181, s1=2386, s2=2386, rl=1239, experiment='t2tChrY-readst2tChrY-SVs-a0.99-d0.1-l10000', tool='winnowmap', read_name='S1_281', GT_ref='NC_060948.1', GT_from=60352504, GT_to=60363238, GT_strand='+', is_correct=False, start_diff=-1168850, end_diff=-1168963, read_sv='DEL')"
      ]
     },
     "metadata": {},
     "output_type": "display_data"
    },
    {
     "data": {
      "text/plain": [
       "'           GT from 60352504 to 60363238'"
      ]
     },
     "metadata": {},
     "output_type": "display_data"
    },
    {
     "data": {
      "text/plain": [
       "'       target from 59183654 to 59194275'"
      ]
     },
     "metadata": {},
     "output_type": "display_data"
    },
    {
     "data": {
      "text/plain": [
       "'    GT_labels from 58335876 to 58346609'"
      ]
     },
     "metadata": {},
     "output_type": "display_data"
    },
    {
     "data": {
      "text/plain": [
       "'target_labels from 59183655 to 59194275'"
      ]
     },
     "metadata": {},
     "output_type": "display_data"
    },
    {
     "data": {
      "text/plain": [
       "'0 >?= 19219.5 = 0.9 * union 21355 => False'"
      ]
     },
     "metadata": {},
     "output_type": "display_data"
    },
    {
     "data": {
      "text/plain": [
       "Pandas(Index=243, query_name='S1_282!NC_060948.1!15882398!15890414!-', query_length=8061, query_start=42, query_end=8021, strand='-', target_name='NC_060948.1', target_length=62460029, target_start=15315814, target_end=15323747, residue_matches=3367, alignment_block_length=7988, mapping_quality=60, tp='P', cm=250, s1=3367, s2=121, rl=0, experiment='t2tChrY-readst2tChrY-SVs-a0.99-d0.1-l10000', tool='winnowmap', read_name='S1_282', GT_ref='NC_060948.1', GT_from=15882398, GT_to=15890414, GT_strand='-', is_correct=True, start_diff=-566584, end_diff=-566667, read_sv='INV')"
      ]
     },
     "metadata": {},
     "output_type": "display_data"
    },
    {
     "data": {
      "text/plain": [
       "'           GT from 15882398 to 15890414'"
      ]
     },
     "metadata": {},
     "output_type": "display_data"
    },
    {
     "data": {
      "text/plain": [
       "'       target from 15315814 to 15323747'"
      ]
     },
     "metadata": {},
     "output_type": "display_data"
    },
    {
     "data": {
      "text/plain": [
       "'    GT_labels from 15315774 to 15323789'"
      ]
     },
     "metadata": {},
     "output_type": "display_data"
    },
    {
     "data": {
      "text/plain": [
       "'target_labels from 15315815 to 15323747'"
      ]
     },
     "metadata": {},
     "output_type": "display_data"
    },
    {
     "data": {
      "text/plain": [
       "'7933 >?= 7214.400000000001 = 0.9 * union 8016 => True'"
      ]
     },
     "metadata": {},
     "output_type": "display_data"
    },
    {
     "data": {
      "text/plain": [
       "Pandas(Index=247, query_name='S1_285!NC_060948.1!23950656!23959352!+', query_length=8708, query_start=32, query_end=8688, strand='+', target_name='NC_060948.1', target_length=62460029, target_start=23127559, target_end=23136203, residue_matches=3617, alignment_block_length=8679, mapping_quality=60, tp='P', cm=272, s1=3617, s2=250, rl=0, experiment='t2tChrY-readst2tChrY-SVs-a0.99-d0.1-l10000', tool='winnowmap', read_name='S1_285', GT_ref='NC_060948.1', GT_from=23950656, GT_to=23959352, GT_strand='+', is_correct=True, start_diff=-823097, end_diff=-823149, read_sv='DEL')"
      ]
     },
     "metadata": {},
     "output_type": "display_data"
    },
    {
     "data": {
      "text/plain": [
       "'           GT from 23950656 to 23959352'"
      ]
     },
     "metadata": {},
     "output_type": "display_data"
    },
    {
     "data": {
      "text/plain": [
       "'       target from 23127559 to 23136203'"
      ]
     },
     "metadata": {},
     "output_type": "display_data"
    },
    {
     "data": {
      "text/plain": [
       "'    GT_labels from 23127528 to 23136223'"
      ]
     },
     "metadata": {},
     "output_type": "display_data"
    },
    {
     "data": {
      "text/plain": [
       "'target_labels from 23127560 to 23136203'"
      ]
     },
     "metadata": {},
     "output_type": "display_data"
    },
    {
     "data": {
      "text/plain": [
       "'8644 >?= 7826.400000000001 = 0.9 * union 8696 => True'"
      ]
     },
     "metadata": {},
     "output_type": "display_data"
    },
    {
     "data": {
      "text/plain": [
       "Pandas(Index=250, query_name='S1_288!NC_060948.1!4374242!4390042!-', query_length=15851, query_start=48, query_end=15789, strand='-', target_name='NC_060948.1', target_length=62460029, target_start=4214683, target_end=4230374, residue_matches=5997, alignment_block_length=15765, mapping_quality=60, tp='P', cm=452, s1=5996, s2=299, rl=594, experiment='t2tChrY-readst2tChrY-SVs-a0.99-d0.1-l10000', tool='winnowmap', read_name='S1_288', GT_ref='NC_060948.1', GT_from=4374242, GT_to=4390042, GT_strand='-', is_correct=True, start_diff=-159559, end_diff=-159668, read_sv='multi')"
      ]
     },
     "metadata": {},
     "output_type": "display_data"
    },
    {
     "data": {
      "text/plain": [
       "'           GT from 4374242 to 4390042'"
      ]
     },
     "metadata": {},
     "output_type": "display_data"
    },
    {
     "data": {
      "text/plain": [
       "'       target from 4214683 to 4230374'"
      ]
     },
     "metadata": {},
     "output_type": "display_data"
    },
    {
     "data": {
      "text/plain": [
       "'    GT_labels from 4214623 to 4230422'"
      ]
     },
     "metadata": {},
     "output_type": "display_data"
    },
    {
     "data": {
      "text/plain": [
       "'target_labels from 4214684 to 4230374'"
      ]
     },
     "metadata": {},
     "output_type": "display_data"
    },
    {
     "data": {
      "text/plain": [
       "'15691 >?= 14220.0 = 0.9 * union 15800 => True'"
      ]
     },
     "metadata": {},
     "output_type": "display_data"
    },
    {
     "data": {
      "text/plain": [
       "Pandas(Index=251, query_name='S1_289!NC_060948.1!4376938!4389687!+', query_length=12779, query_start=28, query_end=12760, strand='+', target_name='NC_060948.1', target_length=62460029, target_start=4217346, target_end=4230049, residue_matches=4897, alignment_block_length=12754, mapping_quality=60, tp='P', cm=366, s1=4897, s2=176, rl=0, experiment='t2tChrY-readst2tChrY-SVs-a0.99-d0.1-l10000', tool='winnowmap', read_name='S1_289', GT_ref='NC_060948.1', GT_from=4376938, GT_to=4389687, GT_strand='+', is_correct=True, start_diff=-159592, end_diff=-159638, read_sv='multi')"
      ]
     },
     "metadata": {},
     "output_type": "display_data"
    },
    {
     "data": {
      "text/plain": [
       "'           GT from 4376938 to 4389687'"
      ]
     },
     "metadata": {},
     "output_type": "display_data"
    },
    {
     "data": {
      "text/plain": [
       "'       target from 4217346 to 4230049'"
      ]
     },
     "metadata": {},
     "output_type": "display_data"
    },
    {
     "data": {
      "text/plain": [
       "'    GT_labels from 4217319 to 4230067'"
      ]
     },
     "metadata": {},
     "output_type": "display_data"
    },
    {
     "data": {
      "text/plain": [
       "'target_labels from 4217347 to 4230049'"
      ]
     },
     "metadata": {},
     "output_type": "display_data"
    },
    {
     "data": {
      "text/plain": [
       "'12703 >?= 11474.1 = 0.9 * union 12749 => True'"
      ]
     },
     "metadata": {},
     "output_type": "display_data"
    },
    {
     "data": {
      "text/plain": [
       "Pandas(Index=252, query_name='S1_29!NC_060948.1!43342887!43350607!+', query_length=7745, query_start=18, query_end=7677, strand='+', target_name='NC_060948.1', target_length=62460029, target_start=41897787, target_end=41905421, residue_matches=2262, alignment_block_length=7668, mapping_quality=1, tp='P', cm=175, s1=2262, s2=2245, rl=848, experiment='t2tChrY-readst2tChrY-SVs-a0.99-d0.1-l10000', tool='winnowmap', read_name='S1_29', GT_ref='NC_060948.1', GT_from=43342887, GT_to=43350607, GT_strand='+', is_correct=True, start_diff=-1445100, end_diff=-1445186, read_sv='DUP')"
      ]
     },
     "metadata": {},
     "output_type": "display_data"
    },
    {
     "data": {
      "text/plain": [
       "'           GT from 43342887 to 43350607'"
      ]
     },
     "metadata": {},
     "output_type": "display_data"
    },
    {
     "data": {
      "text/plain": [
       "'       target from 41897787 to 41905421'"
      ]
     },
     "metadata": {},
     "output_type": "display_data"
    },
    {
     "data": {
      "text/plain": [
       "'    GT_labels from 41897770 to 41905489'"
      ]
     },
     "metadata": {},
     "output_type": "display_data"
    },
    {
     "data": {
      "text/plain": [
       "'target_labels from 41897788 to 41905421'"
      ]
     },
     "metadata": {},
     "output_type": "display_data"
    },
    {
     "data": {
      "text/plain": [
       "'7634 >?= 6948.0 = 0.9 * union 7720 => True'"
      ]
     },
     "metadata": {},
     "output_type": "display_data"
    },
    {
     "data": {
      "text/plain": [
       "Pandas(Index=255, query_name='S1_292!NC_060948.1!15880196!15891212!-', query_length=11043, query_start=11, query_end=11015, strand='-', target_name='NC_060948.1', target_length=62460029, target_start=15313599, target_end=15324576, residue_matches=4430, alignment_block_length=11028, mapping_quality=60, tp='P', cm=339, s1=4430, s2=0, rl=127, experiment='t2tChrY-readst2tChrY-SVs-a0.99-d0.1-l10000', tool='winnowmap', read_name='S1_292', GT_ref='NC_060948.1', GT_from=15880196, GT_to=15891212, GT_strand='-', is_correct=True, start_diff=-566597, end_diff=-566636, read_sv='INV')"
      ]
     },
     "metadata": {},
     "output_type": "display_data"
    },
    {
     "data": {
      "text/plain": [
       "'           GT from 15880196 to 15891212'"
      ]
     },
     "metadata": {},
     "output_type": "display_data"
    },
    {
     "data": {
      "text/plain": [
       "'       target from 15313599 to 15324576'"
      ]
     },
     "metadata": {},
     "output_type": "display_data"
    },
    {
     "data": {
      "text/plain": [
       "'    GT_labels from 15313572 to 15324587'"
      ]
     },
     "metadata": {},
     "output_type": "display_data"
    },
    {
     "data": {
      "text/plain": [
       "'target_labels from 15313600 to 15324576'"
      ]
     },
     "metadata": {},
     "output_type": "display_data"
    },
    {
     "data": {
      "text/plain": [
       "'10977 >?= 9914.4 = 0.9 * union 11016 => True'"
      ]
     },
     "metadata": {},
     "output_type": "display_data"
    },
    {
     "data": {
      "text/plain": [
       "Pandas(Index=256, query_name='S1_293!NC_060948.1!56001807!56013068!+', query_length=11285, query_start=5, query_end=11236, strand='+', target_name='NC_060948.1', target_length=62460029, target_start=54135030, target_end=54146238, residue_matches=3330, alignment_block_length=11254, mapping_quality=60, tp='P', cm=250, s1=3329, s2=0, rl=121, experiment='t2tChrY-readst2tChrY-SVs-a0.99-d0.1-l10000', tool='winnowmap', read_name='S1_293', GT_ref='NC_060948.1', GT_from=56001807, GT_to=56013068, GT_strand='+', is_correct=True, start_diff=-1866777, end_diff=-1866830, read_sv='INS')"
      ]
     },
     "metadata": {},
     "output_type": "display_data"
    },
    {
     "data": {
      "text/plain": [
       "'           GT from 56001807 to 56013068'"
      ]
     },
     "metadata": {},
     "output_type": "display_data"
    },
    {
     "data": {
      "text/plain": [
       "'       target from 54135030 to 54146238'"
      ]
     },
     "metadata": {},
     "output_type": "display_data"
    },
    {
     "data": {
      "text/plain": [
       "'    GT_labels from 54135026 to 54146286'"
      ]
     },
     "metadata": {},
     "output_type": "display_data"
    },
    {
     "data": {
      "text/plain": [
       "'target_labels from 54135031 to 54146238'"
      ]
     },
     "metadata": {},
     "output_type": "display_data"
    },
    {
     "data": {
      "text/plain": [
       "'11208 >?= 10134.9 = 0.9 * union 11261 => True'"
      ]
     },
     "metadata": {},
     "output_type": "display_data"
    },
    {
     "data": {
      "text/plain": [
       "Pandas(Index=257, query_name='S1_294!NC_060948.1!48884745!48896411!-', query_length=11709, query_start=7, query_end=11588, strand='-', target_name='NC_060948.1', target_length=62460029, target_start=47243396, target_end=47255245, residue_matches=3613, alignment_block_length=11909, mapping_quality=60, tp='P', cm=283, s1=3562, s2=181, rl=90, experiment='t2tChrY-readst2tChrY-SVs-a0.99-d0.1-l10000', tool='winnowmap', read_name='S1_294', GT_ref='NC_060948.1', GT_from=48884745, GT_to=48896411, GT_strand='-', is_correct=True, start_diff=-1641349, end_diff=-1641166, read_sv='DEL')"
      ]
     },
     "metadata": {},
     "output_type": "display_data"
    },
    {
     "data": {
      "text/plain": [
       "'           GT from 48884745 to 48896411'"
      ]
     },
     "metadata": {},
     "output_type": "display_data"
    },
    {
     "data": {
      "text/plain": [
       "'       target from 47243396 to 47255245'"
      ]
     },
     "metadata": {},
     "output_type": "display_data"
    },
    {
     "data": {
      "text/plain": [
       "'    GT_labels from 47243278 to 47255252'"
      ]
     },
     "metadata": {},
     "output_type": "display_data"
    },
    {
     "data": {
      "text/plain": [
       "'target_labels from 47243397 to 47255245'"
      ]
     },
     "metadata": {},
     "output_type": "display_data"
    },
    {
     "data": {
      "text/plain": [
       "'11540 >?= 10777.5 = 0.9 * union 11975 => True'"
      ]
     },
     "metadata": {},
     "output_type": "display_data"
    },
    {
     "data": {
      "text/plain": [
       "Pandas(Index=259, query_name='S1_296!NC_060948.1!57389330!57399584!-', query_length=10302, query_start=55, query_end=10265, strand='-', target_name='NC_060948.1', target_length=62460029, target_start=55484917, target_end=55495079, residue_matches=2908, alignment_block_length=10226, mapping_quality=60, tp='P', cm=221, s1=2908, s2=96, rl=45, experiment='t2tChrY-readst2tChrY-SVs-a0.99-d0.1-l10000', tool='winnowmap', read_name='S1_296', GT_ref='NC_060948.1', GT_from=57389330, GT_to=57399584, GT_strand='-', is_correct=True, start_diff=-1904413, end_diff=-1904505, read_sv='INS')"
      ]
     },
     "metadata": {},
     "output_type": "display_data"
    },
    {
     "data": {
      "text/plain": [
       "'           GT from 57389330 to 57399584'"
      ]
     },
     "metadata": {},
     "output_type": "display_data"
    },
    {
     "data": {
      "text/plain": [
       "'       target from 55484917 to 55495079'"
      ]
     },
     "metadata": {},
     "output_type": "display_data"
    },
    {
     "data": {
      "text/plain": [
       "'    GT_labels from 55484881 to 55495134'"
      ]
     },
     "metadata": {},
     "output_type": "display_data"
    },
    {
     "data": {
      "text/plain": [
       "'target_labels from 55484918 to 55495079'"
      ]
     },
     "metadata": {},
     "output_type": "display_data"
    },
    {
     "data": {
      "text/plain": [
       "'10162 >?= 9228.6 = 0.9 * union 10254 => True'"
      ]
     },
     "metadata": {},
     "output_type": "display_data"
    },
    {
     "data": {
      "text/plain": [
       "Pandas(Index=260, query_name='S1_297!NC_060948.1!23215089!23226846!+', query_length=11792, query_start=29, query_end=11751, strand='+', target_name='NC_060948.1', target_length=62460029, target_start=22414555, target_end=22426244, residue_matches=4886, alignment_block_length=11747, mapping_quality=26, tp='P', cm=372, s1=4886, s2=4503, rl=0, experiment='t2tChrY-readst2tChrY-SVs-a0.99-d0.1-l10000', tool='winnowmap', read_name='S1_297', GT_ref='NC_060948.1', GT_from=23215089, GT_to=23226846, GT_strand='+', is_correct=True, start_diff=-800534, end_diff=-800602, read_sv='DUP')"
      ]
     },
     "metadata": {},
     "output_type": "display_data"
    },
    {
     "data": {
      "text/plain": [
       "'           GT from 23215089 to 23226846'"
      ]
     },
     "metadata": {},
     "output_type": "display_data"
    },
    {
     "data": {
      "text/plain": [
       "'       target from 22414555 to 22426244'"
      ]
     },
     "metadata": {},
     "output_type": "display_data"
    },
    {
     "data": {
      "text/plain": [
       "'    GT_labels from 22414528 to 22426284'"
      ]
     },
     "metadata": {},
     "output_type": "display_data"
    },
    {
     "data": {
      "text/plain": [
       "'target_labels from 22414556 to 22426244'"
      ]
     },
     "metadata": {},
     "output_type": "display_data"
    },
    {
     "data": {
      "text/plain": [
       "'11689 >?= 10581.300000000001 = 0.9 * union 11757 => True'"
      ]
     },
     "metadata": {},
     "output_type": "display_data"
    },
    {
     "data": {
      "text/plain": [
       "Pandas(Index=263, query_name='S1_3!NC_060948.1!47237716!47251609!+', query_length=13954, query_start=92, query_end=8660, strand='+', target_name='NC_060948.1', target_length=62460029, target_start=45664174, target_end=45672129, residue_matches=2404, alignment_block_length=8576, mapping_quality=60, tp='P', cm=183, s1=2312, s2=0, rl=120, experiment='t2tChrY-readst2tChrY-SVs-a0.99-d0.1-l10000', tool='winnowmap', read_name='S1_3', GT_ref='NC_060948.1', GT_from=47237716, GT_to=47251609, GT_strand='+', is_correct=False, start_diff=-1573542, end_diff=-1579480, read_sv='multi')"
      ]
     },
     "metadata": {},
     "output_type": "display_data"
    },
    {
     "data": {
      "text/plain": [
       "'           GT from 47237716 to 47251609'"
      ]
     },
     "metadata": {},
     "output_type": "display_data"
    },
    {
     "data": {
      "text/plain": [
       "'       target from 45664174 to 45672129'"
      ]
     },
     "metadata": {},
     "output_type": "display_data"
    },
    {
     "data": {
      "text/plain": [
       "'    GT_labels from 45664083 to 45674147'"
      ]
     },
     "metadata": {},
     "output_type": "display_data"
    },
    {
     "data": {
      "text/plain": [
       "'target_labels from 45664175 to 45672129'"
      ]
     },
     "metadata": {},
     "output_type": "display_data"
    },
    {
     "data": {
      "text/plain": [
       "'7955 >?= 12503.7 = 0.9 * union 13893 => False'"
      ]
     },
     "metadata": {},
     "output_type": "display_data"
    },
    {
     "data": {
      "text/plain": [
       "Pandas(Index=264, query_name='S1_3!NC_060948.1!47237716!47251609!+', query_length=13954, query_start=11350, query_end=13886, strand='+', target_name='NC_060948.1', target_length=62460029, target_start=45671552, target_end=45674080, residue_matches=868, alignment_block_length=2537, mapping_quality=60, tp='P', cm=66, s1=868, s2=0, rl=120, experiment='t2tChrY-readst2tChrY-SVs-a0.99-d0.1-l10000', tool='winnowmap', read_name='S1_3', GT_ref='NC_060948.1', GT_from=47237716, GT_to=47251609, GT_strand='+', is_correct=False, start_diff=-1566164, end_diff=-1577529, read_sv='multi')"
      ]
     },
     "metadata": {},
     "output_type": "display_data"
    },
    {
     "data": {
      "text/plain": [
       "'           GT from 47237716 to 47251609'"
      ]
     },
     "metadata": {},
     "output_type": "display_data"
    },
    {
     "data": {
      "text/plain": [
       "'       target from 45671552 to 45674080'"
      ]
     },
     "metadata": {},
     "output_type": "display_data"
    },
    {
     "data": {
      "text/plain": [
       "'    GT_labels from 45664083 to 45674147'"
      ]
     },
     "metadata": {},
     "output_type": "display_data"
    },
    {
     "data": {
      "text/plain": [
       "'target_labels from 45671553 to 45674080'"
      ]
     },
     "metadata": {},
     "output_type": "display_data"
    },
    {
     "data": {
      "text/plain": [
       "'2528 >?= 12503.7 = 0.9 * union 13893 => False'"
      ]
     },
     "metadata": {},
     "output_type": "display_data"
    },
    {
     "data": {
      "text/plain": [
       "Pandas(Index=265, query_name='S1_3!NC_060948.1!47237716!47251609!+', query_length=13954, query_start=10042, query_end=10617, strand='+', target_name='NC_060948.1', target_length=62460029, target_start=45770666, target_end=45771237, residue_matches=241, alignment_block_length=575, mapping_quality=0, tp='P', cm=17, s1=241, s2=241, rl=120, experiment='t2tChrY-readst2tChrY-SVs-a0.99-d0.1-l10000', tool='winnowmap', read_name='S1_3', GT_ref='NC_060948.1', GT_from=47237716, GT_to=47251609, GT_strand='+', is_correct=False, start_diff=-1467050, end_diff=-1480372, read_sv='multi')"
      ]
     },
     "metadata": {},
     "output_type": "display_data"
    },
    {
     "data": {
      "text/plain": [
       "'           GT from 47237716 to 47251609'"
      ]
     },
     "metadata": {},
     "output_type": "display_data"
    },
    {
     "data": {
      "text/plain": [
       "'       target from 45770666 to 45771237'"
      ]
     },
     "metadata": {},
     "output_type": "display_data"
    },
    {
     "data": {
      "text/plain": [
       "'    GT_labels from 45664083 to 45674147'"
      ]
     },
     "metadata": {},
     "output_type": "display_data"
    },
    {
     "data": {
      "text/plain": [
       "'target_labels from 45770667 to 45771237'"
      ]
     },
     "metadata": {},
     "output_type": "display_data"
    },
    {
     "data": {
      "text/plain": [
       "'0 >?= 13017.6 = 0.9 * union 14464 => False'"
      ]
     },
     "metadata": {},
     "output_type": "display_data"
    },
    {
     "data": {
      "text/plain": [
       "Pandas(Index=266, query_name='S1_3!NC_060948.1!47237716!47251609!+', query_length=13954, query_start=10695, query_end=10950, strand='+', target_name='NC_060948.1', target_length=62460029, target_start=35938866, target_end=35939121, residue_matches=93, alignment_block_length=255, mapping_quality=0, tp='P', cm=7, s1=93, s2=93, rl=120, experiment='t2tChrY-readst2tChrY-SVs-a0.99-d0.1-l10000', tool='winnowmap', read_name='S1_3', GT_ref='NC_060948.1', GT_from=47237716, GT_to=47251609, GT_strand='+', is_correct=False, start_diff=-11298850, end_diff=-11312488, read_sv='multi')"
      ]
     },
     "metadata": {},
     "output_type": "display_data"
    },
    {
     "data": {
      "text/plain": [
       "'           GT from 47237716 to 47251609'"
      ]
     },
     "metadata": {},
     "output_type": "display_data"
    },
    {
     "data": {
      "text/plain": [
       "'       target from 35938866 to 35939121'"
      ]
     },
     "metadata": {},
     "output_type": "display_data"
    },
    {
     "data": {
      "text/plain": [
       "'    GT_labels from 45664083 to 45674147'"
      ]
     },
     "metadata": {},
     "output_type": "display_data"
    },
    {
     "data": {
      "text/plain": [
       "'target_labels from 35938867 to 35939121'"
      ]
     },
     "metadata": {},
     "output_type": "display_data"
    },
    {
     "data": {
      "text/plain": [
       "'0 >?= 12733.2 = 0.9 * union 14148 => False'"
      ]
     },
     "metadata": {},
     "output_type": "display_data"
    },
    {
     "data": {
      "text/plain": [
       "Pandas(Index=271, query_name='S1_302!NC_060948.1!45079641!45090774!-', query_length=11187, query_start=65, query_end=11119, strand='-', target_name='NC_060948.1', target_length=62460029, target_start=43567628, target_end=43578627, residue_matches=3355, alignment_block_length=11068, mapping_quality=23, tp='P', cm=259, s1=3352, s2=3037, rl=1023, experiment='t2tChrY-readst2tChrY-SVs-a0.99-d0.1-l10000', tool='winnowmap', read_name='S1_302', GT_ref='NC_060948.1', GT_from=45079641, GT_to=45090774, GT_strand='-', is_correct=True, start_diff=-1512013, end_diff=-1512147, read_sv='INV')"
      ]
     },
     "metadata": {},
     "output_type": "display_data"
    },
    {
     "data": {
      "text/plain": [
       "'           GT from 45079641 to 45090774'"
      ]
     },
     "metadata": {},
     "output_type": "display_data"
    },
    {
     "data": {
      "text/plain": [
       "'       target from 43567628 to 43578627'"
      ]
     },
     "metadata": {},
     "output_type": "display_data"
    },
    {
     "data": {
      "text/plain": [
       "'    GT_labels from 43567561 to 43578693'"
      ]
     },
     "metadata": {},
     "output_type": "display_data"
    },
    {
     "data": {
      "text/plain": [
       "'target_labels from 43567629 to 43578627'"
      ]
     },
     "metadata": {},
     "output_type": "display_data"
    },
    {
     "data": {
      "text/plain": [
       "'10999 >?= 10019.7 = 0.9 * union 11133 => True'"
      ]
     },
     "metadata": {},
     "output_type": "display_data"
    },
    {
     "data": {
      "text/plain": [
       "Pandas(Index=274, query_name='S1_305!NC_060948.1!38494384!38501972!+', query_length=7613, query_start=29, query_end=7567, strand='+', target_name='NC_060948.1', target_length=62460029, target_start=37209057, target_end=37216570, residue_matches=2399, alignment_block_length=7548, mapping_quality=5, tp='P', cm=188, s1=2398, s2=2347, rl=715, experiment='t2tChrY-readst2tChrY-SVs-a0.99-d0.1-l10000', tool='winnowmap', read_name='S1_305', GT_ref='NC_060948.1', GT_from=38494384, GT_to=38501972, GT_strand='+', is_correct=True, start_diff=-1285327, end_diff=-1285402, read_sv='multi')"
      ]
     },
     "metadata": {},
     "output_type": "display_data"
    },
    {
     "data": {
      "text/plain": [
       "'           GT from 38494384 to 38501972'"
      ]
     },
     "metadata": {},
     "output_type": "display_data"
    },
    {
     "data": {
      "text/plain": [
       "'       target from 37209057 to 37216570'"
      ]
     },
     "metadata": {},
     "output_type": "display_data"
    },
    {
     "data": {
      "text/plain": [
       "'    GT_labels from 37209029 to 37216616'"
      ]
     },
     "metadata": {},
     "output_type": "display_data"
    },
    {
     "data": {
      "text/plain": [
       "'target_labels from 37209058 to 37216570'"
      ]
     },
     "metadata": {},
     "output_type": "display_data"
    },
    {
     "data": {
      "text/plain": [
       "'7513 >?= 6829.2 = 0.9 * union 7588 => True'"
      ]
     },
     "metadata": {},
     "output_type": "display_data"
    },
    {
     "data": {
      "text/plain": [
       "Pandas(Index=279, query_name='S1_309!NC_060948.1!30579523!30588631!+', query_length=9147, query_start=21, query_end=9119, strand='+', target_name='NC_060948.1', target_length=62460029, target_start=29546128, target_end=29555189, residue_matches=2645, alignment_block_length=9115, mapping_quality=4, tp='P', cm=204, s1=2645, s2=2595, rl=802, experiment='t2tChrY-readst2tChrY-SVs-a0.99-d0.1-l10000', tool='winnowmap', read_name='S1_309', GT_ref='NC_060948.1', GT_from=30579523, GT_to=30588631, GT_strand='+', is_correct=True, start_diff=-1033395, end_diff=-1033442, read_sv='INV')"
      ]
     },
     "metadata": {},
     "output_type": "display_data"
    },
    {
     "data": {
      "text/plain": [
       "'           GT from 30579523 to 30588631'"
      ]
     },
     "metadata": {},
     "output_type": "display_data"
    },
    {
     "data": {
      "text/plain": [
       "'       target from 29546128 to 29555189'"
      ]
     },
     "metadata": {},
     "output_type": "display_data"
    },
    {
     "data": {
      "text/plain": [
       "'    GT_labels from 29546108 to 29555215'"
      ]
     },
     "metadata": {},
     "output_type": "display_data"
    },
    {
     "data": {
      "text/plain": [
       "'target_labels from 29546129 to 29555189'"
      ]
     },
     "metadata": {},
     "output_type": "display_data"
    },
    {
     "data": {
      "text/plain": [
       "'9061 >?= 8197.2 = 0.9 * union 9108 => True'"
      ]
     },
     "metadata": {},
     "output_type": "display_data"
    },
    {
     "data": {
      "text/plain": [
       "Pandas(Index=282, query_name='S1_311!NC_060948.1!2366750!2379102!+', query_length=12370, query_start=25, query_end=7755, strand='+', target_name='NC_060948.1', target_length=62460029, target_start=2292090, target_end=2299367, residue_matches=2909, alignment_block_length=7753, mapping_quality=60, tp='P', cm=215, s1=2838, s2=0, rl=0, experiment='t2tChrY-readst2tChrY-SVs-a0.99-d0.1-l10000', tool='winnowmap', read_name='S1_311', GT_ref='NC_060948.1', GT_from=2366750, GT_to=2379102, GT_strand='+', is_correct=False, start_diff=-74660, end_diff=-79735, read_sv='DUP')"
      ]
     },
     "metadata": {},
     "output_type": "display_data"
    },
    {
     "data": {
      "text/plain": [
       "'           GT from 2366750 to 2379102'"
      ]
     },
     "metadata": {},
     "output_type": "display_data"
    },
    {
     "data": {
      "text/plain": [
       "'       target from 2292090 to 2299367'"
      ]
     },
     "metadata": {},
     "output_type": "display_data"
    },
    {
     "data": {
      "text/plain": [
       "'    GT_labels from -6580 to 2300613'"
      ]
     },
     "metadata": {},
     "output_type": "display_data"
    },
    {
     "data": {
      "text/plain": [
       "'target_labels from 2292091 to 2299367'"
      ]
     },
     "metadata": {},
     "output_type": "display_data"
    },
    {
     "data": {
      "text/plain": [
       "'7277 >?= 11116.800000000001 = 0.9 * union 12352 => False'"
      ]
     },
     "metadata": {},
     "output_type": "display_data"
    },
    {
     "data": {
      "text/plain": [
       "Pandas(Index=283, query_name='S1_311!NC_060948.1!2366750!2379102!+', query_length=12370, query_start=8084, query_end=12351, strand='+', target_name='NC_060948.1', target_length=62460029, target_start=2299024, target_end=2300594, residue_matches=698, alignment_block_length=4267, mapping_quality=25, tp='P', cm=51, s1=178, s2=156, rl=0, experiment='t2tChrY-readst2tChrY-SVs-a0.99-d0.1-l10000', tool='winnowmap', read_name='S1_311', GT_ref='NC_060948.1', GT_from=2366750, GT_to=2379102, GT_strand='+', is_correct=False, start_diff=-67726, end_diff=-78508, read_sv='DUP')"
      ]
     },
     "metadata": {},
     "output_type": "display_data"
    },
    {
     "data": {
      "text/plain": [
       "'           GT from 2366750 to 2379102'"
      ]
     },
     "metadata": {},
     "output_type": "display_data"
    },
    {
     "data": {
      "text/plain": [
       "'       target from 2299024 to 2300594'"
      ]
     },
     "metadata": {},
     "output_type": "display_data"
    },
    {
     "data": {
      "text/plain": [
       "'    GT_labels from -6580 to 2300613'"
      ]
     },
     "metadata": {},
     "output_type": "display_data"
    },
    {
     "data": {
      "text/plain": [
       "'target_labels from 2299025 to 2300594'"
      ]
     },
     "metadata": {},
     "output_type": "display_data"
    },
    {
     "data": {
      "text/plain": [
       "'1570 >?= 11116.800000000001 = 0.9 * union 12352 => False'"
      ]
     },
     "metadata": {},
     "output_type": "display_data"
    },
    {
     "data": {
      "text/plain": [
       "Pandas(Index=285, query_name='S1_313!NC_060948.1!59926398!59937174!+', query_length=10813, query_start=12, query_end=10802, strand='+', target_name='NC_060948.1', target_length=62460029, target_start=57936282, target_end=57946544, residue_matches=2503, alignment_block_length=10805, mapping_quality=0, tp='P', cm=187, s1=2421, s2=2421, rl=1104, experiment='t2tChrY-readst2tChrY-SVs-a0.99-d0.1-l10000', tool='winnowmap', read_name='S1_313', GT_ref='NC_060948.1', GT_from=59926398, GT_to=59937174, GT_strand='+', is_correct=True, start_diff=-1990116, end_diff=-1990630, read_sv='DUP')"
      ]
     },
     "metadata": {},
     "output_type": "display_data"
    },
    {
     "data": {
      "text/plain": [
       "'           GT from 59926398 to 59937174'"
      ]
     },
     "metadata": {},
     "output_type": "display_data"
    },
    {
     "data": {
      "text/plain": [
       "'       target from 57936282 to 57946544'"
      ]
     },
     "metadata": {},
     "output_type": "display_data"
    },
    {
     "data": {
      "text/plain": [
       "'    GT_labels from -126090 to 57946555'"
      ]
     },
     "metadata": {},
     "output_type": "display_data"
    },
    {
     "data": {
      "text/plain": [
       "'target_labels from 57936283 to 57946544'"
      ]
     },
     "metadata": {},
     "output_type": "display_data"
    },
    {
     "data": {
      "text/plain": [
       "'10262 >?= 9698.4 = 0.9 * union 10776 => True'"
      ]
     },
     "metadata": {},
     "output_type": "display_data"
    },
    {
     "data": {
      "text/plain": [
       "Pandas(Index=286, query_name='S1_314!NC_060948.1!46026863!46040118!-', query_length=13289, query_start=31, query_end=13266, strand='-', target_name='NC_060948.1', target_length=62460029, target_start=44482091, target_end=44495292, residue_matches=3858, alignment_block_length=13289, mapping_quality=0, tp='P', cm=303, s1=3844, s2=3828, rl=1493, experiment='t2tChrY-readst2tChrY-SVs-a0.99-d0.1-l10000', tool='winnowmap', read_name='S1_314', GT_ref='NC_060948.1', GT_from=46026863, GT_to=46040118, GT_strand='-', is_correct=True, start_diff=-1544772, end_diff=-1544826, read_sv='multi')"
      ]
     },
     "metadata": {},
     "output_type": "display_data"
    },
    {
     "data": {
      "text/plain": [
       "'           GT from 46026863 to 46040118'"
      ]
     },
     "metadata": {},
     "output_type": "display_data"
    },
    {
     "data": {
      "text/plain": [
       "'       target from 44482091 to 44495292'"
      ]
     },
     "metadata": {},
     "output_type": "display_data"
    },
    {
     "data": {
      "text/plain": [
       "'    GT_labels from 44482069 to 44495323'"
      ]
     },
     "metadata": {},
     "output_type": "display_data"
    },
    {
     "data": {
      "text/plain": [
       "'target_labels from 44482092 to 44495292'"
      ]
     },
     "metadata": {},
     "output_type": "display_data"
    },
    {
     "data": {
      "text/plain": [
       "'13201 >?= 11929.5 = 0.9 * union 13255 => True'"
      ]
     },
     "metadata": {},
     "output_type": "display_data"
    },
    {
     "data": {
      "text/plain": [
       "Pandas(Index=290, query_name='S1_318!NC_060948.1!56225439!56232605!-', query_length=7187, query_start=53, query_end=7106, strand='-', target_name='NC_060948.1', target_length=62460029, target_start=54349950, target_end=54356983, residue_matches=2148, alignment_block_length=7063, mapping_quality=25, tp='P', cm=164, s1=2147, s2=1908, rl=786, experiment='t2tChrY-readst2tChrY-SVs-a0.99-d0.1-l10000', tool='winnowmap', read_name='S1_318', GT_ref='NC_060948.1', GT_from=56225439, GT_to=56232605, GT_strand='-', is_correct=True, start_diff=-1875489, end_diff=-1875622, read_sv='INV')"
      ]
     },
     "metadata": {},
     "output_type": "display_data"
    },
    {
     "data": {
      "text/plain": [
       "'           GT from 56225439 to 56232605'"
      ]
     },
     "metadata": {},
     "output_type": "display_data"
    },
    {
     "data": {
      "text/plain": [
       "'       target from 54349950 to 54356983'"
      ]
     },
     "metadata": {},
     "output_type": "display_data"
    },
    {
     "data": {
      "text/plain": [
       "'    GT_labels from 54349871 to 54357036'"
      ]
     },
     "metadata": {},
     "output_type": "display_data"
    },
    {
     "data": {
      "text/plain": [
       "'target_labels from 54349951 to 54356983'"
      ]
     },
     "metadata": {},
     "output_type": "display_data"
    },
    {
     "data": {
      "text/plain": [
       "'7033 >?= 6449.400000000001 = 0.9 * union 7166 => True'"
      ]
     },
     "metadata": {},
     "output_type": "display_data"
    },
    {
     "data": {
      "text/plain": [
       "Pandas(Index=293, query_name='S1_320!NC_060948.1!11476410!11488378!-', query_length=11996, query_start=35, query_end=11994, strand='-', target_name='NC_060948.1', target_length=62460029, target_start=11059633, target_end=11071564, residue_matches=4963, alignment_block_length=11992, mapping_quality=60, tp='P', cm=380, s1=4961, s2=0, rl=150, experiment='t2tChrY-readst2tChrY-SVs-a0.99-d0.1-l10000', tool='winnowmap', read_name='S1_320', GT_ref='NC_060948.1', GT_from=11476410, GT_to=11488378, GT_strand='-', is_correct=True, start_diff=-416777, end_diff=-416814, read_sv='DUP')"
      ]
     },
     "metadata": {},
     "output_type": "display_data"
    },
    {
     "data": {
      "text/plain": [
       "'           GT from 11476410 to 11488378'"
      ]
     },
     "metadata": {},
     "output_type": "display_data"
    },
    {
     "data": {
      "text/plain": [
       "'       target from 11059633 to 11071564'"
      ]
     },
     "metadata": {},
     "output_type": "display_data"
    },
    {
     "data": {
      "text/plain": [
       "'    GT_labels from 11059632 to 11071599'"
      ]
     },
     "metadata": {},
     "output_type": "display_data"
    },
    {
     "data": {
      "text/plain": [
       "'target_labels from 11059634 to 11071564'"
      ]
     },
     "metadata": {},
     "output_type": "display_data"
    },
    {
     "data": {
      "text/plain": [
       "'11931 >?= 10771.2 = 0.9 * union 11968 => True'"
      ]
     },
     "metadata": {},
     "output_type": "display_data"
    },
    {
     "data": {
      "text/plain": [
       "Pandas(Index=298, query_name='S1_325!NC_060948.1!36646344!36661309!+', query_length=15020, query_start=14, query_end=14976, strand='+', target_name='NC_060948.1', target_length=62460029, target_start=35414297, target_end=35429206, residue_matches=4508, alignment_block_length=14984, mapping_quality=39, tp='P', cm=359, s1=4507, s2=3809, rl=1482, experiment='t2tChrY-readst2tChrY-SVs-a0.99-d0.1-l10000', tool='winnowmap', read_name='S1_325', GT_ref='NC_060948.1', GT_from=36646344, GT_to=36661309, GT_strand='+', is_correct=True, start_diff=-1232047, end_diff=-1232103, read_sv='multi')"
      ]
     },
     "metadata": {},
     "output_type": "display_data"
    },
    {
     "data": {
      "text/plain": [
       "'           GT from 36646344 to 36661309'"
      ]
     },
     "metadata": {},
     "output_type": "display_data"
    },
    {
     "data": {
      "text/plain": [
       "'       target from 35414297 to 35429206'"
      ]
     },
     "metadata": {},
     "output_type": "display_data"
    },
    {
     "data": {
      "text/plain": [
       "'    GT_labels from 35414284 to 35429248'"
      ]
     },
     "metadata": {},
     "output_type": "display_data"
    },
    {
     "data": {
      "text/plain": [
       "'target_labels from 35414298 to 35429206'"
      ]
     },
     "metadata": {},
     "output_type": "display_data"
    },
    {
     "data": {
      "text/plain": [
       "'14909 >?= 13468.5 = 0.9 * union 14965 => True'"
      ]
     },
     "metadata": {},
     "output_type": "display_data"
    },
    {
     "data": {
      "text/plain": [
       "Pandas(Index=299, query_name='S1_326!NC_060948.1!51104908!51115062!-', query_length=10189, query_start=67, query_end=10145, strand='-', target_name='NC_060948.1', target_length=62460029, target_start=49401213, target_end=49411256, residue_matches=2736, alignment_block_length=10095, mapping_quality=60, tp='P', cm=210, s1=2736, s2=249, rl=105, experiment='t2tChrY-readst2tChrY-SVs-a0.99-d0.1-l10000', tool='winnowmap', read_name='S1_326', GT_ref='NC_060948.1', GT_from=51104908, GT_to=51115062, GT_strand='-', is_correct=True, start_diff=-1703695, end_diff=-1703806, read_sv='INV')"
      ]
     },
     "metadata": {},
     "output_type": "display_data"
    },
    {
     "data": {
      "text/plain": [
       "'           GT from 51104908 to 51115062'"
      ]
     },
     "metadata": {},
     "output_type": "display_data"
    },
    {
     "data": {
      "text/plain": [
       "'       target from 49401213 to 49411256'"
      ]
     },
     "metadata": {},
     "output_type": "display_data"
    },
    {
     "data": {
      "text/plain": [
       "'    GT_labels from 49401170 to 49411323'"
      ]
     },
     "metadata": {},
     "output_type": "display_data"
    },
    {
     "data": {
      "text/plain": [
       "'target_labels from 49401214 to 49411256'"
      ]
     },
     "metadata": {},
     "output_type": "display_data"
    },
    {
     "data": {
      "text/plain": [
       "'10043 >?= 9138.6 = 0.9 * union 10154 => True'"
      ]
     },
     "metadata": {},
     "output_type": "display_data"
    },
    {
     "data": {
      "text/plain": [
       "Pandas(Index=300, query_name='S1_327!NC_060948.1!54846149!54856342!+', query_length=10211, query_start=4, query_end=10188, strand='+', target_name='NC_060948.1', target_length=62460029, target_start=53022307, target_end=53032787, residue_matches=2279, alignment_block_length=10512, mapping_quality=60, tp='P', cm=178, s1=2230, s2=1155, rl=645, experiment='t2tChrY-readst2tChrY-SVs-a0.99-d0.1-l10000', tool='winnowmap', read_name='S1_327', GT_ref='NC_060948.1', GT_from=54846149, GT_to=54856342, GT_strand='+', is_correct=False, start_diff=-1823842, end_diff=-1823555, read_sv='INV')"
      ]
     },
     "metadata": {},
     "output_type": "display_data"
    },
    {
     "data": {
      "text/plain": [
       "'           GT from 54846149 to 54856342'"
      ]
     },
     "metadata": {},
     "output_type": "display_data"
    },
    {
     "data": {
      "text/plain": [
       "'       target from 53022307 to 53032787'"
      ]
     },
     "metadata": {},
     "output_type": "display_data"
    },
    {
     "data": {
      "text/plain": [
       "'    GT_labels from 53024718 to 53032810'"
      ]
     },
     "metadata": {},
     "output_type": "display_data"
    },
    {
     "data": {
      "text/plain": [
       "'target_labels from 53022308 to 53032787'"
      ]
     },
     "metadata": {},
     "output_type": "display_data"
    },
    {
     "data": {
      "text/plain": [
       "'8070 >?= 11342.7 = 0.9 * union 12603 => False'"
      ]
     },
     "metadata": {},
     "output_type": "display_data"
    },
    {
     "data": {
      "text/plain": [
       "Pandas(Index=311, query_name='S1_334!NC_060948.1!57382245!57393634!-', query_length=11413, query_start=40, query_end=11384, strand='-', target_name='NC_060948.1', target_length=62460029, target_start=55477824, target_end=55489144, residue_matches=3129, alignment_block_length=11365, mapping_quality=60, tp='P', cm=242, s1=3128, s2=0, rl=120, experiment='t2tChrY-readst2tChrY-SVs-a0.99-d0.1-l10000', tool='winnowmap', read_name='S1_334', GT_ref='NC_060948.1', GT_from=57382245, GT_to=57393634, GT_strand='-', is_correct=True, start_diff=-1904421, end_diff=-1904490, read_sv='multi')"
      ]
     },
     "metadata": {},
     "output_type": "display_data"
    },
    {
     "data": {
      "text/plain": [
       "'           GT from 57382245 to 57393634'"
      ]
     },
     "metadata": {},
     "output_type": "display_data"
    },
    {
     "data": {
      "text/plain": [
       "'       target from 55477824 to 55489144'"
      ]
     },
     "metadata": {},
     "output_type": "display_data"
    },
    {
     "data": {
      "text/plain": [
       "'    GT_labels from 55477796 to 55489184'"
      ]
     },
     "metadata": {},
     "output_type": "display_data"
    },
    {
     "data": {
      "text/plain": [
       "'target_labels from 55477825 to 55489144'"
      ]
     },
     "metadata": {},
     "output_type": "display_data"
    },
    {
     "data": {
      "text/plain": [
       "'11320 >?= 10250.1 = 0.9 * union 11389 => True'"
      ]
     },
     "metadata": {},
     "output_type": "display_data"
    },
    {
     "data": {
      "text/plain": [
       "Pandas(Index=313, query_name='S1_336!NC_060948.1!50485031!50494419!-', query_length=9422, query_start=33, query_end=9407, strand='-', target_name='NC_060948.1', target_length=62460029, target_start=48806371, target_end=48815711, residue_matches=2805, alignment_block_length=9386, mapping_quality=3, tp='P', cm=216, s1=2804, s2=2759, rl=954, experiment='t2tChrY-readst2tChrY-SVs-a0.99-d0.1-l10000', tool='winnowmap', read_name='S1_336', GT_ref='NC_060948.1', GT_from=50485031, GT_to=50494419, GT_strand='-', is_correct=True, start_diff=-1678660, end_diff=-1678708, read_sv='INV')"
      ]
     },
     "metadata": {},
     "output_type": "display_data"
    },
    {
     "data": {
      "text/plain": [
       "'           GT from 50485031 to 50494419'"
      ]
     },
     "metadata": {},
     "output_type": "display_data"
    },
    {
     "data": {
      "text/plain": [
       "'       target from 48806371 to 48815711'"
      ]
     },
     "metadata": {},
     "output_type": "display_data"
    },
    {
     "data": {
      "text/plain": [
       "'    GT_labels from 48806357 to 48815744'"
      ]
     },
     "metadata": {},
     "output_type": "display_data"
    },
    {
     "data": {
      "text/plain": [
       "'target_labels from 48806372 to 48815711'"
      ]
     },
     "metadata": {},
     "output_type": "display_data"
    },
    {
     "data": {
      "text/plain": [
       "'9340 >?= 8449.2 = 0.9 * union 9388 => True'"
      ]
     },
     "metadata": {},
     "output_type": "display_data"
    },
    {
     "data": {
      "text/plain": [
       "Pandas(Index=316, query_name='S1_339!NC_060948.1!43707895!43717060!+', query_length=9194, query_start=9, query_end=9161, strand='+', target_name='NC_060948.1', target_length=62460029, target_start=42245704, target_end=42254827, residue_matches=2763, alignment_block_length=9166, mapping_quality=1, tp='P', cm=217, s1=2763, s2=2748, rl=961, experiment='t2tChrY-readst2tChrY-SVs-a0.99-d0.1-l10000', tool='winnowmap', read_name='S1_339', GT_ref='NC_060948.1', GT_from=43707895, GT_to=43717060, GT_strand='+', is_correct=True, start_diff=-1462191, end_diff=-1462233, read_sv='INV')"
      ]
     },
     "metadata": {},
     "output_type": "display_data"
    },
    {
     "data": {
      "text/plain": [
       "'           GT from 43707895 to 43717060'"
      ]
     },
     "metadata": {},
     "output_type": "display_data"
    },
    {
     "data": {
      "text/plain": [
       "'       target from 42245704 to 42254827'"
      ]
     },
     "metadata": {},
     "output_type": "display_data"
    },
    {
     "data": {
      "text/plain": [
       "'    GT_labels from 42245696 to 42254860'"
      ]
     },
     "metadata": {},
     "output_type": "display_data"
    },
    {
     "data": {
      "text/plain": [
       "'target_labels from 42245705 to 42254827'"
      ]
     },
     "metadata": {},
     "output_type": "display_data"
    },
    {
     "data": {
      "text/plain": [
       "'9123 >?= 8248.5 = 0.9 * union 9165 => True'"
      ]
     },
     "metadata": {},
     "output_type": "display_data"
    },
    {
     "data": {
      "text/plain": [
       "Pandas(Index=321, query_name='S1_342!NC_060948.1!62437373!62453943!-', query_length=16636, query_start=68, query_end=16627, strand='-', target_name='NC_060948.1', target_length=62460029, target_start=60350822, target_end=60367466, residue_matches=4768, alignment_block_length=16725, mapping_quality=60, tp='P', cm=379, s1=4742, s2=642, rl=351, experiment='t2tChrY-readst2tChrY-SVs-a0.99-d0.1-l10000', tool='winnowmap', read_name='S1_342', GT_ref='NC_060948.1', GT_from=62437373, GT_to=62453943, GT_strand='-', is_correct=True, start_diff=-2086551, end_diff=-2086477, read_sv='multi')"
      ]
     },
     "metadata": {},
     "output_type": "display_data"
    },
    {
     "data": {
      "text/plain": [
       "'           GT from 62437373 to 62453943'"
      ]
     },
     "metadata": {},
     "output_type": "display_data"
    },
    {
     "data": {
      "text/plain": [
       "'       target from 60350822 to 60367466'"
      ]
     },
     "metadata": {},
     "output_type": "display_data"
    },
    {
     "data": {
      "text/plain": [
       "'    GT_labels from 60350814 to 60367532'"
      ]
     },
     "metadata": {},
     "output_type": "display_data"
    },
    {
     "data": {
      "text/plain": [
       "'target_labels from 60350823 to 60367466'"
      ]
     },
     "metadata": {},
     "output_type": "display_data"
    },
    {
     "data": {
      "text/plain": [
       "'16495 >?= 15047.1 = 0.9 * union 16719 => True'"
      ]
     },
     "metadata": {},
     "output_type": "display_data"
    },
    {
     "data": {
      "text/plain": [
       "Pandas(Index=322, query_name='S1_343!NC_060948.1!37412017!37421679!+', query_length=9704, query_start=6, query_end=9698, strand='+', target_name='NC_060948.1', target_length=62460029, target_start=36149013, target_end=36158619, residue_matches=2617, alignment_block_length=9705, mapping_quality=14, tp='P', cm=203, s1=2609, s2=2433, rl=1113, experiment='t2tChrY-readst2tChrY-SVs-a0.99-d0.1-l10000', tool='winnowmap', read_name='S1_343', GT_ref='NC_060948.1', GT_from=37412017, GT_to=37421679, GT_strand='+', is_correct=True, start_diff=-1263004, end_diff=-1263060, read_sv='INV')"
      ]
     },
     "metadata": {},
     "output_type": "display_data"
    },
    {
     "data": {
      "text/plain": [
       "'           GT from 37412017 to 37421679'"
      ]
     },
     "metadata": {},
     "output_type": "display_data"
    },
    {
     "data": {
      "text/plain": [
       "'       target from 36149013 to 36158619'"
      ]
     },
     "metadata": {},
     "output_type": "display_data"
    },
    {
     "data": {
      "text/plain": [
       "'    GT_labels from -75086 to 36158625'"
      ]
     },
     "metadata": {},
     "output_type": "display_data"
    },
    {
     "data": {
      "text/plain": [
       "'target_labels from 36149014 to 36158619'"
      ]
     },
     "metadata": {},
     "output_type": "display_data"
    },
    {
     "data": {
      "text/plain": [
       "'9606 >?= 8695.800000000001 = 0.9 * union 9662 => True'"
      ]
     },
     "metadata": {},
     "output_type": "display_data"
    },
    {
     "data": {
      "text/plain": [
       "Pandas(Index=326, query_name='S1_347!NC_060948.1!32708101!32715682!+', query_length=7602, query_start=27, query_end=7565, strand='+', target_name='NC_060948.1', target_length=62460029, target_start=31602701, target_end=31610218, residue_matches=2231, alignment_block_length=7550, mapping_quality=20, tp='P', cm=169, s1=2231, s2=2028, rl=803, experiment='t2tChrY-readst2tChrY-SVs-a0.99-d0.1-l10000', tool='winnowmap', read_name='S1_347', GT_ref='NC_060948.1', GT_from=32708101, GT_to=32715682, GT_strand='+', is_correct=True, start_diff=-1105400, end_diff=-1105464, read_sv='DUP')"
      ]
     },
     "metadata": {},
     "output_type": "display_data"
    },
    {
     "data": {
      "text/plain": [
       "'           GT from 32708101 to 32715682'"
      ]
     },
     "metadata": {},
     "output_type": "display_data"
    },
    {
     "data": {
      "text/plain": [
       "'       target from 31602701 to 31610218'"
      ]
     },
     "metadata": {},
     "output_type": "display_data"
    },
    {
     "data": {
      "text/plain": [
       "'    GT_labels from 31602675 to 31610255'"
      ]
     },
     "metadata": {},
     "output_type": "display_data"
    },
    {
     "data": {
      "text/plain": [
       "'target_labels from 31602702 to 31610218'"
      ]
     },
     "metadata": {},
     "output_type": "display_data"
    },
    {
     "data": {
      "text/plain": [
       "'7517 >?= 6822.900000000001 = 0.9 * union 7581 => True'"
      ]
     },
     "metadata": {},
     "output_type": "display_data"
    },
    {
     "data": {
      "text/plain": [
       "Pandas(Index=327, query_name='S1_348!NC_060948.1!1229781!1242551!-', query_length=12830, query_start=41, query_end=12788, strand='-', target_name='NC_060948.1', target_length=62460029, target_start=1198199, target_end=1210886, residue_matches=5220, alignment_block_length=12766, mapping_quality=60, tp='P', cm=394, s1=5220, s2=0, rl=405, experiment='t2tChrY-readst2tChrY-SVs-a0.99-d0.1-l10000', tool='winnowmap', read_name='S1_348', GT_ref='NC_060948.1', GT_from=1229781, GT_to=1242551, GT_strand='-', is_correct=True, start_diff=-31582, end_diff=-31665, read_sv='INS')"
      ]
     },
     "metadata": {},
     "output_type": "display_data"
    },
    {
     "data": {
      "text/plain": [
       "'           GT from 1229781 to 1242551'"
      ]
     },
     "metadata": {},
     "output_type": "display_data"
    },
    {
     "data": {
      "text/plain": [
       "'       target from 1198199 to 1210886'"
      ]
     },
     "metadata": {},
     "output_type": "display_data"
    },
    {
     "data": {
      "text/plain": [
       "'    GT_labels from 1198158 to 1210927'"
      ]
     },
     "metadata": {},
     "output_type": "display_data"
    },
    {
     "data": {
      "text/plain": [
       "'target_labels from 1198200 to 1210886'"
      ]
     },
     "metadata": {},
     "output_type": "display_data"
    },
    {
     "data": {
      "text/plain": [
       "'12687 >?= 11493.0 = 0.9 * union 12770 => True'"
      ]
     },
     "metadata": {},
     "output_type": "display_data"
    },
    {
     "data": {
      "text/plain": [
       "Pandas(Index=329, query_name='S1_35!NC_060948.1!46032433!46048250!+', query_length=15882, query_start=25, query_end=13650, strand='+', target_name='NC_060948.1', target_length=62460029, target_start=44487663, target_end=44501232, residue_matches=3789, alignment_block_length=13639, mapping_quality=60, tp='P', cm=293, s1=3787, s2=1538, rl=594, experiment='t2tChrY-readst2tChrY-SVs-a0.99-d0.1-l10000', tool='winnowmap', read_name='S1_35', GT_ref='NC_060948.1', GT_from=46032433, GT_to=46048250, GT_strand='+', is_correct=False, start_diff=-1544770, end_diff=-1547018, read_sv='DUP')"
      ]
     },
     "metadata": {},
     "output_type": "display_data"
    },
    {
     "data": {
      "text/plain": [
       "'           GT from 46032433 to 46048250'"
      ]
     },
     "metadata": {},
     "output_type": "display_data"
    },
    {
     "data": {
      "text/plain": [
       "'       target from 44487663 to 44501232'"
      ]
     },
     "metadata": {},
     "output_type": "display_data"
    },
    {
     "data": {
      "text/plain": [
       "'    GT_labels from 44487639 to 44502191'"
      ]
     },
     "metadata": {},
     "output_type": "display_data"
    },
    {
     "data": {
      "text/plain": [
       "'target_labels from 44487664 to 44501232'"
      ]
     },
     "metadata": {},
     "output_type": "display_data"
    },
    {
     "data": {
      "text/plain": [
       "'13569 >?= 14235.300000000001 = 0.9 * union 15817 => False'"
      ]
     },
     "metadata": {},
     "output_type": "display_data"
    },
    {
     "data": {
      "text/plain": [
       "Pandas(Index=330, query_name='S1_35!NC_060948.1!46032433!46048250!+', query_length=15882, query_start=13747, query_end=14850, strand='+', target_name='NC_060948.1', target_length=62460029, target_start=29464695, target_end=29465780, residue_matches=188, alignment_block_length=1104, mapping_quality=60, tp='P', cm=14, s1=185, s2=0, rl=594, experiment='t2tChrY-readst2tChrY-SVs-a0.99-d0.1-l10000', tool='winnowmap', read_name='S1_35', GT_ref='NC_060948.1', GT_from=46032433, GT_to=46048250, GT_strand='+', is_correct=False, start_diff=-16567738, end_diff=-16582470, read_sv='DUP')"
      ]
     },
     "metadata": {},
     "output_type": "display_data"
    },
    {
     "data": {
      "text/plain": [
       "'           GT from 46032433 to 46048250'"
      ]
     },
     "metadata": {},
     "output_type": "display_data"
    },
    {
     "data": {
      "text/plain": [
       "'       target from 29464695 to 29465780'"
      ]
     },
     "metadata": {},
     "output_type": "display_data"
    },
    {
     "data": {
      "text/plain": [
       "'    GT_labels from 44487639 to 44502191'"
      ]
     },
     "metadata": {},
     "output_type": "display_data"
    },
    {
     "data": {
      "text/plain": [
       "'target_labels from 29464696 to 29465780'"
      ]
     },
     "metadata": {},
     "output_type": "display_data"
    },
    {
     "data": {
      "text/plain": [
       "'0 >?= 15211.800000000001 = 0.9 * union 16902 => False'"
      ]
     },
     "metadata": {},
     "output_type": "display_data"
    },
    {
     "data": {
      "text/plain": [
       "Pandas(Index=333, query_name='S1_351!NC_060948.1!25222228!25232180!+', query_length=9972, query_start=8, query_end=671, strand='+', target_name='NC_060948.1', target_length=62460029, target_start=24331485, target_end=24332147, residue_matches=267, alignment_block_length=664, mapping_quality=0, tp='P', cm=19, s1=267, s2=267, rl=0, experiment='t2tChrY-readst2tChrY-SVs-a0.99-d0.1-l10000', tool='winnowmap', read_name='S1_351', GT_ref='NC_060948.1', GT_from=25222228, GT_to=25232180, GT_strand='+', is_correct=False, start_diff=-890743, end_diff=-900033, read_sv='INV')"
      ]
     },
     "metadata": {},
     "output_type": "display_data"
    },
    {
     "data": {
      "text/plain": [
       "'           GT from 25222228 to 25232180'"
      ]
     },
     "metadata": {},
     "output_type": "display_data"
    },
    {
     "data": {
      "text/plain": [
       "'       target from 24331485 to 24332147'"
      ]
     },
     "metadata": {},
     "output_type": "display_data"
    },
    {
     "data": {
      "text/plain": [
       "'    GT_labels from 24331398 to 24340658'"
      ]
     },
     "metadata": {},
     "output_type": "display_data"
    },
    {
     "data": {
      "text/plain": [
       "'target_labels from 24331486 to 24332147'"
      ]
     },
     "metadata": {},
     "output_type": "display_data"
    },
    {
     "data": {
      "text/plain": [
       "'662 >?= 8956.800000000001 = 0.9 * union 9952 => False'"
      ]
     },
     "metadata": {},
     "output_type": "display_data"
    },
    {
     "data": {
      "text/plain": [
       "Pandas(Index=340, query_name='S1_356!NC_060948.1!27080042!27088282!-', query_length=8261, query_start=28, query_end=8227, strand='-', target_name='NC_060948.1', target_length=62460029, target_start=26153480, target_end=26161658, residue_matches=3650, alignment_block_length=8211, mapping_quality=2, tp='P', cm=276, s1=3650, s2=3619, rl=0, experiment='t2tChrY-readst2tChrY-SVs-a0.99-d0.1-l10000', tool='winnowmap', read_name='S1_356', GT_ref='NC_060948.1', GT_from=27080042, GT_to=27088282, GT_strand='-', is_correct=True, start_diff=-926562, end_diff=-926624, read_sv='INV')"
      ]
     },
     "metadata": {},
     "output_type": "display_data"
    },
    {
     "data": {
      "text/plain": [
       "'           GT from 27080042 to 27088282'"
      ]
     },
     "metadata": {},
     "output_type": "display_data"
    },
    {
     "data": {
      "text/plain": [
       "'       target from 26153480 to 26161658'"
      ]
     },
     "metadata": {},
     "output_type": "display_data"
    },
    {
     "data": {
      "text/plain": [
       "'    GT_labels from 26153447 to 26161686'"
      ]
     },
     "metadata": {},
     "output_type": "display_data"
    },
    {
     "data": {
      "text/plain": [
       "'target_labels from 26153481 to 26161658'"
      ]
     },
     "metadata": {},
     "output_type": "display_data"
    },
    {
     "data": {
      "text/plain": [
       "'8178 >?= 7416.0 = 0.9 * union 8240 => True'"
      ]
     },
     "metadata": {},
     "output_type": "display_data"
    },
    {
     "data": {
      "text/plain": [
       "Pandas(Index=343, query_name='S1_359!NC_060948.1!43182354!43192707!+', query_length=10379, query_start=257, query_end=10344, strand='+', target_name='NC_060948.1', target_length=62460029, target_start=41743703, target_end=41753763, residue_matches=2695, alignment_block_length=10100, mapping_quality=47, tp='P', cm=214, s1=2695, s2=2138, rl=998, experiment='t2tChrY-readst2tChrY-SVs-a0.99-d0.1-l10000', tool='winnowmap', read_name='S1_359', GT_ref='NC_060948.1', GT_from=43182354, GT_to=43192707, GT_strand='+', is_correct=True, start_diff=-1438651, end_diff=-1438944, read_sv='INS')"
      ]
     },
     "metadata": {},
     "output_type": "display_data"
    },
    {
     "data": {
      "text/plain": [
       "'           GT from 43182354 to 43192707'"
      ]
     },
     "metadata": {},
     "output_type": "display_data"
    },
    {
     "data": {
      "text/plain": [
       "'       target from 41743703 to 41753763'"
      ]
     },
     "metadata": {},
     "output_type": "display_data"
    },
    {
     "data": {
      "text/plain": [
       "'    GT_labels from 41743584 to 41753798'"
      ]
     },
     "metadata": {},
     "output_type": "display_data"
    },
    {
     "data": {
      "text/plain": [
       "'target_labels from 41743704 to 41753763'"
      ]
     },
     "metadata": {},
     "output_type": "display_data"
    },
    {
     "data": {
      "text/plain": [
       "'10060 >?= 9317.7 = 0.9 * union 10353 => True'"
      ]
     },
     "metadata": {},
     "output_type": "display_data"
    },
    {
     "data": {
      "text/plain": [
       "Pandas(Index=344, query_name='S1_36!NC_060948.1!42327653!42336886!-', query_length=9257, query_start=3, query_end=9176, strand='-', target_name='NC_060948.1', target_length=62460029, target_start=40930180, target_end=40939329, residue_matches=2784, alignment_block_length=9188, mapping_quality=3, tp='P', cm=212, s1=2784, s2=2745, rl=1146, experiment='t2tChrY-readst2tChrY-SVs-a0.99-d0.1-l10000', tool='winnowmap', read_name='S1_36', GT_ref='NC_060948.1', GT_from=42327653, GT_to=42336886, GT_strand='-', is_correct=True, start_diff=-1397473, end_diff=-1397557, read_sv='DEL')"
      ]
     },
     "metadata": {},
     "output_type": "display_data"
    },
    {
     "data": {
      "text/plain": [
       "'           GT from 42327653 to 42336886'"
      ]
     },
     "metadata": {},
     "output_type": "display_data"
    },
    {
     "data": {
      "text/plain": [
       "'       target from 40930180 to 40939329'"
      ]
     },
     "metadata": {},
     "output_type": "display_data"
    },
    {
     "data": {
      "text/plain": [
       "'    GT_labels from 40930100 to 40939332'"
      ]
     },
     "metadata": {},
     "output_type": "display_data"
    },
    {
     "data": {
      "text/plain": [
       "'target_labels from 40930181 to 40939329'"
      ]
     },
     "metadata": {},
     "output_type": "display_data"
    },
    {
     "data": {
      "text/plain": [
       "'9149 >?= 8309.7 = 0.9 * union 9233 => True'"
      ]
     },
     "metadata": {},
     "output_type": "display_data"
    },
    {
     "data": {
      "text/plain": [
       "Pandas(Index=350, query_name='S1_365!NC_060948.1!41351841!41365148!+', query_length=13357, query_start=45, query_end=13316, strand='+', target_name='NC_060948.1', target_length=62460029, target_start=39975964, target_end=39989184, residue_matches=3596, alignment_block_length=13286, mapping_quality=60, tp='P', cm=273, s1=3596, s2=1875, rl=681, experiment='t2tChrY-readst2tChrY-SVs-a0.99-d0.1-l10000', tool='winnowmap', read_name='S1_365', GT_ref='NC_060948.1', GT_from=41351841, GT_to=41365148, GT_strand='+', is_correct=True, start_diff=-1375877, end_diff=-1375964, read_sv='INS')"
      ]
     },
     "metadata": {},
     "output_type": "display_data"
    },
    {
     "data": {
      "text/plain": [
       "'           GT from 41351841 to 41365148'"
      ]
     },
     "metadata": {},
     "output_type": "display_data"
    },
    {
     "data": {
      "text/plain": [
       "'       target from 39975964 to 39989184'"
      ]
     },
     "metadata": {},
     "output_type": "display_data"
    },
    {
     "data": {
      "text/plain": [
       "'    GT_labels from 39975919 to 39989225'"
      ]
     },
     "metadata": {},
     "output_type": "display_data"
    },
    {
     "data": {
      "text/plain": [
       "'target_labels from 39975965 to 39989184'"
      ]
     },
     "metadata": {},
     "output_type": "display_data"
    },
    {
     "data": {
      "text/plain": [
       "'13220 >?= 11976.300000000001 = 0.9 * union 13307 => True'"
      ]
     },
     "metadata": {},
     "output_type": "display_data"
    },
    {
     "data": {
      "text/plain": [
       "Pandas(Index=358, query_name='S1_370!NC_060948.1!13227509!13236925!-', query_length=9441, query_start=21, query_end=9382, strand='-', target_name='NC_060948.1', target_length=62460029, target_start=12767154, target_end=12776493, residue_matches=3741, alignment_block_length=9386, mapping_quality=60, tp='P', cm=285, s1=3741, s2=1130, rl=15, experiment='t2tChrY-readst2tChrY-SVs-a0.99-d0.1-l10000', tool='winnowmap', read_name='S1_370', GT_ref='NC_060948.1', GT_from=13227509, GT_to=13236925, GT_strand='-', is_correct=True, start_diff=-460355, end_diff=-460432, read_sv='DUP')"
      ]
     },
     "metadata": {},
     "output_type": "display_data"
    },
    {
     "data": {
      "text/plain": [
       "'           GT from 13227509 to 13236925'"
      ]
     },
     "metadata": {},
     "output_type": "display_data"
    },
    {
     "data": {
      "text/plain": [
       "'       target from 12767154 to 12776493'"
      ]
     },
     "metadata": {},
     "output_type": "display_data"
    },
    {
     "data": {
      "text/plain": [
       "'    GT_labels from 12767097 to 12776512'"
      ]
     },
     "metadata": {},
     "output_type": "display_data"
    },
    {
     "data": {
      "text/plain": [
       "'target_labels from 12767155 to 12776493'"
      ]
     },
     "metadata": {},
     "output_type": "display_data"
    },
    {
     "data": {
      "text/plain": [
       "'9339 >?= 8474.4 = 0.9 * union 9416 => True'"
      ]
     },
     "metadata": {},
     "output_type": "display_data"
    },
    {
     "data": {
      "text/plain": [
       "Pandas(Index=362, query_name='S1_374!NC_060948.1!50184853!50195491!-', query_length=10663, query_start=56, query_end=10629, strand='-', target_name='NC_060948.1', target_length=62460029, target_start=48521841, target_end=48532390, residue_matches=2856, alignment_block_length=10593, mapping_quality=60, tp='P', cm=224, s1=2855, s2=320, rl=93, experiment='t2tChrY-readst2tChrY-SVs-a0.99-d0.1-l10000', tool='winnowmap', read_name='S1_374', GT_ref='NC_060948.1', GT_from=50184853, GT_to=50195491, GT_strand='-', is_correct=True, start_diff=-1663012, end_diff=-1663101, read_sv='INV')"
      ]
     },
     "metadata": {},
     "output_type": "display_data"
    },
    {
     "data": {
      "text/plain": [
       "'           GT from 50184853 to 50195491'"
      ]
     },
     "metadata": {},
     "output_type": "display_data"
    },
    {
     "data": {
      "text/plain": [
       "'       target from 48521841 to 48532390'"
      ]
     },
     "metadata": {},
     "output_type": "display_data"
    },
    {
     "data": {
      "text/plain": [
       "'    GT_labels from 48521808 to 48532445'"
      ]
     },
     "metadata": {},
     "output_type": "display_data"
    },
    {
     "data": {
      "text/plain": [
       "'target_labels from 48521842 to 48532390'"
      ]
     },
     "metadata": {},
     "output_type": "display_data"
    },
    {
     "data": {
      "text/plain": [
       "'10549 >?= 9574.2 = 0.9 * union 10638 => True'"
      ]
     },
     "metadata": {},
     "output_type": "display_data"
    },
    {
     "data": {
      "text/plain": [
       "Pandas(Index=364, query_name='S1_376!NC_060948.1!56969266!56979848!-', query_length=10617, query_start=41, query_end=10560, strand='-', target_name='NC_060948.1', target_length=62460029, target_start=55075527, target_end=55083497, residue_matches=2138, alignment_block_length=10530, mapping_quality=60, tp='P', cm=165, s1=1748, s2=257, rl=232, experiment='t2tChrY-readst2tChrY-SVs-a0.99-d0.1-l10000', tool='winnowmap', read_name='S1_376', GT_ref='NC_060948.1', GT_from=56969266, GT_to=56979848, GT_strand='-', is_correct=False, start_diff=-1893739, end_diff=-1896351, read_sv='multi')"
      ]
     },
     "metadata": {},
     "output_type": "display_data"
    },
    {
     "data": {
      "text/plain": [
       "'           GT from 56969266 to 56979848'"
      ]
     },
     "metadata": {},
     "output_type": "display_data"
    },
    {
     "data": {
      "text/plain": [
       "'       target from 55075527 to 55083497'"
      ]
     },
     "metadata": {},
     "output_type": "display_data"
    },
    {
     "data": {
      "text/plain": [
       "'    GT_labels from 55075471 to 55083538'"
      ]
     },
     "metadata": {},
     "output_type": "display_data"
    },
    {
     "data": {
      "text/plain": [
       "'target_labels from 55075528 to 55083497'"
      ]
     },
     "metadata": {},
     "output_type": "display_data"
    },
    {
     "data": {
      "text/plain": [
       "'7970 >?= 9523.800000000001 = 0.9 * union 10582 => False'"
      ]
     },
     "metadata": {},
     "output_type": "display_data"
    },
    {
     "data": {
      "text/plain": [
       "Pandas(Index=365, query_name='S1_377!NC_060948.1!43106123!43114817!+', query_length=8701, query_start=9, query_end=8673, strand='+', target_name='NC_060948.1', target_length=62460029, target_start=41670990, target_end=41679647, residue_matches=2551, alignment_block_length=8679, mapping_quality=1, tp='P', cm=204, s1=2551, s2=2534, rl=1088, experiment='t2tChrY-readst2tChrY-SVs-a0.99-d0.1-l10000', tool='winnowmap', read_name='S1_377', GT_ref='NC_060948.1', GT_from=43106123, GT_to=43114817, GT_strand='+', is_correct=True, start_diff=-1435133, end_diff=-1435170, read_sv='DUP')"
      ]
     },
     "metadata": {},
     "output_type": "display_data"
    },
    {
     "data": {
      "text/plain": [
       "'           GT from 43106123 to 43114817'"
      ]
     },
     "metadata": {},
     "output_type": "display_data"
    },
    {
     "data": {
      "text/plain": [
       "'       target from 41670990 to 41679647'"
      ]
     },
     "metadata": {},
     "output_type": "display_data"
    },
    {
     "data": {
      "text/plain": [
       "'    GT_labels from 41670982 to 41679675'"
      ]
     },
     "metadata": {},
     "output_type": "display_data"
    },
    {
     "data": {
      "text/plain": [
       "'target_labels from 41670991 to 41679647'"
      ]
     },
     "metadata": {},
     "output_type": "display_data"
    },
    {
     "data": {
      "text/plain": [
       "'8657 >?= 7824.6 = 0.9 * union 8694 => True'"
      ]
     },
     "metadata": {},
     "output_type": "display_data"
    },
    {
     "data": {
      "text/plain": [
       "Pandas(Index=367, query_name='S1_379!NC_060948.1!57527514!57536300!+', query_length=8818, query_start=64, query_end=8798, strand='+', target_name='NC_060948.1', target_length=62460029, target_start=55613642, target_end=55622344, residue_matches=2482, alignment_block_length=8750, mapping_quality=16, tp='P', cm=195, s1=2481, s2=2295, rl=1038, experiment='t2tChrY-readst2tChrY-SVs-a0.99-d0.1-l10000', tool='winnowmap', read_name='S1_379', GT_ref='NC_060948.1', GT_from=57527514, GT_to=57536300, GT_strand='+', is_correct=True, start_diff=-1913872, end_diff=-1913956, read_sv='DUP')"
      ]
     },
     "metadata": {},
     "output_type": "display_data"
    },
    {
     "data": {
      "text/plain": [
       "'           GT from 57527514 to 57536300'"
      ]
     },
     "metadata": {},
     "output_type": "display_data"
    },
    {
     "data": {
      "text/plain": [
       "'       target from 55613642 to 55622344'"
      ]
     },
     "metadata": {},
     "output_type": "display_data"
    },
    {
     "data": {
      "text/plain": [
       "'    GT_labels from 55613579 to 55622364'"
      ]
     },
     "metadata": {},
     "output_type": "display_data"
    },
    {
     "data": {
      "text/plain": [
       "'target_labels from 55613643 to 55622344'"
      ]
     },
     "metadata": {},
     "output_type": "display_data"
    },
    {
     "data": {
      "text/plain": [
       "'8702 >?= 7907.400000000001 = 0.9 * union 8786 => True'"
      ]
     },
     "metadata": {},
     "output_type": "display_data"
    },
    {
     "data": {
      "text/plain": [
       "Pandas(Index=372, query_name='S1_383!NC_060948.1!41080445!41094831!+', query_length=14419, query_start=48, query_end=14400, strand='+', target_name='NC_060948.1', target_length=62460029, target_start=39716637, target_end=39730956, residue_matches=4534, alignment_block_length=14378, mapping_quality=60, tp='P', cm=353, s1=4532, s2=1269, rl=352, experiment='t2tChrY-readst2tChrY-SVs-a0.99-d0.1-l10000', tool='winnowmap', read_name='S1_383', GT_ref='NC_060948.1', GT_from=41080445, GT_to=41094831, GT_strand='+', is_correct=True, start_diff=-1363808, end_diff=-1363875, read_sv='INS')"
      ]
     },
     "metadata": {},
     "output_type": "display_data"
    },
    {
     "data": {
      "text/plain": [
       "'           GT from 41080445 to 41094831'"
      ]
     },
     "metadata": {},
     "output_type": "display_data"
    },
    {
     "data": {
      "text/plain": [
       "'       target from 39716637 to 39730956'"
      ]
     },
     "metadata": {},
     "output_type": "display_data"
    },
    {
     "data": {
      "text/plain": [
       "'    GT_labels from 39716590 to 39730975'"
      ]
     },
     "metadata": {},
     "output_type": "display_data"
    },
    {
     "data": {
      "text/plain": [
       "'target_labels from 39716638 to 39730956'"
      ]
     },
     "metadata": {},
     "output_type": "display_data"
    },
    {
     "data": {
      "text/plain": [
       "'14319 >?= 12947.4 = 0.9 * union 14386 => True'"
      ]
     },
     "metadata": {},
     "output_type": "display_data"
    },
    {
     "data": {
      "text/plain": [
       "Pandas(Index=377, query_name='S1_388!NC_060948.1!54641776!54659240!-', query_length=17502, query_start=2, query_end=17464, strand='-', target_name='NC_060948.1', target_length=62460029, target_start=52822468, target_end=52839892, residue_matches=4933, alignment_block_length=17494, mapping_quality=29, tp='P', cm=373, s1=4933, s2=4351, rl=1683, experiment='t2tChrY-readst2tChrY-SVs-a0.99-d0.1-l10000', tool='winnowmap', read_name='S1_388', GT_ref='NC_060948.1', GT_from=54641776, GT_to=54659240, GT_strand='-', is_correct=True, start_diff=-1819308, end_diff=-1819348, read_sv='multi')"
      ]
     },
     "metadata": {},
     "output_type": "display_data"
    },
    {
     "data": {
      "text/plain": [
       "'           GT from 54641776 to 54659240'"
      ]
     },
     "metadata": {},
     "output_type": "display_data"
    },
    {
     "data": {
      "text/plain": [
       "'       target from 52822468 to 52839892'"
      ]
     },
     "metadata": {},
     "output_type": "display_data"
    },
    {
     "data": {
      "text/plain": [
       "'    GT_labels from 52822431 to 52839894'"
      ]
     },
     "metadata": {},
     "output_type": "display_data"
    },
    {
     "data": {
      "text/plain": [
       "'target_labels from 52822469 to 52839892'"
      ]
     },
     "metadata": {},
     "output_type": "display_data"
    },
    {
     "data": {
      "text/plain": [
       "'17424 >?= 15717.6 = 0.9 * union 17464 => True'"
      ]
     },
     "metadata": {},
     "output_type": "display_data"
    },
    {
     "data": {
      "text/plain": [
       "Pandas(Index=378, query_name='S1_389!NC_060948.1!59581733!59591613!+', query_length=9915, query_start=77, query_end=9869, strand='+', target_name='NC_060948.1', target_length=62460029, target_start=57609501, target_end=57618817, residue_matches=2856, alignment_block_length=9806, mapping_quality=21, tp='P', cm=216, s1=2785, s2=2530, rl=1038, experiment='t2tChrY-readst2tChrY-SVs-a0.99-d0.1-l10000', tool='winnowmap', read_name='S1_389', GT_ref='NC_060948.1', GT_from=59581733, GT_to=59591613, GT_strand='+', is_correct=True, start_diff=-1972232, end_diff=-1972796, read_sv='DUP')"
      ]
     },
     "metadata": {},
     "output_type": "display_data"
    },
    {
     "data": {
      "text/plain": [
       "'           GT from 59581733 to 59591613'"
      ]
     },
     "metadata": {},
     "output_type": "display_data"
    },
    {
     "data": {
      "text/plain": [
       "'       target from 57609501 to 57618817'"
      ]
     },
     "metadata": {},
     "output_type": "display_data"
    },
    {
     "data": {
      "text/plain": [
       "'    GT_labels from -125066 to 57618860'"
      ]
     },
     "metadata": {},
     "output_type": "display_data"
    },
    {
     "data": {
      "text/plain": [
       "'target_labels from 57609502 to 57618817'"
      ]
     },
     "metadata": {},
     "output_type": "display_data"
    },
    {
     "data": {
      "text/plain": [
       "'9316 >?= 8892.0 = 0.9 * union 9880 => True'"
      ]
     },
     "metadata": {},
     "output_type": "display_data"
    },
    {
     "data": {
      "text/plain": [
       "Pandas(Index=379, query_name='S1_39!NC_060948.1!41287054!41297476!+', query_length=10446, query_start=57, query_end=10427, strand='+', target_name='NC_060948.1', target_length=62460029, target_start=39912403, target_end=39922750, residue_matches=2817, alignment_block_length=10386, mapping_quality=60, tp='P', cm=216, s1=2816, s2=287, rl=75, experiment='t2tChrY-readst2tChrY-SVs-a0.99-d0.1-l10000', tool='winnowmap', read_name='S1_39', GT_ref='NC_060948.1', GT_from=41287054, GT_to=41297476, GT_strand='+', is_correct=True, start_diff=-1374651, end_diff=-1374726, read_sv='INS')"
      ]
     },
     "metadata": {},
     "output_type": "display_data"
    },
    {
     "data": {
      "text/plain": [
       "'           GT from 41287054 to 41297476'"
      ]
     },
     "metadata": {},
     "output_type": "display_data"
    },
    {
     "data": {
      "text/plain": [
       "'       target from 39912403 to 39922750'"
      ]
     },
     "metadata": {},
     "output_type": "display_data"
    },
    {
     "data": {
      "text/plain": [
       "'    GT_labels from 39912348 to 39922769'"
      ]
     },
     "metadata": {},
     "output_type": "display_data"
    },
    {
     "data": {
      "text/plain": [
       "'target_labels from 39912404 to 39922750'"
      ]
     },
     "metadata": {},
     "output_type": "display_data"
    },
    {
     "data": {
      "text/plain": [
       "'10347 >?= 9379.800000000001 = 0.9 * union 10422 => True'"
      ]
     },
     "metadata": {},
     "output_type": "display_data"
    },
    {
     "data": {
      "text/plain": [
       "Pandas(Index=381, query_name='S1_391!NC_060948.1!7307879!7316747!+', query_length=8896, query_start=14, query_end=8859, strand='+', target_name='NC_060948.1', target_length=62460029, target_start=7049452, target_end=7058269, residue_matches=3216, alignment_block_length=8861, mapping_quality=60, tp='P', cm=242, s1=3216, s2=326, rl=0, experiment='t2tChrY-readst2tChrY-SVs-a0.99-d0.1-l10000', tool='winnowmap', read_name='S1_391', GT_ref='NC_060948.1', GT_from=7307879, GT_to=7316747, GT_strand='+', is_correct=True, start_diff=-258427, end_diff=-258478, read_sv='DUP')"
      ]
     },
     "metadata": {},
     "output_type": "display_data"
    },
    {
     "data": {
      "text/plain": [
       "'           GT from 7307879 to 7316747'"
      ]
     },
     "metadata": {},
     "output_type": "display_data"
    },
    {
     "data": {
      "text/plain": [
       "'       target from 7049452 to 7058269'"
      ]
     },
     "metadata": {},
     "output_type": "display_data"
    },
    {
     "data": {
      "text/plain": [
       "'    GT_labels from 7049439 to 7058306'"
      ]
     },
     "metadata": {},
     "output_type": "display_data"
    },
    {
     "data": {
      "text/plain": [
       "'target_labels from 7049453 to 7058269'"
      ]
     },
     "metadata": {},
     "output_type": "display_data"
    },
    {
     "data": {
      "text/plain": [
       "'8817 >?= 7981.2 = 0.9 * union 8868 => True'"
      ]
     },
     "metadata": {},
     "output_type": "display_data"
    },
    {
     "data": {
      "text/plain": [
       "Pandas(Index=382, query_name='S1_392!NC_060948.1!2472975!2481062!-', query_length=8094, query_start=425, query_end=8064, strand='-', target_name='NC_060948.1', target_length=62460029, target_start=2393648, target_end=2401281, residue_matches=3270, alignment_block_length=7661, mapping_quality=60, tp='P', cm=246, s1=3270, s2=60, rl=0, experiment='t2tChrY-readst2tChrY-SVs-a0.99-d0.1-l10000', tool='winnowmap', read_name='S1_392', GT_ref='NC_060948.1', GT_from=2472975, GT_to=2481062, GT_strand='-', is_correct=True, start_diff=-79327, end_diff=-79781, read_sv='DUP')"
      ]
     },
     "metadata": {},
     "output_type": "display_data"
    },
    {
     "data": {
      "text/plain": [
       "'           GT from 2472975 to 2481062'"
      ]
     },
     "metadata": {},
     "output_type": "display_data"
    },
    {
     "data": {
      "text/plain": [
       "'       target from 2393648 to 2401281'"
      ]
     },
     "metadata": {},
     "output_type": "display_data"
    },
    {
     "data": {
      "text/plain": [
       "'    GT_labels from -6981 to 2401304'"
      ]
     },
     "metadata": {},
     "output_type": "display_data"
    },
    {
     "data": {
      "text/plain": [
       "'target_labels from 2393649 to 2401281'"
      ]
     },
     "metadata": {},
     "output_type": "display_data"
    },
    {
     "data": {
      "text/plain": [
       "'7633 >?= 7278.3 = 0.9 * union 8087 => True'"
      ]
     },
     "metadata": {},
     "output_type": "display_data"
    },
    {
     "data": {
      "text/plain": [
       "Pandas(Index=388, query_name='S1_398!NC_060948.1!46788532!46797477!-', query_length=8958, query_start=6, query_end=8930, strand='-', target_name='NC_060948.1', target_length=62460029, target_start=45231127, target_end=45240039, residue_matches=2527, alignment_block_length=8948, mapping_quality=2, tp='P', cm=196, s1=2527, s2=2495, rl=1089, experiment='t2tChrY-readst2tChrY-SVs-a0.99-d0.1-l10000', tool='winnowmap', read_name='S1_398', GT_ref='NC_060948.1', GT_from=46788532, GT_to=46797477, GT_strand='-', is_correct=True, start_diff=-1557405, end_diff=-1557438, read_sv='INV')"
      ]
     },
     "metadata": {},
     "output_type": "display_data"
    },
    {
     "data": {
      "text/plain": [
       "'           GT from 46788532 to 46797477'"
      ]
     },
     "metadata": {},
     "output_type": "display_data"
    },
    {
     "data": {
      "text/plain": [
       "'       target from 45231127 to 45240039'"
      ]
     },
     "metadata": {},
     "output_type": "display_data"
    },
    {
     "data": {
      "text/plain": [
       "'    GT_labels from 45231101 to 45240045'"
      ]
     },
     "metadata": {},
     "output_type": "display_data"
    },
    {
     "data": {
      "text/plain": [
       "'target_labels from 45231128 to 45240039'"
      ]
     },
     "metadata": {},
     "output_type": "display_data"
    },
    {
     "data": {
      "text/plain": [
       "'8912 >?= 8050.5 = 0.9 * union 8945 => True'"
      ]
     },
     "metadata": {},
     "output_type": "display_data"
    },
    {
     "data": {
      "text/plain": [
       "Pandas(Index=397, query_name='S1_403!NC_060948.1!52286186!52294918!+', query_length=8746, query_start=404, query_end=8744, strand='+', target_name='NC_060948.1', target_length=62460029, target_start=50548792, target_end=50555950, residue_matches=1989, alignment_block_length=8356, mapping_quality=0, tp='P', cm=155, s1=1882, s2=1625, rl=921, experiment='t2tChrY-readst2tChrY-SVs-a0.99-d0.1-l10000', tool='winnowmap', read_name='S1_403', GT_ref='NC_060948.1', GT_from=52286186, GT_to=52294918, GT_strand='+', is_correct=False, start_diff=-1737394, end_diff=-1738968, read_sv='INS')"
      ]
     },
     "metadata": {},
     "output_type": "display_data"
    },
    {
     "data": {
      "text/plain": [
       "'           GT from 52286186 to 52294918'"
      ]
     },
     "metadata": {},
     "output_type": "display_data"
    },
    {
     "data": {
      "text/plain": [
       "'       target from 50548792 to 50555950'"
      ]
     },
     "metadata": {},
     "output_type": "display_data"
    },
    {
     "data": {
      "text/plain": [
       "'    GT_labels from -107106 to 50555952'"
      ]
     },
     "metadata": {},
     "output_type": "display_data"
    },
    {
     "data": {
      "text/plain": [
       "'target_labels from 50548793 to 50555950'"
      ]
     },
     "metadata": {},
     "output_type": "display_data"
    },
    {
     "data": {
      "text/plain": [
       "'7158 >?= 7858.8 = 0.9 * union 8732 => False'"
      ]
     },
     "metadata": {},
     "output_type": "display_data"
    },
    {
     "data": {
      "text/plain": [
       "Pandas(Index=408, query_name='S1_413!NC_060948.1!664844!675991!+', query_length=11199, query_start=45, query_end=11166, strand='+', target_name='NC_060948.1', target_length=62460029, target_start=643142, target_end=653988, residue_matches=4703, alignment_block_length=11134, mapping_quality=60, tp='P', cm=356, s1=4664, s2=0, rl=255, experiment='t2tChrY-readst2tChrY-SVs-a0.99-d0.1-l10000', tool='winnowmap', read_name='S1_413', GT_ref='NC_060948.1', GT_from=664844, GT_to=675991, GT_strand='+', is_correct=True, start_diff=-21702, end_diff=-22003, read_sv='INV')"
      ]
     },
     "metadata": {},
     "output_type": "display_data"
    },
    {
     "data": {
      "text/plain": [
       "'           GT from 664844 to 675991'"
      ]
     },
     "metadata": {},
     "output_type": "display_data"
    },
    {
     "data": {
      "text/plain": [
       "'       target from 643142 to 653988'"
      ]
     },
     "metadata": {},
     "output_type": "display_data"
    },
    {
     "data": {
      "text/plain": [
       "'    GT_labels from -1927 to 654021'"
      ]
     },
     "metadata": {},
     "output_type": "display_data"
    },
    {
     "data": {
      "text/plain": [
       "'target_labels from 643143 to 653988'"
      ]
     },
     "metadata": {},
     "output_type": "display_data"
    },
    {
     "data": {
      "text/plain": [
       "'10846 >?= 10032.300000000001 = 0.9 * union 11147 => True'"
      ]
     },
     "metadata": {},
     "output_type": "display_data"
    },
    {
     "data": {
      "text/plain": [
       "Pandas(Index=418, query_name='S1_418!NC_060948.1!6456737!6465043!-', query_length=8353, query_start=55, query_end=8327, strand='-', target_name='NC_060948.1', target_length=62460029, target_start=6226812, target_end=6235037, residue_matches=3320, alignment_block_length=8288, mapping_quality=60, tp='P', cm=260, s1=3319, s2=0, rl=0, experiment='t2tChrY-readst2tChrY-SVs-a0.99-d0.1-l10000', tool='winnowmap', read_name='S1_418', GT_ref='NC_060948.1', GT_from=6456737, GT_to=6465043, GT_strand='-', is_correct=True, start_diff=-229925, end_diff=-230006, read_sv='DUP')"
      ]
     },
     "metadata": {},
     "output_type": "display_data"
    },
    {
     "data": {
      "text/plain": [
       "'           GT from 6456737 to 6465043'"
      ]
     },
     "metadata": {},
     "output_type": "display_data"
    },
    {
     "data": {
      "text/plain": [
       "'       target from 6226812 to 6235037'"
      ]
     },
     "metadata": {},
     "output_type": "display_data"
    },
    {
     "data": {
      "text/plain": [
       "'    GT_labels from 6226786 to 6235091'"
      ]
     },
     "metadata": {},
     "output_type": "display_data"
    },
    {
     "data": {
      "text/plain": [
       "'target_labels from 6226813 to 6235037'"
      ]
     },
     "metadata": {},
     "output_type": "display_data"
    },
    {
     "data": {
      "text/plain": [
       "'8225 >?= 7475.400000000001 = 0.9 * union 8306 => True'"
      ]
     },
     "metadata": {},
     "output_type": "display_data"
    },
    {
     "data": {
      "text/plain": [
       "Pandas(Index=426, query_name='S1_424!NC_060948.1!31545308!31556570!-', query_length=11300, query_start=85, query_end=11095, strand='-', target_name='NC_060948.1', target_length=62460029, target_start=60958376, target_end=60968746, residue_matches=2032, alignment_block_length=11035, mapping_quality=51, tp='P', cm=152, s1=1928, s2=1495, rl=592, experiment='t2tChrY-readst2tChrY-SVs-a0.99-d0.1-l10000', tool='winnowmap', read_name='S1_424', GT_ref='NC_060948.1', GT_from=31545308, GT_to=31556570, GT_strand='-', is_correct=False, start_diff=29413068, end_diff=29412176, read_sv='multi')"
      ]
     },
     "metadata": {},
     "output_type": "display_data"
    },
    {
     "data": {
      "text/plain": [
       "'           GT from 31545308 to 31556570'"
      ]
     },
     "metadata": {},
     "output_type": "display_data"
    },
    {
     "data": {
      "text/plain": [
       "'       target from 60958376 to 60968746'"
      ]
     },
     "metadata": {},
     "output_type": "display_data"
    },
    {
     "data": {
      "text/plain": [
       "'    GT_labels from 30481635 to 30490505'"
      ]
     },
     "metadata": {},
     "output_type": "display_data"
    },
    {
     "data": {
      "text/plain": [
       "'target_labels from 60958377 to 60968746'"
      ]
     },
     "metadata": {},
     "output_type": "display_data"
    },
    {
     "data": {
      "text/plain": [
       "'0 >?= 19468.8 = 0.9 * union 21632 => False'"
      ]
     },
     "metadata": {},
     "output_type": "display_data"
    },
    {
     "data": {
      "text/plain": [
       "Pandas(Index=427, query_name='S1_425!NC_060948.1!17838916!17851427!+', query_length=12554, query_start=7, query_end=12547, strand='+', target_name='NC_060948.1', target_length=62460029, target_start=17199155, target_end=17211652, residue_matches=5261, alignment_block_length=12564, mapping_quality=60, tp='P', cm=404, s1=5260, s2=0, rl=69, experiment='t2tChrY-readst2tChrY-SVs-a0.99-d0.1-l10000', tool='winnowmap', read_name='S1_425', GT_ref='NC_060948.1', GT_from=17838916, GT_to=17851427, GT_strand='+', is_correct=True, start_diff=-639761, end_diff=-639775, read_sv='INS')"
      ]
     },
     "metadata": {},
     "output_type": "display_data"
    },
    {
     "data": {
      "text/plain": [
       "'           GT from 17838916 to 17851427'"
      ]
     },
     "metadata": {},
     "output_type": "display_data"
    },
    {
     "data": {
      "text/plain": [
       "'       target from 17199155 to 17211652'"
      ]
     },
     "metadata": {},
     "output_type": "display_data"
    },
    {
     "data": {
      "text/plain": [
       "'    GT_labels from 17199149 to 17211659'"
      ]
     },
     "metadata": {},
     "output_type": "display_data"
    },
    {
     "data": {
      "text/plain": [
       "'target_labels from 17199156 to 17211652'"
      ]
     },
     "metadata": {},
     "output_type": "display_data"
    },
    {
     "data": {
      "text/plain": [
       "'12497 >?= 11259.9 = 0.9 * union 12511 => True'"
      ]
     },
     "metadata": {},
     "output_type": "display_data"
    },
    {
     "data": {
      "text/plain": [
       "Pandas(Index=428, query_name='S1_426!NC_060948.1!21792614!21804548!-', query_length=11977, query_start=40, query_end=11951, strand='-', target_name='NC_060948.1', target_length=62460029, target_start=21026898, target_end=21038765, residue_matches=4980, alignment_block_length=11936, mapping_quality=60, tp='P', cm=384, s1=4978, s2=0, rl=0, experiment='t2tChrY-readst2tChrY-SVs-a0.99-d0.1-l10000', tool='winnowmap', read_name='S1_426', GT_ref='NC_060948.1', GT_from=21792614, GT_to=21804548, GT_strand='-', is_correct=True, start_diff=-765716, end_diff=-765783, read_sv='DEL')"
      ]
     },
     "metadata": {},
     "output_type": "display_data"
    },
    {
     "data": {
      "text/plain": [
       "'           GT from 21792614 to 21804548'"
      ]
     },
     "metadata": {},
     "output_type": "display_data"
    },
    {
     "data": {
      "text/plain": [
       "'       target from 21026898 to 21038765'"
      ]
     },
     "metadata": {},
     "output_type": "display_data"
    },
    {
     "data": {
      "text/plain": [
       "'    GT_labels from 21026872 to 21038805'"
      ]
     },
     "metadata": {},
     "output_type": "display_data"
    },
    {
     "data": {
      "text/plain": [
       "'target_labels from 21026899 to 21038765'"
      ]
     },
     "metadata": {},
     "output_type": "display_data"
    },
    {
     "data": {
      "text/plain": [
       "'11867 >?= 10740.6 = 0.9 * union 11934 => True'"
      ]
     },
     "metadata": {},
     "output_type": "display_data"
    },
    {
     "data": {
      "text/plain": [
       "Pandas(Index=434, query_name='S1_431!NC_060948.1!49634503!49645786!+', query_length=11299, query_start=10, query_end=11249, strand='+', target_name='NC_060948.1', target_length=62460029, target_start=47979546, target_end=47990768, residue_matches=3187, alignment_block_length=11265, mapping_quality=60, tp='P', cm=251, s1=3187, s2=402, rl=120, experiment='t2tChrY-readst2tChrY-SVs-a0.99-d0.1-l10000', tool='winnowmap', read_name='S1_431', GT_ref='NC_060948.1', GT_from=49634503, GT_to=49645786, GT_strand='+', is_correct=True, start_diff=-1654957, end_diff=-1655018, read_sv='INV')"
      ]
     },
     "metadata": {},
     "output_type": "display_data"
    },
    {
     "data": {
      "text/plain": [
       "'           GT from 49634503 to 49645786'"
      ]
     },
     "metadata": {},
     "output_type": "display_data"
    },
    {
     "data": {
      "text/plain": [
       "'       target from 47979546 to 47990768'"
      ]
     },
     "metadata": {},
     "output_type": "display_data"
    },
    {
     "data": {
      "text/plain": [
       "'    GT_labels from 47979537 to 47990819'"
      ]
     },
     "metadata": {},
     "output_type": "display_data"
    },
    {
     "data": {
      "text/plain": [
       "'target_labels from 47979547 to 47990768'"
      ]
     },
     "metadata": {},
     "output_type": "display_data"
    },
    {
     "data": {
      "text/plain": [
       "'11222 >?= 10154.7 = 0.9 * union 11283 => True'"
      ]
     },
     "metadata": {},
     "output_type": "display_data"
    },
    {
     "data": {
      "text/plain": [
       "Pandas(Index=443, query_name='S1_436!NC_060948.1!29730507!29743427!-', query_length=12960, query_start=42, query_end=12915, strand='-', target_name='NC_060948.1', target_length=62460029, target_start=28776182, target_end=28789015, residue_matches=3813, alignment_block_length=12892, mapping_quality=0, tp='P', cm=298, s1=3813, s2=3813, rl=1233, experiment='t2tChrY-readst2tChrY-SVs-a0.99-d0.1-l10000', tool='winnowmap', read_name='S1_436', GT_ref='NC_060948.1', GT_from=29730507, GT_to=29743427, GT_strand='-', is_correct=False, start_diff=-954325, end_diff=-954412, read_sv='INS')"
      ]
     },
     "metadata": {},
     "output_type": "display_data"
    },
    {
     "data": {
      "text/plain": [
       "'           GT from 29730507 to 29743427'"
      ]
     },
     "metadata": {},
     "output_type": "display_data"
    },
    {
     "data": {
      "text/plain": [
       "'       target from 28776182 to 28789015'"
      ]
     },
     "metadata": {},
     "output_type": "display_data"
    },
    {
     "data": {
      "text/plain": [
       "'    GT_labels from 28727182 to 28740101'"
      ]
     },
     "metadata": {},
     "output_type": "display_data"
    },
    {
     "data": {
      "text/plain": [
       "'target_labels from 28776183 to 28789015'"
      ]
     },
     "metadata": {},
     "output_type": "display_data"
    },
    {
     "data": {
      "text/plain": [
       "'0 >?= 23177.7 = 0.9 * union 25753 => False'"
      ]
     },
     "metadata": {},
     "output_type": "display_data"
    },
    {
     "data": {
      "text/plain": [
       "Pandas(Index=446, query_name='S1_439!NC_060948.1!29325442!29334072!+', query_length=8643, query_start=31, query_end=8627, strand='+', target_name='NC_060948.1', target_length=62460029, target_start=28341562, target_end=28350146, residue_matches=2436, alignment_block_length=8617, mapping_quality=21, tp='P', cm=184, s1=2436, s2=2214, rl=766, experiment='t2tChrY-readst2tChrY-SVs-a0.99-d0.1-l10000', tool='winnowmap', read_name='S1_439', GT_ref='NC_060948.1', GT_from=29325442, GT_to=29334072, GT_strand='+', is_correct=True, start_diff=-983880, end_diff=-983926, read_sv='INS')"
      ]
     },
     "metadata": {},
     "output_type": "display_data"
    },
    {
     "data": {
      "text/plain": [
       "'           GT from 29325442 to 29334072'"
      ]
     },
     "metadata": {},
     "output_type": "display_data"
    },
    {
     "data": {
      "text/plain": [
       "'       target from 28341562 to 28350146'"
      ]
     },
     "metadata": {},
     "output_type": "display_data"
    },
    {
     "data": {
      "text/plain": [
       "'    GT_labels from 28341532 to 28350161'"
      ]
     },
     "metadata": {},
     "output_type": "display_data"
    },
    {
     "data": {
      "text/plain": [
       "'target_labels from 28341563 to 28350146'"
      ]
     },
     "metadata": {},
     "output_type": "display_data"
    },
    {
     "data": {
      "text/plain": [
       "'8584 >?= 7767.0 = 0.9 * union 8630 => True'"
      ]
     },
     "metadata": {},
     "output_type": "display_data"
    },
    {
     "data": {
      "text/plain": [
       "Pandas(Index=448, query_name='S1_440!NC_060948.1!61942734!61956456!-', query_length=13755, query_start=148, query_end=13662, strand='-', target_name='NC_060948.1', target_length=62460029, target_start=59878762, target_end=59889100, residue_matches=2816, alignment_block_length=13535, mapping_quality=60, tp='P', cm=220, s1=2328, s2=377, rl=195, experiment='t2tChrY-readst2tChrY-SVs-a0.99-d0.1-l10000', tool='winnowmap', read_name='S1_440', GT_ref='NC_060948.1', GT_from=61942734, GT_to=61956456, GT_strand='-', is_correct=False, start_diff=-2063972, end_diff=-2067356, read_sv='INS')"
      ]
     },
     "metadata": {},
     "output_type": "display_data"
    },
    {
     "data": {
      "text/plain": [
       "'           GT from 61942734 to 61956456'"
      ]
     },
     "metadata": {},
     "output_type": "display_data"
    },
    {
     "data": {
      "text/plain": [
       "'       target from 59878762 to 59889100'"
      ]
     },
     "metadata": {},
     "output_type": "display_data"
    },
    {
     "data": {
      "text/plain": [
       "'    GT_labels from 59878672 to 59889249'"
      ]
     },
     "metadata": {},
     "output_type": "display_data"
    },
    {
     "data": {
      "text/plain": [
       "'target_labels from 59878763 to 59889100'"
      ]
     },
     "metadata": {},
     "output_type": "display_data"
    },
    {
     "data": {
      "text/plain": [
       "'10338 >?= 12349.800000000001 = 0.9 * union 13722 => False'"
      ]
     },
     "metadata": {},
     "output_type": "display_data"
    },
    {
     "data": {
      "text/plain": [
       "Pandas(Index=449, query_name='S1_441!NC_060948.1!20221927!20233937!+', query_length=12042, query_start=11, query_end=12034, strand='+', target_name='NC_060948.1', target_length=62460029, target_start=19484092, target_end=19496083, residue_matches=5149, alignment_block_length=12046, mapping_quality=60, tp='P', cm=401, s1=5149, s2=3935, rl=0, experiment='t2tChrY-readst2tChrY-SVs-a0.99-d0.1-l10000', tool='winnowmap', read_name='S1_441', GT_ref='NC_060948.1', GT_from=20221927, GT_to=20233937, GT_strand='+', is_correct=True, start_diff=-737835, end_diff=-737854, read_sv='INV')"
      ]
     },
     "metadata": {},
     "output_type": "display_data"
    },
    {
     "data": {
      "text/plain": [
       "'           GT from 20221927 to 20233937'"
      ]
     },
     "metadata": {},
     "output_type": "display_data"
    },
    {
     "data": {
      "text/plain": [
       "'       target from 19484092 to 19496083'"
      ]
     },
     "metadata": {},
     "output_type": "display_data"
    },
    {
     "data": {
      "text/plain": [
       "'    GT_labels from 19484082 to 19496091'"
      ]
     },
     "metadata": {},
     "output_type": "display_data"
    },
    {
     "data": {
      "text/plain": [
       "'target_labels from 19484093 to 19496083'"
      ]
     },
     "metadata": {},
     "output_type": "display_data"
    },
    {
     "data": {
      "text/plain": [
       "'11991 >?= 10809.0 = 0.9 * union 12010 => True'"
      ]
     },
     "metadata": {},
     "output_type": "display_data"
    },
    {
     "data": {
      "text/plain": [
       "Pandas(Index=451, query_name='S1_443!NC_060948.1!61875531!61883632!+', query_length=8134, query_start=96, query_end=8129, strand='+', target_name='NC_060948.1', target_length=62460029, target_start=59811565, target_end=59819564, residue_matches=2287, alignment_block_length=8046, mapping_quality=42, tp='P', cm=174, s1=2287, s2=1850, rl=870, experiment='t2tChrY-readst2tChrY-SVs-a0.99-d0.1-l10000', tool='winnowmap', read_name='S1_443', GT_ref='NC_060948.1', GT_from=61875531, GT_to=61883632, GT_strand='+', is_correct=True, start_diff=-2063966, end_diff=-2064068, read_sv='multi')"
      ]
     },
     "metadata": {},
     "output_type": "display_data"
    },
    {
     "data": {
      "text/plain": [
       "'           GT from 61875531 to 61883632'"
      ]
     },
     "metadata": {},
     "output_type": "display_data"
    },
    {
     "data": {
      "text/plain": [
       "'       target from 59811565 to 59819564'"
      ]
     },
     "metadata": {},
     "output_type": "display_data"
    },
    {
     "data": {
      "text/plain": [
       "'    GT_labels from 59811469 to 59819569'"
      ]
     },
     "metadata": {},
     "output_type": "display_data"
    },
    {
     "data": {
      "text/plain": [
       "'target_labels from 59811566 to 59819564'"
      ]
     },
     "metadata": {},
     "output_type": "display_data"
    },
    {
     "data": {
      "text/plain": [
       "'7999 >?= 7290.900000000001 = 0.9 * union 8101 => True'"
      ]
     },
     "metadata": {},
     "output_type": "display_data"
    },
    {
     "data": {
      "text/plain": [
       "Pandas(Index=454, query_name='S1_446!NC_060948.1!4234167!4244613!-', query_length=10474, query_start=21, query_end=10456, strand='-', target_name='NC_060948.1', target_length=62460029, target_start=4078701, target_end=4089108, residue_matches=4194, alignment_block_length=10478, mapping_quality=60, tp='P', cm=317, s1=4184, s2=0, rl=195, experiment='t2tChrY-readst2tChrY-SVs-a0.99-d0.1-l10000', tool='winnowmap', read_name='S1_446', GT_ref='NC_060948.1', GT_from=4234167, GT_to=4244613, GT_strand='-', is_correct=True, start_diff=-155466, end_diff=-155505, read_sv='INV')"
      ]
     },
     "metadata": {},
     "output_type": "display_data"
    },
    {
     "data": {
      "text/plain": [
       "'           GT from 4234167 to 4244613'"
      ]
     },
     "metadata": {},
     "output_type": "display_data"
    },
    {
     "data": {
      "text/plain": [
       "'       target from 4078701 to 4089108'"
      ]
     },
     "metadata": {},
     "output_type": "display_data"
    },
    {
     "data": {
      "text/plain": [
       "'    GT_labels from 4078684 to 4089129'"
      ]
     },
     "metadata": {},
     "output_type": "display_data"
    },
    {
     "data": {
      "text/plain": [
       "'target_labels from 4078702 to 4089108'"
      ]
     },
     "metadata": {},
     "output_type": "display_data"
    },
    {
     "data": {
      "text/plain": [
       "'10407 >?= 9401.4 = 0.9 * union 10446 => True'"
      ]
     },
     "metadata": {},
     "output_type": "display_data"
    },
    {
     "data": {
      "text/plain": [
       "Pandas(Index=455, query_name='S1_447!NC_060948.1!49683085!49694244!+', query_length=11196, query_start=56, query_end=11150, strand='+', target_name='NC_060948.1', target_length=62460029, target_start=48028174, target_end=48039231, residue_matches=3160, alignment_block_length=11108, mapping_quality=60, tp='P', cm=244, s1=3160, s2=0, rl=255, experiment='t2tChrY-readst2tChrY-SVs-a0.99-d0.1-l10000', tool='winnowmap', read_name='S1_447', GT_ref='NC_060948.1', GT_from=49683085, GT_to=49694244, GT_strand='+', is_correct=True, start_diff=-1654911, end_diff=-1655013, read_sv='INV')"
      ]
     },
     "metadata": {},
     "output_type": "display_data"
    },
    {
     "data": {
      "text/plain": [
       "'           GT from 49683085 to 49694244'"
      ]
     },
     "metadata": {},
     "output_type": "display_data"
    },
    {
     "data": {
      "text/plain": [
       "'       target from 48028174 to 48039231'"
      ]
     },
     "metadata": {},
     "output_type": "display_data"
    },
    {
     "data": {
      "text/plain": [
       "'    GT_labels from 48028119 to 48039277'"
      ]
     },
     "metadata": {},
     "output_type": "display_data"
    },
    {
     "data": {
      "text/plain": [
       "'target_labels from 48028175 to 48039231'"
      ]
     },
     "metadata": {},
     "output_type": "display_data"
    },
    {
     "data": {
      "text/plain": [
       "'11057 >?= 10043.1 = 0.9 * union 11159 => True'"
      ]
     },
     "metadata": {},
     "output_type": "display_data"
    },
    {
     "data": {
      "text/plain": [
       "Pandas(Index=462, query_name='S1_450!NC_060948.1!27541776!27550456!-', query_length=8697, query_start=1, query_end=8688, strand='-', target_name='NC_060948.1', target_length=62460029, target_start=26596887, target_end=26605557, residue_matches=3495, alignment_block_length=8707, mapping_quality=8, tp='P', cm=272, s1=3495, s2=3404, rl=0, experiment='t2tChrY-readst2tChrY-SVs-a0.99-d0.1-l10000', tool='winnowmap', read_name='S1_450', GT_ref='NC_060948.1', GT_from=27541776, GT_to=27550456, GT_strand='-', is_correct=True, start_diff=-944889, end_diff=-944899, read_sv='DUP')"
      ]
     },
     "metadata": {},
     "output_type": "display_data"
    },
    {
     "data": {
      "text/plain": [
       "'           GT from 27541776 to 27550456'"
      ]
     },
     "metadata": {},
     "output_type": "display_data"
    },
    {
     "data": {
      "text/plain": [
       "'       target from 26596887 to 26605557'"
      ]
     },
     "metadata": {},
     "output_type": "display_data"
    },
    {
     "data": {
      "text/plain": [
       "'    GT_labels from 26596879 to 26605558'"
      ]
     },
     "metadata": {},
     "output_type": "display_data"
    },
    {
     "data": {
      "text/plain": [
       "'target_labels from 26596888 to 26605557'"
      ]
     },
     "metadata": {},
     "output_type": "display_data"
    },
    {
     "data": {
      "text/plain": [
       "'8670 >?= 7812.0 = 0.9 * union 8680 => True'"
      ]
     },
     "metadata": {},
     "output_type": "display_data"
    },
    {
     "data": {
      "text/plain": [
       "Pandas(Index=464, query_name='S1_452!NC_060948.1!26086568!26093677!-', query_length=7112, query_start=49, query_end=7080, strand='-', target_name='NC_060948.1', target_length=62460029, target_start=26793656, target_end=26800683, residue_matches=2950, alignment_block_length=7056, mapping_quality=0, tp='P', cm=224, s1=2949, s2=2949, rl=0, experiment='t2tChrY-readst2tChrY-SVs-a0.99-d0.1-l10000', tool='winnowmap', read_name='S1_452', GT_ref='NC_060948.1', GT_from=26086568, GT_to=26093677, GT_strand='-', is_correct=False, start_diff=707088, end_diff=707006, read_sv='multi')"
      ]
     },
     "metadata": {},
     "output_type": "display_data"
    },
    {
     "data": {
      "text/plain": [
       "'           GT from 26086568 to 26093677'"
      ]
     },
     "metadata": {},
     "output_type": "display_data"
    },
    {
     "data": {
      "text/plain": [
       "'       target from 26793656 to 26800683'"
      ]
     },
     "metadata": {},
     "output_type": "display_data"
    },
    {
     "data": {
      "text/plain": [
       "'    GT_labels from 25173674 to 25180782'"
      ]
     },
     "metadata": {},
     "output_type": "display_data"
    },
    {
     "data": {
      "text/plain": [
       "'target_labels from 26793657 to 26800683'"
      ]
     },
     "metadata": {},
     "output_type": "display_data"
    },
    {
     "data": {
      "text/plain": [
       "'0 >?= 12722.4 = 0.9 * union 14136 => False'"
      ]
     },
     "metadata": {},
     "output_type": "display_data"
    },
    {
     "data": {
      "text/plain": [
       "Pandas(Index=466, query_name='S1_454!NC_060948.1!43296794!43304822!-', query_length=8052, query_start=49, query_end=7978, strand='-', target_name='NC_060948.1', target_length=62460029, target_start=41853361, target_end=41861265, residue_matches=2464, alignment_block_length=7945, mapping_quality=6, tp='P', cm=182, s1=2463, s2=2390, rl=908, experiment='t2tChrY-readst2tChrY-SVs-a0.99-d0.1-l10000', tool='winnowmap', read_name='S1_454', GT_ref='NC_060948.1', GT_from=43296794, GT_to=43304822, GT_strand='-', is_correct=True, start_diff=-1443433, end_diff=-1443557, read_sv='DEL')"
      ]
     },
     "metadata": {},
     "output_type": "display_data"
    },
    {
     "data": {
      "text/plain": [
       "'           GT from 43296794 to 43304822'"
      ]
     },
     "metadata": {},
     "output_type": "display_data"
    },
    {
     "data": {
      "text/plain": [
       "'       target from 41853361 to 41861265'"
      ]
     },
     "metadata": {},
     "output_type": "display_data"
    },
    {
     "data": {
      "text/plain": [
       "'    GT_labels from 41853287 to 41861314'"
      ]
     },
     "metadata": {},
     "output_type": "display_data"
    },
    {
     "data": {
      "text/plain": [
       "'target_labels from 41853362 to 41861265'"
      ]
     },
     "metadata": {},
     "output_type": "display_data"
    },
    {
     "data": {
      "text/plain": [
       "'7904 >?= 7225.2 = 0.9 * union 8028 => True'"
      ]
     },
     "metadata": {},
     "output_type": "display_data"
    },
    {
     "data": {
      "text/plain": [
       "Pandas(Index=469, query_name='S1_457!NC_060948.1!39244343!39255484!+', query_length=11175, query_start=1, query_end=11149, strand='+', target_name='NC_060948.1', target_length=62460029, target_start=37940995, target_end=37952459, residue_matches=2995, alignment_block_length=11518, mapping_quality=4, tp='P', cm=220, s1=2935, s2=2880, rl=1345, experiment='t2tChrY-readst2tChrY-SVs-a0.99-d0.1-l10000', tool='winnowmap', read_name='S1_457', GT_ref='NC_060948.1', GT_from=39244343, GT_to=39255484, GT_strand='+', is_correct=True, start_diff=-1303348, end_diff=-1303025, read_sv='DUP')"
      ]
     },
     "metadata": {},
     "output_type": "display_data"
    },
    {
     "data": {
      "text/plain": [
       "'           GT from 39244343 to 39255484'"
      ]
     },
     "metadata": {},
     "output_type": "display_data"
    },
    {
     "data": {
      "text/plain": [
       "'       target from 37940995 to 37952459'"
      ]
     },
     "metadata": {},
     "output_type": "display_data"
    },
    {
     "data": {
      "text/plain": [
       "'    GT_labels from 37940995 to 37952485'"
      ]
     },
     "metadata": {},
     "output_type": "display_data"
    },
    {
     "data": {
      "text/plain": [
       "'target_labels from 37940996 to 37952459'"
      ]
     },
     "metadata": {},
     "output_type": "display_data"
    },
    {
     "data": {
      "text/plain": [
       "'11114 >?= 10341.9 = 0.9 * union 11491 => True'"
      ]
     },
     "metadata": {},
     "output_type": "display_data"
    },
    {
     "data": {
      "text/plain": [
       "Pandas(Index=473, query_name='S1_460!NC_060948.1!56605385!56617465!-', query_length=12103, query_start=110, query_end=12083, strand='-', target_name='NC_060948.1', target_length=62460029, target_start=54722540, target_end=54734490, residue_matches=3407, alignment_block_length=11996, mapping_quality=60, tp='P', cm=261, s1=3406, s2=307, rl=153, experiment='t2tChrY-readst2tChrY-SVs-a0.99-d0.1-l10000', tool='winnowmap', read_name='S1_460', GT_ref='NC_060948.1', GT_from=56605385, GT_to=56617465, GT_strand='-', is_correct=True, start_diff=-1882845, end_diff=-1882975, read_sv='INV')"
      ]
     },
     "metadata": {},
     "output_type": "display_data"
    },
    {
     "data": {
      "text/plain": [
       "'           GT from 56605385 to 56617465'"
      ]
     },
     "metadata": {},
     "output_type": "display_data"
    },
    {
     "data": {
      "text/plain": [
       "'       target from 54722540 to 54734490'"
      ]
     },
     "metadata": {},
     "output_type": "display_data"
    },
    {
     "data": {
      "text/plain": [
       "'    GT_labels from 54722521 to 54734600'"
      ]
     },
     "metadata": {},
     "output_type": "display_data"
    },
    {
     "data": {
      "text/plain": [
       "'target_labels from 54722541 to 54734490'"
      ]
     },
     "metadata": {},
     "output_type": "display_data"
    },
    {
     "data": {
      "text/plain": [
       "'11950 >?= 10872.0 = 0.9 * union 12080 => True'"
      ]
     },
     "metadata": {},
     "output_type": "display_data"
    },
    {
     "data": {
      "text/plain": [
       "Pandas(Index=474, query_name='S1_461!NC_060948.1!51740631!51750204!+', query_length=9589, query_start=52, query_end=9505, strand='+', target_name='NC_060948.1', target_length=62460029, target_start=50013390, target_end=50022827, residue_matches=2994, alignment_block_length=9470, mapping_quality=23, tp='P', cm=231, s1=2993, s2=2698, rl=944, experiment='t2tChrY-readst2tChrY-SVs-a0.99-d0.1-l10000', tool='winnowmap', read_name='S1_461', GT_ref='NC_060948.1', GT_from=51740631, GT_to=51750204, GT_strand='+', is_correct=True, start_diff=-1727241, end_diff=-1727377, read_sv='INS')"
      ]
     },
     "metadata": {},
     "output_type": "display_data"
    },
    {
     "data": {
      "text/plain": [
       "'           GT from 51740631 to 51750204'"
      ]
     },
     "metadata": {},
     "output_type": "display_data"
    },
    {
     "data": {
      "text/plain": [
       "'       target from 50013390 to 50022827'"
      ]
     },
     "metadata": {},
     "output_type": "display_data"
    },
    {
     "data": {
      "text/plain": [
       "'    GT_labels from 50013339 to 50022911'"
      ]
     },
     "metadata": {},
     "output_type": "display_data"
    },
    {
     "data": {
      "text/plain": [
       "'target_labels from 50013391 to 50022827'"
      ]
     },
     "metadata": {},
     "output_type": "display_data"
    },
    {
     "data": {
      "text/plain": [
       "'9437 >?= 8615.7 = 0.9 * union 9573 => True'"
      ]
     },
     "metadata": {},
     "output_type": "display_data"
    },
    {
     "data": {
      "text/plain": [
       "Pandas(Index=477, query_name='S1_464!NC_060948.1!41279551!41287708!-', query_length=8192, query_start=78, query_end=6722, strand='-', target_name='NC_060948.1', target_length=62460029, target_start=45162692, target_end=45169616, residue_matches=1579, alignment_block_length=6953, mapping_quality=0, tp='P', cm=121, s1=1530, s2=1530, rl=828, experiment='t2tChrY-readst2tChrY-SVs-a0.99-d0.1-l10000', tool='winnowmap', read_name='S1_464', GT_ref='NC_060948.1', GT_from=41279551, GT_to=41287708, GT_strand='-', is_correct=False, start_diff=3883141, end_diff=3881908, read_sv='DEL')"
      ]
     },
     "metadata": {},
     "output_type": "display_data"
    },
    {
     "data": {
      "text/plain": [
       "'           GT from 41279551 to 41287708'"
      ]
     },
     "metadata": {},
     "output_type": "display_data"
    },
    {
     "data": {
      "text/plain": [
       "'       target from 45162692 to 45169616'"
      ]
     },
     "metadata": {},
     "output_type": "display_data"
    },
    {
     "data": {
      "text/plain": [
       "'    GT_labels from 39908365 to 39913001'"
      ]
     },
     "metadata": {},
     "output_type": "display_data"
    },
    {
     "data": {
      "text/plain": [
       "'target_labels from 45162693 to 45169616'"
      ]
     },
     "metadata": {},
     "output_type": "display_data"
    },
    {
     "data": {
      "text/plain": [
       "'0 >?= 13572.9 = 0.9 * union 15081 => False'"
      ]
     },
     "metadata": {},
     "output_type": "display_data"
    },
    {
     "data": {
      "text/plain": [
       "Pandas(Index=479, query_name='S1_464!NC_060948.1!41279551!41287708!-', query_length=8192, query_start=7513, query_end=7886, strand='-', target_name='NC_060948.1', target_length=62460029, target_start=61449160, target_end=61449532, residue_matches=131, alignment_block_length=373, mapping_quality=15, tp='P', cm=9, s1=131, s2=116, rl=828, experiment='t2tChrY-readst2tChrY-SVs-a0.99-d0.1-l10000', tool='winnowmap', read_name='S1_464', GT_ref='NC_060948.1', GT_from=41279551, GT_to=41287708, GT_strand='-', is_correct=False, start_diff=20169609, end_diff=20161824, read_sv='DEL')"
      ]
     },
     "metadata": {},
     "output_type": "display_data"
    },
    {
     "data": {
      "text/plain": [
       "'           GT from 41279551 to 41287708'"
      ]
     },
     "metadata": {},
     "output_type": "display_data"
    },
    {
     "data": {
      "text/plain": [
       "'       target from 61449160 to 61449532'"
      ]
     },
     "metadata": {},
     "output_type": "display_data"
    },
    {
     "data": {
      "text/plain": [
       "'    GT_labels from 39908365 to 39913001'"
      ]
     },
     "metadata": {},
     "output_type": "display_data"
    },
    {
     "data": {
      "text/plain": [
       "'target_labels from 61449161 to 61449532'"
      ]
     },
     "metadata": {},
     "output_type": "display_data"
    },
    {
     "data": {
      "text/plain": [
       "'0 >?= 7676.1 = 0.9 * union 8529 => False'"
      ]
     },
     "metadata": {},
     "output_type": "display_data"
    },
    {
     "data": {
      "text/plain": [
       "Pandas(Index=481, query_name='S1_466!NC_060948.1!34155436!34172219!-', query_length=16837, query_start=51, query_end=16260, strand='-', target_name='NC_060948.1', target_length=62460029, target_start=33015445, target_end=33032586, residue_matches=4017, alignment_block_length=17208, mapping_quality=60, tp='P', cm=323, s1=3862, s2=403, rl=480, experiment='t2tChrY-readst2tChrY-SVs-a0.99-d0.1-l10000', tool='winnowmap', read_name='S1_466', GT_ref='NC_060948.1', GT_from=34155436, GT_to=34172219, GT_strand='-', is_correct=False, start_diff=-1139991, end_diff=-1139633, read_sv='multi')"
      ]
     },
     "metadata": {},
     "output_type": "display_data"
    },
    {
     "data": {
      "text/plain": [
       "'           GT from 34155436 to 34172219'"
      ]
     },
     "metadata": {},
     "output_type": "display_data"
    },
    {
     "data": {
      "text/plain": [
       "'       target from 33015445 to 33032586'"
      ]
     },
     "metadata": {},
     "output_type": "display_data"
    },
    {
     "data": {
      "text/plain": [
       "'    GT_labels from 33020267 to 33032636'"
      ]
     },
     "metadata": {},
     "output_type": "display_data"
    },
    {
     "data": {
      "text/plain": [
       "'target_labels from 33015446 to 33032586'"
      ]
     },
     "metadata": {},
     "output_type": "display_data"
    },
    {
     "data": {
      "text/plain": [
       "'12320 >?= 19443.600000000002 = 0.9 * union 21604 => False'"
      ]
     },
     "metadata": {},
     "output_type": "display_data"
    },
    {
     "data": {
      "text/plain": [
       "Pandas(Index=482, query_name='S1_466!NC_060948.1!34155436!34172219!-', query_length=16837, query_start=16311, query_end=16834, strand='-', target_name='NC_060948.1', target_length=62460029, target_start=51341680, target_end=51342201, residue_matches=90, alignment_block_length=523, mapping_quality=0, tp='P', cm=6, s1=90, s2=90, rl=480, experiment='t2tChrY-readst2tChrY-SVs-a0.99-d0.1-l10000', tool='winnowmap', read_name='S1_466', GT_ref='NC_060948.1', GT_from=34155436, GT_to=34172219, GT_strand='-', is_correct=False, start_diff=17186244, end_diff=17169982, read_sv='multi')"
      ]
     },
     "metadata": {},
     "output_type": "display_data"
    },
    {
     "data": {
      "text/plain": [
       "'           GT from 34155436 to 34172219'"
      ]
     },
     "metadata": {},
     "output_type": "display_data"
    },
    {
     "data": {
      "text/plain": [
       "'       target from 51341680 to 51342201'"
      ]
     },
     "metadata": {},
     "output_type": "display_data"
    },
    {
     "data": {
      "text/plain": [
       "'    GT_labels from 33020267 to 33032636'"
      ]
     },
     "metadata": {},
     "output_type": "display_data"
    },
    {
     "data": {
      "text/plain": [
       "'target_labels from 51341681 to 51342201'"
      ]
     },
     "metadata": {},
     "output_type": "display_data"
    },
    {
     "data": {
      "text/plain": [
       "'0 >?= 15573.6 = 0.9 * union 17304 => False'"
      ]
     },
     "metadata": {},
     "output_type": "display_data"
    },
    {
     "data": {
      "text/plain": [
       "Pandas(Index=484, query_name='S1_468!NC_060948.1!41147905!41155428!-', query_length=7557, query_start=65, query_end=7507, strand='-', target_name='NC_060948.1', target_length=62460029, target_start=39779994, target_end=39787402, residue_matches=2062, alignment_block_length=7453, mapping_quality=4, tp='P', cm=158, s1=2059, s2=2015, rl=865, experiment='t2tChrY-readst2tChrY-SVs-a0.99-d0.1-l10000', tool='winnowmap', read_name='S1_468', GT_ref='NC_060948.1', GT_from=41147905, GT_to=41155428, GT_strand='-', is_correct=True, start_diff=-1367911, end_diff=-1368026, read_sv='multi')"
      ]
     },
     "metadata": {},
     "output_type": "display_data"
    },
    {
     "data": {
      "text/plain": [
       "'           GT from 41147905 to 41155428'"
      ]
     },
     "metadata": {},
     "output_type": "display_data"
    },
    {
     "data": {
      "text/plain": [
       "'       target from 39779994 to 39787402'"
      ]
     },
     "metadata": {},
     "output_type": "display_data"
    },
    {
     "data": {
      "text/plain": [
       "'    GT_labels from 39779945 to 39787467'"
      ]
     },
     "metadata": {},
     "output_type": "display_data"
    },
    {
     "data": {
      "text/plain": [
       "'target_labels from 39779995 to 39787402'"
      ]
     },
     "metadata": {},
     "output_type": "display_data"
    },
    {
     "data": {
      "text/plain": [
       "'7408 >?= 6770.7 = 0.9 * union 7523 => True'"
      ]
     },
     "metadata": {},
     "output_type": "display_data"
    },
    {
     "data": {
      "text/plain": [
       "Pandas(Index=486, query_name='S1_47!NC_060948.1!29993788!30007567!+', query_length=13806, query_start=7, query_end=13762, strand='+', target_name='NC_060948.1', target_length=62460029, target_start=28974827, target_end=28988556, residue_matches=4307, alignment_block_length=13784, mapping_quality=60, tp='P', cm=330, s1=4306, s2=319, rl=30, experiment='t2tChrY-readst2tChrY-SVs-a0.99-d0.1-l10000', tool='winnowmap', read_name='S1_47', GT_ref='NC_060948.1', GT_from=29993788, GT_to=30007567, GT_strand='+', is_correct=True, start_diff=-1018961, end_diff=-1019011, read_sv='INV')"
      ]
     },
     "metadata": {},
     "output_type": "display_data"
    },
    {
     "data": {
      "text/plain": [
       "'           GT from 29993788 to 30007567'"
      ]
     },
     "metadata": {},
     "output_type": "display_data"
    },
    {
     "data": {
      "text/plain": [
       "'       target from 28974827 to 28988556'"
      ]
     },
     "metadata": {},
     "output_type": "display_data"
    },
    {
     "data": {
      "text/plain": [
       "'    GT_labels from 28974821 to 28988599'"
      ]
     },
     "metadata": {},
     "output_type": "display_data"
    },
    {
     "data": {
      "text/plain": [
       "'target_labels from 28974828 to 28988556'"
      ]
     },
     "metadata": {},
     "output_type": "display_data"
    },
    {
     "data": {
      "text/plain": [
       "'13729 >?= 12401.1 = 0.9 * union 13779 => True'"
      ]
     },
     "metadata": {},
     "output_type": "display_data"
    },
    {
     "data": {
      "text/plain": [
       "Pandas(Index=490, query_name='S1_473!NC_060948.1!29076890!29084723!+', query_length=7863, query_start=31, query_end=7823, strand='+', target_name='NC_060948.1', target_length=62460029, target_start=28095529, target_end=28103292, residue_matches=2272, alignment_block_length=7807, mapping_quality=25, tp='P', cm=170, s1=2271, s2=2034, rl=633, experiment='t2tChrY-readst2tChrY-SVs-a0.99-d0.1-l10000', tool='winnowmap', read_name='S1_473', GT_ref='NC_060948.1', GT_from=29076890, GT_to=29084723, GT_strand='+', is_correct=True, start_diff=-981361, end_diff=-981431, read_sv='multi')"
      ]
     },
     "metadata": {},
     "output_type": "display_data"
    },
    {
     "data": {
      "text/plain": [
       "'           GT from 29076890 to 29084723'"
      ]
     },
     "metadata": {},
     "output_type": "display_data"
    },
    {
     "data": {
      "text/plain": [
       "'       target from 28095529 to 28103292'"
      ]
     },
     "metadata": {},
     "output_type": "display_data"
    },
    {
     "data": {
      "text/plain": [
       "'    GT_labels from 28095500 to 28103332'"
      ]
     },
     "metadata": {},
     "output_type": "display_data"
    },
    {
     "data": {
      "text/plain": [
       "'target_labels from 28095530 to 28103292'"
      ]
     },
     "metadata": {},
     "output_type": "display_data"
    },
    {
     "data": {
      "text/plain": [
       "'7763 >?= 7049.7 = 0.9 * union 7833 => True'"
      ]
     },
     "metadata": {},
     "output_type": "display_data"
    },
    {
     "data": {
      "text/plain": [
       "Pandas(Index=491, query_name='S1_474!NC_060948.1!29369468!29377888!-', query_length=8440, query_start=40, query_end=8398, strand='-', target_name='NC_060948.1', target_length=62460029, target_start=28379504, target_end=28387842, residue_matches=2483, alignment_block_length=8376, mapping_quality=46, tp='P', cm=189, s1=2482, s2=1990, rl=811, experiment='t2tChrY-readst2tChrY-SVs-a0.99-d0.1-l10000', tool='winnowmap', read_name='S1_474', GT_ref='NC_060948.1', GT_from=29369468, GT_to=29377888, GT_strand='-', is_correct=True, start_diff=-989964, end_diff=-990046, read_sv='DEL')"
      ]
     },
     "metadata": {},
     "output_type": "display_data"
    },
    {
     "data": {
      "text/plain": [
       "'           GT from 29369468 to 29377888'"
      ]
     },
     "metadata": {},
     "output_type": "display_data"
    },
    {
     "data": {
      "text/plain": [
       "'       target from 28379504 to 28387842'"
      ]
     },
     "metadata": {},
     "output_type": "display_data"
    },
    {
     "data": {
      "text/plain": [
       "'    GT_labels from 28379463 to 28387882'"
      ]
     },
     "metadata": {},
     "output_type": "display_data"
    },
    {
     "data": {
      "text/plain": [
       "'target_labels from 28379505 to 28387842'"
      ]
     },
     "metadata": {},
     "output_type": "display_data"
    },
    {
     "data": {
      "text/plain": [
       "'8338 >?= 7578.0 = 0.9 * union 8420 => True'"
      ]
     },
     "metadata": {},
     "output_type": "display_data"
    },
    {
     "data": {
      "text/plain": [
       "Pandas(Index=492, query_name='S1_475!NC_060948.1!50289467!50297005!+', query_length=7555, query_start=219, query_end=7506, strand='+', target_name='NC_060948.1', target_length=62460029, target_start=48622780, target_end=48630055, residue_matches=1911, alignment_block_length=7300, mapping_quality=29, tp='P', cm=145, s1=1911, s2=1641, rl=846, experiment='t2tChrY-readst2tChrY-SVs-a0.99-d0.1-l10000', tool='winnowmap', read_name='S1_475', GT_ref='NC_060948.1', GT_from=50289467, GT_to=50297005, GT_strand='+', is_correct=True, start_diff=-1666687, end_diff=-1666950, read_sv='INS')"
      ]
     },
     "metadata": {},
     "output_type": "display_data"
    },
    {
     "data": {
      "text/plain": [
       "'           GT from 50289467 to 50297005'"
      ]
     },
     "metadata": {},
     "output_type": "display_data"
    },
    {
     "data": {
      "text/plain": [
       "'       target from 48622780 to 48630055'"
      ]
     },
     "metadata": {},
     "output_type": "display_data"
    },
    {
     "data": {
      "text/plain": [
       "'    GT_labels from 48622566 to 48630103'"
      ]
     },
     "metadata": {},
     "output_type": "display_data"
    },
    {
     "data": {
      "text/plain": [
       "'target_labels from 48622781 to 48630055'"
      ]
     },
     "metadata": {},
     "output_type": "display_data"
    },
    {
     "data": {
      "text/plain": [
       "'7275 >?= 6784.2 = 0.9 * union 7538 => True'"
      ]
     },
     "metadata": {},
     "output_type": "display_data"
    },
    {
     "data": {
      "text/plain": [
       "Pandas(Index=493, query_name='S1_476!NC_060948.1!23471848!23482740!-', query_length=10944, query_start=20, query_end=10929, strand='-', target_name='NC_060948.1', target_length=62460029, target_start=22663290, target_end=22674147, residue_matches=4242, alignment_block_length=10920, mapping_quality=60, tp='P', cm=314, s1=4242, s2=0, rl=760, experiment='t2tChrY-readst2tChrY-SVs-a0.99-d0.1-l10000', tool='winnowmap', read_name='S1_476', GT_ref='NC_060948.1', GT_from=23471848, GT_to=23482740, GT_strand='-', is_correct=True, start_diff=-808558, end_diff=-808593, read_sv='DUP')"
      ]
     },
     "metadata": {},
     "output_type": "display_data"
    },
    {
     "data": {
      "text/plain": [
       "'           GT from 23471848 to 23482740'"
      ]
     },
     "metadata": {},
     "output_type": "display_data"
    },
    {
     "data": {
      "text/plain": [
       "'       target from 22663290 to 22674147'"
      ]
     },
     "metadata": {},
     "output_type": "display_data"
    },
    {
     "data": {
      "text/plain": [
       "'    GT_labels from 22663276 to 22674167'"
      ]
     },
     "metadata": {},
     "output_type": "display_data"
    },
    {
     "data": {
      "text/plain": [
       "'target_labels from 22663291 to 22674147'"
      ]
     },
     "metadata": {},
     "output_type": "display_data"
    },
    {
     "data": {
      "text/plain": [
       "'10857 >?= 9802.800000000001 = 0.9 * union 10892 => True'"
      ]
     },
     "metadata": {},
     "output_type": "display_data"
    },
    {
     "data": {
      "text/plain": [
       "Pandas(Index=495, query_name='S1_478!NC_060948.1!20813726!20825120!-', query_length=11430, query_start=62, query_end=11391, strand='-', target_name='NC_060948.1', target_length=62460029, target_start=20068281, target_end=20079574, residue_matches=4682, alignment_block_length=11344, mapping_quality=60, tp='P', cm=350, s1=4682, s2=0, rl=120, experiment='t2tChrY-readst2tChrY-SVs-a0.99-d0.1-l10000', tool='winnowmap', read_name='S1_478', GT_ref='NC_060948.1', GT_from=20813726, GT_to=20825120, GT_strand='-', is_correct=True, start_diff=-745445, end_diff=-745546, read_sv='multi')"
      ]
     },
     "metadata": {},
     "output_type": "display_data"
    },
    {
     "data": {
      "text/plain": [
       "'           GT from 20813726 to 20825120'"
      ]
     },
     "metadata": {},
     "output_type": "display_data"
    },
    {
     "data": {
      "text/plain": [
       "'       target from 20068281 to 20079574'"
      ]
     },
     "metadata": {},
     "output_type": "display_data"
    },
    {
     "data": {
      "text/plain": [
       "'    GT_labels from 20068243 to 20079636'"
      ]
     },
     "metadata": {},
     "output_type": "display_data"
    },
    {
     "data": {
      "text/plain": [
       "'target_labels from 20068282 to 20079574'"
      ]
     },
     "metadata": {},
     "output_type": "display_data"
    },
    {
     "data": {
      "text/plain": [
       "'11293 >?= 10254.6 = 0.9 * union 11394 => True'"
      ]
     },
     "metadata": {},
     "output_type": "display_data"
    },
    {
     "data": {
      "text/plain": [
       "Pandas(Index=496, query_name='S1_479!NC_060948.1!41869669!41882026!+', query_length=12384, query_start=38, query_end=12349, strand='+', target_name='NC_060948.1', target_length=62460029, target_start=40485064, target_end=40497637, residue_matches=3639, alignment_block_length=12627, mapping_quality=60, tp='P', cm=284, s1=3592, s2=0, rl=0, experiment='t2tChrY-readst2tChrY-SVs-a0.99-d0.1-l10000', tool='winnowmap', read_name='S1_479', GT_ref='NC_060948.1', GT_from=41869669, GT_to=41882026, GT_strand='+', is_correct=True, start_diff=-1384605, end_diff=-1384389, read_sv='DUP')"
      ]
     },
     "metadata": {},
     "output_type": "display_data"
    },
    {
     "data": {
      "text/plain": [
       "'           GT from 41869669 to 41882026'"
      ]
     },
     "metadata": {},
     "output_type": "display_data"
    },
    {
     "data": {
      "text/plain": [
       "'       target from 40485064 to 40497637'"
      ]
     },
     "metadata": {},
     "output_type": "display_data"
    },
    {
     "data": {
      "text/plain": [
       "'    GT_labels from 40485026 to 40497672'"
      ]
     },
     "metadata": {},
     "output_type": "display_data"
    },
    {
     "data": {
      "text/plain": [
       "'target_labels from 40485065 to 40497637'"
      ]
     },
     "metadata": {},
     "output_type": "display_data"
    },
    {
     "data": {
      "text/plain": [
       "'12283 >?= 11382.300000000001 = 0.9 * union 12647 => True'"
      ]
     },
     "metadata": {},
     "output_type": "display_data"
    },
    {
     "data": {
      "text/plain": [
       "Pandas(Index=497, query_name='S1_48!NC_060948.1!53948820!53960228!-', query_length=11441, query_start=3661, query_end=11363, strand='-', target_name='NC_060948.1', target_length=62460029, target_start=52160475, target_end=52168269, residue_matches=1665, alignment_block_length=7818, mapping_quality=60, tp='P', cm=132, s1=1645, s2=1068, rl=120, experiment='t2tChrY-readst2tChrY-SVs-a0.99-d0.1-l10000', tool='winnowmap', read_name='S1_48', GT_ref='NC_060948.1', GT_from=53948820, GT_to=53960228, GT_strand='-', is_correct=False, start_diff=-1788345, end_diff=-1791959, read_sv='multi')"
      ]
     },
     "metadata": {},
     "output_type": "display_data"
    },
    {
     "data": {
      "text/plain": [
       "'           GT from 53948820 to 53960228'"
      ]
     },
     "metadata": {},
     "output_type": "display_data"
    },
    {
     "data": {
      "text/plain": [
       "'       target from 52160475 to 52168269'"
      ]
     },
     "metadata": {},
     "output_type": "display_data"
    },
    {
     "data": {
      "text/plain": [
       "'    GT_labels from 52160398 to 52169495'"
      ]
     },
     "metadata": {},
     "output_type": "display_data"
    },
    {
     "data": {
      "text/plain": [
       "'target_labels from 52160476 to 52168269'"
      ]
     },
     "metadata": {},
     "output_type": "display_data"
    },
    {
     "data": {
      "text/plain": [
       "'7794 >?= 10267.2 = 0.9 * union 11408 => False'"
      ]
     },
     "metadata": {},
     "output_type": "display_data"
    },
    {
     "data": {
      "text/plain": [
       "Pandas(Index=499, query_name='S1_481!NC_060948.1!9633827!9643859!+', query_length=10056, query_start=46, query_end=9879, strand='+', target_name='NC_060948.1', target_length=62460029, target_start=9794037, target_end=9803910, residue_matches=3871, alignment_block_length=9914, mapping_quality=47, tp='P', cm=291, s1=3859, s2=3309, rl=0, experiment='t2tChrY-readst2tChrY-SVs-a0.99-d0.1-l10000', tool='winnowmap', read_name='S1_481', GT_ref='NC_060948.1', GT_from=9633827, GT_to=9643859, GT_strand='+', is_correct=False, start_diff=160210, end_diff=160051, read_sv='DEL')"
      ]
     },
     "metadata": {},
     "output_type": "display_data"
    },
    {
     "data": {
      "text/plain": [
       "'           GT from 9633827 to 9643859'"
      ]
     },
     "metadata": {},
     "output_type": "display_data"
    },
    {
     "data": {
      "text/plain": [
       "'       target from 9794037 to 9803910'"
      ]
     },
     "metadata": {},
     "output_type": "display_data"
    },
    {
     "data": {
      "text/plain": [
       "'    GT_labels from 9286627 to 9297277'"
      ]
     },
     "metadata": {},
     "output_type": "display_data"
    },
    {
     "data": {
      "text/plain": [
       "'target_labels from 9794038 to 9803910'"
      ]
     },
     "metadata": {},
     "output_type": "display_data"
    },
    {
     "data": {
      "text/plain": [
       "'0 >?= 17914.5 = 0.9 * union 19905 => False'"
      ]
     },
     "metadata": {},
     "output_type": "display_data"
    },
    {
     "data": {
      "text/plain": [
       "Pandas(Index=504, query_name='S1_483!NC_060948.1!31364339!31374495!+', query_length=10191, query_start=51, query_end=10171, strand='+', target_name='NC_060948.1', target_length=62460029, target_start=30301046, target_end=30311132, residue_matches=3062, alignment_block_length=10136, mapping_quality=1, tp='P', cm=230, s1=3062, s2=3047, rl=1005, experiment='t2tChrY-readst2tChrY-SVs-a0.99-d0.1-l10000', tool='winnowmap', read_name='S1_483', GT_ref='NC_060948.1', GT_from=31364339, GT_to=31374495, GT_strand='+', is_correct=True, start_diff=-1063293, end_diff=-1063363, read_sv='INV')"
      ]
     },
     "metadata": {},
     "output_type": "display_data"
    },
    {
     "data": {
      "text/plain": [
       "'           GT from 31364339 to 31374495'"
      ]
     },
     "metadata": {},
     "output_type": "display_data"
    },
    {
     "data": {
      "text/plain": [
       "'       target from 30301046 to 30311132'"
      ]
     },
     "metadata": {},
     "output_type": "display_data"
    },
    {
     "data": {
      "text/plain": [
       "'    GT_labels from 30300997 to 30311152'"
      ]
     },
     "metadata": {},
     "output_type": "display_data"
    },
    {
     "data": {
      "text/plain": [
       "'target_labels from 30301047 to 30311132'"
      ]
     },
     "metadata": {},
     "output_type": "display_data"
    },
    {
     "data": {
      "text/plain": [
       "'10086 >?= 9140.4 = 0.9 * union 10156 => True'"
      ]
     },
     "metadata": {},
     "output_type": "display_data"
    },
    {
     "data": {
      "text/plain": [
       "Pandas(Index=513, query_name='S1_486!NC_060948.1!17080747!17093108!-', query_length=12394, query_start=23, query_end=4406, strand='-', target_name='NC_060948.1', target_length=62460029, target_start=16470693, target_end=16475065, residue_matches=1892, alignment_block_length=4392, mapping_quality=60, tp='P', cm=144, s1=1892, s2=0, rl=0, experiment='t2tChrY-readst2tChrY-SVs-a0.99-d0.1-l10000', tool='winnowmap', read_name='S1_486', GT_ref='NC_060948.1', GT_from=17080747, GT_to=17093108, GT_strand='-', is_correct=False, start_diff=-610054, end_diff=-618043, read_sv='DUP')"
      ]
     },
     "metadata": {},
     "output_type": "display_data"
    },
    {
     "data": {
      "text/plain": [
       "'           GT from 17080747 to 17093108'"
      ]
     },
     "metadata": {},
     "output_type": "display_data"
    },
    {
     "data": {
      "text/plain": [
       "'       target from 16470693 to 16475065'"
      ]
     },
     "metadata": {},
     "output_type": "display_data"
    },
    {
     "data": {
      "text/plain": [
       "'    GT_labels from 16466397 to 16475087'"
      ]
     },
     "metadata": {},
     "output_type": "display_data"
    },
    {
     "data": {
      "text/plain": [
       "'target_labels from 16470694 to 16475065'"
      ]
     },
     "metadata": {},
     "output_type": "display_data"
    },
    {
     "data": {
      "text/plain": [
       "'4372 >?= 11124.9 = 0.9 * union 12361 => False'"
      ]
     },
     "metadata": {},
     "output_type": "display_data"
    },
    {
     "data": {
      "text/plain": [
       "Pandas(Index=514, query_name='S1_486!NC_060948.1!17080747!17093108!-', query_length=12394, query_start=7099, query_end=12369, strand='-', target_name='NC_060948.1', target_length=62460029, target_start=16466420, target_end=16471296, residue_matches=1820, alignment_block_length=5560, mapping_quality=60, tp='P', cm=139, s1=1670, s2=97, rl=0, experiment='t2tChrY-readst2tChrY-SVs-a0.99-d0.1-l10000', tool='winnowmap', read_name='S1_486', GT_ref='NC_060948.1', GT_from=17080747, GT_to=17093108, GT_strand='-', is_correct=False, start_diff=-614327, end_diff=-621812, read_sv='DUP')"
      ]
     },
     "metadata": {},
     "output_type": "display_data"
    },
    {
     "data": {
      "text/plain": [
       "'           GT from 17080747 to 17093108'"
      ]
     },
     "metadata": {},
     "output_type": "display_data"
    },
    {
     "data": {
      "text/plain": [
       "'       target from 16466420 to 16471296'"
      ]
     },
     "metadata": {},
     "output_type": "display_data"
    },
    {
     "data": {
      "text/plain": [
       "'    GT_labels from 16466397 to 16475087'"
      ]
     },
     "metadata": {},
     "output_type": "display_data"
    },
    {
     "data": {
      "text/plain": [
       "'target_labels from 16466421 to 16471296'"
      ]
     },
     "metadata": {},
     "output_type": "display_data"
    },
    {
     "data": {
      "text/plain": [
       "'4592 >?= 11380.5 = 0.9 * union 12645 => False'"
      ]
     },
     "metadata": {},
     "output_type": "display_data"
    },
    {
     "data": {
      "text/plain": [
       "Pandas(Index=515, query_name='S1_486!NC_060948.1!17080747!17093108!-', query_length=12394, query_start=5123, query_end=5772, strand='-', target_name='NC_060948.1', target_length=62460029, target_start=16470647, target_end=16471296, residue_matches=227, alignment_block_length=650, mapping_quality=60, tp='P', cm=18, s1=227, s2=0, rl=0, experiment='t2tChrY-readst2tChrY-SVs-a0.99-d0.1-l10000', tool='winnowmap', read_name='S1_486', GT_ref='NC_060948.1', GT_from=17080747, GT_to=17093108, GT_strand='-', is_correct=False, start_diff=-610100, end_diff=-621812, read_sv='DUP')"
      ]
     },
     "metadata": {},
     "output_type": "display_data"
    },
    {
     "data": {
      "text/plain": [
       "'           GT from 17080747 to 17093108'"
      ]
     },
     "metadata": {},
     "output_type": "display_data"
    },
    {
     "data": {
      "text/plain": [
       "'       target from 16470647 to 16471296'"
      ]
     },
     "metadata": {},
     "output_type": "display_data"
    },
    {
     "data": {
      "text/plain": [
       "'    GT_labels from 16466397 to 16475087'"
      ]
     },
     "metadata": {},
     "output_type": "display_data"
    },
    {
     "data": {
      "text/plain": [
       "'target_labels from 16470648 to 16471296'"
      ]
     },
     "metadata": {},
     "output_type": "display_data"
    },
    {
     "data": {
      "text/plain": [
       "'649 >?= 11124.9 = 0.9 * union 12361 => False'"
      ]
     },
     "metadata": {},
     "output_type": "display_data"
    },
    {
     "data": {
      "text/plain": [
       "Pandas(Index=516, query_name='S1_486!NC_060948.1!17080747!17093108!-', query_length=12394, query_start=4463, query_end=4938, strand='-', target_name='NC_060948.1', target_length=62460029, target_start=16470822, target_end=16471296, residue_matches=207, alignment_block_length=475, mapping_quality=60, tp='P', cm=16, s1=207, s2=0, rl=0, experiment='t2tChrY-readst2tChrY-SVs-a0.99-d0.1-l10000', tool='winnowmap', read_name='S1_486', GT_ref='NC_060948.1', GT_from=17080747, GT_to=17093108, GT_strand='-', is_correct=False, start_diff=-609925, end_diff=-621812, read_sv='DUP')"
      ]
     },
     "metadata": {},
     "output_type": "display_data"
    },
    {
     "data": {
      "text/plain": [
       "'           GT from 17080747 to 17093108'"
      ]
     },
     "metadata": {},
     "output_type": "display_data"
    },
    {
     "data": {
      "text/plain": [
       "'       target from 16470822 to 16471296'"
      ]
     },
     "metadata": {},
     "output_type": "display_data"
    },
    {
     "data": {
      "text/plain": [
       "'    GT_labels from 16466397 to 16475087'"
      ]
     },
     "metadata": {},
     "output_type": "display_data"
    },
    {
     "data": {
      "text/plain": [
       "'target_labels from 16470823 to 16471296'"
      ]
     },
     "metadata": {},
     "output_type": "display_data"
    },
    {
     "data": {
      "text/plain": [
       "'474 >?= 11124.9 = 0.9 * union 12361 => False'"
      ]
     },
     "metadata": {},
     "output_type": "display_data"
    },
    {
     "data": {
      "text/plain": [
       "Pandas(Index=517, query_name='S1_487!NC_060948.1!60635296!60643981!+', query_length=8718, query_start=74, query_end=8686, strand='+', target_name='NC_060948.1', target_length=62460029, target_start=58609095, target_end=58617675, residue_matches=2495, alignment_block_length=8624, mapping_quality=0, tp='P', cm=194, s1=2494, s2=2494, rl=938, experiment='t2tChrY-readst2tChrY-SVs-a0.99-d0.1-l10000', tool='winnowmap', read_name='S1_487', GT_ref='NC_060948.1', GT_from=60635296, GT_to=60643981, GT_strand='+', is_correct=True, start_diff=-2026201, end_diff=-2026306, read_sv='INS')"
      ]
     },
     "metadata": {},
     "output_type": "display_data"
    },
    {
     "data": {
      "text/plain": [
       "'           GT from 60635296 to 60643981'"
      ]
     },
     "metadata": {},
     "output_type": "display_data"
    },
    {
     "data": {
      "text/plain": [
       "'       target from 58609095 to 58617675'"
      ]
     },
     "metadata": {},
     "output_type": "display_data"
    },
    {
     "data": {
      "text/plain": [
       "'    GT_labels from 58609023 to 58617707'"
      ]
     },
     "metadata": {},
     "output_type": "display_data"
    },
    {
     "data": {
      "text/plain": [
       "'target_labels from 58609096 to 58617675'"
      ]
     },
     "metadata": {},
     "output_type": "display_data"
    },
    {
     "data": {
      "text/plain": [
       "'8580 >?= 7816.5 = 0.9 * union 8685 => True'"
      ]
     },
     "metadata": {},
     "output_type": "display_data"
    },
    {
     "data": {
      "text/plain": [
       "Pandas(Index=522, query_name='S1_491!NC_060948.1!16659468!16673015!+', query_length=13586, query_start=19, query_end=13586, strand='+', target_name='NC_060948.1', target_length=62460029, target_start=16058734, target_end=16070078, residue_matches=4636, alignment_block_length=13592, mapping_quality=60, tp='P', cm=354, s1=4295, s2=133, rl=0, experiment='t2tChrY-readst2tChrY-SVs-a0.99-d0.1-l10000', tool='winnowmap', read_name='S1_491', GT_ref='NC_060948.1', GT_from=16659468, GT_to=16673015, GT_strand='+', is_correct=False, start_diff=-600734, end_diff=-602937, read_sv='INS')"
      ]
     },
     "metadata": {},
     "output_type": "display_data"
    },
    {
     "data": {
      "text/plain": [
       "'           GT from 16659468 to 16673015'"
      ]
     },
     "metadata": {},
     "output_type": "display_data"
    },
    {
     "data": {
      "text/plain": [
       "'       target from 16058734 to 16070078'"
      ]
     },
     "metadata": {},
     "output_type": "display_data"
    },
    {
     "data": {
      "text/plain": [
       "'    GT_labels from 16058716 to 16070078'"
      ]
     },
     "metadata": {},
     "output_type": "display_data"
    },
    {
     "data": {
      "text/plain": [
       "'target_labels from 16058735 to 16070078'"
      ]
     },
     "metadata": {},
     "output_type": "display_data"
    },
    {
     "data": {
      "text/plain": [
       "'11344 >?= 12192.300000000001 = 0.9 * union 13547 => False'"
      ]
     },
     "metadata": {},
     "output_type": "display_data"
    },
    {
     "data": {
      "text/plain": [
       "Pandas(Index=523, query_name='S1_492!NC_060948.1!23104948!23116208!-', query_length=11289, query_start=24, query_end=11252, strand='-', target_name='NC_060948.1', target_length=62460029, target_start=22304423, target_end=22315622, residue_matches=4675, alignment_block_length=11251, mapping_quality=60, tp='P', cm=357, s1=4674, s2=0, rl=121, experiment='t2tChrY-readst2tChrY-SVs-a0.99-d0.1-l10000', tool='winnowmap', read_name='S1_492', GT_ref='NC_060948.1', GT_from=23104948, GT_to=23116208, GT_strand='-', is_correct=True, start_diff=-800525, end_diff=-800586, read_sv='INS')"
      ]
     },
     "metadata": {},
     "output_type": "display_data"
    },
    {
     "data": {
      "text/plain": [
       "'           GT from 23104948 to 23116208'"
      ]
     },
     "metadata": {},
     "output_type": "display_data"
    },
    {
     "data": {
      "text/plain": [
       "'       target from 22304423 to 22315622'"
      ]
     },
     "metadata": {},
     "output_type": "display_data"
    },
    {
     "data": {
      "text/plain": [
       "'    GT_labels from 22304387 to 22315646'"
      ]
     },
     "metadata": {},
     "output_type": "display_data"
    },
    {
     "data": {
      "text/plain": [
       "'target_labels from 22304424 to 22315622'"
      ]
     },
     "metadata": {},
     "output_type": "display_data"
    },
    {
     "data": {
      "text/plain": [
       "'11199 >?= 10134.0 = 0.9 * union 11260 => True'"
      ]
     },
     "metadata": {},
     "output_type": "display_data"
    },
    {
     "data": {
      "text/plain": [
       "Pandas(Index=524, query_name='S1_493!NC_060948.1!46646299!46659160!+', query_length=12896, query_start=14, query_end=12277, strand='+', target_name='NC_060948.1', target_length=62460029, target_start=45089076, target_end=45101163, residue_matches=3539, alignment_block_length=12283, mapping_quality=60, tp='P', cm=269, s1=3514, s2=1699, rl=773, experiment='t2tChrY-readst2tChrY-SVs-a0.99-d0.1-l10000', tool='winnowmap', read_name='S1_493', GT_ref='NC_060948.1', GT_from=46646299, GT_to=46659160, GT_strand='+', is_correct=True, start_diff=-1557223, end_diff=-1557997, read_sv='multi')"
      ]
     },
     "metadata": {},
     "output_type": "display_data"
    },
    {
     "data": {
      "text/plain": [
       "'           GT from 46646299 to 46659160'"
      ]
     },
     "metadata": {},
     "output_type": "display_data"
    },
    {
     "data": {
      "text/plain": [
       "'       target from 45089076 to 45101163'"
      ]
     },
     "metadata": {},
     "output_type": "display_data"
    },
    {
     "data": {
      "text/plain": [
       "'    GT_labels from -94163 to 45102045'"
      ]
     },
     "metadata": {},
     "output_type": "display_data"
    },
    {
     "data": {
      "text/plain": [
       "'target_labels from 45089077 to 45101163'"
      ]
     },
     "metadata": {},
     "output_type": "display_data"
    },
    {
     "data": {
      "text/plain": [
       "'12087 >?= 11574.9 = 0.9 * union 12861 => True'"
      ]
     },
     "metadata": {},
     "output_type": "display_data"
    },
    {
     "data": {
      "text/plain": [
       "Pandas(Index=528, query_name='S1_496!NC_060948.1!39060359!39070068!-', query_length=9734, query_start=25, query_end=9732, strand='-', target_name='NC_060948.1', target_length=62460029, target_start=37759786, target_end=37769468, residue_matches=2895, alignment_block_length=9722, mapping_quality=1, tp='P', cm=221, s1=2895, s2=2876, rl=1128, experiment='t2tChrY-readst2tChrY-SVs-a0.99-d0.1-l10000', tool='winnowmap', read_name='S1_496', GT_ref='NC_060948.1', GT_from=39060359, GT_to=39070068, GT_strand='-', is_correct=True, start_diff=-1300573, end_diff=-1300600, read_sv='INS')"
      ]
     },
     "metadata": {},
     "output_type": "display_data"
    },
    {
     "data": {
      "text/plain": [
       "'           GT from 39060359 to 39070068'"
      ]
     },
     "metadata": {},
     "output_type": "display_data"
    },
    {
     "data": {
      "text/plain": [
       "'       target from 37759786 to 37769468'"
      ]
     },
     "metadata": {},
     "output_type": "display_data"
    },
    {
     "data": {
      "text/plain": [
       "'    GT_labels from 37759785 to 37769493'"
      ]
     },
     "metadata": {},
     "output_type": "display_data"
    },
    {
     "data": {
      "text/plain": [
       "'target_labels from 37759787 to 37769468'"
      ]
     },
     "metadata": {},
     "output_type": "display_data"
    },
    {
     "data": {
      "text/plain": [
       "'9682 >?= 8738.1 = 0.9 * union 9709 => True'"
      ]
     },
     "metadata": {},
     "output_type": "display_data"
    },
    {
     "data": {
      "text/plain": [
       "Pandas(Index=532, query_name='S1_5!NC_060948.1!3831640!3840770!+', query_length=9150, query_start=41, query_end=9123, strand='+', target_name='NC_060948.1', target_length=62460029, target_start=3683835, target_end=3693365, residue_matches=3929, alignment_block_length=9566, mapping_quality=60, tp='P', cm=304, s1=3855, s2=57, rl=0, experiment='t2tChrY-readst2tChrY-SVs-a0.99-d0.1-l10000', tool='winnowmap', read_name='S1_5', GT_ref='NC_060948.1', GT_from=3831640, GT_to=3840770, GT_strand='+', is_correct=True, start_diff=-147805, end_diff=-147405, read_sv='INV')"
      ]
     },
     "metadata": {},
     "output_type": "display_data"
    },
    {
     "data": {
      "text/plain": [
       "'           GT from 3831640 to 3840770'"
      ]
     },
     "metadata": {},
     "output_type": "display_data"
    },
    {
     "data": {
      "text/plain": [
       "'       target from 3683835 to 3693365'"
      ]
     },
     "metadata": {},
     "output_type": "display_data"
    },
    {
     "data": {
      "text/plain": [
       "'    GT_labels from 3683795 to 3693392'"
      ]
     },
     "metadata": {},
     "output_type": "display_data"
    },
    {
     "data": {
      "text/plain": [
       "'target_labels from 3683836 to 3693365'"
      ]
     },
     "metadata": {},
     "output_type": "display_data"
    },
    {
     "data": {
      "text/plain": [
       "'9062 >?= 8638.2 = 0.9 * union 9598 => True'"
      ]
     },
     "metadata": {},
     "output_type": "display_data"
    },
    {
     "data": {
      "text/plain": [
       "Pandas(Index=534, query_name='S1_500!NC_060948.1!25110147!25122313!-', query_length=12208, query_start=16, query_end=12191, strand='-', target_name='NC_060948.1', target_length=62460029, target_start=25850145, target_end=25862766, residue_matches=4562, alignment_block_length=12684, mapping_quality=0, tp='P', cm=350, s1=4483, s2=4483, rl=0, experiment='t2tChrY-readst2tChrY-SVs-a0.99-d0.1-l10000', tool='winnowmap', read_name='S1_500', GT_ref='NC_060948.1', GT_from=25110147, GT_to=25122313, GT_strand='-', is_correct=False, start_diff=739998, end_diff=740453, read_sv='INS')"
      ]
     },
     "metadata": {},
     "output_type": "display_data"
    },
    {
     "data": {
      "text/plain": [
       "'           GT from 25110147 to 25122313'"
      ]
     },
     "metadata": {},
     "output_type": "display_data"
    },
    {
     "data": {
      "text/plain": [
       "'       target from 25850145 to 25862766'"
      ]
     },
     "metadata": {},
     "output_type": "display_data"
    },
    {
     "data": {
      "text/plain": [
       "'    GT_labels from 24230175 to 24242828'"
      ]
     },
     "metadata": {},
     "output_type": "display_data"
    },
    {
     "data": {
      "text/plain": [
       "'target_labels from 25850146 to 25862766'"
      ]
     },
     "metadata": {},
     "output_type": "display_data"
    },
    {
     "data": {
      "text/plain": [
       "'0 >?= 22308.3 = 0.9 * union 24787 => False'"
      ]
     },
     "metadata": {},
     "output_type": "display_data"
    },
    {
     "data": {
      "text/plain": [
       "Pandas(Index=535, query_name='S1_501!NC_060948.1!35857797!35866135!+', query_length=8360, query_start=273, query_end=8300, strand='+', target_name='NC_060948.1', target_length=62460029, target_start=34648722, target_end=34656766, residue_matches=1746, alignment_block_length=8067, mapping_quality=29, tp='P', cm=138, s1=1740, s2=1460, rl=1068, experiment='t2tChrY-readst2tChrY-SVs-a0.99-d0.1-l10000', tool='winnowmap', read_name='S1_501', GT_ref='NC_060948.1', GT_from=35857797, GT_to=35866135, GT_strand='+', is_correct=False, start_diff=-1209075, end_diff=-1209369, read_sv='DUP')"
      ]
     },
     "metadata": {},
     "output_type": "display_data"
    },
    {
     "data": {
      "text/plain": [
       "'           GT from 35857797 to 35866135'"
      ]
     },
     "metadata": {},
     "output_type": "display_data"
    },
    {
     "data": {
      "text/plain": [
       "'       target from 34648722 to 34656766'"
      ]
     },
     "metadata": {},
     "output_type": "display_data"
    },
    {
     "data": {
      "text/plain": [
       "'    GT_labels from -71291 to 34654665'"
      ]
     },
     "metadata": {},
     "output_type": "display_data"
    },
    {
     "data": {
      "text/plain": [
       "'target_labels from 34648723 to 34656766'"
      ]
     },
     "metadata": {},
     "output_type": "display_data"
    },
    {
     "data": {
      "text/plain": [
       "'5943 >?= 9395.1 = 0.9 * union 10439 => False'"
      ]
     },
     "metadata": {},
     "output_type": "display_data"
    },
    {
     "data": {
      "text/plain": [
       "Pandas(Index=536, query_name='S1_502!NC_060948.1!27650376!27664415!-', query_length=14064, query_start=29, query_end=14019, strand='-', target_name='NC_060948.1', target_length=62460029, target_start=26703175, target_end=26717141, residue_matches=6046, alignment_block_length=14030, mapping_quality=0, tp='P', cm=463, s1=6046, s2=6046, rl=0, experiment='t2tChrY-readst2tChrY-SVs-a0.99-d0.1-l10000', tool='winnowmap', read_name='S1_502', GT_ref='NC_060948.1', GT_from=27650376, GT_to=27664415, GT_strand='-', is_correct=True, start_diff=-947201, end_diff=-947274, read_sv='INV')"
      ]
     },
     "metadata": {},
     "output_type": "display_data"
    },
    {
     "data": {
      "text/plain": [
       "'           GT from 27650376 to 27664415'"
      ]
     },
     "metadata": {},
     "output_type": "display_data"
    },
    {
     "data": {
      "text/plain": [
       "'       target from 26703175 to 26717141'"
      ]
     },
     "metadata": {},
     "output_type": "display_data"
    },
    {
     "data": {
      "text/plain": [
       "'    GT_labels from 26703132 to 26717170'"
      ]
     },
     "metadata": {},
     "output_type": "display_data"
    },
    {
     "data": {
      "text/plain": [
       "'target_labels from 26703176 to 26717141'"
      ]
     },
     "metadata": {},
     "output_type": "display_data"
    },
    {
     "data": {
      "text/plain": [
       "'13966 >?= 12635.1 = 0.9 * union 14039 => True'"
      ]
     },
     "metadata": {},
     "output_type": "display_data"
    },
    {
     "data": {
      "text/plain": [
       "Pandas(Index=540, query_name='S1_506!NC_060948.1!49530454!49542116!-', query_length=11698, query_start=78, query_end=11696, strand='-', target_name='NC_060948.1', target_length=62460029, target_start=47875580, target_end=47887163, residue_matches=3297, alignment_block_length=11638, mapping_quality=60, tp='P', cm=248, s1=3296, s2=2237, rl=939, experiment='t2tChrY-readst2tChrY-SVs-a0.99-d0.1-l10000', tool='winnowmap', read_name='S1_506', GT_ref='NC_060948.1', GT_from=49530454, GT_to=49542116, GT_strand='-', is_correct=True, start_diff=-1654874, end_diff=-1654953, read_sv='multi')"
      ]
     },
     "metadata": {},
     "output_type": "display_data"
    },
    {
     "data": {
      "text/plain": [
       "'           GT from 49530454 to 49542116'"
      ]
     },
     "metadata": {},
     "output_type": "display_data"
    },
    {
     "data": {
      "text/plain": [
       "'       target from 47875580 to 47887163'"
      ]
     },
     "metadata": {},
     "output_type": "display_data"
    },
    {
     "data": {
      "text/plain": [
       "'    GT_labels from 47875579 to 47887240'"
      ]
     },
     "metadata": {},
     "output_type": "display_data"
    },
    {
     "data": {
      "text/plain": [
       "'target_labels from 47875581 to 47887163'"
      ]
     },
     "metadata": {},
     "output_type": "display_data"
    },
    {
     "data": {
      "text/plain": [
       "'11583 >?= 10495.800000000001 = 0.9 * union 11662 => True'"
      ]
     },
     "metadata": {},
     "output_type": "display_data"
    },
    {
     "data": {
      "text/plain": [
       "Pandas(Index=542, query_name='S1_508!NC_060948.1!17704784!17713728!-', query_length=8960, query_start=58, query_end=8940, strand='-', target_name='NC_060948.1', target_length=62460029, target_start=17069710, target_end=17078578, residue_matches=3887, alignment_block_length=8902, mapping_quality=4, tp='P', cm=301, s1=3887, s2=3839, rl=0, experiment='t2tChrY-readst2tChrY-SVs-a0.99-d0.1-l10000', tool='winnowmap', read_name='S1_508', GT_ref='NC_060948.1', GT_from=17704784, GT_to=17713728, GT_strand='-', is_correct=True, start_diff=-635074, end_diff=-635150, read_sv='DUP')"
      ]
     },
     "metadata": {},
     "output_type": "display_data"
    },
    {
     "data": {
      "text/plain": [
       "'           GT from 17704784 to 17713728'"
      ]
     },
     "metadata": {},
     "output_type": "display_data"
    },
    {
     "data": {
      "text/plain": [
       "'       target from 17069710 to 17078578'"
      ]
     },
     "metadata": {},
     "output_type": "display_data"
    },
    {
     "data": {
      "text/plain": [
       "'    GT_labels from 17069691 to 17078634'"
      ]
     },
     "metadata": {},
     "output_type": "display_data"
    },
    {
     "data": {
      "text/plain": [
       "'target_labels from 17069711 to 17078578'"
      ]
     },
     "metadata": {},
     "output_type": "display_data"
    },
    {
     "data": {
      "text/plain": [
       "'8868 >?= 8049.6 = 0.9 * union 8944 => True'"
      ]
     },
     "metadata": {},
     "output_type": "display_data"
    },
    {
     "data": {
      "text/plain": [
       "Pandas(Index=544, query_name='S1_51!NC_060948.1!46230896!46237823!+', query_length=6951, query_start=72, query_end=6937, strand='+', target_name='NC_060948.1', target_length=62460029, target_start=44682671, target_end=44689512, residue_matches=1771, alignment_block_length=6873, mapping_quality=5, tp='P', cm=140, s1=1771, s2=1726, rl=798, experiment='t2tChrY-readst2tChrY-SVs-a0.99-d0.1-l10000', tool='winnowmap', read_name='S1_51', GT_ref='NC_060948.1', GT_from=46230896, GT_to=46237823, GT_strand='+', is_correct=True, start_diff=-1548225, end_diff=-1548311, read_sv='INS')"
      ]
     },
     "metadata": {},
     "output_type": "display_data"
    },
    {
     "data": {
      "text/plain": [
       "'           GT from 46230896 to 46237823'"
      ]
     },
     "metadata": {},
     "output_type": "display_data"
    },
    {
     "data": {
      "text/plain": [
       "'       target from 44682671 to 44689512'"
      ]
     },
     "metadata": {},
     "output_type": "display_data"
    },
    {
     "data": {
      "text/plain": [
       "'    GT_labels from 44682599 to 44689525'"
      ]
     },
     "metadata": {},
     "output_type": "display_data"
    },
    {
     "data": {
      "text/plain": [
       "'target_labels from 44682672 to 44689512'"
      ]
     },
     "metadata": {},
     "output_type": "display_data"
    },
    {
     "data": {
      "text/plain": [
       "'6841 >?= 6234.3 = 0.9 * union 6927 => True'"
      ]
     },
     "metadata": {},
     "output_type": "display_data"
    },
    {
     "data": {
      "text/plain": [
       "Pandas(Index=545, query_name='S1_510!NC_060948.1!3811794!3819213!-', query_length=7448, query_start=36, query_end=7399, strand='-', target_name='NC_060948.1', target_length=62460029, target_start=3663997, target_end=3671331, residue_matches=3275, alignment_block_length=7377, mapping_quality=60, tp='P', cm=252, s1=3275, s2=75, rl=0, experiment='t2tChrY-readst2tChrY-SVs-a0.99-d0.1-l10000', tool='winnowmap', read_name='S1_510', GT_ref='NC_060948.1', GT_from=3811794, GT_to=3819213, GT_strand='-', is_correct=True, start_diff=-147797, end_diff=-147882, read_sv='DUP')"
      ]
     },
     "metadata": {},
     "output_type": "display_data"
    },
    {
     "data": {
      "text/plain": [
       "'           GT from 3811794 to 3819213'"
      ]
     },
     "metadata": {},
     "output_type": "display_data"
    },
    {
     "data": {
      "text/plain": [
       "'       target from 3663997 to 3671331'"
      ]
     },
     "metadata": {},
     "output_type": "display_data"
    },
    {
     "data": {
      "text/plain": [
       "'    GT_labels from 3663949 to 3671367'"
      ]
     },
     "metadata": {},
     "output_type": "display_data"
    },
    {
     "data": {
      "text/plain": [
       "'target_labels from 3663998 to 3671331'"
      ]
     },
     "metadata": {},
     "output_type": "display_data"
    },
    {
     "data": {
      "text/plain": [
       "'7334 >?= 6677.1 = 0.9 * union 7419 => True'"
      ]
     },
     "metadata": {},
     "output_type": "display_data"
    },
    {
     "data": {
      "text/plain": [
       "Pandas(Index=548, query_name='S1_513!NC_060948.1!10440833!10448763!+', query_length=7947, query_start=22, query_end=3374, strand='+', target_name='NC_060948.1', target_length=62460029, target_start=10071531, target_end=10074794, residue_matches=1323, alignment_block_length=3358, mapping_quality=0, tp='P', cm=101, s1=1309, s2=1309, rl=0, experiment='t2tChrY-readst2tChrY-SVs-a0.99-d0.1-l10000', tool='winnowmap', read_name='S1_513', GT_ref='NC_060948.1', GT_from=10440833, GT_to=10448763, GT_strand='+', is_correct=False, start_diff=-369302, end_diff=-373969, read_sv='INS')"
      ]
     },
     "metadata": {},
     "output_type": "display_data"
    },
    {
     "data": {
      "text/plain": [
       "'           GT from 10440833 to 10448763'"
      ]
     },
     "metadata": {},
     "output_type": "display_data"
    },
    {
     "data": {
      "text/plain": [
       "'       target from 10071531 to 10074794'"
      ]
     },
     "metadata": {},
     "output_type": "display_data"
    },
    {
     "data": {
      "text/plain": [
       "'    GT_labels from -20600 to 10076793'"
      ]
     },
     "metadata": {},
     "output_type": "display_data"
    },
    {
     "data": {
      "text/plain": [
       "'target_labels from 10071532 to 10074794'"
      ]
     },
     "metadata": {},
     "output_type": "display_data"
    },
    {
     "data": {
      "text/plain": [
       "'3263 >?= 7137.0 = 0.9 * union 7930 => False'"
      ]
     },
     "metadata": {},
     "output_type": "display_data"
    },
    {
     "data": {
      "text/plain": [
       "Pandas(Index=549, query_name='S1_513!NC_060948.1!10440833!10448763!+', query_length=7947, query_start=5156, query_end=7903, strand='+', target_name='NC_060948.1', target_length=62460029, target_start=10074004, target_end=10076749, residue_matches=1154, alignment_block_length=2752, mapping_quality=3, tp='P', cm=88, s1=1154, s2=1138, rl=0, experiment='t2tChrY-readst2tChrY-SVs-a0.99-d0.1-l10000', tool='winnowmap', read_name='S1_513', GT_ref='NC_060948.1', GT_from=10440833, GT_to=10448763, GT_strand='+', is_correct=False, start_diff=-366829, end_diff=-372014, read_sv='INS')"
      ]
     },
     "metadata": {},
     "output_type": "display_data"
    },
    {
     "data": {
      "text/plain": [
       "'           GT from 10440833 to 10448763'"
      ]
     },
     "metadata": {},
     "output_type": "display_data"
    },
    {
     "data": {
      "text/plain": [
       "'       target from 10074004 to 10076749'"
      ]
     },
     "metadata": {},
     "output_type": "display_data"
    },
    {
     "data": {
      "text/plain": [
       "'    GT_labels from -20600 to 10076793'"
      ]
     },
     "metadata": {},
     "output_type": "display_data"
    },
    {
     "data": {
      "text/plain": [
       "'target_labels from 10074005 to 10076749'"
      ]
     },
     "metadata": {},
     "output_type": "display_data"
    },
    {
     "data": {
      "text/plain": [
       "'2745 >?= 7137.0 = 0.9 * union 7930 => False'"
      ]
     },
     "metadata": {},
     "output_type": "display_data"
    },
    {
     "data": {
      "text/plain": [
       "Pandas(Index=550, query_name='S1_513!NC_060948.1!10440833!10448763!+', query_length=7947, query_start=4296, query_end=5148, strand='+', target_name='NC_060948.1', target_length=62460029, target_start=10074004, target_end=10074852, residue_matches=387, alignment_block_length=852, mapping_quality=0, tp='P', cm=28, s1=387, s2=387, rl=0, experiment='t2tChrY-readst2tChrY-SVs-a0.99-d0.1-l10000', tool='winnowmap', read_name='S1_513', GT_ref='NC_060948.1', GT_from=10440833, GT_to=10448763, GT_strand='+', is_correct=False, start_diff=-366829, end_diff=-373911, read_sv='INS')"
      ]
     },
     "metadata": {},
     "output_type": "display_data"
    },
    {
     "data": {
      "text/plain": [
       "'           GT from 10440833 to 10448763'"
      ]
     },
     "metadata": {},
     "output_type": "display_data"
    },
    {
     "data": {
      "text/plain": [
       "'       target from 10074004 to 10074852'"
      ]
     },
     "metadata": {},
     "output_type": "display_data"
    },
    {
     "data": {
      "text/plain": [
       "'    GT_labels from -20600 to 10076793'"
      ]
     },
     "metadata": {},
     "output_type": "display_data"
    },
    {
     "data": {
      "text/plain": [
       "'target_labels from 10074005 to 10074852'"
      ]
     },
     "metadata": {},
     "output_type": "display_data"
    },
    {
     "data": {
      "text/plain": [
       "'848 >?= 7137.0 = 0.9 * union 7930 => False'"
      ]
     },
     "metadata": {},
     "output_type": "display_data"
    },
    {
     "data": {
      "text/plain": [
       "Pandas(Index=552, query_name='S1_514!NC_060948.1!59963394!59975018!-', query_length=11662, query_start=48, query_end=11613, strand='-', target_name='NC_060948.1', target_length=62460029, target_start=58821278, target_end=58832806, residue_matches=3167, alignment_block_length=11580, mapping_quality=0, tp='P', cm=249, s1=3165, s2=3165, rl=1299, experiment='t2tChrY-readst2tChrY-SVs-a0.99-d0.1-l10000', tool='winnowmap', read_name='S1_514', GT_ref='NC_060948.1', GT_from=59963394, GT_to=59975018, GT_strand='-', is_correct=False, start_diff=-1142116, end_diff=-1142212, read_sv='DUP')"
      ]
     },
     "metadata": {},
     "output_type": "display_data"
    },
    {
     "data": {
      "text/plain": [
       "'           GT from 59963394 to 59975018'"
      ]
     },
     "metadata": {},
     "output_type": "display_data"
    },
    {
     "data": {
      "text/plain": [
       "'       target from 58821278 to 58832806'"
      ]
     },
     "metadata": {},
     "output_type": "display_data"
    },
    {
     "data": {
      "text/plain": [
       "'    GT_labels from 57971146 to 57982769'"
      ]
     },
     "metadata": {},
     "output_type": "display_data"
    },
    {
     "data": {
      "text/plain": [
       "'target_labels from 58821279 to 58832806'"
      ]
     },
     "metadata": {},
     "output_type": "display_data"
    },
    {
     "data": {
      "text/plain": [
       "'0 >?= 20836.8 = 0.9 * union 23152 => False'"
      ]
     },
     "metadata": {},
     "output_type": "display_data"
    },
    {
     "data": {
      "text/plain": [
       "Pandas(Index=554, query_name='S1_516!NC_060948.1!38599426!38608451!-', query_length=9062, query_start=38, query_end=9037, strand='-', target_name='NC_060948.1', target_length=62460029, target_start=37307687, target_end=37316649, residue_matches=2875, alignment_block_length=9009, mapping_quality=0, tp='P', cm=222, s1=2875, s2=2863, rl=970, experiment='t2tChrY-readst2tChrY-SVs-a0.99-d0.1-l10000', tool='winnowmap', read_name='S1_516', GT_ref='NC_060948.1', GT_from=38599426, GT_to=38608451, GT_strand='-', is_correct=True, start_diff=-1291739, end_diff=-1291802, read_sv='DUP')"
      ]
     },
     "metadata": {},
     "output_type": "display_data"
    },
    {
     "data": {
      "text/plain": [
       "'           GT from 38599426 to 38608451'"
      ]
     },
     "metadata": {},
     "output_type": "display_data"
    },
    {
     "data": {
      "text/plain": [
       "'       target from 37307687 to 37316649'"
      ]
     },
     "metadata": {},
     "output_type": "display_data"
    },
    {
     "data": {
      "text/plain": [
       "'    GT_labels from 37307663 to 37316687'"
      ]
     },
     "metadata": {},
     "output_type": "display_data"
    },
    {
     "data": {
      "text/plain": [
       "'target_labels from 37307688 to 37316649'"
      ]
     },
     "metadata": {},
     "output_type": "display_data"
    },
    {
     "data": {
      "text/plain": [
       "'8962 >?= 8122.5 = 0.9 * union 9025 => True'"
      ]
     },
     "metadata": {},
     "output_type": "display_data"
    },
    {
     "data": {
      "text/plain": [
       "Pandas(Index=557, query_name='S1_518!NC_060948.1!25223019!25231662!-', query_length=8671, query_start=35, query_end=8650, strand='-', target_name='NC_060948.1', target_length=62460029, target_start=24331519, target_end=24340105, residue_matches=3669, alignment_block_length=8631, mapping_quality=1, tp='P', cm=278, s1=3669, s2=3654, rl=0, experiment='t2tChrY-readst2tChrY-SVs-a0.99-d0.1-l10000', tool='winnowmap', read_name='S1_518', GT_ref='NC_060948.1', GT_from=25223019, GT_to=25231662, GT_strand='-', is_correct=True, start_diff=-891500, end_diff=-891557, read_sv='INV')"
      ]
     },
     "metadata": {},
     "output_type": "display_data"
    },
    {
     "data": {
      "text/plain": [
       "'           GT from 25223019 to 25231662'"
      ]
     },
     "metadata": {},
     "output_type": "display_data"
    },
    {
     "data": {
      "text/plain": [
       "'       target from 24331519 to 24340105'"
      ]
     },
     "metadata": {},
     "output_type": "display_data"
    },
    {
     "data": {
      "text/plain": [
       "'    GT_labels from 24331498 to 24340140'"
      ]
     },
     "metadata": {},
     "output_type": "display_data"
    },
    {
     "data": {
      "text/plain": [
       "'target_labels from 24331520 to 24340105'"
      ]
     },
     "metadata": {},
     "output_type": "display_data"
    },
    {
     "data": {
      "text/plain": [
       "'8586 >?= 7778.7 = 0.9 * union 8643 => True'"
      ]
     },
     "metadata": {},
     "output_type": "display_data"
    },
    {
     "data": {
      "text/plain": [
       "Pandas(Index=577, query_name='S1_534!NC_060948.1!51551794!51563025!-', query_length=11249, query_start=91, query_end=10213, strand='-', target_name='NC_060948.1', target_length=62460029, target_start=49834971, target_end=49845077, residue_matches=2936, alignment_block_length=10145, mapping_quality=60, tp='P', cm=229, s1=2936, s2=544, rl=213, experiment='t2tChrY-readst2tChrY-SVs-a0.99-d0.1-l10000', tool='winnowmap', read_name='S1_534', GT_ref='NC_060948.1', GT_from=51551794, GT_to=51563025, GT_strand='-', is_correct=False, start_diff=-1716823, end_diff=-1717948, read_sv='DUP')"
      ]
     },
     "metadata": {},
     "output_type": "display_data"
    },
    {
     "data": {
      "text/plain": [
       "'           GT from 51551794 to 51563025'"
      ]
     },
     "metadata": {},
     "output_type": "display_data"
    },
    {
     "data": {
      "text/plain": [
       "'       target from 49834971 to 49845077'"
      ]
     },
     "metadata": {},
     "output_type": "display_data"
    },
    {
     "data": {
      "text/plain": [
       "'    GT_labels from 49834940 to 49845168'"
      ]
     },
     "metadata": {},
     "output_type": "display_data"
    },
    {
     "data": {
      "text/plain": [
       "'target_labels from 49834972 to 49845077'"
      ]
     },
     "metadata": {},
     "output_type": "display_data"
    },
    {
     "data": {
      "text/plain": [
       "'10106 >?= 10107.9 = 0.9 * union 11231 => False'"
      ]
     },
     "metadata": {},
     "output_type": "display_data"
    },
    {
     "data": {
      "text/plain": [
       "Pandas(Index=582, query_name='S1_539!NC_060948.1!14892002!14904182!+', query_length=12230, query_start=70, query_end=12190, strand='+', target_name='NC_060948.1', target_length=62460029, target_start=14354729, target_end=14366801, residue_matches=4854, alignment_block_length=12142, mapping_quality=60, tp='P', cm=362, s1=4854, s2=0, rl=1148, experiment='t2tChrY-readst2tChrY-SVs-a0.99-d0.1-l10000', tool='winnowmap', read_name='S1_539', GT_ref='NC_060948.1', GT_from=14892002, GT_to=14904182, GT_strand='+', is_correct=True, start_diff=-537273, end_diff=-537381, read_sv='INS')"
      ]
     },
     "metadata": {},
     "output_type": "display_data"
    },
    {
     "data": {
      "text/plain": [
       "'           GT from 14892002 to 14904182'"
      ]
     },
     "metadata": {},
     "output_type": "display_data"
    },
    {
     "data": {
      "text/plain": [
       "'       target from 14354729 to 14366801'"
      ]
     },
     "metadata": {},
     "output_type": "display_data"
    },
    {
     "data": {
      "text/plain": [
       "'    GT_labels from 14354662 to 14366841'"
      ]
     },
     "metadata": {},
     "output_type": "display_data"
    },
    {
     "data": {
      "text/plain": [
       "'target_labels from 14354730 to 14366801'"
      ]
     },
     "metadata": {},
     "output_type": "display_data"
    },
    {
     "data": {
      "text/plain": [
       "'12072 >?= 10962.0 = 0.9 * union 12180 => True'"
      ]
     },
     "metadata": {},
     "output_type": "display_data"
    },
    {
     "data": {
      "text/plain": [
       "Pandas(Index=584, query_name='S1_540!NC_060948.1!29647903!29657001!-', query_length=9115, query_start=22, query_end=9025, strand='-', target_name='NC_060948.1', target_length=62460029, target_start=28644666, target_end=28653653, residue_matches=2743, alignment_block_length=9021, mapping_quality=45, tp='P', cm=215, s1=2743, s2=2223, rl=895, experiment='t2tChrY-readst2tChrY-SVs-a0.99-d0.1-l10000', tool='winnowmap', read_name='S1_540', GT_ref='NC_060948.1', GT_from=29647903, GT_to=29657001, GT_strand='-', is_correct=True, start_diff=-1003237, end_diff=-1003348, read_sv='DUP')"
      ]
     },
     "metadata": {},
     "output_type": "display_data"
    },
    {
     "data": {
      "text/plain": [
       "'           GT from 29647903 to 29657001'"
      ]
     },
     "metadata": {},
     "output_type": "display_data"
    },
    {
     "data": {
      "text/plain": [
       "'       target from 28644666 to 28653653'"
      ]
     },
     "metadata": {},
     "output_type": "display_data"
    },
    {
     "data": {
      "text/plain": [
       "'    GT_labels from 28644578 to 28653675'"
      ]
     },
     "metadata": {},
     "output_type": "display_data"
    },
    {
     "data": {
      "text/plain": [
       "'target_labels from 28644667 to 28653653'"
      ]
     },
     "metadata": {},
     "output_type": "display_data"
    },
    {
     "data": {
      "text/plain": [
       "'8987 >?= 8188.2 = 0.9 * union 9098 => True'"
      ]
     },
     "metadata": {},
     "output_type": "display_data"
    },
    {
     "data": {
      "text/plain": [
       "Pandas(Index=585, query_name='S1_541!NC_060948.1!53277174!53290353!+', query_length=13231, query_start=66, query_end=13201, strand='+', target_name='NC_060948.1', target_length=62460029, target_start=51511688, target_end=51524797, residue_matches=3582, alignment_block_length=13179, mapping_quality=60, tp='P', cm=283, s1=3575, s2=501, rl=258, experiment='t2tChrY-readst2tChrY-SVs-a0.99-d0.1-l10000', tool='winnowmap', read_name='S1_541', GT_ref='NC_060948.1', GT_from=53277174, GT_to=53290353, GT_strand='+', is_correct=True, start_diff=-1765486, end_diff=-1765556, read_sv='multi')"
      ]
     },
     "metadata": {},
     "output_type": "display_data"
    },
    {
     "data": {
      "text/plain": [
       "'           GT from 53277174 to 53290353'"
      ]
     },
     "metadata": {},
     "output_type": "display_data"
    },
    {
     "data": {
      "text/plain": [
       "'       target from 51511688 to 51524797'"
      ]
     },
     "metadata": {},
     "output_type": "display_data"
    },
    {
     "data": {
      "text/plain": [
       "'    GT_labels from 51511624 to 51524827'"
      ]
     },
     "metadata": {},
     "output_type": "display_data"
    },
    {
     "data": {
      "text/plain": [
       "'target_labels from 51511689 to 51524797'"
      ]
     },
     "metadata": {},
     "output_type": "display_data"
    },
    {
     "data": {
      "text/plain": [
       "'13084 >?= 11883.6 = 0.9 * union 13204 => True'"
      ]
     },
     "metadata": {},
     "output_type": "display_data"
    },
    {
     "data": {
      "text/plain": [
       "Pandas(Index=596, query_name='S1_548!NC_060948.1!13621735!13632229!-', query_length=10536, query_start=17, query_end=10505, strand='-', target_name='NC_060948.1', target_length=62460029, target_start=13150352, target_end=13161030, residue_matches=4103, alignment_block_length=10739, mapping_quality=60, tp='P', cm=304, s1=4066, s2=0, rl=1254, experiment='t2tChrY-readst2tChrY-SVs-a0.99-d0.1-l10000', tool='winnowmap', read_name='S1_548', GT_ref='NC_060948.1', GT_from=13621735, GT_to=13632229, GT_strand='-', is_correct=True, start_diff=-471383, end_diff=-471199, read_sv='DUP')"
      ]
     },
     "metadata": {},
     "output_type": "display_data"
    },
    {
     "data": {
      "text/plain": [
       "'           GT from 13621735 to 13632229'"
      ]
     },
     "metadata": {},
     "output_type": "display_data"
    },
    {
     "data": {
      "text/plain": [
       "'       target from 13150352 to 13161030'"
      ]
     },
     "metadata": {},
     "output_type": "display_data"
    },
    {
     "data": {
      "text/plain": [
       "'    GT_labels from 13150322 to 13161047'"
      ]
     },
     "metadata": {},
     "output_type": "display_data"
    },
    {
     "data": {
      "text/plain": [
       "'target_labels from 13150353 to 13161030'"
      ]
     },
     "metadata": {},
     "output_type": "display_data"
    },
    {
     "data": {
      "text/plain": [
       "'10446 >?= 9653.4 = 0.9 * union 10726 => True'"
      ]
     },
     "metadata": {},
     "output_type": "display_data"
    },
    {
     "data": {
      "text/plain": [
       "Pandas(Index=599, query_name='S1_550!NC_060948.1!37731498!37743878!-', query_length=12415, query_start=20, query_end=12396, strand='-', target_name='NC_060948.1', target_length=62460029, target_start=36462618, target_end=36474733, residue_matches=3687, alignment_block_length=12391, mapping_quality=60, tp='P', cm=278, s1=3649, s2=2435, rl=813, experiment='t2tChrY-readst2tChrY-SVs-a0.99-d0.1-l10000', tool='winnowmap', read_name='S1_550', GT_ref='NC_060948.1', GT_from=37731498, GT_to=37743878, GT_strand='-', is_correct=True, start_diff=-1268880, end_diff=-1269145, read_sv='multi')"
      ]
     },
     "metadata": {},
     "output_type": "display_data"
    },
    {
     "data": {
      "text/plain": [
       "'           GT from 37731498 to 37743878'"
      ]
     },
     "metadata": {},
     "output_type": "display_data"
    },
    {
     "data": {
      "text/plain": [
       "'       target from 36462618 to 36474733'"
      ]
     },
     "metadata": {},
     "output_type": "display_data"
    },
    {
     "data": {
      "text/plain": [
       "'    GT_labels from -75334 to 36474753'"
      ]
     },
     "metadata": {},
     "output_type": "display_data"
    },
    {
     "data": {
      "text/plain": [
       "'target_labels from 36462619 to 36474733'"
      ]
     },
     "metadata": {},
     "output_type": "display_data"
    },
    {
     "data": {
      "text/plain": [
       "'12115 >?= 11142.0 = 0.9 * union 12380 => True'"
      ]
     },
     "metadata": {},
     "output_type": "display_data"
    },
    {
     "data": {
      "text/plain": [
       "Pandas(Index=601, query_name='S1_552!NC_060948.1!5366258!5380800!-', query_length=14579, query_start=0, query_end=14558, strand='-', target_name='NC_060948.1', target_length=62460029, target_start=5166990, target_end=5181511, residue_matches=5878, alignment_block_length=14587, mapping_quality=60, tp='P', cm=440, s1=5878, s2=0, rl=1560, experiment='t2tChrY-readst2tChrY-SVs-a0.99-d0.1-l10000', tool='winnowmap', read_name='S1_552', GT_ref='NC_060948.1', GT_from=5366258, GT_to=5380800, GT_strand='-', is_correct=True, start_diff=-199268, end_diff=-199289, read_sv='multi')"
      ]
     },
     "metadata": {},
     "output_type": "display_data"
    },
    {
     "data": {
      "text/plain": [
       "'           GT from 5366258 to 5380800'"
      ]
     },
     "metadata": {},
     "output_type": "display_data"
    },
    {
     "data": {
      "text/plain": [
       "'       target from 5166990 to 5181511'"
      ]
     },
     "metadata": {},
     "output_type": "display_data"
    },
    {
     "data": {
      "text/plain": [
       "'    GT_labels from 5166970 to 5181511'"
      ]
     },
     "metadata": {},
     "output_type": "display_data"
    },
    {
     "data": {
      "text/plain": [
       "'target_labels from 5166991 to 5181511'"
      ]
     },
     "metadata": {},
     "output_type": "display_data"
    },
    {
     "data": {
      "text/plain": [
       "'14521 >?= 13087.800000000001 = 0.9 * union 14542 => True'"
      ]
     },
     "metadata": {},
     "output_type": "display_data"
    },
    {
     "data": {
      "text/plain": [
       "Pandas(Index=602, query_name='S1_553!NC_060948.1!21197693!21207908!+', query_length=10248, query_start=77, query_end=10248, strand='+', target_name='NC_060948.1', target_length=62460029, target_start=20441082, target_end=20451221, residue_matches=4279, alignment_block_length=10194, mapping_quality=60, tp='P', cm=320, s1=4279, s2=0, rl=127, experiment='t2tChrY-readst2tChrY-SVs-a0.99-d0.1-l10000', tool='winnowmap', read_name='S1_553', GT_ref='NC_060948.1', GT_from=21197693, GT_to=21207908, GT_strand='+', is_correct=True, start_diff=-756611, end_diff=-756687, read_sv='DUP')"
      ]
     },
     "metadata": {},
     "output_type": "display_data"
    },
    {
     "data": {
      "text/plain": [
       "'           GT from 21197693 to 21207908'"
      ]
     },
     "metadata": {},
     "output_type": "display_data"
    },
    {
     "data": {
      "text/plain": [
       "'       target from 20441082 to 20451221'"
      ]
     },
     "metadata": {},
     "output_type": "display_data"
    },
    {
     "data": {
      "text/plain": [
       "'    GT_labels from 20441007 to 20451221'"
      ]
     },
     "metadata": {},
     "output_type": "display_data"
    },
    {
     "data": {
      "text/plain": [
       "'target_labels from 20441083 to 20451221'"
      ]
     },
     "metadata": {},
     "output_type": "display_data"
    },
    {
     "data": {
      "text/plain": [
       "'10139 >?= 9193.5 = 0.9 * union 10215 => True'"
      ]
     },
     "metadata": {},
     "output_type": "display_data"
    },
    {
     "data": {
      "text/plain": [
       "Pandas(Index=609, query_name='S1_556!NC_060948.1!16043839!16052257!-', query_length=8442, query_start=5, query_end=8433, strand='-', target_name='NC_060948.1', target_length=62460029, target_start=15467667, target_end=15476071, residue_matches=3516, alignment_block_length=8445, mapping_quality=60, tp='P', cm=269, s1=3516, s2=257, rl=0, experiment='t2tChrY-readst2tChrY-SVs-a0.99-d0.1-l10000', tool='winnowmap', read_name='S1_556', GT_ref='NC_060948.1', GT_from=16043839, GT_to=16052257, GT_strand='-', is_correct=True, start_diff=-576172, end_diff=-576186, read_sv='INV')"
      ]
     },
     "metadata": {},
     "output_type": "display_data"
    },
    {
     "data": {
      "text/plain": [
       "'           GT from 16043839 to 16052257'"
      ]
     },
     "metadata": {},
     "output_type": "display_data"
    },
    {
     "data": {
      "text/plain": [
       "'       target from 15467667 to 15476071'"
      ]
     },
     "metadata": {},
     "output_type": "display_data"
    },
    {
     "data": {
      "text/plain": [
       "'    GT_labels from 15467659 to 15476076'"
      ]
     },
     "metadata": {},
     "output_type": "display_data"
    },
    {
     "data": {
      "text/plain": [
       "'target_labels from 15467668 to 15476071'"
      ]
     },
     "metadata": {},
     "output_type": "display_data"
    },
    {
     "data": {
      "text/plain": [
       "'8404 >?= 7576.2 = 0.9 * union 8418 => True'"
      ]
     },
     "metadata": {},
     "output_type": "display_data"
    },
    {
     "data": {
      "text/plain": [
       "Pandas(Index=610, query_name='S1_557!NC_060948.1!36657524!36671194!+', query_length=13712, query_start=80, query_end=13704, strand='+', target_name='NC_060948.1', target_length=62460029, target_start=35425543, target_end=35439126, residue_matches=3639, alignment_block_length=13649, mapping_quality=60, tp='P', cm=286, s1=3636, s2=962, rl=345, experiment='t2tChrY-readst2tChrY-SVs-a0.99-d0.1-l10000', tool='winnowmap', read_name='S1_557', GT_ref='NC_060948.1', GT_from=36657524, GT_to=36671194, GT_strand='+', is_correct=True, start_diff=-1231981, end_diff=-1232068, read_sv='INV')"
      ]
     },
     "metadata": {},
     "output_type": "display_data"
    },
    {
     "data": {
      "text/plain": [
       "'           GT from 36657524 to 36671194'"
      ]
     },
     "metadata": {},
     "output_type": "display_data"
    },
    {
     "data": {
      "text/plain": [
       "'       target from 35425543 to 35439126'"
      ]
     },
     "metadata": {},
     "output_type": "display_data"
    },
    {
     "data": {
      "text/plain": [
       "'    GT_labels from 35425464 to 35439133'"
      ]
     },
     "metadata": {},
     "output_type": "display_data"
    },
    {
     "data": {
      "text/plain": [
       "'target_labels from 35425544 to 35439126'"
      ]
     },
     "metadata": {},
     "output_type": "display_data"
    },
    {
     "data": {
      "text/plain": [
       "'13583 >?= 12303.0 = 0.9 * union 13670 => True'"
      ]
     },
     "metadata": {},
     "output_type": "display_data"
    },
    {
     "data": {
      "text/plain": [
       "Pandas(Index=611, query_name='S1_558!NC_060948.1!31738198!31746212!-', query_length=8040, query_start=18, query_end=7955, strand='-', target_name='NC_060948.1', target_length=62460029, target_start=30666665, target_end=30674578, residue_matches=2301, alignment_block_length=7950, mapping_quality=9, tp='P', cm=176, s1=2301, s2=2202, rl=779, experiment='t2tChrY-readst2tChrY-SVs-a0.99-d0.1-l10000', tool='winnowmap', read_name='S1_558', GT_ref='NC_060948.1', GT_from=31738198, GT_to=31746212, GT_strand='-', is_correct=True, start_diff=-1071533, end_diff=-1071634, read_sv='INV')"
      ]
     },
     "metadata": {},
     "output_type": "display_data"
    },
    {
     "data": {
      "text/plain": [
       "'           GT from 31738198 to 31746212'"
      ]
     },
     "metadata": {},
     "output_type": "display_data"
    },
    {
     "data": {
      "text/plain": [
       "'       target from 30666665 to 30674578'"
      ]
     },
     "metadata": {},
     "output_type": "display_data"
    },
    {
     "data": {
      "text/plain": [
       "'    GT_labels from 30666582 to 30674595'"
      ]
     },
     "metadata": {},
     "output_type": "display_data"
    },
    {
     "data": {
      "text/plain": [
       "'target_labels from 30666666 to 30674578'"
      ]
     },
     "metadata": {},
     "output_type": "display_data"
    },
    {
     "data": {
      "text/plain": [
       "'7913 >?= 7212.6 = 0.9 * union 8014 => True'"
      ]
     },
     "metadata": {},
     "output_type": "display_data"
    },
    {
     "data": {
      "text/plain": [
       "Pandas(Index=620, query_name='S1_562!NC_060948.1!45615687!45625613!-', query_length=9949, query_start=8, query_end=9909, strand='-', target_name='NC_060948.1', target_length=62460029, target_start=44078943, target_end=44088820, residue_matches=2981, alignment_block_length=9932, mapping_quality=2, tp='P', cm=223, s1=2976, s2=2945, rl=1134, experiment='t2tChrY-readst2tChrY-SVs-a0.99-d0.1-l10000', tool='winnowmap', read_name='S1_562', GT_ref='NC_060948.1', GT_from=45615687, GT_to=45625613, GT_strand='-', is_correct=True, start_diff=-1536744, end_diff=-1536793, read_sv='DUP')"
      ]
     },
     "metadata": {},
     "output_type": "display_data"
    },
    {
     "data": {
      "text/plain": [
       "'           GT from 45615687 to 45625613'"
      ]
     },
     "metadata": {},
     "output_type": "display_data"
    },
    {
     "data": {
      "text/plain": [
       "'       target from 44078943 to 44088820'"
      ]
     },
     "metadata": {},
     "output_type": "display_data"
    },
    {
     "data": {
      "text/plain": [
       "'    GT_labels from 44078903 to 44088828'"
      ]
     },
     "metadata": {},
     "output_type": "display_data"
    },
    {
     "data": {
      "text/plain": [
       "'target_labels from 44078944 to 44088820'"
      ]
     },
     "metadata": {},
     "output_type": "display_data"
    },
    {
     "data": {
      "text/plain": [
       "'9877 >?= 8933.4 = 0.9 * union 9926 => True'"
      ]
     },
     "metadata": {},
     "output_type": "display_data"
    },
    {
     "data": {
      "text/plain": [
       "Pandas(Index=622, query_name='S1_564!NC_060948.1!24626752!24635480!-', query_length=8759, query_start=35, query_end=8734, strand='-', target_name='NC_060948.1', target_length=62460029, target_start=23767733, target_end=23776579, residue_matches=3649, alignment_block_length=8893, mapping_quality=4, tp='P', cm=277, s1=3619, s2=3566, rl=0, experiment='t2tChrY-readst2tChrY-SVs-a0.99-d0.1-l10000', tool='winnowmap', read_name='S1_564', GT_ref='NC_060948.1', GT_from=24626752, GT_to=24635480, GT_strand='-', is_correct=True, start_diff=-859019, end_diff=-858901, read_sv='INV')"
      ]
     },
     "metadata": {},
     "output_type": "display_data"
    },
    {
     "data": {
      "text/plain": [
       "'           GT from 24626752 to 24635480'"
      ]
     },
     "metadata": {},
     "output_type": "display_data"
    },
    {
     "data": {
      "text/plain": [
       "'       target from 23767733 to 23776579'"
      ]
     },
     "metadata": {},
     "output_type": "display_data"
    },
    {
     "data": {
      "text/plain": [
       "'    GT_labels from 23767709 to 23776613'"
      ]
     },
     "metadata": {},
     "output_type": "display_data"
    },
    {
     "data": {
      "text/plain": [
       "'target_labels from 23767734 to 23776579'"
      ]
     },
     "metadata": {},
     "output_type": "display_data"
    },
    {
     "data": {
      "text/plain": [
       "'8669 >?= 8014.5 = 0.9 * union 8905 => True'"
      ]
     },
     "metadata": {},
     "output_type": "display_data"
    },
    {
     "data": {
      "text/plain": [
       "Pandas(Index=630, query_name='S1_568!NC_060948.1!21619989!21629819!-', query_length=9871, query_start=4, query_end=9822, strand='-', target_name='NC_060948.1', target_length=62460029, target_start=20859798, target_end=20869574, residue_matches=4124, alignment_block_length=9836, mapping_quality=60, tp='P', cm=311, s1=4124, s2=58, rl=15, experiment='t2tChrY-readst2tChrY-SVs-a0.99-d0.1-l10000', tool='winnowmap', read_name='S1_568', GT_ref='NC_060948.1', GT_from=21619989, GT_to=21629819, GT_strand='-', is_correct=True, start_diff=-760191, end_diff=-760245, read_sv='INV')"
      ]
     },
     "metadata": {},
     "output_type": "display_data"
    },
    {
     "data": {
      "text/plain": [
       "'           GT from 21619989 to 21629819'"
      ]
     },
     "metadata": {},
     "output_type": "display_data"
    },
    {
     "data": {
      "text/plain": [
       "'       target from 20859798 to 20869574'"
      ]
     },
     "metadata": {},
     "output_type": "display_data"
    },
    {
     "data": {
      "text/plain": [
       "'    GT_labels from 20859749 to 20869578'"
      ]
     },
     "metadata": {},
     "output_type": "display_data"
    },
    {
     "data": {
      "text/plain": [
       "'target_labels from 20859799 to 20869574'"
      ]
     },
     "metadata": {},
     "output_type": "display_data"
    },
    {
     "data": {
      "text/plain": [
       "'9776 >?= 8847.0 = 0.9 * union 9830 => True'"
      ]
     },
     "metadata": {},
     "output_type": "display_data"
    },
    {
     "data": {
      "text/plain": [
       "Pandas(Index=632, query_name='S1_57!NC_060948.1!28955679!28965917!+', query_length=10266, query_start=68, query_end=10219, strand='+', target_name='NC_060948.1', target_length=62460029, target_start=27976156, target_end=27986280, residue_matches=3210, alignment_block_length=10170, mapping_quality=60, tp='P', cm=253, s1=3209, s2=246, rl=127, experiment='t2tChrY-readst2tChrY-SVs-a0.99-d0.1-l10000', tool='winnowmap', read_name='S1_57', GT_ref='NC_060948.1', GT_from=28955679, GT_to=28965917, GT_strand='+', is_correct=True, start_diff=-979523, end_diff=-979637, read_sv='DUP')"
      ]
     },
     "metadata": {},
     "output_type": "display_data"
    },
    {
     "data": {
      "text/plain": [
       "'           GT from 28955679 to 28965917'"
      ]
     },
     "metadata": {},
     "output_type": "display_data"
    },
    {
     "data": {
      "text/plain": [
       "'       target from 27976156 to 27986280'"
      ]
     },
     "metadata": {},
     "output_type": "display_data"
    },
    {
     "data": {
      "text/plain": [
       "'    GT_labels from 27976090 to 27986327'"
      ]
     },
     "metadata": {},
     "output_type": "display_data"
    },
    {
     "data": {
      "text/plain": [
       "'target_labels from 27976157 to 27986280'"
      ]
     },
     "metadata": {},
     "output_type": "display_data"
    },
    {
     "data": {
      "text/plain": [
       "'10124 >?= 9214.2 = 0.9 * union 10238 => True'"
      ]
     },
     "metadata": {},
     "output_type": "display_data"
    },
    {
     "data": {
      "text/plain": [
       "Pandas(Index=633, query_name='S1_570!NC_060948.1!34041402!34049646!-', query_length=8273, query_start=46, query_end=8265, strand='-', target_name='NC_060948.1', target_length=62460029, target_start=32908464, target_end=32916654, residue_matches=2208, alignment_block_length=8233, mapping_quality=54, tp='P', cm=183, s1=2206, s2=1670, rl=849, experiment='t2tChrY-readst2tChrY-SVs-a0.99-d0.1-l10000', tool='winnowmap', read_name='S1_570', GT_ref='NC_060948.1', GT_from=34041402, GT_to=34049646, GT_strand='-', is_correct=True, start_diff=-1132938, end_diff=-1132992, read_sv='DUP')"
      ]
     },
     "metadata": {},
     "output_type": "display_data"
    },
    {
     "data": {
      "text/plain": [
       "'           GT from 34041402 to 34049646'"
      ]
     },
     "metadata": {},
     "output_type": "display_data"
    },
    {
     "data": {
      "text/plain": [
       "'       target from 32908464 to 32916654'"
      ]
     },
     "metadata": {},
     "output_type": "display_data"
    },
    {
     "data": {
      "text/plain": [
       "'    GT_labels from 32908457 to 32916700'"
      ]
     },
     "metadata": {},
     "output_type": "display_data"
    },
    {
     "data": {
      "text/plain": [
       "'target_labels from 32908465 to 32916654'"
      ]
     },
     "metadata": {},
     "output_type": "display_data"
    },
    {
     "data": {
      "text/plain": [
       "'8190 >?= 7419.6 = 0.9 * union 8244 => True'"
      ]
     },
     "metadata": {},
     "output_type": "display_data"
    },
    {
     "data": {
      "text/plain": [
       "Pandas(Index=634, query_name='S1_571!NC_060948.1!54359570!54369310!+', query_length=9781, query_start=9, query_end=6773, strand='+', target_name='NC_060948.1', target_length=62460029, target_start=52556339, target_end=52563072, residue_matches=2044, alignment_block_length=6774, mapping_quality=1, tp='P', cm=156, s1=2044, s2=2028, rl=1113, experiment='t2tChrY-readst2tChrY-SVs-a0.99-d0.1-l10000', tool='winnowmap', read_name='S1_571', GT_ref='NC_060948.1', GT_from=54359570, GT_to=54369310, GT_strand='+', is_correct=False, start_diff=-1803231, end_diff=-1806238, read_sv='DEL')"
      ]
     },
     "metadata": {},
     "output_type": "display_data"
    },
    {
     "data": {
      "text/plain": [
       "'           GT from 54359570 to 54369310'"
      ]
     },
     "metadata": {},
     "output_type": "display_data"
    },
    {
     "data": {
      "text/plain": [
       "'       target from 52556339 to 52563072'"
      ]
     },
     "metadata": {},
     "output_type": "display_data"
    },
    {
     "data": {
      "text/plain": [
       "'    GT_labels from 52556331 to 52563190'"
      ]
     },
     "metadata": {},
     "output_type": "display_data"
    },
    {
     "data": {
      "text/plain": [
       "'target_labels from 52556340 to 52563072'"
      ]
     },
     "metadata": {},
     "output_type": "display_data"
    },
    {
     "data": {
      "text/plain": [
       "'6733 >?= 8766.0 = 0.9 * union 9740 => False'"
      ]
     },
     "metadata": {},
     "output_type": "display_data"
    },
    {
     "data": {
      "text/plain": [
       "Pandas(Index=635, query_name='S1_571!NC_060948.1!54359570!54369310!+', query_length=9781, query_start=6995, query_end=9474, strand='+', target_name='NC_060948.1', target_length=62460029, target_start=32560159, target_end=32562732, residue_matches=273, alignment_block_length=2587, mapping_quality=0, tp='P', cm=21, s1=251, s2=251, rl=1113, experiment='t2tChrY-readst2tChrY-SVs-a0.99-d0.1-l10000', tool='winnowmap', read_name='S1_571', GT_ref='NC_060948.1', GT_from=54359570, GT_to=54369310, GT_strand='+', is_correct=False, start_diff=-21799411, end_diff=-21806578, read_sv='DEL')"
      ]
     },
     "metadata": {},
     "output_type": "display_data"
    },
    {
     "data": {
      "text/plain": [
       "'           GT from 54359570 to 54369310'"
      ]
     },
     "metadata": {},
     "output_type": "display_data"
    },
    {
     "data": {
      "text/plain": [
       "'       target from 32560159 to 32562732'"
      ]
     },
     "metadata": {},
     "output_type": "display_data"
    },
    {
     "data": {
      "text/plain": [
       "'    GT_labels from 52556331 to 52563190'"
      ]
     },
     "metadata": {},
     "output_type": "display_data"
    },
    {
     "data": {
      "text/plain": [
       "'target_labels from 32560160 to 32562732'"
      ]
     },
     "metadata": {},
     "output_type": "display_data"
    },
    {
     "data": {
      "text/plain": [
       "'0 >?= 11081.7 = 0.9 * union 12313 => False'"
      ]
     },
     "metadata": {},
     "output_type": "display_data"
    },
    {
     "data": {
      "text/plain": [
       "Pandas(Index=637, query_name='S1_573!NC_060948.1!36394338!36401588!+', query_length=7271, query_start=861, query_end=7166, strand='+', target_name='NC_060948.1', target_length=62460029, target_start=35167135, target_end=35173551, residue_matches=1473, alignment_block_length=6440, mapping_quality=2, tp='P', cm=110, s1=1451, s2=1436, rl=795, experiment='t2tChrY-readst2tChrY-SVs-a0.99-d0.1-l10000', tool='winnowmap', read_name='S1_573', GT_ref='NC_060948.1', GT_from=36394338, GT_to=36401588, GT_strand='+', is_correct=False, start_diff=-1227203, end_diff=-1228037, read_sv='DEL')"
      ]
     },
     "metadata": {},
     "output_type": "display_data"
    },
    {
     "data": {
      "text/plain": [
       "'           GT from 36394338 to 36401588'"
      ]
     },
     "metadata": {},
     "output_type": "display_data"
    },
    {
     "data": {
      "text/plain": [
       "'       target from 35167135 to 35173551'"
      ]
     },
     "metadata": {},
     "output_type": "display_data"
    },
    {
     "data": {
      "text/plain": [
       "'    GT_labels from 35169464 to 35173653'"
      ]
     },
     "metadata": {},
     "output_type": "display_data"
    },
    {
     "data": {
      "text/plain": [
       "'target_labels from 35167136 to 35173551'"
      ]
     },
     "metadata": {},
     "output_type": "display_data"
    },
    {
     "data": {
      "text/plain": [
       "'4088 >?= 8620.2 = 0.9 * union 9578 => False'"
      ]
     },
     "metadata": {},
     "output_type": "display_data"
    },
    {
     "data": {
      "text/plain": [
       "Pandas(Index=638, query_name='S1_573!NC_060948.1!36394338!36401588!+', query_length=7271, query_start=44, query_end=645, strand='+', target_name='NC_060948.1', target_length=62460029, target_start=31191831, target_end=31192429, residue_matches=176, alignment_block_length=601, mapping_quality=8, tp='P', cm=12, s1=176, s2=165, rl=795, experiment='t2tChrY-readst2tChrY-SVs-a0.99-d0.1-l10000', tool='winnowmap', read_name='S1_573', GT_ref='NC_060948.1', GT_from=36394338, GT_to=36401588, GT_strand='+', is_correct=False, start_diff=-5202507, end_diff=-5209159, read_sv='DEL')"
      ]
     },
     "metadata": {},
     "output_type": "display_data"
    },
    {
     "data": {
      "text/plain": [
       "'           GT from 36394338 to 36401588'"
      ]
     },
     "metadata": {},
     "output_type": "display_data"
    },
    {
     "data": {
      "text/plain": [
       "'       target from 31191831 to 31192429'"
      ]
     },
     "metadata": {},
     "output_type": "display_data"
    },
    {
     "data": {
      "text/plain": [
       "'    GT_labels from 35169464 to 35173653'"
      ]
     },
     "metadata": {},
     "output_type": "display_data"
    },
    {
     "data": {
      "text/plain": [
       "'target_labels from 31191832 to 31192429'"
      ]
     },
     "metadata": {},
     "output_type": "display_data"
    },
    {
     "data": {
      "text/plain": [
       "'0 >?= 7063.2 = 0.9 * union 7848 => False'"
      ]
     },
     "metadata": {},
     "output_type": "display_data"
    },
    {
     "data": {
      "text/plain": [
       "Pandas(Index=647, query_name='S1_58!NC_060948.1!39947910!39960667!-', query_length=12783, query_start=75, query_end=8879, strand='-', target_name='NC_060948.1', target_length=62460029, target_start=38620245, target_end=38629041, residue_matches=2386, alignment_block_length=8823, mapping_quality=58, tp='P', cm=190, s1=2386, s2=1795, rl=869, experiment='t2tChrY-readst2tChrY-SVs-a0.99-d0.1-l10000', tool='winnowmap', read_name='S1_58', GT_ref='NC_060948.1', GT_from=39947910, GT_to=39960667, GT_strand='-', is_correct=False, start_diff=-1327665, end_diff=-1331626, read_sv='multi')"
      ]
     },
     "metadata": {},
     "output_type": "display_data"
    },
    {
     "data": {
      "text/plain": [
       "'           GT from 39947910 to 39960667'"
      ]
     },
     "metadata": {},
     "output_type": "display_data"
    },
    {
     "data": {
      "text/plain": [
       "'       target from 38620245 to 38629041'"
      ]
     },
     "metadata": {},
     "output_type": "display_data"
    },
    {
     "data": {
      "text/plain": [
       "'    GT_labels from 38618989 to 38629115'"
      ]
     },
     "metadata": {},
     "output_type": "display_data"
    },
    {
     "data": {
      "text/plain": [
       "'target_labels from 38620246 to 38629041'"
      ]
     },
     "metadata": {},
     "output_type": "display_data"
    },
    {
     "data": {
      "text/plain": [
       "'8796 >?= 11481.300000000001 = 0.9 * union 12757 => False'"
      ]
     },
     "metadata": {},
     "output_type": "display_data"
    },
    {
     "data": {
      "text/plain": [
       "Pandas(Index=648, query_name='S1_58!NC_060948.1!39947910!39960667!-', query_length=12783, query_start=10220, query_end=11971, strand='-', target_name='NC_060948.1', target_length=62460029, target_start=31208148, target_end=31209853, residue_matches=372, alignment_block_length=1751, mapping_quality=23, tp='P', cm=28, s1=364, s2=316, rl=869, experiment='t2tChrY-readst2tChrY-SVs-a0.99-d0.1-l10000', tool='winnowmap', read_name='S1_58', GT_ref='NC_060948.1', GT_from=39947910, GT_to=39960667, GT_strand='-', is_correct=False, start_diff=-8739762, end_diff=-8750814, read_sv='multi')"
      ]
     },
     "metadata": {},
     "output_type": "display_data"
    },
    {
     "data": {
      "text/plain": [
       "'           GT from 39947910 to 39960667'"
      ]
     },
     "metadata": {},
     "output_type": "display_data"
    },
    {
     "data": {
      "text/plain": [
       "'       target from 31208148 to 31209853'"
      ]
     },
     "metadata": {},
     "output_type": "display_data"
    },
    {
     "data": {
      "text/plain": [
       "'    GT_labels from 38618989 to 38629115'"
      ]
     },
     "metadata": {},
     "output_type": "display_data"
    },
    {
     "data": {
      "text/plain": [
       "'target_labels from 31208149 to 31209853'"
      ]
     },
     "metadata": {},
     "output_type": "display_data"
    },
    {
     "data": {
      "text/plain": [
       "'0 >?= 13015.800000000001 = 0.9 * union 14462 => False'"
      ]
     },
     "metadata": {},
     "output_type": "display_data"
    },
    {
     "data": {
      "text/plain": [
       "Pandas(Index=652, query_name='S1_583!NC_060948.1!24595113!24605560!+', query_length=10466, query_start=42, query_end=10437, strand='+', target_name='NC_060948.1', target_length=62460029, target_start=23736111, target_end=23746487, residue_matches=4413, alignment_block_length=10417, mapping_quality=60, tp='P', cm=333, s1=4413, s2=3540, rl=0, experiment='t2tChrY-readst2tChrY-SVs-a0.99-d0.1-l10000', tool='winnowmap', read_name='S1_583', GT_ref='NC_060948.1', GT_from=24595113, GT_to=24605560, GT_strand='+', is_correct=True, start_diff=-859002, end_diff=-859073, read_sv='INV')"
      ]
     },
     "metadata": {},
     "output_type": "display_data"
    },
    {
     "data": {
      "text/plain": [
       "'           GT from 24595113 to 24605560'"
      ]
     },
     "metadata": {},
     "output_type": "display_data"
    },
    {
     "data": {
      "text/plain": [
       "'       target from 23736111 to 23746487'"
      ]
     },
     "metadata": {},
     "output_type": "display_data"
    },
    {
     "data": {
      "text/plain": [
       "'    GT_labels from 23736070 to 23746516'"
      ]
     },
     "metadata": {},
     "output_type": "display_data"
    },
    {
     "data": {
      "text/plain": [
       "'target_labels from 23736112 to 23746487'"
      ]
     },
     "metadata": {},
     "output_type": "display_data"
    },
    {
     "data": {
      "text/plain": [
       "'10376 >?= 9402.300000000001 = 0.9 * union 10447 => True'"
      ]
     },
     "metadata": {},
     "output_type": "display_data"
    },
    {
     "data": {
      "text/plain": [
       "Pandas(Index=653, query_name='S1_584!NC_060948.1!45796060!45805947!-', query_length=9901, query_start=0, query_end=9806, strand='-', target_name='NC_060948.1', target_length=62460029, target_start=44252166, target_end=44261956, residue_matches=3017, alignment_block_length=9828, mapping_quality=6, tp='P', cm=236, s1=3017, s2=2935, rl=1152, experiment='t2tChrY-readst2tChrY-SVs-a0.99-d0.1-l10000', tool='winnowmap', read_name='S1_584', GT_ref='NC_060948.1', GT_from=45796060, GT_to=45805947, GT_strand='-', is_correct=True, start_diff=-1543894, end_diff=-1543991, read_sv='DUP')"
      ]
     },
     "metadata": {},
     "output_type": "display_data"
    },
    {
     "data": {
      "text/plain": [
       "'           GT from 45796060 to 45805947'"
      ]
     },
     "metadata": {},
     "output_type": "display_data"
    },
    {
     "data": {
      "text/plain": [
       "'       target from 44252166 to 44261956'"
      ]
     },
     "metadata": {},
     "output_type": "display_data"
    },
    {
     "data": {
      "text/plain": [
       "'    GT_labels from 44252070 to 44261956'"
      ]
     },
     "metadata": {},
     "output_type": "display_data"
    },
    {
     "data": {
      "text/plain": [
       "'target_labels from 44252167 to 44261956'"
      ]
     },
     "metadata": {},
     "output_type": "display_data"
    },
    {
     "data": {
      "text/plain": [
       "'9790 >?= 8898.300000000001 = 0.9 * union 9887 => True'"
      ]
     },
     "metadata": {},
     "output_type": "display_data"
    },
    {
     "data": {
      "text/plain": [
       "Pandas(Index=654, query_name='S1_585!NC_060948.1!2548247!2555677!+', query_length=7447, query_start=17, query_end=7391, strand='+', target_name='NC_060948.1', target_length=62460029, target_start=2464212, target_end=2471570, residue_matches=2944, alignment_block_length=7397, mapping_quality=60, tp='P', cm=217, s1=2944, s2=0, rl=0, experiment='t2tChrY-readst2tChrY-SVs-a0.99-d0.1-l10000', tool='winnowmap', read_name='S1_585', GT_ref='NC_060948.1', GT_from=2548247, GT_to=2555677, GT_strand='+', is_correct=True, start_diff=-84035, end_diff=-84107, read_sv='INS')"
      ]
     },
     "metadata": {},
     "output_type": "display_data"
    },
    {
     "data": {
      "text/plain": [
       "'           GT from 2548247 to 2555677'"
      ]
     },
     "metadata": {},
     "output_type": "display_data"
    },
    {
     "data": {
      "text/plain": [
       "'       target from 2464212 to 2471570'"
      ]
     },
     "metadata": {},
     "output_type": "display_data"
    },
    {
     "data": {
      "text/plain": [
       "'    GT_labels from 2464196 to 2471584'"
      ]
     },
     "metadata": {},
     "output_type": "display_data"
    },
    {
     "data": {
      "text/plain": [
       "'target_labels from 2464213 to 2471570'"
      ]
     },
     "metadata": {},
     "output_type": "display_data"
    },
    {
     "data": {
      "text/plain": [
       "'7358 >?= 6687.0 = 0.9 * union 7430 => True'"
      ]
     },
     "metadata": {},
     "output_type": "display_data"
    },
    {
     "data": {
      "text/plain": [
       "Pandas(Index=657, query_name='S1_588!NC_060948.1!47428462!47435842!-', query_length=7410, query_start=227, query_end=7392, strand='-', target_name='NC_060948.1', target_length=62460029, target_start=45841338, target_end=45848476, residue_matches=2068, alignment_block_length=7177, mapping_quality=1, tp='P', cm=155, s1=2068, s2=2052, rl=809, experiment='t2tChrY-readst2tChrY-SVs-a0.99-d0.1-l10000', tool='winnowmap', read_name='S1_588', GT_ref='NC_060948.1', GT_from=47428462, GT_to=47435842, GT_strand='-', is_correct=True, start_diff=-1587124, end_diff=-1587366, read_sv='multi')"
      ]
     },
     "metadata": {},
     "output_type": "display_data"
    },
    {
     "data": {
      "text/plain": [
       "'           GT from 47428462 to 47435842'"
      ]
     },
     "metadata": {},
     "output_type": "display_data"
    },
    {
     "data": {
      "text/plain": [
       "'       target from 45841338 to 45848476'"
      ]
     },
     "metadata": {},
     "output_type": "display_data"
    },
    {
     "data": {
      "text/plain": [
       "'    GT_labels from 45841321 to 45848700'"
      ]
     },
     "metadata": {},
     "output_type": "display_data"
    },
    {
     "data": {
      "text/plain": [
       "'target_labels from 45841339 to 45848476'"
      ]
     },
     "metadata": {},
     "output_type": "display_data"
    },
    {
     "data": {
      "text/plain": [
       "'7138 >?= 6642.0 = 0.9 * union 7380 => True'"
      ]
     },
     "metadata": {},
     "output_type": "display_data"
    },
    {
     "data": {
      "text/plain": [
       "Pandas(Index=659, query_name='S1_59!NC_060948.1!12677680!12688545!+', query_length=10898, query_start=46, query_end=10890, strand='+', target_name='NC_060948.1', target_length=62460029, target_start=12233282, target_end=12244093, residue_matches=3972, alignment_block_length=10869, mapping_quality=60, tp='P', cm=319, s1=3972, s2=343, rl=270, experiment='t2tChrY-readst2tChrY-SVs-a0.99-d0.1-l10000', tool='winnowmap', read_name='S1_59', GT_ref='NC_060948.1', GT_from=12677680, GT_to=12688545, GT_strand='+', is_correct=True, start_diff=-444398, end_diff=-444452, read_sv='multi')"
      ]
     },
     "metadata": {},
     "output_type": "display_data"
    },
    {
     "data": {
      "text/plain": [
       "'           GT from 12677680 to 12688545'"
      ]
     },
     "metadata": {},
     "output_type": "display_data"
    },
    {
     "data": {
      "text/plain": [
       "'       target from 12233282 to 12244093'"
      ]
     },
     "metadata": {},
     "output_type": "display_data"
    },
    {
     "data": {
      "text/plain": [
       "'    GT_labels from 12233237 to 12244101'"
      ]
     },
     "metadata": {},
     "output_type": "display_data"
    },
    {
     "data": {
      "text/plain": [
       "'target_labels from 12233283 to 12244093'"
      ]
     },
     "metadata": {},
     "output_type": "display_data"
    },
    {
     "data": {
      "text/plain": [
       "'10811 >?= 9778.5 = 0.9 * union 10865 => True'"
      ]
     },
     "metadata": {},
     "output_type": "display_data"
    },
    {
     "data": {
      "text/plain": [
       "Pandas(Index=660, query_name='S1_590!NC_060948.1!59444431!59457880!-', query_length=13490, query_start=1176, query_end=13461, strand='-', target_name='NC_060948.1', target_length=62460029, target_start=57484585, target_end=57496838, residue_matches=3753, alignment_block_length=12311, mapping_quality=60, tp='P', cm=291, s1=3753, s2=503, rl=375, experiment='t2tChrY-readst2tChrY-SVs-a0.99-d0.1-l10000', tool='winnowmap', read_name='S1_590', GT_ref='NC_060948.1', GT_from=59444431, GT_to=59457880, GT_strand='-', is_correct=True, start_diff=-1959846, end_diff=-1961042, read_sv='DEL')"
      ]
     },
     "metadata": {},
     "output_type": "display_data"
    },
    {
     "data": {
      "text/plain": [
       "'           GT from 59444431 to 59457880'"
      ]
     },
     "metadata": {},
     "output_type": "display_data"
    },
    {
     "data": {
      "text/plain": [
       "'       target from 57484585 to 57496838'"
      ]
     },
     "metadata": {},
     "output_type": "display_data"
    },
    {
     "data": {
      "text/plain": [
       "'    GT_labels from 57484559 to 57496879'"
      ]
     },
     "metadata": {},
     "output_type": "display_data"
    },
    {
     "data": {
      "text/plain": [
       "'target_labels from 57484586 to 57496838'"
      ]
     },
     "metadata": {},
     "output_type": "display_data"
    },
    {
     "data": {
      "text/plain": [
       "'12253 >?= 12104.1 = 0.9 * union 13449 => True'"
      ]
     },
     "metadata": {},
     "output_type": "display_data"
    },
    {
     "data": {
      "text/plain": [
       "Pandas(Index=662, query_name='S1_590!NC_060948.1!59444431!59457880!-', query_length=13490, query_start=145, query_end=468, strand='-', target_name='NC_060948.1', target_length=62460029, target_start=32741684, target_end=32742005, residue_matches=124, alignment_block_length=324, mapping_quality=0, tp='P', cm=10, s1=124, s2=124, rl=375, experiment='t2tChrY-readst2tChrY-SVs-a0.99-d0.1-l10000', tool='winnowmap', read_name='S1_590', GT_ref='NC_060948.1', GT_from=59444431, GT_to=59457880, GT_strand='-', is_correct=False, start_diff=-26702747, end_diff=-26715875, read_sv='DEL')"
      ]
     },
     "metadata": {},
     "output_type": "display_data"
    },
    {
     "data": {
      "text/plain": [
       "'           GT from 59444431 to 59457880'"
      ]
     },
     "metadata": {},
     "output_type": "display_data"
    },
    {
     "data": {
      "text/plain": [
       "'       target from 32741684 to 32742005'"
      ]
     },
     "metadata": {},
     "output_type": "display_data"
    },
    {
     "data": {
      "text/plain": [
       "'    GT_labels from 57484559 to 57496879'"
      ]
     },
     "metadata": {},
     "output_type": "display_data"
    },
    {
     "data": {
      "text/plain": [
       "'target_labels from 32741685 to 32742005'"
      ]
     },
     "metadata": {},
     "output_type": "display_data"
    },
    {
     "data": {
      "text/plain": [
       "'0 >?= 12393.0 = 0.9 * union 13770 => False'"
      ]
     },
     "metadata": {},
     "output_type": "display_data"
    },
    {
     "data": {
      "text/plain": [
       "Pandas(Index=675, query_name='S1_599!NC_060948.1!25856662!25866952!+', query_length=10309, query_start=30, query_end=10262, strand='+', target_name='NC_060948.1', target_length=62460029, target_start=24945998, target_end=24956212, residue_matches=4348, alignment_block_length=10255, mapping_quality=60, tp='P', cm=334, s1=4348, s2=2253, rl=0, experiment='t2tChrY-readst2tChrY-SVs-a0.99-d0.1-l10000', tool='winnowmap', read_name='S1_599', GT_ref='NC_060948.1', GT_from=25856662, GT_to=25866952, GT_strand='+', is_correct=True, start_diff=-910664, end_diff=-910740, read_sv='DUP')"
      ]
     },
     "metadata": {},
     "output_type": "display_data"
    },
    {
     "data": {
      "text/plain": [
       "'           GT from 25856662 to 25866952'"
      ]
     },
     "metadata": {},
     "output_type": "display_data"
    },
    {
     "data": {
      "text/plain": [
       "'       target from 24945998 to 24956212'"
      ]
     },
     "metadata": {},
     "output_type": "display_data"
    },
    {
     "data": {
      "text/plain": [
       "'    GT_labels from 24945969 to 24956258'"
      ]
     },
     "metadata": {},
     "output_type": "display_data"
    },
    {
     "data": {
      "text/plain": [
       "'target_labels from 24945999 to 24956212'"
      ]
     },
     "metadata": {},
     "output_type": "display_data"
    },
    {
     "data": {
      "text/plain": [
       "'10214 >?= 9261.0 = 0.9 * union 10290 => True'"
      ]
     },
     "metadata": {},
     "output_type": "display_data"
    },
    {
     "data": {
      "text/plain": [
       "Pandas(Index=677, query_name='S1_60!NC_060948.1!13273294!13280813!-', query_length=7535, query_start=23, query_end=7520, strand='-', target_name='NC_060948.1', target_length=62460029, target_start=12812841, target_end=12820322, residue_matches=3040, alignment_block_length=7536, mapping_quality=60, tp='P', cm=222, s1=3030, s2=43, rl=0, experiment='t2tChrY-readst2tChrY-SVs-a0.99-d0.1-l10000', tool='winnowmap', read_name='S1_60', GT_ref='NC_060948.1', GT_from=13273294, GT_to=13280813, GT_strand='-', is_correct=True, start_diff=-460453, end_diff=-460491, read_sv='DUP')"
      ]
     },
     "metadata": {},
     "output_type": "display_data"
    },
    {
     "data": {
      "text/plain": [
       "'           GT from 13273294 to 13280813'"
      ]
     },
     "metadata": {},
     "output_type": "display_data"
    },
    {
     "data": {
      "text/plain": [
       "'       target from 12812841 to 12820322'"
      ]
     },
     "metadata": {},
     "output_type": "display_data"
    },
    {
     "data": {
      "text/plain": [
       "'    GT_labels from 12812827 to 12820345'"
      ]
     },
     "metadata": {},
     "output_type": "display_data"
    },
    {
     "data": {
      "text/plain": [
       "'target_labels from 12812842 to 12820322'"
      ]
     },
     "metadata": {},
     "output_type": "display_data"
    },
    {
     "data": {
      "text/plain": [
       "'7481 >?= 6767.1 = 0.9 * union 7519 => True'"
      ]
     },
     "metadata": {},
     "output_type": "display_data"
    },
    {
     "data": {
      "text/plain": [
       "Pandas(Index=679, query_name='S1_601!NC_060948.1!53043276!53055332!+', query_length=12102, query_start=33, query_end=11961, strand='+', target_name='NC_060948.1', target_length=62460029, target_start=51286104, target_end=51297986, residue_matches=3663, alignment_block_length=11940, mapping_quality=15, tp='P', cm=282, s1=3663, s2=3427, rl=1203, experiment='t2tChrY-readst2tChrY-SVs-a0.99-d0.1-l10000', tool='winnowmap', read_name='S1_601', GT_ref='NC_060948.1', GT_from=53043276, GT_to=53055332, GT_strand='+', is_correct=True, start_diff=-1757172, end_diff=-1757346, read_sv='INS')"
      ]
     },
     "metadata": {},
     "output_type": "display_data"
    },
    {
     "data": {
      "text/plain": [
       "'           GT from 53043276 to 53055332'"
      ]
     },
     "metadata": {},
     "output_type": "display_data"
    },
    {
     "data": {
      "text/plain": [
       "'       target from 51286104 to 51297986'"
      ]
     },
     "metadata": {},
     "output_type": "display_data"
    },
    {
     "data": {
      "text/plain": [
       "'    GT_labels from 51286072 to 51298635'"
      ]
     },
     "metadata": {},
     "output_type": "display_data"
    },
    {
     "data": {
      "text/plain": [
       "'target_labels from 51286105 to 51297986'"
      ]
     },
     "metadata": {},
     "output_type": "display_data"
    },
    {
     "data": {
      "text/plain": [
       "'11882 >?= 10850.4 = 0.9 * union 12056 => True'"
      ]
     },
     "metadata": {},
     "output_type": "display_data"
    },
    {
     "data": {
      "text/plain": [
       "Pandas(Index=686, query_name='S1_605!NC_060948.1!61289475!61301064!+', query_length=11634, query_start=47, query_end=11585, strand='+', target_name='NC_060948.1', target_length=62460029, target_start=59244605, target_end=59256098, residue_matches=3500, alignment_block_length=11551, mapping_quality=60, tp='P', cm=277, s1=3499, s2=1653, rl=606, experiment='t2tChrY-readst2tChrY-SVs-a0.99-d0.1-l10000', tool='winnowmap', read_name='S1_605', GT_ref='NC_060948.1', GT_from=61289475, GT_to=61301064, GT_strand='+', is_correct=True, start_diff=-2044870, end_diff=-2044966, read_sv='multi')"
      ]
     },
     "metadata": {},
     "output_type": "display_data"
    },
    {
     "data": {
      "text/plain": [
       "'           GT from 61289475 to 61301064'"
      ]
     },
     "metadata": {},
     "output_type": "display_data"
    },
    {
     "data": {
      "text/plain": [
       "'       target from 59244605 to 59256098'"
      ]
     },
     "metadata": {},
     "output_type": "display_data"
    },
    {
     "data": {
      "text/plain": [
       "'    GT_labels from 59244559 to 59256147'"
      ]
     },
     "metadata": {},
     "output_type": "display_data"
    },
    {
     "data": {
      "text/plain": [
       "'target_labels from 59244606 to 59256098'"
      ]
     },
     "metadata": {},
     "output_type": "display_data"
    },
    {
     "data": {
      "text/plain": [
       "'11493 >?= 10430.1 = 0.9 * union 11589 => True'"
      ]
     },
     "metadata": {},
     "output_type": "display_data"
    },
    {
     "data": {
      "text/plain": [
       "Pandas(Index=689, query_name='S1_608!NC_060948.1!49335277!49348418!-', query_length=13183, query_start=93, query_end=13151, strand='-', target_name='NC_060948.1', target_length=62460029, target_start=47686975, target_end=47699668, residue_matches=2844, alignment_block_length=13071, mapping_quality=60, tp='P', cm=213, s1=2791, s2=378, rl=186, experiment='t2tChrY-readst2tChrY-SVs-a0.99-d0.1-l10000', tool='winnowmap', read_name='S1_608', GT_ref='NC_060948.1', GT_from=49335277, GT_to=49348418, GT_strand='-', is_correct=False, start_diff=-1648302, end_diff=-1648750, read_sv='DEL')"
      ]
     },
     "metadata": {},
     "output_type": "display_data"
    },
    {
     "data": {
      "text/plain": [
       "'           GT from 49335277 to 49348418'"
      ]
     },
     "metadata": {},
     "output_type": "display_data"
    },
    {
     "data": {
      "text/plain": [
       "'       target from 47686975 to 47699668'"
      ]
     },
     "metadata": {},
     "output_type": "display_data"
    },
    {
     "data": {
      "text/plain": [
       "'    GT_labels from 47686944 to 47696214'"
      ]
     },
     "metadata": {},
     "output_type": "display_data"
    },
    {
     "data": {
      "text/plain": [
       "'target_labels from 47686976 to 47699668'"
      ]
     },
     "metadata": {},
     "output_type": "display_data"
    },
    {
     "data": {
      "text/plain": [
       "'9239 >?= 14935.5 = 0.9 * union 16595 => False'"
      ]
     },
     "metadata": {},
     "output_type": "display_data"
    },
    {
     "data": {
      "text/plain": [
       "Pandas(Index=690, query_name='S1_609!NC_060948.1!57244546!57258010!+', query_length=13502, query_start=36, query_end=13419, strand='+', target_name='NC_060948.1', target_length=62460029, target_start=55339907, target_end=55353165, residue_matches=3881, alignment_block_length=13412, mapping_quality=60, tp='P', cm=303, s1=3865, s2=273, rl=123, experiment='t2tChrY-readst2tChrY-SVs-a0.99-d0.1-l10000', tool='winnowmap', read_name='S1_609', GT_ref='NC_060948.1', GT_from=57244546, GT_to=57258010, GT_strand='+', is_correct=True, start_diff=-1904639, end_diff=-1904845, read_sv='INS')"
      ]
     },
     "metadata": {},
     "output_type": "display_data"
    },
    {
     "data": {
      "text/plain": [
       "'           GT from 57244546 to 57258010'"
      ]
     },
     "metadata": {},
     "output_type": "display_data"
    },
    {
     "data": {
      "text/plain": [
       "'       target from 55339907 to 55353165'"
      ]
     },
     "metadata": {},
     "output_type": "display_data"
    },
    {
     "data": {
      "text/plain": [
       "'    GT_labels from -118582 to 55353247'"
      ]
     },
     "metadata": {},
     "output_type": "display_data"
    },
    {
     "data": {
      "text/plain": [
       "'target_labels from 55339908 to 55353165'"
      ]
     },
     "metadata": {},
     "output_type": "display_data"
    },
    {
     "data": {
      "text/plain": [
       "'13258 >?= 12117.6 = 0.9 * union 13464 => True'"
      ]
     },
     "metadata": {},
     "output_type": "display_data"
    },
    {
     "data": {
      "text/plain": [
       "Pandas(Index=695, query_name='S1_612!NC_060948.1!17325247!17333809!-', query_length=8585, query_start=42, query_end=8584, strand='-', target_name='NC_060948.1', target_length=62460029, target_start=16698143, target_end=16706663, residue_matches=3627, alignment_block_length=8561, mapping_quality=60, tp='P', cm=277, s1=3627, s2=60, rl=0, experiment='t2tChrY-readst2tChrY-SVs-a0.99-d0.1-l10000', tool='winnowmap', read_name='S1_612', GT_ref='NC_060948.1', GT_from=17325247, GT_to=17333809, GT_strand='-', is_correct=True, start_diff=-627104, end_diff=-627146, read_sv='INV')"
      ]
     },
     "metadata": {},
     "output_type": "display_data"
    },
    {
     "data": {
      "text/plain": [
       "'           GT from 17325247 to 17333809'"
      ]
     },
     "metadata": {},
     "output_type": "display_data"
    },
    {
     "data": {
      "text/plain": [
       "'       target from 16698143 to 16706663'"
      ]
     },
     "metadata": {},
     "output_type": "display_data"
    },
    {
     "data": {
      "text/plain": [
       "'    GT_labels from 16698143 to 16706704'"
      ]
     },
     "metadata": {},
     "output_type": "display_data"
    },
    {
     "data": {
      "text/plain": [
       "'target_labels from 16698144 to 16706663'"
      ]
     },
     "metadata": {},
     "output_type": "display_data"
    },
    {
     "data": {
      "text/plain": [
       "'8520 >?= 7705.8 = 0.9 * union 8562 => True'"
      ]
     },
     "metadata": {},
     "output_type": "display_data"
    },
    {
     "data": {
      "text/plain": [
       "Pandas(Index=698, query_name='S1_615!NC_060948.1!60735527!60748302!+', query_length=12794, query_start=1, query_end=12746, strand='+', target_name='NC_060948.1', target_length=62460029, target_start=58707297, target_end=58720023, residue_matches=3819, alignment_block_length=12776, mapping_quality=18, tp='P', cm=295, s1=3819, s2=3535, rl=1357, experiment='t2tChrY-readst2tChrY-SVs-a0.99-d0.1-l10000', tool='winnowmap', read_name='S1_615', GT_ref='NC_060948.1', GT_from=60735527, GT_to=60748302, GT_strand='+', is_correct=True, start_diff=-2028230, end_diff=-2028279, read_sv='DUP')"
      ]
     },
     "metadata": {},
     "output_type": "display_data"
    },
    {
     "data": {
      "text/plain": [
       "'           GT from 60735527 to 60748302'"
      ]
     },
     "metadata": {},
     "output_type": "display_data"
    },
    {
     "data": {
      "text/plain": [
       "'       target from 58707297 to 58720023'"
      ]
     },
     "metadata": {},
     "output_type": "display_data"
    },
    {
     "data": {
      "text/plain": [
       "'    GT_labels from 58707297 to 58720071'"
      ]
     },
     "metadata": {},
     "output_type": "display_data"
    },
    {
     "data": {
      "text/plain": [
       "'target_labels from 58707298 to 58720023'"
      ]
     },
     "metadata": {},
     "output_type": "display_data"
    },
    {
     "data": {
      "text/plain": [
       "'12726 >?= 11497.5 = 0.9 * union 12775 => True'"
      ]
     },
     "metadata": {},
     "output_type": "display_data"
    },
    {
     "data": {
      "text/plain": [
       "Pandas(Index=700, query_name='S1_617!NC_060948.1!46882089!46892066!+', query_length=10009, query_start=8, query_end=9125, strand='+', target_name='NC_060948.1', target_length=62460029, target_start=45322637, target_end=45331725, residue_matches=2552, alignment_block_length=9131, mapping_quality=60, tp='P', cm=201, s1=2551, s2=0, rl=450, experiment='t2tChrY-readst2tChrY-SVs-a0.99-d0.1-l10000', tool='winnowmap', read_name='S1_617', GT_ref='NC_060948.1', GT_from=46882089, GT_to=46892066, GT_strand='+', is_correct=True, start_diff=-1559452, end_diff=-1560341, read_sv='DUP')"
      ]
     },
     "metadata": {},
     "output_type": "display_data"
    },
    {
     "data": {
      "text/plain": [
       "'           GT from 46882089 to 46892066'"
      ]
     },
     "metadata": {},
     "output_type": "display_data"
    },
    {
     "data": {
      "text/plain": [
       "'       target from 45322637 to 45331725'"
      ]
     },
     "metadata": {},
     "output_type": "display_data"
    },
    {
     "data": {
      "text/plain": [
       "'    GT_labels from 45322630 to 45331751'"
      ]
     },
     "metadata": {},
     "output_type": "display_data"
    },
    {
     "data": {
      "text/plain": [
       "'target_labels from 45322638 to 45331725'"
      ]
     },
     "metadata": {},
     "output_type": "display_data"
    },
    {
     "data": {
      "text/plain": [
       "'9088 >?= 8979.300000000001 = 0.9 * union 9977 => True'"
      ]
     },
     "metadata": {},
     "output_type": "display_data"
    },
    {
     "data": {
      "text/plain": [
       "Pandas(Index=702, query_name='S1_619!NC_060948.1!5949642!5958729!+', query_length=9110, query_start=49, query_end=9086, strand='+', target_name='NC_060948.1', target_length=62460029, target_start=5735618, target_end=5744633, residue_matches=3783, alignment_block_length=9061, mapping_quality=60, tp='P', cm=293, s1=3783, s2=46, rl=0, experiment='t2tChrY-readst2tChrY-SVs-a0.99-d0.1-l10000', tool='winnowmap', read_name='S1_619', GT_ref='NC_060948.1', GT_from=5949642, GT_to=5958729, GT_strand='+', is_correct=True, start_diff=-214024, end_diff=-214096, read_sv='DEL')"
      ]
     },
     "metadata": {},
     "output_type": "display_data"
    },
    {
     "data": {
      "text/plain": [
       "'           GT from 5949642 to 5958729'"
      ]
     },
     "metadata": {},
     "output_type": "display_data"
    },
    {
     "data": {
      "text/plain": [
       "'       target from 5735618 to 5744633'"
      ]
     },
     "metadata": {},
     "output_type": "display_data"
    },
    {
     "data": {
      "text/plain": [
       "'    GT_labels from 5735571 to 5744657'"
      ]
     },
     "metadata": {},
     "output_type": "display_data"
    },
    {
     "data": {
      "text/plain": [
       "'target_labels from 5735619 to 5744633'"
      ]
     },
     "metadata": {},
     "output_type": "display_data"
    },
    {
     "data": {
      "text/plain": [
       "'9015 >?= 8178.3 = 0.9 * union 9087 => True'"
      ]
     },
     "metadata": {},
     "output_type": "display_data"
    },
    {
     "data": {
      "text/plain": [
       "Pandas(Index=705, query_name='S1_621!NC_060948.1!45362653!45370995!+', query_length=8357, query_start=55, query_end=8332, strand='+', target_name='NC_060948.1', target_length=62460029, target_start=38664597, target_end=38673052, residue_matches=2404, alignment_block_length=8484, mapping_quality=0, tp='P', cm=186, s1=2373, s2=2373, rl=1011, experiment='t2tChrY-readst2tChrY-SVs-a0.99-d0.1-l10000', tool='winnowmap', read_name='S1_621', GT_ref='NC_060948.1', GT_from=45362653, GT_to=45370995, GT_strand='+', is_correct=False, start_diff=-6698056, end_diff=-6697943, read_sv='DUP')"
      ]
     },
     "metadata": {},
     "output_type": "display_data"
    },
    {
     "data": {
      "text/plain": [
       "'           GT from 45362653 to 45370995'"
      ]
     },
     "metadata": {},
     "output_type": "display_data"
    },
    {
     "data": {
      "text/plain": [
       "'       target from 38664597 to 38673052'"
      ]
     },
     "metadata": {},
     "output_type": "display_data"
    },
    {
     "data": {
      "text/plain": [
       "'    GT_labels from 43841692 to 43850225'"
      ]
     },
     "metadata": {},
     "output_type": "display_data"
    },
    {
     "data": {
      "text/plain": [
       "'target_labels from 38664598 to 38673052'"
      ]
     },
     "metadata": {},
     "output_type": "display_data"
    },
    {
     "data": {
      "text/plain": [
       "'0 >?= 15117.300000000001 = 0.9 * union 16797 => False'"
      ]
     },
     "metadata": {},
     "output_type": "display_data"
    },
    {
     "data": {
      "text/plain": [
       "Pandas(Index=706, query_name='S1_622!NC_060948.1!10112785!10122838!-', query_length=10092, query_start=3, query_end=10066, strand='-', target_name='NC_060948.1', target_length=62460029, target_start=9758003, target_end=9764092, residue_matches=2324, alignment_block_length=10072, mapping_quality=3, tp='P', cm=185, s1=1714, s2=1696, rl=0, experiment='t2tChrY-readst2tChrY-SVs-a0.99-d0.1-l10000', tool='winnowmap', read_name='S1_622', GT_ref='NC_060948.1', GT_from=10112785, GT_to=10122838, GT_strand='-', is_correct=False, start_diff=-354782, end_diff=-358746, read_sv='DUP')"
      ]
     },
     "metadata": {},
     "output_type": "display_data"
    },
    {
     "data": {
      "text/plain": [
       "'           GT from 10112785 to 10122838'"
      ]
     },
     "metadata": {},
     "output_type": "display_data"
    },
    {
     "data": {
      "text/plain": [
       "'       target from 9758003 to 9764092'"
      ]
     },
     "metadata": {},
     "output_type": "display_data"
    },
    {
     "data": {
      "text/plain": [
       "'    GT_labels from 9757978 to 9764095'"
      ]
     },
     "metadata": {},
     "output_type": "display_data"
    },
    {
     "data": {
      "text/plain": [
       "'target_labels from 9758004 to 9764092'"
      ]
     },
     "metadata": {},
     "output_type": "display_data"
    },
    {
     "data": {
      "text/plain": [
       "'6089 >?= 9047.7 = 0.9 * union 10053 => False'"
      ]
     },
     "metadata": {},
     "output_type": "display_data"
    },
    {
     "data": {
      "text/plain": [
       "Pandas(Index=707, query_name='S1_623!NC_060948.1!57936461!57948691!+', query_length=12283, query_start=42, query_end=12211, strand='+', target_name='NC_060948.1', target_length=62460029, target_start=56014659, target_end=56026777, residue_matches=3674, alignment_block_length=12181, mapping_quality=60, tp='P', cm=283, s1=3673, s2=347, rl=90, experiment='t2tChrY-readst2tChrY-SVs-a0.99-d0.1-l10000', tool='winnowmap', read_name='S1_623', GT_ref='NC_060948.1', GT_from=57936461, GT_to=57948691, GT_strand='+', is_correct=True, start_diff=-1921802, end_diff=-1921914, read_sv='multi')"
      ]
     },
     "metadata": {},
     "output_type": "display_data"
    },
    {
     "data": {
      "text/plain": [
       "'           GT from 57936461 to 57948691'"
      ]
     },
     "metadata": {},
     "output_type": "display_data"
    },
    {
     "data": {
      "text/plain": [
       "'       target from 56014659 to 56026777'"
      ]
     },
     "metadata": {},
     "output_type": "display_data"
    },
    {
     "data": {
      "text/plain": [
       "'    GT_labels from -120284 to 56026790'"
      ]
     },
     "metadata": {},
     "output_type": "display_data"
    },
    {
     "data": {
      "text/plain": [
       "'target_labels from 56014660 to 56026777'"
      ]
     },
     "metadata": {},
     "output_type": "display_data"
    },
    {
     "data": {
      "text/plain": [
       "'12118 >?= 11007.0 = 0.9 * union 12230 => True'"
      ]
     },
     "metadata": {},
     "output_type": "display_data"
    },
    {
     "data": {
      "text/plain": [
       "Pandas(Index=713, query_name='S1_627!NC_060948.1!41551296!41563905!+', query_length=12657, query_start=54, query_end=12607, strand='+', target_name='NC_060948.1', target_length=62460029, target_start=40172357, target_end=40184863, residue_matches=4113, alignment_block_length=12569, mapping_quality=60, tp='P', cm=318, s1=4113, s2=0, rl=0, experiment='t2tChrY-readst2tChrY-SVs-a0.99-d0.1-l10000', tool='winnowmap', read_name='S1_627', GT_ref='NC_060948.1', GT_from=41551296, GT_to=41563905, GT_strand='+', is_correct=True, start_diff=-1378939, end_diff=-1379042, read_sv='multi')"
      ]
     },
     "metadata": {},
     "output_type": "display_data"
    },
    {
     "data": {
      "text/plain": [
       "'           GT from 41551296 to 41563905'"
      ]
     },
     "metadata": {},
     "output_type": "display_data"
    },
    {
     "data": {
      "text/plain": [
       "'       target from 40172357 to 40184863'"
      ]
     },
     "metadata": {},
     "output_type": "display_data"
    },
    {
     "data": {
      "text/plain": [
       "'    GT_labels from 40172305 to 40184913'"
      ]
     },
     "metadata": {},
     "output_type": "display_data"
    },
    {
     "data": {
      "text/plain": [
       "'target_labels from 40172358 to 40184863'"
      ]
     },
     "metadata": {},
     "output_type": "display_data"
    },
    {
     "data": {
      "text/plain": [
       "'12506 >?= 11348.1 = 0.9 * union 12609 => True'"
      ]
     },
     "metadata": {},
     "output_type": "display_data"
    },
    {
     "data": {
      "text/plain": [
       "Pandas(Index=714, query_name='S1_628!NC_060948.1!1786867!1793957!-', query_length=7097, query_start=46, query_end=7081, strand='-', target_name='NC_060948.1', target_length=62460029, target_start=1733476, target_end=1740504, residue_matches=2825, alignment_block_length=7050, mapping_quality=60, tp='P', cm=214, s1=2825, s2=301, rl=0, experiment='t2tChrY-readst2tChrY-SVs-a0.99-d0.1-l10000', tool='winnowmap', read_name='S1_628', GT_ref='NC_060948.1', GT_from=1786867, GT_to=1793957, GT_strand='-', is_correct=True, start_diff=-53391, end_diff=-53453, read_sv='INV')"
      ]
     },
     "metadata": {},
     "output_type": "display_data"
    },
    {
     "data": {
      "text/plain": [
       "'           GT from 1786867 to 1793957'"
      ]
     },
     "metadata": {},
     "output_type": "display_data"
    },
    {
     "data": {
      "text/plain": [
       "'       target from 1733476 to 1740504'"
      ]
     },
     "metadata": {},
     "output_type": "display_data"
    },
    {
     "data": {
      "text/plain": [
       "'    GT_labels from 1733461 to 1740550'"
      ]
     },
     "metadata": {},
     "output_type": "display_data"
    },
    {
     "data": {
      "text/plain": [
       "'target_labels from 1733477 to 1740504'"
      ]
     },
     "metadata": {},
     "output_type": "display_data"
    },
    {
     "data": {
      "text/plain": [
       "'7028 >?= 6381.0 = 0.9 * union 7090 => True'"
      ]
     },
     "metadata": {},
     "output_type": "display_data"
    },
    {
     "data": {
      "text/plain": [
       "Pandas(Index=732, query_name='S1_638!NC_060948.1!41626042!41636622!-', query_length=10616, query_start=109, query_end=10500, strand='-', target_name='NC_060948.1', target_length=62460029, target_start=40244104, target_end=40254460, residue_matches=3298, alignment_block_length=10406, mapping_quality=60, tp='P', cm=257, s1=3297, s2=587, rl=120, experiment='t2tChrY-readst2tChrY-SVs-a0.99-d0.1-l10000', tool='winnowmap', read_name='S1_638', GT_ref='NC_060948.1', GT_from=41626042, GT_to=41636622, GT_strand='-', is_correct=True, start_diff=-1381938, end_diff=-1382162, read_sv='multi')"
      ]
     },
     "metadata": {},
     "output_type": "display_data"
    },
    {
     "data": {
      "text/plain": [
       "'           GT from 41626042 to 41636622'"
      ]
     },
     "metadata": {},
     "output_type": "display_data"
    },
    {
     "data": {
      "text/plain": [
       "'       target from 40244104 to 40254460'"
      ]
     },
     "metadata": {},
     "output_type": "display_data"
    },
    {
     "data": {
      "text/plain": [
       "'    GT_labels from 40243990 to 40254569'"
      ]
     },
     "metadata": {},
     "output_type": "display_data"
    },
    {
     "data": {
      "text/plain": [
       "'target_labels from 40244105 to 40254460'"
      ]
     },
     "metadata": {},
     "output_type": "display_data"
    },
    {
     "data": {
      "text/plain": [
       "'10356 >?= 9522.0 = 0.9 * union 10580 => True'"
      ]
     },
     "metadata": {},
     "output_type": "display_data"
    },
    {
     "data": {
      "text/plain": [
       "Pandas(Index=735, query_name='S1_66!NC_060948.1!21406900!21417627!-', query_length=10745, query_start=20, query_end=10701, strand='-', target_name='NC_060948.1', target_length=62460029, target_start=20649377, target_end=20660039, residue_matches=3826, alignment_block_length=10708, mapping_quality=60, tp='P', cm=290, s1=3825, s2=266, rl=1239, experiment='t2tChrY-readst2tChrY-SVs-a0.99-d0.1-l10000', tool='winnowmap', read_name='S1_66', GT_ref='NC_060948.1', GT_from=21406900, GT_to=21417627, GT_strand='-', is_correct=True, start_diff=-757523, end_diff=-757588, read_sv='INV')"
      ]
     },
     "metadata": {},
     "output_type": "display_data"
    },
    {
     "data": {
      "text/plain": [
       "'           GT from 21406900 to 21417627'"
      ]
     },
     "metadata": {},
     "output_type": "display_data"
    },
    {
     "data": {
      "text/plain": [
       "'       target from 20649377 to 20660039'"
      ]
     },
     "metadata": {},
     "output_type": "display_data"
    },
    {
     "data": {
      "text/plain": [
       "'    GT_labels from 20649333 to 20660059'"
      ]
     },
     "metadata": {},
     "output_type": "display_data"
    },
    {
     "data": {
      "text/plain": [
       "'target_labels from 20649378 to 20660039'"
      ]
     },
     "metadata": {},
     "output_type": "display_data"
    },
    {
     "data": {
      "text/plain": [
       "'10662 >?= 9654.300000000001 = 0.9 * union 10727 => True'"
      ]
     },
     "metadata": {},
     "output_type": "display_data"
    },
    {
     "data": {
      "text/plain": [
       "Pandas(Index=737, query_name='S1_68!NC_060948.1!13450942!13459351!-', query_length=8430, query_start=33, query_end=8404, strand='-', target_name='NC_060948.1', target_length=62460029, target_start=12980827, target_end=12989178, residue_matches=3367, alignment_block_length=8393, mapping_quality=60, tp='P', cm=248, s1=3367, s2=73, rl=0, experiment='t2tChrY-readst2tChrY-SVs-a0.99-d0.1-l10000', tool='winnowmap', read_name='S1_68', GT_ref='NC_060948.1', GT_from=13450942, GT_to=13459351, GT_strand='-', is_correct=True, start_diff=-470115, end_diff=-470173, read_sv='DUP')"
      ]
     },
     "metadata": {},
     "output_type": "display_data"
    },
    {
     "data": {
      "text/plain": [
       "'           GT from 13450942 to 13459351'"
      ]
     },
     "metadata": {},
     "output_type": "display_data"
    },
    {
     "data": {
      "text/plain": [
       "'       target from 12980827 to 12989178'"
      ]
     },
     "metadata": {},
     "output_type": "display_data"
    },
    {
     "data": {
      "text/plain": [
       "'    GT_labels from 12980802 to 12989210'"
      ]
     },
     "metadata": {},
     "output_type": "display_data"
    },
    {
     "data": {
      "text/plain": [
       "'target_labels from 12980828 to 12989178'"
      ]
     },
     "metadata": {},
     "output_type": "display_data"
    },
    {
     "data": {
      "text/plain": [
       "'8351 >?= 7568.1 = 0.9 * union 8409 => True'"
      ]
     },
     "metadata": {},
     "output_type": "display_data"
    },
    {
     "data": {
      "text/plain": [
       "Pandas(Index=738, query_name='S1_69!NC_060948.1!28906965!28918965!+', query_length=12034, query_start=14, query_end=11921, strand='+', target_name='NC_060948.1', target_length=62460029, target_start=27929274, target_end=27941149, residue_matches=3532, alignment_block_length=11930, mapping_quality=60, tp='P', cm=277, s1=3531, s2=368, rl=150, experiment='t2tChrY-readst2tChrY-SVs-a0.99-d0.1-l10000', tool='winnowmap', read_name='S1_69', GT_ref='NC_060948.1', GT_from=28906965, GT_to=28918965, GT_strand='+', is_correct=True, start_diff=-977691, end_diff=-977816, read_sv='INV')"
      ]
     },
     "metadata": {},
     "output_type": "display_data"
    },
    {
     "data": {
      "text/plain": [
       "'           GT from 28906965 to 28918965'"
      ]
     },
     "metadata": {},
     "output_type": "display_data"
    },
    {
     "data": {
      "text/plain": [
       "'       target from 27929274 to 27941149'"
      ]
     },
     "metadata": {},
     "output_type": "display_data"
    },
    {
     "data": {
      "text/plain": [
       "'    GT_labels from 27929261 to 27941260'"
      ]
     },
     "metadata": {},
     "output_type": "display_data"
    },
    {
     "data": {
      "text/plain": [
       "'target_labels from 27929275 to 27941149'"
      ]
     },
     "metadata": {},
     "output_type": "display_data"
    },
    {
     "data": {
      "text/plain": [
       "'11875 >?= 10800.0 = 0.9 * union 12000 => True'"
      ]
     },
     "metadata": {},
     "output_type": "display_data"
    },
    {
     "data": {
      "text/plain": [
       "Pandas(Index=741, query_name='S1_71!NC_060948.1!4827488!4835289!+', query_length=7812, query_start=7, query_end=7801, strand='+', target_name='NC_060948.1', target_length=62460029, target_start=4646409, target_end=4654192, residue_matches=3304, alignment_block_length=7813, mapping_quality=60, tp='P', cm=254, s1=3304, s2=257, rl=0, experiment='t2tChrY-readst2tChrY-SVs-a0.99-d0.1-l10000', tool='winnowmap', read_name='S1_71', GT_ref='NC_060948.1', GT_from=4827488, GT_to=4835289, GT_strand='+', is_correct=True, start_diff=-181079, end_diff=-181097, read_sv='DUP')"
      ]
     },
     "metadata": {},
     "output_type": "display_data"
    },
    {
     "data": {
      "text/plain": [
       "'           GT from 4827488 to 4835289'"
      ]
     },
     "metadata": {},
     "output_type": "display_data"
    },
    {
     "data": {
      "text/plain": [
       "'       target from 4646409 to 4654192'"
      ]
     },
     "metadata": {},
     "output_type": "display_data"
    },
    {
     "data": {
      "text/plain": [
       "'    GT_labels from 4646403 to 4654203'"
      ]
     },
     "metadata": {},
     "output_type": "display_data"
    },
    {
     "data": {
      "text/plain": [
       "'target_labels from 4646410 to 4654192'"
      ]
     },
     "metadata": {},
     "output_type": "display_data"
    },
    {
     "data": {
      "text/plain": [
       "'7783 >?= 7020.900000000001 = 0.9 * union 7801 => True'"
      ]
     },
     "metadata": {},
     "output_type": "display_data"
    },
    {
     "data": {
      "text/plain": [
       "Pandas(Index=742, query_name='S1_72!NC_060948.1!13654076!13662641!-', query_length=8601, query_start=65, query_end=8596, strand='-', target_name='NC_060948.1', target_length=62460029, target_start=13179954, target_end=13188448, residue_matches=3674, alignment_block_length=8546, mapping_quality=60, tp='P', cm=278, s1=3673, s2=73, rl=0, experiment='t2tChrY-readst2tChrY-SVs-a0.99-d0.1-l10000', tool='winnowmap', read_name='S1_72', GT_ref='NC_060948.1', GT_from=13654076, GT_to=13662641, GT_strand='-', is_correct=True, start_diff=-474122, end_diff=-474193, read_sv='INV')"
      ]
     },
     "metadata": {},
     "output_type": "display_data"
    },
    {
     "data": {
      "text/plain": [
       "'           GT from 13654076 to 13662641'"
      ]
     },
     "metadata": {},
     "output_type": "display_data"
    },
    {
     "data": {
      "text/plain": [
       "'       target from 13179954 to 13188448'"
      ]
     },
     "metadata": {},
     "output_type": "display_data"
    },
    {
     "data": {
      "text/plain": [
       "'    GT_labels from 13179950 to 13188514'"
      ]
     },
     "metadata": {},
     "output_type": "display_data"
    },
    {
     "data": {
      "text/plain": [
       "'target_labels from 13179955 to 13188448'"
      ]
     },
     "metadata": {},
     "output_type": "display_data"
    },
    {
     "data": {
      "text/plain": [
       "'8494 >?= 7708.5 = 0.9 * union 8565 => True'"
      ]
     },
     "metadata": {},
     "output_type": "display_data"
    },
    {
     "data": {
      "text/plain": [
       "Pandas(Index=743, query_name='S1_73!NC_060948.1!7063384!7072565!+', query_length=9216, query_start=22, query_end=9187, strand='+', target_name='NC_060948.1', target_length=62460029, target_start=6805654, target_end=6815153, residue_matches=3810, alignment_block_length=9545, mapping_quality=60, tp='P', cm=299, s1=3751, s2=1483, rl=0, experiment='t2tChrY-readst2tChrY-SVs-a0.99-d0.1-l10000', tool='winnowmap', read_name='S1_73', GT_ref='NC_060948.1', GT_from=7063384, GT_to=7072565, GT_strand='+', is_correct=True, start_diff=-257730, end_diff=-257412, read_sv='multi')"
      ]
     },
     "metadata": {},
     "output_type": "display_data"
    },
    {
     "data": {
      "text/plain": [
       "'           GT from 7063384 to 7072565'"
      ]
     },
     "metadata": {},
     "output_type": "display_data"
    },
    {
     "data": {
      "text/plain": [
       "'       target from 6805654 to 6815153'"
      ]
     },
     "metadata": {},
     "output_type": "display_data"
    },
    {
     "data": {
      "text/plain": [
       "'    GT_labels from 6805633 to 6815182'"
      ]
     },
     "metadata": {},
     "output_type": "display_data"
    },
    {
     "data": {
      "text/plain": [
       "'target_labels from 6805655 to 6815153'"
      ]
     },
     "metadata": {},
     "output_type": "display_data"
    },
    {
     "data": {
      "text/plain": [
       "'9130 >?= 8595.0 = 0.9 * union 9550 => True'"
      ]
     },
     "metadata": {},
     "output_type": "display_data"
    },
    {
     "data": {
      "text/plain": [
       "Pandas(Index=746, query_name='S1_76!NC_060948.1!22236549!22245630!-', query_length=9104, query_start=37, query_end=9103, strand='-', target_name='NC_060948.1', target_length=62460029, target_start=21458382, target_end=21466501, residue_matches=3472, alignment_block_length=9081, mapping_quality=60, tp='P', cm=259, s1=3326, s2=91, rl=0, experiment='t2tChrY-readst2tChrY-SVs-a0.99-d0.1-l10000', tool='winnowmap', read_name='S1_76', GT_ref='NC_060948.1', GT_from=22236549, GT_to=22245630, GT_strand='-', is_correct=False, start_diff=-778167, end_diff=-779129, read_sv='INV')"
      ]
     },
     "metadata": {},
     "output_type": "display_data"
    },
    {
     "data": {
      "text/plain": [
       "'           GT from 22236549 to 22245630'"
      ]
     },
     "metadata": {},
     "output_type": "display_data"
    },
    {
     "data": {
      "text/plain": [
       "'       target from 21458382 to 21466501'"
      ]
     },
     "metadata": {},
     "output_type": "display_data"
    },
    {
     "data": {
      "text/plain": [
       "'    GT_labels from 21458382 to 21466538'"
      ]
     },
     "metadata": {},
     "output_type": "display_data"
    },
    {
     "data": {
      "text/plain": [
       "'target_labels from 21458383 to 21466501'"
      ]
     },
     "metadata": {},
     "output_type": "display_data"
    },
    {
     "data": {
      "text/plain": [
       "'8119 >?= 8172.900000000001 = 0.9 * union 9081 => False'"
      ]
     },
     "metadata": {},
     "output_type": "display_data"
    },
    {
     "data": {
      "text/plain": [
       "Pandas(Index=754, query_name='S1_83!NC_060948.1!47210878!47227527!+', query_length=16687, query_start=4, query_end=16656, strand='+', target_name='NC_060948.1', target_length=62460029, target_start=45637248, target_end=45653862, residue_matches=5008, alignment_block_length=16683, mapping_quality=60, tp='P', cm=383, s1=5008, s2=1171, rl=564, experiment='t2tChrY-readst2tChrY-SVs-a0.99-d0.1-l10000', tool='winnowmap', read_name='S1_83', GT_ref='NC_060948.1', GT_from=47210878, GT_to=47227527, GT_strand='+', is_correct=True, start_diff=-1573630, end_diff=-1573665, read_sv='multi')"
      ]
     },
     "metadata": {},
     "output_type": "display_data"
    },
    {
     "data": {
      "text/plain": [
       "'           GT from 47210878 to 47227527'"
      ]
     },
     "metadata": {},
     "output_type": "display_data"
    },
    {
     "data": {
      "text/plain": [
       "'       target from 45637248 to 45653862'"
      ]
     },
     "metadata": {},
     "output_type": "display_data"
    },
    {
     "data": {
      "text/plain": [
       "'    GT_labels from 45637245 to 45653893'"
      ]
     },
     "metadata": {},
     "output_type": "display_data"
    },
    {
     "data": {
      "text/plain": [
       "'target_labels from 45637249 to 45653862'"
      ]
     },
     "metadata": {},
     "output_type": "display_data"
    },
    {
     "data": {
      "text/plain": [
       "'16614 >?= 14984.1 = 0.9 * union 16649 => True'"
      ]
     },
     "metadata": {},
     "output_type": "display_data"
    },
    {
     "data": {
      "text/plain": [
       "Pandas(Index=758, query_name='S1_87!NC_060948.1!29461625!29472605!+', query_length=11006, query_start=21, query_end=10959, strand='+', target_name='NC_060948.1', target_length=62460029, target_start=28469996, target_end=28480908, residue_matches=3268, alignment_block_length=10953, mapping_quality=60, tp='P', cm=251, s1=3268, s2=275, rl=60, experiment='t2tChrY-readst2tChrY-SVs-a0.99-d0.1-l10000', tool='winnowmap', read_name='S1_87', GT_ref='NC_060948.1', GT_from=29461625, GT_to=29472605, GT_strand='+', is_correct=True, start_diff=-991629, end_diff=-991697, read_sv='INV')"
      ]
     },
     "metadata": {},
     "output_type": "display_data"
    },
    {
     "data": {
      "text/plain": [
       "'           GT from 29461625 to 29472605'"
      ]
     },
     "metadata": {},
     "output_type": "display_data"
    },
    {
     "data": {
      "text/plain": [
       "'       target from 28469996 to 28480908'"
      ]
     },
     "metadata": {},
     "output_type": "display_data"
    },
    {
     "data": {
      "text/plain": [
       "'    GT_labels from 28469976 to 28480955'"
      ]
     },
     "metadata": {},
     "output_type": "display_data"
    },
    {
     "data": {
      "text/plain": [
       "'target_labels from 28469997 to 28480908'"
      ]
     },
     "metadata": {},
     "output_type": "display_data"
    },
    {
     "data": {
      "text/plain": [
       "'10912 >?= 9882.0 = 0.9 * union 10980 => True'"
      ]
     },
     "metadata": {},
     "output_type": "display_data"
    },
    {
     "data": {
      "text/plain": [
       "Pandas(Index=760, query_name='S1_89!NC_060948.1!19508384!19514768!+', query_length=6404, query_start=26, query_end=6361, strand='+', target_name='NC_060948.1', target_length=62460029, target_start=18808868, target_end=18815183, residue_matches=2754, alignment_block_length=6344, mapping_quality=1, tp='P', cm=211, s1=2754, s2=2740, rl=0, experiment='t2tChrY-readst2tChrY-SVs-a0.99-d0.1-l10000', tool='winnowmap', read_name='S1_89', GT_ref='NC_060948.1', GT_from=19508384, GT_to=19514768, GT_strand='+', is_correct=True, start_diff=-699516, end_diff=-699585, read_sv='DUP')"
      ]
     },
     "metadata": {},
     "output_type": "display_data"
    },
    {
     "data": {
      "text/plain": [
       "'           GT from 19508384 to 19514768'"
      ]
     },
     "metadata": {},
     "output_type": "display_data"
    },
    {
     "data": {
      "text/plain": [
       "'       target from 18808868 to 18815183'"
      ]
     },
     "metadata": {},
     "output_type": "display_data"
    },
    {
     "data": {
      "text/plain": [
       "'    GT_labels from 18808843 to 18815226'"
      ]
     },
     "metadata": {},
     "output_type": "display_data"
    },
    {
     "data": {
      "text/plain": [
       "'target_labels from 18808869 to 18815183'"
      ]
     },
     "metadata": {},
     "output_type": "display_data"
    },
    {
     "data": {
      "text/plain": [
       "'6315 >?= 5745.6 = 0.9 * union 6384 => True'"
      ]
     },
     "metadata": {},
     "output_type": "display_data"
    },
    {
     "data": {
      "text/plain": [
       "Pandas(Index=763, query_name='S1_91!NC_060948.1!57059820!57070897!+', query_length=11121, query_start=91, query_end=11105, strand='+', target_name='NC_060948.1', target_length=62460029, target_start=55163311, target_end=55174282, residue_matches=3100, alignment_block_length=11028, mapping_quality=60, tp='P', cm=237, s1=3099, s2=587, rl=262, experiment='t2tChrY-readst2tChrY-SVs-a0.99-d0.1-l10000', tool='winnowmap', read_name='S1_91', GT_ref='NC_060948.1', GT_from=57059820, GT_to=57070897, GT_strand='+', is_correct=True, start_diff=-1896509, end_diff=-1896615, read_sv='DUP')"
      ]
     },
     "metadata": {},
     "output_type": "display_data"
    },
    {
     "data": {
      "text/plain": [
       "'           GT from 57059820 to 57070897'"
      ]
     },
     "metadata": {},
     "output_type": "display_data"
    },
    {
     "data": {
      "text/plain": [
       "'       target from 55163311 to 55174282'"
      ]
     },
     "metadata": {},
     "output_type": "display_data"
    },
    {
     "data": {
      "text/plain": [
       "'    GT_labels from 55163222 to 55174298'"
      ]
     },
     "metadata": {},
     "output_type": "display_data"
    },
    {
     "data": {
      "text/plain": [
       "'target_labels from 55163312 to 55174282'"
      ]
     },
     "metadata": {},
     "output_type": "display_data"
    },
    {
     "data": {
      "text/plain": [
       "'10971 >?= 9969.300000000001 = 0.9 * union 11077 => True'"
      ]
     },
     "metadata": {},
     "output_type": "display_data"
    },
    {
     "data": {
      "text/plain": [
       "Pandas(Index=765, query_name='S1_93!NC_060948.1!43190940!43202615!+', query_length=11714, query_start=21, query_end=11696, strand='+', target_name='NC_060948.1', target_length=62460029, target_start=41752052, target_end=41763688, residue_matches=3545, alignment_block_length=11693, mapping_quality=60, tp='P', cm=275, s1=3544, s2=532, rl=234, experiment='t2tChrY-readst2tChrY-SVs-a0.99-d0.1-l10000', tool='winnowmap', read_name='S1_93', GT_ref='NC_060948.1', GT_from=43190940, GT_to=43202615, GT_strand='+', is_correct=True, start_diff=-1438888, end_diff=-1438927, read_sv='DEL')"
      ]
     },
     "metadata": {},
     "output_type": "display_data"
    },
    {
     "data": {
      "text/plain": [
       "'           GT from 43190940 to 43202615'"
      ]
     },
     "metadata": {},
     "output_type": "display_data"
    },
    {
     "data": {
      "text/plain": [
       "'       target from 41752052 to 41763688'"
      ]
     },
     "metadata": {},
     "output_type": "display_data"
    },
    {
     "data": {
      "text/plain": [
       "'    GT_labels from 41752032 to 41763706'"
      ]
     },
     "metadata": {},
     "output_type": "display_data"
    },
    {
     "data": {
      "text/plain": [
       "'target_labels from 41752053 to 41763688'"
      ]
     },
     "metadata": {},
     "output_type": "display_data"
    },
    {
     "data": {
      "text/plain": [
       "'11636 >?= 10507.5 = 0.9 * union 11675 => True'"
      ]
     },
     "metadata": {},
     "output_type": "display_data"
    },
    {
     "name": "stderr",
     "output_type": "stream",
     "text": [
      "Tools for t2tChrY-readst2tChrY-SVs-a0.99-d0.1-l10000:  50%|█████     | 1/2 [00:06<00:06,  6.85s/it]"
     ]
    },
    {
     "data": {
      "text/html": [
       "<div>\n",
       "<style scoped>\n",
       "    .dataframe tbody tr th:only-of-type {\n",
       "        vertical-align: middle;\n",
       "    }\n",
       "\n",
       "    .dataframe tbody tr th {\n",
       "        vertical-align: top;\n",
       "    }\n",
       "\n",
       "    .dataframe thead th {\n",
       "        text-align: right;\n",
       "    }\n",
       "</style>\n",
       "<table border=\"1\" class=\"dataframe\">\n",
       "  <thead>\n",
       "    <tr style=\"text-align: right;\">\n",
       "      <th></th>\n",
       "      <th>CHROM</th>\n",
       "      <th>POS</th>\n",
       "      <th>ID</th>\n",
       "      <th>REF</th>\n",
       "      <th>ALT</th>\n",
       "      <th>QUAL</th>\n",
       "      <th>FILTER</th>\n",
       "      <th>PRECISE</th>\n",
       "      <th>SVTYPE</th>\n",
       "      <th>SVMETHOD</th>\n",
       "      <th>CHR2</th>\n",
       "      <th>END</th>\n",
       "      <th>SVLEN</th>\n",
       "      <th>dup_num</th>\n",
       "    </tr>\n",
       "  </thead>\n",
       "  <tbody>\n",
       "    <tr>\n",
       "      <th>0</th>\n",
       "      <td>NC_060948.1</td>\n",
       "      <td>5299</td>\n",
       "      <td>[INV2156SURVIVOR]</td>\n",
       "      <td>N</td>\n",
       "      <td>INV</td>\n",
       "      <td>None</td>\n",
       "      <td>PASS</td>\n",
       "      <td>True</td>\n",
       "      <td>INV</td>\n",
       "      <td>SURVIVOR_sim</td>\n",
       "      <td>NC_060948.1</td>\n",
       "      <td>6011</td>\n",
       "      <td>712</td>\n",
       "      <td>NaN</td>\n",
       "    </tr>\n",
       "    <tr>\n",
       "      <th>1</th>\n",
       "      <td>NC_060948.1</td>\n",
       "      <td>46009</td>\n",
       "      <td>[INV2230SURVIVOR]</td>\n",
       "      <td>N</td>\n",
       "      <td>INV</td>\n",
       "      <td>None</td>\n",
       "      <td>PASS</td>\n",
       "      <td>True</td>\n",
       "      <td>INV</td>\n",
       "      <td>SURVIVOR_sim</td>\n",
       "      <td>NC_060948.1</td>\n",
       "      <td>46722</td>\n",
       "      <td>713</td>\n",
       "      <td>NaN</td>\n",
       "    </tr>\n",
       "    <tr>\n",
       "      <th>2</th>\n",
       "      <td>NC_060948.1</td>\n",
       "      <td>73059</td>\n",
       "      <td>[DEL1089SURVIVOR]</td>\n",
       "      <td>TGACAGGAAGAGGGGGTCTCCGGCTGTGACAGGAAGAGGGAGTCTC...</td>\n",
       "      <td>T</td>\n",
       "      <td>None</td>\n",
       "      <td>PASS</td>\n",
       "      <td>True</td>\n",
       "      <td>DEL</td>\n",
       "      <td>SURVIVOR_sim</td>\n",
       "      <td>NC_060948.1</td>\n",
       "      <td>73242</td>\n",
       "      <td>183</td>\n",
       "      <td>NaN</td>\n",
       "    </tr>\n",
       "    <tr>\n",
       "      <th>3</th>\n",
       "      <td>NC_060948.1</td>\n",
       "      <td>91267</td>\n",
       "      <td>[DEL1921SURVIVOR]</td>\n",
       "      <td>TCAGCTTCGGAGACACAATTCTCTATCCTTTTCATGTCATTTTGCT...</td>\n",
       "      <td>T</td>\n",
       "      <td>None</td>\n",
       "      <td>PASS</td>\n",
       "      <td>True</td>\n",
       "      <td>DEL</td>\n",
       "      <td>SURVIVOR_sim</td>\n",
       "      <td>NC_060948.1</td>\n",
       "      <td>91319</td>\n",
       "      <td>52</td>\n",
       "      <td>NaN</td>\n",
       "    </tr>\n",
       "    <tr>\n",
       "      <th>4</th>\n",
       "      <td>NC_060948.1</td>\n",
       "      <td>94881</td>\n",
       "      <td>[DUP206SURVIVOR]</td>\n",
       "      <td>N</td>\n",
       "      <td>DUP</td>\n",
       "      <td>None</td>\n",
       "      <td>PASS</td>\n",
       "      <td>True</td>\n",
       "      <td>DUP</td>\n",
       "      <td>SURVIVOR_sim</td>\n",
       "      <td>NC_060948.1</td>\n",
       "      <td>95279</td>\n",
       "      <td>398</td>\n",
       "      <td>5</td>\n",
       "    </tr>\n",
       "    <tr>\n",
       "      <th>...</th>\n",
       "      <td>...</td>\n",
       "      <td>...</td>\n",
       "      <td>...</td>\n",
       "      <td>...</td>\n",
       "      <td>...</td>\n",
       "      <td>...</td>\n",
       "      <td>...</td>\n",
       "      <td>...</td>\n",
       "      <td>...</td>\n",
       "      <td>...</td>\n",
       "      <td>...</td>\n",
       "      <td>...</td>\n",
       "      <td>...</td>\n",
       "      <td>...</td>\n",
       "    </tr>\n",
       "    <tr>\n",
       "      <th>2995</th>\n",
       "      <td>NC_060948.1</td>\n",
       "      <td>62340189</td>\n",
       "      <td>[DUP973SURVIVOR]</td>\n",
       "      <td>N</td>\n",
       "      <td>DUP</td>\n",
       "      <td>None</td>\n",
       "      <td>PASS</td>\n",
       "      <td>True</td>\n",
       "      <td>DUP</td>\n",
       "      <td>SURVIVOR_sim</td>\n",
       "      <td>NC_060948.1</td>\n",
       "      <td>62340741</td>\n",
       "      <td>552</td>\n",
       "      <td>3</td>\n",
       "    </tr>\n",
       "    <tr>\n",
       "      <th>2996</th>\n",
       "      <td>NC_060948.1</td>\n",
       "      <td>62410894</td>\n",
       "      <td>[DUP791SURVIVOR]</td>\n",
       "      <td>N</td>\n",
       "      <td>DUP</td>\n",
       "      <td>None</td>\n",
       "      <td>PASS</td>\n",
       "      <td>True</td>\n",
       "      <td>DUP</td>\n",
       "      <td>SURVIVOR_sim</td>\n",
       "      <td>NC_060948.1</td>\n",
       "      <td>62411154</td>\n",
       "      <td>260</td>\n",
       "      <td>5</td>\n",
       "    </tr>\n",
       "    <tr>\n",
       "      <th>2997</th>\n",
       "      <td>NC_060948.1</td>\n",
       "      <td>62426699</td>\n",
       "      <td>[DUP225SURVIVOR]</td>\n",
       "      <td>N</td>\n",
       "      <td>DUP</td>\n",
       "      <td>None</td>\n",
       "      <td>PASS</td>\n",
       "      <td>True</td>\n",
       "      <td>DUP</td>\n",
       "      <td>SURVIVOR_sim</td>\n",
       "      <td>NC_060948.1</td>\n",
       "      <td>62427269</td>\n",
       "      <td>570</td>\n",
       "      <td>4</td>\n",
       "    </tr>\n",
       "    <tr>\n",
       "      <th>2998</th>\n",
       "      <td>NC_060948.1</td>\n",
       "      <td>62449565</td>\n",
       "      <td>[DUP546SURVIVOR]</td>\n",
       "      <td>N</td>\n",
       "      <td>DUP</td>\n",
       "      <td>None</td>\n",
       "      <td>PASS</td>\n",
       "      <td>True</td>\n",
       "      <td>DUP</td>\n",
       "      <td>SURVIVOR_sim</td>\n",
       "      <td>NC_060948.1</td>\n",
       "      <td>62449846</td>\n",
       "      <td>281</td>\n",
       "      <td>3</td>\n",
       "    </tr>\n",
       "    <tr>\n",
       "      <th>2999</th>\n",
       "      <td>NC_060948.1</td>\n",
       "      <td>62451770</td>\n",
       "      <td>[INV2808SURVIVOR]</td>\n",
       "      <td>N</td>\n",
       "      <td>INV</td>\n",
       "      <td>None</td>\n",
       "      <td>PASS</td>\n",
       "      <td>True</td>\n",
       "      <td>INV</td>\n",
       "      <td>SURVIVOR_sim</td>\n",
       "      <td>NC_060948.1</td>\n",
       "      <td>62452371</td>\n",
       "      <td>601</td>\n",
       "      <td>NaN</td>\n",
       "    </tr>\n",
       "  </tbody>\n",
       "</table>\n",
       "<p>3000 rows × 14 columns</p>\n",
       "</div>"
      ],
      "text/plain": [
       "            CHROM       POS                 ID                                                REF  \\\n",
       "0     NC_060948.1      5299  [INV2156SURVIVOR]                                                  N   \n",
       "1     NC_060948.1     46009  [INV2230SURVIVOR]                                                  N   \n",
       "2     NC_060948.1     73059  [DEL1089SURVIVOR]  TGACAGGAAGAGGGGGTCTCCGGCTGTGACAGGAAGAGGGAGTCTC...   \n",
       "3     NC_060948.1     91267  [DEL1921SURVIVOR]  TCAGCTTCGGAGACACAATTCTCTATCCTTTTCATGTCATTTTGCT...   \n",
       "4     NC_060948.1     94881   [DUP206SURVIVOR]                                                  N   \n",
       "...           ...       ...                ...                                                ...   \n",
       "2995  NC_060948.1  62340189   [DUP973SURVIVOR]                                                  N   \n",
       "2996  NC_060948.1  62410894   [DUP791SURVIVOR]                                                  N   \n",
       "2997  NC_060948.1  62426699   [DUP225SURVIVOR]                                                  N   \n",
       "2998  NC_060948.1  62449565   [DUP546SURVIVOR]                                                  N   \n",
       "2999  NC_060948.1  62451770  [INV2808SURVIVOR]                                                  N   \n",
       "\n",
       "      ALT  QUAL FILTER  PRECISE SVTYPE      SVMETHOD         CHR2       END  SVLEN dup_num  \n",
       "0     INV  None   PASS     True    INV  SURVIVOR_sim  NC_060948.1      6011    712     NaN  \n",
       "1     INV  None   PASS     True    INV  SURVIVOR_sim  NC_060948.1     46722    713     NaN  \n",
       "2       T  None   PASS     True    DEL  SURVIVOR_sim  NC_060948.1     73242    183     NaN  \n",
       "3       T  None   PASS     True    DEL  SURVIVOR_sim  NC_060948.1     91319     52     NaN  \n",
       "4     DUP  None   PASS     True    DUP  SURVIVOR_sim  NC_060948.1     95279    398       5  \n",
       "...   ...   ...    ...      ...    ...           ...          ...       ...    ...     ...  \n",
       "2995  DUP  None   PASS     True    DUP  SURVIVOR_sim  NC_060948.1  62340741    552       3  \n",
       "2996  DUP  None   PASS     True    DUP  SURVIVOR_sim  NC_060948.1  62411154    260       5  \n",
       "2997  DUP  None   PASS     True    DUP  SURVIVOR_sim  NC_060948.1  62427269    570       4  \n",
       "2998  DUP  None   PASS     True    DUP  SURVIVOR_sim  NC_060948.1  62449846    281       3  \n",
       "2999  INV  None   PASS     True    INV  SURVIVOR_sim  NC_060948.1  62452371    601     NaN  \n",
       "\n",
       "[3000 rows x 14 columns]"
      ]
     },
     "metadata": {},
     "output_type": "display_data"
    },
    {
     "data": {
      "text/html": [
       "<div>\n",
       "<style scoped>\n",
       "    .dataframe tbody tr th:only-of-type {\n",
       "        vertical-align: middle;\n",
       "    }\n",
       "\n",
       "    .dataframe tbody tr th {\n",
       "        vertical-align: top;\n",
       "    }\n",
       "\n",
       "    .dataframe thead th {\n",
       "        text-align: right;\n",
       "    }\n",
       "</style>\n",
       "<table border=\"1\" class=\"dataframe\">\n",
       "  <thead>\n",
       "    <tr style=\"text-align: right;\">\n",
       "      <th></th>\n",
       "      <th>query_name</th>\n",
       "      <th>query_length</th>\n",
       "      <th>query_start</th>\n",
       "      <th>query_end</th>\n",
       "      <th>strand</th>\n",
       "      <th>target_name</th>\n",
       "      <th>target_length</th>\n",
       "      <th>target_start</th>\n",
       "      <th>target_end</th>\n",
       "      <th>residue_matches</th>\n",
       "      <th>...</th>\n",
       "      <th>tool</th>\n",
       "      <th>read_name</th>\n",
       "      <th>GT_ref</th>\n",
       "      <th>GT_from</th>\n",
       "      <th>GT_to</th>\n",
       "      <th>GT_strand</th>\n",
       "      <th>is_correct</th>\n",
       "      <th>start_diff</th>\n",
       "      <th>end_diff</th>\n",
       "      <th>read_sv</th>\n",
       "    </tr>\n",
       "  </thead>\n",
       "  <tbody>\n",
       "    <tr>\n",
       "      <th>0</th>\n",
       "      <td>S1_1!NC_060948.1!32506096!32517631!+</td>\n",
       "      <td>11586</td>\n",
       "      <td>35</td>\n",
       "      <td>10592</td>\n",
       "      <td>+</td>\n",
       "      <td>NC_060948.1</td>\n",
       "      <td>62460029</td>\n",
       "      <td>31404721</td>\n",
       "      <td>31415229</td>\n",
       "      <td>1343</td>\n",
       "      <td>...</td>\n",
       "      <td>minimap</td>\n",
       "      <td>S1_1</td>\n",
       "      <td>NC_060948.1</td>\n",
       "      <td>32506096</td>\n",
       "      <td>32517631</td>\n",
       "      <td>+</td>\n",
       "      <td>True</td>\n",
       "      <td>-1101375</td>\n",
       "      <td>-1102402</td>\n",
       "      <td>none</td>\n",
       "    </tr>\n",
       "    <tr>\n",
       "      <th>1</th>\n",
       "      <td>S1_1!NC_060948.1!32506096!32517631!+</td>\n",
       "      <td>11586</td>\n",
       "      <td>11367</td>\n",
       "      <td>11576</td>\n",
       "      <td>+</td>\n",
       "      <td>NC_060948.1</td>\n",
       "      <td>62460029</td>\n",
       "      <td>33862141</td>\n",
       "      <td>33862350</td>\n",
       "      <td>53</td>\n",
       "      <td>...</td>\n",
       "      <td>minimap</td>\n",
       "      <td>S1_1</td>\n",
       "      <td>NC_060948.1</td>\n",
       "      <td>32506096</td>\n",
       "      <td>32517631</td>\n",
       "      <td>+</td>\n",
       "      <td>False</td>\n",
       "      <td>1356045</td>\n",
       "      <td>1344719</td>\n",
       "      <td>none</td>\n",
       "    </tr>\n",
       "    <tr>\n",
       "      <th>2</th>\n",
       "      <td>S1_1!NC_060948.1!32506096!32517631!+</td>\n",
       "      <td>11586</td>\n",
       "      <td>10954</td>\n",
       "      <td>10996</td>\n",
       "      <td>-</td>\n",
       "      <td>NC_060948.1</td>\n",
       "      <td>62460029</td>\n",
       "      <td>61369738</td>\n",
       "      <td>61369780</td>\n",
       "      <td>42</td>\n",
       "      <td>...</td>\n",
       "      <td>minimap</td>\n",
       "      <td>S1_1</td>\n",
       "      <td>NC_060948.1</td>\n",
       "      <td>32506096</td>\n",
       "      <td>32517631</td>\n",
       "      <td>+</td>\n",
       "      <td>False</td>\n",
       "      <td>28863642</td>\n",
       "      <td>28852149</td>\n",
       "      <td>none</td>\n",
       "    </tr>\n",
       "    <tr>\n",
       "      <th>3</th>\n",
       "      <td>S1_2!NC_060948.1!7313490!7324160!-</td>\n",
       "      <td>10687</td>\n",
       "      <td>1</td>\n",
       "      <td>10672</td>\n",
       "      <td>-</td>\n",
       "      <td>NC_060948.1</td>\n",
       "      <td>62460029</td>\n",
       "      <td>7055064</td>\n",
       "      <td>7065718</td>\n",
       "      <td>9311</td>\n",
       "      <td>...</td>\n",
       "      <td>minimap</td>\n",
       "      <td>S1_2</td>\n",
       "      <td>NC_060948.1</td>\n",
       "      <td>7313490</td>\n",
       "      <td>7324160</td>\n",
       "      <td>-</td>\n",
       "      <td>True</td>\n",
       "      <td>-258426</td>\n",
       "      <td>-258442</td>\n",
       "      <td>DUP</td>\n",
       "    </tr>\n",
       "    <tr>\n",
       "      <th>4</th>\n",
       "      <td>S1_3!NC_060948.1!47237716!47251609!+</td>\n",
       "      <td>13954</td>\n",
       "      <td>149</td>\n",
       "      <td>13734</td>\n",
       "      <td>+</td>\n",
       "      <td>NC_060948.1</td>\n",
       "      <td>62460029</td>\n",
       "      <td>45664231</td>\n",
       "      <td>45677487</td>\n",
       "      <td>1105</td>\n",
       "      <td>...</td>\n",
       "      <td>minimap</td>\n",
       "      <td>S1_3</td>\n",
       "      <td>NC_060948.1</td>\n",
       "      <td>47237716</td>\n",
       "      <td>47251609</td>\n",
       "      <td>+</td>\n",
       "      <td>False</td>\n",
       "      <td>-1573485</td>\n",
       "      <td>-1574122</td>\n",
       "      <td>multi</td>\n",
       "    </tr>\n",
       "    <tr>\n",
       "      <th>...</th>\n",
       "      <td>...</td>\n",
       "      <td>...</td>\n",
       "      <td>...</td>\n",
       "      <td>...</td>\n",
       "      <td>...</td>\n",
       "      <td>...</td>\n",
       "      <td>...</td>\n",
       "      <td>...</td>\n",
       "      <td>...</td>\n",
       "      <td>...</td>\n",
       "      <td>...</td>\n",
       "      <td>...</td>\n",
       "      <td>...</td>\n",
       "      <td>...</td>\n",
       "      <td>...</td>\n",
       "      <td>...</td>\n",
       "      <td>...</td>\n",
       "      <td>...</td>\n",
       "      <td>...</td>\n",
       "      <td>...</td>\n",
       "      <td>...</td>\n",
       "    </tr>\n",
       "    <tr>\n",
       "      <th>839</th>\n",
       "      <td>S1_634!NC_060948.1!59404080!59412330!-</td>\n",
       "      <td>8273</td>\n",
       "      <td>231</td>\n",
       "      <td>8251</td>\n",
       "      <td>-</td>\n",
       "      <td>NC_060948.1</td>\n",
       "      <td>62460029</td>\n",
       "      <td>57450392</td>\n",
       "      <td>57457634</td>\n",
       "      <td>1364</td>\n",
       "      <td>...</td>\n",
       "      <td>minimap</td>\n",
       "      <td>S1_634</td>\n",
       "      <td>NC_060948.1</td>\n",
       "      <td>59404080</td>\n",
       "      <td>59412330</td>\n",
       "      <td>-</td>\n",
       "      <td>False</td>\n",
       "      <td>-1953688</td>\n",
       "      <td>-1954696</td>\n",
       "      <td>none</td>\n",
       "    </tr>\n",
       "    <tr>\n",
       "      <th>840</th>\n",
       "      <td>S1_635!NC_060948.1!24945305!24956036!+</td>\n",
       "      <td>10749</td>\n",
       "      <td>7</td>\n",
       "      <td>10746</td>\n",
       "      <td>+</td>\n",
       "      <td>NC_060948.1</td>\n",
       "      <td>62460029</td>\n",
       "      <td>24069110</td>\n",
       "      <td>24079831</td>\n",
       "      <td>9361</td>\n",
       "      <td>...</td>\n",
       "      <td>minimap</td>\n",
       "      <td>S1_635</td>\n",
       "      <td>NC_060948.1</td>\n",
       "      <td>24945305</td>\n",
       "      <td>24956036</td>\n",
       "      <td>+</td>\n",
       "      <td>True</td>\n",
       "      <td>-876195</td>\n",
       "      <td>-876205</td>\n",
       "      <td>none</td>\n",
       "    </tr>\n",
       "    <tr>\n",
       "      <th>841</th>\n",
       "      <td>S1_636!NC_060948.1!37712871!37720393!-</td>\n",
       "      <td>7551</td>\n",
       "      <td>247</td>\n",
       "      <td>7523</td>\n",
       "      <td>-</td>\n",
       "      <td>NC_060948.1</td>\n",
       "      <td>62460029</td>\n",
       "      <td>36444000</td>\n",
       "      <td>36451246</td>\n",
       "      <td>1399</td>\n",
       "      <td>...</td>\n",
       "      <td>minimap</td>\n",
       "      <td>S1_636</td>\n",
       "      <td>NC_060948.1</td>\n",
       "      <td>37712871</td>\n",
       "      <td>37720393</td>\n",
       "      <td>-</td>\n",
       "      <td>True</td>\n",
       "      <td>-1268871</td>\n",
       "      <td>-1269147</td>\n",
       "      <td>none</td>\n",
       "    </tr>\n",
       "    <tr>\n",
       "      <th>842</th>\n",
       "      <td>S1_637!NC_060948.1!17971463!17979127!+</td>\n",
       "      <td>7689</td>\n",
       "      <td>1</td>\n",
       "      <td>7671</td>\n",
       "      <td>+</td>\n",
       "      <td>NC_060948.1</td>\n",
       "      <td>62460029</td>\n",
       "      <td>17327900</td>\n",
       "      <td>17335545</td>\n",
       "      <td>6029</td>\n",
       "      <td>...</td>\n",
       "      <td>minimap</td>\n",
       "      <td>S1_637</td>\n",
       "      <td>NC_060948.1</td>\n",
       "      <td>17971463</td>\n",
       "      <td>17979127</td>\n",
       "      <td>+</td>\n",
       "      <td>True</td>\n",
       "      <td>-643563</td>\n",
       "      <td>-643582</td>\n",
       "      <td>none</td>\n",
       "    </tr>\n",
       "    <tr>\n",
       "      <th>843</th>\n",
       "      <td>S1_638!NC_060948.1!41626042!41636622!-</td>\n",
       "      <td>10616</td>\n",
       "      <td>7</td>\n",
       "      <td>10511</td>\n",
       "      <td>-</td>\n",
       "      <td>NC_060948.1</td>\n",
       "      <td>62460029</td>\n",
       "      <td>40244093</td>\n",
       "      <td>40254562</td>\n",
       "      <td>2103</td>\n",
       "      <td>...</td>\n",
       "      <td>minimap</td>\n",
       "      <td>S1_638</td>\n",
       "      <td>NC_060948.1</td>\n",
       "      <td>41626042</td>\n",
       "      <td>41636622</td>\n",
       "      <td>-</td>\n",
       "      <td>True</td>\n",
       "      <td>-1381949</td>\n",
       "      <td>-1382060</td>\n",
       "      <td>multi</td>\n",
       "    </tr>\n",
       "  </tbody>\n",
       "</table>\n",
       "<p>844 rows × 29 columns</p>\n",
       "</div>"
      ],
      "text/plain": [
       "                                 query_name  query_length  query_start  query_end strand  \\\n",
       "0      S1_1!NC_060948.1!32506096!32517631!+         11586           35      10592      +   \n",
       "1      S1_1!NC_060948.1!32506096!32517631!+         11586        11367      11576      +   \n",
       "2      S1_1!NC_060948.1!32506096!32517631!+         11586        10954      10996      -   \n",
       "3        S1_2!NC_060948.1!7313490!7324160!-         10687            1      10672      -   \n",
       "4      S1_3!NC_060948.1!47237716!47251609!+         13954          149      13734      +   \n",
       "..                                      ...           ...          ...        ...    ...   \n",
       "839  S1_634!NC_060948.1!59404080!59412330!-          8273          231       8251      -   \n",
       "840  S1_635!NC_060948.1!24945305!24956036!+         10749            7      10746      +   \n",
       "841  S1_636!NC_060948.1!37712871!37720393!-          7551          247       7523      -   \n",
       "842  S1_637!NC_060948.1!17971463!17979127!+          7689            1       7671      +   \n",
       "843  S1_638!NC_060948.1!41626042!41636622!-         10616            7      10511      -   \n",
       "\n",
       "     target_name  target_length  target_start  target_end  residue_matches  ...     tool  \\\n",
       "0    NC_060948.1       62460029      31404721    31415229             1343  ...  minimap   \n",
       "1    NC_060948.1       62460029      33862141    33862350               53  ...  minimap   \n",
       "2    NC_060948.1       62460029      61369738    61369780               42  ...  minimap   \n",
       "3    NC_060948.1       62460029       7055064     7065718             9311  ...  minimap   \n",
       "4    NC_060948.1       62460029      45664231    45677487             1105  ...  minimap   \n",
       "..           ...            ...           ...         ...              ...  ...      ...   \n",
       "839  NC_060948.1       62460029      57450392    57457634             1364  ...  minimap   \n",
       "840  NC_060948.1       62460029      24069110    24079831             9361  ...  minimap   \n",
       "841  NC_060948.1       62460029      36444000    36451246             1399  ...  minimap   \n",
       "842  NC_060948.1       62460029      17327900    17335545             6029  ...  minimap   \n",
       "843  NC_060948.1       62460029      40244093    40254562             2103  ...  minimap   \n",
       "\n",
       "     read_name       GT_ref   GT_from     GT_to  GT_strand  is_correct  start_diff  end_diff  \\\n",
       "0         S1_1  NC_060948.1  32506096  32517631          +        True    -1101375  -1102402   \n",
       "1         S1_1  NC_060948.1  32506096  32517631          +       False     1356045   1344719   \n",
       "2         S1_1  NC_060948.1  32506096  32517631          +       False    28863642  28852149   \n",
       "3         S1_2  NC_060948.1   7313490   7324160          -        True     -258426   -258442   \n",
       "4         S1_3  NC_060948.1  47237716  47251609          +       False    -1573485  -1574122   \n",
       "..         ...          ...       ...       ...        ...         ...         ...       ...   \n",
       "839     S1_634  NC_060948.1  59404080  59412330          -       False    -1953688  -1954696   \n",
       "840     S1_635  NC_060948.1  24945305  24956036          +        True     -876195   -876205   \n",
       "841     S1_636  NC_060948.1  37712871  37720393          -        True    -1268871  -1269147   \n",
       "842     S1_637  NC_060948.1  17971463  17979127          +        True     -643563   -643582   \n",
       "843     S1_638  NC_060948.1  41626042  41636622          -        True    -1381949  -1382060   \n",
       "\n",
       "    read_sv  \n",
       "0      none  \n",
       "1      none  \n",
       "2      none  \n",
       "3       DUP  \n",
       "4     multi  \n",
       "..      ...  \n",
       "839    none  \n",
       "840    none  \n",
       "841    none  \n",
       "842    none  \n",
       "843   multi  \n",
       "\n",
       "[844 rows x 29 columns]"
      ]
     },
     "metadata": {},
     "output_type": "display_data"
    },
    {
     "data": {
      "text/plain": [
       "Pandas(Index=5, query_name='S1_101!NC_060948.1!59546000!59555296!+', query_length=9302, query_start=177, query_end=9025, strand='+', target_name='NC_060948.1', target_length=62460029, target_start=57575329, target_end=57584174, residue_matches=923, alignment_block_length=8860, mapping_quality=0, tp='P', cm=69, s1=915, s2=896, dv=0.0214, rl=7905, experiment='t2tChrY-readst2tChrY-SVs-a0.99-d0.1-l10000', tool='minimap', read_name='S1_101', GT_ref='NC_060948.1', GT_from=59546000, GT_to=59555296, GT_strand='+', is_correct=True, start_diff=-1970671, end_diff=-1971122, read_sv='INS')"
      ]
     },
     "metadata": {},
     "output_type": "display_data"
    },
    {
     "data": {
      "text/plain": [
       "'           GT from 59546000 to 59555296'"
      ]
     },
     "metadata": {},
     "output_type": "display_data"
    },
    {
     "data": {
      "text/plain": [
       "'       target from 57575329 to 57584174'"
      ]
     },
     "metadata": {},
     "output_type": "display_data"
    },
    {
     "data": {
      "text/plain": [
       "'    GT_labels from 57575153 to 57584448'"
      ]
     },
     "metadata": {},
     "output_type": "display_data"
    },
    {
     "data": {
      "text/plain": [
       "'target_labels from 57575330 to 57584174'"
      ]
     },
     "metadata": {},
     "output_type": "display_data"
    },
    {
     "data": {
      "text/plain": [
       "'8845 >?= 8366.4 = 0.9 * union 9296 => True'"
      ]
     },
     "metadata": {},
     "output_type": "display_data"
    },
    {
     "data": {
      "text/plain": [
       "Pandas(Index=6, query_name='S1_102!NC_060948.1!8587156!8597501!-', query_length=10373, query_start=2, query_end=10370, strand='-', target_name='NC_060948.1', target_length=62460029, target_start=8266326, target_end=8276211, residue_matches=8571, alignment_block_length=10388, mapping_quality=60, tp='P', cm=790, s1=8495, s2=111, dv=0.0009, rl=106, experiment='t2tChrY-readst2tChrY-SVs-a0.99-d0.1-l10000', tool='minimap', read_name='S1_102', GT_ref='NC_060948.1', GT_from=8587156, GT_to=8597501, GT_strand='-', is_correct=True, start_diff=-320830, end_diff=-321290, read_sv='INV')"
      ]
     },
     "metadata": {},
     "output_type": "display_data"
    },
    {
     "data": {
      "text/plain": [
       "'           GT from 8587156 to 8597501'"
      ]
     },
     "metadata": {},
     "output_type": "display_data"
    },
    {
     "data": {
      "text/plain": [
       "'       target from 8266326 to 8276211'"
      ]
     },
     "metadata": {},
     "output_type": "display_data"
    },
    {
     "data": {
      "text/plain": [
       "'    GT_labels from -18540 to 8276213'"
      ]
     },
     "metadata": {},
     "output_type": "display_data"
    },
    {
     "data": {
      "text/plain": [
       "'target_labels from 8266327 to 8276211'"
      ]
     },
     "metadata": {},
     "output_type": "display_data"
    },
    {
     "data": {
      "text/plain": [
       "'9885 >?= 9310.5 = 0.9 * union 10345 => True'"
      ]
     },
     "metadata": {},
     "output_type": "display_data"
    },
    {
     "data": {
      "text/plain": [
       "Pandas(Index=7, query_name='S1_103!NC_060948.1!32832279!32845297!+', query_length=13033, query_start=342, query_end=12474, strand='+', target_name='NC_060948.1', target_length=62460029, target_start=31722956, target_end=31735077, residue_matches=1497, alignment_block_length=12148, mapping_quality=17, tp='P', cm=118, s1=1487, s2=763, dv=0.0264, rl=10635, experiment='t2tChrY-readst2tChrY-SVs-a0.99-d0.1-l10000', tool='minimap', read_name='S1_103', GT_ref='NC_060948.1', GT_from=32832279, GT_to=32845297, GT_strand='+', is_correct=True, start_diff=-1109323, end_diff=-1110220, read_sv='INV')"
      ]
     },
     "metadata": {},
     "output_type": "display_data"
    },
    {
     "data": {
      "text/plain": [
       "'           GT from 32832279 to 32845297'"
      ]
     },
     "metadata": {},
     "output_type": "display_data"
    },
    {
     "data": {
      "text/plain": [
       "'       target from 31722956 to 31735077'"
      ]
     },
     "metadata": {},
     "output_type": "display_data"
    },
    {
     "data": {
      "text/plain": [
       "'    GT_labels from 31722615 to 31735632'"
      ]
     },
     "metadata": {},
     "output_type": "display_data"
    },
    {
     "data": {
      "text/plain": [
       "'target_labels from 31722957 to 31735077'"
      ]
     },
     "metadata": {},
     "output_type": "display_data"
    },
    {
     "data": {
      "text/plain": [
       "'12121 >?= 11716.2 = 0.9 * union 13018 => True'"
      ]
     },
     "metadata": {},
     "output_type": "display_data"
    },
    {
     "data": {
      "text/plain": [
       "Pandas(Index=8, query_name='S1_104!NC_060948.1!34053117!34061820!-', query_length=8745, query_start=115, query_end=8559, strand='-', target_name='NC_060948.1', target_length=62460029, target_start=32920356, target_end=32928758, residue_matches=1577, alignment_block_length=8450, mapping_quality=4, tp='P', cm=117, s1=1564, s2=1433, dv=0.014, rl=6783, experiment='t2tChrY-readst2tChrY-SVs-a0.99-d0.1-l10000', tool='minimap', read_name='S1_104', GT_ref='NC_060948.1', GT_from=34053117, GT_to=34061820, GT_strand='-', is_correct=True, start_diff=-1132761, end_diff=-1133062, read_sv='INV')"
      ]
     },
     "metadata": {},
     "output_type": "display_data"
    },
    {
     "data": {
      "text/plain": [
       "'           GT from 34053117 to 34061820'"
      ]
     },
     "metadata": {},
     "output_type": "display_data"
    },
    {
     "data": {
      "text/plain": [
       "'       target from 32920356 to 32928758'"
      ]
     },
     "metadata": {},
     "output_type": "display_data"
    },
    {
     "data": {
      "text/plain": [
       "'    GT_labels from 32920172 to 32928874'"
      ]
     },
     "metadata": {},
     "output_type": "display_data"
    },
    {
     "data": {
      "text/plain": [
       "'target_labels from 32920357 to 32928758'"
      ]
     },
     "metadata": {},
     "output_type": "display_data"
    },
    {
     "data": {
      "text/plain": [
       "'8402 >?= 7832.7 = 0.9 * union 8703 => True'"
      ]
     },
     "metadata": {},
     "output_type": "display_data"
    },
    {
     "data": {
      "text/plain": [
       "Pandas(Index=10, query_name='S1_106!NC_060948.1!22438808!22453370!-', query_length=14628, query_start=2, query_end=14604, strand='-', target_name='NC_060948.1', target_length=62460029, target_start=21648386, target_end=21662922, residue_matches=12610, alignment_block_length=14627, mapping_quality=60, tp='P', cm=1169, s1=12600, s2=226, dv=0.0004, rl=26, experiment='t2tChrY-readst2tChrY-SVs-a0.99-d0.1-l10000', tool='minimap', read_name='S1_106', GT_ref='NC_060948.1', GT_from=22438808, GT_to=22453370, GT_strand='-', is_correct=True, start_diff=-790422, end_diff=-790448, read_sv='DUP')"
      ]
     },
     "metadata": {},
     "output_type": "display_data"
    },
    {
     "data": {
      "text/plain": [
       "'           GT from 22438808 to 22453370'"
      ]
     },
     "metadata": {},
     "output_type": "display_data"
    },
    {
     "data": {
      "text/plain": [
       "'       target from 21648386 to 21662922'"
      ]
     },
     "metadata": {},
     "output_type": "display_data"
    },
    {
     "data": {
      "text/plain": [
       "'    GT_labels from 21648363 to 21662924'"
      ]
     },
     "metadata": {},
     "output_type": "display_data"
    },
    {
     "data": {
      "text/plain": [
       "'target_labels from 21648387 to 21662922'"
      ]
     },
     "metadata": {},
     "output_type": "display_data"
    },
    {
     "data": {
      "text/plain": [
       "'14536 >?= 13105.800000000001 = 0.9 * union 14562 => True'"
      ]
     },
     "metadata": {},
     "output_type": "display_data"
    },
    {
     "data": {
      "text/plain": [
       "Pandas(Index=11, query_name='S1_107!NC_060948.1!18203199!18209981!+', query_length=6801, query_start=3, query_end=6800, strand='+', target_name='NC_060948.1', target_length=62460029, target_start=17551460, target_end=17557610, residue_matches=5368, alignment_block_length=6809, mapping_quality=60, tp='P', cm=506, s1=5262, s2=185, dv=0.0045, rl=78, experiment='t2tChrY-readst2tChrY-SVs-a0.99-d0.1-l10000', tool='minimap', read_name='S1_107', GT_ref='NC_060948.1', GT_from=18203199, GT_to=18209981, GT_strand='+', is_correct=True, start_diff=-651739, end_diff=-652371, read_sv='INS')"
      ]
     },
     "metadata": {},
     "output_type": "display_data"
    },
    {
     "data": {
      "text/plain": [
       "'           GT from 18203199 to 18209981'"
      ]
     },
     "metadata": {},
     "output_type": "display_data"
    },
    {
     "data": {
      "text/plain": [
       "'       target from 17551460 to 17557610'"
      ]
     },
     "metadata": {},
     "output_type": "display_data"
    },
    {
     "data": {
      "text/plain": [
       "'    GT_labels from 17551458 to 17557611'"
      ]
     },
     "metadata": {},
     "output_type": "display_data"
    },
    {
     "data": {
      "text/plain": [
       "'target_labels from 17551461 to 17557610'"
      ]
     },
     "metadata": {},
     "output_type": "display_data"
    },
    {
     "data": {
      "text/plain": [
       "'6150 >?= 6103.8 = 0.9 * union 6782 => True'"
      ]
     },
     "metadata": {},
     "output_type": "display_data"
    },
    {
     "data": {
      "text/plain": [
       "Pandas(Index=12, query_name='S1_108!NC_060948.1!6814976!6826053!-', query_length=11099, query_start=9, query_end=11064, strand='-', target_name='NC_060948.1', target_length=62460029, target_start=6567130, target_end=6575684, residue_matches=7460, alignment_block_length=11075, mapping_quality=60, tp='P', cm=667, s1=7060, s2=356, dv=0.0117, rl=0, experiment='t2tChrY-readst2tChrY-SVs-a0.99-d0.1-l10000', tool='minimap', read_name='S1_108', GT_ref='NC_060948.1', GT_from=6814976, GT_to=6826053, GT_strand='-', is_correct=False, start_diff=-247846, end_diff=-250369, read_sv='INV')"
      ]
     },
     "metadata": {},
     "output_type": "display_data"
    },
    {
     "data": {
      "text/plain": [
       "'           GT from 6814976 to 6826053'"
      ]
     },
     "metadata": {},
     "output_type": "display_data"
    },
    {
     "data": {
      "text/plain": [
       "'       target from 6567130 to 6575684'"
      ]
     },
     "metadata": {},
     "output_type": "display_data"
    },
    {
     "data": {
      "text/plain": [
       "'    GT_labels from 6567095 to 6575693'"
      ]
     },
     "metadata": {},
     "output_type": "display_data"
    },
    {
     "data": {
      "text/plain": [
       "'target_labels from 6567131 to 6575684'"
      ]
     },
     "metadata": {},
     "output_type": "display_data"
    },
    {
     "data": {
      "text/plain": [
       "'8554 >?= 9969.300000000001 = 0.9 * union 11077 => False'"
      ]
     },
     "metadata": {},
     "output_type": "display_data"
    },
    {
     "data": {
      "text/plain": [
       "Pandas(Index=18, query_name='S1_113!NC_060948.1!48853467!48862826!+', query_length=9375, query_start=4856, query_end=9287, strand='+', target_name='NC_060948.1', target_length=62460029, target_start=47218566, target_end=47222986, residue_matches=791, alignment_block_length=4436, mapping_quality=3, tp='P', cm=64, s1=786, s2=724, dv=0.0136, rl=7355, experiment='t2tChrY-readst2tChrY-SVs-a0.99-d0.1-l10000', tool='minimap', read_name='S1_113', GT_ref='NC_060948.1', GT_from=48853467, GT_to=48862826, GT_strand='+', is_correct=False, start_diff=-1634901, end_diff=-1639840, read_sv='DUP')"
      ]
     },
     "metadata": {},
     "output_type": "display_data"
    },
    {
     "data": {
      "text/plain": [
       "'           GT from 48853467 to 48862826'"
      ]
     },
     "metadata": {},
     "output_type": "display_data"
    },
    {
     "data": {
      "text/plain": [
       "'       target from 47218566 to 47222986'"
      ]
     },
     "metadata": {},
     "output_type": "display_data"
    },
    {
     "data": {
      "text/plain": [
       "'    GT_labels from 47216325 to 47223073'"
      ]
     },
     "metadata": {},
     "output_type": "display_data"
    },
    {
     "data": {
      "text/plain": [
       "'target_labels from 47218567 to 47222986'"
      ]
     },
     "metadata": {},
     "output_type": "display_data"
    },
    {
     "data": {
      "text/plain": [
       "'4420 >?= 8423.1 = 0.9 * union 9359 => False'"
      ]
     },
     "metadata": {},
     "output_type": "display_data"
    },
    {
     "data": {
      "text/plain": [
       "Pandas(Index=19, query_name='S1_113!NC_060948.1!48853467!48862826!+', query_length=9375, query_start=118, query_end=2553, strand='+', target_name='NC_060948.1', target_length=62460029, target_start=47216440, target_end=47218873, residue_matches=338, alignment_block_length=2439, mapping_quality=3, tp='P', cm=26, s1=335, s2=305, dv=0.0211, rl=7355, experiment='t2tChrY-readst2tChrY-SVs-a0.99-d0.1-l10000', tool='minimap', read_name='S1_113', GT_ref='NC_060948.1', GT_from=48853467, GT_to=48862826, GT_strand='+', is_correct=False, start_diff=-1637027, end_diff=-1643953, read_sv='DUP')"
      ]
     },
     "metadata": {},
     "output_type": "display_data"
    },
    {
     "data": {
      "text/plain": [
       "'           GT from 48853467 to 48862826'"
      ]
     },
     "metadata": {},
     "output_type": "display_data"
    },
    {
     "data": {
      "text/plain": [
       "'       target from 47216440 to 47218873'"
      ]
     },
     "metadata": {},
     "output_type": "display_data"
    },
    {
     "data": {
      "text/plain": [
       "'    GT_labels from 47216325 to 47223073'"
      ]
     },
     "metadata": {},
     "output_type": "display_data"
    },
    {
     "data": {
      "text/plain": [
       "'target_labels from 47216441 to 47218873'"
      ]
     },
     "metadata": {},
     "output_type": "display_data"
    },
    {
     "data": {
      "text/plain": [
       "'2433 >?= 8423.1 = 0.9 * union 9359 => False'"
      ]
     },
     "metadata": {},
     "output_type": "display_data"
    },
    {
     "data": {
      "text/plain": [
       "Pandas(Index=20, query_name='S1_113!NC_060948.1!48853467!48862826!+', query_length=9375, query_start=3553, query_end=3742, strand='+', target_name='NC_060948.1', target_length=62460029, target_start=47215012, target_end=47215202, residue_matches=120, alignment_block_length=190, mapping_quality=0, tp='P', cm=13, s1=120, s2=120, dv=0.0075, rl=7355, experiment='t2tChrY-readst2tChrY-SVs-a0.99-d0.1-l10000', tool='minimap', read_name='S1_113', GT_ref='NC_060948.1', GT_from=48853467, GT_to=48862826, GT_strand='+', is_correct=False, start_diff=-1638455, end_diff=-1647624, read_sv='DUP')"
      ]
     },
     "metadata": {},
     "output_type": "display_data"
    },
    {
     "data": {
      "text/plain": [
       "'           GT from 48853467 to 48862826'"
      ]
     },
     "metadata": {},
     "output_type": "display_data"
    },
    {
     "data": {
      "text/plain": [
       "'       target from 47215012 to 47215202'"
      ]
     },
     "metadata": {},
     "output_type": "display_data"
    },
    {
     "data": {
      "text/plain": [
       "'    GT_labels from 47216325 to 47223073'"
      ]
     },
     "metadata": {},
     "output_type": "display_data"
    },
    {
     "data": {
      "text/plain": [
       "'target_labels from 47215013 to 47215202'"
      ]
     },
     "metadata": {},
     "output_type": "display_data"
    },
    {
     "data": {
      "text/plain": [
       "'0 >?= 8594.1 = 0.9 * union 9549 => False'"
      ]
     },
     "metadata": {},
     "output_type": "display_data"
    },
    {
     "data": {
      "text/plain": [
       "Pandas(Index=21, query_name='S1_113!NC_060948.1!48853467!48862826!+', query_length=9375, query_start=4060, query_end=4293, strand='+', target_name='NC_060948.1', target_length=62460029, target_start=32730111, target_end=32730344, residue_matches=113, alignment_block_length=233, mapping_quality=0, tp='P', cm=12, s1=113, s2=113, dv=0.0081, rl=7355, experiment='t2tChrY-readst2tChrY-SVs-a0.99-d0.1-l10000', tool='minimap', read_name='S1_113', GT_ref='NC_060948.1', GT_from=48853467, GT_to=48862826, GT_strand='+', is_correct=False, start_diff=-16123356, end_diff=-16132482, read_sv='DUP')"
      ]
     },
     "metadata": {},
     "output_type": "display_data"
    },
    {
     "data": {
      "text/plain": [
       "'           GT from 48853467 to 48862826'"
      ]
     },
     "metadata": {},
     "output_type": "display_data"
    },
    {
     "data": {
      "text/plain": [
       "'       target from 32730111 to 32730344'"
      ]
     },
     "metadata": {},
     "output_type": "display_data"
    },
    {
     "data": {
      "text/plain": [
       "'    GT_labels from 47216325 to 47223073'"
      ]
     },
     "metadata": {},
     "output_type": "display_data"
    },
    {
     "data": {
      "text/plain": [
       "'target_labels from 32730112 to 32730344'"
      ]
     },
     "metadata": {},
     "output_type": "display_data"
    },
    {
     "data": {
      "text/plain": [
       "'0 >?= 8632.800000000001 = 0.9 * union 9592 => False'"
      ]
     },
     "metadata": {},
     "output_type": "display_data"
    },
    {
     "data": {
      "text/plain": [
       "Pandas(Index=22, query_name='S1_113!NC_060948.1!48853467!48862826!+', query_length=9375, query_start=2682, query_end=2871, strand='+', target_name='NC_060948.1', target_length=62460029, target_start=34302009, target_end=34302199, residue_matches=110, alignment_block_length=190, mapping_quality=0, tp='P', cm=11, s1=110, s2=110, dv=0.0088, rl=7355, experiment='t2tChrY-readst2tChrY-SVs-a0.99-d0.1-l10000', tool='minimap', read_name='S1_113', GT_ref='NC_060948.1', GT_from=48853467, GT_to=48862826, GT_strand='+', is_correct=False, start_diff=-14551458, end_diff=-14560627, read_sv='DUP')"
      ]
     },
     "metadata": {},
     "output_type": "display_data"
    },
    {
     "data": {
      "text/plain": [
       "'           GT from 48853467 to 48862826'"
      ]
     },
     "metadata": {},
     "output_type": "display_data"
    },
    {
     "data": {
      "text/plain": [
       "'       target from 34302009 to 34302199'"
      ]
     },
     "metadata": {},
     "output_type": "display_data"
    },
    {
     "data": {
      "text/plain": [
       "'    GT_labels from 47216325 to 47223073'"
      ]
     },
     "metadata": {},
     "output_type": "display_data"
    },
    {
     "data": {
      "text/plain": [
       "'target_labels from 34302010 to 34302199'"
      ]
     },
     "metadata": {},
     "output_type": "display_data"
    },
    {
     "data": {
      "text/plain": [
       "'0 >?= 8594.1 = 0.9 * union 9549 => False'"
      ]
     },
     "metadata": {},
     "output_type": "display_data"
    },
    {
     "data": {
      "text/plain": [
       "Pandas(Index=23, query_name='S1_113!NC_060948.1!48853467!48862826!+', query_length=9375, query_start=3117, query_end=3309, strand='+', target_name='NC_060948.1', target_length=62460029, target_start=37953517, target_end=37953707, residue_matches=72, alignment_block_length=193, mapping_quality=0, tp='P', cm=6, s1=71, s2=71, dv=0.015, rl=7355, experiment='t2tChrY-readst2tChrY-SVs-a0.99-d0.1-l10000', tool='minimap', read_name='S1_113', GT_ref='NC_060948.1', GT_from=48853467, GT_to=48862826, GT_strand='+', is_correct=False, start_diff=-10899950, end_diff=-10909119, read_sv='DUP')"
      ]
     },
     "metadata": {},
     "output_type": "display_data"
    },
    {
     "data": {
      "text/plain": [
       "'           GT from 48853467 to 48862826'"
      ]
     },
     "metadata": {},
     "output_type": "display_data"
    },
    {
     "data": {
      "text/plain": [
       "'       target from 37953517 to 37953707'"
      ]
     },
     "metadata": {},
     "output_type": "display_data"
    },
    {
     "data": {
      "text/plain": [
       "'    GT_labels from 47216325 to 47223073'"
      ]
     },
     "metadata": {},
     "output_type": "display_data"
    },
    {
     "data": {
      "text/plain": [
       "'target_labels from 37953518 to 37953707'"
      ]
     },
     "metadata": {},
     "output_type": "display_data"
    },
    {
     "data": {
      "text/plain": [
       "'0 >?= 8594.1 = 0.9 * union 9549 => False'"
      ]
     },
     "metadata": {},
     "output_type": "display_data"
    },
    {
     "data": {
      "text/plain": [
       "Pandas(Index=24, query_name='S1_113!NC_060948.1!48853467!48862826!+', query_length=9375, query_start=4429, query_end=4588, strand='+', target_name='NC_060948.1', target_length=62460029, target_start=34195347, target_end=34195507, residue_matches=63, alignment_block_length=160, mapping_quality=0, tp='P', cm=6, s1=63, s2=63, dv=0.015, rl=7355, experiment='t2tChrY-readst2tChrY-SVs-a0.99-d0.1-l10000', tool='minimap', read_name='S1_113', GT_ref='NC_060948.1', GT_from=48853467, GT_to=48862826, GT_strand='+', is_correct=False, start_diff=-14658120, end_diff=-14667319, read_sv='DUP')"
      ]
     },
     "metadata": {},
     "output_type": "display_data"
    },
    {
     "data": {
      "text/plain": [
       "'           GT from 48853467 to 48862826'"
      ]
     },
     "metadata": {},
     "output_type": "display_data"
    },
    {
     "data": {
      "text/plain": [
       "'       target from 34195347 to 34195507'"
      ]
     },
     "metadata": {},
     "output_type": "display_data"
    },
    {
     "data": {
      "text/plain": [
       "'    GT_labels from 47216325 to 47223073'"
      ]
     },
     "metadata": {},
     "output_type": "display_data"
    },
    {
     "data": {
      "text/plain": [
       "'target_labels from 34195348 to 34195507'"
      ]
     },
     "metadata": {},
     "output_type": "display_data"
    },
    {
     "data": {
      "text/plain": [
       "'0 >?= 8567.1 = 0.9 * union 9519 => False'"
      ]
     },
     "metadata": {},
     "output_type": "display_data"
    },
    {
     "data": {
      "text/plain": [
       "Pandas(Index=29, query_name='S1_118!NC_060948.1!9730472!9741389!-', query_length=10937, query_start=9, query_end=10923, strand='-', target_name='NC_060948.1', target_length=62460029, target_start=9378720, target_end=9389614, residue_matches=9655, alignment_block_length=10943, mapping_quality=6, tp='P', cm=911, s1=9648, s2=9477, dv=0.0005, rl=33, experiment='t2tChrY-readst2tChrY-SVs-a0.99-d0.1-l10000', tool='minimap', read_name='S1_118', GT_ref='NC_060948.1', GT_from=9730472, GT_to=9741389, GT_strand='-', is_correct=True, start_diff=-351752, end_diff=-351775, read_sv='multi')"
      ]
     },
     "metadata": {},
     "output_type": "display_data"
    },
    {
     "data": {
      "text/plain": [
       "'           GT from 9730472 to 9741389'"
      ]
     },
     "metadata": {},
     "output_type": "display_data"
    },
    {
     "data": {
      "text/plain": [
       "'       target from 9378720 to 9389614'"
      ]
     },
     "metadata": {},
     "output_type": "display_data"
    },
    {
     "data": {
      "text/plain": [
       "'    GT_labels from 9378707 to 9389623'"
      ]
     },
     "metadata": {},
     "output_type": "display_data"
    },
    {
     "data": {
      "text/plain": [
       "'target_labels from 9378721 to 9389614'"
      ]
     },
     "metadata": {},
     "output_type": "display_data"
    },
    {
     "data": {
      "text/plain": [
       "'10894 >?= 9825.300000000001 = 0.9 * union 10917 => True'"
      ]
     },
     "metadata": {},
     "output_type": "display_data"
    },
    {
     "data": {
      "text/plain": [
       "Pandas(Index=30, query_name='S1_119!NC_060948.1!54551382!54561072!+', query_length=9719, query_start=472, query_end=8872, strand='+', target_name='NC_060948.1', target_length=62460029, target_start=51180569, target_end=51188948, residue_matches=854, alignment_block_length=8408, mapping_quality=0, tp='P', cm=63, s1=843, s2=843, dv=0.0265, rl=8160, experiment='t2tChrY-readst2tChrY-SVs-a0.99-d0.1-l10000', tool='minimap', read_name='S1_119', GT_ref='NC_060948.1', GT_from=54551382, GT_to=54561072, GT_strand='+', is_correct=False, start_diff=-3370813, end_diff=-3372124, read_sv='INV')"
      ]
     },
     "metadata": {},
     "output_type": "display_data"
    },
    {
     "data": {
      "text/plain": [
       "'           GT from 54551382 to 54561072'"
      ]
     },
     "metadata": {},
     "output_type": "display_data"
    },
    {
     "data": {
      "text/plain": [
       "'       target from 51180569 to 51188948'"
      ]
     },
     "metadata": {},
     "output_type": "display_data"
    },
    {
     "data": {
      "text/plain": [
       "'    GT_labels from 52736537 to 52746226'"
      ]
     },
     "metadata": {},
     "output_type": "display_data"
    },
    {
     "data": {
      "text/plain": [
       "'target_labels from 51180570 to 51188948'"
      ]
     },
     "metadata": {},
     "output_type": "display_data"
    },
    {
     "data": {
      "text/plain": [
       "'0 >?= 16262.1 = 0.9 * union 18069 => False'"
      ]
     },
     "metadata": {},
     "output_type": "display_data"
    },
    {
     "data": {
      "text/plain": [
       "Pandas(Index=31, query_name='S1_12!NC_060948.1!22636970!22649877!-', query_length=12941, query_start=9, query_end=12940, strand='-', target_name='NC_060948.1', target_length=62460029, target_start=21844596, target_end=21857494, residue_matches=10601, alignment_block_length=12959, mapping_quality=60, tp='P', cm=991, s1=10596, s2=695, dv=0.0038, rl=0, experiment='t2tChrY-readst2tChrY-SVs-a0.99-d0.1-l10000', tool='minimap', read_name='S1_12', GT_ref='NC_060948.1', GT_from=22636970, GT_to=22649877, GT_strand='-', is_correct=True, start_diff=-792374, end_diff=-792383, read_sv='INV')"
      ]
     },
     "metadata": {},
     "output_type": "display_data"
    },
    {
     "data": {
      "text/plain": [
       "'           GT from 22636970 to 22649877'"
      ]
     },
     "metadata": {},
     "output_type": "display_data"
    },
    {
     "data": {
      "text/plain": [
       "'       target from 21844596 to 21857494'"
      ]
     },
     "metadata": {},
     "output_type": "display_data"
    },
    {
     "data": {
      "text/plain": [
       "'    GT_labels from 21844597 to 21857503'"
      ]
     },
     "metadata": {},
     "output_type": "display_data"
    },
    {
     "data": {
      "text/plain": [
       "'target_labels from 21844597 to 21857494'"
      ]
     },
     "metadata": {},
     "output_type": "display_data"
    },
    {
     "data": {
      "text/plain": [
       "'12898 >?= 11616.300000000001 = 0.9 * union 12907 => True'"
      ]
     },
     "metadata": {},
     "output_type": "display_data"
    },
    {
     "data": {
      "text/plain": [
       "Pandas(Index=53, query_name='S1_134!NC_060948.1!37391679!37401836!-', query_length=10188, query_start=104, query_end=10186, strand='-', target_name='NC_060948.1', target_length=62460029, target_start=36128671, target_end=36138721, residue_matches=2079, alignment_block_length=10091, mapping_quality=19, tp='P', cm=157, s1=2069, s2=1459, dv=0.0174, rl=7582, experiment='t2tChrY-readst2tChrY-SVs-a0.99-d0.1-l10000', tool='minimap', read_name='S1_134', GT_ref='NC_060948.1', GT_from=37391679, GT_to=37401836, GT_strand='-', is_correct=True, start_diff=-1263008, end_diff=-1263115, read_sv='INV')"
      ]
     },
     "metadata": {},
     "output_type": "display_data"
    },
    {
     "data": {
      "text/plain": [
       "'           GT from 37391679 to 37401836'"
      ]
     },
     "metadata": {},
     "output_type": "display_data"
    },
    {
     "data": {
      "text/plain": [
       "'       target from 36128671 to 36138721'"
      ]
     },
     "metadata": {},
     "output_type": "display_data"
    },
    {
     "data": {
      "text/plain": [
       "'    GT_labels from 36128670 to 36138826'"
      ]
     },
     "metadata": {},
     "output_type": "display_data"
    },
    {
     "data": {
      "text/plain": [
       "'target_labels from 36128672 to 36138721'"
      ]
     },
     "metadata": {},
     "output_type": "display_data"
    },
    {
     "data": {
      "text/plain": [
       "'10050 >?= 9141.300000000001 = 0.9 * union 10157 => True'"
      ]
     },
     "metadata": {},
     "output_type": "display_data"
    },
    {
     "data": {
      "text/plain": [
       "Pandas(Index=57, query_name='S1_138!NC_060948.1!46668722!46677750!-', query_length=9054, query_start=233, query_end=8843, strand='-', target_name='NC_060948.1', target_length=62460029, target_start=45111318, target_end=45119900, residue_matches=1024, alignment_block_length=8615, mapping_quality=1, tp='P', cm=73, s1=1014, s2=983, dv=0.0218, rl=7425, experiment='t2tChrY-readst2tChrY-SVs-a0.99-d0.1-l10000', tool='minimap', read_name='S1_138', GT_ref='NC_060948.1', GT_from=46668722, GT_to=46677750, GT_strand='-', is_correct=True, start_diff=-1557404, end_diff=-1557850, read_sv='DUP')"
      ]
     },
     "metadata": {},
     "output_type": "display_data"
    },
    {
     "data": {
      "text/plain": [
       "'           GT from 46668722 to 46677750'"
      ]
     },
     "metadata": {},
     "output_type": "display_data"
    },
    {
     "data": {
      "text/plain": [
       "'       target from 45111318 to 45119900'"
      ]
     },
     "metadata": {},
     "output_type": "display_data"
    },
    {
     "data": {
      "text/plain": [
       "'    GT_labels from 45111108 to 45120135'"
      ]
     },
     "metadata": {},
     "output_type": "display_data"
    },
    {
     "data": {
      "text/plain": [
       "'target_labels from 45111319 to 45119900'"
      ]
     },
     "metadata": {},
     "output_type": "display_data"
    },
    {
     "data": {
      "text/plain": [
       "'8582 >?= 8125.2 = 0.9 * union 9028 => True'"
      ]
     },
     "metadata": {},
     "output_type": "display_data"
    },
    {
     "data": {
      "text/plain": [
       "Pandas(Index=58, query_name='S1_139!NC_060948.1!31706782!31715308!+', query_length=8550, query_start=76, query_end=8464, strand='+', target_name='NC_060948.1', target_length=62460029, target_start=30635241, target_end=30643605, residue_matches=1153, alignment_block_length=8395, mapping_quality=0, tp='P', cm=80, s1=1143, s2=1142, dv=0.0207, rl=6938, experiment='t2tChrY-readst2tChrY-SVs-a0.99-d0.1-l10000', tool='minimap', read_name='S1_139', GT_ref='NC_060948.1', GT_from=31706782, GT_to=31715308, GT_strand='+', is_correct=True, start_diff=-1071541, end_diff=-1071703, read_sv='DUP')"
      ]
     },
     "metadata": {},
     "output_type": "display_data"
    },
    {
     "data": {
      "text/plain": [
       "'           GT from 31706782 to 31715308'"
      ]
     },
     "metadata": {},
     "output_type": "display_data"
    },
    {
     "data": {
      "text/plain": [
       "'       target from 30635241 to 30643605'"
      ]
     },
     "metadata": {},
     "output_type": "display_data"
    },
    {
     "data": {
      "text/plain": [
       "'    GT_labels from 30635166 to 30643691'"
      ]
     },
     "metadata": {},
     "output_type": "display_data"
    },
    {
     "data": {
      "text/plain": [
       "'target_labels from 30635242 to 30643605'"
      ]
     },
     "metadata": {},
     "output_type": "display_data"
    },
    {
     "data": {
      "text/plain": [
       "'8364 >?= 7673.400000000001 = 0.9 * union 8526 => True'"
      ]
     },
     "metadata": {},
     "output_type": "display_data"
    },
    {
     "data": {
      "text/plain": [
       "Pandas(Index=61, query_name='S1_141!NC_060948.1!17533720!17545537!+', query_length=11865, query_start=14, query_end=11859, strand='+', target_name='NC_060948.1', target_length=62460029, target_start=16901520, target_end=16913317, residue_matches=10425, alignment_block_length=11860, mapping_quality=60, tp='P', cm=977, s1=10416, s2=64, dv=0.0003, rl=50, experiment='t2tChrY-readst2tChrY-SVs-a0.99-d0.1-l10000', tool='minimap', read_name='S1_141', GT_ref='NC_060948.1', GT_from=17533720, GT_to=17545537, GT_strand='+', is_correct=True, start_diff=-632200, end_diff=-632220, read_sv='DUP')"
      ]
     },
     "metadata": {},
     "output_type": "display_data"
    },
    {
     "data": {
      "text/plain": [
       "'           GT from 17533720 to 17545537'"
      ]
     },
     "metadata": {},
     "output_type": "display_data"
    },
    {
     "data": {
      "text/plain": [
       "'       target from 16901520 to 16913317'"
      ]
     },
     "metadata": {},
     "output_type": "display_data"
    },
    {
     "data": {
      "text/plain": [
       "'    GT_labels from 16901507 to 16913323'"
      ]
     },
     "metadata": {},
     "output_type": "display_data"
    },
    {
     "data": {
      "text/plain": [
       "'target_labels from 16901521 to 16913317'"
      ]
     },
     "metadata": {},
     "output_type": "display_data"
    },
    {
     "data": {
      "text/plain": [
       "'11797 >?= 10635.300000000001 = 0.9 * union 11817 => True'"
      ]
     },
     "metadata": {},
     "output_type": "display_data"
    },
    {
     "data": {
      "text/plain": [
       "Pandas(Index=67, query_name='S1_146!NC_060948.1!31125207!31133984!-', query_length=8795, query_start=20, query_end=8587, strand='-', target_name='NC_060948.1', target_length=62460029, target_start=30065946, target_end=30074497, residue_matches=1040, alignment_block_length=8579, mapping_quality=2, tp='P', cm=66, s1=1030, s2=954, dv=0.0288, rl=7130, experiment='t2tChrY-readst2tChrY-SVs-a0.99-d0.1-l10000', tool='minimap', read_name='S1_146', GT_ref='NC_060948.1', GT_from=31125207, GT_to=31133984, GT_strand='-', is_correct=True, start_diff=-1059261, end_diff=-1059487, read_sv='INS')"
      ]
     },
     "metadata": {},
     "output_type": "display_data"
    },
    {
     "data": {
      "text/plain": [
       "'           GT from 31125207 to 31133984'"
      ]
     },
     "metadata": {},
     "output_type": "display_data"
    },
    {
     "data": {
      "text/plain": [
       "'       target from 30065946 to 30074497'"
      ]
     },
     "metadata": {},
     "output_type": "display_data"
    },
    {
     "data": {
      "text/plain": [
       "'    GT_labels from 30065742 to 30074518'"
      ]
     },
     "metadata": {},
     "output_type": "display_data"
    },
    {
     "data": {
      "text/plain": [
       "'target_labels from 30065947 to 30074497'"
      ]
     },
     "metadata": {},
     "output_type": "display_data"
    },
    {
     "data": {
      "text/plain": [
       "'8551 >?= 7899.3 = 0.9 * union 8777 => True'"
      ]
     },
     "metadata": {},
     "output_type": "display_data"
    },
    {
     "data": {
      "text/plain": [
       "Pandas(Index=76, query_name='S1_153!NC_060948.1!9634968!9644924!+', query_length=9988, query_start=8, query_end=9970, strand='+', target_name='NC_060948.1', target_length=62460029, target_start=9287775, target_end=9297705, residue_matches=8050, alignment_block_length=9984, mapping_quality=0, tp='P', cm=756, s1=8038, s2=8038, dv=0.005, rl=0, experiment='t2tChrY-readst2tChrY-SVs-a0.99-d0.1-l10000', tool='minimap', read_name='S1_153', GT_ref='NC_060948.1', GT_from=9634968, GT_to=9644924, GT_strand='+', is_correct=True, start_diff=-347193, end_diff=-347219, read_sv='DEL')"
      ]
     },
     "metadata": {},
     "output_type": "display_data"
    },
    {
     "data": {
      "text/plain": [
       "'           GT from 9634968 to 9644924'"
      ]
     },
     "metadata": {},
     "output_type": "display_data"
    },
    {
     "data": {
      "text/plain": [
       "'       target from 9287775 to 9297705'"
      ]
     },
     "metadata": {},
     "output_type": "display_data"
    },
    {
     "data": {
      "text/plain": [
       "'    GT_labels from 9287768 to 9297723'"
      ]
     },
     "metadata": {},
     "output_type": "display_data"
    },
    {
     "data": {
      "text/plain": [
       "'target_labels from 9287776 to 9297705'"
      ]
     },
     "metadata": {},
     "output_type": "display_data"
    },
    {
     "data": {
      "text/plain": [
       "'9930 >?= 8960.4 = 0.9 * union 9956 => True'"
      ]
     },
     "metadata": {},
     "output_type": "display_data"
    },
    {
     "data": {
      "text/plain": [
       "Pandas(Index=87, query_name='S1_159!NC_060948.1!41116948!41129671!+', query_length=12769, query_start=172, query_end=12652, strand='+', target_name='NC_060948.1', target_length=62460029, target_start=39753264, target_end=39765700, residue_matches=1511, alignment_block_length=12496, mapping_quality=16, tp='P', cm=108, s1=1492, s2=841, dv=0.0239, rl=9960, experiment='t2tChrY-readst2tChrY-SVs-a0.99-d0.1-l10000', tool='minimap', read_name='S1_159', GT_ref='NC_060948.1', GT_from=41116948, GT_to=41129671, GT_strand='+', is_correct=True, start_diff=-1363684, end_diff=-1363971, read_sv='multi')"
      ]
     },
     "metadata": {},
     "output_type": "display_data"
    },
    {
     "data": {
      "text/plain": [
       "'           GT from 41116948 to 41129671'"
      ]
     },
     "metadata": {},
     "output_type": "display_data"
    },
    {
     "data": {
      "text/plain": [
       "'       target from 39753264 to 39765700'"
      ]
     },
     "metadata": {},
     "output_type": "display_data"
    },
    {
     "data": {
      "text/plain": [
       "'    GT_labels from 39753093 to 39765815'"
      ]
     },
     "metadata": {},
     "output_type": "display_data"
    },
    {
     "data": {
      "text/plain": [
       "'target_labels from 39753265 to 39765700'"
      ]
     },
     "metadata": {},
     "output_type": "display_data"
    },
    {
     "data": {
      "text/plain": [
       "'12436 >?= 11450.7 = 0.9 * union 12723 => True'"
      ]
     },
     "metadata": {},
     "output_type": "display_data"
    },
    {
     "data": {
      "text/plain": [
       "Pandas(Index=88, query_name='S1_16!NC_060948.1!7324425!7333760!-', query_length=9353, query_start=0, query_end=9342, strand='-', target_name='NC_060948.1', target_length=62460029, target_start=7065995, target_end=7073911, residue_matches=6751, alignment_block_length=9515, mapping_quality=60, tp='P', cm=615, s1=6468, s2=250, dv=0.0097, rl=57, experiment='t2tChrY-readst2tChrY-SVs-a0.99-d0.1-l10000', tool='minimap', read_name='S1_16', GT_ref='NC_060948.1', GT_from=7324425, GT_to=7333760, GT_strand='-', is_correct=False, start_diff=-258430, end_diff=-259849, read_sv='INV')"
      ]
     },
     "metadata": {},
     "output_type": "display_data"
    },
    {
     "data": {
      "text/plain": [
       "'           GT from 7324425 to 7333760'"
      ]
     },
     "metadata": {},
     "output_type": "display_data"
    },
    {
     "data": {
      "text/plain": [
       "'       target from 7065995 to 7073911'"
      ]
     },
     "metadata": {},
     "output_type": "display_data"
    },
    {
     "data": {
      "text/plain": [
       "'    GT_labels from 7065985 to 7073911'"
      ]
     },
     "metadata": {},
     "output_type": "display_data"
    },
    {
     "data": {
      "text/plain": [
       "'target_labels from 7065996 to 7073911'"
      ]
     },
     "metadata": {},
     "output_type": "display_data"
    },
    {
     "data": {
      "text/plain": [
       "'7760 >?= 8541.9 = 0.9 * union 9491 => False'"
      ]
     },
     "metadata": {},
     "output_type": "display_data"
    },
    {
     "data": {
      "text/plain": [
       "Pandas(Index=89, query_name='S1_160!NC_060948.1!39206826!39220506!-', query_length=13707, query_start=100, query_end=13525, strand='-', target_name='NC_060948.1', target_length=62460029, target_start=37903857, target_end=37917738, residue_matches=1453, alignment_block_length=13919, mapping_quality=6, tp='P', cm=105, s1=1361, s2=1079, dv=0.0288, rl=11225, experiment='t2tChrY-readst2tChrY-SVs-a0.99-d0.1-l10000', tool='minimap', read_name='S1_160', GT_ref='NC_060948.1', GT_from=39206826, GT_to=39220506, GT_strand='-', is_correct=True, start_diff=-1302969, end_diff=-1302768, read_sv='DUP')"
      ]
     },
     "metadata": {},
     "output_type": "display_data"
    },
    {
     "data": {
      "text/plain": [
       "'           GT from 39206826 to 39220506'"
      ]
     },
     "metadata": {},
     "output_type": "display_data"
    },
    {
     "data": {
      "text/plain": [
       "'       target from 37903857 to 37917738'"
      ]
     },
     "metadata": {},
     "output_type": "display_data"
    },
    {
     "data": {
      "text/plain": [
       "'    GT_labels from 37903677 to 37917837'"
      ]
     },
     "metadata": {},
     "output_type": "display_data"
    },
    {
     "data": {
      "text/plain": [
       "'target_labels from 37903858 to 37917738'"
      ]
     },
     "metadata": {},
     "output_type": "display_data"
    },
    {
     "data": {
      "text/plain": [
       "'13400 >?= 12744.9 = 0.9 * union 14161 => True'"
      ]
     },
     "metadata": {},
     "output_type": "display_data"
    },
    {
     "data": {
      "text/plain": [
       "Pandas(Index=91, query_name='S1_162!NC_060948.1!47229857!47245013!-', query_length=15199, query_start=320, query_end=14625, strand='-', target_name='NC_060948.1', target_length=62460029, target_start=45656790, target_end=45670488, residue_matches=1464, alignment_block_length=14315, mapping_quality=10, tp='P', cm=96, s1=1360, s2=877, dv=0.0331, rl=12559, experiment='t2tChrY-readst2tChrY-SVs-a0.99-d0.1-l10000', tool='minimap', read_name='S1_162', GT_ref='NC_060948.1', GT_from=47229857, GT_to=47245013, GT_strand='-', is_correct=True, start_diff=-1573067, end_diff=-1574525, read_sv='DUP')"
      ]
     },
     "metadata": {},
     "output_type": "display_data"
    },
    {
     "data": {
      "text/plain": [
       "'           GT from 47229857 to 47245013'"
      ]
     },
     "metadata": {},
     "output_type": "display_data"
    },
    {
     "data": {
      "text/plain": [
       "'       target from 45656790 to 45670488'"
      ]
     },
     "metadata": {},
     "output_type": "display_data"
    },
    {
     "data": {
      "text/plain": [
       "'    GT_labels from 45656224 to 45670806'"
      ]
     },
     "metadata": {},
     "output_type": "display_data"
    },
    {
     "data": {
      "text/plain": [
       "'target_labels from 45656791 to 45670488'"
      ]
     },
     "metadata": {},
     "output_type": "display_data"
    },
    {
     "data": {
      "text/plain": [
       "'13698 >?= 13640.4 = 0.9 * union 15156 => True'"
      ]
     },
     "metadata": {},
     "output_type": "display_data"
    },
    {
     "data": {
      "text/plain": [
       "Pandas(Index=92, query_name='S1_163!NC_060948.1!49000852!49013016!+', query_length=12193, query_start=306, query_end=11041, strand='+', target_name='NC_060948.1', target_length=62460029, target_start=47357328, target_end=47368033, residue_matches=1115, alignment_block_length=10742, mapping_quality=1, tp='P', cm=71, s1=1104, s2=1066, dv=0.0293, rl=10188, experiment='t2tChrY-readst2tChrY-SVs-a0.99-d0.1-l10000', tool='minimap', read_name='S1_163', GT_ref='NC_060948.1', GT_from=49000852, GT_to=49013016, GT_strand='+', is_correct=False, start_diff=-1643524, end_diff=-1644983, read_sv='INV')"
      ]
     },
     "metadata": {},
     "output_type": "display_data"
    },
    {
     "data": {
      "text/plain": [
       "'           GT from 49000852 to 49013016'"
      ]
     },
     "metadata": {},
     "output_type": "display_data"
    },
    {
     "data": {
      "text/plain": [
       "'       target from 47357328 to 47368033'"
      ]
     },
     "metadata": {},
     "output_type": "display_data"
    },
    {
     "data": {
      "text/plain": [
       "'    GT_labels from 47357022 to 47369185'"
      ]
     },
     "metadata": {},
     "output_type": "display_data"
    },
    {
     "data": {
      "text/plain": [
       "'target_labels from 47357329 to 47368033'"
      ]
     },
     "metadata": {},
     "output_type": "display_data"
    },
    {
     "data": {
      "text/plain": [
       "'10705 >?= 10947.6 = 0.9 * union 12164 => False'"
      ]
     },
     "metadata": {},
     "output_type": "display_data"
    },
    {
     "data": {
      "text/plain": [
       "Pandas(Index=94, query_name='S1_164!NC_060948.1!45895536!45904822!-', query_length=9323, query_start=168, query_end=9165, strand='-', target_name='NC_060948.1', target_length=62460029, target_start=44352218, target_end=44361180, residue_matches=1656, alignment_block_length=9005, mapping_quality=19, tp='P', cm=121, s1=1643, s2=1053, dv=0.0171, rl=7117, experiment='t2tChrY-readst2tChrY-SVs-a0.99-d0.1-l10000', tool='minimap', read_name='S1_164', GT_ref='NC_060948.1', GT_from=45895536, GT_to=45904822, GT_strand='-', is_correct=True, start_diff=-1543318, end_diff=-1543642, read_sv='multi')"
      ]
     },
     "metadata": {},
     "output_type": "display_data"
    },
    {
     "data": {
      "text/plain": [
       "'           GT from 45895536 to 45904822'"
      ]
     },
     "metadata": {},
     "output_type": "display_data"
    },
    {
     "data": {
      "text/plain": [
       "'       target from 44352218 to 44361180'"
      ]
     },
     "metadata": {},
     "output_type": "display_data"
    },
    {
     "data": {
      "text/plain": [
       "'    GT_labels from 44352064 to 44361349'"
      ]
     },
     "metadata": {},
     "output_type": "display_data"
    },
    {
     "data": {
      "text/plain": [
       "'target_labels from 44352219 to 44361180'"
      ]
     },
     "metadata": {},
     "output_type": "display_data"
    },
    {
     "data": {
      "text/plain": [
       "'8962 >?= 8357.4 = 0.9 * union 9286 => True'"
      ]
     },
     "metadata": {},
     "output_type": "display_data"
    },
    {
     "data": {
      "text/plain": [
       "Pandas(Index=101, query_name='S1_17!NC_060948.1!30632247!30644549!+', query_length=12325, query_start=117, query_end=12013, strand='+', target_name='NC_060948.1', target_length=62460029, target_start=29591862, target_end=29603855, residue_matches=1298, alignment_block_length=12037, mapping_quality=0, tp='P', cm=98, s1=1261, s2=1255, dv=0.0398, rl=9555, experiment='t2tChrY-readst2tChrY-SVs-a0.99-d0.1-l10000', tool='minimap', read_name='S1_17', GT_ref='NC_060948.1', GT_from=30632247, GT_to=30644549, GT_strand='+', is_correct=False, start_diff=-1040385, end_diff=-1040694, read_sv='INS')"
      ]
     },
     "metadata": {},
     "output_type": "display_data"
    },
    {
     "data": {
      "text/plain": [
       "'           GT from 30632247 to 30644549'"
      ]
     },
     "metadata": {},
     "output_type": "display_data"
    },
    {
     "data": {
      "text/plain": [
       "'       target from 29591862 to 29603855'"
      ]
     },
     "metadata": {},
     "output_type": "display_data"
    },
    {
     "data": {
      "text/plain": [
       "'    GT_labels from 29598832 to 29607729'"
      ]
     },
     "metadata": {},
     "output_type": "display_data"
    },
    {
     "data": {
      "text/plain": [
       "'target_labels from 29591863 to 29603855'"
      ]
     },
     "metadata": {},
     "output_type": "display_data"
    },
    {
     "data": {
      "text/plain": [
       "'5024 >?= 17343.9 = 0.9 * union 19271 => False'"
      ]
     },
     "metadata": {},
     "output_type": "display_data"
    },
    {
     "data": {
      "text/plain": [
       "Pandas(Index=102, query_name='S1_170!NC_060948.1!36422067!36434106!-', query_length=12097, query_start=229, query_end=11987, strand='-', target_name='NC_060948.1', target_length=62460029, target_start=35193842, target_end=35205540, residue_matches=1526, alignment_block_length=11764, mapping_quality=9, tp='P', cm=105, s1=1504, s2=1144, dv=0.0238, rl=9525, experiment='t2tChrY-readst2tChrY-SVs-a0.99-d0.1-l10000', tool='minimap', read_name='S1_170', GT_ref='NC_060948.1', GT_from=36422067, GT_to=36434106, GT_strand='-', is_correct=True, start_diff=-1228225, end_diff=-1228566, read_sv='DUP')"
      ]
     },
     "metadata": {},
     "output_type": "display_data"
    },
    {
     "data": {
      "text/plain": [
       "'           GT from 36422067 to 36434106'"
      ]
     },
     "metadata": {},
     "output_type": "display_data"
    },
    {
     "data": {
      "text/plain": [
       "'       target from 35193842 to 35205540'"
      ]
     },
     "metadata": {},
     "output_type": "display_data"
    },
    {
     "data": {
      "text/plain": [
       "'    GT_labels from 35193733 to 35205771'"
      ]
     },
     "metadata": {},
     "output_type": "display_data"
    },
    {
     "data": {
      "text/plain": [
       "'target_labels from 35193843 to 35205540'"
      ]
     },
     "metadata": {},
     "output_type": "display_data"
    },
    {
     "data": {
      "text/plain": [
       "'11698 >?= 10835.1 = 0.9 * union 12039 => True'"
      ]
     },
     "metadata": {},
     "output_type": "display_data"
    },
    {
     "data": {
      "text/plain": [
       "Pandas(Index=105, query_name='S1_173!NC_060948.1!53970780!53984592!+', query_length=13857, query_start=32, query_end=8229, strand='+', target_name='NC_060948.1', target_length=62460029, target_start=52179876, target_end=52188052, residue_matches=916, alignment_block_length=8203, mapping_quality=12, tp='P', cm=69, s1=909, s2=478, dv=0.0283, rl=11674, experiment='t2tChrY-readst2tChrY-SVs-a0.99-d0.1-l10000', tool='minimap', read_name='S1_173', GT_ref='NC_060948.1', GT_from=53970780, GT_to=53984592, GT_strand='+', is_correct=False, start_diff=-1790904, end_diff=-1796540, read_sv='multi')"
      ]
     },
     "metadata": {},
     "output_type": "display_data"
    },
    {
     "data": {
      "text/plain": [
       "'           GT from 53970780 to 53984592'"
      ]
     },
     "metadata": {},
     "output_type": "display_data"
    },
    {
     "data": {
      "text/plain": [
       "'       target from 52179876 to 52188052'"
      ]
     },
     "metadata": {},
     "output_type": "display_data"
    },
    {
     "data": {
      "text/plain": [
       "'    GT_labels from 52179845 to 52191694'"
      ]
     },
     "metadata": {},
     "output_type": "display_data"
    },
    {
     "data": {
      "text/plain": [
       "'target_labels from 52179877 to 52188052'"
      ]
     },
     "metadata": {},
     "output_type": "display_data"
    },
    {
     "data": {
      "text/plain": [
       "'8176 >?= 12430.800000000001 = 0.9 * union 13812 => False'"
      ]
     },
     "metadata": {},
     "output_type": "display_data"
    },
    {
     "data": {
      "text/plain": [
       "Pandas(Index=106, query_name='S1_173!NC_060948.1!53970780!53984592!+', query_length=13857, query_start=11193, query_end=13586, strand='+', target_name='NC_060948.1', target_length=62460029, target_start=52189038, target_end=52191423, residue_matches=216, alignment_block_length=2395, mapping_quality=3, tp='P', cm=15, s1=213, s2=172, dv=0.0375, rl=11674, experiment='t2tChrY-readst2tChrY-SVs-a0.99-d0.1-l10000', tool='minimap', read_name='S1_173', GT_ref='NC_060948.1', GT_from=53970780, GT_to=53984592, GT_strand='+', is_correct=False, start_diff=-1781742, end_diff=-1793169, read_sv='multi')"
      ]
     },
     "metadata": {},
     "output_type": "display_data"
    },
    {
     "data": {
      "text/plain": [
       "'           GT from 53970780 to 53984592'"
      ]
     },
     "metadata": {},
     "output_type": "display_data"
    },
    {
     "data": {
      "text/plain": [
       "'       target from 52189038 to 52191423'"
      ]
     },
     "metadata": {},
     "output_type": "display_data"
    },
    {
     "data": {
      "text/plain": [
       "'    GT_labels from 52179845 to 52191694'"
      ]
     },
     "metadata": {},
     "output_type": "display_data"
    },
    {
     "data": {
      "text/plain": [
       "'target_labels from 52189039 to 52191423'"
      ]
     },
     "metadata": {},
     "output_type": "display_data"
    },
    {
     "data": {
      "text/plain": [
       "'2385 >?= 12430.800000000001 = 0.9 * union 13812 => False'"
      ]
     },
     "metadata": {},
     "output_type": "display_data"
    },
    {
     "data": {
      "text/plain": [
       "Pandas(Index=107, query_name='S1_173!NC_060948.1!53970780!53984592!+', query_length=13857, query_start=9197, query_end=9879, strand='+', target_name='NC_060948.1', target_length=62460029, target_start=52872569, target_end=52873247, residue_matches=76, alignment_block_length=682, mapping_quality=0, tp='P', cm=4, s1=75, s2=75, dv=0.0418, rl=11674, experiment='t2tChrY-readst2tChrY-SVs-a0.99-d0.1-l10000', tool='minimap', read_name='S1_173', GT_ref='NC_060948.1', GT_from=53970780, GT_to=53984592, GT_strand='+', is_correct=False, start_diff=-1098211, end_diff=-1111345, read_sv='multi')"
      ]
     },
     "metadata": {},
     "output_type": "display_data"
    },
    {
     "data": {
      "text/plain": [
       "'           GT from 53970780 to 53984592'"
      ]
     },
     "metadata": {},
     "output_type": "display_data"
    },
    {
     "data": {
      "text/plain": [
       "'       target from 52872569 to 52873247'"
      ]
     },
     "metadata": {},
     "output_type": "display_data"
    },
    {
     "data": {
      "text/plain": [
       "'    GT_labels from 52179845 to 52191694'"
      ]
     },
     "metadata": {},
     "output_type": "display_data"
    },
    {
     "data": {
      "text/plain": [
       "'target_labels from 52872570 to 52873247'"
      ]
     },
     "metadata": {},
     "output_type": "display_data"
    },
    {
     "data": {
      "text/plain": [
       "'0 >?= 13041.0 = 0.9 * union 14490 => False'"
      ]
     },
     "metadata": {},
     "output_type": "display_data"
    },
    {
     "data": {
      "text/plain": [
       "Pandas(Index=123, query_name='S1_181!NC_060948.1!3193427!3204446!+', query_length=11047, query_start=11, query_end=11034, strand='+', target_name='NC_060948.1', target_length=62460029, target_start=3073666, target_end=3084661, residue_matches=9583, alignment_block_length=11047, mapping_quality=60, tp='P', cm=916, s1=9572, s2=92, dv=0.0002, rl=66, experiment='t2tChrY-readst2tChrY-SVs-a0.99-d0.1-l10000', tool='minimap', read_name='S1_181', GT_ref='NC_060948.1', GT_from=3193427, GT_to=3204446, GT_strand='+', is_correct=True, start_diff=-119761, end_diff=-119785, read_sv='INV')"
      ]
     },
     "metadata": {},
     "output_type": "display_data"
    },
    {
     "data": {
      "text/plain": [
       "'           GT from 3193427 to 3204446'"
      ]
     },
     "metadata": {},
     "output_type": "display_data"
    },
    {
     "data": {
      "text/plain": [
       "'       target from 3073666 to 3084661'"
      ]
     },
     "metadata": {},
     "output_type": "display_data"
    },
    {
     "data": {
      "text/plain": [
       "'    GT_labels from 3073656 to 3084674'"
      ]
     },
     "metadata": {},
     "output_type": "display_data"
    },
    {
     "data": {
      "text/plain": [
       "'target_labels from 3073667 to 3084661'"
      ]
     },
     "metadata": {},
     "output_type": "display_data"
    },
    {
     "data": {
      "text/plain": [
       "'10995 >?= 9917.1 = 0.9 * union 11019 => True'"
      ]
     },
     "metadata": {},
     "output_type": "display_data"
    },
    {
     "data": {
      "text/plain": [
       "Pandas(Index=125, query_name='S1_183!NC_060948.1!22505738!22517263!+', query_length=11544, query_start=2, query_end=11523, strand='+', target_name='NC_060948.1', target_length=62460029, target_start=21715412, target_end=21726913, residue_matches=10143, alignment_block_length=11548, mapping_quality=60, tp='P', cm=950, s1=10135, s2=473, dv=0.0008, rl=35, experiment='t2tChrY-readst2tChrY-SVs-a0.99-d0.1-l10000', tool='minimap', read_name='S1_183', GT_ref='NC_060948.1', GT_from=22505738, GT_to=22517263, GT_strand='+', is_correct=True, start_diff=-790326, end_diff=-790350, read_sv='INS')"
      ]
     },
     "metadata": {},
     "output_type": "display_data"
    },
    {
     "data": {
      "text/plain": [
       "'           GT from 22505738 to 22517263'"
      ]
     },
     "metadata": {},
     "output_type": "display_data"
    },
    {
     "data": {
      "text/plain": [
       "'       target from 21715412 to 21726913'"
      ]
     },
     "metadata": {},
     "output_type": "display_data"
    },
    {
     "data": {
      "text/plain": [
       "'    GT_labels from 21715411 to 21726935'"
      ]
     },
     "metadata": {},
     "output_type": "display_data"
    },
    {
     "data": {
      "text/plain": [
       "'target_labels from 21715413 to 21726913'"
      ]
     },
     "metadata": {},
     "output_type": "display_data"
    },
    {
     "data": {
      "text/plain": [
       "'11501 >?= 10372.5 = 0.9 * union 11525 => True'"
      ]
     },
     "metadata": {},
     "output_type": "display_data"
    },
    {
     "data": {
      "text/plain": [
       "Pandas(Index=127, query_name='S1_185!NC_060948.1!21619640!21631738!+', query_length=12140, query_start=42, query_end=12134, strand='+', target_name='NC_060948.1', target_length=62460029, target_start=20859440, target_end=20871492, residue_matches=10415, alignment_block_length=12116, mapping_quality=60, tp='P', cm=978, s1=10407, s2=125, dv=0.0002, rl=59, experiment='t2tChrY-readst2tChrY-SVs-a0.99-d0.1-l10000', tool='minimap', read_name='S1_185', GT_ref='NC_060948.1', GT_from=21619640, GT_to=21631738, GT_strand='+', is_correct=True, start_diff=-760200, end_diff=-760246, read_sv='INV')"
      ]
     },
     "metadata": {},
     "output_type": "display_data"
    },
    {
     "data": {
      "text/plain": [
       "'           GT from 21619640 to 21631738'"
      ]
     },
     "metadata": {},
     "output_type": "display_data"
    },
    {
     "data": {
      "text/plain": [
       "'       target from 20859440 to 20871492'"
      ]
     },
     "metadata": {},
     "output_type": "display_data"
    },
    {
     "data": {
      "text/plain": [
       "'    GT_labels from 20859400 to 20871497'"
      ]
     },
     "metadata": {},
     "output_type": "display_data"
    },
    {
     "data": {
      "text/plain": [
       "'target_labels from 20859441 to 20871492'"
      ]
     },
     "metadata": {},
     "output_type": "display_data"
    },
    {
     "data": {
      "text/plain": [
       "'12052 >?= 10888.2 = 0.9 * union 12098 => True'"
      ]
     },
     "metadata": {},
     "output_type": "display_data"
    },
    {
     "data": {
      "text/plain": [
       "Pandas(Index=128, query_name='S1_186!NC_060948.1!48709784!48724783!-', query_length=15056, query_start=240, query_end=10881, strand='-', target_name='NC_060948.1', target_length=62460029, target_start=41855835, target_end=41867339, residue_matches=1326, alignment_block_length=11536, mapping_quality=4, tp='P', cm=100, s1=1178, s2=1015, dv=0.0366, rl=11760, experiment='t2tChrY-readst2tChrY-SVs-a0.99-d0.1-l10000', tool='minimap', read_name='S1_186', GT_ref='NC_060948.1', GT_from=48709784, GT_to=48724783, GT_strand='-', is_correct=False, start_diff=-6853949, end_diff=-6857444, read_sv='INV')"
      ]
     },
     "metadata": {},
     "output_type": "display_data"
    },
    {
     "data": {
      "text/plain": [
       "'           GT from 48709784 to 48724783'"
      ]
     },
     "metadata": {},
     "output_type": "display_data"
    },
    {
     "data": {
      "text/plain": [
       "'       target from 41855835 to 41867339'"
      ]
     },
     "metadata": {},
     "output_type": "display_data"
    },
    {
     "data": {
      "text/plain": [
       "'    GT_labels from 47079058 to 47088644'"
      ]
     },
     "metadata": {},
     "output_type": "display_data"
    },
    {
     "data": {
      "text/plain": [
       "'target_labels from 41855836 to 41867339'"
      ]
     },
     "metadata": {},
     "output_type": "display_data"
    },
    {
     "data": {
      "text/plain": [
       "'0 >?= 23852.7 = 0.9 * union 26503 => False'"
      ]
     },
     "metadata": {},
     "output_type": "display_data"
    },
    {
     "data": {
      "text/plain": [
       "Pandas(Index=129, query_name='S1_186!NC_060948.1!48709784!48724783!-', query_length=15056, query_start=13133, query_end=14619, strand='-', target_name='NC_060948.1', target_length=62460029, target_start=47079490, target_end=47080969, residue_matches=256, alignment_block_length=1489, mapping_quality=0, tp='P', cm=21, s1=252, s2=252, dv=0.0219, rl=11760, experiment='t2tChrY-readst2tChrY-SVs-a0.99-d0.1-l10000', tool='minimap', read_name='S1_186', GT_ref='NC_060948.1', GT_from=48709784, GT_to=48724783, GT_strand='-', is_correct=False, start_diff=-1630294, end_diff=-1643814, read_sv='INV')"
      ]
     },
     "metadata": {},
     "output_type": "display_data"
    },
    {
     "data": {
      "text/plain": [
       "'           GT from 48709784 to 48724783'"
      ]
     },
     "metadata": {},
     "output_type": "display_data"
    },
    {
     "data": {
      "text/plain": [
       "'       target from 47079490 to 47080969'"
      ]
     },
     "metadata": {},
     "output_type": "display_data"
    },
    {
     "data": {
      "text/plain": [
       "'    GT_labels from 47079058 to 47088644'"
      ]
     },
     "metadata": {},
     "output_type": "display_data"
    },
    {
     "data": {
      "text/plain": [
       "'target_labels from 47079491 to 47080969'"
      ]
     },
     "metadata": {},
     "output_type": "display_data"
    },
    {
     "data": {
      "text/plain": [
       "'1479 >?= 13499.1 = 0.9 * union 14999 => False'"
      ]
     },
     "metadata": {},
     "output_type": "display_data"
    },
    {
     "data": {
      "text/plain": [
       "Pandas(Index=130, query_name='S1_186!NC_060948.1!48709784!48724783!-', query_length=15056, query_start=11068, query_end=11547, strand='-', target_name='NC_060948.1', target_length=62460029, target_start=41852305, target_end=41852786, residue_matches=101, alignment_block_length=481, mapping_quality=0, tp='P', cm=8, s1=101, s2=101, dv=0.0252, rl=11760, experiment='t2tChrY-readst2tChrY-SVs-a0.99-d0.1-l10000', tool='minimap', read_name='S1_186', GT_ref='NC_060948.1', GT_from=48709784, GT_to=48724783, GT_strand='-', is_correct=False, start_diff=-6857479, end_diff=-6871997, read_sv='INV')"
      ]
     },
     "metadata": {},
     "output_type": "display_data"
    },
    {
     "data": {
      "text/plain": [
       "'           GT from 48709784 to 48724783'"
      ]
     },
     "metadata": {},
     "output_type": "display_data"
    },
    {
     "data": {
      "text/plain": [
       "'       target from 41852305 to 41852786'"
      ]
     },
     "metadata": {},
     "output_type": "display_data"
    },
    {
     "data": {
      "text/plain": [
       "'    GT_labels from 47079058 to 47088644'"
      ]
     },
     "metadata": {},
     "output_type": "display_data"
    },
    {
     "data": {
      "text/plain": [
       "'target_labels from 41852306 to 41852786'"
      ]
     },
     "metadata": {},
     "output_type": "display_data"
    },
    {
     "data": {
      "text/plain": [
       "'0 >?= 13932.0 = 0.9 * union 15480 => False'"
      ]
     },
     "metadata": {},
     "output_type": "display_data"
    },
    {
     "data": {
      "text/plain": [
       "Pandas(Index=131, query_name='S1_186!NC_060948.1!48709784!48724783!-', query_length=15056, query_start=11754, query_end=12256, strand='-', target_name='NC_060948.1', target_length=62460029, target_start=41855835, target_end=41856334, residue_matches=96, alignment_block_length=502, mapping_quality=0, tp='P', cm=6, s1=95, s2=95, dv=0.0265, rl=11760, experiment='t2tChrY-readst2tChrY-SVs-a0.99-d0.1-l10000', tool='minimap', read_name='S1_186', GT_ref='NC_060948.1', GT_from=48709784, GT_to=48724783, GT_strand='-', is_correct=False, start_diff=-6853949, end_diff=-6868449, read_sv='INV')"
      ]
     },
     "metadata": {},
     "output_type": "display_data"
    },
    {
     "data": {
      "text/plain": [
       "'           GT from 48709784 to 48724783'"
      ]
     },
     "metadata": {},
     "output_type": "display_data"
    },
    {
     "data": {
      "text/plain": [
       "'       target from 41855835 to 41856334'"
      ]
     },
     "metadata": {},
     "output_type": "display_data"
    },
    {
     "data": {
      "text/plain": [
       "'    GT_labels from 47079058 to 47088644'"
      ]
     },
     "metadata": {},
     "output_type": "display_data"
    },
    {
     "data": {
      "text/plain": [
       "'target_labels from 41855836 to 41856334'"
      ]
     },
     "metadata": {},
     "output_type": "display_data"
    },
    {
     "data": {
      "text/plain": [
       "'0 >?= 13948.2 = 0.9 * union 15498 => False'"
      ]
     },
     "metadata": {},
     "output_type": "display_data"
    },
    {
     "data": {
      "text/plain": [
       "Pandas(Index=132, query_name='S1_186!NC_060948.1!48709784!48724783!-', query_length=15056, query_start=12680, query_end=12944, strand='-', target_name='NC_060948.1', target_length=62460029, target_start=47440265, target_end=47440529, residue_matches=72, alignment_block_length=264, mapping_quality=3, tp='P', cm=5, s1=72, s2=58, dv=0.0176, rl=11760, experiment='t2tChrY-readst2tChrY-SVs-a0.99-d0.1-l10000', tool='minimap', read_name='S1_186', GT_ref='NC_060948.1', GT_from=48709784, GT_to=48724783, GT_strand='-', is_correct=False, start_diff=-1269519, end_diff=-1284254, read_sv='INV')"
      ]
     },
     "metadata": {},
     "output_type": "display_data"
    },
    {
     "data": {
      "text/plain": [
       "'           GT from 48709784 to 48724783'"
      ]
     },
     "metadata": {},
     "output_type": "display_data"
    },
    {
     "data": {
      "text/plain": [
       "'       target from 47440265 to 47440529'"
      ]
     },
     "metadata": {},
     "output_type": "display_data"
    },
    {
     "data": {
      "text/plain": [
       "'    GT_labels from 47079058 to 47088644'"
      ]
     },
     "metadata": {},
     "output_type": "display_data"
    },
    {
     "data": {
      "text/plain": [
       "'target_labels from 47440266 to 47440529'"
      ]
     },
     "metadata": {},
     "output_type": "display_data"
    },
    {
     "data": {
      "text/plain": [
       "'0 >?= 13736.7 = 0.9 * union 15263 => False'"
      ]
     },
     "metadata": {},
     "output_type": "display_data"
    },
    {
     "data": {
      "text/plain": [
       "Pandas(Index=140, query_name='S1_192!NC_060948.1!2677204!2682878!-', query_length=5698, query_start=15, query_end=5682, strand='-', target_name='NC_060948.1', target_length=62460029, target_start=2587372, target_end=2593016, residue_matches=4857, alignment_block_length=5675, mapping_quality=60, tp='P', cm=448, s1=4853, s2=0, dv=0.0004, rl=46, experiment='t2tChrY-readst2tChrY-SVs-a0.99-d0.1-l10000', tool='minimap', read_name='S1_192', GT_ref='NC_060948.1', GT_from=2677204, GT_to=2682878, GT_strand='-', is_correct=True, start_diff=-89832, end_diff=-89862, read_sv='INS')"
      ]
     },
     "metadata": {},
     "output_type": "display_data"
    },
    {
     "data": {
      "text/plain": [
       "'           GT from 2677204 to 2682878'"
      ]
     },
     "metadata": {},
     "output_type": "display_data"
    },
    {
     "data": {
      "text/plain": [
       "'       target from 2587372 to 2593016'"
      ]
     },
     "metadata": {},
     "output_type": "display_data"
    },
    {
     "data": {
      "text/plain": [
       "'    GT_labels from 2587358 to 2593031'"
      ]
     },
     "metadata": {},
     "output_type": "display_data"
    },
    {
     "data": {
      "text/plain": [
       "'target_labels from 2587373 to 2593016'"
      ]
     },
     "metadata": {},
     "output_type": "display_data"
    },
    {
     "data": {
      "text/plain": [
       "'5644 >?= 5106.6 = 0.9 * union 5674 => True'"
      ]
     },
     "metadata": {},
     "output_type": "display_data"
    },
    {
     "data": {
      "text/plain": [
       "Pandas(Index=143, query_name='S1_195!NC_060948.1!39343250!39353540!+', query_length=10327, query_start=138, query_end=9993, strand='+', target_name='NC_060948.1', target_length=62460029, target_start=38036189, target_end=38046010, residue_matches=1554, alignment_block_length=9868, mapping_quality=1, tp='P', cm=111, s1=1539, s2=1493, dv=0.0184, rl=7993, experiment='t2tChrY-readst2tChrY-SVs-a0.99-d0.1-l10000', tool='minimap', read_name='S1_195', GT_ref='NC_060948.1', GT_from=39343250, GT_to=39353540, GT_strand='+', is_correct=True, start_diff=-1307061, end_diff=-1307530, read_sv='multi')"
      ]
     },
     "metadata": {},
     "output_type": "display_data"
    },
    {
     "data": {
      "text/plain": [
       "'           GT from 39343250 to 39353540'"
      ]
     },
     "metadata": {},
     "output_type": "display_data"
    },
    {
     "data": {
      "text/plain": [
       "'       target from 38036189 to 38046010'"
      ]
     },
     "metadata": {},
     "output_type": "display_data"
    },
    {
     "data": {
      "text/plain": [
       "'    GT_labels from 38036054 to 38046343'"
      ]
     },
     "metadata": {},
     "output_type": "display_data"
    },
    {
     "data": {
      "text/plain": [
       "'target_labels from 38036190 to 38046010'"
      ]
     },
     "metadata": {},
     "output_type": "display_data"
    },
    {
     "data": {
      "text/plain": [
       "'9821 >?= 9261.0 = 0.9 * union 10290 => True'"
      ]
     },
     "metadata": {},
     "output_type": "display_data"
    },
    {
     "data": {
      "text/plain": [
       "Pandas(Index=151, query_name='S1_2!NC_060948.1!7313490!7324160!-', query_length=10687, query_start=1, query_end=10672, strand='-', target_name='NC_060948.1', target_length=62460029, target_start=7055064, target_end=7065718, residue_matches=9311, alignment_block_length=10699, mapping_quality=60, tp='P', cm=854, s1=9307, s2=228, dv=0.0004, rl=62, experiment='t2tChrY-readst2tChrY-SVs-a0.99-d0.1-l10000', tool='minimap', read_name='S1_2', GT_ref='NC_060948.1', GT_from=7313490, GT_to=7324160, GT_strand='-', is_correct=True, start_diff=-258426, end_diff=-258442, read_sv='DUP')"
      ]
     },
     "metadata": {},
     "output_type": "display_data"
    },
    {
     "data": {
      "text/plain": [
       "'           GT from 7313490 to 7324160'"
      ]
     },
     "metadata": {},
     "output_type": "display_data"
    },
    {
     "data": {
      "text/plain": [
       "'       target from 7055064 to 7065718'"
      ]
     },
     "metadata": {},
     "output_type": "display_data"
    },
    {
     "data": {
      "text/plain": [
       "'    GT_labels from 7055050 to 7065719'"
      ]
     },
     "metadata": {},
     "output_type": "display_data"
    },
    {
     "data": {
      "text/plain": [
       "'target_labels from 7055065 to 7065718'"
      ]
     },
     "metadata": {},
     "output_type": "display_data"
    },
    {
     "data": {
      "text/plain": [
       "'10654 >?= 9603.0 = 0.9 * union 10670 => True'"
      ]
     },
     "metadata": {},
     "output_type": "display_data"
    },
    {
     "data": {
      "text/plain": [
       "Pandas(Index=155, query_name='S1_201!NC_060948.1!5892100!5902123!+', query_length=10057, query_start=13, query_end=10053, strand='+', target_name='NC_060948.1', target_length=62460029, target_start=5677921, target_end=5687927, residue_matches=8688, alignment_block_length=10064, mapping_quality=60, tp='P', cm=821, s1=8677, s2=133, dv=0.0005, rl=124, experiment='t2tChrY-readst2tChrY-SVs-a0.99-d0.1-l10000', tool='minimap', read_name='S1_201', GT_ref='NC_060948.1', GT_from=5892100, GT_to=5902123, GT_strand='+', is_correct=True, start_diff=-214179, end_diff=-214196, read_sv='DUP')"
      ]
     },
     "metadata": {},
     "output_type": "display_data"
    },
    {
     "data": {
      "text/plain": [
       "'           GT from 5892100 to 5902123'"
      ]
     },
     "metadata": {},
     "output_type": "display_data"
    },
    {
     "data": {
      "text/plain": [
       "'       target from 5677921 to 5687927'"
      ]
     },
     "metadata": {},
     "output_type": "display_data"
    },
    {
     "data": {
      "text/plain": [
       "'    GT_labels from 5677909 to 5687931'"
      ]
     },
     "metadata": {},
     "output_type": "display_data"
    },
    {
     "data": {
      "text/plain": [
       "'target_labels from 5677922 to 5687927'"
      ]
     },
     "metadata": {},
     "output_type": "display_data"
    },
    {
     "data": {
      "text/plain": [
       "'10006 >?= 9020.7 = 0.9 * union 10023 => True'"
      ]
     },
     "metadata": {},
     "output_type": "display_data"
    },
    {
     "data": {
      "text/plain": [
       "Pandas(Index=158, query_name='S1_204!NC_060948.1!46550947!46561886!-', query_length=10965, query_start=262, query_end=10830, strand='-', target_name='NC_060948.1', target_length=62460029, target_start=44993843, target_end=45004390, residue_matches=1181, alignment_block_length=10584, mapping_quality=0, tp='P', cm=83, s1=1167, s2=1152, dv=0.0209, rl=9202, experiment='t2tChrY-readst2tChrY-SVs-a0.99-d0.1-l10000', tool='minimap', read_name='S1_204', GT_ref='NC_060948.1', GT_from=46550947, GT_to=46561886, GT_strand='-', is_correct=True, start_diff=-1557104, end_diff=-1557496, read_sv='INV')"
      ]
     },
     "metadata": {},
     "output_type": "display_data"
    },
    {
     "data": {
      "text/plain": [
       "'           GT from 46550947 to 46561886'"
      ]
     },
     "metadata": {},
     "output_type": "display_data"
    },
    {
     "data": {
      "text/plain": [
       "'       target from 44993843 to 45004390'"
      ]
     },
     "metadata": {},
     "output_type": "display_data"
    },
    {
     "data": {
      "text/plain": [
       "'    GT_labels from 44993711 to 45004649'"
      ]
     },
     "metadata": {},
     "output_type": "display_data"
    },
    {
     "data": {
      "text/plain": [
       "'target_labels from 44993844 to 45004390'"
      ]
     },
     "metadata": {},
     "output_type": "display_data"
    },
    {
     "data": {
      "text/plain": [
       "'10547 >?= 9845.1 = 0.9 * union 10939 => True'"
      ]
     },
     "metadata": {},
     "output_type": "display_data"
    },
    {
     "data": {
      "text/plain": [
       "Pandas(Index=159, query_name='S1_205!NC_060948.1!5420419!5428466!+', query_length=8074, query_start=12, query_end=8057, strand='+', target_name='NC_060948.1', target_length=62460029, target_start=5218414, target_end=5226431, residue_matches=7068, alignment_block_length=8060, mapping_quality=60, tp='P', cm=661, s1=7058, s2=0, dv=0.0003, rl=47, experiment='t2tChrY-readst2tChrY-SVs-a0.99-d0.1-l10000', tool='minimap', read_name='S1_205', GT_ref='NC_060948.1', GT_from=5420419, GT_to=5428466, GT_strand='+', is_correct=True, start_diff=-202005, end_diff=-202035, read_sv='DEL')"
      ]
     },
     "metadata": {},
     "output_type": "display_data"
    },
    {
     "data": {
      "text/plain": [
       "'           GT from 5420419 to 5428466'"
      ]
     },
     "metadata": {},
     "output_type": "display_data"
    },
    {
     "data": {
      "text/plain": [
       "'       target from 5218414 to 5226431'"
      ]
     },
     "metadata": {},
     "output_type": "display_data"
    },
    {
     "data": {
      "text/plain": [
       "'    GT_labels from 5218403 to 5226449'"
      ]
     },
     "metadata": {},
     "output_type": "display_data"
    },
    {
     "data": {
      "text/plain": [
       "'target_labels from 5218415 to 5226431'"
      ]
     },
     "metadata": {},
     "output_type": "display_data"
    },
    {
     "data": {
      "text/plain": [
       "'8017 >?= 7242.3 = 0.9 * union 8047 => True'"
      ]
     },
     "metadata": {},
     "output_type": "display_data"
    },
    {
     "data": {
      "text/plain": [
       "Pandas(Index=161, query_name='S1_207!NC_060948.1!24622932!24634752!+', query_length=11832, query_start=16, query_end=11819, strand='+', target_name='NC_060948.1', target_length=62460029, target_start=23763904, target_end=23775872, residue_matches=10555, alignment_block_length=12004, mapping_quality=3, tp='P', cm=983, s1=10520, s2=10409, dv=0.0003, rl=25, experiment='t2tChrY-readst2tChrY-SVs-a0.99-d0.1-l10000', tool='minimap', read_name='S1_207', GT_ref='NC_060948.1', GT_from=24622932, GT_to=24634752, GT_strand='+', is_correct=True, start_diff=-859028, end_diff=-858880, read_sv='INV')"
      ]
     },
     "metadata": {},
     "output_type": "display_data"
    },
    {
     "data": {
      "text/plain": [
       "'           GT from 24622932 to 24634752'"
      ]
     },
     "metadata": {},
     "output_type": "display_data"
    },
    {
     "data": {
      "text/plain": [
       "'       target from 23763904 to 23775872'"
      ]
     },
     "metadata": {},
     "output_type": "display_data"
    },
    {
     "data": {
      "text/plain": [
       "'    GT_labels from 23763889 to 23775885'"
      ]
     },
     "metadata": {},
     "output_type": "display_data"
    },
    {
     "data": {
      "text/plain": [
       "'target_labels from 23763905 to 23775872'"
      ]
     },
     "metadata": {},
     "output_type": "display_data"
    },
    {
     "data": {
      "text/plain": [
       "'11791 >?= 10797.300000000001 = 0.9 * union 11997 => True'"
      ]
     },
     "metadata": {},
     "output_type": "display_data"
    },
    {
     "data": {
      "text/plain": [
       "Pandas(Index=164, query_name='S1_21!NC_060948.1!43700767!43708145!+', query_length=7406, query_start=214, query_end=7358, strand='+', target_name='NC_060948.1', target_length=62460029, target_start=42238780, target_end=42245899, residue_matches=802, alignment_block_length=7148, mapping_quality=0, tp='P', cm=55, s1=794, s2=775, dv=0.0267, rl=6134, experiment='t2tChrY-readst2tChrY-SVs-a0.99-d0.1-l10000', tool='minimap', read_name='S1_21', GT_ref='NC_060948.1', GT_from=43700767, GT_to=43708145, GT_strand='+', is_correct=True, start_diff=-1461987, end_diff=-1462246, read_sv='DEL')"
      ]
     },
     "metadata": {},
     "output_type": "display_data"
    },
    {
     "data": {
      "text/plain": [
       "'           GT from 43700767 to 43708145'"
      ]
     },
     "metadata": {},
     "output_type": "display_data"
    },
    {
     "data": {
      "text/plain": [
       "'       target from 42238780 to 42245899'"
      ]
     },
     "metadata": {},
     "output_type": "display_data"
    },
    {
     "data": {
      "text/plain": [
       "'    GT_labels from 42238568 to 42245945'"
      ]
     },
     "metadata": {},
     "output_type": "display_data"
    },
    {
     "data": {
      "text/plain": [
       "'target_labels from 42238781 to 42245899'"
      ]
     },
     "metadata": {},
     "output_type": "display_data"
    },
    {
     "data": {
      "text/plain": [
       "'7119 >?= 6640.2 = 0.9 * union 7378 => True'"
      ]
     },
     "metadata": {},
     "output_type": "display_data"
    },
    {
     "data": {
      "text/plain": [
       "Pandas(Index=165, query_name='S1_210!NC_060948.1!29811669!29823175!-', query_length=11547, query_start=40, query_end=8293, strand='-', target_name='NC_060948.1', target_length=62460029, target_start=28805718, target_end=28813932, residue_matches=2297, alignment_block_length=8260, mapping_quality=7, tp='P', cm=172, s1=2286, s2=2086, dv=0.0117, rl=7785, experiment='t2tChrY-readst2tChrY-SVs-a0.99-d0.1-l10000', tool='minimap', read_name='S1_210', GT_ref='NC_060948.1', GT_from=29811669, GT_to=29823175, GT_strand='-', is_correct=False, start_diff=-1005951, end_diff=-1009243, read_sv='INV')"
      ]
     },
     "metadata": {},
     "output_type": "display_data"
    },
    {
     "data": {
      "text/plain": [
       "'           GT from 29811669 to 29823175'"
      ]
     },
     "metadata": {},
     "output_type": "display_data"
    },
    {
     "data": {
      "text/plain": [
       "'       target from 28805718 to 28813932'"
      ]
     },
     "metadata": {},
     "output_type": "display_data"
    },
    {
     "data": {
      "text/plain": [
       "'    GT_labels from 28805244 to 28813971'"
      ]
     },
     "metadata": {},
     "output_type": "display_data"
    },
    {
     "data": {
      "text/plain": [
       "'target_labels from 28805719 to 28813932'"
      ]
     },
     "metadata": {},
     "output_type": "display_data"
    },
    {
     "data": {
      "text/plain": [
       "'8214 >?= 10355.4 = 0.9 * union 11506 => False'"
      ]
     },
     "metadata": {},
     "output_type": "display_data"
    },
    {
     "data": {
      "text/plain": [
       "Pandas(Index=166, query_name='S1_210!NC_060948.1!29811669!29823175!-', query_length=11547, query_start=10698, query_end=11502, strand='-', target_name='NC_060948.1', target_length=62460029, target_start=28826683, target_end=28827486, residue_matches=257, alignment_block_length=804, mapping_quality=0, tp='P', cm=18, s1=257, s2=257, dv=0.0105, rl=7785, experiment='t2tChrY-readst2tChrY-SVs-a0.99-d0.1-l10000', tool='minimap', read_name='S1_210', GT_ref='NC_060948.1', GT_from=29811669, GT_to=29823175, GT_strand='-', is_correct=False, start_diff=-984986, end_diff=-995689, read_sv='INV')"
      ]
     },
     "metadata": {},
     "output_type": "display_data"
    },
    {
     "data": {
      "text/plain": [
       "'           GT from 29811669 to 29823175'"
      ]
     },
     "metadata": {},
     "output_type": "display_data"
    },
    {
     "data": {
      "text/plain": [
       "'       target from 28826683 to 28827486'"
      ]
     },
     "metadata": {},
     "output_type": "display_data"
    },
    {
     "data": {
      "text/plain": [
       "'    GT_labels from 28805244 to 28813971'"
      ]
     },
     "metadata": {},
     "output_type": "display_data"
    },
    {
     "data": {
      "text/plain": [
       "'target_labels from 28826684 to 28827486'"
      ]
     },
     "metadata": {},
     "output_type": "display_data"
    },
    {
     "data": {
      "text/plain": [
       "'0 >?= 11078.1 = 0.9 * union 12309 => False'"
      ]
     },
     "metadata": {},
     "output_type": "display_data"
    },
    {
     "data": {
      "text/plain": [
       "Pandas(Index=167, query_name='S1_210!NC_060948.1!29811669!29823175!-', query_length=11547, query_start=9772, query_end=10147, strand='-', target_name='NC_060948.1', target_length=62460029, target_start=28827113, target_end=28827486, residue_matches=162, alignment_block_length=375, mapping_quality=0, tp='P', cm=11, s1=162, s2=162, dv=0.0126, rl=7785, experiment='t2tChrY-readst2tChrY-SVs-a0.99-d0.1-l10000', tool='minimap', read_name='S1_210', GT_ref='NC_060948.1', GT_from=29811669, GT_to=29823175, GT_strand='-', is_correct=False, start_diff=-984556, end_diff=-995689, read_sv='INV')"
      ]
     },
     "metadata": {},
     "output_type": "display_data"
    },
    {
     "data": {
      "text/plain": [
       "'           GT from 29811669 to 29823175'"
      ]
     },
     "metadata": {},
     "output_type": "display_data"
    },
    {
     "data": {
      "text/plain": [
       "'       target from 28827113 to 28827486'"
      ]
     },
     "metadata": {},
     "output_type": "display_data"
    },
    {
     "data": {
      "text/plain": [
       "'    GT_labels from 28805244 to 28813971'"
      ]
     },
     "metadata": {},
     "output_type": "display_data"
    },
    {
     "data": {
      "text/plain": [
       "'target_labels from 28827114 to 28827486'"
      ]
     },
     "metadata": {},
     "output_type": "display_data"
    },
    {
     "data": {
      "text/plain": [
       "'0 >?= 10691.1 = 0.9 * union 11879 => False'"
      ]
     },
     "metadata": {},
     "output_type": "display_data"
    },
    {
     "data": {
      "text/plain": [
       "Pandas(Index=168, query_name='S1_210!NC_060948.1!29811669!29823175!-', query_length=11547, query_start=9310, query_end=9682, strand='-', target_name='NC_060948.1', target_length=62460029, target_start=28815225, target_end=28815598, residue_matches=162, alignment_block_length=373, mapping_quality=0, tp='P', cm=11, s1=162, s2=162, dv=0.0126, rl=7785, experiment='t2tChrY-readst2tChrY-SVs-a0.99-d0.1-l10000', tool='minimap', read_name='S1_210', GT_ref='NC_060948.1', GT_from=29811669, GT_to=29823175, GT_strand='-', is_correct=False, start_diff=-996444, end_diff=-1007577, read_sv='INV')"
      ]
     },
     "metadata": {},
     "output_type": "display_data"
    },
    {
     "data": {
      "text/plain": [
       "'           GT from 29811669 to 29823175'"
      ]
     },
     "metadata": {},
     "output_type": "display_data"
    },
    {
     "data": {
      "text/plain": [
       "'       target from 28815225 to 28815598'"
      ]
     },
     "metadata": {},
     "output_type": "display_data"
    },
    {
     "data": {
      "text/plain": [
       "'    GT_labels from 28805244 to 28813971'"
      ]
     },
     "metadata": {},
     "output_type": "display_data"
    },
    {
     "data": {
      "text/plain": [
       "'target_labels from 28815226 to 28815598'"
      ]
     },
     "metadata": {},
     "output_type": "display_data"
    },
    {
     "data": {
      "text/plain": [
       "'0 >?= 10691.1 = 0.9 * union 11879 => False'"
      ]
     },
     "metadata": {},
     "output_type": "display_data"
    },
    {
     "data": {
      "text/plain": [
       "Pandas(Index=169, query_name='S1_210!NC_060948.1!29811669!29823175!-', query_length=11547, query_start=8843, query_end=9219, strand='-', target_name='NC_060948.1', target_length=62460029, target_start=28815225, target_end=28815598, residue_matches=133, alignment_block_length=376, mapping_quality=0, tp='P', cm=9, s1=132, s2=132, dv=0.015, rl=7785, experiment='t2tChrY-readst2tChrY-SVs-a0.99-d0.1-l10000', tool='minimap', read_name='S1_210', GT_ref='NC_060948.1', GT_from=29811669, GT_to=29823175, GT_strand='-', is_correct=False, start_diff=-996444, end_diff=-1007577, read_sv='INV')"
      ]
     },
     "metadata": {},
     "output_type": "display_data"
    },
    {
     "data": {
      "text/plain": [
       "'           GT from 29811669 to 29823175'"
      ]
     },
     "metadata": {},
     "output_type": "display_data"
    },
    {
     "data": {
      "text/plain": [
       "'       target from 28815225 to 28815598'"
      ]
     },
     "metadata": {},
     "output_type": "display_data"
    },
    {
     "data": {
      "text/plain": [
       "'    GT_labels from 28805244 to 28813971'"
      ]
     },
     "metadata": {},
     "output_type": "display_data"
    },
    {
     "data": {
      "text/plain": [
       "'target_labels from 28815226 to 28815598'"
      ]
     },
     "metadata": {},
     "output_type": "display_data"
    },
    {
     "data": {
      "text/plain": [
       "'0 >?= 10691.1 = 0.9 * union 11879 => False'"
      ]
     },
     "metadata": {},
     "output_type": "display_data"
    },
    {
     "data": {
      "text/plain": [
       "Pandas(Index=170, query_name='S1_210!NC_060948.1!29811669!29823175!-', query_length=11547, query_start=8383, query_end=8754, strand='-', target_name='NC_060948.1', target_length=62460029, target_start=28805718, target_end=28806091, residue_matches=106, alignment_block_length=373, mapping_quality=0, tp='P', cm=7, s1=106, s2=106, dv=0.0131, rl=7785, experiment='t2tChrY-readst2tChrY-SVs-a0.99-d0.1-l10000', tool='minimap', read_name='S1_210', GT_ref='NC_060948.1', GT_from=29811669, GT_to=29823175, GT_strand='-', is_correct=False, start_diff=-1005951, end_diff=-1017084, read_sv='INV')"
      ]
     },
     "metadata": {},
     "output_type": "display_data"
    },
    {
     "data": {
      "text/plain": [
       "'           GT from 29811669 to 29823175'"
      ]
     },
     "metadata": {},
     "output_type": "display_data"
    },
    {
     "data": {
      "text/plain": [
       "'       target from 28805718 to 28806091'"
      ]
     },
     "metadata": {},
     "output_type": "display_data"
    },
    {
     "data": {
      "text/plain": [
       "'    GT_labels from 28805244 to 28813971'"
      ]
     },
     "metadata": {},
     "output_type": "display_data"
    },
    {
     "data": {
      "text/plain": [
       "'target_labels from 28805719 to 28806091'"
      ]
     },
     "metadata": {},
     "output_type": "display_data"
    },
    {
     "data": {
      "text/plain": [
       "'373 >?= 10355.4 = 0.9 * union 11506 => False'"
      ]
     },
     "metadata": {},
     "output_type": "display_data"
    },
    {
     "data": {
      "text/plain": [
       "Pandas(Index=171, query_name='S1_210!NC_060948.1!29811669!29823175!-', query_length=11547, query_start=10422, query_end=10608, strand='-', target_name='NC_060948.1', target_length=62460029, target_start=28815225, target_end=28815412, residue_matches=61, alignment_block_length=187, mapping_quality=3, tp='P', cm=4, s1=61, s2=53, dv=0.0358, rl=7785, experiment='t2tChrY-readst2tChrY-SVs-a0.99-d0.1-l10000', tool='minimap', read_name='S1_210', GT_ref='NC_060948.1', GT_from=29811669, GT_to=29823175, GT_strand='-', is_correct=False, start_diff=-996444, end_diff=-1007763, read_sv='INV')"
      ]
     },
     "metadata": {},
     "output_type": "display_data"
    },
    {
     "data": {
      "text/plain": [
       "'           GT from 29811669 to 29823175'"
      ]
     },
     "metadata": {},
     "output_type": "display_data"
    },
    {
     "data": {
      "text/plain": [
       "'       target from 28815225 to 28815412'"
      ]
     },
     "metadata": {},
     "output_type": "display_data"
    },
    {
     "data": {
      "text/plain": [
       "'    GT_labels from 28805244 to 28813971'"
      ]
     },
     "metadata": {},
     "output_type": "display_data"
    },
    {
     "data": {
      "text/plain": [
       "'target_labels from 28815226 to 28815412'"
      ]
     },
     "metadata": {},
     "output_type": "display_data"
    },
    {
     "data": {
      "text/plain": [
       "'0 >?= 10523.7 = 0.9 * union 11693 => False'"
      ]
     },
     "metadata": {},
     "output_type": "display_data"
    },
    {
     "data": {
      "text/plain": [
       "Pandas(Index=172, query_name='S1_211!NC_060948.1!37261082!37273272!+', query_length=12228, query_start=26, query_end=12035, strand='+', target_name='NC_060948.1', target_length=62460029, target_start=36004548, target_end=36016194, residue_matches=1341, alignment_block_length=12021, mapping_quality=2, tp='P', cm=91, s1=1268, s2=1187, dv=0.0273, rl=9643, experiment='t2tChrY-readst2tChrY-SVs-a0.99-d0.1-l10000', tool='minimap', read_name='S1_211', GT_ref='NC_060948.1', GT_from=37261082, GT_to=37273272, GT_strand='+', is_correct=True, start_diff=-1256534, end_diff=-1257078, read_sv='multi')"
      ]
     },
     "metadata": {},
     "output_type": "display_data"
    },
    {
     "data": {
      "text/plain": [
       "'           GT from 37261082 to 37273272'"
      ]
     },
     "metadata": {},
     "output_type": "display_data"
    },
    {
     "data": {
      "text/plain": [
       "'       target from 36004548 to 36016194'"
      ]
     },
     "metadata": {},
     "output_type": "display_data"
    },
    {
     "data": {
      "text/plain": [
       "'    GT_labels from -74545 to 36016387'"
      ]
     },
     "metadata": {},
     "output_type": "display_data"
    },
    {
     "data": {
      "text/plain": [
       "'target_labels from 36004549 to 36016194'"
      ]
     },
     "metadata": {},
     "output_type": "display_data"
    },
    {
     "data": {
      "text/plain": [
       "'11646 >?= 10971.0 = 0.9 * union 12190 => True'"
      ]
     },
     "metadata": {},
     "output_type": "display_data"
    },
    {
     "data": {
      "text/plain": [
       "Pandas(Index=173, query_name='S1_212!NC_060948.1!59000472!59020548!-', query_length=20138, query_start=15, query_end=19680, strand='-', target_name='NC_060948.1', target_length=62460029, target_start=57054810, target_end=57074073, residue_matches=2478, alignment_block_length=19689, mapping_quality=6, tp='P', cm=165, s1=2399, s2=1981, dv=0.0263, rl=16264, experiment='t2tChrY-readst2tChrY-SVs-a0.99-d0.1-l10000', tool='minimap', read_name='S1_212', GT_ref='NC_060948.1', GT_from=59000472, GT_to=59020548, GT_strand='-', is_correct=True, start_diff=-1945662, end_diff=-1946475, read_sv='DEL')"
      ]
     },
     "metadata": {},
     "output_type": "display_data"
    },
    {
     "data": {
      "text/plain": [
       "'           GT from 59000472 to 59020548'"
      ]
     },
     "metadata": {},
     "output_type": "display_data"
    },
    {
     "data": {
      "text/plain": [
       "'       target from 57054810 to 57074073'"
      ]
     },
     "metadata": {},
     "output_type": "display_data"
    },
    {
     "data": {
      "text/plain": [
       "'    GT_labels from 57054357 to 57074088'"
      ]
     },
     "metadata": {},
     "output_type": "display_data"
    },
    {
     "data": {
      "text/plain": [
       "'target_labels from 57054811 to 57074073'"
      ]
     },
     "metadata": {},
     "output_type": "display_data"
    },
    {
     "data": {
      "text/plain": [
       "'19263 >?= 18068.4 = 0.9 * union 20076 => True'"
      ]
     },
     "metadata": {},
     "output_type": "display_data"
    },
    {
     "data": {
      "text/plain": [
       "Pandas(Index=176, query_name='S1_215!NC_060948.1!18193653!18204206!+', query_length=10585, query_start=7, query_end=10568, strand='+', target_name='NC_060948.1', target_length=62460029, target_start=17541918, target_end=17552447, residue_matches=8972, alignment_block_length=10585, mapping_quality=60, tp='P', cm=847, s1=8960, s2=1542, dv=0.0003, rl=0, experiment='t2tChrY-readst2tChrY-SVs-a0.99-d0.1-l10000', tool='minimap', read_name='S1_215', GT_ref='NC_060948.1', GT_from=18193653, GT_to=18204206, GT_strand='+', is_correct=True, start_diff=-651735, end_diff=-651759, read_sv='INV')"
      ]
     },
     "metadata": {},
     "output_type": "display_data"
    },
    {
     "data": {
      "text/plain": [
       "'           GT from 18193653 to 18204206'"
      ]
     },
     "metadata": {},
     "output_type": "display_data"
    },
    {
     "data": {
      "text/plain": [
       "'       target from 17541918 to 17552447'"
      ]
     },
     "metadata": {},
     "output_type": "display_data"
    },
    {
     "data": {
      "text/plain": [
       "'    GT_labels from 17541912 to 17552464'"
      ]
     },
     "metadata": {},
     "output_type": "display_data"
    },
    {
     "data": {
      "text/plain": [
       "'target_labels from 17541919 to 17552447'"
      ]
     },
     "metadata": {},
     "output_type": "display_data"
    },
    {
     "data": {
      "text/plain": [
       "'10529 >?= 9497.7 = 0.9 * union 10553 => True'"
      ]
     },
     "metadata": {},
     "output_type": "display_data"
    },
    {
     "data": {
      "text/plain": [
       "Pandas(Index=180, query_name='S1_218!NC_060948.1!36395167!36407323!-', query_length=12200, query_start=147, query_end=9853, strand='-', target_name='NC_060948.1', target_length=62460029, target_start=35169570, target_end=35179241, residue_matches=1930, alignment_block_length=9716, mapping_quality=12, tp='P', cm=137, s1=1919, s2=1540, dv=0.014, rl=9247, experiment='t2tChrY-readst2tChrY-SVs-a0.99-d0.1-l10000', tool='minimap', read_name='S1_218', GT_ref='NC_060948.1', GT_from=36395167, GT_to=36407323, GT_strand='-', is_correct=False, start_diff=-1225597, end_diff=-1228082, read_sv='DEL')"
      ]
     },
     "metadata": {},
     "output_type": "display_data"
    },
    {
     "data": {
      "text/plain": [
       "'           GT from 36395167 to 36407323'"
      ]
     },
     "metadata": {},
     "output_type": "display_data"
    },
    {
     "data": {
      "text/plain": [
       "'       target from 35169570 to 35179241'"
      ]
     },
     "metadata": {},
     "output_type": "display_data"
    },
    {
     "data": {
      "text/plain": [
       "'    GT_labels from 35169527 to 35179388'"
      ]
     },
     "metadata": {},
     "output_type": "display_data"
    },
    {
     "data": {
      "text/plain": [
       "'target_labels from 35169571 to 35179241'"
      ]
     },
     "metadata": {},
     "output_type": "display_data"
    },
    {
     "data": {
      "text/plain": [
       "'9671 >?= 10940.4 = 0.9 * union 12156 => False'"
      ]
     },
     "metadata": {},
     "output_type": "display_data"
    },
    {
     "data": {
      "text/plain": [
       "Pandas(Index=181, query_name='S1_218!NC_060948.1!36395167!36407323!-', query_length=12200, query_start=11530, query_end=12157, strand='-', target_name='NC_060948.1', target_length=62460029, target_start=35169570, target_end=35170198, residue_matches=162, alignment_block_length=628, mapping_quality=0, tp='P', cm=11, s1=162, s2=162, dv=0.0195, rl=9247, experiment='t2tChrY-readst2tChrY-SVs-a0.99-d0.1-l10000', tool='minimap', read_name='S1_218', GT_ref='NC_060948.1', GT_from=36395167, GT_to=36407323, GT_strand='-', is_correct=False, start_diff=-1225597, end_diff=-1237125, read_sv='DEL')"
      ]
     },
     "metadata": {},
     "output_type": "display_data"
    },
    {
     "data": {
      "text/plain": [
       "'           GT from 36395167 to 36407323'"
      ]
     },
     "metadata": {},
     "output_type": "display_data"
    },
    {
     "data": {
      "text/plain": [
       "'       target from 35169570 to 35170198'"
      ]
     },
     "metadata": {},
     "output_type": "display_data"
    },
    {
     "data": {
      "text/plain": [
       "'    GT_labels from 35169527 to 35179388'"
      ]
     },
     "metadata": {},
     "output_type": "display_data"
    },
    {
     "data": {
      "text/plain": [
       "'target_labels from 35169571 to 35170198'"
      ]
     },
     "metadata": {},
     "output_type": "display_data"
    },
    {
     "data": {
      "text/plain": [
       "'628 >?= 10940.4 = 0.9 * union 12156 => False'"
      ]
     },
     "metadata": {},
     "output_type": "display_data"
    },
    {
     "data": {
      "text/plain": [
       "Pandas(Index=182, query_name='S1_218!NC_060948.1!36395167!36407323!-', query_length=12200, query_start=9989, query_end=10621, strand='-', target_name='NC_060948.1', target_length=62460029, target_start=35169570, target_end=35170198, residue_matches=160, alignment_block_length=632, mapping_quality=0, tp='P', cm=11, s1=159, s2=159, dv=0.0256, rl=9247, experiment='t2tChrY-readst2tChrY-SVs-a0.99-d0.1-l10000', tool='minimap', read_name='S1_218', GT_ref='NC_060948.1', GT_from=36395167, GT_to=36407323, GT_strand='-', is_correct=False, start_diff=-1225597, end_diff=-1237125, read_sv='DEL')"
      ]
     },
     "metadata": {},
     "output_type": "display_data"
    },
    {
     "data": {
      "text/plain": [
       "'           GT from 36395167 to 36407323'"
      ]
     },
     "metadata": {},
     "output_type": "display_data"
    },
    {
     "data": {
      "text/plain": [
       "'       target from 35169570 to 35170198'"
      ]
     },
     "metadata": {},
     "output_type": "display_data"
    },
    {
     "data": {
      "text/plain": [
       "'    GT_labels from 35169527 to 35179388'"
      ]
     },
     "metadata": {},
     "output_type": "display_data"
    },
    {
     "data": {
      "text/plain": [
       "'target_labels from 35169571 to 35170198'"
      ]
     },
     "metadata": {},
     "output_type": "display_data"
    },
    {
     "data": {
      "text/plain": [
       "'628 >?= 10940.4 = 0.9 * union 12156 => False'"
      ]
     },
     "metadata": {},
     "output_type": "display_data"
    },
    {
     "data": {
      "text/plain": [
       "Pandas(Index=183, query_name='S1_218!NC_060948.1!36395167!36407323!-', query_length=12200, query_start=10775, query_end=11326, strand='-', target_name='NC_060948.1', target_length=62460029, target_start=35169636, target_end=35170182, residue_matches=112, alignment_block_length=551, mapping_quality=0, tp='P', cm=6, s1=110, s2=110, dv=0.0358, rl=9247, experiment='t2tChrY-readst2tChrY-SVs-a0.99-d0.1-l10000', tool='minimap', read_name='S1_218', GT_ref='NC_060948.1', GT_from=36395167, GT_to=36407323, GT_strand='-', is_correct=False, start_diff=-1225531, end_diff=-1237141, read_sv='DEL')"
      ]
     },
     "metadata": {},
     "output_type": "display_data"
    },
    {
     "data": {
      "text/plain": [
       "'           GT from 36395167 to 36407323'"
      ]
     },
     "metadata": {},
     "output_type": "display_data"
    },
    {
     "data": {
      "text/plain": [
       "'       target from 35169636 to 35170182'"
      ]
     },
     "metadata": {},
     "output_type": "display_data"
    },
    {
     "data": {
      "text/plain": [
       "'    GT_labels from 35169527 to 35179388'"
      ]
     },
     "metadata": {},
     "output_type": "display_data"
    },
    {
     "data": {
      "text/plain": [
       "'target_labels from 35169637 to 35170182'"
      ]
     },
     "metadata": {},
     "output_type": "display_data"
    },
    {
     "data": {
      "text/plain": [
       "'546 >?= 10940.4 = 0.9 * union 12156 => False'"
      ]
     },
     "metadata": {},
     "output_type": "display_data"
    },
    {
     "data": {
      "text/plain": [
       "Pandas(Index=188, query_name='S1_222!NC_060948.1!28445262!28455583!-', query_length=10348, query_start=4, query_end=10342, strand='-', target_name='NC_060948.1', target_length=62460029, target_start=27487780, target_end=27498091, residue_matches=8621, alignment_block_length=10365, mapping_quality=60, tp='P', cm=745, s1=8611, s2=6746, dv=0.0029, rl=738, experiment='t2tChrY-readst2tChrY-SVs-a0.99-d0.1-l10000', tool='minimap', read_name='S1_222', GT_ref='NC_060948.1', GT_from=28445262, GT_to=28455583, GT_strand='-', is_correct=True, start_diff=-957482, end_diff=-957492, read_sv='DUP')"
      ]
     },
     "metadata": {},
     "output_type": "display_data"
    },
    {
     "data": {
      "text/plain": [
       "'           GT from 28445262 to 28455583'"
      ]
     },
     "metadata": {},
     "output_type": "display_data"
    },
    {
     "data": {
      "text/plain": [
       "'       target from 27487780 to 27498091'"
      ]
     },
     "metadata": {},
     "output_type": "display_data"
    },
    {
     "data": {
      "text/plain": [
       "'    GT_labels from 27487775 to 27498095'"
      ]
     },
     "metadata": {},
     "output_type": "display_data"
    },
    {
     "data": {
      "text/plain": [
       "'target_labels from 27487781 to 27498091'"
      ]
     },
     "metadata": {},
     "output_type": "display_data"
    },
    {
     "data": {
      "text/plain": [
       "'10311 >?= 9288.9 = 0.9 * union 10321 => True'"
      ]
     },
     "metadata": {},
     "output_type": "display_data"
    },
    {
     "data": {
      "text/plain": [
       "Pandas(Index=191, query_name='S1_225!NC_060948.1!40916848!40928609!+', query_length=11807, query_start=202, query_end=8685, strand='+', target_name='NC_060948.1', target_length=62460029, target_start=39561129, target_end=39569579, residue_matches=1372, alignment_block_length=8485, mapping_quality=7, tp='P', cm=113, s1=1361, s2=1105, dv=0.0172, rl=9373, experiment='t2tChrY-readst2tChrY-SVs-a0.99-d0.1-l10000', tool='minimap', read_name='S1_225', GT_ref='NC_060948.1', GT_from=40916848, GT_to=40928609, GT_strand='+', is_correct=False, start_diff=-1355719, end_diff=-1359030, read_sv='INV')"
      ]
     },
     "metadata": {},
     "output_type": "display_data"
    },
    {
     "data": {
      "text/plain": [
       "'           GT from 40916848 to 40928609'"
      ]
     },
     "metadata": {},
     "output_type": "display_data"
    },
    {
     "data": {
      "text/plain": [
       "'       target from 39561129 to 39569579'"
      ]
     },
     "metadata": {},
     "output_type": "display_data"
    },
    {
     "data": {
      "text/plain": [
       "'    GT_labels from 39560929 to 39570037'"
      ]
     },
     "metadata": {},
     "output_type": "display_data"
    },
    {
     "data": {
      "text/plain": [
       "'target_labels from 39561130 to 39569579'"
      ]
     },
     "metadata": {},
     "output_type": "display_data"
    },
    {
     "data": {
      "text/plain": [
       "'8450 >?= 10584.9 = 0.9 * union 11761 => False'"
      ]
     },
     "metadata": {},
     "output_type": "display_data"
    },
    {
     "data": {
      "text/plain": [
       "Pandas(Index=192, query_name='S1_225!NC_060948.1!40916848!40928609!+', query_length=11807, query_start=9040, query_end=11592, strand='+', target_name='NC_060948.1', target_length=62460029, target_start=39569050, target_end=39572242, residue_matches=298, alignment_block_length=3204, mapping_quality=6, tp='P', cm=28, s1=178, s2=140, dv=0.029, rl=9373, experiment='t2tChrY-readst2tChrY-SVs-a0.99-d0.1-l10000', tool='minimap', read_name='S1_225', GT_ref='NC_060948.1', GT_from=40916848, GT_to=40928609, GT_strand='+', is_correct=False, start_diff=-1347798, end_diff=-1356367, read_sv='INV')"
      ]
     },
     "metadata": {},
     "output_type": "display_data"
    },
    {
     "data": {
      "text/plain": [
       "'           GT from 40916848 to 40928609'"
      ]
     },
     "metadata": {},
     "output_type": "display_data"
    },
    {
     "data": {
      "text/plain": [
       "'       target from 39569050 to 39572242'"
      ]
     },
     "metadata": {},
     "output_type": "display_data"
    },
    {
     "data": {
      "text/plain": [
       "'    GT_labels from 39560929 to 39570037'"
      ]
     },
     "metadata": {},
     "output_type": "display_data"
    },
    {
     "data": {
      "text/plain": [
       "'target_labels from 39569051 to 39572242'"
      ]
     },
     "metadata": {},
     "output_type": "display_data"
    },
    {
     "data": {
      "text/plain": [
       "'987 >?= 12569.4 = 0.9 * union 13966 => False'"
      ]
     },
     "metadata": {},
     "output_type": "display_data"
    },
    {
     "data": {
      "text/plain": [
       "Pandas(Index=193, query_name='S1_225!NC_060948.1!40916848!40928609!+', query_length=11807, query_start=8722, query_end=8858, strand='+', target_name='NC_060948.1', target_length=62460029, target_start=57367732, target_end=57367868, residue_matches=44, alignment_block_length=136, mapping_quality=0, tp='P', cm=3, s1=44, s2=44, dv=0.0265, rl=9373, experiment='t2tChrY-readst2tChrY-SVs-a0.99-d0.1-l10000', tool='minimap', read_name='S1_225', GT_ref='NC_060948.1', GT_from=40916848, GT_to=40928609, GT_strand='+', is_correct=False, start_diff=16450884, end_diff=16439259, read_sv='INV')"
      ]
     },
     "metadata": {},
     "output_type": "display_data"
    },
    {
     "data": {
      "text/plain": [
       "'           GT from 40916848 to 40928609'"
      ]
     },
     "metadata": {},
     "output_type": "display_data"
    },
    {
     "data": {
      "text/plain": [
       "'       target from 57367732 to 57367868'"
      ]
     },
     "metadata": {},
     "output_type": "display_data"
    },
    {
     "data": {
      "text/plain": [
       "'    GT_labels from 39560929 to 39570037'"
      ]
     },
     "metadata": {},
     "output_type": "display_data"
    },
    {
     "data": {
      "text/plain": [
       "'target_labels from 57367733 to 57367868'"
      ]
     },
     "metadata": {},
     "output_type": "display_data"
    },
    {
     "data": {
      "text/plain": [
       "'0 >?= 10707.300000000001 = 0.9 * union 11897 => False'"
      ]
     },
     "metadata": {},
     "output_type": "display_data"
    },
    {
     "data": {
      "text/plain": [
       "Pandas(Index=195, query_name='S1_227!NC_060948.1!19558006!19564913!+', query_length=6945, query_start=22, query_end=6939, strand='+', target_name='NC_060948.1', target_length=62460029, target_start=18854051, target_end=18860930, residue_matches=5878, alignment_block_length=6927, mapping_quality=60, tp='P', cm=541, s1=5873, s2=3134, dv=0.0017, rl=38, experiment='t2tChrY-readst2tChrY-SVs-a0.99-d0.1-l10000', tool='minimap', read_name='S1_227', GT_ref='NC_060948.1', GT_from=19558006, GT_to=19564913, GT_strand='+', is_correct=True, start_diff=-703955, end_diff=-703983, read_sv='DUP')"
      ]
     },
     "metadata": {},
     "output_type": "display_data"
    },
    {
     "data": {
      "text/plain": [
       "'           GT from 19558006 to 19564913'"
      ]
     },
     "metadata": {},
     "output_type": "display_data"
    },
    {
     "data": {
      "text/plain": [
       "'       target from 18854051 to 18860930'"
      ]
     },
     "metadata": {},
     "output_type": "display_data"
    },
    {
     "data": {
      "text/plain": [
       "'    GT_labels from 18854031 to 18860937'"
      ]
     },
     "metadata": {},
     "output_type": "display_data"
    },
    {
     "data": {
      "text/plain": [
       "'target_labels from 18854052 to 18860930'"
      ]
     },
     "metadata": {},
     "output_type": "display_data"
    },
    {
     "data": {
      "text/plain": [
       "'6879 >?= 6216.3 = 0.9 * union 6907 => True'"
      ]
     },
     "metadata": {},
     "output_type": "display_data"
    },
    {
     "data": {
      "text/plain": [
       "Pandas(Index=199, query_name='S1_230!NC_060948.1!15677588!15686291!-', query_length=8699, query_start=8, query_end=8686, strand='-', target_name='NC_060948.1', target_length=62460029, target_start=15126208, target_end=15134890, residue_matches=7642, alignment_block_length=8709, mapping_quality=60, tp='P', cm=723, s1=7637, s2=212, dv=0.0004, rl=19, experiment='t2tChrY-readst2tChrY-SVs-a0.99-d0.1-l10000', tool='minimap', read_name='S1_230', GT_ref='NC_060948.1', GT_from=15677588, GT_to=15686291, GT_strand='-', is_correct=True, start_diff=-551380, end_diff=-551401, read_sv='DUP')"
      ]
     },
     "metadata": {},
     "output_type": "display_data"
    },
    {
     "data": {
      "text/plain": [
       "'           GT from 15677588 to 15686291'"
      ]
     },
     "metadata": {},
     "output_type": "display_data"
    },
    {
     "data": {
      "text/plain": [
       "'       target from 15126208 to 15134890'"
      ]
     },
     "metadata": {},
     "output_type": "display_data"
    },
    {
     "data": {
      "text/plain": [
       "'    GT_labels from 15126196 to 15134898'"
      ]
     },
     "metadata": {},
     "output_type": "display_data"
    },
    {
     "data": {
      "text/plain": [
       "'target_labels from 15126209 to 15134890'"
      ]
     },
     "metadata": {},
     "output_type": "display_data"
    },
    {
     "data": {
      "text/plain": [
       "'8682 >?= 7832.7 = 0.9 * union 8703 => True'"
      ]
     },
     "metadata": {},
     "output_type": "display_data"
    },
    {
     "data": {
      "text/plain": [
       "Pandas(Index=200, query_name='S1_231!NC_060948.1!46258987!46268691!+', query_length=9719, query_start=128, query_end=9697, strand='+', target_name='NC_060948.1', target_length=62460029, target_start=44710817, target_end=44720371, residue_matches=1799, alignment_block_length=9584, mapping_quality=3, tp='P', cm=131, s1=1790, s2=1696, dv=0.021, rl=7137, experiment='t2tChrY-readst2tChrY-SVs-a0.99-d0.1-l10000', tool='minimap', read_name='S1_231', GT_ref='NC_060948.1', GT_from=46258987, GT_to=46268691, GT_strand='+', is_correct=True, start_diff=-1548170, end_diff=-1548320, read_sv='DEL')"
      ]
     },
     "metadata": {},
     "output_type": "display_data"
    },
    {
     "data": {
      "text/plain": [
       "'           GT from 46258987 to 46268691'"
      ]
     },
     "metadata": {},
     "output_type": "display_data"
    },
    {
     "data": {
      "text/plain": [
       "'       target from 44710817 to 44720371'"
      ]
     },
     "metadata": {},
     "output_type": "display_data"
    },
    {
     "data": {
      "text/plain": [
       "'    GT_labels from 44710690 to 44720393'"
      ]
     },
     "metadata": {},
     "output_type": "display_data"
    },
    {
     "data": {
      "text/plain": [
       "'target_labels from 44710818 to 44720371'"
      ]
     },
     "metadata": {},
     "output_type": "display_data"
    },
    {
     "data": {
      "text/plain": [
       "'9554 >?= 8733.6 = 0.9 * union 9704 => True'"
      ]
     },
     "metadata": {},
     "output_type": "display_data"
    },
    {
     "data": {
      "text/plain": [
       "Pandas(Index=201, query_name='S1_232!NC_060948.1!50999911!51009290!-', query_length=9417, query_start=120, query_end=9201, strand='-', target_name='NC_060948.1', target_length=62460029, target_start=49296443, target_end=49305488, residue_matches=1145, alignment_block_length=9090, mapping_quality=15, tp='P', cm=79, s1=1131, s2=656, dv=0.0234, rl=7417, experiment='t2tChrY-readst2tChrY-SVs-a0.99-d0.1-l10000', tool='minimap', read_name='S1_232', GT_ref='NC_060948.1', GT_from=50999911, GT_to=51009290, GT_strand='-', is_correct=True, start_diff=-1703468, end_diff=-1703802, read_sv='multi')"
      ]
     },
     "metadata": {},
     "output_type": "display_data"
    },
    {
     "data": {
      "text/plain": [
       "'           GT from 50999911 to 51009290'"
      ]
     },
     "metadata": {},
     "output_type": "display_data"
    },
    {
     "data": {
      "text/plain": [
       "'       target from 49296443 to 49305488'"
      ]
     },
     "metadata": {},
     "output_type": "display_data"
    },
    {
     "data": {
      "text/plain": [
       "'    GT_labels from 49296229 to 49305607'"
      ]
     },
     "metadata": {},
     "output_type": "display_data"
    },
    {
     "data": {
      "text/plain": [
       "'target_labels from 49296444 to 49305488'"
      ]
     },
     "metadata": {},
     "output_type": "display_data"
    },
    {
     "data": {
      "text/plain": [
       "'9045 >?= 8441.1 = 0.9 * union 9379 => True'"
      ]
     },
     "metadata": {},
     "output_type": "display_data"
    },
    {
     "data": {
      "text/plain": [
       "Pandas(Index=203, query_name='S1_234!NC_060948.1!58599468!58612321!-', query_length=12893, query_start=378, query_end=12853, strand='-', target_name='NC_060948.1', target_length=62460029, target_start=56661592, target_end=56674034, residue_matches=1738, alignment_block_length=12482, mapping_quality=23, tp='P', cm=128, s1=1725, s2=767, dv=0.0216, rl=10193, experiment='t2tChrY-readst2tChrY-SVs-a0.99-d0.1-l10000', tool='minimap', read_name='S1_234', GT_ref='NC_060948.1', GT_from=58599468, GT_to=58612321, GT_strand='-', is_correct=True, start_diff=-1937876, end_diff=-1938287, read_sv='INS')"
      ]
     },
     "metadata": {},
     "output_type": "display_data"
    },
    {
     "data": {
      "text/plain": [
       "'           GT from 58599468 to 58612321'"
      ]
     },
     "metadata": {},
     "output_type": "display_data"
    },
    {
     "data": {
      "text/plain": [
       "'       target from 56661592 to 56674034'"
      ]
     },
     "metadata": {},
     "output_type": "display_data"
    },
    {
     "data": {
      "text/plain": [
       "'    GT_labels from 56661553 to 56674405'"
      ]
     },
     "metadata": {},
     "output_type": "display_data"
    },
    {
     "data": {
      "text/plain": [
       "'target_labels from 56661593 to 56674034'"
      ]
     },
     "metadata": {},
     "output_type": "display_data"
    },
    {
     "data": {
      "text/plain": [
       "'12442 >?= 11567.7 = 0.9 * union 12853 => True'"
      ]
     },
     "metadata": {},
     "output_type": "display_data"
    },
    {
     "data": {
      "text/plain": [
       "Pandas(Index=205, query_name='S1_236!NC_060948.1!33016288!33029435!-', query_length=13198, query_start=169, query_end=13114, strand='-', target_name='NC_060948.1', target_length=62460029, target_start=31895617, target_end=31908370, residue_matches=3309, alignment_block_length=12962, mapping_quality=40, tp='P', cm=250, s1=3266, s2=1731, dv=0.0097, rl=9130, experiment='t2tChrY-readst2tChrY-SVs-a0.99-d0.1-l10000', tool='minimap', read_name='S1_236', GT_ref='NC_060948.1', GT_from=33016288, GT_to=33029435, GT_strand='-', is_correct=True, start_diff=-1120671, end_diff=-1121065, read_sv='DUP')"
      ]
     },
     "metadata": {},
     "output_type": "display_data"
    },
    {
     "data": {
      "text/plain": [
       "'           GT from 33016288 to 33029435'"
      ]
     },
     "metadata": {},
     "output_type": "display_data"
    },
    {
     "data": {
      "text/plain": [
       "'       target from 31895617 to 31908370'"
      ]
     },
     "metadata": {},
     "output_type": "display_data"
    },
    {
     "data": {
      "text/plain": [
       "'    GT_labels from -65254 to 31908537'"
      ]
     },
     "metadata": {},
     "output_type": "display_data"
    },
    {
     "data": {
      "text/plain": [
       "'target_labels from 31895618 to 31908370'"
      ]
     },
     "metadata": {},
     "output_type": "display_data"
    },
    {
     "data": {
      "text/plain": [
       "'12753 >?= 11832.300000000001 = 0.9 * union 13147 => True'"
      ]
     },
     "metadata": {},
     "output_type": "display_data"
    },
    {
     "data": {
      "text/plain": [
       "Pandas(Index=206, query_name='S1_237!NC_060948.1!31467638!31481669!+', query_length=14073, query_start=172, query_end=13990, strand='+', target_name='NC_060948.1', target_length=62460029, target_start=30404922, target_end=30417912, residue_matches=1118, alignment_block_length=13824, mapping_quality=0, tp='P', cm=69, s1=977, s2=964, dv=0.038, rl=11625, experiment='t2tChrY-readst2tChrY-SVs-a0.99-d0.1-l10000', tool='minimap', read_name='S1_237', GT_ref='NC_060948.1', GT_from=31467638, GT_to=31481669, GT_strand='+', is_correct=True, start_diff=-1062716, end_diff=-1063757, read_sv='INS')"
      ]
     },
     "metadata": {},
     "output_type": "display_data"
    },
    {
     "data": {
      "text/plain": [
       "'           GT from 31467638 to 31481669'"
      ]
     },
     "metadata": {},
     "output_type": "display_data"
    },
    {
     "data": {
      "text/plain": [
       "'       target from 30404922 to 30417912'"
      ]
     },
     "metadata": {},
     "output_type": "display_data"
    },
    {
     "data": {
      "text/plain": [
       "'    GT_labels from 30404750 to 30417995'"
      ]
     },
     "metadata": {},
     "output_type": "display_data"
    },
    {
     "data": {
      "text/plain": [
       "'target_labels from 30404923 to 30417912'"
      ]
     },
     "metadata": {},
     "output_type": "display_data"
    },
    {
     "data": {
      "text/plain": [
       "'12990 >?= 12627.9 = 0.9 * union 14031 => True'"
      ]
     },
     "metadata": {},
     "output_type": "display_data"
    },
    {
     "data": {
      "text/plain": [
       "Pandas(Index=210, query_name='S1_240!NC_060948.1!26431773!26440731!-', query_length=8977, query_start=18, query_end=8959, strand='-', target_name='NC_060948.1', target_length=62460029, target_start=25512503, target_end=25521172, residue_matches=7514, alignment_block_length=8963, mapping_quality=0, tp='P', cm=710, s1=7464, s2=7447, dv=0.0003, rl=0, experiment='t2tChrY-readst2tChrY-SVs-a0.99-d0.1-l10000', tool='minimap', read_name='S1_240', GT_ref='NC_060948.1', GT_from=26431773, GT_to=26440731, GT_strand='-', is_correct=True, start_diff=-919270, end_diff=-919559, read_sv='INS')"
      ]
     },
     "metadata": {},
     "output_type": "display_data"
    },
    {
     "data": {
      "text/plain": [
       "'           GT from 26431773 to 26440731'"
      ]
     },
     "metadata": {},
     "output_type": "display_data"
    },
    {
     "data": {
      "text/plain": [
       "'       target from 25512503 to 25521172'"
      ]
     },
     "metadata": {},
     "output_type": "display_data"
    },
    {
     "data": {
      "text/plain": [
       "'    GT_labels from -51917 to 25521189'"
      ]
     },
     "metadata": {},
     "output_type": "display_data"
    },
    {
     "data": {
      "text/plain": [
       "'target_labels from 25512504 to 25521172'"
      ]
     },
     "metadata": {},
     "output_type": "display_data"
    },
    {
     "data": {
      "text/plain": [
       "'8669 >?= 8062.2 = 0.9 * union 8958 => True'"
      ]
     },
     "metadata": {},
     "output_type": "display_data"
    },
    {
     "data": {
      "text/plain": [
       "Pandas(Index=217, query_name='S1_246!NC_060948.1!1877651!1889686!-', query_length=12069, query_start=9, query_end=12065, strand='-', target_name='NC_060948.1', target_length=62460029, target_start=1822604, target_end=1833722, residue_matches=9724, alignment_block_length=12077, mapping_quality=60, tp='P', cm=926, s1=9574, s2=105, dv=0.0051, rl=223, experiment='t2tChrY-readst2tChrY-SVs-a0.99-d0.1-l10000', tool='minimap', read_name='S1_246', GT_ref='NC_060948.1', GT_from=1877651, GT_to=1889686, GT_strand='-', is_correct=True, start_diff=-55047, end_diff=-55964, read_sv='multi')"
      ]
     },
     "metadata": {},
     "output_type": "display_data"
    },
    {
     "data": {
      "text/plain": [
       "'           GT from 1877651 to 1889686'"
      ]
     },
     "metadata": {},
     "output_type": "display_data"
    },
    {
     "data": {
      "text/plain": [
       "'       target from 1822604 to 1833722'"
      ]
     },
     "metadata": {},
     "output_type": "display_data"
    },
    {
     "data": {
      "text/plain": [
       "'    GT_labels from 1822601 to 1833731'"
      ]
     },
     "metadata": {},
     "output_type": "display_data"
    },
    {
     "data": {
      "text/plain": [
       "'target_labels from 1822605 to 1833722'"
      ]
     },
     "metadata": {},
     "output_type": "display_data"
    },
    {
     "data": {
      "text/plain": [
       "'11118 >?= 10831.5 = 0.9 * union 12035 => True'"
      ]
     },
     "metadata": {},
     "output_type": "display_data"
    },
    {
     "data": {
      "text/plain": [
       "Pandas(Index=219, query_name='S1_248!NC_060948.1!56537021!56550487!-', query_length=13518, query_start=106, query_end=12989, strand='-', target_name='NC_060948.1', target_length=62460029, target_start=54654591, target_end=54667425, residue_matches=1200, alignment_block_length=12891, mapping_quality=7, tp='P', cm=83, s1=1182, s2=837, dv=0.0293, rl=11317, experiment='t2tChrY-readst2tChrY-SVs-a0.99-d0.1-l10000', tool='minimap', read_name='S1_248', GT_ref='NC_060948.1', GT_from=56537021, GT_to=56550487, GT_strand='-', is_correct=True, start_diff=-1882430, end_diff=-1883062, read_sv='INV')"
      ]
     },
     "metadata": {},
     "output_type": "display_data"
    },
    {
     "data": {
      "text/plain": [
       "'           GT from 56537021 to 56550487'"
      ]
     },
     "metadata": {},
     "output_type": "display_data"
    },
    {
     "data": {
      "text/plain": [
       "'       target from 54654591 to 54667425'"
      ]
     },
     "metadata": {},
     "output_type": "display_data"
    },
    {
     "data": {
      "text/plain": [
       "'    GT_labels from 54654065 to 54667530'"
      ]
     },
     "metadata": {},
     "output_type": "display_data"
    },
    {
     "data": {
      "text/plain": [
       "'target_labels from 54654592 to 54667425'"
      ]
     },
     "metadata": {},
     "output_type": "display_data"
    },
    {
     "data": {
      "text/plain": [
       "'12834 >?= 12119.4 = 0.9 * union 13466 => True'"
      ]
     },
     "metadata": {},
     "output_type": "display_data"
    },
    {
     "data": {
      "text/plain": [
       "Pandas(Index=225, query_name='S1_253!NC_060948.1!15601156!15613115!+', query_length=12004, query_start=6, query_end=11999, strand='+', target_name='NC_060948.1', target_length=62460029, target_start=15049976, target_end=15061924, residue_matches=10193, alignment_block_length=12021, mapping_quality=60, tp='P', cm=956, s1=10182, s2=384, dv=0.0004, rl=19, experiment='t2tChrY-readst2tChrY-SVs-a0.99-d0.1-l10000', tool='minimap', read_name='S1_253', GT_ref='NC_060948.1', GT_from=15601156, GT_to=15613115, GT_strand='+', is_correct=True, start_diff=-551180, end_diff=-551191, read_sv='INV')"
      ]
     },
     "metadata": {},
     "output_type": "display_data"
    },
    {
     "data": {
      "text/plain": [
       "'           GT from 15601156 to 15613115'"
      ]
     },
     "metadata": {},
     "output_type": "display_data"
    },
    {
     "data": {
      "text/plain": [
       "'       target from 15049976 to 15061924'"
      ]
     },
     "metadata": {},
     "output_type": "display_data"
    },
    {
     "data": {
      "text/plain": [
       "'    GT_labels from 15049971 to 15061929'"
      ]
     },
     "metadata": {},
     "output_type": "display_data"
    },
    {
     "data": {
      "text/plain": [
       "'target_labels from 15049977 to 15061924'"
      ]
     },
     "metadata": {},
     "output_type": "display_data"
    },
    {
     "data": {
      "text/plain": [
       "'11948 >?= 10763.1 = 0.9 * union 11959 => True'"
      ]
     },
     "metadata": {},
     "output_type": "display_data"
    },
    {
     "data": {
      "text/plain": [
       "Pandas(Index=231, query_name='S1_256!NC_060948.1!27406641!27414491!-', query_length=7894, query_start=337, query_end=7880, strand='-', target_name='NC_060948.1', target_length=62460029, target_start=26468569, target_end=26476071, residue_matches=6383, alignment_block_length=7552, mapping_quality=0, tp='P', cm=590, s1=6374, s2=6374, dv=0.0005, rl=19, experiment='t2tChrY-readst2tChrY-SVs-a0.99-d0.1-l10000', tool='minimap', read_name='S1_256', GT_ref='NC_060948.1', GT_from=27406641, GT_to=27414491, GT_strand='-', is_correct=True, start_diff=-938072, end_diff=-938420, read_sv='DEL')"
      ]
     },
     "metadata": {},
     "output_type": "display_data"
    },
    {
     "data": {
      "text/plain": [
       "'           GT from 27406641 to 27414491'"
      ]
     },
     "metadata": {},
     "output_type": "display_data"
    },
    {
     "data": {
      "text/plain": [
       "'       target from 26468569 to 26476071'"
      ]
     },
     "metadata": {},
     "output_type": "display_data"
    },
    {
     "data": {
      "text/plain": [
       "'    GT_labels from 26468557 to 26476079'"
      ]
     },
     "metadata": {},
     "output_type": "display_data"
    },
    {
     "data": {
      "text/plain": [
       "'target_labels from 26468570 to 26476071'"
      ]
     },
     "metadata": {},
     "output_type": "display_data"
    },
    {
     "data": {
      "text/plain": [
       "'7502 >?= 7065.0 = 0.9 * union 7850 => True'"
      ]
     },
     "metadata": {},
     "output_type": "display_data"
    },
    {
     "data": {
      "text/plain": [
       "Pandas(Index=232, query_name='S1_256!NC_060948.1!27406641!27414491!-', query_length=7894, query_start=14, query_end=261, strand='-', target_name='NC_060948.1', target_length=62460029, target_start=24855387, target_end=24855633, residue_matches=216, alignment_block_length=247, mapping_quality=0, tp='P', cm=19, s1=211, s2=211, dv=0.0027, rl=19, experiment='t2tChrY-readst2tChrY-SVs-a0.99-d0.1-l10000', tool='minimap', read_name='S1_256', GT_ref='NC_060948.1', GT_from=27406641, GT_to=27414491, GT_strand='-', is_correct=False, start_diff=-2551254, end_diff=-2558858, read_sv='DEL')"
      ]
     },
     "metadata": {},
     "output_type": "display_data"
    },
    {
     "data": {
      "text/plain": [
       "'           GT from 27406641 to 27414491'"
      ]
     },
     "metadata": {},
     "output_type": "display_data"
    },
    {
     "data": {
      "text/plain": [
       "'       target from 24855387 to 24855633'"
      ]
     },
     "metadata": {},
     "output_type": "display_data"
    },
    {
     "data": {
      "text/plain": [
       "'    GT_labels from 26468557 to 26476079'"
      ]
     },
     "metadata": {},
     "output_type": "display_data"
    },
    {
     "data": {
      "text/plain": [
       "'target_labels from 24855388 to 24855633'"
      ]
     },
     "metadata": {},
     "output_type": "display_data"
    },
    {
     "data": {
      "text/plain": [
       "'0 >?= 7286.400000000001 = 0.9 * union 8096 => False'"
      ]
     },
     "metadata": {},
     "output_type": "display_data"
    },
    {
     "data": {
      "text/plain": [
       "Pandas(Index=236, query_name='S1_26!NC_060948.1!1516555!1526974!-', query_length=10447, query_start=928, query_end=10431, strand='-', target_name='NC_060948.1', target_length=62460029, target_start=1476825, target_end=1486302, residue_matches=8062, alignment_block_length=9527, mapping_quality=60, tp='P', cm=746, s1=8057, s2=100, dv=0.0018, rl=670, experiment='t2tChrY-readst2tChrY-SVs-a0.99-d0.1-l10000', tool='minimap', read_name='S1_26', GT_ref='NC_060948.1', GT_from=1516555, GT_to=1526974, GT_strand='-', is_correct=True, start_diff=-39730, end_diff=-40672, read_sv='INV')"
      ]
     },
     "metadata": {},
     "output_type": "display_data"
    },
    {
     "data": {
      "text/plain": [
       "'           GT from 1516555 to 1526974'"
      ]
     },
     "metadata": {},
     "output_type": "display_data"
    },
    {
     "data": {
      "text/plain": [
       "'       target from 1476825 to 1486302'"
      ]
     },
     "metadata": {},
     "output_type": "display_data"
    },
    {
     "data": {
      "text/plain": [
       "'    GT_labels from 1476810 to 1486311'"
      ]
     },
     "metadata": {},
     "output_type": "display_data"
    },
    {
     "data": {
      "text/plain": [
       "'target_labels from 1476826 to 1486302'"
      ]
     },
     "metadata": {},
     "output_type": "display_data"
    },
    {
     "data": {
      "text/plain": [
       "'9477 >?= 9377.1 = 0.9 * union 10419 => True'"
      ]
     },
     "metadata": {},
     "output_type": "display_data"
    },
    {
     "data": {
      "text/plain": [
       "Pandas(Index=237, query_name='S1_26!NC_060948.1!1516555!1526974!-', query_length=10447, query_start=381, query_end=852, strand='-', target_name='NC_060948.1', target_length=62460029, target_start=1485546, target_end=1486016, residue_matches=385, alignment_block_length=472, mapping_quality=60, tp='P', cm=31, s1=382, s2=64, dv=0.0064, rl=670, experiment='t2tChrY-readst2tChrY-SVs-a0.99-d0.1-l10000', tool='minimap', read_name='S1_26', GT_ref='NC_060948.1', GT_from=1516555, GT_to=1526974, GT_strand='-', is_correct=False, start_diff=-31009, end_diff=-40958, read_sv='INV')"
      ]
     },
     "metadata": {},
     "output_type": "display_data"
    },
    {
     "data": {
      "text/plain": [
       "'           GT from 1516555 to 1526974'"
      ]
     },
     "metadata": {},
     "output_type": "display_data"
    },
    {
     "data": {
      "text/plain": [
       "'       target from 1485546 to 1486016'"
      ]
     },
     "metadata": {},
     "output_type": "display_data"
    },
    {
     "data": {
      "text/plain": [
       "'    GT_labels from 1476810 to 1486311'"
      ]
     },
     "metadata": {},
     "output_type": "display_data"
    },
    {
     "data": {
      "text/plain": [
       "'target_labels from 1485547 to 1486016'"
      ]
     },
     "metadata": {},
     "output_type": "display_data"
    },
    {
     "data": {
      "text/plain": [
       "'470 >?= 9377.1 = 0.9 * union 10419 => False'"
      ]
     },
     "metadata": {},
     "output_type": "display_data"
    },
    {
     "data": {
      "text/plain": [
       "Pandas(Index=238, query_name='S1_26!NC_060948.1!1516555!1526974!-', query_length=10447, query_start=93, query_end=194, strand='-', target_name='NC_060948.1', target_length=62460029, target_start=1486201, target_end=1486302, residue_matches=90, alignment_block_length=101, mapping_quality=35, tp='P', cm=8, s1=89, s2=67, dv=0.0117, rl=670, experiment='t2tChrY-readst2tChrY-SVs-a0.99-d0.1-l10000', tool='minimap', read_name='S1_26', GT_ref='NC_060948.1', GT_from=1516555, GT_to=1526974, GT_strand='-', is_correct=False, start_diff=-30354, end_diff=-40672, read_sv='INV')"
      ]
     },
     "metadata": {},
     "output_type": "display_data"
    },
    {
     "data": {
      "text/plain": [
       "'           GT from 1516555 to 1526974'"
      ]
     },
     "metadata": {},
     "output_type": "display_data"
    },
    {
     "data": {
      "text/plain": [
       "'       target from 1486201 to 1486302'"
      ]
     },
     "metadata": {},
     "output_type": "display_data"
    },
    {
     "data": {
      "text/plain": [
       "'    GT_labels from 1476810 to 1486311'"
      ]
     },
     "metadata": {},
     "output_type": "display_data"
    },
    {
     "data": {
      "text/plain": [
       "'target_labels from 1486202 to 1486302'"
      ]
     },
     "metadata": {},
     "output_type": "display_data"
    },
    {
     "data": {
      "text/plain": [
       "'101 >?= 9377.1 = 0.9 * union 10419 => False'"
      ]
     },
     "metadata": {},
     "output_type": "display_data"
    },
    {
     "data": {
      "text/plain": [
       "Pandas(Index=239, query_name='S1_260!NC_060948.1!22845346!22856033!-', query_length=10701, query_start=12, query_end=10691, strand='-', target_name='NC_060948.1', target_length=62460029, target_start=22050612, target_end=22061277, residue_matches=9343, alignment_block_length=10713, mapping_quality=60, tp='P', cm=860, s1=9333, s2=369, dv=0.0005, rl=68, experiment='t2tChrY-readst2tChrY-SVs-a0.99-d0.1-l10000', tool='minimap', read_name='S1_260', GT_ref='NC_060948.1', GT_from=22845346, GT_to=22856033, GT_strand='-', is_correct=True, start_diff=-794734, end_diff=-794756, read_sv='INS')"
      ]
     },
     "metadata": {},
     "output_type": "display_data"
    },
    {
     "data": {
      "text/plain": [
       "'           GT from 22845346 to 22856033'"
      ]
     },
     "metadata": {},
     "output_type": "display_data"
    },
    {
     "data": {
      "text/plain": [
       "'       target from 22050612 to 22061277'"
      ]
     },
     "metadata": {},
     "output_type": "display_data"
    },
    {
     "data": {
      "text/plain": [
       "'    GT_labels from 22050603 to 22061289'"
      ]
     },
     "metadata": {},
     "output_type": "display_data"
    },
    {
     "data": {
      "text/plain": [
       "'target_labels from 22050613 to 22061277'"
      ]
     },
     "metadata": {},
     "output_type": "display_data"
    },
    {
     "data": {
      "text/plain": [
       "'10665 >?= 9618.300000000001 = 0.9 * union 10687 => True'"
      ]
     },
     "metadata": {},
     "output_type": "display_data"
    },
    {
     "data": {
      "text/plain": [
       "Pandas(Index=241, query_name='S1_262!NC_060948.1!11145144!11155826!-', query_length=10719, query_start=1, query_end=10707, strand='-', target_name='NC_060948.1', target_length=62460029, target_start=10743494, target_end=10752955, residue_matches=7712, alignment_block_length=10726, mapping_quality=1, tp='P', cm=687, s1=7509, s2=7483, dv=0.0072, rl=838, experiment='t2tChrY-readst2tChrY-SVs-a0.99-d0.1-l10000', tool='minimap', read_name='S1_262', GT_ref='NC_060948.1', GT_from=11145144, GT_to=11155826, GT_strand='-', is_correct=False, start_diff=-401650, end_diff=-402871, read_sv='DUP')"
      ]
     },
     "metadata": {},
     "output_type": "display_data"
    },
    {
     "data": {
      "text/plain": [
       "'           GT from 11145144 to 11155826'"
      ]
     },
     "metadata": {},
     "output_type": "display_data"
    },
    {
     "data": {
      "text/plain": [
       "'       target from 10743494 to 10752955'"
      ]
     },
     "metadata": {},
     "output_type": "display_data"
    },
    {
     "data": {
      "text/plain": [
       "'    GT_labels from 10743483 to 10752956'"
      ]
     },
     "metadata": {},
     "output_type": "display_data"
    },
    {
     "data": {
      "text/plain": [
       "'target_labels from 10743495 to 10752955'"
      ]
     },
     "metadata": {},
     "output_type": "display_data"
    },
    {
     "data": {
      "text/plain": [
       "'9461 >?= 9613.800000000001 = 0.9 * union 10682 => False'"
      ]
     },
     "metadata": {},
     "output_type": "display_data"
    },
    {
     "data": {
      "text/plain": [
       "Pandas(Index=243, query_name='S1_264!NC_060948.1!863842!885058!-', query_length=21263, query_start=15, query_end=21262, strand='-', target_name='NC_060948.1', target_length=62460029, target_start=837506, target_end=858706, residue_matches=17904, alignment_block_length=21299, mapping_quality=60, tp='P', cm=1680, s1=17886, s2=214, dv=0.0011, rl=928, experiment='t2tChrY-readst2tChrY-SVs-a0.99-d0.1-l10000', tool='minimap', read_name='S1_264', GT_ref='NC_060948.1', GT_from=863842, GT_to=885058, GT_strand='-', is_correct=True, start_diff=-26336, end_diff=-26352, read_sv='multi')"
      ]
     },
     "metadata": {},
     "output_type": "display_data"
    },
    {
     "data": {
      "text/plain": [
       "'           GT from 863842 to 885058'"
      ]
     },
     "metadata": {},
     "output_type": "display_data"
    },
    {
     "data": {
      "text/plain": [
       "'       target from 837506 to 858706'"
      ]
     },
     "metadata": {},
     "output_type": "display_data"
    },
    {
     "data": {
      "text/plain": [
       "'    GT_labels from 837506 to 858721'"
      ]
     },
     "metadata": {},
     "output_type": "display_data"
    },
    {
     "data": {
      "text/plain": [
       "'target_labels from 837507 to 858706'"
      ]
     },
     "metadata": {},
     "output_type": "display_data"
    },
    {
     "data": {
      "text/plain": [
       "'21200 >?= 19094.4 = 0.9 * union 21216 => True'"
      ]
     },
     "metadata": {},
     "output_type": "display_data"
    },
    {
     "data": {
      "text/plain": [
       "Pandas(Index=246, query_name='S1_267!NC_060948.1!8770175!8786661!+', query_length=16536, query_start=10, query_end=16522, strand='+', target_name='NC_060948.1', target_length=62460029, target_start=8448120, target_end=8464543, residue_matches=14459, alignment_block_length=16541, mapping_quality=60, tp='P', cm=1346, s1=14442, s2=585, dv=0.0002, rl=19, experiment='t2tChrY-readst2tChrY-SVs-a0.99-d0.1-l10000', tool='minimap', read_name='S1_267', GT_ref='NC_060948.1', GT_from=8770175, GT_to=8786661, GT_strand='+', is_correct=True, start_diff=-322055, end_diff=-322118, read_sv='INS')"
      ]
     },
     "metadata": {},
     "output_type": "display_data"
    },
    {
     "data": {
      "text/plain": [
       "'           GT from 8770175 to 8786661'"
      ]
     },
     "metadata": {},
     "output_type": "display_data"
    },
    {
     "data": {
      "text/plain": [
       "'       target from 8448120 to 8464543'"
      ]
     },
     "metadata": {},
     "output_type": "display_data"
    },
    {
     "data": {
      "text/plain": [
       "'    GT_labels from -18656 to 8464557'"
      ]
     },
     "metadata": {},
     "output_type": "display_data"
    },
    {
     "data": {
      "text/plain": [
       "'target_labels from 8448121 to 8464543'"
      ]
     },
     "metadata": {},
     "output_type": "display_data"
    },
    {
     "data": {
      "text/plain": [
       "'16423 >?= 14837.4 = 0.9 * union 16486 => True'"
      ]
     },
     "metadata": {},
     "output_type": "display_data"
    },
    {
     "data": {
      "text/plain": [
       "Pandas(Index=248, query_name='S1_269!NC_060948.1!60499826!60506708!+', query_length=6898, query_start=73, query_end=6835, strand='+', target_name='NC_060948.1', target_length=62460029, target_start=59325792, target_end=59332539, residue_matches=992, alignment_block_length=6767, mapping_quality=0, tp='P', cm=76, s1=989, s2=989, dv=0.0207, rl=5628, experiment='t2tChrY-readst2tChrY-SVs-a0.99-d0.1-l10000', tool='minimap', read_name='S1_269', GT_ref='NC_060948.1', GT_from=60499826, GT_to=60506708, GT_strand='+', is_correct=False, start_diff=-1174034, end_diff=-1174169, read_sv='DEL')"
      ]
     },
     "metadata": {},
     "output_type": "display_data"
    },
    {
     "data": {
      "text/plain": [
       "'           GT from 60499826 to 60506708'"
      ]
     },
     "metadata": {},
     "output_type": "display_data"
    },
    {
     "data": {
      "text/plain": [
       "'       target from 59325792 to 59332539'"
      ]
     },
     "metadata": {},
     "output_type": "display_data"
    },
    {
     "data": {
      "text/plain": [
       "'    GT_labels from 58478035 to 58484916'"
      ]
     },
     "metadata": {},
     "output_type": "display_data"
    },
    {
     "data": {
      "text/plain": [
       "'target_labels from 59325793 to 59332539'"
      ]
     },
     "metadata": {},
     "output_type": "display_data"
    },
    {
     "data": {
      "text/plain": [
       "'0 >?= 12266.1 = 0.9 * union 13629 => False'"
      ]
     },
     "metadata": {},
     "output_type": "display_data"
    },
    {
     "data": {
      "text/plain": [
       "Pandas(Index=250, query_name='S1_270!NC_060948.1!15768215!15775002!-', query_length=6795, query_start=6, query_end=6792, strand='-', target_name='NC_060948.1', target_length=62460029, target_start=15208610, target_end=15215388, residue_matches=6091, alignment_block_length=6805, mapping_quality=60, tp='P', cm=579, s1=6085, s2=49, dv=0.0005, rl=0, experiment='t2tChrY-readst2tChrY-SVs-a0.99-d0.1-l10000', tool='minimap', read_name='S1_270', GT_ref='NC_060948.1', GT_from=15768215, GT_to=15775002, GT_strand='-', is_correct=True, start_diff=-559605, end_diff=-559614, read_sv='DEL')"
      ]
     },
     "metadata": {},
     "output_type": "display_data"
    },
    {
     "data": {
      "text/plain": [
       "'           GT from 15768215 to 15775002'"
      ]
     },
     "metadata": {},
     "output_type": "display_data"
    },
    {
     "data": {
      "text/plain": [
       "'       target from 15208610 to 15215388'"
      ]
     },
     "metadata": {},
     "output_type": "display_data"
    },
    {
     "data": {
      "text/plain": [
       "'    GT_labels from 15208608 to 15215394'"
      ]
     },
     "metadata": {},
     "output_type": "display_data"
    },
    {
     "data": {
      "text/plain": [
       "'target_labels from 15208611 to 15215388'"
      ]
     },
     "metadata": {},
     "output_type": "display_data"
    },
    {
     "data": {
      "text/plain": [
       "'6778 >?= 6108.3 = 0.9 * union 6787 => True'"
      ]
     },
     "metadata": {},
     "output_type": "display_data"
    },
    {
     "data": {
      "text/plain": [
       "Pandas(Index=255, query_name='S1_273!NC_060948.1!58081767!58097737!+', query_length=16032, query_start=14, query_end=15872, strand='+', target_name='NC_060948.1', target_length=62460029, target_start=56155812, target_end=56171608, residue_matches=2079, alignment_block_length=15875, mapping_quality=31, tp='P', cm=149, s1=2050, s2=580, dv=0.0265, rl=12382, experiment='t2tChrY-readst2tChrY-SVs-a0.99-d0.1-l10000', tool='minimap', read_name='S1_273', GT_ref='NC_060948.1', GT_from=58081767, GT_to=58097737, GT_strand='+', is_correct=True, start_diff=-1925955, end_diff=-1926129, read_sv='multi')"
      ]
     },
     "metadata": {},
     "output_type": "display_data"
    },
    {
     "data": {
      "text/plain": [
       "'           GT from 58081767 to 58097737'"
      ]
     },
     "metadata": {},
     "output_type": "display_data"
    },
    {
     "data": {
      "text/plain": [
       "'       target from 56155812 to 56171608'"
      ]
     },
     "metadata": {},
     "output_type": "display_data"
    },
    {
     "data": {
      "text/plain": [
       "'    GT_labels from 56155799 to 56171768'"
      ]
     },
     "metadata": {},
     "output_type": "display_data"
    },
    {
     "data": {
      "text/plain": [
       "'target_labels from 56155813 to 56171608'"
      ]
     },
     "metadata": {},
     "output_type": "display_data"
    },
    {
     "data": {
      "text/plain": [
       "'15796 >?= 14373.0 = 0.9 * union 15970 => True'"
      ]
     },
     "metadata": {},
     "output_type": "display_data"
    },
    {
     "data": {
      "text/plain": [
       "Pandas(Index=256, query_name='S1_274!NC_060948.1!10436134!10445673!-', query_length=9550, query_start=1423, query_end=9532, strand='-', target_name='NC_060948.1', target_length=62460029, target_start=10067114, target_end=10074852, residue_matches=6764, alignment_block_length=8131, mapping_quality=0, tp='P', cm=631, s1=6698, s2=6698, dv=0.0007, rl=23, experiment='t2tChrY-readst2tChrY-SVs-a0.99-d0.1-l10000', tool='minimap', read_name='S1_274', GT_ref='NC_060948.1', GT_from=10436134, GT_to=10445673, GT_strand='-', is_correct=False, start_diff=-369020, end_diff=-370821, read_sv='INS')"
      ]
     },
     "metadata": {},
     "output_type": "display_data"
    },
    {
     "data": {
      "text/plain": [
       "'           GT from 10436134 to 10445673'"
      ]
     },
     "metadata": {},
     "output_type": "display_data"
    },
    {
     "data": {
      "text/plain": [
       "'       target from 10067114 to 10074852'"
      ]
     },
     "metadata": {},
     "output_type": "display_data"
    },
    {
     "data": {
      "text/plain": [
       "'    GT_labels from -20600 to 10074858'"
      ]
     },
     "metadata": {},
     "output_type": "display_data"
    },
    {
     "data": {
      "text/plain": [
       "'target_labels from 10067115 to 10074852'"
      ]
     },
     "metadata": {},
     "output_type": "display_data"
    },
    {
     "data": {
      "text/plain": [
       "'7738 >?= 8585.1 = 0.9 * union 9539 => False'"
      ]
     },
     "metadata": {},
     "output_type": "display_data"
    },
    {
     "data": {
      "text/plain": [
       "Pandas(Index=261, query_name='S1_277!NC_060948.1!53874095!53886827!+', query_length=12757, query_start=128, query_end=12697, strand='+', target_name='NC_060948.1', target_length=62460029, target_start=52086968, target_end=52099510, residue_matches=1708, alignment_block_length=12589, mapping_quality=3, tp='P', cm=125, s1=1691, s2=1562, dv=0.0229, rl=10013, experiment='t2tChrY-readst2tChrY-SVs-a0.99-d0.1-l10000', tool='minimap', read_name='S1_277', GT_ref='NC_060948.1', GT_from=53874095, GT_to=53886827, GT_strand='+', is_correct=True, start_diff=-1787127, end_diff=-1787317, read_sv='multi')"
      ]
     },
     "metadata": {},
     "output_type": "display_data"
    },
    {
     "data": {
      "text/plain": [
       "'           GT from 53874095 to 53886827'"
      ]
     },
     "metadata": {},
     "output_type": "display_data"
    },
    {
     "data": {
      "text/plain": [
       "'       target from 52086968 to 52099510'"
      ]
     },
     "metadata": {},
     "output_type": "display_data"
    },
    {
     "data": {
      "text/plain": [
       "'    GT_labels from 52086839 to 52099570'"
      ]
     },
     "metadata": {},
     "output_type": "display_data"
    },
    {
     "data": {
      "text/plain": [
       "'target_labels from 52086969 to 52099510'"
      ]
     },
     "metadata": {},
     "output_type": "display_data"
    },
    {
     "data": {
      "text/plain": [
       "'12542 >?= 11458.800000000001 = 0.9 * union 12732 => True'"
      ]
     },
     "metadata": {},
     "output_type": "display_data"
    },
    {
     "data": {
      "text/plain": [
       "Pandas(Index=262, query_name='S1_278!NC_060948.1!13332658!13343273!-', query_length=10647, query_start=129, query_end=10636, strand='-', target_name='NC_060948.1', target_length=62460029, target_start=12868895, target_end=12879371, residue_matches=8865, alignment_block_length=10535, mapping_quality=60, tp='P', cm=835, s1=8858, s2=88, dv=0.0003, rl=47, experiment='t2tChrY-readst2tChrY-SVs-a0.99-d0.1-l10000', tool='minimap', read_name='S1_278', GT_ref='NC_060948.1', GT_from=13332658, GT_to=13343273, GT_strand='-', is_correct=True, start_diff=-463763, end_diff=-463902, read_sv='DUP')"
      ]
     },
     "metadata": {},
     "output_type": "display_data"
    },
    {
     "data": {
      "text/plain": [
       "'           GT from 13332658 to 13343273'"
      ]
     },
     "metadata": {},
     "output_type": "display_data"
    },
    {
     "data": {
      "text/plain": [
       "'       target from 12868895 to 12879371'"
      ]
     },
     "metadata": {},
     "output_type": "display_data"
    },
    {
     "data": {
      "text/plain": [
       "'    GT_labels from 12868885 to 12880126'"
      ]
     },
     "metadata": {},
     "output_type": "display_data"
    },
    {
     "data": {
      "text/plain": [
       "'target_labels from 12868896 to 12879371'"
      ]
     },
     "metadata": {},
     "output_type": "display_data"
    },
    {
     "data": {
      "text/plain": [
       "'10476 >?= 9553.5 = 0.9 * union 10615 => True'"
      ]
     },
     "metadata": {},
     "output_type": "display_data"
    },
    {
     "data": {
      "text/plain": [
       "Pandas(Index=264, query_name='S1_279!NC_060948.1!11137822!11148174!+', query_length=10370, query_start=30, query_end=10359, strand='+', target_name='NC_060948.1', target_length=62460029, target_start=10736190, target_end=10746501, residue_matches=8763, alignment_block_length=10354, mapping_quality=1, tp='P', cm=796, s1=8759, s2=8732, dv=0.0018, rl=767, experiment='t2tChrY-readst2tChrY-SVs-a0.99-d0.1-l10000', tool='minimap', read_name='S1_279', GT_ref='NC_060948.1', GT_from=11137822, GT_to=11148174, GT_strand='+', is_correct=True, start_diff=-401632, end_diff=-401673, read_sv='DUP')"
      ]
     },
     "metadata": {},
     "output_type": "display_data"
    },
    {
     "data": {
      "text/plain": [
       "'           GT from 11137822 to 11148174'"
      ]
     },
     "metadata": {},
     "output_type": "display_data"
    },
    {
     "data": {
      "text/plain": [
       "'       target from 10736190 to 10746501'"
      ]
     },
     "metadata": {},
     "output_type": "display_data"
    },
    {
     "data": {
      "text/plain": [
       "'    GT_labels from 10736161 to 10746512'"
      ]
     },
     "metadata": {},
     "output_type": "display_data"
    },
    {
     "data": {
      "text/plain": [
       "'target_labels from 10736191 to 10746501'"
      ]
     },
     "metadata": {},
     "output_type": "display_data"
    },
    {
     "data": {
      "text/plain": [
       "'10311 >?= 9316.800000000001 = 0.9 * union 10352 => True'"
      ]
     },
     "metadata": {},
     "output_type": "display_data"
    },
    {
     "data": {
      "text/plain": [
       "Pandas(Index=266, query_name='S1_280!NC_060948.1!15158507!15166691!-', query_length=8219, query_start=30, query_end=8218, strand='-', target_name='NC_060948.1', target_length=62460029, target_start=14614726, target_end=14622957, residue_matches=7312, alignment_block_length=8273, mapping_quality=60, tp='P', cm=714, s1=7292, s2=54, dv=0.0004, rl=19, experiment='t2tChrY-readst2tChrY-SVs-a0.99-d0.1-l10000', tool='minimap', read_name='S1_280', GT_ref='NC_060948.1', GT_from=15158507, GT_to=15166691, GT_strand='-', is_correct=True, start_diff=-543781, end_diff=-543734, read_sv='DEL')"
      ]
     },
     "metadata": {},
     "output_type": "display_data"
    },
    {
     "data": {
      "text/plain": [
       "'           GT from 15158507 to 15166691'"
      ]
     },
     "metadata": {},
     "output_type": "display_data"
    },
    {
     "data": {
      "text/plain": [
       "'       target from 14614726 to 14622957'"
      ]
     },
     "metadata": {},
     "output_type": "display_data"
    },
    {
     "data": {
      "text/plain": [
       "'    GT_labels from 14614726 to 14622986'"
      ]
     },
     "metadata": {},
     "output_type": "display_data"
    },
    {
     "data": {
      "text/plain": [
       "'target_labels from 14614727 to 14622957'"
      ]
     },
     "metadata": {},
     "output_type": "display_data"
    },
    {
     "data": {
      "text/plain": [
       "'8154 >?= 7434.900000000001 = 0.9 * union 8261 => True'"
      ]
     },
     "metadata": {},
     "output_type": "display_data"
    },
    {
     "data": {
      "text/plain": [
       "Pandas(Index=267, query_name='S1_281!NC_060948.1!60352504!60363238!+', query_length=10747, query_start=50, query_end=10523, strand='+', target_name='NC_060948.1', target_length=62460029, target_start=58335925, target_end=58346387, residue_matches=920, alignment_block_length=10489, mapping_quality=0, tp='P', cm=69, s1=908, s2=908, dv=0.0369, rl=8788, experiment='t2tChrY-readst2tChrY-SVs-a0.99-d0.1-l10000', tool='minimap', read_name='S1_281', GT_ref='NC_060948.1', GT_from=60352504, GT_to=60363238, GT_strand='+', is_correct=True, start_diff=-2016579, end_diff=-2016851, read_sv='DEL')"
      ]
     },
     "metadata": {},
     "output_type": "display_data"
    },
    {
     "data": {
      "text/plain": [
       "'           GT from 60352504 to 60363238'"
      ]
     },
     "metadata": {},
     "output_type": "display_data"
    },
    {
     "data": {
      "text/plain": [
       "'       target from 58335925 to 58346387'"
      ]
     },
     "metadata": {},
     "output_type": "display_data"
    },
    {
     "data": {
      "text/plain": [
       "'    GT_labels from 58335876 to 58346609'"
      ]
     },
     "metadata": {},
     "output_type": "display_data"
    },
    {
     "data": {
      "text/plain": [
       "'target_labels from 58335926 to 58346387'"
      ]
     },
     "metadata": {},
     "output_type": "display_data"
    },
    {
     "data": {
      "text/plain": [
       "'10462 >?= 9660.6 = 0.9 * union 10734 => True'"
      ]
     },
     "metadata": {},
     "output_type": "display_data"
    },
    {
     "data": {
      "text/plain": [
       "Pandas(Index=268, query_name='S1_282!NC_060948.1!15882398!15890414!-', query_length=8061, query_start=6, query_end=8013, strand='-', target_name='NC_060948.1', target_length=62460029, target_start=15315822, target_end=15323783, residue_matches=6890, alignment_block_length=8017, mapping_quality=60, tp='P', cm=648, s1=6877, s2=365, dv=0.0004, rl=31, experiment='t2tChrY-readst2tChrY-SVs-a0.99-d0.1-l10000', tool='minimap', read_name='S1_282', GT_ref='NC_060948.1', GT_from=15882398, GT_to=15890414, GT_strand='-', is_correct=True, start_diff=-566576, end_diff=-566631, read_sv='INV')"
      ]
     },
     "metadata": {},
     "output_type": "display_data"
    },
    {
     "data": {
      "text/plain": [
       "'           GT from 15882398 to 15890414'"
      ]
     },
     "metadata": {},
     "output_type": "display_data"
    },
    {
     "data": {
      "text/plain": [
       "'       target from 15315822 to 15323783'"
      ]
     },
     "metadata": {},
     "output_type": "display_data"
    },
    {
     "data": {
      "text/plain": [
       "'    GT_labels from 15315774 to 15323789'"
      ]
     },
     "metadata": {},
     "output_type": "display_data"
    },
    {
     "data": {
      "text/plain": [
       "'target_labels from 15315823 to 15323783'"
      ]
     },
     "metadata": {},
     "output_type": "display_data"
    },
    {
     "data": {
      "text/plain": [
       "'7961 >?= 7214.400000000001 = 0.9 * union 8016 => True'"
      ]
     },
     "metadata": {},
     "output_type": "display_data"
    },
    {
     "data": {
      "text/plain": [
       "Pandas(Index=275, query_name='S1_285!NC_060948.1!23950656!23959352!+', query_length=8708, query_start=2, query_end=8704, strand='+', target_name='NC_060948.1', target_length=62460029, target_start=23127529, target_end=23136219, residue_matches=7308, alignment_block_length=8728, mapping_quality=60, tp='P', cm=687, s1=7301, s2=549, dv=0.0014, rl=65, experiment='t2tChrY-readst2tChrY-SVs-a0.99-d0.1-l10000', tool='minimap', read_name='S1_285', GT_ref='NC_060948.1', GT_from=23950656, GT_to=23959352, GT_strand='+', is_correct=True, start_diff=-823127, end_diff=-823133, read_sv='DEL')"
      ]
     },
     "metadata": {},
     "output_type": "display_data"
    },
    {
     "data": {
      "text/plain": [
       "'           GT from 23950656 to 23959352'"
      ]
     },
     "metadata": {},
     "output_type": "display_data"
    },
    {
     "data": {
      "text/plain": [
       "'       target from 23127529 to 23136219'"
      ]
     },
     "metadata": {},
     "output_type": "display_data"
    },
    {
     "data": {
      "text/plain": [
       "'    GT_labels from 23127528 to 23136223'"
      ]
     },
     "metadata": {},
     "output_type": "display_data"
    },
    {
     "data": {
      "text/plain": [
       "'target_labels from 23127530 to 23136219'"
      ]
     },
     "metadata": {},
     "output_type": "display_data"
    },
    {
     "data": {
      "text/plain": [
       "'8690 >?= 7826.400000000001 = 0.9 * union 8696 => True'"
      ]
     },
     "metadata": {},
     "output_type": "display_data"
    },
    {
     "data": {
      "text/plain": [
       "Pandas(Index=278, query_name='S1_288!NC_060948.1!4374242!4390042!-', query_length=15851, query_start=12, query_end=15828, strand='-', target_name='NC_060948.1', target_length=62460029, target_start=4214644, target_end=4230410, residue_matches=12633, alignment_block_length=15842, mapping_quality=60, tp='P', cm=1196, s1=12621, s2=718, dv=0.0059, rl=114, experiment='t2tChrY-readst2tChrY-SVs-a0.99-d0.1-l10000', tool='minimap', read_name='S1_288', GT_ref='NC_060948.1', GT_from=4374242, GT_to=4390042, GT_strand='-', is_correct=True, start_diff=-159598, end_diff=-159632, read_sv='multi')"
      ]
     },
     "metadata": {},
     "output_type": "display_data"
    },
    {
     "data": {
      "text/plain": [
       "'           GT from 4374242 to 4390042'"
      ]
     },
     "metadata": {},
     "output_type": "display_data"
    },
    {
     "data": {
      "text/plain": [
       "'       target from 4214644 to 4230410'"
      ]
     },
     "metadata": {},
     "output_type": "display_data"
    },
    {
     "data": {
      "text/plain": [
       "'    GT_labels from 4214623 to 4230422'"
      ]
     },
     "metadata": {},
     "output_type": "display_data"
    },
    {
     "data": {
      "text/plain": [
       "'target_labels from 4214645 to 4230410'"
      ]
     },
     "metadata": {},
     "output_type": "display_data"
    },
    {
     "data": {
      "text/plain": [
       "'15766 >?= 14220.0 = 0.9 * union 15800 => True'"
      ]
     },
     "metadata": {},
     "output_type": "display_data"
    },
    {
     "data": {
      "text/plain": [
       "Pandas(Index=279, query_name='S1_289!NC_060948.1!4376938!4389687!+', query_length=12779, query_start=5, query_end=12768, strand='+', target_name='NC_060948.1', target_length=62460029, target_start=4217323, target_end=4230057, residue_matches=10523, alignment_block_length=12791, mapping_quality=60, tp='P', cm=977, s1=10516, s2=653, dv=0.0035, rl=76, experiment='t2tChrY-readst2tChrY-SVs-a0.99-d0.1-l10000', tool='minimap', read_name='S1_289', GT_ref='NC_060948.1', GT_from=4376938, GT_to=4389687, GT_strand='+', is_correct=True, start_diff=-159615, end_diff=-159630, read_sv='multi')"
      ]
     },
     "metadata": {},
     "output_type": "display_data"
    },
    {
     "data": {
      "text/plain": [
       "'           GT from 4376938 to 4389687'"
      ]
     },
     "metadata": {},
     "output_type": "display_data"
    },
    {
     "data": {
      "text/plain": [
       "'       target from 4217323 to 4230057'"
      ]
     },
     "metadata": {},
     "output_type": "display_data"
    },
    {
     "data": {
      "text/plain": [
       "'    GT_labels from 4217319 to 4230067'"
      ]
     },
     "metadata": {},
     "output_type": "display_data"
    },
    {
     "data": {
      "text/plain": [
       "'target_labels from 4217324 to 4230057'"
      ]
     },
     "metadata": {},
     "output_type": "display_data"
    },
    {
     "data": {
      "text/plain": [
       "'12734 >?= 11474.1 = 0.9 * union 12749 => True'"
      ]
     },
     "metadata": {},
     "output_type": "display_data"
    },
    {
     "data": {
      "text/plain": [
       "Pandas(Index=280, query_name='S1_29!NC_060948.1!43342887!43350607!+', query_length=7745, query_start=32, query_end=7531, strand='+', target_name='NC_060948.1', target_length=62460029, target_start=41897801, target_end=41905276, residue_matches=1095, alignment_block_length=7503, mapping_quality=2, tp='P', cm=92, s1=1088, s2=1036, dv=0.0176, rl=6002, experiment='t2tChrY-readst2tChrY-SVs-a0.99-d0.1-l10000', tool='minimap', read_name='S1_29', GT_ref='NC_060948.1', GT_from=43342887, GT_to=43350607, GT_strand='+', is_correct=True, start_diff=-1445086, end_diff=-1445331, read_sv='DUP')"
      ]
     },
     "metadata": {},
     "output_type": "display_data"
    },
    {
     "data": {
      "text/plain": [
       "'           GT from 43342887 to 43350607'"
      ]
     },
     "metadata": {},
     "output_type": "display_data"
    },
    {
     "data": {
      "text/plain": [
       "'       target from 41897801 to 41905276'"
      ]
     },
     "metadata": {},
     "output_type": "display_data"
    },
    {
     "data": {
      "text/plain": [
       "'    GT_labels from 41897770 to 41905489'"
      ]
     },
     "metadata": {},
     "output_type": "display_data"
    },
    {
     "data": {
      "text/plain": [
       "'target_labels from 41897802 to 41905276'"
      ]
     },
     "metadata": {},
     "output_type": "display_data"
    },
    {
     "data": {
      "text/plain": [
       "'7475 >?= 6948.0 = 0.9 * union 7720 => True'"
      ]
     },
     "metadata": {},
     "output_type": "display_data"
    },
    {
     "data": {
      "text/plain": [
       "Pandas(Index=283, query_name='S1_292!NC_060948.1!15880196!15891212!-', query_length=11043, query_start=3, query_end=11026, strand='-', target_name='NC_060948.1', target_length=62460029, target_start=15313588, target_end=15324584, residue_matches=9462, alignment_block_length=11050, mapping_quality=60, tp='P', cm=886, s1=9454, s2=335, dv=0.0001, rl=27, experiment='t2tChrY-readst2tChrY-SVs-a0.99-d0.1-l10000', tool='minimap', read_name='S1_292', GT_ref='NC_060948.1', GT_from=15880196, GT_to=15891212, GT_strand='-', is_correct=True, start_diff=-566608, end_diff=-566628, read_sv='INV')"
      ]
     },
     "metadata": {},
     "output_type": "display_data"
    },
    {
     "data": {
      "text/plain": [
       "'           GT from 15880196 to 15891212'"
      ]
     },
     "metadata": {},
     "output_type": "display_data"
    },
    {
     "data": {
      "text/plain": [
       "'       target from 15313588 to 15324584'"
      ]
     },
     "metadata": {},
     "output_type": "display_data"
    },
    {
     "data": {
      "text/plain": [
       "'    GT_labels from 15313572 to 15324587'"
      ]
     },
     "metadata": {},
     "output_type": "display_data"
    },
    {
     "data": {
      "text/plain": [
       "'target_labels from 15313589 to 15324584'"
      ]
     },
     "metadata": {},
     "output_type": "display_data"
    },
    {
     "data": {
      "text/plain": [
       "'10996 >?= 9914.4 = 0.9 * union 11016 => True'"
      ]
     },
     "metadata": {},
     "output_type": "display_data"
    },
    {
     "data": {
      "text/plain": [
       "Pandas(Index=284, query_name='S1_293!NC_060948.1!56001807!56013068!+', query_length=11285, query_start=13, query_end=11242, strand='+', target_name='NC_060948.1', target_length=62460029, target_start=54135038, target_end=54146244, residue_matches=1464, alignment_block_length=11243, mapping_quality=10, tp='P', cm=107, s1=1453, s2=1066, dv=0.0203, rl=9201, experiment='t2tChrY-readst2tChrY-SVs-a0.99-d0.1-l10000', tool='minimap', read_name='S1_293', GT_ref='NC_060948.1', GT_from=56001807, GT_to=56013068, GT_strand='+', is_correct=True, start_diff=-1866769, end_diff=-1866824, read_sv='INS')"
      ]
     },
     "metadata": {},
     "output_type": "display_data"
    },
    {
     "data": {
      "text/plain": [
       "'           GT from 56001807 to 56013068'"
      ]
     },
     "metadata": {},
     "output_type": "display_data"
    },
    {
     "data": {
      "text/plain": [
       "'       target from 54135038 to 54146244'"
      ]
     },
     "metadata": {},
     "output_type": "display_data"
    },
    {
     "data": {
      "text/plain": [
       "'    GT_labels from 54135026 to 54146286'"
      ]
     },
     "metadata": {},
     "output_type": "display_data"
    },
    {
     "data": {
      "text/plain": [
       "'target_labels from 54135039 to 54146244'"
      ]
     },
     "metadata": {},
     "output_type": "display_data"
    },
    {
     "data": {
      "text/plain": [
       "'11206 >?= 10134.9 = 0.9 * union 11261 => True'"
      ]
     },
     "metadata": {},
     "output_type": "display_data"
    },
    {
     "data": {
      "text/plain": [
       "Pandas(Index=285, query_name='S1_294!NC_060948.1!48884745!48896411!-', query_length=11709, query_start=149, query_end=11582, strand='-', target_name='NC_060948.1', target_length=62460029, target_start=47243402, target_end=47255103, residue_matches=1820, alignment_block_length=11752, mapping_quality=8, tp='P', cm=136, s1=1753, s2=1461, dv=0.0193, rl=8964, experiment='t2tChrY-readst2tChrY-SVs-a0.99-d0.1-l10000', tool='minimap', read_name='S1_294', GT_ref='NC_060948.1', GT_from=48884745, GT_to=48896411, GT_strand='-', is_correct=True, start_diff=-1641343, end_diff=-1641308, read_sv='DEL')"
      ]
     },
     "metadata": {},
     "output_type": "display_data"
    },
    {
     "data": {
      "text/plain": [
       "'           GT from 48884745 to 48896411'"
      ]
     },
     "metadata": {},
     "output_type": "display_data"
    },
    {
     "data": {
      "text/plain": [
       "'       target from 47243402 to 47255103'"
      ]
     },
     "metadata": {},
     "output_type": "display_data"
    },
    {
     "data": {
      "text/plain": [
       "'    GT_labels from 47243278 to 47255252'"
      ]
     },
     "metadata": {},
     "output_type": "display_data"
    },
    {
     "data": {
      "text/plain": [
       "'target_labels from 47243403 to 47255103'"
      ]
     },
     "metadata": {},
     "output_type": "display_data"
    },
    {
     "data": {
      "text/plain": [
       "'11392 >?= 10777.5 = 0.9 * union 11975 => True'"
      ]
     },
     "metadata": {},
     "output_type": "display_data"
    },
    {
     "data": {
      "text/plain": [
       "Pandas(Index=287, query_name='S1_296!NC_060948.1!57389330!57399584!-', query_length=10302, query_start=59, query_end=10287, strand='-', target_name='NC_060948.1', target_length=62460029, target_start=55484895, target_end=55495075, residue_matches=1740, alignment_block_length=10234, mapping_quality=5, tp='P', cm=132, s1=1727, s2=1546, dv=0.0203, rl=7904, experiment='t2tChrY-readst2tChrY-SVs-a0.99-d0.1-l10000', tool='minimap', read_name='S1_296', GT_ref='NC_060948.1', GT_from=57389330, GT_to=57399584, GT_strand='-', is_correct=True, start_diff=-1904435, end_diff=-1904509, read_sv='INS')"
      ]
     },
     "metadata": {},
     "output_type": "display_data"
    },
    {
     "data": {
      "text/plain": [
       "'           GT from 57389330 to 57399584'"
      ]
     },
     "metadata": {},
     "output_type": "display_data"
    },
    {
     "data": {
      "text/plain": [
       "'       target from 55484895 to 55495075'"
      ]
     },
     "metadata": {},
     "output_type": "display_data"
    },
    {
     "data": {
      "text/plain": [
       "'    GT_labels from 55484881 to 55495134'"
      ]
     },
     "metadata": {},
     "output_type": "display_data"
    },
    {
     "data": {
      "text/plain": [
       "'target_labels from 55484896 to 55495075'"
      ]
     },
     "metadata": {},
     "output_type": "display_data"
    },
    {
     "data": {
      "text/plain": [
       "'10180 >?= 9228.6 = 0.9 * union 10254 => True'"
      ]
     },
     "metadata": {},
     "output_type": "display_data"
    },
    {
     "data": {
      "text/plain": [
       "Pandas(Index=288, query_name='S1_297!NC_060948.1!23215089!23226846!+', query_length=11792, query_start=31, query_end=11776, strand='+', target_name='NC_060948.1', target_length=62460029, target_start=22414557, target_end=22426268, residue_matches=10181, alignment_block_length=11771, mapping_quality=2, tp='P', cm=947, s1=10173, s2=10115, dv=0.0008, rl=19, experiment='t2tChrY-readst2tChrY-SVs-a0.99-d0.1-l10000', tool='minimap', read_name='S1_297', GT_ref='NC_060948.1', GT_from=23215089, GT_to=23226846, GT_strand='+', is_correct=True, start_diff=-800532, end_diff=-800578, read_sv='DUP')"
      ]
     },
     "metadata": {},
     "output_type": "display_data"
    },
    {
     "data": {
      "text/plain": [
       "'           GT from 23215089 to 23226846'"
      ]
     },
     "metadata": {},
     "output_type": "display_data"
    },
    {
     "data": {
      "text/plain": [
       "'       target from 22414557 to 22426268'"
      ]
     },
     "metadata": {},
     "output_type": "display_data"
    },
    {
     "data": {
      "text/plain": [
       "'    GT_labels from 22414528 to 22426284'"
      ]
     },
     "metadata": {},
     "output_type": "display_data"
    },
    {
     "data": {
      "text/plain": [
       "'target_labels from 22414558 to 22426268'"
      ]
     },
     "metadata": {},
     "output_type": "display_data"
    },
    {
     "data": {
      "text/plain": [
       "'11711 >?= 10581.300000000001 = 0.9 * union 11757 => True'"
      ]
     },
     "metadata": {},
     "output_type": "display_data"
    },
    {
     "data": {
      "text/plain": [
       "Pandas(Index=291, query_name='S1_3!NC_060948.1!47237716!47251609!+', query_length=13954, query_start=149, query_end=13734, strand='+', target_name='NC_060948.1', target_length=62460029, target_start=45664231, target_end=45677487, residue_matches=1105, alignment_block_length=13878, mapping_quality=4, tp='P', cm=70, s1=950, s2=731, dv=0.0397, rl=11651, experiment='t2tChrY-readst2tChrY-SVs-a0.99-d0.1-l10000', tool='minimap', read_name='S1_3', GT_ref='NC_060948.1', GT_from=47237716, GT_to=47251609, GT_strand='+', is_correct=False, start_diff=-1573485, end_diff=-1574122, read_sv='multi')"
      ]
     },
     "metadata": {},
     "output_type": "display_data"
    },
    {
     "data": {
      "text/plain": [
       "'           GT from 47237716 to 47251609'"
      ]
     },
     "metadata": {},
     "output_type": "display_data"
    },
    {
     "data": {
      "text/plain": [
       "'       target from 45664231 to 45677487'"
      ]
     },
     "metadata": {},
     "output_type": "display_data"
    },
    {
     "data": {
      "text/plain": [
       "'    GT_labels from 45664083 to 45674147'"
      ]
     },
     "metadata": {},
     "output_type": "display_data"
    },
    {
     "data": {
      "text/plain": [
       "'target_labels from 45664232 to 45677487'"
      ]
     },
     "metadata": {},
     "output_type": "display_data"
    },
    {
     "data": {
      "text/plain": [
       "'9916 >?= 15509.7 = 0.9 * union 17233 => False'"
      ]
     },
     "metadata": {},
     "output_type": "display_data"
    },
    {
     "data": {
      "text/plain": [
       "Pandas(Index=296, query_name='S1_302!NC_060948.1!45079641!45090774!-', query_length=11187, query_start=38, query_end=11031, strand='-', target_name='NC_060948.1', target_length=62460029, target_start=43567716, target_end=43578654, residue_matches=1879, alignment_block_length=11001, mapping_quality=1, tp='P', cm=134, s1=1862, s2=1796, dv=0.0211, rl=8548, experiment='t2tChrY-readst2tChrY-SVs-a0.99-d0.1-l10000', tool='minimap', read_name='S1_302', GT_ref='NC_060948.1', GT_from=45079641, GT_to=45090774, GT_strand='-', is_correct=True, start_diff=-1511925, end_diff=-1512120, read_sv='INV')"
      ]
     },
     "metadata": {},
     "output_type": "display_data"
    },
    {
     "data": {
      "text/plain": [
       "'           GT from 45079641 to 45090774'"
      ]
     },
     "metadata": {},
     "output_type": "display_data"
    },
    {
     "data": {
      "text/plain": [
       "'       target from 43567716 to 43578654'"
      ]
     },
     "metadata": {},
     "output_type": "display_data"
    },
    {
     "data": {
      "text/plain": [
       "'    GT_labels from 43567561 to 43578693'"
      ]
     },
     "metadata": {},
     "output_type": "display_data"
    },
    {
     "data": {
      "text/plain": [
       "'target_labels from 43567717 to 43578654'"
      ]
     },
     "metadata": {},
     "output_type": "display_data"
    },
    {
     "data": {
      "text/plain": [
       "'10938 >?= 10019.7 = 0.9 * union 11133 => True'"
      ]
     },
     "metadata": {},
     "output_type": "display_data"
    },
    {
     "data": {
      "text/plain": [
       "Pandas(Index=299, query_name='S1_305!NC_060948.1!38494384!38501972!+', query_length=7613, query_start=12, query_end=7481, strand='+', target_name='NC_060948.1', target_length=62460029, target_start=37209040, target_end=37216484, residue_matches=1275, alignment_block_length=7474, mapping_quality=3, tp='P', cm=93, s1=1265, s2=1180, dv=0.0194, rl=6072, experiment='t2tChrY-readst2tChrY-SVs-a0.99-d0.1-l10000', tool='minimap', read_name='S1_305', GT_ref='NC_060948.1', GT_from=38494384, GT_to=38501972, GT_strand='+', is_correct=True, start_diff=-1285344, end_diff=-1285488, read_sv='multi')"
      ]
     },
     "metadata": {},
     "output_type": "display_data"
    },
    {
     "data": {
      "text/plain": [
       "'           GT from 38494384 to 38501972'"
      ]
     },
     "metadata": {},
     "output_type": "display_data"
    },
    {
     "data": {
      "text/plain": [
       "'       target from 37209040 to 37216484'"
      ]
     },
     "metadata": {},
     "output_type": "display_data"
    },
    {
     "data": {
      "text/plain": [
       "'    GT_labels from 37209029 to 37216616'"
      ]
     },
     "metadata": {},
     "output_type": "display_data"
    },
    {
     "data": {
      "text/plain": [
       "'target_labels from 37209041 to 37216484'"
      ]
     },
     "metadata": {},
     "output_type": "display_data"
    },
    {
     "data": {
      "text/plain": [
       "'7444 >?= 6829.2 = 0.9 * union 7588 => True'"
      ]
     },
     "metadata": {},
     "output_type": "display_data"
    },
    {
     "data": {
      "text/plain": [
       "Pandas(Index=304, query_name='S1_309!NC_060948.1!30579523!30588631!+', query_length=9147, query_start=88, query_end=9132, strand='+', target_name='NC_060948.1', target_length=62460029, target_start=29546195, target_end=29555202, residue_matches=1415, alignment_block_length=9050, mapping_quality=2, tp='P', cm=99, s1=1401, s2=1323, dv=0.0216, rl=6918, experiment='t2tChrY-readst2tChrY-SVs-a0.99-d0.1-l10000', tool='minimap', read_name='S1_309', GT_ref='NC_060948.1', GT_from=30579523, GT_to=30588631, GT_strand='+', is_correct=True, start_diff=-1033328, end_diff=-1033429, read_sv='INV')"
      ]
     },
     "metadata": {},
     "output_type": "display_data"
    },
    {
     "data": {
      "text/plain": [
       "'           GT from 30579523 to 30588631'"
      ]
     },
     "metadata": {},
     "output_type": "display_data"
    },
    {
     "data": {
      "text/plain": [
       "'       target from 29546195 to 29555202'"
      ]
     },
     "metadata": {},
     "output_type": "display_data"
    },
    {
     "data": {
      "text/plain": [
       "'    GT_labels from 29546108 to 29555215'"
      ]
     },
     "metadata": {},
     "output_type": "display_data"
    },
    {
     "data": {
      "text/plain": [
       "'target_labels from 29546196 to 29555202'"
      ]
     },
     "metadata": {},
     "output_type": "display_data"
    },
    {
     "data": {
      "text/plain": [
       "'9007 >?= 8197.2 = 0.9 * union 9108 => True'"
      ]
     },
     "metadata": {},
     "output_type": "display_data"
    },
    {
     "data": {
      "text/plain": [
       "Pandas(Index=307, query_name='S1_311!NC_060948.1!2366750!2379102!+', query_length=12370, query_start=4, query_end=12364, strand='+', target_name='NC_060948.1', target_length=62460029, target_start=2292069, target_end=2300607, residue_matches=7392, alignment_block_length=12388, mapping_quality=60, tp='P', cm=695, s1=6788, s2=543, dv=0.0193, rl=297, experiment='t2tChrY-readst2tChrY-SVs-a0.99-d0.1-l10000', tool='minimap', read_name='S1_311', GT_ref='NC_060948.1', GT_from=2366750, GT_to=2379102, GT_strand='+', is_correct=False, start_diff=-74681, end_diff=-78495, read_sv='DUP')"
      ]
     },
     "metadata": {},
     "output_type": "display_data"
    },
    {
     "data": {
      "text/plain": [
       "'           GT from 2366750 to 2379102'"
      ]
     },
     "metadata": {},
     "output_type": "display_data"
    },
    {
     "data": {
      "text/plain": [
       "'       target from 2292069 to 2300607'"
      ]
     },
     "metadata": {},
     "output_type": "display_data"
    },
    {
     "data": {
      "text/plain": [
       "'    GT_labels from -6580 to 2300613'"
      ]
     },
     "metadata": {},
     "output_type": "display_data"
    },
    {
     "data": {
      "text/plain": [
       "'target_labels from 2292070 to 2300607'"
      ]
     },
     "metadata": {},
     "output_type": "display_data"
    },
    {
     "data": {
      "text/plain": [
       "'8538 >?= 11116.800000000001 = 0.9 * union 12352 => False'"
      ]
     },
     "metadata": {},
     "output_type": "display_data"
    },
    {
     "data": {
      "text/plain": [
       "Pandas(Index=309, query_name='S1_313!NC_060948.1!59926398!59937174!+', query_length=10813, query_start=8, query_end=10661, strand='+', target_name='NC_060948.1', target_length=62460029, target_start=57936278, target_end=57946403, residue_matches=1086, alignment_block_length=10657, mapping_quality=0, tp='P', cm=72, s1=994, s2=994, dv=0.023, rl=8347, experiment='t2tChrY-readst2tChrY-SVs-a0.99-d0.1-l10000', tool='minimap', read_name='S1_313', GT_ref='NC_060948.1', GT_from=59926398, GT_to=59937174, GT_strand='+', is_correct=True, start_diff=-1990120, end_diff=-1990771, read_sv='DUP')"
      ]
     },
     "metadata": {},
     "output_type": "display_data"
    },
    {
     "data": {
      "text/plain": [
       "'           GT from 59926398 to 59937174'"
      ]
     },
     "metadata": {},
     "output_type": "display_data"
    },
    {
     "data": {
      "text/plain": [
       "'       target from 57936278 to 57946403'"
      ]
     },
     "metadata": {},
     "output_type": "display_data"
    },
    {
     "data": {
      "text/plain": [
       "'    GT_labels from -126090 to 57946555'"
      ]
     },
     "metadata": {},
     "output_type": "display_data"
    },
    {
     "data": {
      "text/plain": [
       "'target_labels from 57936279 to 57946403'"
      ]
     },
     "metadata": {},
     "output_type": "display_data"
    },
    {
     "data": {
      "text/plain": [
       "'10125 >?= 9698.4 = 0.9 * union 10776 => True'"
      ]
     },
     "metadata": {},
     "output_type": "display_data"
    },
    {
     "data": {
      "text/plain": [
       "Pandas(Index=310, query_name='S1_314!NC_060948.1!46026863!46040118!-', query_length=13289, query_start=71, query_end=12845, strand='-', target_name='NC_060948.1', target_length=62460029, target_start=44482511, target_end=44495252, residue_matches=1199, alignment_block_length=12783, mapping_quality=0, tp='P', cm=91, s1=1184, s2=1150, dv=0.0332, rl=10766, experiment='t2tChrY-readst2tChrY-SVs-a0.99-d0.1-l10000', tool='minimap', read_name='S1_314', GT_ref='NC_060948.1', GT_from=46026863, GT_to=46040118, GT_strand='-', is_correct=True, start_diff=-1544352, end_diff=-1544866, read_sv='multi')"
      ]
     },
     "metadata": {},
     "output_type": "display_data"
    },
    {
     "data": {
      "text/plain": [
       "'           GT from 46026863 to 46040118'"
      ]
     },
     "metadata": {},
     "output_type": "display_data"
    },
    {
     "data": {
      "text/plain": [
       "'       target from 44482511 to 44495252'"
      ]
     },
     "metadata": {},
     "output_type": "display_data"
    },
    {
     "data": {
      "text/plain": [
       "'    GT_labels from 44482069 to 44495323'"
      ]
     },
     "metadata": {},
     "output_type": "display_data"
    },
    {
     "data": {
      "text/plain": [
       "'target_labels from 44482512 to 44495252'"
      ]
     },
     "metadata": {},
     "output_type": "display_data"
    },
    {
     "data": {
      "text/plain": [
       "'12741 >?= 11929.5 = 0.9 * union 13255 => True'"
      ]
     },
     "metadata": {},
     "output_type": "display_data"
    },
    {
     "data": {
      "text/plain": [
       "Pandas(Index=314, query_name='S1_318!NC_060948.1!56225439!56232605!-', query_length=7187, query_start=39, query_end=7125, strand='-', target_name='NC_060948.1', target_length=62460029, target_start=54349931, target_end=54356997, residue_matches=808, alignment_block_length=7092, mapping_quality=13, tp='P', cm=56, s1=800, s2=477, dv=0.0252, rl=5822, experiment='t2tChrY-readst2tChrY-SVs-a0.99-d0.1-l10000', tool='minimap', read_name='S1_318', GT_ref='NC_060948.1', GT_from=56225439, GT_to=56232605, GT_strand='-', is_correct=True, start_diff=-1875508, end_diff=-1875608, read_sv='INV')"
      ]
     },
     "metadata": {},
     "output_type": "display_data"
    },
    {
     "data": {
      "text/plain": [
       "'           GT from 56225439 to 56232605'"
      ]
     },
     "metadata": {},
     "output_type": "display_data"
    },
    {
     "data": {
      "text/plain": [
       "'       target from 54349931 to 54356997'"
      ]
     },
     "metadata": {},
     "output_type": "display_data"
    },
    {
     "data": {
      "text/plain": [
       "'    GT_labels from 54349871 to 54357036'"
      ]
     },
     "metadata": {},
     "output_type": "display_data"
    },
    {
     "data": {
      "text/plain": [
       "'target_labels from 54349932 to 54356997'"
      ]
     },
     "metadata": {},
     "output_type": "display_data"
    },
    {
     "data": {
      "text/plain": [
       "'7066 >?= 6449.400000000001 = 0.9 * union 7166 => True'"
      ]
     },
     "metadata": {},
     "output_type": "display_data"
    },
    {
     "data": {
      "text/plain": [
       "Pandas(Index=317, query_name='S1_320!NC_060948.1!11476410!11488378!-', query_length=11996, query_start=7, query_end=11996, strand='-', target_name='NC_060948.1', target_length=62460029, target_start=11059631, target_end=11071592, residue_matches=10108, alignment_block_length=12020, mapping_quality=60, tp='P', cm=925, s1=10095, s2=641, dv=0.0018, rl=1037, experiment='t2tChrY-readst2tChrY-SVs-a0.99-d0.1-l10000', tool='minimap', read_name='S1_320', GT_ref='NC_060948.1', GT_from=11476410, GT_to=11488378, GT_strand='-', is_correct=True, start_diff=-416779, end_diff=-416786, read_sv='DUP')"
      ]
     },
     "metadata": {},
     "output_type": "display_data"
    },
    {
     "data": {
      "text/plain": [
       "'           GT from 11476410 to 11488378'"
      ]
     },
     "metadata": {},
     "output_type": "display_data"
    },
    {
     "data": {
      "text/plain": [
       "'       target from 11059631 to 11071592'"
      ]
     },
     "metadata": {},
     "output_type": "display_data"
    },
    {
     "data": {
      "text/plain": [
       "'    GT_labels from 11059632 to 11071599'"
      ]
     },
     "metadata": {},
     "output_type": "display_data"
    },
    {
     "data": {
      "text/plain": [
       "'target_labels from 11059632 to 11071592'"
      ]
     },
     "metadata": {},
     "output_type": "display_data"
    },
    {
     "data": {
      "text/plain": [
       "'11961 >?= 10771.2 = 0.9 * union 11968 => True'"
      ]
     },
     "metadata": {},
     "output_type": "display_data"
    },
    {
     "data": {
      "text/plain": [
       "Pandas(Index=322, query_name='S1_325!NC_060948.1!36646344!36661309!+', query_length=15020, query_start=85, query_end=14989, strand='+', target_name='NC_060948.1', target_length=62460029, target_start=35414369, target_end=35429219, residue_matches=2759, alignment_block_length=14916, mapping_quality=1, tp='P', cm=204, s1=2742, s2=2684, dv=0.0131, rl=11355, experiment='t2tChrY-readst2tChrY-SVs-a0.99-d0.1-l10000', tool='minimap', read_name='S1_325', GT_ref='NC_060948.1', GT_from=36646344, GT_to=36661309, GT_strand='+', is_correct=True, start_diff=-1231975, end_diff=-1232090, read_sv='multi')"
      ]
     },
     "metadata": {},
     "output_type": "display_data"
    },
    {
     "data": {
      "text/plain": [
       "'           GT from 36646344 to 36661309'"
      ]
     },
     "metadata": {},
     "output_type": "display_data"
    },
    {
     "data": {
      "text/plain": [
       "'       target from 35414369 to 35429219'"
      ]
     },
     "metadata": {},
     "output_type": "display_data"
    },
    {
     "data": {
      "text/plain": [
       "'    GT_labels from 35414284 to 35429248'"
      ]
     },
     "metadata": {},
     "output_type": "display_data"
    },
    {
     "data": {
      "text/plain": [
       "'target_labels from 35414370 to 35429219'"
      ]
     },
     "metadata": {},
     "output_type": "display_data"
    },
    {
     "data": {
      "text/plain": [
       "'14850 >?= 13468.5 = 0.9 * union 14965 => True'"
      ]
     },
     "metadata": {},
     "output_type": "display_data"
    },
    {
     "data": {
      "text/plain": [
       "Pandas(Index=323, query_name='S1_326!NC_060948.1!51104908!51115062!-', query_length=10189, query_start=539, query_end=9789, strand='-', target_name='NC_060948.1', target_length=62460029, target_start=49401565, target_end=49410788, residue_matches=1239, alignment_block_length=9256, mapping_quality=19, tp='P', cm=94, s1=1228, s2=614, dv=0.0211, rl=8077, experiment='t2tChrY-readst2tChrY-SVs-a0.99-d0.1-l10000', tool='minimap', read_name='S1_326', GT_ref='NC_060948.1', GT_from=51104908, GT_to=51115062, GT_strand='-', is_correct=True, start_diff=-1703343, end_diff=-1704274, read_sv='INV')"
      ]
     },
     "metadata": {},
     "output_type": "display_data"
    },
    {
     "data": {
      "text/plain": [
       "'           GT from 51104908 to 51115062'"
      ]
     },
     "metadata": {},
     "output_type": "display_data"
    },
    {
     "data": {
      "text/plain": [
       "'       target from 49401565 to 49410788'"
      ]
     },
     "metadata": {},
     "output_type": "display_data"
    },
    {
     "data": {
      "text/plain": [
       "'    GT_labels from 49401170 to 49411323'"
      ]
     },
     "metadata": {},
     "output_type": "display_data"
    },
    {
     "data": {
      "text/plain": [
       "'target_labels from 49401566 to 49410788'"
      ]
     },
     "metadata": {},
     "output_type": "display_data"
    },
    {
     "data": {
      "text/plain": [
       "'9223 >?= 9138.6 = 0.9 * union 10154 => True'"
      ]
     },
     "metadata": {},
     "output_type": "display_data"
    },
    {
     "data": {
      "text/plain": [
       "Pandas(Index=324, query_name='S1_326!NC_060948.1!51104908!51115062!-', query_length=10189, query_start=428, query_end=470, strand='-', target_name='NC_060948.1', target_length=62460029, target_start=40756958, target_end=40757000, residue_matches=42, alignment_block_length=42, mapping_quality=0, tp='P', cm=4, s1=42, s2=42, dv=0.0211, rl=8077, experiment='t2tChrY-readst2tChrY-SVs-a0.99-d0.1-l10000', tool='minimap', read_name='S1_326', GT_ref='NC_060948.1', GT_from=51104908, GT_to=51115062, GT_strand='-', is_correct=False, start_diff=-10347950, end_diff=-10358062, read_sv='INV')"
      ]
     },
     "metadata": {},
     "output_type": "display_data"
    },
    {
     "data": {
      "text/plain": [
       "'           GT from 51104908 to 51115062'"
      ]
     },
     "metadata": {},
     "output_type": "display_data"
    },
    {
     "data": {
      "text/plain": [
       "'       target from 40756958 to 40757000'"
      ]
     },
     "metadata": {},
     "output_type": "display_data"
    },
    {
     "data": {
      "text/plain": [
       "'    GT_labels from 49401170 to 49411323'"
      ]
     },
     "metadata": {},
     "output_type": "display_data"
    },
    {
     "data": {
      "text/plain": [
       "'target_labels from 40756959 to 40757000'"
      ]
     },
     "metadata": {},
     "output_type": "display_data"
    },
    {
     "data": {
      "text/plain": [
       "'0 >?= 9176.4 = 0.9 * union 10196 => False'"
      ]
     },
     "metadata": {},
     "output_type": "display_data"
    },
    {
     "data": {
      "text/plain": [
       "Pandas(Index=325, query_name='S1_327!NC_060948.1!54846149!54856342!+', query_length=10211, query_start=283, query_end=10126, strand='+', target_name='NC_060948.1', target_length=62460029, target_start=53025000, target_end=53032726, residue_matches=1133, alignment_block_length=9857, mapping_quality=0, tp='P', cm=83, s1=798, s2=779, dv=0.0367, rl=7878, experiment='t2tChrY-readst2tChrY-SVs-a0.99-d0.1-l10000', tool='minimap', read_name='S1_327', GT_ref='NC_060948.1', GT_from=54846149, GT_to=54856342, GT_strand='+', is_correct=False, start_diff=-1821149, end_diff=-1823616, read_sv='INV')"
      ]
     },
     "metadata": {},
     "output_type": "display_data"
    },
    {
     "data": {
      "text/plain": [
       "'           GT from 54846149 to 54856342'"
      ]
     },
     "metadata": {},
     "output_type": "display_data"
    },
    {
     "data": {
      "text/plain": [
       "'       target from 53025000 to 53032726'"
      ]
     },
     "metadata": {},
     "output_type": "display_data"
    },
    {
     "data": {
      "text/plain": [
       "'    GT_labels from 53024718 to 53032810'"
      ]
     },
     "metadata": {},
     "output_type": "display_data"
    },
    {
     "data": {
      "text/plain": [
       "'target_labels from 53025001 to 53032726'"
      ]
     },
     "metadata": {},
     "output_type": "display_data"
    },
    {
     "data": {
      "text/plain": [
       "'7726 >?= 9173.7 = 0.9 * union 10193 => False'"
      ]
     },
     "metadata": {},
     "output_type": "display_data"
    },
    {
     "data": {
      "text/plain": [
       "Pandas(Index=337, query_name='S1_334!NC_060948.1!57382245!57393634!-', query_length=11413, query_start=99, query_end=11352, strand='-', target_name='NC_060948.1', target_length=62460029, target_start=55477856, target_end=55489085, residue_matches=1964, alignment_block_length=11272, mapping_quality=13, tp='P', cm=166, s1=1948, s2=1492, dv=0.0188, rl=8627, experiment='t2tChrY-readst2tChrY-SVs-a0.99-d0.1-l10000', tool='minimap', read_name='S1_334', GT_ref='NC_060948.1', GT_from=57382245, GT_to=57393634, GT_strand='-', is_correct=True, start_diff=-1904389, end_diff=-1904549, read_sv='multi')"
      ]
     },
     "metadata": {},
     "output_type": "display_data"
    },
    {
     "data": {
      "text/plain": [
       "'           GT from 57382245 to 57393634'"
      ]
     },
     "metadata": {},
     "output_type": "display_data"
    },
    {
     "data": {
      "text/plain": [
       "'       target from 55477856 to 55489085'"
      ]
     },
     "metadata": {},
     "output_type": "display_data"
    },
    {
     "data": {
      "text/plain": [
       "'    GT_labels from 55477796 to 55489184'"
      ]
     },
     "metadata": {},
     "output_type": "display_data"
    },
    {
     "data": {
      "text/plain": [
       "'target_labels from 55477857 to 55489085'"
      ]
     },
     "metadata": {},
     "output_type": "display_data"
    },
    {
     "data": {
      "text/plain": [
       "'11229 >?= 10250.1 = 0.9 * union 11389 => True'"
      ]
     },
     "metadata": {},
     "output_type": "display_data"
    },
    {
     "data": {
      "text/plain": [
       "Pandas(Index=339, query_name='S1_336!NC_060948.1!50485031!50494419!-', query_length=9422, query_start=60, query_end=9291, strand='-', target_name='NC_060948.1', target_length=62460029, target_start=48806487, target_end=48815684, residue_matches=1811, alignment_block_length=9239, mapping_quality=1, tp='P', cm=134, s1=1799, s2=1742, dv=0.0171, rl=7138, experiment='t2tChrY-readst2tChrY-SVs-a0.99-d0.1-l10000', tool='minimap', read_name='S1_336', GT_ref='NC_060948.1', GT_from=50485031, GT_to=50494419, GT_strand='-', is_correct=True, start_diff=-1678544, end_diff=-1678735, read_sv='INV')"
      ]
     },
     "metadata": {},
     "output_type": "display_data"
    },
    {
     "data": {
      "text/plain": [
       "'           GT from 50485031 to 50494419'"
      ]
     },
     "metadata": {},
     "output_type": "display_data"
    },
    {
     "data": {
      "text/plain": [
       "'       target from 48806487 to 48815684'"
      ]
     },
     "metadata": {},
     "output_type": "display_data"
    },
    {
     "data": {
      "text/plain": [
       "'    GT_labels from 48806357 to 48815744'"
      ]
     },
     "metadata": {},
     "output_type": "display_data"
    },
    {
     "data": {
      "text/plain": [
       "'target_labels from 48806488 to 48815684'"
      ]
     },
     "metadata": {},
     "output_type": "display_data"
    },
    {
     "data": {
      "text/plain": [
       "'9197 >?= 8449.2 = 0.9 * union 9388 => True'"
      ]
     },
     "metadata": {},
     "output_type": "display_data"
    },
    {
     "data": {
      "text/plain": [
       "Pandas(Index=342, query_name='S1_339!NC_060948.1!43707895!43717060!+', query_length=9194, query_start=172, query_end=8890, strand='+', target_name='NC_060948.1', target_length=62460029, target_start=42245866, target_end=42254556, residue_matches=1041, alignment_block_length=8724, mapping_quality=0, tp='P', cm=76, s1=1032, s2=1013, dv=0.0229, rl=7539, experiment='t2tChrY-readst2tChrY-SVs-a0.99-d0.1-l10000', tool='minimap', read_name='S1_339', GT_ref='NC_060948.1', GT_from=43707895, GT_to=43717060, GT_strand='+', is_correct=True, start_diff=-1462029, end_diff=-1462504, read_sv='INV')"
      ]
     },
     "metadata": {},
     "output_type": "display_data"
    },
    {
     "data": {
      "text/plain": [
       "'           GT from 43707895 to 43717060'"
      ]
     },
     "metadata": {},
     "output_type": "display_data"
    },
    {
     "data": {
      "text/plain": [
       "'       target from 42245866 to 42254556'"
      ]
     },
     "metadata": {},
     "output_type": "display_data"
    },
    {
     "data": {
      "text/plain": [
       "'    GT_labels from 42245696 to 42254860'"
      ]
     },
     "metadata": {},
     "output_type": "display_data"
    },
    {
     "data": {
      "text/plain": [
       "'target_labels from 42245867 to 42254556'"
      ]
     },
     "metadata": {},
     "output_type": "display_data"
    },
    {
     "data": {
      "text/plain": [
       "'8690 >?= 8248.5 = 0.9 * union 9165 => True'"
      ]
     },
     "metadata": {},
     "output_type": "display_data"
    },
    {
     "data": {
      "text/plain": [
       "Pandas(Index=351, query_name='S1_342!NC_060948.1!62437373!62453943!-', query_length=16636, query_start=75, query_end=16470, strand='-', target_name='NC_060948.1', target_length=62460029, target_start=60350979, target_end=60367459, residue_matches=2754, alignment_block_length=16550, mapping_quality=40, tp='P', cm=211, s1=2713, s2=720, dv=0.0177, rl=12997, experiment='t2tChrY-readst2tChrY-SVs-a0.99-d0.1-l10000', tool='minimap', read_name='S1_342', GT_ref='NC_060948.1', GT_from=62437373, GT_to=62453943, GT_strand='-', is_correct=True, start_diff=-2086394, end_diff=-2086484, read_sv='multi')"
      ]
     },
     "metadata": {},
     "output_type": "display_data"
    },
    {
     "data": {
      "text/plain": [
       "'           GT from 62437373 to 62453943'"
      ]
     },
     "metadata": {},
     "output_type": "display_data"
    },
    {
     "data": {
      "text/plain": [
       "'       target from 60350979 to 60367459'"
      ]
     },
     "metadata": {},
     "output_type": "display_data"
    },
    {
     "data": {
      "text/plain": [
       "'    GT_labels from 60350814 to 60367532'"
      ]
     },
     "metadata": {},
     "output_type": "display_data"
    },
    {
     "data": {
      "text/plain": [
       "'target_labels from 60350980 to 60367459'"
      ]
     },
     "metadata": {},
     "output_type": "display_data"
    },
    {
     "data": {
      "text/plain": [
       "'16331 >?= 15047.1 = 0.9 * union 16719 => True'"
      ]
     },
     "metadata": {},
     "output_type": "display_data"
    },
    {
     "data": {
      "text/plain": [
       "Pandas(Index=352, query_name='S1_343!NC_060948.1!37412017!37421679!+', query_length=9704, query_start=135, query_end=9686, strand='+', target_name='NC_060948.1', target_length=62460029, target_start=36149142, target_end=36158607, residue_matches=1551, alignment_block_length=9558, mapping_quality=8, tp='P', cm=108, s1=1530, s2=1289, dv=0.0217, rl=7300, experiment='t2tChrY-readst2tChrY-SVs-a0.99-d0.1-l10000', tool='minimap', read_name='S1_343', GT_ref='NC_060948.1', GT_from=37412017, GT_to=37421679, GT_strand='+', is_correct=True, start_diff=-1262875, end_diff=-1263072, read_sv='INV')"
      ]
     },
     "metadata": {},
     "output_type": "display_data"
    },
    {
     "data": {
      "text/plain": [
       "'           GT from 37412017 to 37421679'"
      ]
     },
     "metadata": {},
     "output_type": "display_data"
    },
    {
     "data": {
      "text/plain": [
       "'       target from 36149142 to 36158607'"
      ]
     },
     "metadata": {},
     "output_type": "display_data"
    },
    {
     "data": {
      "text/plain": [
       "'    GT_labels from -75086 to 36158625'"
      ]
     },
     "metadata": {},
     "output_type": "display_data"
    },
    {
     "data": {
      "text/plain": [
       "'target_labels from 36149143 to 36158607'"
      ]
     },
     "metadata": {},
     "output_type": "display_data"
    },
    {
     "data": {
      "text/plain": [
       "'9465 >?= 8695.800000000001 = 0.9 * union 9662 => True'"
      ]
     },
     "metadata": {},
     "output_type": "display_data"
    },
    {
     "data": {
      "text/plain": [
       "Pandas(Index=356, query_name='S1_347!NC_060948.1!32708101!32715682!+', query_length=7602, query_start=24, query_end=7470, strand='+', target_name='NC_060948.1', target_length=62460029, target_start=31602698, target_end=31610123, residue_matches=684, alignment_block_length=7452, mapping_quality=8, tp='P', cm=49, s1=673, s2=448, dv=0.0315, rl=6136, experiment='t2tChrY-readst2tChrY-SVs-a0.99-d0.1-l10000', tool='minimap', read_name='S1_347', GT_ref='NC_060948.1', GT_from=32708101, GT_to=32715682, GT_strand='+', is_correct=True, start_diff=-1105403, end_diff=-1105559, read_sv='DUP')"
      ]
     },
     "metadata": {},
     "output_type": "display_data"
    },
    {
     "data": {
      "text/plain": [
       "'           GT from 32708101 to 32715682'"
      ]
     },
     "metadata": {},
     "output_type": "display_data"
    },
    {
     "data": {
      "text/plain": [
       "'       target from 31602698 to 31610123'"
      ]
     },
     "metadata": {},
     "output_type": "display_data"
    },
    {
     "data": {
      "text/plain": [
       "'    GT_labels from 31602675 to 31610255'"
      ]
     },
     "metadata": {},
     "output_type": "display_data"
    },
    {
     "data": {
      "text/plain": [
       "'target_labels from 31602699 to 31610123'"
      ]
     },
     "metadata": {},
     "output_type": "display_data"
    },
    {
     "data": {
      "text/plain": [
       "'7425 >?= 6822.900000000001 = 0.9 * union 7581 => True'"
      ]
     },
     "metadata": {},
     "output_type": "display_data"
    },
    {
     "data": {
      "text/plain": [
       "Pandas(Index=357, query_name='S1_348!NC_060948.1!1229781!1242551!-', query_length=12830, query_start=11, query_end=12819, strand='-', target_name='NC_060948.1', target_length=62460029, target_start=1198168, target_end=1210916, residue_matches=10867, alignment_block_length=12829, mapping_quality=60, tp='P', cm=1004, s1=10857, s2=105, dv=0.0015, rl=551, experiment='t2tChrY-readst2tChrY-SVs-a0.99-d0.1-l10000', tool='minimap', read_name='S1_348', GT_ref='NC_060948.1', GT_from=1229781, GT_to=1242551, GT_strand='-', is_correct=True, start_diff=-31613, end_diff=-31635, read_sv='INS')"
      ]
     },
     "metadata": {},
     "output_type": "display_data"
    },
    {
     "data": {
      "text/plain": [
       "'           GT from 1229781 to 1242551'"
      ]
     },
     "metadata": {},
     "output_type": "display_data"
    },
    {
     "data": {
      "text/plain": [
       "'       target from 1198168 to 1210916'"
      ]
     },
     "metadata": {},
     "output_type": "display_data"
    },
    {
     "data": {
      "text/plain": [
       "'    GT_labels from 1198158 to 1210927'"
      ]
     },
     "metadata": {},
     "output_type": "display_data"
    },
    {
     "data": {
      "text/plain": [
       "'target_labels from 1198169 to 1210916'"
      ]
     },
     "metadata": {},
     "output_type": "display_data"
    },
    {
     "data": {
      "text/plain": [
       "'12748 >?= 11493.0 = 0.9 * union 12770 => True'"
      ]
     },
     "metadata": {},
     "output_type": "display_data"
    },
    {
     "data": {
      "text/plain": [
       "Pandas(Index=359, query_name='S1_35!NC_060948.1!46032433!46048250!+', query_length=15882, query_start=10, query_end=15680, strand='+', target_name='NC_060948.1', target_length=62460029, target_start=44487648, target_end=44501990, residue_matches=1543, alignment_block_length=15676, mapping_quality=3, tp='P', cm=111, s1=1326, s2=1141, dv=0.0356, rl=12721, experiment='t2tChrY-readst2tChrY-SVs-a0.99-d0.1-l10000', tool='minimap', read_name='S1_35', GT_ref='NC_060948.1', GT_from=46032433, GT_to=46048250, GT_strand='+', is_correct=True, start_diff=-1544785, end_diff=-1546260, read_sv='DUP')"
      ]
     },
     "metadata": {},
     "output_type": "display_data"
    },
    {
     "data": {
      "text/plain": [
       "'           GT from 46032433 to 46048250'"
      ]
     },
     "metadata": {},
     "output_type": "display_data"
    },
    {
     "data": {
      "text/plain": [
       "'       target from 44487648 to 44501990'"
      ]
     },
     "metadata": {},
     "output_type": "display_data"
    },
    {
     "data": {
      "text/plain": [
       "'    GT_labels from 44487639 to 44502191'"
      ]
     },
     "metadata": {},
     "output_type": "display_data"
    },
    {
     "data": {
      "text/plain": [
       "'target_labels from 44487649 to 44501990'"
      ]
     },
     "metadata": {},
     "output_type": "display_data"
    },
    {
     "data": {
      "text/plain": [
       "'14342 >?= 14235.300000000001 = 0.9 * union 15817 => True'"
      ]
     },
     "metadata": {},
     "output_type": "display_data"
    },
    {
     "data": {
      "text/plain": [
       "Pandas(Index=362, query_name='S1_351!NC_060948.1!25222228!25232180!+', query_length=9972, query_start=15, query_end=688, strand='+', target_name='NC_060948.1', target_length=62460029, target_start=24331492, target_end=24332164, residue_matches=608, alignment_block_length=674, mapping_quality=11, tp='P', cm=59, s1=608, s2=581, dv=0.0009, rl=0, experiment='t2tChrY-readst2tChrY-SVs-a0.99-d0.1-l10000', tool='minimap', read_name='S1_351', GT_ref='NC_060948.1', GT_from=25222228, GT_to=25232180, GT_strand='+', is_correct=False, start_diff=-890736, end_diff=-900016, read_sv='INV')"
      ]
     },
     "metadata": {},
     "output_type": "display_data"
    },
    {
     "data": {
      "text/plain": [
       "'           GT from 25222228 to 25232180'"
      ]
     },
     "metadata": {},
     "output_type": "display_data"
    },
    {
     "data": {
      "text/plain": [
       "'       target from 24331492 to 24332164'"
      ]
     },
     "metadata": {},
     "output_type": "display_data"
    },
    {
     "data": {
      "text/plain": [
       "'    GT_labels from 24331398 to 24340658'"
      ]
     },
     "metadata": {},
     "output_type": "display_data"
    },
    {
     "data": {
      "text/plain": [
       "'target_labels from 24331493 to 24332164'"
      ]
     },
     "metadata": {},
     "output_type": "display_data"
    },
    {
     "data": {
      "text/plain": [
       "'672 >?= 8956.800000000001 = 0.9 * union 9952 => False'"
      ]
     },
     "metadata": {},
     "output_type": "display_data"
    },
    {
     "data": {
      "text/plain": [
       "Pandas(Index=367, query_name='S1_356!NC_060948.1!27080042!27088282!-', query_length=8261, query_start=16, query_end=8257, strand='-', target_name='NC_060948.1', target_length=62460029, target_start=26153450, target_end=26161670, residue_matches=7259, alignment_block_length=8254, mapping_quality=1, tp='P', cm=675, s1=7257, s2=7234, dv=0.0007, rl=57, experiment='t2tChrY-readst2tChrY-SVs-a0.99-d0.1-l10000', tool='minimap', read_name='S1_356', GT_ref='NC_060948.1', GT_from=27080042, GT_to=27088282, GT_strand='-', is_correct=True, start_diff=-926592, end_diff=-926612, read_sv='INV')"
      ]
     },
     "metadata": {},
     "output_type": "display_data"
    },
    {
     "data": {
      "text/plain": [
       "'           GT from 27080042 to 27088282'"
      ]
     },
     "metadata": {},
     "output_type": "display_data"
    },
    {
     "data": {
      "text/plain": [
       "'       target from 26153450 to 26161670'"
      ]
     },
     "metadata": {},
     "output_type": "display_data"
    },
    {
     "data": {
      "text/plain": [
       "'    GT_labels from 26153447 to 26161686'"
      ]
     },
     "metadata": {},
     "output_type": "display_data"
    },
    {
     "data": {
      "text/plain": [
       "'target_labels from 26153451 to 26161670'"
      ]
     },
     "metadata": {},
     "output_type": "display_data"
    },
    {
     "data": {
      "text/plain": [
       "'8220 >?= 7416.0 = 0.9 * union 8240 => True'"
      ]
     },
     "metadata": {},
     "output_type": "display_data"
    },
    {
     "data": {
      "text/plain": [
       "Pandas(Index=370, query_name='S1_359!NC_060948.1!43182354!43192707!+', query_length=10379, query_start=297, query_end=10346, strand='+', target_name='NC_060948.1', target_length=62460029, target_start=41743743, target_end=41753765, residue_matches=867, alignment_block_length=10053, mapping_quality=1, tp='P', cm=54, s1=855, s2=802, dv=0.0377, rl=8520, experiment='t2tChrY-readst2tChrY-SVs-a0.99-d0.1-l10000', tool='minimap', read_name='S1_359', GT_ref='NC_060948.1', GT_from=43182354, GT_to=43192707, GT_strand='+', is_correct=True, start_diff=-1438611, end_diff=-1438942, read_sv='INS')"
      ]
     },
     "metadata": {},
     "output_type": "display_data"
    },
    {
     "data": {
      "text/plain": [
       "'           GT from 43182354 to 43192707'"
      ]
     },
     "metadata": {},
     "output_type": "display_data"
    },
    {
     "data": {
      "text/plain": [
       "'       target from 41743743 to 41753765'"
      ]
     },
     "metadata": {},
     "output_type": "display_data"
    },
    {
     "data": {
      "text/plain": [
       "'    GT_labels from 41743584 to 41753798'"
      ]
     },
     "metadata": {},
     "output_type": "display_data"
    },
    {
     "data": {
      "text/plain": [
       "'target_labels from 41743744 to 41753765'"
      ]
     },
     "metadata": {},
     "output_type": "display_data"
    },
    {
     "data": {
      "text/plain": [
       "'10022 >?= 9317.7 = 0.9 * union 10353 => True'"
      ]
     },
     "metadata": {},
     "output_type": "display_data"
    },
    {
     "data": {
      "text/plain": [
       "Pandas(Index=371, query_name='S1_36!NC_060948.1!42327653!42336886!-', query_length=9257, query_start=211, query_end=9153, strand='-', target_name='NC_060948.1', target_length=62460029, target_start=40930203, target_end=40939121, residue_matches=1243, alignment_block_length=8950, mapping_quality=3, tp='P', cm=87, s1=1236, s2=1139, dv=0.0217, rl=7641, experiment='t2tChrY-readst2tChrY-SVs-a0.99-d0.1-l10000', tool='minimap', read_name='S1_36', GT_ref='NC_060948.1', GT_from=42327653, GT_to=42336886, GT_strand='-', is_correct=True, start_diff=-1397450, end_diff=-1397765, read_sv='DEL')"
      ]
     },
     "metadata": {},
     "output_type": "display_data"
    },
    {
     "data": {
      "text/plain": [
       "'           GT from 42327653 to 42336886'"
      ]
     },
     "metadata": {},
     "output_type": "display_data"
    },
    {
     "data": {
      "text/plain": [
       "'       target from 40930203 to 40939121'"
      ]
     },
     "metadata": {},
     "output_type": "display_data"
    },
    {
     "data": {
      "text/plain": [
       "'    GT_labels from 40930100 to 40939332'"
      ]
     },
     "metadata": {},
     "output_type": "display_data"
    },
    {
     "data": {
      "text/plain": [
       "'target_labels from 40930204 to 40939121'"
      ]
     },
     "metadata": {},
     "output_type": "display_data"
    },
    {
     "data": {
      "text/plain": [
       "'8918 >?= 8309.7 = 0.9 * union 9233 => True'"
      ]
     },
     "metadata": {},
     "output_type": "display_data"
    },
    {
     "data": {
      "text/plain": [
       "Pandas(Index=377, query_name='S1_365!NC_060948.1!41351841!41365148!+', query_length=13357, query_start=362, query_end=13305, strand='+', target_name='NC_060948.1', target_length=62460029, target_start=39976280, target_end=39989173, residue_matches=2964, alignment_block_length=12951, mapping_quality=2, tp='P', cm=225, s1=2950, s2=2864, dv=0.0149, rl=9382, experiment='t2tChrY-readst2tChrY-SVs-a0.99-d0.1-l10000', tool='minimap', read_name='S1_365', GT_ref='NC_060948.1', GT_from=41351841, GT_to=41365148, GT_strand='+', is_correct=True, start_diff=-1375561, end_diff=-1375975, read_sv='INS')"
      ]
     },
     "metadata": {},
     "output_type": "display_data"
    },
    {
     "data": {
      "text/plain": [
       "'           GT from 41351841 to 41365148'"
      ]
     },
     "metadata": {},
     "output_type": "display_data"
    },
    {
     "data": {
      "text/plain": [
       "'       target from 39976280 to 39989173'"
      ]
     },
     "metadata": {},
     "output_type": "display_data"
    },
    {
     "data": {
      "text/plain": [
       "'    GT_labels from 39975919 to 39989225'"
      ]
     },
     "metadata": {},
     "output_type": "display_data"
    },
    {
     "data": {
      "text/plain": [
       "'target_labels from 39976281 to 39989173'"
      ]
     },
     "metadata": {},
     "output_type": "display_data"
    },
    {
     "data": {
      "text/plain": [
       "'12893 >?= 11976.300000000001 = 0.9 * union 13307 => True'"
      ]
     },
     "metadata": {},
     "output_type": "display_data"
    },
    {
     "data": {
      "text/plain": [
       "Pandas(Index=383, query_name='S1_370!NC_060948.1!13227509!13236925!-', query_length=9441, query_start=17, query_end=9424, strand='-', target_name='NC_060948.1', target_length=62460029, target_start=12767113, target_end=12776497, residue_matches=7991, alignment_block_length=9432, mapping_quality=60, tp='P', cm=737, s1=7985, s2=2518, dv=0.0011, rl=0, experiment='t2tChrY-readst2tChrY-SVs-a0.99-d0.1-l10000', tool='minimap', read_name='S1_370', GT_ref='NC_060948.1', GT_from=13227509, GT_to=13236925, GT_strand='-', is_correct=True, start_diff=-460396, end_diff=-460428, read_sv='DUP')"
      ]
     },
     "metadata": {},
     "output_type": "display_data"
    },
    {
     "data": {
      "text/plain": [
       "'           GT from 13227509 to 13236925'"
      ]
     },
     "metadata": {},
     "output_type": "display_data"
    },
    {
     "data": {
      "text/plain": [
       "'       target from 12767113 to 12776497'"
      ]
     },
     "metadata": {},
     "output_type": "display_data"
    },
    {
     "data": {
      "text/plain": [
       "'    GT_labels from 12767097 to 12776512'"
      ]
     },
     "metadata": {},
     "output_type": "display_data"
    },
    {
     "data": {
      "text/plain": [
       "'target_labels from 12767114 to 12776497'"
      ]
     },
     "metadata": {},
     "output_type": "display_data"
    },
    {
     "data": {
      "text/plain": [
       "'9384 >?= 8474.4 = 0.9 * union 9416 => True'"
      ]
     },
     "metadata": {},
     "output_type": "display_data"
    },
    {
     "data": {
      "text/plain": [
       "Pandas(Index=388, query_name='S1_374!NC_060948.1!50184853!50195491!-', query_length=10663, query_start=239, query_end=10557, strand='-', target_name='NC_060948.1', target_length=62460029, target_start=48521913, target_end=48532207, residue_matches=1440, alignment_block_length=10333, mapping_quality=19, tp='P', cm=95, s1=1428, s2=767, dv=0.0238, rl=8526, experiment='t2tChrY-readst2tChrY-SVs-a0.99-d0.1-l10000', tool='minimap', read_name='S1_374', GT_ref='NC_060948.1', GT_from=50184853, GT_to=50195491, GT_strand='-', is_correct=True, start_diff=-1662940, end_diff=-1663284, read_sv='INV')"
      ]
     },
     "metadata": {},
     "output_type": "display_data"
    },
    {
     "data": {
      "text/plain": [
       "'           GT from 50184853 to 50195491'"
      ]
     },
     "metadata": {},
     "output_type": "display_data"
    },
    {
     "data": {
      "text/plain": [
       "'       target from 48521913 to 48532207'"
      ]
     },
     "metadata": {},
     "output_type": "display_data"
    },
    {
     "data": {
      "text/plain": [
       "'    GT_labels from 48521808 to 48532445'"
      ]
     },
     "metadata": {},
     "output_type": "display_data"
    },
    {
     "data": {
      "text/plain": [
       "'target_labels from 48521914 to 48532207'"
      ]
     },
     "metadata": {},
     "output_type": "display_data"
    },
    {
     "data": {
      "text/plain": [
       "'10294 >?= 9574.2 = 0.9 * union 10638 => True'"
      ]
     },
     "metadata": {},
     "output_type": "display_data"
    },
    {
     "data": {
      "text/plain": [
       "Pandas(Index=390, query_name='S1_376!NC_060948.1!56969266!56979848!-', query_length=10617, query_start=182, query_end=6168, strand='-', target_name='NC_060948.1', target_length=62460029, target_start=55077397, target_end=55083356, residue_matches=636, alignment_block_length=5989, mapping_quality=10, tp='P', cm=48, s1=627, s2=404, dv=0.0265, rl=8988, experiment='t2tChrY-readst2tChrY-SVs-a0.99-d0.1-l10000', tool='minimap', read_name='S1_376', GT_ref='NC_060948.1', GT_from=56969266, GT_to=56979848, GT_strand='-', is_correct=False, start_diff=-1891869, end_diff=-1896492, read_sv='multi')"
      ]
     },
     "metadata": {},
     "output_type": "display_data"
    },
    {
     "data": {
      "text/plain": [
       "'           GT from 56969266 to 56979848'"
      ]
     },
     "metadata": {},
     "output_type": "display_data"
    },
    {
     "data": {
      "text/plain": [
       "'       target from 55077397 to 55083356'"
      ]
     },
     "metadata": {},
     "output_type": "display_data"
    },
    {
     "data": {
      "text/plain": [
       "'    GT_labels from 55075471 to 55083538'"
      ]
     },
     "metadata": {},
     "output_type": "display_data"
    },
    {
     "data": {
      "text/plain": [
       "'target_labels from 55077398 to 55083356'"
      ]
     },
     "metadata": {},
     "output_type": "display_data"
    },
    {
     "data": {
      "text/plain": [
       "'5959 >?= 9523.800000000001 = 0.9 * union 10582 => False'"
      ]
     },
     "metadata": {},
     "output_type": "display_data"
    },
    {
     "data": {
      "text/plain": [
       "Pandas(Index=391, query_name='S1_376!NC_060948.1!56969266!56979848!-', query_length=10617, query_start=8622, query_end=10503, strand='-', target_name='NC_060948.1', target_length=62460029, target_start=55075584, target_end=55077460, residue_matches=242, alignment_block_length=1884, mapping_quality=6, tp='P', cm=17, s1=239, s2=184, dv=0.0201, rl=8988, experiment='t2tChrY-readst2tChrY-SVs-a0.99-d0.1-l10000', tool='minimap', read_name='S1_376', GT_ref='NC_060948.1', GT_from=56969266, GT_to=56979848, GT_strand='-', is_correct=False, start_diff=-1893682, end_diff=-1902388, read_sv='multi')"
      ]
     },
     "metadata": {},
     "output_type": "display_data"
    },
    {
     "data": {
      "text/plain": [
       "'           GT from 56969266 to 56979848'"
      ]
     },
     "metadata": {},
     "output_type": "display_data"
    },
    {
     "data": {
      "text/plain": [
       "'       target from 55075584 to 55077460'"
      ]
     },
     "metadata": {},
     "output_type": "display_data"
    },
    {
     "data": {
      "text/plain": [
       "'    GT_labels from 55075471 to 55083538'"
      ]
     },
     "metadata": {},
     "output_type": "display_data"
    },
    {
     "data": {
      "text/plain": [
       "'target_labels from 55075585 to 55077460'"
      ]
     },
     "metadata": {},
     "output_type": "display_data"
    },
    {
     "data": {
      "text/plain": [
       "'1876 >?= 9523.800000000001 = 0.9 * union 10582 => False'"
      ]
     },
     "metadata": {},
     "output_type": "display_data"
    },
    {
     "data": {
      "text/plain": [
       "Pandas(Index=392, query_name='S1_376!NC_060948.1!56969266!56979848!-', query_length=10617, query_start=6527, query_end=6849, strand='-', target_name='NC_060948.1', target_length=62460029, target_start=55077139, target_end=55077460, residue_matches=74, alignment_block_length=322, mapping_quality=3, tp='P', cm=5, s1=74, s2=55, dv=0.0176, rl=8988, experiment='t2tChrY-readst2tChrY-SVs-a0.99-d0.1-l10000', tool='minimap', read_name='S1_376', GT_ref='NC_060948.1', GT_from=56969266, GT_to=56979848, GT_strand='-', is_correct=False, start_diff=-1892127, end_diff=-1902388, read_sv='multi')"
      ]
     },
     "metadata": {},
     "output_type": "display_data"
    },
    {
     "data": {
      "text/plain": [
       "'           GT from 56969266 to 56979848'"
      ]
     },
     "metadata": {},
     "output_type": "display_data"
    },
    {
     "data": {
      "text/plain": [
       "'       target from 55077139 to 55077460'"
      ]
     },
     "metadata": {},
     "output_type": "display_data"
    },
    {
     "data": {
      "text/plain": [
       "'    GT_labels from 55075471 to 55083538'"
      ]
     },
     "metadata": {},
     "output_type": "display_data"
    },
    {
     "data": {
      "text/plain": [
       "'target_labels from 55077140 to 55077460'"
      ]
     },
     "metadata": {},
     "output_type": "display_data"
    },
    {
     "data": {
      "text/plain": [
       "'321 >?= 9523.800000000001 = 0.9 * union 10582 => False'"
      ]
     },
     "metadata": {},
     "output_type": "display_data"
    },
    {
     "data": {
      "text/plain": [
       "Pandas(Index=393, query_name='S1_376!NC_060948.1!56969266!56979848!-', query_length=10617, query_start=6947, query_end=7266, strand='-', target_name='NC_060948.1', target_length=62460029, target_start=55077139, target_end=55077460, residue_matches=74, alignment_block_length=321, mapping_quality=3, tp='P', cm=5, s1=73, s2=54, dv=0.0176, rl=8988, experiment='t2tChrY-readst2tChrY-SVs-a0.99-d0.1-l10000', tool='minimap', read_name='S1_376', GT_ref='NC_060948.1', GT_from=56969266, GT_to=56979848, GT_strand='-', is_correct=False, start_diff=-1892127, end_diff=-1902388, read_sv='multi')"
      ]
     },
     "metadata": {},
     "output_type": "display_data"
    },
    {
     "data": {
      "text/plain": [
       "'           GT from 56969266 to 56979848'"
      ]
     },
     "metadata": {},
     "output_type": "display_data"
    },
    {
     "data": {
      "text/plain": [
       "'       target from 55077139 to 55077460'"
      ]
     },
     "metadata": {},
     "output_type": "display_data"
    },
    {
     "data": {
      "text/plain": [
       "'    GT_labels from 55075471 to 55083538'"
      ]
     },
     "metadata": {},
     "output_type": "display_data"
    },
    {
     "data": {
      "text/plain": [
       "'target_labels from 55077140 to 55077460'"
      ]
     },
     "metadata": {},
     "output_type": "display_data"
    },
    {
     "data": {
      "text/plain": [
       "'321 >?= 9523.800000000001 = 0.9 * union 10582 => False'"
      ]
     },
     "metadata": {},
     "output_type": "display_data"
    },
    {
     "data": {
      "text/plain": [
       "Pandas(Index=395, query_name='S1_376!NC_060948.1!56969266!56979848!-', query_length=10617, query_start=7364, query_end=7427, strand='-', target_name='NC_060948.1', target_length=62460029, target_start=55077397, target_end=55077460, residue_matches=55, alignment_block_length=63, mapping_quality=2, tp='P', cm=4, s1=55, s2=0, dv=0.0211, rl=8988, experiment='t2tChrY-readst2tChrY-SVs-a0.99-d0.1-l10000', tool='minimap', read_name='S1_376', GT_ref='NC_060948.1', GT_from=56969266, GT_to=56979848, GT_strand='-', is_correct=False, start_diff=-1891869, end_diff=-1902388, read_sv='multi')"
      ]
     },
     "metadata": {},
     "output_type": "display_data"
    },
    {
     "data": {
      "text/plain": [
       "'           GT from 56969266 to 56979848'"
      ]
     },
     "metadata": {},
     "output_type": "display_data"
    },
    {
     "data": {
      "text/plain": [
       "'       target from 55077397 to 55077460'"
      ]
     },
     "metadata": {},
     "output_type": "display_data"
    },
    {
     "data": {
      "text/plain": [
       "'    GT_labels from 55075471 to 55083538'"
      ]
     },
     "metadata": {},
     "output_type": "display_data"
    },
    {
     "data": {
      "text/plain": [
       "'target_labels from 55077398 to 55077460'"
      ]
     },
     "metadata": {},
     "output_type": "display_data"
    },
    {
     "data": {
      "text/plain": [
       "'63 >?= 9523.800000000001 = 0.9 * union 10582 => False'"
      ]
     },
     "metadata": {},
     "output_type": "display_data"
    },
    {
     "data": {
      "text/plain": [
       "Pandas(Index=397, query_name='S1_376!NC_060948.1!56969266!56979848!-', query_length=10617, query_start=6202, query_end=6390, strand='-', target_name='NC_060948.1', target_length=62460029, target_start=32275261, target_end=32275449, residue_matches=48, alignment_block_length=188, mapping_quality=0, tp='P', cm=3, s1=48, s2=48, dv=0.0265, rl=8988, experiment='t2tChrY-readst2tChrY-SVs-a0.99-d0.1-l10000', tool='minimap', read_name='S1_376', GT_ref='NC_060948.1', GT_from=56969266, GT_to=56979848, GT_strand='-', is_correct=False, start_diff=-24694005, end_diff=-24704399, read_sv='multi')"
      ]
     },
     "metadata": {},
     "output_type": "display_data"
    },
    {
     "data": {
      "text/plain": [
       "'           GT from 56969266 to 56979848'"
      ]
     },
     "metadata": {},
     "output_type": "display_data"
    },
    {
     "data": {
      "text/plain": [
       "'       target from 32275261 to 32275449'"
      ]
     },
     "metadata": {},
     "output_type": "display_data"
    },
    {
     "data": {
      "text/plain": [
       "'    GT_labels from 55075471 to 55083538'"
      ]
     },
     "metadata": {},
     "output_type": "display_data"
    },
    {
     "data": {
      "text/plain": [
       "'target_labels from 32275262 to 32275449'"
      ]
     },
     "metadata": {},
     "output_type": "display_data"
    },
    {
     "data": {
      "text/plain": [
       "'0 >?= 9693.0 = 0.9 * union 10770 => False'"
      ]
     },
     "metadata": {},
     "output_type": "display_data"
    },
    {
     "data": {
      "text/plain": [
       "Pandas(Index=398, query_name='S1_377!NC_060948.1!43106123!43114817!+', query_length=8701, query_start=75, query_end=8121, strand='+', target_name='NC_060948.1', target_length=62460029, target_start=41671056, target_end=41679097, residue_matches=703, alignment_block_length=8057, mapping_quality=1, tp='P', cm=44, s1=697, s2=662, dv=0.0329, rl=7402, experiment='t2tChrY-readst2tChrY-SVs-a0.99-d0.1-l10000', tool='minimap', read_name='S1_377', GT_ref='NC_060948.1', GT_from=43106123, GT_to=43114817, GT_strand='+', is_correct=True, start_diff=-1435067, end_diff=-1435720, read_sv='DUP')"
      ]
     },
     "metadata": {},
     "output_type": "display_data"
    },
    {
     "data": {
      "text/plain": [
       "'           GT from 43106123 to 43114817'"
      ]
     },
     "metadata": {},
     "output_type": "display_data"
    },
    {
     "data": {
      "text/plain": [
       "'       target from 41671056 to 41679097'"
      ]
     },
     "metadata": {},
     "output_type": "display_data"
    },
    {
     "data": {
      "text/plain": [
       "'    GT_labels from 41670982 to 41679675'"
      ]
     },
     "metadata": {},
     "output_type": "display_data"
    },
    {
     "data": {
      "text/plain": [
       "'target_labels from 41671057 to 41679097'"
      ]
     },
     "metadata": {},
     "output_type": "display_data"
    },
    {
     "data": {
      "text/plain": [
       "'8041 >?= 7824.6 = 0.9 * union 8694 => True'"
      ]
     },
     "metadata": {},
     "output_type": "display_data"
    },
    {
     "data": {
      "text/plain": [
       "Pandas(Index=400, query_name='S1_379!NC_060948.1!57527514!57536300!+', query_length=8818, query_start=102, query_end=8464, strand='+', target_name='NC_060948.1', target_length=62460029, target_start=55613679, target_end=55622013, residue_matches=1265, alignment_block_length=8370, mapping_quality=9, tp='P', cm=105, s1=1253, s2=990, dv=0.0235, rl=6956, experiment='t2tChrY-readst2tChrY-SVs-a0.99-d0.1-l10000', tool='minimap', read_name='S1_379', GT_ref='NC_060948.1', GT_from=57527514, GT_to=57536300, GT_strand='+', is_correct=True, start_diff=-1913835, end_diff=-1914287, read_sv='DUP')"
      ]
     },
     "metadata": {},
     "output_type": "display_data"
    },
    {
     "data": {
      "text/plain": [
       "'           GT from 57527514 to 57536300'"
      ]
     },
     "metadata": {},
     "output_type": "display_data"
    },
    {
     "data": {
      "text/plain": [
       "'       target from 55613679 to 55622013'"
      ]
     },
     "metadata": {},
     "output_type": "display_data"
    },
    {
     "data": {
      "text/plain": [
       "'    GT_labels from 55613579 to 55622364'"
      ]
     },
     "metadata": {},
     "output_type": "display_data"
    },
    {
     "data": {
      "text/plain": [
       "'target_labels from 55613680 to 55622013'"
      ]
     },
     "metadata": {},
     "output_type": "display_data"
    },
    {
     "data": {
      "text/plain": [
       "'8334 >?= 7907.400000000001 = 0.9 * union 8786 => True'"
      ]
     },
     "metadata": {},
     "output_type": "display_data"
    },
    {
     "data": {
      "text/plain": [
       "Pandas(Index=405, query_name='S1_383!NC_060948.1!41080445!41094831!+', query_length=14419, query_start=44, query_end=14142, strand='+', target_name='NC_060948.1', target_length=62460029, target_start=39716633, target_end=39730697, residue_matches=2261, alignment_block_length=14112, mapping_quality=10, tp='P', cm=165, s1=2248, s2=1779, dv=0.0176, rl=11546, experiment='t2tChrY-readst2tChrY-SVs-a0.99-d0.1-l10000', tool='minimap', read_name='S1_383', GT_ref='NC_060948.1', GT_from=41080445, GT_to=41094831, GT_strand='+', is_correct=True, start_diff=-1363812, end_diff=-1364134, read_sv='INS')"
      ]
     },
     "metadata": {},
     "output_type": "display_data"
    },
    {
     "data": {
      "text/plain": [
       "'           GT from 41080445 to 41094831'"
      ]
     },
     "metadata": {},
     "output_type": "display_data"
    },
    {
     "data": {
      "text/plain": [
       "'       target from 39716633 to 39730697'"
      ]
     },
     "metadata": {},
     "output_type": "display_data"
    },
    {
     "data": {
      "text/plain": [
       "'    GT_labels from 39716590 to 39730975'"
      ]
     },
     "metadata": {},
     "output_type": "display_data"
    },
    {
     "data": {
      "text/plain": [
       "'target_labels from 39716634 to 39730697'"
      ]
     },
     "metadata": {},
     "output_type": "display_data"
    },
    {
     "data": {
      "text/plain": [
       "'14064 >?= 12947.4 = 0.9 * union 14386 => True'"
      ]
     },
     "metadata": {},
     "output_type": "display_data"
    },
    {
     "data": {
      "text/plain": [
       "Pandas(Index=410, query_name='S1_388!NC_060948.1!54641776!54659240!-', query_length=17502, query_start=404, query_end=17103, strand='-', target_name='NC_060948.1', target_length=62460029, target_start=52822825, target_end=52839491, residue_matches=1750, alignment_block_length=16718, mapping_quality=7, tp='P', cm=122, s1=1735, s2=1355, dv=0.0315, rl=14380, experiment='t2tChrY-readst2tChrY-SVs-a0.99-d0.1-l10000', tool='minimap', read_name='S1_388', GT_ref='NC_060948.1', GT_from=54641776, GT_to=54659240, GT_strand='-', is_correct=True, start_diff=-1818951, end_diff=-1819749, read_sv='multi')"
      ]
     },
     "metadata": {},
     "output_type": "display_data"
    },
    {
     "data": {
      "text/plain": [
       "'           GT from 54641776 to 54659240'"
      ]
     },
     "metadata": {},
     "output_type": "display_data"
    },
    {
     "data": {
      "text/plain": [
       "'       target from 52822825 to 52839491'"
      ]
     },
     "metadata": {},
     "output_type": "display_data"
    },
    {
     "data": {
      "text/plain": [
       "'    GT_labels from 52822431 to 52839894'"
      ]
     },
     "metadata": {},
     "output_type": "display_data"
    },
    {
     "data": {
      "text/plain": [
       "'target_labels from 52822826 to 52839491'"
      ]
     },
     "metadata": {},
     "output_type": "display_data"
    },
    {
     "data": {
      "text/plain": [
       "'16666 >?= 15717.6 = 0.9 * union 17464 => True'"
      ]
     },
     "metadata": {},
     "output_type": "display_data"
    },
    {
     "data": {
      "text/plain": [
       "Pandas(Index=411, query_name='S1_389!NC_060948.1!59581733!59591613!+', query_length=9915, query_start=127, query_end=9793, strand='+', target_name='NC_060948.1', target_length=62460029, target_start=57609551, target_end=57618741, residue_matches=1156, alignment_block_length=9671, mapping_quality=11, tp='P', cm=84, s1=1072, s2=693, dv=0.0258, rl=7771, experiment='t2tChrY-readst2tChrY-SVs-a0.99-d0.1-l10000', tool='minimap', read_name='S1_389', GT_ref='NC_060948.1', GT_from=59581733, GT_to=59591613, GT_strand='+', is_correct=True, start_diff=-1972182, end_diff=-1972872, read_sv='DUP')"
      ]
     },
     "metadata": {},
     "output_type": "display_data"
    },
    {
     "data": {
      "text/plain": [
       "'           GT from 59581733 to 59591613'"
      ]
     },
     "metadata": {},
     "output_type": "display_data"
    },
    {
     "data": {
      "text/plain": [
       "'       target from 57609551 to 57618741'"
      ]
     },
     "metadata": {},
     "output_type": "display_data"
    },
    {
     "data": {
      "text/plain": [
       "'    GT_labels from -125066 to 57618860'"
      ]
     },
     "metadata": {},
     "output_type": "display_data"
    },
    {
     "data": {
      "text/plain": [
       "'target_labels from 57609552 to 57618741'"
      ]
     },
     "metadata": {},
     "output_type": "display_data"
    },
    {
     "data": {
      "text/plain": [
       "'9190 >?= 8892.0 = 0.9 * union 9880 => True'"
      ]
     },
     "metadata": {},
     "output_type": "display_data"
    },
    {
     "data": {
      "text/plain": [
       "Pandas(Index=412, query_name='S1_39!NC_060948.1!41287054!41297476!+', query_length=10446, query_start=55, query_end=10376, strand='+', target_name='NC_060948.1', target_length=62460029, target_start=39912401, target_end=39922699, residue_matches=2577, alignment_block_length=10335, mapping_quality=35, tp='P', cm=198, s1=2568, s2=1435, dv=0.0175, rl=7521, experiment='t2tChrY-readst2tChrY-SVs-a0.99-d0.1-l10000', tool='minimap', read_name='S1_39', GT_ref='NC_060948.1', GT_from=41287054, GT_to=41297476, GT_strand='+', is_correct=True, start_diff=-1374653, end_diff=-1374777, read_sv='INS')"
      ]
     },
     "metadata": {},
     "output_type": "display_data"
    },
    {
     "data": {
      "text/plain": [
       "'           GT from 41287054 to 41297476'"
      ]
     },
     "metadata": {},
     "output_type": "display_data"
    },
    {
     "data": {
      "text/plain": [
       "'       target from 39912401 to 39922699'"
      ]
     },
     "metadata": {},
     "output_type": "display_data"
    },
    {
     "data": {
      "text/plain": [
       "'    GT_labels from 39912348 to 39922769'"
      ]
     },
     "metadata": {},
     "output_type": "display_data"
    },
    {
     "data": {
      "text/plain": [
       "'target_labels from 39912402 to 39922699'"
      ]
     },
     "metadata": {},
     "output_type": "display_data"
    },
    {
     "data": {
      "text/plain": [
       "'10298 >?= 9379.800000000001 = 0.9 * union 10422 => True'"
      ]
     },
     "metadata": {},
     "output_type": "display_data"
    },
    {
     "data": {
      "text/plain": [
       "Pandas(Index=416, query_name='S1_391!NC_060948.1!7307879!7316747!+', query_length=8896, query_start=5, query_end=8896, strand='+', target_name='NC_060948.1', target_length=62460029, target_start=7049443, target_end=7058306, residue_matches=6950, alignment_block_length=8911, mapping_quality=60, tp='P', cm=643, s1=6942, s2=694, dv=0.0051, rl=38, experiment='t2tChrY-readst2tChrY-SVs-a0.99-d0.1-l10000', tool='minimap', read_name='S1_391', GT_ref='NC_060948.1', GT_from=7307879, GT_to=7316747, GT_strand='+', is_correct=True, start_diff=-258436, end_diff=-258441, read_sv='DUP')"
      ]
     },
     "metadata": {},
     "output_type": "display_data"
    },
    {
     "data": {
      "text/plain": [
       "'           GT from 7307879 to 7316747'"
      ]
     },
     "metadata": {},
     "output_type": "display_data"
    },
    {
     "data": {
      "text/plain": [
       "'       target from 7049443 to 7058306'"
      ]
     },
     "metadata": {},
     "output_type": "display_data"
    },
    {
     "data": {
      "text/plain": [
       "'    GT_labels from 7049439 to 7058306'"
      ]
     },
     "metadata": {},
     "output_type": "display_data"
    },
    {
     "data": {
      "text/plain": [
       "'target_labels from 7049444 to 7058306'"
      ]
     },
     "metadata": {},
     "output_type": "display_data"
    },
    {
     "data": {
      "text/plain": [
       "'8863 >?= 7981.2 = 0.9 * union 8868 => True'"
      ]
     },
     "metadata": {},
     "output_type": "display_data"
    },
    {
     "data": {
      "text/plain": [
       "Pandas(Index=417, query_name='S1_392!NC_060948.1!2472975!2481062!-', query_length=8094, query_start=411, query_end=8090, strand='-', target_name='NC_060948.1', target_length=62460029, target_start=2393622, target_end=2401295, residue_matches=6830, alignment_block_length=7703, mapping_quality=60, tp='P', cm=630, s1=6824, s2=99, dv=0.0007, rl=192, experiment='t2tChrY-readst2tChrY-SVs-a0.99-d0.1-l10000', tool='minimap', read_name='S1_392', GT_ref='NC_060948.1', GT_from=2472975, GT_to=2481062, GT_strand='-', is_correct=True, start_diff=-79353, end_diff=-79767, read_sv='DUP')"
      ]
     },
     "metadata": {},
     "output_type": "display_data"
    },
    {
     "data": {
      "text/plain": [
       "'           GT from 2472975 to 2481062'"
      ]
     },
     "metadata": {},
     "output_type": "display_data"
    },
    {
     "data": {
      "text/plain": [
       "'       target from 2393622 to 2401295'"
      ]
     },
     "metadata": {},
     "output_type": "display_data"
    },
    {
     "data": {
      "text/plain": [
       "'    GT_labels from -6981 to 2401304'"
      ]
     },
     "metadata": {},
     "output_type": "display_data"
    },
    {
     "data": {
      "text/plain": [
       "'target_labels from 2393623 to 2401295'"
      ]
     },
     "metadata": {},
     "output_type": "display_data"
    },
    {
     "data": {
      "text/plain": [
       "'7673 >?= 7278.3 = 0.9 * union 8087 => True'"
      ]
     },
     "metadata": {},
     "output_type": "display_data"
    },
    {
     "data": {
      "text/plain": [
       "Pandas(Index=423, query_name='S1_398!NC_060948.1!46788532!46797477!-', query_length=8958, query_start=9, query_end=8928, strand='-', target_name='NC_060948.1', target_length=62460029, target_start=45231129, target_end=45240036, residue_matches=2218, alignment_block_length=8939, mapping_quality=4, tp='P', cm=170, s1=2205, s2=2087, dv=0.0153, rl=6210, experiment='t2tChrY-readst2tChrY-SVs-a0.99-d0.1-l10000', tool='minimap', read_name='S1_398', GT_ref='NC_060948.1', GT_from=46788532, GT_to=46797477, GT_strand='-', is_correct=True, start_diff=-1557403, end_diff=-1557441, read_sv='INV')"
      ]
     },
     "metadata": {},
     "output_type": "display_data"
    },
    {
     "data": {
      "text/plain": [
       "'           GT from 46788532 to 46797477'"
      ]
     },
     "metadata": {},
     "output_type": "display_data"
    },
    {
     "data": {
      "text/plain": [
       "'       target from 45231129 to 45240036'"
      ]
     },
     "metadata": {},
     "output_type": "display_data"
    },
    {
     "data": {
      "text/plain": [
       "'    GT_labels from 45231101 to 45240045'"
      ]
     },
     "metadata": {},
     "output_type": "display_data"
    },
    {
     "data": {
      "text/plain": [
       "'target_labels from 45231130 to 45240036'"
      ]
     },
     "metadata": {},
     "output_type": "display_data"
    },
    {
     "data": {
      "text/plain": [
       "'8907 >?= 8050.5 = 0.9 * union 8945 => True'"
      ]
     },
     "metadata": {},
     "output_type": "display_data"
    },
    {
     "data": {
      "text/plain": [
       "Pandas(Index=435, query_name='S1_403!NC_060948.1!52286186!52294918!+', query_length=8746, query_start=448, query_end=7247, strand='+', target_name='NC_060948.1', target_length=62460029, target_start=50548837, target_end=50554956, residue_matches=975, alignment_block_length=6809, mapping_quality=0, tp='P', cm=72, s1=861, s2=841, dv=0.027, rl=6140, experiment='t2tChrY-readst2tChrY-SVs-a0.99-d0.1-l10000', tool='minimap', read_name='S1_403', GT_ref='NC_060948.1', GT_from=52286186, GT_to=52294918, GT_strand='+', is_correct=False, start_diff=-1737349, end_diff=-1739962, read_sv='INS')"
      ]
     },
     "metadata": {},
     "output_type": "display_data"
    },
    {
     "data": {
      "text/plain": [
       "'           GT from 52286186 to 52294918'"
      ]
     },
     "metadata": {},
     "output_type": "display_data"
    },
    {
     "data": {
      "text/plain": [
       "'       target from 50548837 to 50554956'"
      ]
     },
     "metadata": {},
     "output_type": "display_data"
    },
    {
     "data": {
      "text/plain": [
       "'    GT_labels from -107106 to 50555952'"
      ]
     },
     "metadata": {},
     "output_type": "display_data"
    },
    {
     "data": {
      "text/plain": [
       "'target_labels from 50548838 to 50554956'"
      ]
     },
     "metadata": {},
     "output_type": "display_data"
    },
    {
     "data": {
      "text/plain": [
       "'6119 >?= 7858.8 = 0.9 * union 8732 => False'"
      ]
     },
     "metadata": {},
     "output_type": "display_data"
    },
    {
     "data": {
      "text/plain": [
       "Pandas(Index=436, query_name='S1_403!NC_060948.1!52286186!52294918!+', query_length=8746, query_start=7967, query_end=8590, strand='+', target_name='NC_060948.1', target_length=62460029, target_start=50463270, target_end=50463896, residue_matches=59, alignment_block_length=626, mapping_quality=0, tp='P', cm=5, s1=58, s2=58, dv=0.0406, rl=6140, experiment='t2tChrY-readst2tChrY-SVs-a0.99-d0.1-l10000', tool='minimap', read_name='S1_403', GT_ref='NC_060948.1', GT_from=52286186, GT_to=52294918, GT_strand='+', is_correct=False, start_diff=-1822916, end_diff=-1831022, read_sv='INS')"
      ]
     },
     "metadata": {},
     "output_type": "display_data"
    },
    {
     "data": {
      "text/plain": [
       "'           GT from 52286186 to 52294918'"
      ]
     },
     "metadata": {},
     "output_type": "display_data"
    },
    {
     "data": {
      "text/plain": [
       "'       target from 50463270 to 50463896'"
      ]
     },
     "metadata": {},
     "output_type": "display_data"
    },
    {
     "data": {
      "text/plain": [
       "'    GT_labels from -107106 to 50555952'"
      ]
     },
     "metadata": {},
     "output_type": "display_data"
    },
    {
     "data": {
      "text/plain": [
       "'target_labels from 50463271 to 50463896'"
      ]
     },
     "metadata": {},
     "output_type": "display_data"
    },
    {
     "data": {
      "text/plain": [
       "'0 >?= 8422.2 = 0.9 * union 9358 => False'"
      ]
     },
     "metadata": {},
     "output_type": "display_data"
    },
    {
     "data": {
      "text/plain": [
       "Pandas(Index=448, query_name='S1_413!NC_060948.1!664844!675991!+', query_length=11199, query_start=2, query_end=11181, strand='+', target_name='NC_060948.1', target_length=62460029, target_start=643100, target_end=654003, residue_matches=9519, alignment_block_length=11192, mapping_quality=60, tp='P', cm=864, s1=9471, s2=99, dv=0.001, rl=381, experiment='t2tChrY-readst2tChrY-SVs-a0.99-d0.1-l10000', tool='minimap', read_name='S1_413', GT_ref='NC_060948.1', GT_from=664844, GT_to=675991, GT_strand='+', is_correct=True, start_diff=-21744, end_diff=-21988, read_sv='INV')"
      ]
     },
     "metadata": {},
     "output_type": "display_data"
    },
    {
     "data": {
      "text/plain": [
       "'           GT from 664844 to 675991'"
      ]
     },
     "metadata": {},
     "output_type": "display_data"
    },
    {
     "data": {
      "text/plain": [
       "'       target from 643100 to 654003'"
      ]
     },
     "metadata": {},
     "output_type": "display_data"
    },
    {
     "data": {
      "text/plain": [
       "'    GT_labels from -1927 to 654021'"
      ]
     },
     "metadata": {},
     "output_type": "display_data"
    },
    {
     "data": {
      "text/plain": [
       "'target_labels from 643101 to 654003'"
      ]
     },
     "metadata": {},
     "output_type": "display_data"
    },
    {
     "data": {
      "text/plain": [
       "'10903 >?= 10032.300000000001 = 0.9 * union 11147 => True'"
      ]
     },
     "metadata": {},
     "output_type": "display_data"
    },
    {
     "data": {
      "text/plain": [
       "Pandas(Index=453, query_name='S1_418!NC_060948.1!6456737!6465043!-', query_length=8353, query_start=14, query_end=8335, strand='-', target_name='NC_060948.1', target_length=62460029, target_start=6226804, target_end=6235077, residue_matches=6905, alignment_block_length=8337, mapping_quality=60, tp='P', cm=620, s1=6889, s2=42, dv=0.0002, rl=42, experiment='t2tChrY-readst2tChrY-SVs-a0.99-d0.1-l10000', tool='minimap', read_name='S1_418', GT_ref='NC_060948.1', GT_from=6456737, GT_to=6465043, GT_strand='-', is_correct=True, start_diff=-229933, end_diff=-229966, read_sv='DUP')"
      ]
     },
     "metadata": {},
     "output_type": "display_data"
    },
    {
     "data": {
      "text/plain": [
       "'           GT from 6456737 to 6465043'"
      ]
     },
     "metadata": {},
     "output_type": "display_data"
    },
    {
     "data": {
      "text/plain": [
       "'       target from 6226804 to 6235077'"
      ]
     },
     "metadata": {},
     "output_type": "display_data"
    },
    {
     "data": {
      "text/plain": [
       "'    GT_labels from 6226786 to 6235091'"
      ]
     },
     "metadata": {},
     "output_type": "display_data"
    },
    {
     "data": {
      "text/plain": [
       "'target_labels from 6226805 to 6235077'"
      ]
     },
     "metadata": {},
     "output_type": "display_data"
    },
    {
     "data": {
      "text/plain": [
       "'8273 >?= 7475.400000000001 = 0.9 * union 8306 => True'"
      ]
     },
     "metadata": {},
     "output_type": "display_data"
    },
    {
     "data": {
      "text/plain": [
       "Pandas(Index=461, query_name='S1_424!NC_060948.1!31545308!31556570!-', query_length=11300, query_start=8, query_end=7960, strand='-', target_name='NC_060948.1', target_length=62460029, target_start=30482568, target_end=30490497, residue_matches=859, alignment_block_length=7957, mapping_quality=0, tp='P', cm=65, s1=850, s2=831, dv=0.0244, rl=9383, experiment='t2tChrY-readst2tChrY-SVs-a0.99-d0.1-l10000', tool='minimap', read_name='S1_424', GT_ref='NC_060948.1', GT_from=31545308, GT_to=31556570, GT_strand='-', is_correct=False, start_diff=-1062740, end_diff=-1066073, read_sv='multi')"
      ]
     },
     "metadata": {},
     "output_type": "display_data"
    },
    {
     "data": {
      "text/plain": [
       "'           GT from 31545308 to 31556570'"
      ]
     },
     "metadata": {},
     "output_type": "display_data"
    },
    {
     "data": {
      "text/plain": [
       "'       target from 30482568 to 30490497'"
      ]
     },
     "metadata": {},
     "output_type": "display_data"
    },
    {
     "data": {
      "text/plain": [
       "'    GT_labels from 30481635 to 30490505'"
      ]
     },
     "metadata": {},
     "output_type": "display_data"
    },
    {
     "data": {
      "text/plain": [
       "'target_labels from 30482569 to 30490497'"
      ]
     },
     "metadata": {},
     "output_type": "display_data"
    },
    {
     "data": {
      "text/plain": [
       "'7929 >?= 10135.800000000001 = 0.9 * union 11262 => False'"
      ]
     },
     "metadata": {},
     "output_type": "display_data"
    },
    {
     "data": {
      "text/plain": [
       "Pandas(Index=462, query_name='S1_424!NC_060948.1!31545308!31556570!-', query_length=11300, query_start=9619, query_end=11130, strand='-', target_name='NC_060948.1', target_length=62460029, target_start=29938726, target_end=29940234, residue_matches=144, alignment_block_length=1511, mapping_quality=0, tp='P', cm=12, s1=144, s2=144, dv=0.0337, rl=9383, experiment='t2tChrY-readst2tChrY-SVs-a0.99-d0.1-l10000', tool='minimap', read_name='S1_424', GT_ref='NC_060948.1', GT_from=31545308, GT_to=31556570, GT_strand='-', is_correct=False, start_diff=-1606582, end_diff=-1616336, read_sv='multi')"
      ]
     },
     "metadata": {},
     "output_type": "display_data"
    },
    {
     "data": {
      "text/plain": [
       "'           GT from 31545308 to 31556570'"
      ]
     },
     "metadata": {},
     "output_type": "display_data"
    },
    {
     "data": {
      "text/plain": [
       "'       target from 29938726 to 29940234'"
      ]
     },
     "metadata": {},
     "output_type": "display_data"
    },
    {
     "data": {
      "text/plain": [
       "'    GT_labels from 30481635 to 30490505'"
      ]
     },
     "metadata": {},
     "output_type": "display_data"
    },
    {
     "data": {
      "text/plain": [
       "'target_labels from 29938727 to 29940234'"
      ]
     },
     "metadata": {},
     "output_type": "display_data"
    },
    {
     "data": {
      "text/plain": [
       "'0 >?= 11493.0 = 0.9 * union 12770 => False'"
      ]
     },
     "metadata": {},
     "output_type": "display_data"
    },
    {
     "data": {
      "text/plain": [
       "Pandas(Index=463, query_name='S1_424!NC_060948.1!31545308!31556570!-', query_length=11300, query_start=8976, query_end=9565, strand='-', target_name='NC_060948.1', target_length=62460029, target_start=29939491, target_end=29940075, residue_matches=89, alignment_block_length=589, mapping_quality=0, tp='P', cm=5, s1=87, s2=87, dv=0.0176, rl=9383, experiment='t2tChrY-readst2tChrY-SVs-a0.99-d0.1-l10000', tool='minimap', read_name='S1_424', GT_ref='NC_060948.1', GT_from=31545308, GT_to=31556570, GT_strand='-', is_correct=False, start_diff=-1605817, end_diff=-1616495, read_sv='multi')"
      ]
     },
     "metadata": {},
     "output_type": "display_data"
    },
    {
     "data": {
      "text/plain": [
       "'           GT from 31545308 to 31556570'"
      ]
     },
     "metadata": {},
     "output_type": "display_data"
    },
    {
     "data": {
      "text/plain": [
       "'       target from 29939491 to 29940075'"
      ]
     },
     "metadata": {},
     "output_type": "display_data"
    },
    {
     "data": {
      "text/plain": [
       "'    GT_labels from 30481635 to 30490505'"
      ]
     },
     "metadata": {},
     "output_type": "display_data"
    },
    {
     "data": {
      "text/plain": [
       "'target_labels from 29939492 to 29940075'"
      ]
     },
     "metadata": {},
     "output_type": "display_data"
    },
    {
     "data": {
      "text/plain": [
       "'0 >?= 10661.4 = 0.9 * union 11846 => False'"
      ]
     },
     "metadata": {},
     "output_type": "display_data"
    },
    {
     "data": {
      "text/plain": [
       "Pandas(Index=464, query_name='S1_424!NC_060948.1!31545308!31556570!-', query_length=11300, query_start=8175, query_end=8758, strand='-', target_name='NC_060948.1', target_length=62460029, target_start=29939491, target_end=29940075, residue_matches=70, alignment_block_length=584, mapping_quality=0, tp='P', cm=4, s1=70, s2=70, dv=0.0418, rl=9383, experiment='t2tChrY-readst2tChrY-SVs-a0.99-d0.1-l10000', tool='minimap', read_name='S1_424', GT_ref='NC_060948.1', GT_from=31545308, GT_to=31556570, GT_strand='-', is_correct=False, start_diff=-1605817, end_diff=-1616495, read_sv='multi')"
      ]
     },
     "metadata": {},
     "output_type": "display_data"
    },
    {
     "data": {
      "text/plain": [
       "'           GT from 31545308 to 31556570'"
      ]
     },
     "metadata": {},
     "output_type": "display_data"
    },
    {
     "data": {
      "text/plain": [
       "'       target from 29939491 to 29940075'"
      ]
     },
     "metadata": {},
     "output_type": "display_data"
    },
    {
     "data": {
      "text/plain": [
       "'    GT_labels from 30481635 to 30490505'"
      ]
     },
     "metadata": {},
     "output_type": "display_data"
    },
    {
     "data": {
      "text/plain": [
       "'target_labels from 29939492 to 29940075'"
      ]
     },
     "metadata": {},
     "output_type": "display_data"
    },
    {
     "data": {
      "text/plain": [
       "'0 >?= 10661.4 = 0.9 * union 11846 => False'"
      ]
     },
     "metadata": {},
     "output_type": "display_data"
    },
    {
     "data": {
      "text/plain": [
       "Pandas(Index=465, query_name='S1_425!NC_060948.1!17838916!17851427!+', query_length=12554, query_start=9, query_end=12527, strand='+', target_name='NC_060948.1', target_length=62460029, target_start=17199157, target_end=17211633, residue_matches=10874, alignment_block_length=12544, mapping_quality=60, tp='P', cm=1004, s1=10865, s2=259, dv=0.0006, rl=55, experiment='t2tChrY-readst2tChrY-SVs-a0.99-d0.1-l10000', tool='minimap', read_name='S1_425', GT_ref='NC_060948.1', GT_from=17838916, GT_to=17851427, GT_strand='+', is_correct=True, start_diff=-639759, end_diff=-639794, read_sv='INS')"
      ]
     },
     "metadata": {},
     "output_type": "display_data"
    },
    {
     "data": {
      "text/plain": [
       "'           GT from 17838916 to 17851427'"
      ]
     },
     "metadata": {},
     "output_type": "display_data"
    },
    {
     "data": {
      "text/plain": [
       "'       target from 17199157 to 17211633'"
      ]
     },
     "metadata": {},
     "output_type": "display_data"
    },
    {
     "data": {
      "text/plain": [
       "'    GT_labels from 17199149 to 17211659'"
      ]
     },
     "metadata": {},
     "output_type": "display_data"
    },
    {
     "data": {
      "text/plain": [
       "'target_labels from 17199158 to 17211633'"
      ]
     },
     "metadata": {},
     "output_type": "display_data"
    },
    {
     "data": {
      "text/plain": [
       "'12476 >?= 11259.9 = 0.9 * union 12511 => True'"
      ]
     },
     "metadata": {},
     "output_type": "display_data"
    },
    {
     "data": {
      "text/plain": [
       "Pandas(Index=466, query_name='S1_426!NC_060948.1!21792614!21804548!-', query_length=11977, query_start=32, query_end=11950, strand='-', target_name='NC_060948.1', target_length=62460029, target_start=21026899, target_end=21038773, residue_matches=9368, alignment_block_length=11942, mapping_quality=60, tp='P', cm=797, s1=9360, s2=1399, dv=0.0022, rl=2158, experiment='t2tChrY-readst2tChrY-SVs-a0.99-d0.1-l10000', tool='minimap', read_name='S1_426', GT_ref='NC_060948.1', GT_from=21792614, GT_to=21804548, GT_strand='-', is_correct=True, start_diff=-765715, end_diff=-765775, read_sv='DEL')"
      ]
     },
     "metadata": {},
     "output_type": "display_data"
    },
    {
     "data": {
      "text/plain": [
       "'           GT from 21792614 to 21804548'"
      ]
     },
     "metadata": {},
     "output_type": "display_data"
    },
    {
     "data": {
      "text/plain": [
       "'       target from 21026899 to 21038773'"
      ]
     },
     "metadata": {},
     "output_type": "display_data"
    },
    {
     "data": {
      "text/plain": [
       "'    GT_labels from 21026872 to 21038805'"
      ]
     },
     "metadata": {},
     "output_type": "display_data"
    },
    {
     "data": {
      "text/plain": [
       "'target_labels from 21026900 to 21038773'"
      ]
     },
     "metadata": {},
     "output_type": "display_data"
    },
    {
     "data": {
      "text/plain": [
       "'11874 >?= 10740.6 = 0.9 * union 11934 => True'"
      ]
     },
     "metadata": {},
     "output_type": "display_data"
    },
    {
     "data": {
      "text/plain": [
       "Pandas(Index=472, query_name='S1_431!NC_060948.1!49634503!49645786!+', query_length=11299, query_start=538, query_end=11115, strand='+', target_name='NC_060948.1', target_length=62460029, target_start=47980073, target_end=47990634, residue_matches=1609, alignment_block_length=10591, mapping_quality=7, tp='P', cm=118, s1=1597, s2=1310, dv=0.0162, rl=9139, experiment='t2tChrY-readst2tChrY-SVs-a0.99-d0.1-l10000', tool='minimap', read_name='S1_431', GT_ref='NC_060948.1', GT_from=49634503, GT_to=49645786, GT_strand='+', is_correct=True, start_diff=-1654430, end_diff=-1655152, read_sv='INV')"
      ]
     },
     "metadata": {},
     "output_type": "display_data"
    },
    {
     "data": {
      "text/plain": [
       "'           GT from 49634503 to 49645786'"
      ]
     },
     "metadata": {},
     "output_type": "display_data"
    },
    {
     "data": {
      "text/plain": [
       "'       target from 47980073 to 47990634'"
      ]
     },
     "metadata": {},
     "output_type": "display_data"
    },
    {
     "data": {
      "text/plain": [
       "'    GT_labels from 47979537 to 47990819'"
      ]
     },
     "metadata": {},
     "output_type": "display_data"
    },
    {
     "data": {
      "text/plain": [
       "'target_labels from 47980074 to 47990634'"
      ]
     },
     "metadata": {},
     "output_type": "display_data"
    },
    {
     "data": {
      "text/plain": [
       "'10561 >?= 10154.7 = 0.9 * union 11283 => True'"
      ]
     },
     "metadata": {},
     "output_type": "display_data"
    },
    {
     "data": {
      "text/plain": [
       "Pandas(Index=480, query_name='S1_436!NC_060948.1!29730507!29743427!-', query_length=12960, query_start=125, query_end=12794, strand='-', target_name='NC_060948.1', target_length=62460029, target_start=28776304, target_end=28788930, residue_matches=1519, alignment_block_length=12677, mapping_quality=0, tp='P', cm=110, s1=1504, s2=1504, dv=0.0227, rl=10336, experiment='t2tChrY-readst2tChrY-SVs-a0.99-d0.1-l10000', tool='minimap', read_name='S1_436', GT_ref='NC_060948.1', GT_from=29730507, GT_to=29743427, GT_strand='-', is_correct=False, start_diff=-954203, end_diff=-954497, read_sv='INS')"
      ]
     },
     "metadata": {},
     "output_type": "display_data"
    },
    {
     "data": {
      "text/plain": [
       "'           GT from 29730507 to 29743427'"
      ]
     },
     "metadata": {},
     "output_type": "display_data"
    },
    {
     "data": {
      "text/plain": [
       "'       target from 28776304 to 28788930'"
      ]
     },
     "metadata": {},
     "output_type": "display_data"
    },
    {
     "data": {
      "text/plain": [
       "'    GT_labels from 28727182 to 28740101'"
      ]
     },
     "metadata": {},
     "output_type": "display_data"
    },
    {
     "data": {
      "text/plain": [
       "'target_labels from 28776305 to 28788930'"
      ]
     },
     "metadata": {},
     "output_type": "display_data"
    },
    {
     "data": {
      "text/plain": [
       "'0 >?= 22991.4 = 0.9 * union 25546 => False'"
      ]
     },
     "metadata": {},
     "output_type": "display_data"
    },
    {
     "data": {
      "text/plain": [
       "Pandas(Index=483, query_name='S1_439!NC_060948.1!29325442!29334072!+', query_length=8643, query_start=216, query_end=8622, strand='+', target_name='NC_060948.1', target_length=62460029, target_start=28341747, target_end=28350141, residue_matches=1395, alignment_block_length=8422, mapping_quality=4, tp='P', cm=97, s1=1385, s2=1275, dv=0.026, rl=6534, experiment='t2tChrY-readst2tChrY-SVs-a0.99-d0.1-l10000', tool='minimap', read_name='S1_439', GT_ref='NC_060948.1', GT_from=29325442, GT_to=29334072, GT_strand='+', is_correct=True, start_diff=-983695, end_diff=-983931, read_sv='INS')"
      ]
     },
     "metadata": {},
     "output_type": "display_data"
    },
    {
     "data": {
      "text/plain": [
       "'           GT from 29325442 to 29334072'"
      ]
     },
     "metadata": {},
     "output_type": "display_data"
    },
    {
     "data": {
      "text/plain": [
       "'       target from 28341747 to 28350141'"
      ]
     },
     "metadata": {},
     "output_type": "display_data"
    },
    {
     "data": {
      "text/plain": [
       "'    GT_labels from 28341532 to 28350161'"
      ]
     },
     "metadata": {},
     "output_type": "display_data"
    },
    {
     "data": {
      "text/plain": [
       "'target_labels from 28341748 to 28350141'"
      ]
     },
     "metadata": {},
     "output_type": "display_data"
    },
    {
     "data": {
      "text/plain": [
       "'8394 >?= 7767.0 = 0.9 * union 8630 => True'"
      ]
     },
     "metadata": {},
     "output_type": "display_data"
    },
    {
     "data": {
      "text/plain": [
       "Pandas(Index=485, query_name='S1_440!NC_060948.1!61942734!61956456!-', query_length=13755, query_start=259, query_end=13620, strand='-', target_name='NC_060948.1', target_length=62460029, target_start=59878804, target_end=59891402, residue_matches=1092, alignment_block_length=13375, mapping_quality=9, tp='P', cm=83, s1=962, s2=555, dv=0.0518, rl=10652, experiment='t2tChrY-readst2tChrY-SVs-a0.99-d0.1-l10000', tool='minimap', read_name='S1_440', GT_ref='NC_060948.1', GT_from=61942734, GT_to=61956456, GT_strand='-', is_correct=False, start_diff=-2063930, end_diff=-2065054, read_sv='INS')"
      ]
     },
     "metadata": {},
     "output_type": "display_data"
    },
    {
     "data": {
      "text/plain": [
       "'           GT from 61942734 to 61956456'"
      ]
     },
     "metadata": {},
     "output_type": "display_data"
    },
    {
     "data": {
      "text/plain": [
       "'       target from 59878804 to 59891402'"
      ]
     },
     "metadata": {},
     "output_type": "display_data"
    },
    {
     "data": {
      "text/plain": [
       "'    GT_labels from 59878672 to 59889249'"
      ]
     },
     "metadata": {},
     "output_type": "display_data"
    },
    {
     "data": {
      "text/plain": [
       "'target_labels from 59878805 to 59891402'"
      ]
     },
     "metadata": {},
     "output_type": "display_data"
    },
    {
     "data": {
      "text/plain": [
       "'10445 >?= 14287.5 = 0.9 * union 15875 => False'"
      ]
     },
     "metadata": {},
     "output_type": "display_data"
    },
    {
     "data": {
      "text/plain": [
       "Pandas(Index=486, query_name='S1_441!NC_060948.1!20221927!20233937!+', query_length=12042, query_start=11, query_end=12027, strand='+', target_name='NC_060948.1', target_length=62460029, target_start=19484092, target_end=19496076, residue_matches=10564, alignment_block_length=12042, mapping_quality=0, tp='P', cm=984, s1=10554, s2=10540, dv=0.0002, rl=19, experiment='t2tChrY-readst2tChrY-SVs-a0.99-d0.1-l10000', tool='minimap', read_name='S1_441', GT_ref='NC_060948.1', GT_from=20221927, GT_to=20233937, GT_strand='+', is_correct=True, start_diff=-737835, end_diff=-737861, read_sv='INV')"
      ]
     },
     "metadata": {},
     "output_type": "display_data"
    },
    {
     "data": {
      "text/plain": [
       "'           GT from 20221927 to 20233937'"
      ]
     },
     "metadata": {},
     "output_type": "display_data"
    },
    {
     "data": {
      "text/plain": [
       "'       target from 19484092 to 19496076'"
      ]
     },
     "metadata": {},
     "output_type": "display_data"
    },
    {
     "data": {
      "text/plain": [
       "'    GT_labels from 19484082 to 19496091'"
      ]
     },
     "metadata": {},
     "output_type": "display_data"
    },
    {
     "data": {
      "text/plain": [
       "'target_labels from 19484093 to 19496076'"
      ]
     },
     "metadata": {},
     "output_type": "display_data"
    },
    {
     "data": {
      "text/plain": [
       "'11984 >?= 10809.0 = 0.9 * union 12010 => True'"
      ]
     },
     "metadata": {},
     "output_type": "display_data"
    },
    {
     "data": {
      "text/plain": [
       "Pandas(Index=488, query_name='S1_443!NC_060948.1!61875531!61883632!+', query_length=8134, query_start=277, query_end=8017, strand='+', target_name='NC_060948.1', target_length=62460029, target_start=59811745, target_end=59819452, residue_matches=982, alignment_block_length=7752, mapping_quality=21, tp='P', cm=70, s1=966, s2=408, dv=0.0267, rl=6305, experiment='t2tChrY-readst2tChrY-SVs-a0.99-d0.1-l10000', tool='minimap', read_name='S1_443', GT_ref='NC_060948.1', GT_from=61875531, GT_to=61883632, GT_strand='+', is_correct=True, start_diff=-2063786, end_diff=-2064180, read_sv='multi')"
      ]
     },
     "metadata": {},
     "output_type": "display_data"
    },
    {
     "data": {
      "text/plain": [
       "'           GT from 61875531 to 61883632'"
      ]
     },
     "metadata": {},
     "output_type": "display_data"
    },
    {
     "data": {
      "text/plain": [
       "'       target from 59811745 to 59819452'"
      ]
     },
     "metadata": {},
     "output_type": "display_data"
    },
    {
     "data": {
      "text/plain": [
       "'    GT_labels from 59811469 to 59819569'"
      ]
     },
     "metadata": {},
     "output_type": "display_data"
    },
    {
     "data": {
      "text/plain": [
       "'target_labels from 59811746 to 59819452'"
      ]
     },
     "metadata": {},
     "output_type": "display_data"
    },
    {
     "data": {
      "text/plain": [
       "'7707 >?= 7290.900000000001 = 0.9 * union 8101 => True'"
      ]
     },
     "metadata": {},
     "output_type": "display_data"
    },
    {
     "data": {
      "text/plain": [
       "Pandas(Index=491, query_name='S1_446!NC_060948.1!4234167!4244613!-', query_length=10474, query_start=4, query_end=10463, strand='-', target_name='NC_060948.1', target_length=62460029, target_start=4078694, target_end=4089125, residue_matches=9139, alignment_block_length=10483, mapping_quality=60, tp='P', cm=862, s1=9132, s2=205, dv=0.0004, rl=228, experiment='t2tChrY-readst2tChrY-SVs-a0.99-d0.1-l10000', tool='minimap', read_name='S1_446', GT_ref='NC_060948.1', GT_from=4234167, GT_to=4244613, GT_strand='-', is_correct=True, start_diff=-155473, end_diff=-155488, read_sv='INV')"
      ]
     },
     "metadata": {},
     "output_type": "display_data"
    },
    {
     "data": {
      "text/plain": [
       "'           GT from 4234167 to 4244613'"
      ]
     },
     "metadata": {},
     "output_type": "display_data"
    },
    {
     "data": {
      "text/plain": [
       "'       target from 4078694 to 4089125'"
      ]
     },
     "metadata": {},
     "output_type": "display_data"
    },
    {
     "data": {
      "text/plain": [
       "'    GT_labels from 4078684 to 4089129'"
      ]
     },
     "metadata": {},
     "output_type": "display_data"
    },
    {
     "data": {
      "text/plain": [
       "'target_labels from 4078695 to 4089125'"
      ]
     },
     "metadata": {},
     "output_type": "display_data"
    },
    {
     "data": {
      "text/plain": [
       "'10431 >?= 9401.4 = 0.9 * union 10446 => True'"
      ]
     },
     "metadata": {},
     "output_type": "display_data"
    },
    {
     "data": {
      "text/plain": [
       "Pandas(Index=492, query_name='S1_447!NC_060948.1!49683085!49694244!+', query_length=11196, query_start=105, query_end=11150, strand='+', target_name='NC_060948.1', target_length=62460029, target_start=48028222, target_end=48039231, residue_matches=1322, alignment_block_length=11052, mapping_quality=15, tp='P', cm=90, s1=1309, s2=769, dv=0.0269, rl=9012, experiment='t2tChrY-readst2tChrY-SVs-a0.99-d0.1-l10000', tool='minimap', read_name='S1_447', GT_ref='NC_060948.1', GT_from=49683085, GT_to=49694244, GT_strand='+', is_correct=True, start_diff=-1654863, end_diff=-1655013, read_sv='INV')"
      ]
     },
     "metadata": {},
     "output_type": "display_data"
    },
    {
     "data": {
      "text/plain": [
       "'           GT from 49683085 to 49694244'"
      ]
     },
     "metadata": {},
     "output_type": "display_data"
    },
    {
     "data": {
      "text/plain": [
       "'       target from 48028222 to 48039231'"
      ]
     },
     "metadata": {},
     "output_type": "display_data"
    },
    {
     "data": {
      "text/plain": [
       "'    GT_labels from 48028119 to 48039277'"
      ]
     },
     "metadata": {},
     "output_type": "display_data"
    },
    {
     "data": {
      "text/plain": [
       "'target_labels from 48028223 to 48039231'"
      ]
     },
     "metadata": {},
     "output_type": "display_data"
    },
    {
     "data": {
      "text/plain": [
       "'11009 >?= 10043.1 = 0.9 * union 11159 => True'"
      ]
     },
     "metadata": {},
     "output_type": "display_data"
    },
    {
     "data": {
      "text/plain": [
       "Pandas(Index=496, query_name='S1_450!NC_060948.1!27541776!27550456!-', query_length=8697, query_start=6, query_end=8684, strand='-', target_name='NC_060948.1', target_length=62460029, target_start=26596891, target_end=26605552, residue_matches=7132, alignment_block_length=8700, mapping_quality=2, tp='P', cm=661, s1=7129, s2=7086, dv=0.0037, rl=0, experiment='t2tChrY-readst2tChrY-SVs-a0.99-d0.1-l10000', tool='minimap', read_name='S1_450', GT_ref='NC_060948.1', GT_from=27541776, GT_to=27550456, GT_strand='-', is_correct=True, start_diff=-944885, end_diff=-944904, read_sv='DUP')"
      ]
     },
     "metadata": {},
     "output_type": "display_data"
    },
    {
     "data": {
      "text/plain": [
       "'           GT from 27541776 to 27550456'"
      ]
     },
     "metadata": {},
     "output_type": "display_data"
    },
    {
     "data": {
      "text/plain": [
       "'       target from 26596891 to 26605552'"
      ]
     },
     "metadata": {},
     "output_type": "display_data"
    },
    {
     "data": {
      "text/plain": [
       "'    GT_labels from 26596879 to 26605558'"
      ]
     },
     "metadata": {},
     "output_type": "display_data"
    },
    {
     "data": {
      "text/plain": [
       "'target_labels from 26596892 to 26605552'"
      ]
     },
     "metadata": {},
     "output_type": "display_data"
    },
    {
     "data": {
      "text/plain": [
       "'8661 >?= 7812.0 = 0.9 * union 8680 => True'"
      ]
     },
     "metadata": {},
     "output_type": "display_data"
    },
    {
     "data": {
      "text/plain": [
       "Pandas(Index=498, query_name='S1_452!NC_060948.1!26086568!26093677!-', query_length=7112, query_start=0, query_end=7099, strand='-', target_name='NC_060948.1', target_length=62460029, target_start=25173686, target_end=25180782, residue_matches=6194, alignment_block_length=7126, mapping_quality=0, tp='P', cm=572, s1=6188, s2=6187, dv=0.0004, rl=57, experiment='t2tChrY-readst2tChrY-SVs-a0.99-d0.1-l10000', tool='minimap', read_name='S1_452', GT_ref='NC_060948.1', GT_from=26086568, GT_to=26093677, GT_strand='-', is_correct=True, start_diff=-912882, end_diff=-912895, read_sv='multi')"
      ]
     },
     "metadata": {},
     "output_type": "display_data"
    },
    {
     "data": {
      "text/plain": [
       "'           GT from 26086568 to 26093677'"
      ]
     },
     "metadata": {},
     "output_type": "display_data"
    },
    {
     "data": {
      "text/plain": [
       "'       target from 25173686 to 25180782'"
      ]
     },
     "metadata": {},
     "output_type": "display_data"
    },
    {
     "data": {
      "text/plain": [
       "'    GT_labels from 25173674 to 25180782'"
      ]
     },
     "metadata": {},
     "output_type": "display_data"
    },
    {
     "data": {
      "text/plain": [
       "'target_labels from 25173687 to 25180782'"
      ]
     },
     "metadata": {},
     "output_type": "display_data"
    },
    {
     "data": {
      "text/plain": [
       "'7096 >?= 6398.1 = 0.9 * union 7109 => True'"
      ]
     },
     "metadata": {},
     "output_type": "display_data"
    },
    {
     "data": {
      "text/plain": [
       "Pandas(Index=500, query_name='S1_454!NC_060948.1!43296794!43304822!-', query_length=8052, query_start=93, query_end=7535, strand='-', target_name='NC_060948.1', target_length=62460029, target_start=41853800, target_end=41861221, residue_matches=680, alignment_block_length=7447, mapping_quality=1, tp='P', cm=46, s1=671, s2=633, dv=0.0395, rl=6692, experiment='t2tChrY-readst2tChrY-SVs-a0.99-d0.1-l10000', tool='minimap', read_name='S1_454', GT_ref='NC_060948.1', GT_from=43296794, GT_to=43304822, GT_strand='-', is_correct=True, start_diff=-1442994, end_diff=-1443601, read_sv='DEL')"
      ]
     },
     "metadata": {},
     "output_type": "display_data"
    },
    {
     "data": {
      "text/plain": [
       "'           GT from 43296794 to 43304822'"
      ]
     },
     "metadata": {},
     "output_type": "display_data"
    },
    {
     "data": {
      "text/plain": [
       "'       target from 41853800 to 41861221'"
      ]
     },
     "metadata": {},
     "output_type": "display_data"
    },
    {
     "data": {
      "text/plain": [
       "'    GT_labels from 41853287 to 41861314'"
      ]
     },
     "metadata": {},
     "output_type": "display_data"
    },
    {
     "data": {
      "text/plain": [
       "'target_labels from 41853801 to 41861221'"
      ]
     },
     "metadata": {},
     "output_type": "display_data"
    },
    {
     "data": {
      "text/plain": [
       "'7421 >?= 7225.2 = 0.9 * union 8028 => True'"
      ]
     },
     "metadata": {},
     "output_type": "display_data"
    },
    {
     "data": {
      "text/plain": [
       "Pandas(Index=503, query_name='S1_457!NC_060948.1!39244343!39255484!+', query_length=11175, query_start=173, query_end=11119, strand='+', target_name='NC_060948.1', target_length=62460029, target_start=37941167, target_end=37952429, residue_matches=987, alignment_block_length=11305, mapping_quality=1, tp='P', cm=72, s1=913, s2=872, dv=0.0286, rl=9225, experiment='t2tChrY-readst2tChrY-SVs-a0.99-d0.1-l10000', tool='minimap', read_name='S1_457', GT_ref='NC_060948.1', GT_from=39244343, GT_to=39255484, GT_strand='+', is_correct=True, start_diff=-1303176, end_diff=-1303055, read_sv='DUP')"
      ]
     },
     "metadata": {},
     "output_type": "display_data"
    },
    {
     "data": {
      "text/plain": [
       "'           GT from 39244343 to 39255484'"
      ]
     },
     "metadata": {},
     "output_type": "display_data"
    },
    {
     "data": {
      "text/plain": [
       "'       target from 37941167 to 37952429'"
      ]
     },
     "metadata": {},
     "output_type": "display_data"
    },
    {
     "data": {
      "text/plain": [
       "'    GT_labels from 37940995 to 37952485'"
      ]
     },
     "metadata": {},
     "output_type": "display_data"
    },
    {
     "data": {
      "text/plain": [
       "'target_labels from 37941168 to 37952429'"
      ]
     },
     "metadata": {},
     "output_type": "display_data"
    },
    {
     "data": {
      "text/plain": [
       "'10912 >?= 10341.9 = 0.9 * union 11491 => True'"
      ]
     },
     "metadata": {},
     "output_type": "display_data"
    },
    {
     "data": {
      "text/plain": [
       "Pandas(Index=507, query_name='S1_460!NC_060948.1!56605385!56617465!-', query_length=12103, query_start=104, query_end=12097, strand='-', target_name='NC_060948.1', target_length=62460029, target_start=54722526, target_end=54734496, residue_matches=1854, alignment_block_length=12008, mapping_quality=22, tp='P', cm=141, s1=1841, s2=974, dv=0.0187, rl=9918, experiment='t2tChrY-readst2tChrY-SVs-a0.99-d0.1-l10000', tool='minimap', read_name='S1_460', GT_ref='NC_060948.1', GT_from=56605385, GT_to=56617465, GT_strand='-', is_correct=True, start_diff=-1882859, end_diff=-1882969, read_sv='INV')"
      ]
     },
     "metadata": {},
     "output_type": "display_data"
    },
    {
     "data": {
      "text/plain": [
       "'           GT from 56605385 to 56617465'"
      ]
     },
     "metadata": {},
     "output_type": "display_data"
    },
    {
     "data": {
      "text/plain": [
       "'       target from 54722526 to 54734496'"
      ]
     },
     "metadata": {},
     "output_type": "display_data"
    },
    {
     "data": {
      "text/plain": [
       "'    GT_labels from 54722521 to 54734600'"
      ]
     },
     "metadata": {},
     "output_type": "display_data"
    },
    {
     "data": {
      "text/plain": [
       "'target_labels from 54722527 to 54734496'"
      ]
     },
     "metadata": {},
     "output_type": "display_data"
    },
    {
     "data": {
      "text/plain": [
       "'11970 >?= 10872.0 = 0.9 * union 12080 => True'"
      ]
     },
     "metadata": {},
     "output_type": "display_data"
    },
    {
     "data": {
      "text/plain": [
       "Pandas(Index=508, query_name='S1_461!NC_060948.1!51740631!51750204!+', query_length=9589, query_start=129, query_end=9156, strand='+', target_name='NC_060948.1', target_length=62460029, target_start=50013469, target_end=50022478, residue_matches=1566, alignment_block_length=9036, mapping_quality=9, tp='P', cm=113, s1=1557, s2=1277, dv=0.02, rl=7453, experiment='t2tChrY-readst2tChrY-SVs-a0.99-d0.1-l10000', tool='minimap', read_name='S1_461', GT_ref='NC_060948.1', GT_from=51740631, GT_to=51750204, GT_strand='+', is_correct=True, start_diff=-1727162, end_diff=-1727726, read_sv='INS')"
      ]
     },
     "metadata": {},
     "output_type": "display_data"
    },
    {
     "data": {
      "text/plain": [
       "'           GT from 51740631 to 51750204'"
      ]
     },
     "metadata": {},
     "output_type": "display_data"
    },
    {
     "data": {
      "text/plain": [
       "'       target from 50013469 to 50022478'"
      ]
     },
     "metadata": {},
     "output_type": "display_data"
    },
    {
     "data": {
      "text/plain": [
       "'    GT_labels from 50013339 to 50022911'"
      ]
     },
     "metadata": {},
     "output_type": "display_data"
    },
    {
     "data": {
      "text/plain": [
       "'target_labels from 50013470 to 50022478'"
      ]
     },
     "metadata": {},
     "output_type": "display_data"
    },
    {
     "data": {
      "text/plain": [
       "'9009 >?= 8615.7 = 0.9 * union 9573 => True'"
      ]
     },
     "metadata": {},
     "output_type": "display_data"
    },
    {
     "data": {
      "text/plain": [
       "Pandas(Index=516, query_name='S1_464!NC_060948.1!41279551!41287708!-', query_length=8192, query_start=84, query_end=4602, strand='-', target_name='NC_060948.1', target_length=62460029, target_start=45165112, target_end=45169610, residue_matches=1223, alignment_block_length=4524, mapping_quality=0, tp='P', cm=96, s1=1217, s2=1217, dv=0.0142, rl=5748, experiment='t2tChrY-readst2tChrY-SVs-a0.99-d0.1-l10000', tool='minimap', read_name='S1_464', GT_ref='NC_060948.1', GT_from=41279551, GT_to=41287708, GT_strand='-', is_correct=False, start_diff=3885561, end_diff=3881902, read_sv='DEL')"
      ]
     },
     "metadata": {},
     "output_type": "display_data"
    },
    {
     "data": {
      "text/plain": [
       "'           GT from 41279551 to 41287708'"
      ]
     },
     "metadata": {},
     "output_type": "display_data"
    },
    {
     "data": {
      "text/plain": [
       "'       target from 45165112 to 45169610'"
      ]
     },
     "metadata": {},
     "output_type": "display_data"
    },
    {
     "data": {
      "text/plain": [
       "'    GT_labels from 39908365 to 39913001'"
      ]
     },
     "metadata": {},
     "output_type": "display_data"
    },
    {
     "data": {
      "text/plain": [
       "'target_labels from 45165113 to 45169610'"
      ]
     },
     "metadata": {},
     "output_type": "display_data"
    },
    {
     "data": {
      "text/plain": [
       "'0 >?= 11389.5 = 0.9 * union 12655 => False'"
      ]
     },
     "metadata": {},
     "output_type": "display_data"
    },
    {
     "data": {
      "text/plain": [
       "Pandas(Index=517, query_name='S1_464!NC_060948.1!41279551!41287708!-', query_length=8192, query_start=5340, query_end=6032, strand='-', target_name='NC_060948.1', target_length=62460029, target_start=39908404, target_end=39909096, residue_matches=210, alignment_block_length=693, mapping_quality=5, tp='P', cm=17, s1=210, s2=191, dv=0.0158, rl=5748, experiment='t2tChrY-readst2tChrY-SVs-a0.99-d0.1-l10000', tool='minimap', read_name='S1_464', GT_ref='NC_060948.1', GT_from=41279551, GT_to=41287708, GT_strand='-', is_correct=False, start_diff=-1371147, end_diff=-1378612, read_sv='DEL')"
      ]
     },
     "metadata": {},
     "output_type": "display_data"
    },
    {
     "data": {
      "text/plain": [
       "'           GT from 41279551 to 41287708'"
      ]
     },
     "metadata": {},
     "output_type": "display_data"
    },
    {
     "data": {
      "text/plain": [
       "'       target from 39908404 to 39909096'"
      ]
     },
     "metadata": {},
     "output_type": "display_data"
    },
    {
     "data": {
      "text/plain": [
       "'    GT_labels from 39908365 to 39913001'"
      ]
     },
     "metadata": {},
     "output_type": "display_data"
    },
    {
     "data": {
      "text/plain": [
       "'target_labels from 39908405 to 39909096'"
      ]
     },
     "metadata": {},
     "output_type": "display_data"
    },
    {
     "data": {
      "text/plain": [
       "'692 >?= 7341.3 = 0.9 * union 8157 => False'"
      ]
     },
     "metadata": {},
     "output_type": "display_data"
    },
    {
     "data": {
      "text/plain": [
       "Pandas(Index=518, query_name='S1_464!NC_060948.1!41279551!41287708!-', query_length=8192, query_start=7453, query_end=8187, strand='-', target_name='NC_060948.1', target_length=62460029, target_start=39908369, target_end=39909096, residue_matches=210, alignment_block_length=734, mapping_quality=11, tp='P', cm=17, s1=208, s2=167, dv=0.0241, rl=5748, experiment='t2tChrY-readst2tChrY-SVs-a0.99-d0.1-l10000', tool='minimap', read_name='S1_464', GT_ref='NC_060948.1', GT_from=41279551, GT_to=41287708, GT_strand='-', is_correct=False, start_diff=-1371182, end_diff=-1378612, read_sv='DEL')"
      ]
     },
     "metadata": {},
     "output_type": "display_data"
    },
    {
     "data": {
      "text/plain": [
       "'           GT from 41279551 to 41287708'"
      ]
     },
     "metadata": {},
     "output_type": "display_data"
    },
    {
     "data": {
      "text/plain": [
       "'       target from 39908369 to 39909096'"
      ]
     },
     "metadata": {},
     "output_type": "display_data"
    },
    {
     "data": {
      "text/plain": [
       "'    GT_labels from 39908365 to 39913001'"
      ]
     },
     "metadata": {},
     "output_type": "display_data"
    },
    {
     "data": {
      "text/plain": [
       "'target_labels from 39908370 to 39909096'"
      ]
     },
     "metadata": {},
     "output_type": "display_data"
    },
    {
     "data": {
      "text/plain": [
       "'727 >?= 7341.3 = 0.9 * union 8157 => False'"
      ]
     },
     "metadata": {},
     "output_type": "display_data"
    },
    {
     "data": {
      "text/plain": [
       "Pandas(Index=519, query_name='S1_464!NC_060948.1!41279551!41287708!-', query_length=8192, query_start=6044, query_end=6737, strand='-', target_name='NC_060948.1', target_length=62460029, target_start=39908404, target_end=39909096, residue_matches=208, alignment_block_length=693, mapping_quality=5, tp='P', cm=16, s1=208, s2=189, dv=0.0142, rl=5748, experiment='t2tChrY-readst2tChrY-SVs-a0.99-d0.1-l10000', tool='minimap', read_name='S1_464', GT_ref='NC_060948.1', GT_from=41279551, GT_to=41287708, GT_strand='-', is_correct=False, start_diff=-1371147, end_diff=-1378612, read_sv='DEL')"
      ]
     },
     "metadata": {},
     "output_type": "display_data"
    },
    {
     "data": {
      "text/plain": [
       "'           GT from 41279551 to 41287708'"
      ]
     },
     "metadata": {},
     "output_type": "display_data"
    },
    {
     "data": {
      "text/plain": [
       "'       target from 39908404 to 39909096'"
      ]
     },
     "metadata": {},
     "output_type": "display_data"
    },
    {
     "data": {
      "text/plain": [
       "'    GT_labels from 39908365 to 39913001'"
      ]
     },
     "metadata": {},
     "output_type": "display_data"
    },
    {
     "data": {
      "text/plain": [
       "'target_labels from 39908405 to 39909096'"
      ]
     },
     "metadata": {},
     "output_type": "display_data"
    },
    {
     "data": {
      "text/plain": [
       "'692 >?= 7341.3 = 0.9 * union 8157 => False'"
      ]
     },
     "metadata": {},
     "output_type": "display_data"
    },
    {
     "data": {
      "text/plain": [
       "Pandas(Index=520, query_name='S1_464!NC_060948.1!41279551!41287708!-', query_length=8192, query_start=4629, query_end=5328, strand='-', target_name='NC_060948.1', target_length=62460029, target_start=39908404, target_end=39909096, residue_matches=205, alignment_block_length=699, mapping_quality=5, tp='P', cm=15, s1=203, s2=184, dv=0.0222, rl=5748, experiment='t2tChrY-readst2tChrY-SVs-a0.99-d0.1-l10000', tool='minimap', read_name='S1_464', GT_ref='NC_060948.1', GT_from=41279551, GT_to=41287708, GT_strand='-', is_correct=False, start_diff=-1371147, end_diff=-1378612, read_sv='DEL')"
      ]
     },
     "metadata": {},
     "output_type": "display_data"
    },
    {
     "data": {
      "text/plain": [
       "'           GT from 41279551 to 41287708'"
      ]
     },
     "metadata": {},
     "output_type": "display_data"
    },
    {
     "data": {
      "text/plain": [
       "'       target from 39908404 to 39909096'"
      ]
     },
     "metadata": {},
     "output_type": "display_data"
    },
    {
     "data": {
      "text/plain": [
       "'    GT_labels from 39908365 to 39913001'"
      ]
     },
     "metadata": {},
     "output_type": "display_data"
    },
    {
     "data": {
      "text/plain": [
       "'target_labels from 39908405 to 39909096'"
      ]
     },
     "metadata": {},
     "output_type": "display_data"
    },
    {
     "data": {
      "text/plain": [
       "'692 >?= 7341.3 = 0.9 * union 8157 => False'"
      ]
     },
     "metadata": {},
     "output_type": "display_data"
    },
    {
     "data": {
      "text/plain": [
       "Pandas(Index=521, query_name='S1_464!NC_060948.1!41279551!41287708!-', query_length=8192, query_start=6749, query_end=7441, strand='-', target_name='NC_060948.1', target_length=62460029, target_start=39908404, target_end=39909096, residue_matches=186, alignment_block_length=693, mapping_quality=5, tp='P', cm=14, s1=186, s2=167, dv=0.0159, rl=5748, experiment='t2tChrY-readst2tChrY-SVs-a0.99-d0.1-l10000', tool='minimap', read_name='S1_464', GT_ref='NC_060948.1', GT_from=41279551, GT_to=41287708, GT_strand='-', is_correct=False, start_diff=-1371147, end_diff=-1378612, read_sv='DEL')"
      ]
     },
     "metadata": {},
     "output_type": "display_data"
    },
    {
     "data": {
      "text/plain": [
       "'           GT from 41279551 to 41287708'"
      ]
     },
     "metadata": {},
     "output_type": "display_data"
    },
    {
     "data": {
      "text/plain": [
       "'       target from 39908404 to 39909096'"
      ]
     },
     "metadata": {},
     "output_type": "display_data"
    },
    {
     "data": {
      "text/plain": [
       "'    GT_labels from 39908365 to 39913001'"
      ]
     },
     "metadata": {},
     "output_type": "display_data"
    },
    {
     "data": {
      "text/plain": [
       "'target_labels from 39908405 to 39909096'"
      ]
     },
     "metadata": {},
     "output_type": "display_data"
    },
    {
     "data": {
      "text/plain": [
       "'692 >?= 7341.3 = 0.9 * union 8157 => False'"
      ]
     },
     "metadata": {},
     "output_type": "display_data"
    },
    {
     "data": {
      "text/plain": [
       "Pandas(Index=523, query_name='S1_466!NC_060948.1!34155436!34172219!-', query_length=16837, query_start=273, query_end=12000, strand='-', target_name='NC_060948.1', target_length=62460029, target_start=33020678, target_end=33032367, residue_matches=2551, alignment_block_length=11741, mapping_quality=21, tp='P', cm=191, s1=2538, s2=1624, dv=0.0139, rl=13113, experiment='t2tChrY-readst2tChrY-SVs-a0.99-d0.1-l10000', tool='minimap', read_name='S1_466', GT_ref='NC_060948.1', GT_from=34155436, GT_to=34172219, GT_strand='-', is_correct=False, start_diff=-1134758, end_diff=-1139852, read_sv='multi')"
      ]
     },
     "metadata": {},
     "output_type": "display_data"
    },
    {
     "data": {
      "text/plain": [
       "'           GT from 34155436 to 34172219'"
      ]
     },
     "metadata": {},
     "output_type": "display_data"
    },
    {
     "data": {
      "text/plain": [
       "'       target from 33020678 to 33032367'"
      ]
     },
     "metadata": {},
     "output_type": "display_data"
    },
    {
     "data": {
      "text/plain": [
       "'    GT_labels from 33020267 to 33032636'"
      ]
     },
     "metadata": {},
     "output_type": "display_data"
    },
    {
     "data": {
      "text/plain": [
       "'target_labels from 33020679 to 33032367'"
      ]
     },
     "metadata": {},
     "output_type": "display_data"
    },
    {
     "data": {
      "text/plain": [
       "'11689 >?= 15104.7 = 0.9 * union 16783 => False'"
      ]
     },
     "metadata": {},
     "output_type": "display_data"
    },
    {
     "data": {
      "text/plain": [
       "Pandas(Index=524, query_name='S1_466!NC_060948.1!34155436!34172219!-', query_length=16837, query_start=16301, query_end=16832, strand='-', target_name='NC_060948.1', target_length=62460029, target_start=33020678, target_end=33021207, residue_matches=136, alignment_block_length=531, mapping_quality=0, tp='P', cm=11, s1=136, s2=136, dv=0.0227, rl=13113, experiment='t2tChrY-readst2tChrY-SVs-a0.99-d0.1-l10000', tool='minimap', read_name='S1_466', GT_ref='NC_060948.1', GT_from=34155436, GT_to=34172219, GT_strand='-', is_correct=False, start_diff=-1134758, end_diff=-1151012, read_sv='multi')"
      ]
     },
     "metadata": {},
     "output_type": "display_data"
    },
    {
     "data": {
      "text/plain": [
       "'           GT from 34155436 to 34172219'"
      ]
     },
     "metadata": {},
     "output_type": "display_data"
    },
    {
     "data": {
      "text/plain": [
       "'       target from 33020678 to 33021207'"
      ]
     },
     "metadata": {},
     "output_type": "display_data"
    },
    {
     "data": {
      "text/plain": [
       "'    GT_labels from 33020267 to 33032636'"
      ]
     },
     "metadata": {},
     "output_type": "display_data"
    },
    {
     "data": {
      "text/plain": [
       "'target_labels from 33020679 to 33021207'"
      ]
     },
     "metadata": {},
     "output_type": "display_data"
    },
    {
     "data": {
      "text/plain": [
       "'529 >?= 15104.7 = 0.9 * union 16783 => False'"
      ]
     },
     "metadata": {},
     "output_type": "display_data"
    },
    {
     "data": {
      "text/plain": [
       "Pandas(Index=525, query_name='S1_466!NC_060948.1!34155436!34172219!-', query_length=16837, query_start=15334, query_end=15864, strand='-', target_name='NC_060948.1', target_length=62460029, target_start=33020678, target_end=33021207, residue_matches=136, alignment_block_length=531, mapping_quality=0, tp='P', cm=11, s1=135, s2=135, dv=0.0162, rl=13113, experiment='t2tChrY-readst2tChrY-SVs-a0.99-d0.1-l10000', tool='minimap', read_name='S1_466', GT_ref='NC_060948.1', GT_from=34155436, GT_to=34172219, GT_strand='-', is_correct=False, start_diff=-1134758, end_diff=-1151012, read_sv='multi')"
      ]
     },
     "metadata": {},
     "output_type": "display_data"
    },
    {
     "data": {
      "text/plain": [
       "'           GT from 34155436 to 34172219'"
      ]
     },
     "metadata": {},
     "output_type": "display_data"
    },
    {
     "data": {
      "text/plain": [
       "'       target from 33020678 to 33021207'"
      ]
     },
     "metadata": {},
     "output_type": "display_data"
    },
    {
     "data": {
      "text/plain": [
       "'    GT_labels from 33020267 to 33032636'"
      ]
     },
     "metadata": {},
     "output_type": "display_data"
    },
    {
     "data": {
      "text/plain": [
       "'target_labels from 33020679 to 33021207'"
      ]
     },
     "metadata": {},
     "output_type": "display_data"
    },
    {
     "data": {
      "text/plain": [
       "'529 >?= 15104.7 = 0.9 * union 16783 => False'"
      ]
     },
     "metadata": {},
     "output_type": "display_data"
    },
    {
     "data": {
      "text/plain": [
       "Pandas(Index=526, query_name='S1_466!NC_060948.1!34155436!34172219!-', query_length=16837, query_start=14495, query_end=14995, strand='-', target_name='NC_060948.1', target_length=62460029, target_start=38193813, target_end=38194312, residue_matches=114, alignment_block_length=500, mapping_quality=0, tp='P', cm=9, s1=114, s2=114, dv=0.0105, rl=13113, experiment='t2tChrY-readst2tChrY-SVs-a0.99-d0.1-l10000', tool='minimap', read_name='S1_466', GT_ref='NC_060948.1', GT_from=34155436, GT_to=34172219, GT_strand='-', is_correct=False, start_diff=4038377, end_diff=4022093, read_sv='multi')"
      ]
     },
     "metadata": {},
     "output_type": "display_data"
    },
    {
     "data": {
      "text/plain": [
       "'           GT from 34155436 to 34172219'"
      ]
     },
     "metadata": {},
     "output_type": "display_data"
    },
    {
     "data": {
      "text/plain": [
       "'       target from 38193813 to 38194312'"
      ]
     },
     "metadata": {},
     "output_type": "display_data"
    },
    {
     "data": {
      "text/plain": [
       "'    GT_labels from 33020267 to 33032636'"
      ]
     },
     "metadata": {},
     "output_type": "display_data"
    },
    {
     "data": {
      "text/plain": [
       "'target_labels from 38193814 to 38194312'"
      ]
     },
     "metadata": {},
     "output_type": "display_data"
    },
    {
     "data": {
      "text/plain": [
       "'0 >?= 15553.800000000001 = 0.9 * union 17282 => False'"
      ]
     },
     "metadata": {},
     "output_type": "display_data"
    },
    {
     "data": {
      "text/plain": [
       "Pandas(Index=527, query_name='S1_466!NC_060948.1!34155436!34172219!-', query_length=16837, query_start=12542, query_end=12965, strand='-', target_name='NC_060948.1', target_length=62460029, target_start=33020678, target_end=33021101, residue_matches=104, alignment_block_length=423, mapping_quality=0, tp='P', cm=9, s1=104, s2=104, dv=0.023, rl=13113, experiment='t2tChrY-readst2tChrY-SVs-a0.99-d0.1-l10000', tool='minimap', read_name='S1_466', GT_ref='NC_060948.1', GT_from=34155436, GT_to=34172219, GT_strand='-', is_correct=False, start_diff=-1134758, end_diff=-1151118, read_sv='multi')"
      ]
     },
     "metadata": {},
     "output_type": "display_data"
    },
    {
     "data": {
      "text/plain": [
       "'           GT from 34155436 to 34172219'"
      ]
     },
     "metadata": {},
     "output_type": "display_data"
    },
    {
     "data": {
      "text/plain": [
       "'       target from 33020678 to 33021101'"
      ]
     },
     "metadata": {},
     "output_type": "display_data"
    },
    {
     "data": {
      "text/plain": [
       "'    GT_labels from 33020267 to 33032636'"
      ]
     },
     "metadata": {},
     "output_type": "display_data"
    },
    {
     "data": {
      "text/plain": [
       "'target_labels from 33020679 to 33021101'"
      ]
     },
     "metadata": {},
     "output_type": "display_data"
    },
    {
     "data": {
      "text/plain": [
       "'423 >?= 15104.7 = 0.9 * union 16783 => False'"
      ]
     },
     "metadata": {},
     "output_type": "display_data"
    },
    {
     "data": {
      "text/plain": [
       "Pandas(Index=528, query_name='S1_466!NC_060948.1!34155436!34172219!-', query_length=16837, query_start=13400, query_end=13897, strand='-', target_name='NC_060948.1', target_length=62460029, target_start=38193943, target_end=38194437, residue_matches=95, alignment_block_length=497, mapping_quality=0, tp='P', cm=6, s1=94, s2=94, dv=0.0265, rl=13113, experiment='t2tChrY-readst2tChrY-SVs-a0.99-d0.1-l10000', tool='minimap', read_name='S1_466', GT_ref='NC_060948.1', GT_from=34155436, GT_to=34172219, GT_strand='-', is_correct=False, start_diff=4038507, end_diff=4022218, read_sv='multi')"
      ]
     },
     "metadata": {},
     "output_type": "display_data"
    },
    {
     "data": {
      "text/plain": [
       "'           GT from 34155436 to 34172219'"
      ]
     },
     "metadata": {},
     "output_type": "display_data"
    },
    {
     "data": {
      "text/plain": [
       "'       target from 38193943 to 38194437'"
      ]
     },
     "metadata": {},
     "output_type": "display_data"
    },
    {
     "data": {
      "text/plain": [
       "'    GT_labels from 33020267 to 33032636'"
      ]
     },
     "metadata": {},
     "output_type": "display_data"
    },
    {
     "data": {
      "text/plain": [
       "'target_labels from 38193944 to 38194437'"
      ]
     },
     "metadata": {},
     "output_type": "display_data"
    },
    {
     "data": {
      "text/plain": [
       "'0 >?= 15549.300000000001 = 0.9 * union 17277 => False'"
      ]
     },
     "metadata": {},
     "output_type": "display_data"
    },
    {
     "data": {
      "text/plain": [
       "Pandas(Index=530, query_name='S1_468!NC_060948.1!41147905!41155428!-', query_length=7557, query_start=219, query_end=7352, strand='-', target_name='NC_060948.1', target_length=62460029, target_start=45027088, target_end=45034186, residue_matches=414, alignment_block_length=7134, mapping_quality=0, tp='P', cm=29, s1=403, s2=403, dv=0.0453, rl=6238, experiment='t2tChrY-readst2tChrY-SVs-a0.99-d0.1-l10000', tool='minimap', read_name='S1_468', GT_ref='NC_060948.1', GT_from=41147905, GT_to=41155428, GT_strand='-', is_correct=False, start_diff=3879183, end_diff=3878758, read_sv='multi')"
      ]
     },
     "metadata": {},
     "output_type": "display_data"
    },
    {
     "data": {
      "text/plain": [
       "'           GT from 41147905 to 41155428'"
      ]
     },
     "metadata": {},
     "output_type": "display_data"
    },
    {
     "data": {
      "text/plain": [
       "'       target from 45027088 to 45034186'"
      ]
     },
     "metadata": {},
     "output_type": "display_data"
    },
    {
     "data": {
      "text/plain": [
       "'    GT_labels from 39779945 to 39787467'"
      ]
     },
     "metadata": {},
     "output_type": "display_data"
    },
    {
     "data": {
      "text/plain": [
       "'target_labels from 45027089 to 45034186'"
      ]
     },
     "metadata": {},
     "output_type": "display_data"
    },
    {
     "data": {
      "text/plain": [
       "'0 >?= 13158.9 = 0.9 * union 14621 => False'"
      ]
     },
     "metadata": {},
     "output_type": "display_data"
    },
    {
     "data": {
      "text/plain": [
       "Pandas(Index=532, query_name='S1_47!NC_060948.1!29993788!30007567!+', query_length=13806, query_start=654, query_end=13639, strand='+', target_name='NC_060948.1', target_length=62460029, target_start=28975474, target_end=28988435, residue_matches=2177, alignment_block_length=13000, mapping_quality=29, tp='P', cm=156, s1=2165, s2=889, dv=0.0177, rl=10992, experiment='t2tChrY-readst2tChrY-SVs-a0.99-d0.1-l10000', tool='minimap', read_name='S1_47', GT_ref='NC_060948.1', GT_from=29993788, GT_to=30007567, GT_strand='+', is_correct=True, start_diff=-1018314, end_diff=-1019132, read_sv='INV')"
      ]
     },
     "metadata": {},
     "output_type": "display_data"
    },
    {
     "data": {
      "text/plain": [
       "'           GT from 29993788 to 30007567'"
      ]
     },
     "metadata": {},
     "output_type": "display_data"
    },
    {
     "data": {
      "text/plain": [
       "'       target from 28975474 to 28988435'"
      ]
     },
     "metadata": {},
     "output_type": "display_data"
    },
    {
     "data": {
      "text/plain": [
       "'    GT_labels from 28974821 to 28988599'"
      ]
     },
     "metadata": {},
     "output_type": "display_data"
    },
    {
     "data": {
      "text/plain": [
       "'target_labels from 28975475 to 28988435'"
      ]
     },
     "metadata": {},
     "output_type": "display_data"
    },
    {
     "data": {
      "text/plain": [
       "'12961 >?= 12401.1 = 0.9 * union 13779 => True'"
      ]
     },
     "metadata": {},
     "output_type": "display_data"
    },
    {
     "data": {
      "text/plain": [
       "Pandas(Index=536, query_name='S1_473!NC_060948.1!29076890!29084723!+', query_length=7863, query_start=208, query_end=7841, strand='+', target_name='NC_060948.1', target_length=62460029, target_start=28095707, target_end=28103310, residue_matches=1159, alignment_block_length=7642, mapping_quality=14, tp='P', cm=90, s1=1144, s2=786, dv=0.0237, rl=5790, experiment='t2tChrY-readst2tChrY-SVs-a0.99-d0.1-l10000', tool='minimap', read_name='S1_473', GT_ref='NC_060948.1', GT_from=29076890, GT_to=29084723, GT_strand='+', is_correct=True, start_diff=-981183, end_diff=-981413, read_sv='multi')"
      ]
     },
     "metadata": {},
     "output_type": "display_data"
    },
    {
     "data": {
      "text/plain": [
       "'           GT from 29076890 to 29084723'"
      ]
     },
     "metadata": {},
     "output_type": "display_data"
    },
    {
     "data": {
      "text/plain": [
       "'       target from 28095707 to 28103310'"
      ]
     },
     "metadata": {},
     "output_type": "display_data"
    },
    {
     "data": {
      "text/plain": [
       "'    GT_labels from 28095500 to 28103332'"
      ]
     },
     "metadata": {},
     "output_type": "display_data"
    },
    {
     "data": {
      "text/plain": [
       "'target_labels from 28095708 to 28103310'"
      ]
     },
     "metadata": {},
     "output_type": "display_data"
    },
    {
     "data": {
      "text/plain": [
       "'7603 >?= 7049.7 = 0.9 * union 7833 => True'"
      ]
     },
     "metadata": {},
     "output_type": "display_data"
    },
    {
     "data": {
      "text/plain": [
       "Pandas(Index=537, query_name='S1_474!NC_060948.1!29369468!29377888!-', query_length=8440, query_start=193, query_end=8205, strand='-', target_name='NC_060948.1', target_length=62460029, target_start=28379698, target_end=28387690, residue_matches=1290, alignment_block_length=8022, mapping_quality=25, tp='P', cm=97, s1=1283, s2=600, dv=0.0191, rl=6351, experiment='t2tChrY-readst2tChrY-SVs-a0.99-d0.1-l10000', tool='minimap', read_name='S1_474', GT_ref='NC_060948.1', GT_from=29369468, GT_to=29377888, GT_strand='-', is_correct=True, start_diff=-989770, end_diff=-990198, read_sv='DEL')"
      ]
     },
     "metadata": {},
     "output_type": "display_data"
    },
    {
     "data": {
      "text/plain": [
       "'           GT from 29369468 to 29377888'"
      ]
     },
     "metadata": {},
     "output_type": "display_data"
    },
    {
     "data": {
      "text/plain": [
       "'       target from 28379698 to 28387690'"
      ]
     },
     "metadata": {},
     "output_type": "display_data"
    },
    {
     "data": {
      "text/plain": [
       "'    GT_labels from 28379463 to 28387882'"
      ]
     },
     "metadata": {},
     "output_type": "display_data"
    },
    {
     "data": {
      "text/plain": [
       "'target_labels from 28379699 to 28387690'"
      ]
     },
     "metadata": {},
     "output_type": "display_data"
    },
    {
     "data": {
      "text/plain": [
       "'7992 >?= 7578.0 = 0.9 * union 8420 => True'"
      ]
     },
     "metadata": {},
     "output_type": "display_data"
    },
    {
     "data": {
      "text/plain": [
       "Pandas(Index=538, query_name='S1_475!NC_060948.1!50289467!50297005!+', query_length=7555, query_start=504, query_end=7305, strand='+', target_name='NC_060948.1', target_length=62460029, target_start=48623062, target_end=48629856, residue_matches=950, alignment_block_length=6805, mapping_quality=8, tp='P', cm=70, s1=946, s2=742, dv=0.0267, rl=5881, experiment='t2tChrY-readst2tChrY-SVs-a0.99-d0.1-l10000', tool='minimap', read_name='S1_475', GT_ref='NC_060948.1', GT_from=50289467, GT_to=50297005, GT_strand='+', is_correct=True, start_diff=-1666405, end_diff=-1667149, read_sv='INS')"
      ]
     },
     "metadata": {},
     "output_type": "display_data"
    },
    {
     "data": {
      "text/plain": [
       "'           GT from 50289467 to 50297005'"
      ]
     },
     "metadata": {},
     "output_type": "display_data"
    },
    {
     "data": {
      "text/plain": [
       "'       target from 48623062 to 48629856'"
      ]
     },
     "metadata": {},
     "output_type": "display_data"
    },
    {
     "data": {
      "text/plain": [
       "'    GT_labels from 48622566 to 48630103'"
      ]
     },
     "metadata": {},
     "output_type": "display_data"
    },
    {
     "data": {
      "text/plain": [
       "'target_labels from 48623063 to 48629856'"
      ]
     },
     "metadata": {},
     "output_type": "display_data"
    },
    {
     "data": {
      "text/plain": [
       "'6794 >?= 6784.2 = 0.9 * union 7538 => True'"
      ]
     },
     "metadata": {},
     "output_type": "display_data"
    },
    {
     "data": {
      "text/plain": [
       "Pandas(Index=539, query_name='S1_476!NC_060948.1!23471848!23482740!-', query_length=10944, query_start=5, query_end=10933, strand='-', target_name='NC_060948.1', target_length=62460029, target_start=22663286, target_end=22674162, residue_matches=9376, alignment_block_length=10942, mapping_quality=60, tp='P', cm=894, s1=9367, s2=2824, dv=0.0006, rl=19, experiment='t2tChrY-readst2tChrY-SVs-a0.99-d0.1-l10000', tool='minimap', read_name='S1_476', GT_ref='NC_060948.1', GT_from=23471848, GT_to=23482740, GT_strand='-', is_correct=True, start_diff=-808562, end_diff=-808578, read_sv='DUP')"
      ]
     },
     "metadata": {},
     "output_type": "display_data"
    },
    {
     "data": {
      "text/plain": [
       "'           GT from 23471848 to 23482740'"
      ]
     },
     "metadata": {},
     "output_type": "display_data"
    },
    {
     "data": {
      "text/plain": [
       "'       target from 22663286 to 22674162'"
      ]
     },
     "metadata": {},
     "output_type": "display_data"
    },
    {
     "data": {
      "text/plain": [
       "'    GT_labels from 22663276 to 22674167'"
      ]
     },
     "metadata": {},
     "output_type": "display_data"
    },
    {
     "data": {
      "text/plain": [
       "'target_labels from 22663287 to 22674162'"
      ]
     },
     "metadata": {},
     "output_type": "display_data"
    },
    {
     "data": {
      "text/plain": [
       "'10876 >?= 9802.800000000001 = 0.9 * union 10892 => True'"
      ]
     },
     "metadata": {},
     "output_type": "display_data"
    },
    {
     "data": {
      "text/plain": [
       "Pandas(Index=541, query_name='S1_478!NC_060948.1!20813726!20825120!-', query_length=11430, query_start=13, query_end=11416, strand='-', target_name='NC_060948.1', target_length=62460029, target_start=20068256, target_end=20079623, residue_matches=9988, alignment_block_length=11421, mapping_quality=60, tp='P', cm=935, s1=9980, s2=272, dv=0.0002, rl=92, experiment='t2tChrY-readst2tChrY-SVs-a0.99-d0.1-l10000', tool='minimap', read_name='S1_478', GT_ref='NC_060948.1', GT_from=20813726, GT_to=20825120, GT_strand='-', is_correct=True, start_diff=-745470, end_diff=-745497, read_sv='multi')"
      ]
     },
     "metadata": {},
     "output_type": "display_data"
    },
    {
     "data": {
      "text/plain": [
       "'           GT from 20813726 to 20825120'"
      ]
     },
     "metadata": {},
     "output_type": "display_data"
    },
    {
     "data": {
      "text/plain": [
       "'       target from 20068256 to 20079623'"
      ]
     },
     "metadata": {},
     "output_type": "display_data"
    },
    {
     "data": {
      "text/plain": [
       "'    GT_labels from 20068243 to 20079636'"
      ]
     },
     "metadata": {},
     "output_type": "display_data"
    },
    {
     "data": {
      "text/plain": [
       "'target_labels from 20068257 to 20079623'"
      ]
     },
     "metadata": {},
     "output_type": "display_data"
    },
    {
     "data": {
      "text/plain": [
       "'11367 >?= 10254.6 = 0.9 * union 11394 => True'"
      ]
     },
     "metadata": {},
     "output_type": "display_data"
    },
    {
     "data": {
      "text/plain": [
       "Pandas(Index=542, query_name='S1_479!NC_060948.1!41869669!41882026!+', query_length=12384, query_start=40, query_end=12351, strand='+', target_name='NC_060948.1', target_length=62460029, target_start=40485066, target_end=40497639, residue_matches=2052, alignment_block_length=12618, mapping_quality=21, tp='P', cm=136, s1=1993, s2=1184, dv=0.0206, rl=9451, experiment='t2tChrY-readst2tChrY-SVs-a0.99-d0.1-l10000', tool='minimap', read_name='S1_479', GT_ref='NC_060948.1', GT_from=41869669, GT_to=41882026, GT_strand='+', is_correct=True, start_diff=-1384603, end_diff=-1384387, read_sv='DUP')"
      ]
     },
     "metadata": {},
     "output_type": "display_data"
    },
    {
     "data": {
      "text/plain": [
       "'           GT from 41869669 to 41882026'"
      ]
     },
     "metadata": {},
     "output_type": "display_data"
    },
    {
     "data": {
      "text/plain": [
       "'       target from 40485066 to 40497639'"
      ]
     },
     "metadata": {},
     "output_type": "display_data"
    },
    {
     "data": {
      "text/plain": [
       "'    GT_labels from 40485026 to 40497672'"
      ]
     },
     "metadata": {},
     "output_type": "display_data"
    },
    {
     "data": {
      "text/plain": [
       "'target_labels from 40485067 to 40497639'"
      ]
     },
     "metadata": {},
     "output_type": "display_data"
    },
    {
     "data": {
      "text/plain": [
       "'12283 >?= 11382.300000000001 = 0.9 * union 12647 => True'"
      ]
     },
     "metadata": {},
     "output_type": "display_data"
    },
    {
     "data": {
      "text/plain": [
       "Pandas(Index=543, query_name='S1_48!NC_060948.1!53948820!53960228!-', query_length=11441, query_start=726, query_end=11068, strand='-', target_name='NC_060948.1', target_length=62460029, target_start=52160771, target_end=52171190, residue_matches=548, alignment_block_length=10450, mapping_quality=6, tp='P', cm=39, s1=520, s2=279, dv=0.0536, rl=9473, experiment='t2tChrY-readst2tChrY-SVs-a0.99-d0.1-l10000', tool='minimap', read_name='S1_48', GT_ref='NC_060948.1', GT_from=53948820, GT_to=53960228, GT_strand='-', is_correct=False, start_diff=-1788049, end_diff=-1789038, read_sv='multi')"
      ]
     },
     "metadata": {},
     "output_type": "display_data"
    },
    {
     "data": {
      "text/plain": [
       "'           GT from 53948820 to 53960228'"
      ]
     },
     "metadata": {},
     "output_type": "display_data"
    },
    {
     "data": {
      "text/plain": [
       "'       target from 52160771 to 52171190'"
      ]
     },
     "metadata": {},
     "output_type": "display_data"
    },
    {
     "data": {
      "text/plain": [
       "'    GT_labels from 52160398 to 52169495'"
      ]
     },
     "metadata": {},
     "output_type": "display_data"
    },
    {
     "data": {
      "text/plain": [
       "'target_labels from 52160772 to 52171190'"
      ]
     },
     "metadata": {},
     "output_type": "display_data"
    },
    {
     "data": {
      "text/plain": [
       "'8724 >?= 11792.7 = 0.9 * union 13103 => False'"
      ]
     },
     "metadata": {},
     "output_type": "display_data"
    },
    {
     "data": {
      "text/plain": [
       "Pandas(Index=545, query_name='S1_481!NC_060948.1!9633827!9643859!+', query_length=10056, query_start=8, query_end=9891, strand='+', target_name='NC_060948.1', target_length=62460029, target_start=9286634, target_end=9296494, residue_matches=8690, alignment_block_length=9906, mapping_quality=0, tp='P', cm=812, s1=8686, s2=8686, dv=0.0005, rl=0, experiment='t2tChrY-readst2tChrY-SVs-a0.99-d0.1-l10000', tool='minimap', read_name='S1_481', GT_ref='NC_060948.1', GT_from=9633827, GT_to=9643859, GT_strand='+', is_correct=True, start_diff=-347193, end_diff=-347365, read_sv='DEL')"
      ]
     },
     "metadata": {},
     "output_type": "display_data"
    },
    {
     "data": {
      "text/plain": [
       "'           GT from 9633827 to 9643859'"
      ]
     },
     "metadata": {},
     "output_type": "display_data"
    },
    {
     "data": {
      "text/plain": [
       "'       target from 9286634 to 9296494'"
      ]
     },
     "metadata": {},
     "output_type": "display_data"
    },
    {
     "data": {
      "text/plain": [
       "'    GT_labels from 9286627 to 9297277'"
      ]
     },
     "metadata": {},
     "output_type": "display_data"
    },
    {
     "data": {
      "text/plain": [
       "'target_labels from 9286635 to 9296494'"
      ]
     },
     "metadata": {},
     "output_type": "display_data"
    },
    {
     "data": {
      "text/plain": [
       "'9860 >?= 9028.800000000001 = 0.9 * union 10032 => True'"
      ]
     },
     "metadata": {},
     "output_type": "display_data"
    },
    {
     "data": {
      "text/plain": [
       "Pandas(Index=548, query_name='S1_483!NC_060948.1!31364339!31374495!+', query_length=10191, query_start=294, query_end=9670, strand='+', target_name='NC_060948.1', target_length=62460029, target_start=30301288, target_end=30310632, residue_matches=1075, alignment_block_length=9381, mapping_quality=0, tp='P', cm=85, s1=1062, s2=1053, dv=0.0244, rl=8254, experiment='t2tChrY-readst2tChrY-SVs-a0.99-d0.1-l10000', tool='minimap', read_name='S1_483', GT_ref='NC_060948.1', GT_from=31364339, GT_to=31374495, GT_strand='+', is_correct=True, start_diff=-1063051, end_diff=-1063863, read_sv='INV')"
      ]
     },
     "metadata": {},
     "output_type": "display_data"
    },
    {
     "data": {
      "text/plain": [
       "'           GT from 31364339 to 31374495'"
      ]
     },
     "metadata": {},
     "output_type": "display_data"
    },
    {
     "data": {
      "text/plain": [
       "'       target from 30301288 to 30310632'"
      ]
     },
     "metadata": {},
     "output_type": "display_data"
    },
    {
     "data": {
      "text/plain": [
       "'    GT_labels from 30300997 to 30311152'"
      ]
     },
     "metadata": {},
     "output_type": "display_data"
    },
    {
     "data": {
      "text/plain": [
       "'target_labels from 30301289 to 30310632'"
      ]
     },
     "metadata": {},
     "output_type": "display_data"
    },
    {
     "data": {
      "text/plain": [
       "'9344 >?= 9140.4 = 0.9 * union 10156 => True'"
      ]
     },
     "metadata": {},
     "output_type": "display_data"
    },
    {
     "data": {
      "text/plain": [
       "Pandas(Index=551, query_name='S1_486!NC_060948.1!17080747!17093108!-', query_length=12394, query_start=28, query_end=12367, strand='-', target_name='NC_060948.1', target_length=62460029, target_start=16466422, target_end=16475060, residue_matches=7490, alignment_block_length=12635, mapping_quality=60, tp='P', cm=694, s1=6820, s2=547, dv=0.0196, rl=19, experiment='t2tChrY-readst2tChrY-SVs-a0.99-d0.1-l10000', tool='minimap', read_name='S1_486', GT_ref='NC_060948.1', GT_from=17080747, GT_to=17093108, GT_strand='-', is_correct=False, start_diff=-614325, end_diff=-618048, read_sv='DUP')"
      ]
     },
     "metadata": {},
     "output_type": "display_data"
    },
    {
     "data": {
      "text/plain": [
       "'           GT from 17080747 to 17093108'"
      ]
     },
     "metadata": {},
     "output_type": "display_data"
    },
    {
     "data": {
      "text/plain": [
       "'       target from 16466422 to 16475060'"
      ]
     },
     "metadata": {},
     "output_type": "display_data"
    },
    {
     "data": {
      "text/plain": [
       "'    GT_labels from 16466397 to 16475087'"
      ]
     },
     "metadata": {},
     "output_type": "display_data"
    },
    {
     "data": {
      "text/plain": [
       "'target_labels from 16466423 to 16475060'"
      ]
     },
     "metadata": {},
     "output_type": "display_data"
    },
    {
     "data": {
      "text/plain": [
       "'8354 >?= 11380.5 = 0.9 * union 12645 => False'"
      ]
     },
     "metadata": {},
     "output_type": "display_data"
    },
    {
     "data": {
      "text/plain": [
       "Pandas(Index=552, query_name='S1_487!NC_060948.1!60635296!60643981!+', query_length=8718, query_start=172, query_end=8686, strand='+', target_name='NC_060948.1', target_length=62460029, target_start=58609193, target_end=58617675, residue_matches=975, alignment_block_length=8518, mapping_quality=0, tp='P', cm=71, s1=964, s2=964, dv=0.0358, rl=6887, experiment='t2tChrY-readst2tChrY-SVs-a0.99-d0.1-l10000', tool='minimap', read_name='S1_487', GT_ref='NC_060948.1', GT_from=60635296, GT_to=60643981, GT_strand='+', is_correct=True, start_diff=-2026103, end_diff=-2026306, read_sv='INS')"
      ]
     },
     "metadata": {},
     "output_type": "display_data"
    },
    {
     "data": {
      "text/plain": [
       "'           GT from 60635296 to 60643981'"
      ]
     },
     "metadata": {},
     "output_type": "display_data"
    },
    {
     "data": {
      "text/plain": [
       "'       target from 58609193 to 58617675'"
      ]
     },
     "metadata": {},
     "output_type": "display_data"
    },
    {
     "data": {
      "text/plain": [
       "'    GT_labels from 58609023 to 58617707'"
      ]
     },
     "metadata": {},
     "output_type": "display_data"
    },
    {
     "data": {
      "text/plain": [
       "'target_labels from 58609194 to 58617675'"
      ]
     },
     "metadata": {},
     "output_type": "display_data"
    },
    {
     "data": {
      "text/plain": [
       "'8482 >?= 7816.5 = 0.9 * union 8685 => True'"
      ]
     },
     "metadata": {},
     "output_type": "display_data"
    },
    {
     "data": {
      "text/plain": [
       "Pandas(Index=557, query_name='S1_491!NC_060948.1!16659468!16673015!+', query_length=13586, query_start=4, query_end=13580, strand='+', target_name='NC_060948.1', target_length=62460029, target_start=16058719, target_end=16070072, residue_matches=9938, alignment_block_length=13599, mapping_quality=60, tp='P', cm=906, s1=9589, s2=1472, dv=0.0103, rl=23, experiment='t2tChrY-readst2tChrY-SVs-a0.99-d0.1-l10000', tool='minimap', read_name='S1_491', GT_ref='NC_060948.1', GT_from=16659468, GT_to=16673015, GT_strand='+', is_correct=False, start_diff=-600749, end_diff=-602943, read_sv='INS')"
      ]
     },
     "metadata": {},
     "output_type": "display_data"
    },
    {
     "data": {
      "text/plain": [
       "'           GT from 16659468 to 16673015'"
      ]
     },
     "metadata": {},
     "output_type": "display_data"
    },
    {
     "data": {
      "text/plain": [
       "'       target from 16058719 to 16070072'"
      ]
     },
     "metadata": {},
     "output_type": "display_data"
    },
    {
     "data": {
      "text/plain": [
       "'    GT_labels from 16058716 to 16070078'"
      ]
     },
     "metadata": {},
     "output_type": "display_data"
    },
    {
     "data": {
      "text/plain": [
       "'target_labels from 16058720 to 16070072'"
      ]
     },
     "metadata": {},
     "output_type": "display_data"
    },
    {
     "data": {
      "text/plain": [
       "'11353 >?= 12192.300000000001 = 0.9 * union 13547 => False'"
      ]
     },
     "metadata": {},
     "output_type": "display_data"
    },
    {
     "data": {
      "text/plain": [
       "Pandas(Index=558, query_name='S1_492!NC_060948.1!23104948!23116208!-', query_length=11289, query_start=18, query_end=11263, strand='-', target_name='NC_060948.1', target_length=62460029, target_start=22304412, target_end=22315628, residue_matches=9748, alignment_block_length=11272, mapping_quality=60, tp='P', cm=922, s1=9734, s2=638, dv=0.0005, rl=80, experiment='t2tChrY-readst2tChrY-SVs-a0.99-d0.1-l10000', tool='minimap', read_name='S1_492', GT_ref='NC_060948.1', GT_from=23104948, GT_to=23116208, GT_strand='-', is_correct=True, start_diff=-800536, end_diff=-800580, read_sv='INS')"
      ]
     },
     "metadata": {},
     "output_type": "display_data"
    },
    {
     "data": {
      "text/plain": [
       "'           GT from 23104948 to 23116208'"
      ]
     },
     "metadata": {},
     "output_type": "display_data"
    },
    {
     "data": {
      "text/plain": [
       "'       target from 22304412 to 22315628'"
      ]
     },
     "metadata": {},
     "output_type": "display_data"
    },
    {
     "data": {
      "text/plain": [
       "'    GT_labels from 22304387 to 22315646'"
      ]
     },
     "metadata": {},
     "output_type": "display_data"
    },
    {
     "data": {
      "text/plain": [
       "'target_labels from 22304413 to 22315628'"
      ]
     },
     "metadata": {},
     "output_type": "display_data"
    },
    {
     "data": {
      "text/plain": [
       "'11216 >?= 10134.0 = 0.9 * union 11260 => True'"
      ]
     },
     "metadata": {},
     "output_type": "display_data"
    },
    {
     "data": {
      "text/plain": [
       "Pandas(Index=559, query_name='S1_493!NC_060948.1!46646299!46659160!+', query_length=12896, query_start=171, query_end=12210, strand='+', target_name='NC_060948.1', target_length=62460029, target_start=45089233, target_end=45101097, residue_matches=1380, alignment_block_length=12049, mapping_quality=1, tp='P', cm=100, s1=1342, s2=1281, dv=0.0204, rl=10244, experiment='t2tChrY-readst2tChrY-SVs-a0.99-d0.1-l10000', tool='minimap', read_name='S1_493', GT_ref='NC_060948.1', GT_from=46646299, GT_to=46659160, GT_strand='+', is_correct=True, start_diff=-1557066, end_diff=-1558063, read_sv='multi')"
      ]
     },
     "metadata": {},
     "output_type": "display_data"
    },
    {
     "data": {
      "text/plain": [
       "'           GT from 46646299 to 46659160'"
      ]
     },
     "metadata": {},
     "output_type": "display_data"
    },
    {
     "data": {
      "text/plain": [
       "'       target from 45089233 to 45101097'"
      ]
     },
     "metadata": {},
     "output_type": "display_data"
    },
    {
     "data": {
      "text/plain": [
       "'    GT_labels from -94163 to 45102045'"
      ]
     },
     "metadata": {},
     "output_type": "display_data"
    },
    {
     "data": {
      "text/plain": [
       "'target_labels from 45089234 to 45101097'"
      ]
     },
     "metadata": {},
     "output_type": "display_data"
    },
    {
     "data": {
      "text/plain": [
       "'11864 >?= 11574.9 = 0.9 * union 12861 => True'"
      ]
     },
     "metadata": {},
     "output_type": "display_data"
    },
    {
     "data": {
      "text/plain": [
       "Pandas(Index=564, query_name='S1_496!NC_060948.1!39060359!39070068!-', query_length=9734, query_start=107, query_end=9607, strand='-', target_name='NC_060948.1', target_length=62460029, target_start=37759912, target_end=37769386, residue_matches=1013, alignment_block_length=9508, mapping_quality=2, tp='P', cm=72, s1=1000, s2=924, dv=0.0282, rl=8033, experiment='t2tChrY-readst2tChrY-SVs-a0.99-d0.1-l10000', tool='minimap', read_name='S1_496', GT_ref='NC_060948.1', GT_from=39060359, GT_to=39070068, GT_strand='-', is_correct=True, start_diff=-1300447, end_diff=-1300682, read_sv='INS')"
      ]
     },
     "metadata": {},
     "output_type": "display_data"
    },
    {
     "data": {
      "text/plain": [
       "'           GT from 39060359 to 39070068'"
      ]
     },
     "metadata": {},
     "output_type": "display_data"
    },
    {
     "data": {
      "text/plain": [
       "'       target from 37759912 to 37769386'"
      ]
     },
     "metadata": {},
     "output_type": "display_data"
    },
    {
     "data": {
      "text/plain": [
       "'    GT_labels from 37759785 to 37769493'"
      ]
     },
     "metadata": {},
     "output_type": "display_data"
    },
    {
     "data": {
      "text/plain": [
       "'target_labels from 37759913 to 37769386'"
      ]
     },
     "metadata": {},
     "output_type": "display_data"
    },
    {
     "data": {
      "text/plain": [
       "'9474 >?= 8738.1 = 0.9 * union 9709 => True'"
      ]
     },
     "metadata": {},
     "output_type": "display_data"
    },
    {
     "data": {
      "text/plain": [
       "Pandas(Index=575, query_name='S1_5!NC_060948.1!3831640!3840770!+', query_length=9150, query_start=16, query_end=9124, strand='+', target_name='NC_060948.1', target_length=62460029, target_start=3683810, target_end=3693366, residue_matches=8052, alignment_block_length=9592, mapping_quality=60, tp='P', cm=769, s1=7971, s2=99, dv=0.0002, rl=0, experiment='t2tChrY-readst2tChrY-SVs-a0.99-d0.1-l10000', tool='minimap', read_name='S1_5', GT_ref='NC_060948.1', GT_from=3831640, GT_to=3840770, GT_strand='+', is_correct=True, start_diff=-147830, end_diff=-147404, read_sv='INV')"
      ]
     },
     "metadata": {},
     "output_type": "display_data"
    },
    {
     "data": {
      "text/plain": [
       "'           GT from 3831640 to 3840770'"
      ]
     },
     "metadata": {},
     "output_type": "display_data"
    },
    {
     "data": {
      "text/plain": [
       "'       target from 3683810 to 3693366'"
      ]
     },
     "metadata": {},
     "output_type": "display_data"
    },
    {
     "data": {
      "text/plain": [
       "'    GT_labels from 3683795 to 3693392'"
      ]
     },
     "metadata": {},
     "output_type": "display_data"
    },
    {
     "data": {
      "text/plain": [
       "'target_labels from 3683811 to 3693366'"
      ]
     },
     "metadata": {},
     "output_type": "display_data"
    },
    {
     "data": {
      "text/plain": [
       "'9088 >?= 8638.2 = 0.9 * union 9598 => True'"
      ]
     },
     "metadata": {},
     "output_type": "display_data"
    },
    {
     "data": {
      "text/plain": [
       "Pandas(Index=578, query_name='S1_501!NC_060948.1!35857797!35866135!+', query_length=8360, query_start=282, query_end=8077, strand='+', target_name='NC_060948.1', target_length=62460029, target_start=34648731, target_end=34656542, residue_matches=808, alignment_block_length=7832, mapping_quality=15, tp='P', cm=54, s1=795, s2=375, dv=0.0339, rl=6357, experiment='t2tChrY-readst2tChrY-SVs-a0.99-d0.1-l10000', tool='minimap', read_name='S1_501', GT_ref='NC_060948.1', GT_from=35857797, GT_to=35866135, GT_strand='+', is_correct=False, start_diff=-1209066, end_diff=-1209593, read_sv='DUP')"
      ]
     },
     "metadata": {},
     "output_type": "display_data"
    },
    {
     "data": {
      "text/plain": [
       "'           GT from 35857797 to 35866135'"
      ]
     },
     "metadata": {},
     "output_type": "display_data"
    },
    {
     "data": {
      "text/plain": [
       "'       target from 34648731 to 34656542'"
      ]
     },
     "metadata": {},
     "output_type": "display_data"
    },
    {
     "data": {
      "text/plain": [
       "'    GT_labels from -71291 to 34654665'"
      ]
     },
     "metadata": {},
     "output_type": "display_data"
    },
    {
     "data": {
      "text/plain": [
       "'target_labels from 34648732 to 34656542'"
      ]
     },
     "metadata": {},
     "output_type": "display_data"
    },
    {
     "data": {
      "text/plain": [
       "'5934 >?= 9193.5 = 0.9 * union 10215 => False'"
      ]
     },
     "metadata": {},
     "output_type": "display_data"
    },
    {
     "data": {
      "text/plain": [
       "Pandas(Index=579, query_name='S1_502!NC_060948.1!27650376!27664415!-', query_length=14064, query_start=1, query_end=14057, strand='-', target_name='NC_060948.1', target_length=62460029, target_start=26703138, target_end=26717169, residue_matches=12260, alignment_block_length=14097, mapping_quality=0, tp='P', cm=1149, s1=12251, s2=12220, dv=0.0007, rl=0, experiment='t2tChrY-readst2tChrY-SVs-a0.99-d0.1-l10000', tool='minimap', read_name='S1_502', GT_ref='NC_060948.1', GT_from=27650376, GT_to=27664415, GT_strand='-', is_correct=True, start_diff=-947238, end_diff=-947246, read_sv='INV')"
      ]
     },
     "metadata": {},
     "output_type": "display_data"
    },
    {
     "data": {
      "text/plain": [
       "'           GT from 27650376 to 27664415'"
      ]
     },
     "metadata": {},
     "output_type": "display_data"
    },
    {
     "data": {
      "text/plain": [
       "'       target from 26703138 to 26717169'"
      ]
     },
     "metadata": {},
     "output_type": "display_data"
    },
    {
     "data": {
      "text/plain": [
       "'    GT_labels from 26703132 to 26717170'"
      ]
     },
     "metadata": {},
     "output_type": "display_data"
    },
    {
     "data": {
      "text/plain": [
       "'target_labels from 26703139 to 26717169'"
      ]
     },
     "metadata": {},
     "output_type": "display_data"
    },
    {
     "data": {
      "text/plain": [
       "'14031 >?= 12635.1 = 0.9 * union 14039 => True'"
      ]
     },
     "metadata": {},
     "output_type": "display_data"
    },
    {
     "data": {
      "text/plain": [
       "Pandas(Index=583, query_name='S1_506!NC_060948.1!49530454!49542116!-', query_length=11698, query_start=51, query_end=11346, strand='-', target_name='NC_060948.1', target_length=62460029, target_start=47875929, target_end=47887190, residue_matches=1431, alignment_block_length=11302, mapping_quality=2, tp='P', cm=108, s1=1420, s2=1336, dv=0.0236, rl=9610, experiment='t2tChrY-readst2tChrY-SVs-a0.99-d0.1-l10000', tool='minimap', read_name='S1_506', GT_ref='NC_060948.1', GT_from=49530454, GT_to=49542116, GT_strand='-', is_correct=True, start_diff=-1654525, end_diff=-1654926, read_sv='multi')"
      ]
     },
     "metadata": {},
     "output_type": "display_data"
    },
    {
     "data": {
      "text/plain": [
       "'           GT from 49530454 to 49542116'"
      ]
     },
     "metadata": {},
     "output_type": "display_data"
    },
    {
     "data": {
      "text/plain": [
       "'       target from 47875929 to 47887190'"
      ]
     },
     "metadata": {},
     "output_type": "display_data"
    },
    {
     "data": {
      "text/plain": [
       "'    GT_labels from 47875579 to 47887240'"
      ]
     },
     "metadata": {},
     "output_type": "display_data"
    },
    {
     "data": {
      "text/plain": [
       "'target_labels from 47875930 to 47887190'"
      ]
     },
     "metadata": {},
     "output_type": "display_data"
    },
    {
     "data": {
      "text/plain": [
       "'11261 >?= 10495.800000000001 = 0.9 * union 11662 => True'"
      ]
     },
     "metadata": {},
     "output_type": "display_data"
    },
    {
     "data": {
      "text/plain": [
       "Pandas(Index=585, query_name='S1_508!NC_060948.1!17704784!17713728!-', query_length=8960, query_start=31, query_end=8954, strand='-', target_name='NC_060948.1', target_length=62460029, target_start=17069696, target_end=17078604, residue_matches=8020, alignment_block_length=8943, mapping_quality=2, tp='P', cm=736, s1=8015, s2=7967, dv=0.0001, rl=0, experiment='t2tChrY-readst2tChrY-SVs-a0.99-d0.1-l10000', tool='minimap', read_name='S1_508', GT_ref='NC_060948.1', GT_from=17704784, GT_to=17713728, GT_strand='-', is_correct=True, start_diff=-635088, end_diff=-635124, read_sv='DUP')"
      ]
     },
     "metadata": {},
     "output_type": "display_data"
    },
    {
     "data": {
      "text/plain": [
       "'           GT from 17704784 to 17713728'"
      ]
     },
     "metadata": {},
     "output_type": "display_data"
    },
    {
     "data": {
      "text/plain": [
       "'       target from 17069696 to 17078604'"
      ]
     },
     "metadata": {},
     "output_type": "display_data"
    },
    {
     "data": {
      "text/plain": [
       "'    GT_labels from 17069691 to 17078634'"
      ]
     },
     "metadata": {},
     "output_type": "display_data"
    },
    {
     "data": {
      "text/plain": [
       "'target_labels from 17069697 to 17078604'"
      ]
     },
     "metadata": {},
     "output_type": "display_data"
    },
    {
     "data": {
      "text/plain": [
       "'8908 >?= 8049.6 = 0.9 * union 8944 => True'"
      ]
     },
     "metadata": {},
     "output_type": "display_data"
    },
    {
     "data": {
      "text/plain": [
       "Pandas(Index=587, query_name='S1_51!NC_060948.1!46230896!46237823!+', query_length=6951, query_start=49, query_end=6939, strand='+', target_name='NC_060948.1', target_length=62460029, target_start=44682648, target_end=44689514, residue_matches=813, alignment_block_length=6891, mapping_quality=2, tp='P', cm=57, s1=807, s2=736, dv=0.0331, rl=5637, experiment='t2tChrY-readst2tChrY-SVs-a0.99-d0.1-l10000', tool='minimap', read_name='S1_51', GT_ref='NC_060948.1', GT_from=46230896, GT_to=46237823, GT_strand='+', is_correct=True, start_diff=-1548248, end_diff=-1548309, read_sv='INS')"
      ]
     },
     "metadata": {},
     "output_type": "display_data"
    },
    {
     "data": {
      "text/plain": [
       "'           GT from 46230896 to 46237823'"
      ]
     },
     "metadata": {},
     "output_type": "display_data"
    },
    {
     "data": {
      "text/plain": [
       "'       target from 44682648 to 44689514'"
      ]
     },
     "metadata": {},
     "output_type": "display_data"
    },
    {
     "data": {
      "text/plain": [
       "'    GT_labels from 44682599 to 44689525'"
      ]
     },
     "metadata": {},
     "output_type": "display_data"
    },
    {
     "data": {
      "text/plain": [
       "'target_labels from 44682649 to 44689514'"
      ]
     },
     "metadata": {},
     "output_type": "display_data"
    },
    {
     "data": {
      "text/plain": [
       "'6866 >?= 6234.3 = 0.9 * union 6927 => True'"
      ]
     },
     "metadata": {},
     "output_type": "display_data"
    },
    {
     "data": {
      "text/plain": [
       "Pandas(Index=588, query_name='S1_510!NC_060948.1!3811794!3819213!-', query_length=7448, query_start=39, query_end=7434, strand='-', target_name='NC_060948.1', target_length=62460029, target_start=3663962, target_end=3671328, residue_matches=6212, alignment_block_length=7409, mapping_quality=60, tp='P', cm=561, s1=6208, s2=114, dv=0.0002, rl=0, experiment='t2tChrY-readst2tChrY-SVs-a0.99-d0.1-l10000', tool='minimap', read_name='S1_510', GT_ref='NC_060948.1', GT_from=3811794, GT_to=3819213, GT_strand='-', is_correct=True, start_diff=-147832, end_diff=-147885, read_sv='DUP')"
      ]
     },
     "metadata": {},
     "output_type": "display_data"
    },
    {
     "data": {
      "text/plain": [
       "'           GT from 3811794 to 3819213'"
      ]
     },
     "metadata": {},
     "output_type": "display_data"
    },
    {
     "data": {
      "text/plain": [
       "'       target from 3663962 to 3671328'"
      ]
     },
     "metadata": {},
     "output_type": "display_data"
    },
    {
     "data": {
      "text/plain": [
       "'    GT_labels from 3663949 to 3671367'"
      ]
     },
     "metadata": {},
     "output_type": "display_data"
    },
    {
     "data": {
      "text/plain": [
       "'target_labels from 3663963 to 3671328'"
      ]
     },
     "metadata": {},
     "output_type": "display_data"
    },
    {
     "data": {
      "text/plain": [
       "'7366 >?= 6677.1 = 0.9 * union 7419 => True'"
      ]
     },
     "metadata": {},
     "output_type": "display_data"
    },
    {
     "data": {
      "text/plain": [
       "Pandas(Index=592, query_name='S1_514!NC_060948.1!59963394!59975018!-', query_length=11662, query_start=86, query_end=11607, strand='-', target_name='NC_060948.1', target_length=62460029, target_start=58821284, target_end=58832769, residue_matches=1378, alignment_block_length=11532, mapping_quality=0, tp='P', cm=101, s1=1363, s2=1363, dv=0.0246, rl=9486, experiment='t2tChrY-readst2tChrY-SVs-a0.99-d0.1-l10000', tool='minimap', read_name='S1_514', GT_ref='NC_060948.1', GT_from=59963394, GT_to=59975018, GT_strand='-', is_correct=False, start_diff=-1142110, end_diff=-1142249, read_sv='DUP')"
      ]
     },
     "metadata": {},
     "output_type": "display_data"
    },
    {
     "data": {
      "text/plain": [
       "'           GT from 59963394 to 59975018'"
      ]
     },
     "metadata": {},
     "output_type": "display_data"
    },
    {
     "data": {
      "text/plain": [
       "'       target from 58821284 to 58832769'"
      ]
     },
     "metadata": {},
     "output_type": "display_data"
    },
    {
     "data": {
      "text/plain": [
       "'    GT_labels from 57971146 to 57982769'"
      ]
     },
     "metadata": {},
     "output_type": "display_data"
    },
    {
     "data": {
      "text/plain": [
       "'target_labels from 58821285 to 58832769'"
      ]
     },
     "metadata": {},
     "output_type": "display_data"
    },
    {
     "data": {
      "text/plain": [
       "'0 >?= 20798.100000000002 = 0.9 * union 23109 => False'"
      ]
     },
     "metadata": {},
     "output_type": "display_data"
    },
    {
     "data": {
      "text/plain": [
       "Pandas(Index=594, query_name='S1_516!NC_060948.1!38599426!38608451!-', query_length=9062, query_start=103, query_end=9034, strand='-', target_name='NC_060948.1', target_length=62460029, target_start=37307690, target_end=37316584, residue_matches=1186, alignment_block_length=8935, mapping_quality=0, tp='P', cm=92, s1=1175, s2=1156, dv=0.0219, rl=7442, experiment='t2tChrY-readst2tChrY-SVs-a0.99-d0.1-l10000', tool='minimap', read_name='S1_516', GT_ref='NC_060948.1', GT_from=38599426, GT_to=38608451, GT_strand='-', is_correct=True, start_diff=-1291736, end_diff=-1291867, read_sv='DUP')"
      ]
     },
     "metadata": {},
     "output_type": "display_data"
    },
    {
     "data": {
      "text/plain": [
       "'           GT from 38599426 to 38608451'"
      ]
     },
     "metadata": {},
     "output_type": "display_data"
    },
    {
     "data": {
      "text/plain": [
       "'       target from 37307690 to 37316584'"
      ]
     },
     "metadata": {},
     "output_type": "display_data"
    },
    {
     "data": {
      "text/plain": [
       "'    GT_labels from 37307663 to 37316687'"
      ]
     },
     "metadata": {},
     "output_type": "display_data"
    },
    {
     "data": {
      "text/plain": [
       "'target_labels from 37307691 to 37316584'"
      ]
     },
     "metadata": {},
     "output_type": "display_data"
    },
    {
     "data": {
      "text/plain": [
       "'8894 >?= 8122.5 = 0.9 * union 9025 => True'"
      ]
     },
     "metadata": {},
     "output_type": "display_data"
    },
    {
     "data": {
      "text/plain": [
       "Pandas(Index=596, query_name='S1_518!NC_060948.1!25223019!25231662!-', query_length=8671, query_start=1, query_end=8655, strand='-', target_name='NC_060948.1', target_length=62460029, target_start=24331514, target_end=24340139, residue_matches=7463, alignment_block_length=8672, mapping_quality=1, tp='P', cm=720, s1=7453, s2=7430, dv=0.0005, rl=0, experiment='t2tChrY-readst2tChrY-SVs-a0.99-d0.1-l10000', tool='minimap', read_name='S1_518', GT_ref='NC_060948.1', GT_from=25223019, GT_to=25231662, GT_strand='-', is_correct=True, start_diff=-891505, end_diff=-891523, read_sv='INV')"
      ]
     },
     "metadata": {},
     "output_type": "display_data"
    },
    {
     "data": {
      "text/plain": [
       "'           GT from 25223019 to 25231662'"
      ]
     },
     "metadata": {},
     "output_type": "display_data"
    },
    {
     "data": {
      "text/plain": [
       "'       target from 24331514 to 24340139'"
      ]
     },
     "metadata": {},
     "output_type": "display_data"
    },
    {
     "data": {
      "text/plain": [
       "'    GT_labels from 24331498 to 24340140'"
      ]
     },
     "metadata": {},
     "output_type": "display_data"
    },
    {
     "data": {
      "text/plain": [
       "'target_labels from 24331515 to 24340139'"
      ]
     },
     "metadata": {},
     "output_type": "display_data"
    },
    {
     "data": {
      "text/plain": [
       "'8625 >?= 7778.7 = 0.9 * union 8643 => True'"
      ]
     },
     "metadata": {},
     "output_type": "display_data"
    },
    {
     "data": {
      "text/plain": [
       "Pandas(Index=617, query_name='S1_534!NC_060948.1!51551794!51563025!-', query_length=11249, query_start=54, query_end=10215, strand='-', target_name='NC_060948.1', target_length=62460029, target_start=49834969, target_end=49845114, residue_matches=1984, alignment_block_length=10181, mapping_quality=24, tp='P', cm=146, s1=1973, s2=1215, dv=0.0159, rl=8372, experiment='t2tChrY-readst2tChrY-SVs-a0.99-d0.1-l10000', tool='minimap', read_name='S1_534', GT_ref='NC_060948.1', GT_from=51551794, GT_to=51563025, GT_strand='-', is_correct=True, start_diff=-1716825, end_diff=-1717911, read_sv='DUP')"
      ]
     },
     "metadata": {},
     "output_type": "display_data"
    },
    {
     "data": {
      "text/plain": [
       "'           GT from 51551794 to 51563025'"
      ]
     },
     "metadata": {},
     "output_type": "display_data"
    },
    {
     "data": {
      "text/plain": [
       "'       target from 49834969 to 49845114'"
      ]
     },
     "metadata": {},
     "output_type": "display_data"
    },
    {
     "data": {
      "text/plain": [
       "'    GT_labels from 49834940 to 49845168'"
      ]
     },
     "metadata": {},
     "output_type": "display_data"
    },
    {
     "data": {
      "text/plain": [
       "'target_labels from 49834970 to 49845114'"
      ]
     },
     "metadata": {},
     "output_type": "display_data"
    },
    {
     "data": {
      "text/plain": [
       "'10145 >?= 10107.9 = 0.9 * union 11231 => True'"
      ]
     },
     "metadata": {},
     "output_type": "display_data"
    },
    {
     "data": {
      "text/plain": [
       "Pandas(Index=618, query_name='S1_534!NC_060948.1!51551794!51563025!-', query_length=11249, query_start=10446, query_end=10973, strand='-', target_name='NC_060948.1', target_length=62460029, target_start=49834969, target_end=49835492, residue_matches=201, alignment_block_length=528, mapping_quality=1, tp='P', cm=14, s1=199, s2=191, dv=0.0186, rl=8372, experiment='t2tChrY-readst2tChrY-SVs-a0.99-d0.1-l10000', tool='minimap', read_name='S1_534', GT_ref='NC_060948.1', GT_from=51551794, GT_to=51563025, GT_strand='-', is_correct=False, start_diff=-1716825, end_diff=-1727533, read_sv='DUP')"
      ]
     },
     "metadata": {},
     "output_type": "display_data"
    },
    {
     "data": {
      "text/plain": [
       "'           GT from 51551794 to 51563025'"
      ]
     },
     "metadata": {},
     "output_type": "display_data"
    },
    {
     "data": {
      "text/plain": [
       "'       target from 49834969 to 49835492'"
      ]
     },
     "metadata": {},
     "output_type": "display_data"
    },
    {
     "data": {
      "text/plain": [
       "'    GT_labels from 49834940 to 49845168'"
      ]
     },
     "metadata": {},
     "output_type": "display_data"
    },
    {
     "data": {
      "text/plain": [
       "'target_labels from 49834970 to 49835492'"
      ]
     },
     "metadata": {},
     "output_type": "display_data"
    },
    {
     "data": {
      "text/plain": [
       "'523 >?= 10107.9 = 0.9 * union 11231 => False'"
      ]
     },
     "metadata": {},
     "output_type": "display_data"
    },
    {
     "data": {
      "text/plain": [
       "Pandas(Index=619, query_name='S1_534!NC_060948.1!51551794!51563025!-', query_length=11249, query_start=11204, query_end=11246, strand='-', target_name='NC_060948.1', target_length=62460029, target_start=43241499, target_end=43241541, residue_matches=42, alignment_block_length=42, mapping_quality=0, tp='P', cm=3, s1=42, s2=42, dv=0.0265, rl=8372, experiment='t2tChrY-readst2tChrY-SVs-a0.99-d0.1-l10000', tool='minimap', read_name='S1_534', GT_ref='NC_060948.1', GT_from=51551794, GT_to=51563025, GT_strand='-', is_correct=False, start_diff=-8310295, end_diff=-8321484, read_sv='DUP')"
      ]
     },
     "metadata": {},
     "output_type": "display_data"
    },
    {
     "data": {
      "text/plain": [
       "'           GT from 51551794 to 51563025'"
      ]
     },
     "metadata": {},
     "output_type": "display_data"
    },
    {
     "data": {
      "text/plain": [
       "'       target from 43241499 to 43241541'"
      ]
     },
     "metadata": {},
     "output_type": "display_data"
    },
    {
     "data": {
      "text/plain": [
       "'    GT_labels from 49834940 to 49845168'"
      ]
     },
     "metadata": {},
     "output_type": "display_data"
    },
    {
     "data": {
      "text/plain": [
       "'target_labels from 43241500 to 43241541'"
      ]
     },
     "metadata": {},
     "output_type": "display_data"
    },
    {
     "data": {
      "text/plain": [
       "'0 >?= 10145.7 = 0.9 * union 11273 => False'"
      ]
     },
     "metadata": {},
     "output_type": "display_data"
    },
    {
     "data": {
      "text/plain": [
       "Pandas(Index=624, query_name='S1_539!NC_060948.1!14892002!14904182!+', query_length=12230, query_start=24, query_end=12221, strand='+', target_name='NC_060948.1', target_length=62460029, target_start=14354684, target_end=14366832, residue_matches=10498, alignment_block_length=12221, mapping_quality=60, tp='P', cm=978, s1=10485, s2=305, dv=0.0004, rl=38, experiment='t2tChrY-readst2tChrY-SVs-a0.99-d0.1-l10000', tool='minimap', read_name='S1_539', GT_ref='NC_060948.1', GT_from=14892002, GT_to=14904182, GT_strand='+', is_correct=True, start_diff=-537318, end_diff=-537350, read_sv='INS')"
      ]
     },
     "metadata": {},
     "output_type": "display_data"
    },
    {
     "data": {
      "text/plain": [
       "'           GT from 14892002 to 14904182'"
      ]
     },
     "metadata": {},
     "output_type": "display_data"
    },
    {
     "data": {
      "text/plain": [
       "'       target from 14354684 to 14366832'"
      ]
     },
     "metadata": {},
     "output_type": "display_data"
    },
    {
     "data": {
      "text/plain": [
       "'    GT_labels from 14354662 to 14366841'"
      ]
     },
     "metadata": {},
     "output_type": "display_data"
    },
    {
     "data": {
      "text/plain": [
       "'target_labels from 14354685 to 14366832'"
      ]
     },
     "metadata": {},
     "output_type": "display_data"
    },
    {
     "data": {
      "text/plain": [
       "'12148 >?= 10962.0 = 0.9 * union 12180 => True'"
      ]
     },
     "metadata": {},
     "output_type": "display_data"
    },
    {
     "data": {
      "text/plain": [
       "Pandas(Index=626, query_name='S1_540!NC_060948.1!29647903!29657001!-', query_length=9115, query_start=13, query_end=9104, strand='-', target_name='NC_060948.1', target_length=62460029, target_start=28644587, target_end=28653662, residue_matches=1902, alignment_block_length=9103, mapping_quality=29, tp='P', cm=140, s1=1896, s2=1018, dv=0.0099, rl=6969, experiment='t2tChrY-readst2tChrY-SVs-a0.99-d0.1-l10000', tool='minimap', read_name='S1_540', GT_ref='NC_060948.1', GT_from=29647903, GT_to=29657001, GT_strand='-', is_correct=True, start_diff=-1003316, end_diff=-1003339, read_sv='DUP')"
      ]
     },
     "metadata": {},
     "output_type": "display_data"
    },
    {
     "data": {
      "text/plain": [
       "'           GT from 29647903 to 29657001'"
      ]
     },
     "metadata": {},
     "output_type": "display_data"
    },
    {
     "data": {
      "text/plain": [
       "'       target from 28644587 to 28653662'"
      ]
     },
     "metadata": {},
     "output_type": "display_data"
    },
    {
     "data": {
      "text/plain": [
       "'    GT_labels from 28644578 to 28653675'"
      ]
     },
     "metadata": {},
     "output_type": "display_data"
    },
    {
     "data": {
      "text/plain": [
       "'target_labels from 28644588 to 28653662'"
      ]
     },
     "metadata": {},
     "output_type": "display_data"
    },
    {
     "data": {
      "text/plain": [
       "'9075 >?= 8188.2 = 0.9 * union 9098 => True'"
      ]
     },
     "metadata": {},
     "output_type": "display_data"
    },
    {
     "data": {
      "text/plain": [
       "Pandas(Index=627, query_name='S1_541!NC_060948.1!53277174!53290353!+', query_length=13231, query_start=284, query_end=12951, strand='+', target_name='NC_060948.1', target_length=62460029, target_start=51511904, target_end=51524545, residue_matches=1116, alignment_block_length=12689, mapping_quality=4, tp='P', cm=76, s1=1099, s2=915, dv=0.0409, rl=10863, experiment='t2tChrY-readst2tChrY-SVs-a0.99-d0.1-l10000', tool='minimap', read_name='S1_541', GT_ref='NC_060948.1', GT_from=53277174, GT_to=53290353, GT_strand='+', is_correct=True, start_diff=-1765270, end_diff=-1765808, read_sv='multi')"
      ]
     },
     "metadata": {},
     "output_type": "display_data"
    },
    {
     "data": {
      "text/plain": [
       "'           GT from 53277174 to 53290353'"
      ]
     },
     "metadata": {},
     "output_type": "display_data"
    },
    {
     "data": {
      "text/plain": [
       "'       target from 51511904 to 51524545'"
      ]
     },
     "metadata": {},
     "output_type": "display_data"
    },
    {
     "data": {
      "text/plain": [
       "'    GT_labels from 51511624 to 51524827'"
      ]
     },
     "metadata": {},
     "output_type": "display_data"
    },
    {
     "data": {
      "text/plain": [
       "'target_labels from 51511905 to 51524545'"
      ]
     },
     "metadata": {},
     "output_type": "display_data"
    },
    {
     "data": {
      "text/plain": [
       "'12616 >?= 11883.6 = 0.9 * union 13204 => True'"
      ]
     },
     "metadata": {},
     "output_type": "display_data"
    },
    {
     "data": {
      "text/plain": [
       "Pandas(Index=638, query_name='S1_548!NC_060948.1!13621735!13632229!-', query_length=10536, query_start=7, query_end=10536, strand='-', target_name='NC_060948.1', target_length=62460029, target_start=13150321, target_end=13161040, residue_matches=9217, alignment_block_length=10782, mapping_quality=60, tp='P', cm=857, s1=9167, s2=1491, dv=0.0001, rl=57, experiment='t2tChrY-readst2tChrY-SVs-a0.99-d0.1-l10000', tool='minimap', read_name='S1_548', GT_ref='NC_060948.1', GT_from=13621735, GT_to=13632229, GT_strand='-', is_correct=True, start_diff=-471414, end_diff=-471189, read_sv='DUP')"
      ]
     },
     "metadata": {},
     "output_type": "display_data"
    },
    {
     "data": {
      "text/plain": [
       "'           GT from 13621735 to 13632229'"
      ]
     },
     "metadata": {},
     "output_type": "display_data"
    },
    {
     "data": {
      "text/plain": [
       "'       target from 13150321 to 13161040'"
      ]
     },
     "metadata": {},
     "output_type": "display_data"
    },
    {
     "data": {
      "text/plain": [
       "'    GT_labels from 13150322 to 13161047'"
      ]
     },
     "metadata": {},
     "output_type": "display_data"
    },
    {
     "data": {
      "text/plain": [
       "'target_labels from 13150322 to 13161040'"
      ]
     },
     "metadata": {},
     "output_type": "display_data"
    },
    {
     "data": {
      "text/plain": [
       "'10487 >?= 9653.4 = 0.9 * union 10726 => True'"
      ]
     },
     "metadata": {},
     "output_type": "display_data"
    },
    {
     "data": {
      "text/plain": [
       "Pandas(Index=641, query_name='S1_550!NC_060948.1!37731498!37743878!-', query_length=12415, query_start=84, query_end=12363, strand='-', target_name='NC_060948.1', target_length=62460029, target_start=36462651, target_end=36474671, residue_matches=2708, alignment_block_length=12294, mapping_quality=1, tp='P', cm=211, s1=2656, s2=2595, dv=0.0138, rl=8986, experiment='t2tChrY-readst2tChrY-SVs-a0.99-d0.1-l10000', tool='minimap', read_name='S1_550', GT_ref='NC_060948.1', GT_from=37731498, GT_to=37743878, GT_strand='-', is_correct=True, start_diff=-1268847, end_diff=-1269207, read_sv='multi')"
      ]
     },
     "metadata": {},
     "output_type": "display_data"
    },
    {
     "data": {
      "text/plain": [
       "'           GT from 37731498 to 37743878'"
      ]
     },
     "metadata": {},
     "output_type": "display_data"
    },
    {
     "data": {
      "text/plain": [
       "'       target from 36462651 to 36474671'"
      ]
     },
     "metadata": {},
     "output_type": "display_data"
    },
    {
     "data": {
      "text/plain": [
       "'    GT_labels from -75334 to 36474753'"
      ]
     },
     "metadata": {},
     "output_type": "display_data"
    },
    {
     "data": {
      "text/plain": [
       "'target_labels from 36462652 to 36474671'"
      ]
     },
     "metadata": {},
     "output_type": "display_data"
    },
    {
     "data": {
      "text/plain": [
       "'12020 >?= 11142.0 = 0.9 * union 12380 => True'"
      ]
     },
     "metadata": {},
     "output_type": "display_data"
    },
    {
     "data": {
      "text/plain": [
       "Pandas(Index=643, query_name='S1_552!NC_060948.1!5366258!5380800!-', query_length=14579, query_start=10, query_end=14573, strand='-', target_name='NC_060948.1', target_length=62460029, target_start=5166975, target_end=5181501, residue_matches=12696, alignment_block_length=14598, mapping_quality=60, tp='P', cm=1171, s1=12685, s2=209, dv=0.0004, rl=59, experiment='t2tChrY-readst2tChrY-SVs-a0.99-d0.1-l10000', tool='minimap', read_name='S1_552', GT_ref='NC_060948.1', GT_from=5366258, GT_to=5380800, GT_strand='-', is_correct=True, start_diff=-199283, end_diff=-199299, read_sv='multi')"
      ]
     },
     "metadata": {},
     "output_type": "display_data"
    },
    {
     "data": {
      "text/plain": [
       "'           GT from 5366258 to 5380800'"
      ]
     },
     "metadata": {},
     "output_type": "display_data"
    },
    {
     "data": {
      "text/plain": [
       "'       target from 5166975 to 5181501'"
      ]
     },
     "metadata": {},
     "output_type": "display_data"
    },
    {
     "data": {
      "text/plain": [
       "'    GT_labels from 5166970 to 5181511'"
      ]
     },
     "metadata": {},
     "output_type": "display_data"
    },
    {
     "data": {
      "text/plain": [
       "'target_labels from 5166976 to 5181501'"
      ]
     },
     "metadata": {},
     "output_type": "display_data"
    },
    {
     "data": {
      "text/plain": [
       "'14526 >?= 13087.800000000001 = 0.9 * union 14542 => True'"
      ]
     },
     "metadata": {},
     "output_type": "display_data"
    },
    {
     "data": {
      "text/plain": [
       "Pandas(Index=644, query_name='S1_553!NC_060948.1!21197693!21207908!+', query_length=10248, query_start=10, query_end=10236, strand='+', target_name='NC_060948.1', target_length=62460029, target_start=20441016, target_end=20451209, residue_matches=8800, alignment_block_length=10249, mapping_quality=60, tp='P', cm=814, s1=8788, s2=266, dv=0.0005, rl=97, experiment='t2tChrY-readst2tChrY-SVs-a0.99-d0.1-l10000', tool='minimap', read_name='S1_553', GT_ref='NC_060948.1', GT_from=21197693, GT_to=21207908, GT_strand='+', is_correct=True, start_diff=-756677, end_diff=-756699, read_sv='DUP')"
      ]
     },
     "metadata": {},
     "output_type": "display_data"
    },
    {
     "data": {
      "text/plain": [
       "'           GT from 21197693 to 21207908'"
      ]
     },
     "metadata": {},
     "output_type": "display_data"
    },
    {
     "data": {
      "text/plain": [
       "'       target from 20441016 to 20451209'"
      ]
     },
     "metadata": {},
     "output_type": "display_data"
    },
    {
     "data": {
      "text/plain": [
       "'    GT_labels from 20441007 to 20451221'"
      ]
     },
     "metadata": {},
     "output_type": "display_data"
    },
    {
     "data": {
      "text/plain": [
       "'target_labels from 20441017 to 20451209'"
      ]
     },
     "metadata": {},
     "output_type": "display_data"
    },
    {
     "data": {
      "text/plain": [
       "'10193 >?= 9193.5 = 0.9 * union 10215 => True'"
      ]
     },
     "metadata": {},
     "output_type": "display_data"
    },
    {
     "data": {
      "text/plain": [
       "Pandas(Index=647, query_name='S1_556!NC_060948.1!16043839!16052257!-', query_length=8442, query_start=16, query_end=8435, strand='-', target_name='NC_060948.1', target_length=62460029, target_start=15467665, target_end=15476060, residue_matches=7262, alignment_block_length=8438, mapping_quality=60, tp='P', cm=668, s1=7257, s2=382, dv=0.0008, rl=0, experiment='t2tChrY-readst2tChrY-SVs-a0.99-d0.1-l10000', tool='minimap', read_name='S1_556', GT_ref='NC_060948.1', GT_from=16043839, GT_to=16052257, GT_strand='-', is_correct=True, start_diff=-576174, end_diff=-576197, read_sv='INV')"
      ]
     },
     "metadata": {},
     "output_type": "display_data"
    },
    {
     "data": {
      "text/plain": [
       "'           GT from 16043839 to 16052257'"
      ]
     },
     "metadata": {},
     "output_type": "display_data"
    },
    {
     "data": {
      "text/plain": [
       "'       target from 15467665 to 15476060'"
      ]
     },
     "metadata": {},
     "output_type": "display_data"
    },
    {
     "data": {
      "text/plain": [
       "'    GT_labels from 15467659 to 15476076'"
      ]
     },
     "metadata": {},
     "output_type": "display_data"
    },
    {
     "data": {
      "text/plain": [
       "'target_labels from 15467666 to 15476060'"
      ]
     },
     "metadata": {},
     "output_type": "display_data"
    },
    {
     "data": {
      "text/plain": [
       "'8395 >?= 7576.2 = 0.9 * union 8418 => True'"
      ]
     },
     "metadata": {},
     "output_type": "display_data"
    },
    {
     "data": {
      "text/plain": [
       "Pandas(Index=648, query_name='S1_557!NC_060948.1!36657524!36671194!+', query_length=13712, query_start=169, query_end=13583, strand='+', target_name='NC_060948.1', target_length=62460029, target_start=35425632, target_end=35439006, residue_matches=2299, alignment_block_length=13433, mapping_quality=2, tp='P', cm=177, s1=2279, s2=2180, dv=0.0184, rl=10241, experiment='t2tChrY-readst2tChrY-SVs-a0.99-d0.1-l10000', tool='minimap', read_name='S1_557', GT_ref='NC_060948.1', GT_from=36657524, GT_to=36671194, GT_strand='+', is_correct=True, start_diff=-1231892, end_diff=-1232188, read_sv='INV')"
      ]
     },
     "metadata": {},
     "output_type": "display_data"
    },
    {
     "data": {
      "text/plain": [
       "'           GT from 36657524 to 36671194'"
      ]
     },
     "metadata": {},
     "output_type": "display_data"
    },
    {
     "data": {
      "text/plain": [
       "'       target from 35425632 to 35439006'"
      ]
     },
     "metadata": {},
     "output_type": "display_data"
    },
    {
     "data": {
      "text/plain": [
       "'    GT_labels from 35425464 to 35439133'"
      ]
     },
     "metadata": {},
     "output_type": "display_data"
    },
    {
     "data": {
      "text/plain": [
       "'target_labels from 35425633 to 35439006'"
      ]
     },
     "metadata": {},
     "output_type": "display_data"
    },
    {
     "data": {
      "text/plain": [
       "'13374 >?= 12303.0 = 0.9 * union 13670 => True'"
      ]
     },
     "metadata": {},
     "output_type": "display_data"
    },
    {
     "data": {
      "text/plain": [
       "Pandas(Index=649, query_name='S1_558!NC_060948.1!31738198!31746212!-', query_length=8040, query_start=28, query_end=7766, strand='-', target_name='NC_060948.1', target_length=62460029, target_start=30666854, target_end=30674568, residue_matches=776, alignment_block_length=7746, mapping_quality=3, tp='P', cm=50, s1=765, s2=677, dv=0.0373, rl=6409, experiment='t2tChrY-readst2tChrY-SVs-a0.99-d0.1-l10000', tool='minimap', read_name='S1_558', GT_ref='NC_060948.1', GT_from=31738198, GT_to=31746212, GT_strand='-', is_correct=True, start_diff=-1071344, end_diff=-1071644, read_sv='INV')"
      ]
     },
     "metadata": {},
     "output_type": "display_data"
    },
    {
     "data": {
      "text/plain": [
       "'           GT from 31738198 to 31746212'"
      ]
     },
     "metadata": {},
     "output_type": "display_data"
    },
    {
     "data": {
      "text/plain": [
       "'       target from 30666854 to 30674568'"
      ]
     },
     "metadata": {},
     "output_type": "display_data"
    },
    {
     "data": {
      "text/plain": [
       "'    GT_labels from 30666582 to 30674595'"
      ]
     },
     "metadata": {},
     "output_type": "display_data"
    },
    {
     "data": {
      "text/plain": [
       "'target_labels from 30666855 to 30674568'"
      ]
     },
     "metadata": {},
     "output_type": "display_data"
    },
    {
     "data": {
      "text/plain": [
       "'7714 >?= 7212.6 = 0.9 * union 8014 => True'"
      ]
     },
     "metadata": {},
     "output_type": "display_data"
    },
    {
     "data": {
      "text/plain": [
       "Pandas(Index=659, query_name='S1_562!NC_060948.1!45615687!45625613!-', query_length=9949, query_start=369, query_end=9433, strand='-', target_name='NC_060948.1', target_length=62460029, target_start=44079413, target_end=44088461, residue_matches=1014, alignment_block_length=9073, mapping_quality=1, tp='P', cm=75, s1=1007, s2=965, dv=0.0265, rl=8227, experiment='t2tChrY-readst2tChrY-SVs-a0.99-d0.1-l10000', tool='minimap', read_name='S1_562', GT_ref='NC_060948.1', GT_from=45615687, GT_to=45625613, GT_strand='-', is_correct=True, start_diff=-1536274, end_diff=-1537152, read_sv='DUP')"
      ]
     },
     "metadata": {},
     "output_type": "display_data"
    },
    {
     "data": {
      "text/plain": [
       "'           GT from 45615687 to 45625613'"
      ]
     },
     "metadata": {},
     "output_type": "display_data"
    },
    {
     "data": {
      "text/plain": [
       "'       target from 44079413 to 44088461'"
      ]
     },
     "metadata": {},
     "output_type": "display_data"
    },
    {
     "data": {
      "text/plain": [
       "'    GT_labels from 44078903 to 44088828'"
      ]
     },
     "metadata": {},
     "output_type": "display_data"
    },
    {
     "data": {
      "text/plain": [
       "'target_labels from 44079414 to 44088461'"
      ]
     },
     "metadata": {},
     "output_type": "display_data"
    },
    {
     "data": {
      "text/plain": [
       "'9048 >?= 8933.4 = 0.9 * union 9926 => True'"
      ]
     },
     "metadata": {},
     "output_type": "display_data"
    },
    {
     "data": {
      "text/plain": [
       "Pandas(Index=661, query_name='S1_564!NC_060948.1!24626752!24635480!-', query_length=8759, query_start=10, query_end=8755, strand='-', target_name='NC_060948.1', target_length=62460029, target_start=23767712, target_end=23776604, residue_matches=7656, alignment_block_length=8940, mapping_quality=1, tp='P', cm=692, s1=7616, s2=7579, dv=0.0009, rl=61, experiment='t2tChrY-readst2tChrY-SVs-a0.99-d0.1-l10000', tool='minimap', read_name='S1_564', GT_ref='NC_060948.1', GT_from=24626752, GT_to=24635480, GT_strand='-', is_correct=True, start_diff=-859040, end_diff=-858876, read_sv='INV')"
      ]
     },
     "metadata": {},
     "output_type": "display_data"
    },
    {
     "data": {
      "text/plain": [
       "'           GT from 24626752 to 24635480'"
      ]
     },
     "metadata": {},
     "output_type": "display_data"
    },
    {
     "data": {
      "text/plain": [
       "'       target from 23767712 to 23776604'"
      ]
     },
     "metadata": {},
     "output_type": "display_data"
    },
    {
     "data": {
      "text/plain": [
       "'    GT_labels from 23767709 to 23776613'"
      ]
     },
     "metadata": {},
     "output_type": "display_data"
    },
    {
     "data": {
      "text/plain": [
       "'target_labels from 23767713 to 23776604'"
      ]
     },
     "metadata": {},
     "output_type": "display_data"
    },
    {
     "data": {
      "text/plain": [
       "'8715 >?= 8014.5 = 0.9 * union 8905 => True'"
      ]
     },
     "metadata": {},
     "output_type": "display_data"
    },
    {
     "data": {
      "text/plain": [
       "Pandas(Index=673, query_name='S1_568!NC_060948.1!21619989!21629819!-', query_length=9871, query_start=18, query_end=9865, strand='-', target_name='NC_060948.1', target_length=62460029, target_start=20859754, target_end=20869560, residue_matches=8312, alignment_block_length=9868, mapping_quality=60, tp='P', cm=780, s1=8303, s2=57, dv=0.0002, rl=40, experiment='t2tChrY-readst2tChrY-SVs-a0.99-d0.1-l10000', tool='minimap', read_name='S1_568', GT_ref='NC_060948.1', GT_from=21619989, GT_to=21629819, GT_strand='-', is_correct=True, start_diff=-760235, end_diff=-760259, read_sv='INV')"
      ]
     },
     "metadata": {},
     "output_type": "display_data"
    },
    {
     "data": {
      "text/plain": [
       "'           GT from 21619989 to 21629819'"
      ]
     },
     "metadata": {},
     "output_type": "display_data"
    },
    {
     "data": {
      "text/plain": [
       "'       target from 20859754 to 20869560'"
      ]
     },
     "metadata": {},
     "output_type": "display_data"
    },
    {
     "data": {
      "text/plain": [
       "'    GT_labels from 20859749 to 20869578'"
      ]
     },
     "metadata": {},
     "output_type": "display_data"
    },
    {
     "data": {
      "text/plain": [
       "'target_labels from 20859755 to 20869560'"
      ]
     },
     "metadata": {},
     "output_type": "display_data"
    },
    {
     "data": {
      "text/plain": [
       "'9806 >?= 8847.0 = 0.9 * union 9830 => True'"
      ]
     },
     "metadata": {},
     "output_type": "display_data"
    },
    {
     "data": {
      "text/plain": [
       "Pandas(Index=675, query_name='S1_57!NC_060948.1!28955679!28965917!+', query_length=10266, query_start=47, query_end=10225, strand='+', target_name='NC_060948.1', target_length=62460029, target_start=27976135, target_end=27986286, residue_matches=1449, alignment_block_length=10187, mapping_quality=5, tp='P', cm=103, s1=1437, s2=1240, dv=0.0254, rl=8119, experiment='t2tChrY-readst2tChrY-SVs-a0.99-d0.1-l10000', tool='minimap', read_name='S1_57', GT_ref='NC_060948.1', GT_from=28955679, GT_to=28965917, GT_strand='+', is_correct=True, start_diff=-979544, end_diff=-979631, read_sv='DUP')"
      ]
     },
     "metadata": {},
     "output_type": "display_data"
    },
    {
     "data": {
      "text/plain": [
       "'           GT from 28955679 to 28965917'"
      ]
     },
     "metadata": {},
     "output_type": "display_data"
    },
    {
     "data": {
      "text/plain": [
       "'       target from 27976135 to 27986286'"
      ]
     },
     "metadata": {},
     "output_type": "display_data"
    },
    {
     "data": {
      "text/plain": [
       "'    GT_labels from 27976090 to 27986327'"
      ]
     },
     "metadata": {},
     "output_type": "display_data"
    },
    {
     "data": {
      "text/plain": [
       "'target_labels from 27976136 to 27986286'"
      ]
     },
     "metadata": {},
     "output_type": "display_data"
    },
    {
     "data": {
      "text/plain": [
       "'10151 >?= 9214.2 = 0.9 * union 10238 => True'"
      ]
     },
     "metadata": {},
     "output_type": "display_data"
    },
    {
     "data": {
      "text/plain": [
       "Pandas(Index=676, query_name='S1_570!NC_060948.1!34041402!34049646!-', query_length=8273, query_start=383, query_end=8258, strand='-', target_name='NC_060948.1', target_length=62460029, target_start=32908471, target_end=32916320, residue_matches=1785, alignment_block_length=7885, mapping_quality=29, tp='P', cm=133, s1=1771, s2=1004, dv=0.0149, rl=6042, experiment='t2tChrY-readst2tChrY-SVs-a0.99-d0.1-l10000', tool='minimap', read_name='S1_570', GT_ref='NC_060948.1', GT_from=34041402, GT_to=34049646, GT_strand='-', is_correct=True, start_diff=-1132931, end_diff=-1133326, read_sv='DUP')"
      ]
     },
     "metadata": {},
     "output_type": "display_data"
    },
    {
     "data": {
      "text/plain": [
       "'           GT from 34041402 to 34049646'"
      ]
     },
     "metadata": {},
     "output_type": "display_data"
    },
    {
     "data": {
      "text/plain": [
       "'       target from 32908471 to 32916320'"
      ]
     },
     "metadata": {},
     "output_type": "display_data"
    },
    {
     "data": {
      "text/plain": [
       "'    GT_labels from 32908457 to 32916700'"
      ]
     },
     "metadata": {},
     "output_type": "display_data"
    },
    {
     "data": {
      "text/plain": [
       "'target_labels from 32908472 to 32916320'"
      ]
     },
     "metadata": {},
     "output_type": "display_data"
    },
    {
     "data": {
      "text/plain": [
       "'7849 >?= 7419.6 = 0.9 * union 8244 => True'"
      ]
     },
     "metadata": {},
     "output_type": "display_data"
    },
    {
     "data": {
      "text/plain": [
       "Pandas(Index=677, query_name='S1_571!NC_060948.1!54359570!54369310!+', query_length=9781, query_start=15, query_end=6457, strand='+', target_name='NC_060948.1', target_length=62460029, target_start=52556345, target_end=52562756, residue_matches=726, alignment_block_length=6444, mapping_quality=0, tp='P', cm=53, s1=718, s2=718, dv=0.0246, rl=7761, experiment='t2tChrY-readst2tChrY-SVs-a0.99-d0.1-l10000', tool='minimap', read_name='S1_571', GT_ref='NC_060948.1', GT_from=54359570, GT_to=54369310, GT_strand='+', is_correct=False, start_diff=-1803225, end_diff=-1806554, read_sv='DEL')"
      ]
     },
     "metadata": {},
     "output_type": "display_data"
    },
    {
     "data": {
      "text/plain": [
       "'           GT from 54359570 to 54369310'"
      ]
     },
     "metadata": {},
     "output_type": "display_data"
    },
    {
     "data": {
      "text/plain": [
       "'       target from 52556345 to 52562756'"
      ]
     },
     "metadata": {},
     "output_type": "display_data"
    },
    {
     "data": {
      "text/plain": [
       "'    GT_labels from 52556331 to 52563190'"
      ]
     },
     "metadata": {},
     "output_type": "display_data"
    },
    {
     "data": {
      "text/plain": [
       "'target_labels from 52556346 to 52562756'"
      ]
     },
     "metadata": {},
     "output_type": "display_data"
    },
    {
     "data": {
      "text/plain": [
       "'6411 >?= 8766.0 = 0.9 * union 9740 => False'"
      ]
     },
     "metadata": {},
     "output_type": "display_data"
    },
    {
     "data": {
      "text/plain": [
       "Pandas(Index=678, query_name='S1_571!NC_060948.1!54359570!54369310!+', query_length=9781, query_start=6905, query_end=7436, strand='+', target_name='NC_060948.1', target_length=62460029, target_start=47562744, target_end=47563268, residue_matches=95, alignment_block_length=533, mapping_quality=0, tp='P', cm=5, s1=93, s2=93, dv=0.0244, rl=7761, experiment='t2tChrY-readst2tChrY-SVs-a0.99-d0.1-l10000', tool='minimap', read_name='S1_571', GT_ref='NC_060948.1', GT_from=54359570, GT_to=54369310, GT_strand='+', is_correct=False, start_diff=-6796826, end_diff=-6806042, read_sv='DEL')"
      ]
     },
     "metadata": {},
     "output_type": "display_data"
    },
    {
     "data": {
      "text/plain": [
       "'           GT from 54359570 to 54369310'"
      ]
     },
     "metadata": {},
     "output_type": "display_data"
    },
    {
     "data": {
      "text/plain": [
       "'       target from 47562744 to 47563268'"
      ]
     },
     "metadata": {},
     "output_type": "display_data"
    },
    {
     "data": {
      "text/plain": [
       "'    GT_labels from 52556331 to 52563190'"
      ]
     },
     "metadata": {},
     "output_type": "display_data"
    },
    {
     "data": {
      "text/plain": [
       "'target_labels from 47562745 to 47563268'"
      ]
     },
     "metadata": {},
     "output_type": "display_data"
    },
    {
     "data": {
      "text/plain": [
       "'0 >?= 9237.6 = 0.9 * union 10264 => False'"
      ]
     },
     "metadata": {},
     "output_type": "display_data"
    },
    {
     "data": {
      "text/plain": [
       "Pandas(Index=679, query_name='S1_571!NC_060948.1!54359570!54369310!+', query_length=9781, query_start=7650, query_end=7962, strand='+', target_name='NC_060948.1', target_length=62460029, target_start=52562603, target_end=52562911, residue_matches=92, alignment_block_length=312, mapping_quality=0, tp='P', cm=6, s1=84, s2=84, dv=0.0265, rl=7761, experiment='t2tChrY-readst2tChrY-SVs-a0.99-d0.1-l10000', tool='minimap', read_name='S1_571', GT_ref='NC_060948.1', GT_from=54359570, GT_to=54369310, GT_strand='+', is_correct=False, start_diff=-1796967, end_diff=-1806399, read_sv='DEL')"
      ]
     },
     "metadata": {},
     "output_type": "display_data"
    },
    {
     "data": {
      "text/plain": [
       "'           GT from 54359570 to 54369310'"
      ]
     },
     "metadata": {},
     "output_type": "display_data"
    },
    {
     "data": {
      "text/plain": [
       "'       target from 52562603 to 52562911'"
      ]
     },
     "metadata": {},
     "output_type": "display_data"
    },
    {
     "data": {
      "text/plain": [
       "'    GT_labels from 52556331 to 52563190'"
      ]
     },
     "metadata": {},
     "output_type": "display_data"
    },
    {
     "data": {
      "text/plain": [
       "'target_labels from 52562604 to 52562911'"
      ]
     },
     "metadata": {},
     "output_type": "display_data"
    },
    {
     "data": {
      "text/plain": [
       "'308 >?= 8766.0 = 0.9 * union 9740 => False'"
      ]
     },
     "metadata": {},
     "output_type": "display_data"
    },
    {
     "data": {
      "text/plain": [
       "Pandas(Index=680, query_name='S1_571!NC_060948.1!54359570!54369310!+', query_length=9781, query_start=9615, query_end=9708, strand='+', target_name='NC_060948.1', target_length=62460029, target_start=32687658, target_end=32687751, residue_matches=87, alignment_block_length=93, mapping_quality=0, tp='P', cm=6, s1=87, s2=87, dv=0.015, rl=7761, experiment='t2tChrY-readst2tChrY-SVs-a0.99-d0.1-l10000', tool='minimap', read_name='S1_571', GT_ref='NC_060948.1', GT_from=54359570, GT_to=54369310, GT_strand='+', is_correct=False, start_diff=-21671912, end_diff=-21681559, read_sv='DEL')"
      ]
     },
     "metadata": {},
     "output_type": "display_data"
    },
    {
     "data": {
      "text/plain": [
       "'           GT from 54359570 to 54369310'"
      ]
     },
     "metadata": {},
     "output_type": "display_data"
    },
    {
     "data": {
      "text/plain": [
       "'       target from 32687658 to 32687751'"
      ]
     },
     "metadata": {},
     "output_type": "display_data"
    },
    {
     "data": {
      "text/plain": [
       "'    GT_labels from 52556331 to 52563190'"
      ]
     },
     "metadata": {},
     "output_type": "display_data"
    },
    {
     "data": {
      "text/plain": [
       "'target_labels from 32687659 to 32687751'"
      ]
     },
     "metadata": {},
     "output_type": "display_data"
    },
    {
     "data": {
      "text/plain": [
       "'0 >?= 8849.7 = 0.9 * union 9833 => False'"
      ]
     },
     "metadata": {},
     "output_type": "display_data"
    },
    {
     "data": {
      "text/plain": [
       "Pandas(Index=681, query_name='S1_571!NC_060948.1!54359570!54369310!+', query_length=9781, query_start=8964, query_end=9134, strand='+', target_name='NC_060948.1', target_length=62460029, target_start=32716162, target_end=32716332, residue_matches=87, alignment_block_length=170, mapping_quality=0, tp='P', cm=6, s1=87, s2=87, dv=0.015, rl=7761, experiment='t2tChrY-readst2tChrY-SVs-a0.99-d0.1-l10000', tool='minimap', read_name='S1_571', GT_ref='NC_060948.1', GT_from=54359570, GT_to=54369310, GT_strand='+', is_correct=False, start_diff=-21643408, end_diff=-21652978, read_sv='DEL')"
      ]
     },
     "metadata": {},
     "output_type": "display_data"
    },
    {
     "data": {
      "text/plain": [
       "'           GT from 54359570 to 54369310'"
      ]
     },
     "metadata": {},
     "output_type": "display_data"
    },
    {
     "data": {
      "text/plain": [
       "'       target from 32716162 to 32716332'"
      ]
     },
     "metadata": {},
     "output_type": "display_data"
    },
    {
     "data": {
      "text/plain": [
       "'    GT_labels from 52556331 to 52563190'"
      ]
     },
     "metadata": {},
     "output_type": "display_data"
    },
    {
     "data": {
      "text/plain": [
       "'target_labels from 32716163 to 32716332'"
      ]
     },
     "metadata": {},
     "output_type": "display_data"
    },
    {
     "data": {
      "text/plain": [
       "'0 >?= 8919.0 = 0.9 * union 9910 => False'"
      ]
     },
     "metadata": {},
     "output_type": "display_data"
    },
    {
     "data": {
      "text/plain": [
       "Pandas(Index=682, query_name='S1_571!NC_060948.1!54359570!54369310!+', query_length=9781, query_start=8288, query_end=8741, strand='+', target_name='NC_060948.1', target_length=62460029, target_start=34394768, target_end=34395225, residue_matches=75, alignment_block_length=457, mapping_quality=3, tp='P', cm=5, s1=74, s2=56, dv=0.0406, rl=7761, experiment='t2tChrY-readst2tChrY-SVs-a0.99-d0.1-l10000', tool='minimap', read_name='S1_571', GT_ref='NC_060948.1', GT_from=54359570, GT_to=54369310, GT_strand='+', is_correct=False, start_diff=-19964802, end_diff=-19974085, read_sv='DEL')"
      ]
     },
     "metadata": {},
     "output_type": "display_data"
    },
    {
     "data": {
      "text/plain": [
       "'           GT from 54359570 to 54369310'"
      ]
     },
     "metadata": {},
     "output_type": "display_data"
    },
    {
     "data": {
      "text/plain": [
       "'       target from 34394768 to 34395225'"
      ]
     },
     "metadata": {},
     "output_type": "display_data"
    },
    {
     "data": {
      "text/plain": [
       "'    GT_labels from 52556331 to 52563190'"
      ]
     },
     "metadata": {},
     "output_type": "display_data"
    },
    {
     "data": {
      "text/plain": [
       "'target_labels from 34394769 to 34395225'"
      ]
     },
     "metadata": {},
     "output_type": "display_data"
    },
    {
     "data": {
      "text/plain": [
       "'0 >?= 9177.300000000001 = 0.9 * union 10197 => False'"
      ]
     },
     "metadata": {},
     "output_type": "display_data"
    },
    {
     "data": {
      "text/plain": [
       "Pandas(Index=684, query_name='S1_573!NC_060948.1!36394338!36401588!+', query_length=7271, query_start=3173, query_end=7171, strand='+', target_name='NC_060948.1', target_length=62460029, target_start=35169570, target_end=35173556, residue_matches=1080, alignment_block_length=4004, mapping_quality=2, tp='P', cm=75, s1=1075, s2=1028, dv=0.0118, rl=5387, experiment='t2tChrY-readst2tChrY-SVs-a0.99-d0.1-l10000', tool='minimap', read_name='S1_573', GT_ref='NC_060948.1', GT_from=36394338, GT_to=36401588, GT_strand='+', is_correct=False, start_diff=-1224768, end_diff=-1228032, read_sv='DEL')"
      ]
     },
     "metadata": {},
     "output_type": "display_data"
    },
    {
     "data": {
      "text/plain": [
       "'           GT from 36394338 to 36401588'"
      ]
     },
     "metadata": {},
     "output_type": "display_data"
    },
    {
     "data": {
      "text/plain": [
       "'       target from 35169570 to 35173556'"
      ]
     },
     "metadata": {},
     "output_type": "display_data"
    },
    {
     "data": {
      "text/plain": [
       "'    GT_labels from 35169464 to 35173653'"
      ]
     },
     "metadata": {},
     "output_type": "display_data"
    },
    {
     "data": {
      "text/plain": [
       "'target_labels from 35169571 to 35173556'"
      ]
     },
     "metadata": {},
     "output_type": "display_data"
    },
    {
     "data": {
      "text/plain": [
       "'3986 >?= 6525.0 = 0.9 * union 7250 => False'"
      ]
     },
     "metadata": {},
     "output_type": "display_data"
    },
    {
     "data": {
      "text/plain": [
       "Pandas(Index=685, query_name='S1_573!NC_060948.1!36394338!36401588!+', query_length=7271, query_start=108, query_end=740, strand='+', target_name='NC_060948.1', target_length=62460029, target_start=34864922, target_end=34865550, residue_matches=160, alignment_block_length=632, mapping_quality=0, tp='P', cm=11, s1=159, s2=159, dv=0.0256, rl=5387, experiment='t2tChrY-readst2tChrY-SVs-a0.99-d0.1-l10000', tool='minimap', read_name='S1_573', GT_ref='NC_060948.1', GT_from=36394338, GT_to=36401588, GT_strand='+', is_correct=False, start_diff=-1529416, end_diff=-1536038, read_sv='DEL')"
      ]
     },
     "metadata": {},
     "output_type": "display_data"
    },
    {
     "data": {
      "text/plain": [
       "'           GT from 36394338 to 36401588'"
      ]
     },
     "metadata": {},
     "output_type": "display_data"
    },
    {
     "data": {
      "text/plain": [
       "'       target from 34864922 to 34865550'"
      ]
     },
     "metadata": {},
     "output_type": "display_data"
    },
    {
     "data": {
      "text/plain": [
       "'    GT_labels from 35169464 to 35173653'"
      ]
     },
     "metadata": {},
     "output_type": "display_data"
    },
    {
     "data": {
      "text/plain": [
       "'target_labels from 34864923 to 34865550'"
      ]
     },
     "metadata": {},
     "output_type": "display_data"
    },
    {
     "data": {
      "text/plain": [
       "'0 >?= 7090.2 = 0.9 * union 7878 => False'"
      ]
     },
     "metadata": {},
     "output_type": "display_data"
    },
    {
     "data": {
      "text/plain": [
       "Pandas(Index=686, query_name='S1_573!NC_060948.1!36394338!36401588!+', query_length=7271, query_start=1644, query_end=2272, strand='+', target_name='NC_060948.1', target_length=62460029, target_start=35169570, target_end=35170198, residue_matches=149, alignment_block_length=631, mapping_quality=0, tp='P', cm=10, s1=147, s2=147, dv=0.0211, rl=5387, experiment='t2tChrY-readst2tChrY-SVs-a0.99-d0.1-l10000', tool='minimap', read_name='S1_573', GT_ref='NC_060948.1', GT_from=36394338, GT_to=36401588, GT_strand='+', is_correct=False, start_diff=-1224768, end_diff=-1231390, read_sv='DEL')"
      ]
     },
     "metadata": {},
     "output_type": "display_data"
    },
    {
     "data": {
      "text/plain": [
       "'           GT from 36394338 to 36401588'"
      ]
     },
     "metadata": {},
     "output_type": "display_data"
    },
    {
     "data": {
      "text/plain": [
       "'       target from 35169570 to 35170198'"
      ]
     },
     "metadata": {},
     "output_type": "display_data"
    },
    {
     "data": {
      "text/plain": [
       "'    GT_labels from 35169464 to 35173653'"
      ]
     },
     "metadata": {},
     "output_type": "display_data"
    },
    {
     "data": {
      "text/plain": [
       "'target_labels from 35169571 to 35170198'"
      ]
     },
     "metadata": {},
     "output_type": "display_data"
    },
    {
     "data": {
      "text/plain": [
       "'628 >?= 6525.0 = 0.9 * union 7250 => False'"
      ]
     },
     "metadata": {},
     "output_type": "display_data"
    },
    {
     "data": {
      "text/plain": [
       "Pandas(Index=687, query_name='S1_573!NC_060948.1!36394338!36401588!+', query_length=7271, query_start=2409, query_end=3023, strand='+', target_name='NC_060948.1', target_length=62460029, target_start=35169570, target_end=35170185, residue_matches=147, alignment_block_length=615, mapping_quality=0, tp='P', cm=10, s1=147, s2=147, dv=0.0211, rl=5387, experiment='t2tChrY-readst2tChrY-SVs-a0.99-d0.1-l10000', tool='minimap', read_name='S1_573', GT_ref='NC_060948.1', GT_from=36394338, GT_to=36401588, GT_strand='+', is_correct=False, start_diff=-1224768, end_diff=-1231403, read_sv='DEL')"
      ]
     },
     "metadata": {},
     "output_type": "display_data"
    },
    {
     "data": {
      "text/plain": [
       "'           GT from 36394338 to 36401588'"
      ]
     },
     "metadata": {},
     "output_type": "display_data"
    },
    {
     "data": {
      "text/plain": [
       "'       target from 35169570 to 35170185'"
      ]
     },
     "metadata": {},
     "output_type": "display_data"
    },
    {
     "data": {
      "text/plain": [
       "'    GT_labels from 35169464 to 35173653'"
      ]
     },
     "metadata": {},
     "output_type": "display_data"
    },
    {
     "data": {
      "text/plain": [
       "'target_labels from 35169571 to 35170185'"
      ]
     },
     "metadata": {},
     "output_type": "display_data"
    },
    {
     "data": {
      "text/plain": [
       "'615 >?= 6525.0 = 0.9 * union 7250 => False'"
      ]
     },
     "metadata": {},
     "output_type": "display_data"
    },
    {
     "data": {
      "text/plain": [
       "Pandas(Index=688, query_name='S1_573!NC_060948.1!36394338!36401588!+', query_length=7271, query_start=891, query_end=1507, strand='+', target_name='NC_060948.1', target_length=62460029, target_start=34864934, target_end=34865550, residue_matches=147, alignment_block_length=618, mapping_quality=0, tp='P', cm=9, s1=147, s2=147, dv=0.0265, rl=5387, experiment='t2tChrY-readst2tChrY-SVs-a0.99-d0.1-l10000', tool='minimap', read_name='S1_573', GT_ref='NC_060948.1', GT_from=36394338, GT_to=36401588, GT_strand='+', is_correct=False, start_diff=-1529404, end_diff=-1536038, read_sv='DEL')"
      ]
     },
     "metadata": {},
     "output_type": "display_data"
    },
    {
     "data": {
      "text/plain": [
       "'           GT from 36394338 to 36401588'"
      ]
     },
     "metadata": {},
     "output_type": "display_data"
    },
    {
     "data": {
      "text/plain": [
       "'       target from 34864934 to 34865550'"
      ]
     },
     "metadata": {},
     "output_type": "display_data"
    },
    {
     "data": {
      "text/plain": [
       "'    GT_labels from 35169464 to 35173653'"
      ]
     },
     "metadata": {},
     "output_type": "display_data"
    },
    {
     "data": {
      "text/plain": [
       "'target_labels from 34864935 to 34865550'"
      ]
     },
     "metadata": {},
     "output_type": "display_data"
    },
    {
     "data": {
      "text/plain": [
       "'0 >?= 7079.400000000001 = 0.9 * union 7866 => False'"
      ]
     },
     "metadata": {},
     "output_type": "display_data"
    },
    {
     "data": {
      "text/plain": [
       "Pandas(Index=700, query_name='S1_58!NC_060948.1!39947910!39960667!-', query_length=12783, query_start=62, query_end=10059, strand='-', target_name='NC_060948.1', target_length=62460029, target_start=38619072, target_end=38629054, residue_matches=1133, alignment_block_length=10012, mapping_quality=3, tp='P', cm=78, s1=1123, s2=994, dv=0.0245, rl=10461, experiment='t2tChrY-readst2tChrY-SVs-a0.99-d0.1-l10000', tool='minimap', read_name='S1_58', GT_ref='NC_060948.1', GT_from=39947910, GT_to=39960667, GT_strand='-', is_correct=False, start_diff=-1328838, end_diff=-1331613, read_sv='multi')"
      ]
     },
     "metadata": {},
     "output_type": "display_data"
    },
    {
     "data": {
      "text/plain": [
       "'           GT from 39947910 to 39960667'"
      ]
     },
     "metadata": {},
     "output_type": "display_data"
    },
    {
     "data": {
      "text/plain": [
       "'       target from 38619072 to 38629054'"
      ]
     },
     "metadata": {},
     "output_type": "display_data"
    },
    {
     "data": {
      "text/plain": [
       "'    GT_labels from 38618989 to 38629115'"
      ]
     },
     "metadata": {},
     "output_type": "display_data"
    },
    {
     "data": {
      "text/plain": [
       "'target_labels from 38619073 to 38629054'"
      ]
     },
     "metadata": {},
     "output_type": "display_data"
    },
    {
     "data": {
      "text/plain": [
       "'9982 >?= 11481.300000000001 = 0.9 * union 12757 => False'"
      ]
     },
     "metadata": {},
     "output_type": "display_data"
    },
    {
     "data": {
      "text/plain": [
       "Pandas(Index=701, query_name='S1_58!NC_060948.1!39947910!39960667!-', query_length=12783, query_start=10452, query_end=11057, strand='-', target_name='NC_060948.1', target_length=62460029, target_start=36874807, target_end=36875410, residue_matches=81, alignment_block_length=605, mapping_quality=0, tp='P', cm=5, s1=81, s2=81, dv=0.0305, rl=10461, experiment='t2tChrY-readst2tChrY-SVs-a0.99-d0.1-l10000', tool='minimap', read_name='S1_58', GT_ref='NC_060948.1', GT_from=39947910, GT_to=39960667, GT_strand='-', is_correct=False, start_diff=-3073103, end_diff=-3085257, read_sv='multi')"
      ]
     },
     "metadata": {},
     "output_type": "display_data"
    },
    {
     "data": {
      "text/plain": [
       "'           GT from 39947910 to 39960667'"
      ]
     },
     "metadata": {},
     "output_type": "display_data"
    },
    {
     "data": {
      "text/plain": [
       "'       target from 36874807 to 36875410'"
      ]
     },
     "metadata": {},
     "output_type": "display_data"
    },
    {
     "data": {
      "text/plain": [
       "'    GT_labels from 38618989 to 38629115'"
      ]
     },
     "metadata": {},
     "output_type": "display_data"
    },
    {
     "data": {
      "text/plain": [
       "'target_labels from 36874808 to 36875410'"
      ]
     },
     "metadata": {},
     "output_type": "display_data"
    },
    {
     "data": {
      "text/plain": [
       "'0 >?= 12024.0 = 0.9 * union 13360 => False'"
      ]
     },
     "metadata": {},
     "output_type": "display_data"
    },
    {
     "data": {
      "text/plain": [
       "Pandas(Index=702, query_name='S1_58!NC_060948.1!39947910!39960667!-', query_length=12783, query_start=11197, query_end=12057, strand='-', target_name='NC_060948.1', target_length=62460029, target_start=50180448, target_end=50181305, residue_matches=81, alignment_block_length=860, mapping_quality=0, tp='P', cm=5, s1=80, s2=79, dv=0.049, rl=10461, experiment='t2tChrY-readst2tChrY-SVs-a0.99-d0.1-l10000', tool='minimap', read_name='S1_58', GT_ref='NC_060948.1', GT_from=39947910, GT_to=39960667, GT_strand='-', is_correct=False, start_diff=10232538, end_diff=10220638, read_sv='multi')"
      ]
     },
     "metadata": {},
     "output_type": "display_data"
    },
    {
     "data": {
      "text/plain": [
       "'           GT from 39947910 to 39960667'"
      ]
     },
     "metadata": {},
     "output_type": "display_data"
    },
    {
     "data": {
      "text/plain": [
       "'       target from 50180448 to 50181305'"
      ]
     },
     "metadata": {},
     "output_type": "display_data"
    },
    {
     "data": {
      "text/plain": [
       "'    GT_labels from 38618989 to 38629115'"
      ]
     },
     "metadata": {},
     "output_type": "display_data"
    },
    {
     "data": {
      "text/plain": [
       "'target_labels from 50180449 to 50181305'"
      ]
     },
     "metadata": {},
     "output_type": "display_data"
    },
    {
     "data": {
      "text/plain": [
       "'0 >?= 12252.6 = 0.9 * union 13614 => False'"
      ]
     },
     "metadata": {},
     "output_type": "display_data"
    },
    {
     "data": {
      "text/plain": [
       "Pandas(Index=703, query_name='S1_58!NC_060948.1!39947910!39960667!-', query_length=12783, query_start=12233, query_end=12516, strand='-', target_name='NC_060948.1', target_length=62460029, target_start=34254547, target_end=34254827, residue_matches=57, alignment_block_length=283, mapping_quality=0, tp='P', cm=3, s1=56, s2=56, dv=0.0358, rl=10461, experiment='t2tChrY-readst2tChrY-SVs-a0.99-d0.1-l10000', tool='minimap', read_name='S1_58', GT_ref='NC_060948.1', GT_from=39947910, GT_to=39960667, GT_strand='-', is_correct=False, start_diff=-5693363, end_diff=-5705840, read_sv='multi')"
      ]
     },
     "metadata": {},
     "output_type": "display_data"
    },
    {
     "data": {
      "text/plain": [
       "'           GT from 39947910 to 39960667'"
      ]
     },
     "metadata": {},
     "output_type": "display_data"
    },
    {
     "data": {
      "text/plain": [
       "'       target from 34254547 to 34254827'"
      ]
     },
     "metadata": {},
     "output_type": "display_data"
    },
    {
     "data": {
      "text/plain": [
       "'    GT_labels from 38618989 to 38629115'"
      ]
     },
     "metadata": {},
     "output_type": "display_data"
    },
    {
     "data": {
      "text/plain": [
       "'target_labels from 34254548 to 34254827'"
      ]
     },
     "metadata": {},
     "output_type": "display_data"
    },
    {
     "data": {
      "text/plain": [
       "'0 >?= 11733.300000000001 = 0.9 * union 13037 => False'"
      ]
     },
     "metadata": {},
     "output_type": "display_data"
    },
    {
     "data": {
      "text/plain": [
       "Pandas(Index=711, query_name='S1_583!NC_060948.1!24595113!24605560!+', query_length=10466, query_start=18, query_end=10466, strand='+', target_name='NC_060948.1', target_length=62460029, target_start=23736087, target_end=23746516, residue_matches=9267, alignment_block_length=10470, mapping_quality=2, tp='P', cm=900, s1=9264, s2=9201, dv=0.0003, rl=0, experiment='t2tChrY-readst2tChrY-SVs-a0.99-d0.1-l10000', tool='minimap', read_name='S1_583', GT_ref='NC_060948.1', GT_from=24595113, GT_to=24605560, GT_strand='+', is_correct=True, start_diff=-859026, end_diff=-859044, read_sv='INV')"
      ]
     },
     "metadata": {},
     "output_type": "display_data"
    },
    {
     "data": {
      "text/plain": [
       "'           GT from 24595113 to 24605560'"
      ]
     },
     "metadata": {},
     "output_type": "display_data"
    },
    {
     "data": {
      "text/plain": [
       "'       target from 23736087 to 23746516'"
      ]
     },
     "metadata": {},
     "output_type": "display_data"
    },
    {
     "data": {
      "text/plain": [
       "'    GT_labels from 23736070 to 23746516'"
      ]
     },
     "metadata": {},
     "output_type": "display_data"
    },
    {
     "data": {
      "text/plain": [
       "'target_labels from 23736088 to 23746516'"
      ]
     },
     "metadata": {},
     "output_type": "display_data"
    },
    {
     "data": {
      "text/plain": [
       "'10429 >?= 9402.300000000001 = 0.9 * union 10447 => True'"
      ]
     },
     "metadata": {},
     "output_type": "display_data"
    },
    {
     "data": {
      "text/plain": [
       "Pandas(Index=712, query_name='S1_584!NC_060948.1!45796060!45805947!-', query_length=9901, query_start=7, query_end=9771, strand='-', target_name='NC_060948.1', target_length=62460029, target_start=44252201, target_end=44261949, residue_matches=1846, alignment_block_length=9775, mapping_quality=3, tp='P', cm=139, s1=1841, s2=1721, dv=0.0155, rl=7732, experiment='t2tChrY-readst2tChrY-SVs-a0.99-d0.1-l10000', tool='minimap', read_name='S1_584', GT_ref='NC_060948.1', GT_from=45796060, GT_to=45805947, GT_strand='-', is_correct=True, start_diff=-1543859, end_diff=-1543998, read_sv='DUP')"
      ]
     },
     "metadata": {},
     "output_type": "display_data"
    },
    {
     "data": {
      "text/plain": [
       "'           GT from 45796060 to 45805947'"
      ]
     },
     "metadata": {},
     "output_type": "display_data"
    },
    {
     "data": {
      "text/plain": [
       "'       target from 44252201 to 44261949'"
      ]
     },
     "metadata": {},
     "output_type": "display_data"
    },
    {
     "data": {
      "text/plain": [
       "'    GT_labels from 44252070 to 44261956'"
      ]
     },
     "metadata": {},
     "output_type": "display_data"
    },
    {
     "data": {
      "text/plain": [
       "'target_labels from 44252202 to 44261949'"
      ]
     },
     "metadata": {},
     "output_type": "display_data"
    },
    {
     "data": {
      "text/plain": [
       "'9748 >?= 8898.300000000001 = 0.9 * union 9887 => True'"
      ]
     },
     "metadata": {},
     "output_type": "display_data"
    },
    {
     "data": {
      "text/plain": [
       "Pandas(Index=713, query_name='S1_585!NC_060948.1!2548247!2555677!+', query_length=7447, query_start=6, query_end=7403, strand='+', target_name='NC_060948.1', target_length=62460029, target_start=2464201, target_end=2471582, residue_matches=6304, alignment_block_length=7420, mapping_quality=60, tp='P', cm=587, s1=6297, s2=0, dv=0.0001, rl=0, experiment='t2tChrY-readst2tChrY-SVs-a0.99-d0.1-l10000', tool='minimap', read_name='S1_585', GT_ref='NC_060948.1', GT_from=2548247, GT_to=2555677, GT_strand='+', is_correct=True, start_diff=-84046, end_diff=-84095, read_sv='INS')"
      ]
     },
     "metadata": {},
     "output_type": "display_data"
    },
    {
     "data": {
      "text/plain": [
       "'           GT from 2548247 to 2555677'"
      ]
     },
     "metadata": {},
     "output_type": "display_data"
    },
    {
     "data": {
      "text/plain": [
       "'       target from 2464201 to 2471582'"
      ]
     },
     "metadata": {},
     "output_type": "display_data"
    },
    {
     "data": {
      "text/plain": [
       "'    GT_labels from 2464196 to 2471584'"
      ]
     },
     "metadata": {},
     "output_type": "display_data"
    },
    {
     "data": {
      "text/plain": [
       "'target_labels from 2464202 to 2471582'"
      ]
     },
     "metadata": {},
     "output_type": "display_data"
    },
    {
     "data": {
      "text/plain": [
       "'7381 >?= 6687.0 = 0.9 * union 7430 => True'"
      ]
     },
     "metadata": {},
     "output_type": "display_data"
    },
    {
     "data": {
      "text/plain": [
       "Pandas(Index=717, query_name='S1_588!NC_060948.1!47428462!47435842!-', query_length=7410, query_start=3, query_end=7137, strand='-', target_name='NC_060948.1', target_length=62460029, target_start=45841589, target_end=45848697, residue_matches=704, alignment_block_length=7141, mapping_quality=1, tp='P', cm=48, s1=693, s2=667, dv=0.0358, rl=5804, experiment='t2tChrY-readst2tChrY-SVs-a0.99-d0.1-l10000', tool='minimap', read_name='S1_588', GT_ref='NC_060948.1', GT_from=47428462, GT_to=47435842, GT_strand='-', is_correct=True, start_diff=-1586873, end_diff=-1587145, read_sv='multi')"
      ]
     },
     "metadata": {},
     "output_type": "display_data"
    },
    {
     "data": {
      "text/plain": [
       "'           GT from 47428462 to 47435842'"
      ]
     },
     "metadata": {},
     "output_type": "display_data"
    },
    {
     "data": {
      "text/plain": [
       "'       target from 45841589 to 45848697'"
      ]
     },
     "metadata": {},
     "output_type": "display_data"
    },
    {
     "data": {
      "text/plain": [
       "'    GT_labels from 45841321 to 45848700'"
      ]
     },
     "metadata": {},
     "output_type": "display_data"
    },
    {
     "data": {
      "text/plain": [
       "'target_labels from 45841590 to 45848697'"
      ]
     },
     "metadata": {},
     "output_type": "display_data"
    },
    {
     "data": {
      "text/plain": [
       "'7108 >?= 6642.0 = 0.9 * union 7380 => True'"
      ]
     },
     "metadata": {},
     "output_type": "display_data"
    },
    {
     "data": {
      "text/plain": [
       "Pandas(Index=719, query_name='S1_59!NC_060948.1!12677680!12688545!+', query_length=10898, query_start=15, query_end=10891, strand='+', target_name='NC_060948.1', target_length=62460029, target_start=12233251, target_end=12244094, residue_matches=8085, alignment_block_length=10903, mapping_quality=60, tp='P', cm=704, s1=8069, s2=6400, dv=0.0071, rl=1015, experiment='t2tChrY-readst2tChrY-SVs-a0.99-d0.1-l10000', tool='minimap', read_name='S1_59', GT_ref='NC_060948.1', GT_from=12677680, GT_to=12688545, GT_strand='+', is_correct=True, start_diff=-444429, end_diff=-444451, read_sv='multi')"
      ]
     },
     "metadata": {},
     "output_type": "display_data"
    },
    {
     "data": {
      "text/plain": [
       "'           GT from 12677680 to 12688545'"
      ]
     },
     "metadata": {},
     "output_type": "display_data"
    },
    {
     "data": {
      "text/plain": [
       "'       target from 12233251 to 12244094'"
      ]
     },
     "metadata": {},
     "output_type": "display_data"
    },
    {
     "data": {
      "text/plain": [
       "'    GT_labels from 12233237 to 12244101'"
      ]
     },
     "metadata": {},
     "output_type": "display_data"
    },
    {
     "data": {
      "text/plain": [
       "'target_labels from 12233252 to 12244094'"
      ]
     },
     "metadata": {},
     "output_type": "display_data"
    },
    {
     "data": {
      "text/plain": [
       "'10843 >?= 9778.5 = 0.9 * union 10865 => True'"
      ]
     },
     "metadata": {},
     "output_type": "display_data"
    },
    {
     "data": {
      "text/plain": [
       "Pandas(Index=720, query_name='S1_590!NC_060948.1!59444431!59457880!-', query_length=13490, query_start=1182, query_end=13319, strand='-', target_name='NC_060948.1', target_length=62460029, target_start=57484727, target_end=57496832, residue_matches=2185, alignment_block_length=12152, mapping_quality=11, tp='P', cm=163, s1=2168, s2=1725, dv=0.0182, rl=10327, experiment='t2tChrY-readst2tChrY-SVs-a0.99-d0.1-l10000', tool='minimap', read_name='S1_590', GT_ref='NC_060948.1', GT_from=59444431, GT_to=59457880, GT_strand='-', is_correct=True, start_diff=-1959704, end_diff=-1961048, read_sv='DEL')"
      ]
     },
     "metadata": {},
     "output_type": "display_data"
    },
    {
     "data": {
      "text/plain": [
       "'           GT from 59444431 to 59457880'"
      ]
     },
     "metadata": {},
     "output_type": "display_data"
    },
    {
     "data": {
      "text/plain": [
       "'       target from 57484727 to 57496832'"
      ]
     },
     "metadata": {},
     "output_type": "display_data"
    },
    {
     "data": {
      "text/plain": [
       "'    GT_labels from 57484559 to 57496879'"
      ]
     },
     "metadata": {},
     "output_type": "display_data"
    },
    {
     "data": {
      "text/plain": [
       "'target_labels from 57484728 to 57496832'"
      ]
     },
     "metadata": {},
     "output_type": "display_data"
    },
    {
     "data": {
      "text/plain": [
       "'12105 >?= 12104.1 = 0.9 * union 13449 => True'"
      ]
     },
     "metadata": {},
     "output_type": "display_data"
    },
    {
     "data": {
      "text/plain": [
       "Pandas(Index=721, query_name='S1_590!NC_060948.1!59444431!59457880!-', query_length=13490, query_start=517, query_end=943, strand='-', target_name='NC_060948.1', target_length=62460029, target_start=52274839, target_end=52275263, residue_matches=157, alignment_block_length=426, mapping_quality=0, tp='P', cm=13, s1=157, s2=157, dv=0.014, rl=10327, experiment='t2tChrY-readst2tChrY-SVs-a0.99-d0.1-l10000', tool='minimap', read_name='S1_590', GT_ref='NC_060948.1', GT_from=59444431, GT_to=59457880, GT_strand='-', is_correct=False, start_diff=-7169592, end_diff=-7182617, read_sv='DEL')"
      ]
     },
     "metadata": {},
     "output_type": "display_data"
    },
    {
     "data": {
      "text/plain": [
       "'           GT from 59444431 to 59457880'"
      ]
     },
     "metadata": {},
     "output_type": "display_data"
    },
    {
     "data": {
      "text/plain": [
       "'       target from 52274839 to 52275263'"
      ]
     },
     "metadata": {},
     "output_type": "display_data"
    },
    {
     "data": {
      "text/plain": [
       "'    GT_labels from 57484559 to 57496879'"
      ]
     },
     "metadata": {},
     "output_type": "display_data"
    },
    {
     "data": {
      "text/plain": [
       "'target_labels from 52274840 to 52275263'"
      ]
     },
     "metadata": {},
     "output_type": "display_data"
    },
    {
     "data": {
      "text/plain": [
       "'0 >?= 12485.7 = 0.9 * union 13873 => False'"
      ]
     },
     "metadata": {},
     "output_type": "display_data"
    },
    {
     "data": {
      "text/plain": [
       "Pandas(Index=722, query_name='S1_590!NC_060948.1!59444431!59457880!-', query_length=13490, query_start=82, query_end=252, strand='-', target_name='NC_060948.1', target_length=62460029, target_start=59463441, target_end=59463611, residue_matches=58, alignment_block_length=170, mapping_quality=0, tp='P', cm=5, s1=58, s2=58, dv=0.0176, rl=10327, experiment='t2tChrY-readst2tChrY-SVs-a0.99-d0.1-l10000', tool='minimap', read_name='S1_590', GT_ref='NC_060948.1', GT_from=59444431, GT_to=59457880, GT_strand='-', is_correct=False, start_diff=19010, end_diff=5731, read_sv='DEL')"
      ]
     },
     "metadata": {},
     "output_type": "display_data"
    },
    {
     "data": {
      "text/plain": [
       "'           GT from 59444431 to 59457880'"
      ]
     },
     "metadata": {},
     "output_type": "display_data"
    },
    {
     "data": {
      "text/plain": [
       "'       target from 59463441 to 59463611'"
      ]
     },
     "metadata": {},
     "output_type": "display_data"
    },
    {
     "data": {
      "text/plain": [
       "'    GT_labels from 57484559 to 57496879'"
      ]
     },
     "metadata": {},
     "output_type": "display_data"
    },
    {
     "data": {
      "text/plain": [
       "'target_labels from 59463442 to 59463611'"
      ]
     },
     "metadata": {},
     "output_type": "display_data"
    },
    {
     "data": {
      "text/plain": [
       "'0 >?= 12257.1 = 0.9 * union 13619 => False'"
      ]
     },
     "metadata": {},
     "output_type": "display_data"
    },
    {
     "data": {
      "text/plain": [
       "Pandas(Index=733, query_name='S1_599!NC_060948.1!25856662!25866952!+', query_length=10309, query_start=16, query_end=10305, strand='+', target_name='NC_060948.1', target_length=62460029, target_start=24945984, target_end=24956254, residue_matches=9122, alignment_block_length=10316, mapping_quality=2, tp='P', cm=853, s1=9116, s2=9064, dv=0.0008, rl=38, experiment='t2tChrY-readst2tChrY-SVs-a0.99-d0.1-l10000', tool='minimap', read_name='S1_599', GT_ref='NC_060948.1', GT_from=25856662, GT_to=25866952, GT_strand='+', is_correct=True, start_diff=-910678, end_diff=-910698, read_sv='DUP')"
      ]
     },
     "metadata": {},
     "output_type": "display_data"
    },
    {
     "data": {
      "text/plain": [
       "'           GT from 25856662 to 25866952'"
      ]
     },
     "metadata": {},
     "output_type": "display_data"
    },
    {
     "data": {
      "text/plain": [
       "'       target from 24945984 to 24956254'"
      ]
     },
     "metadata": {},
     "output_type": "display_data"
    },
    {
     "data": {
      "text/plain": [
       "'    GT_labels from 24945969 to 24956258'"
      ]
     },
     "metadata": {},
     "output_type": "display_data"
    },
    {
     "data": {
      "text/plain": [
       "'target_labels from 24945985 to 24956254'"
      ]
     },
     "metadata": {},
     "output_type": "display_data"
    },
    {
     "data": {
      "text/plain": [
       "'10270 >?= 9261.0 = 0.9 * union 10290 => True'"
      ]
     },
     "metadata": {},
     "output_type": "display_data"
    },
    {
     "data": {
      "text/plain": [
       "Pandas(Index=735, query_name='S1_60!NC_060948.1!13273294!13280813!-', query_length=7535, query_start=21, query_end=7521, strand='-', target_name='NC_060948.1', target_length=62460029, target_start=12812840, target_end=12820324, residue_matches=6355, alignment_block_length=7516, mapping_quality=60, tp='P', cm=581, s1=6354, s2=44, dv=0.0008, rl=72, experiment='t2tChrY-readst2tChrY-SVs-a0.99-d0.1-l10000', tool='minimap', read_name='S1_60', GT_ref='NC_060948.1', GT_from=13273294, GT_to=13280813, GT_strand='-', is_correct=True, start_diff=-460454, end_diff=-460489, read_sv='DUP')"
      ]
     },
     "metadata": {},
     "output_type": "display_data"
    },
    {
     "data": {
      "text/plain": [
       "'           GT from 13273294 to 13280813'"
      ]
     },
     "metadata": {},
     "output_type": "display_data"
    },
    {
     "data": {
      "text/plain": [
       "'       target from 12812840 to 12820324'"
      ]
     },
     "metadata": {},
     "output_type": "display_data"
    },
    {
     "data": {
      "text/plain": [
       "'    GT_labels from 12812827 to 12820345'"
      ]
     },
     "metadata": {},
     "output_type": "display_data"
    },
    {
     "data": {
      "text/plain": [
       "'target_labels from 12812841 to 12820324'"
      ]
     },
     "metadata": {},
     "output_type": "display_data"
    },
    {
     "data": {
      "text/plain": [
       "'7484 >?= 6767.1 = 0.9 * union 7519 => True'"
      ]
     },
     "metadata": {},
     "output_type": "display_data"
    },
    {
     "data": {
      "text/plain": [
       "Pandas(Index=737, query_name='S1_601!NC_060948.1!53043276!53055332!+', query_length=12102, query_start=10, query_end=11963, strand='+', target_name='NC_060948.1', target_length=62460029, target_start=51286081, target_end=51297988, residue_matches=2679, alignment_block_length=11962, mapping_quality=0, tp='P', cm=210, s1=2664, s2=2657, dv=0.0118, rl=9055, experiment='t2tChrY-readst2tChrY-SVs-a0.99-d0.1-l10000', tool='minimap', read_name='S1_601', GT_ref='NC_060948.1', GT_from=53043276, GT_to=53055332, GT_strand='+', is_correct=True, start_diff=-1757195, end_diff=-1757344, read_sv='INS')"
      ]
     },
     "metadata": {},
     "output_type": "display_data"
    },
    {
     "data": {
      "text/plain": [
       "'           GT from 53043276 to 53055332'"
      ]
     },
     "metadata": {},
     "output_type": "display_data"
    },
    {
     "data": {
      "text/plain": [
       "'       target from 51286081 to 51297988'"
      ]
     },
     "metadata": {},
     "output_type": "display_data"
    },
    {
     "data": {
      "text/plain": [
       "'    GT_labels from 51286072 to 51298635'"
      ]
     },
     "metadata": {},
     "output_type": "display_data"
    },
    {
     "data": {
      "text/plain": [
       "'target_labels from 51286082 to 51297988'"
      ]
     },
     "metadata": {},
     "output_type": "display_data"
    },
    {
     "data": {
      "text/plain": [
       "'11907 >?= 10850.4 = 0.9 * union 12056 => True'"
      ]
     },
     "metadata": {},
     "output_type": "display_data"
    },
    {
     "data": {
      "text/plain": [
       "Pandas(Index=742, query_name='S1_605!NC_060948.1!61289475!61301064!+', query_length=11634, query_start=54, query_end=11618, strand='+', target_name='NC_060948.1', target_length=62460029, target_start=59244612, target_end=59256131, residue_matches=1790, alignment_block_length=11571, mapping_quality=2, tp='P', cm=126, s1=1775, s2=1676, dv=0.0214, rl=9228, experiment='t2tChrY-readst2tChrY-SVs-a0.99-d0.1-l10000', tool='minimap', read_name='S1_605', GT_ref='NC_060948.1', GT_from=61289475, GT_to=61301064, GT_strand='+', is_correct=True, start_diff=-2044863, end_diff=-2044933, read_sv='multi')"
      ]
     },
     "metadata": {},
     "output_type": "display_data"
    },
    {
     "data": {
      "text/plain": [
       "'           GT from 61289475 to 61301064'"
      ]
     },
     "metadata": {},
     "output_type": "display_data"
    },
    {
     "data": {
      "text/plain": [
       "'       target from 59244612 to 59256131'"
      ]
     },
     "metadata": {},
     "output_type": "display_data"
    },
    {
     "data": {
      "text/plain": [
       "'    GT_labels from 59244559 to 59256147'"
      ]
     },
     "metadata": {},
     "output_type": "display_data"
    },
    {
     "data": {
      "text/plain": [
       "'target_labels from 59244613 to 59256131'"
      ]
     },
     "metadata": {},
     "output_type": "display_data"
    },
    {
     "data": {
      "text/plain": [
       "'11519 >?= 10430.1 = 0.9 * union 11589 => True'"
      ]
     },
     "metadata": {},
     "output_type": "display_data"
    },
    {
     "data": {
      "text/plain": [
       "Pandas(Index=745, query_name='S1_608!NC_060948.1!49335277!49348418!-', query_length=13183, query_start=4630, query_end=12911, strand='-', target_name='NC_060948.1', target_length=62460029, target_start=47687216, target_end=47695467, residue_matches=887, alignment_block_length=8285, mapping_quality=7, tp='P', cm=61, s1=880, s2=600, dv=0.0358, rl=10649, experiment='t2tChrY-readst2tChrY-SVs-a0.99-d0.1-l10000', tool='minimap', read_name='S1_608', GT_ref='NC_060948.1', GT_from=49335277, GT_to=49348418, GT_strand='-', is_correct=False, start_diff=-1648061, end_diff=-1652951, read_sv='DEL')"
      ]
     },
     "metadata": {},
     "output_type": "display_data"
    },
    {
     "data": {
      "text/plain": [
       "'           GT from 49335277 to 49348418'"
      ]
     },
     "metadata": {},
     "output_type": "display_data"
    },
    {
     "data": {
      "text/plain": [
       "'       target from 47687216 to 47695467'"
      ]
     },
     "metadata": {},
     "output_type": "display_data"
    },
    {
     "data": {
      "text/plain": [
       "'    GT_labels from 47686944 to 47696214'"
      ]
     },
     "metadata": {},
     "output_type": "display_data"
    },
    {
     "data": {
      "text/plain": [
       "'target_labels from 47687217 to 47695467'"
      ]
     },
     "metadata": {},
     "output_type": "display_data"
    },
    {
     "data": {
      "text/plain": [
       "'8251 >?= 11826.9 = 0.9 * union 13141 => False'"
      ]
     },
     "metadata": {},
     "output_type": "display_data"
    },
    {
     "data": {
      "text/plain": [
       "Pandas(Index=747, query_name='S1_608!NC_060948.1!49335277!49348418!-', query_length=13183, query_start=2245, query_end=2703, strand='-', target_name='NC_060948.1', target_length=62460029, target_start=30702167, target_end=30702625, residue_matches=57, alignment_block_length=458, mapping_quality=0, tp='P', cm=3, s1=57, s2=57, dv=0.0358, rl=10649, experiment='t2tChrY-readst2tChrY-SVs-a0.99-d0.1-l10000', tool='minimap', read_name='S1_608', GT_ref='NC_060948.1', GT_from=49335277, GT_to=49348418, GT_strand='-', is_correct=False, start_diff=-18633110, end_diff=-18645793, read_sv='DEL')"
      ]
     },
     "metadata": {},
     "output_type": "display_data"
    },
    {
     "data": {
      "text/plain": [
       "'           GT from 49335277 to 49348418'"
      ]
     },
     "metadata": {},
     "output_type": "display_data"
    },
    {
     "data": {
      "text/plain": [
       "'       target from 30702167 to 30702625'"
      ]
     },
     "metadata": {},
     "output_type": "display_data"
    },
    {
     "data": {
      "text/plain": [
       "'    GT_labels from 47686944 to 47696214'"
      ]
     },
     "metadata": {},
     "output_type": "display_data"
    },
    {
     "data": {
      "text/plain": [
       "'target_labels from 30702168 to 30702625'"
      ]
     },
     "metadata": {},
     "output_type": "display_data"
    },
    {
     "data": {
      "text/plain": [
       "'0 >?= 12239.1 = 0.9 * union 13599 => False'"
      ]
     },
     "metadata": {},
     "output_type": "display_data"
    },
    {
     "data": {
      "text/plain": [
       "Pandas(Index=748, query_name='S1_609!NC_060948.1!57244546!57258010!+', query_length=13502, query_start=50, query_end=12873, strand='+', target_name='NC_060948.1', target_length=62460029, target_start=55339921, target_end=55352621, residue_matches=1594, alignment_block_length=12837, mapping_quality=14, tp='P', cm=119, s1=1563, s2=952, dv=0.0287, rl=10624, experiment='t2tChrY-readst2tChrY-SVs-a0.99-d0.1-l10000', tool='minimap', read_name='S1_609', GT_ref='NC_060948.1', GT_from=57244546, GT_to=57258010, GT_strand='+', is_correct=True, start_diff=-1904625, end_diff=-1905389, read_sv='INS')"
      ]
     },
     "metadata": {},
     "output_type": "display_data"
    },
    {
     "data": {
      "text/plain": [
       "'           GT from 57244546 to 57258010'"
      ]
     },
     "metadata": {},
     "output_type": "display_data"
    },
    {
     "data": {
      "text/plain": [
       "'       target from 55339921 to 55352621'"
      ]
     },
     "metadata": {},
     "output_type": "display_data"
    },
    {
     "data": {
      "text/plain": [
       "'    GT_labels from -118582 to 55353247'"
      ]
     },
     "metadata": {},
     "output_type": "display_data"
    },
    {
     "data": {
      "text/plain": [
       "'target_labels from 55339922 to 55352621'"
      ]
     },
     "metadata": {},
     "output_type": "display_data"
    },
    {
     "data": {
      "text/plain": [
       "'12700 >?= 12117.6 = 0.9 * union 13464 => True'"
      ]
     },
     "metadata": {},
     "output_type": "display_data"
    },
    {
     "data": {
      "text/plain": [
       "Pandas(Index=753, query_name='S1_612!NC_060948.1!17325247!17333809!-', query_length=8585, query_start=30, query_end=8570, strand='-', target_name='NC_060948.1', target_length=62460029, target_start=16698157, target_end=16706675, residue_matches=7390, alignment_block_length=8561, mapping_quality=60, tp='P', cm=698, s1=7382, s2=113, dv=0.0002, rl=0, experiment='t2tChrY-readst2tChrY-SVs-a0.99-d0.1-l10000', tool='minimap', read_name='S1_612', GT_ref='NC_060948.1', GT_from=17325247, GT_to=17333809, GT_strand='-', is_correct=True, start_diff=-627090, end_diff=-627134, read_sv='INV')"
      ]
     },
     "metadata": {},
     "output_type": "display_data"
    },
    {
     "data": {
      "text/plain": [
       "'           GT from 17325247 to 17333809'"
      ]
     },
     "metadata": {},
     "output_type": "display_data"
    },
    {
     "data": {
      "text/plain": [
       "'       target from 16698157 to 16706675'"
      ]
     },
     "metadata": {},
     "output_type": "display_data"
    },
    {
     "data": {
      "text/plain": [
       "'    GT_labels from 16698143 to 16706704'"
      ]
     },
     "metadata": {},
     "output_type": "display_data"
    },
    {
     "data": {
      "text/plain": [
       "'target_labels from 16698158 to 16706675'"
      ]
     },
     "metadata": {},
     "output_type": "display_data"
    },
    {
     "data": {
      "text/plain": [
       "'8518 >?= 7705.8 = 0.9 * union 8562 => True'"
      ]
     },
     "metadata": {},
     "output_type": "display_data"
    },
    {
     "data": {
      "text/plain": [
       "Pandas(Index=756, query_name='S1_615!NC_060948.1!60735527!60748302!+', query_length=12794, query_start=59, query_end=12712, strand='+', target_name='NC_060948.1', target_length=62460029, target_start=58707354, target_end=58719989, residue_matches=3084, alignment_block_length=12677, mapping_quality=1, tp='P', cm=229, s1=3071, s2=3030, dv=0.0116, rl=9573, experiment='t2tChrY-readst2tChrY-SVs-a0.99-d0.1-l10000', tool='minimap', read_name='S1_615', GT_ref='NC_060948.1', GT_from=60735527, GT_to=60748302, GT_strand='+', is_correct=True, start_diff=-2028173, end_diff=-2028313, read_sv='DUP')"
      ]
     },
     "metadata": {},
     "output_type": "display_data"
    },
    {
     "data": {
      "text/plain": [
       "'           GT from 60735527 to 60748302'"
      ]
     },
     "metadata": {},
     "output_type": "display_data"
    },
    {
     "data": {
      "text/plain": [
       "'       target from 58707354 to 58719989'"
      ]
     },
     "metadata": {},
     "output_type": "display_data"
    },
    {
     "data": {
      "text/plain": [
       "'    GT_labels from 58707297 to 58720071'"
      ]
     },
     "metadata": {},
     "output_type": "display_data"
    },
    {
     "data": {
      "text/plain": [
       "'target_labels from 58707355 to 58719989'"
      ]
     },
     "metadata": {},
     "output_type": "display_data"
    },
    {
     "data": {
      "text/plain": [
       "'12635 >?= 11497.5 = 0.9 * union 12775 => True'"
      ]
     },
     "metadata": {},
     "output_type": "display_data"
    },
    {
     "data": {
      "text/plain": [
       "Pandas(Index=758, query_name='S1_617!NC_060948.1!46882089!46892066!+', query_length=10009, query_start=6, query_end=8853, strand='+', target_name='NC_060948.1', target_length=62460029, target_start=45322635, target_end=45331455, residue_matches=1227, alignment_block_length=8854, mapping_quality=9, tp='P', cm=87, s1=1216, s2=923, dv=0.0205, rl=7987, experiment='t2tChrY-readst2tChrY-SVs-a0.99-d0.1-l10000', tool='minimap', read_name='S1_617', GT_ref='NC_060948.1', GT_from=46882089, GT_to=46892066, GT_strand='+', is_correct=False, start_diff=-1559454, end_diff=-1560611, read_sv='DUP')"
      ]
     },
     "metadata": {},
     "output_type": "display_data"
    },
    {
     "data": {
      "text/plain": [
       "'           GT from 46882089 to 46892066'"
      ]
     },
     "metadata": {},
     "output_type": "display_data"
    },
    {
     "data": {
      "text/plain": [
       "'       target from 45322635 to 45331455'"
      ]
     },
     "metadata": {},
     "output_type": "display_data"
    },
    {
     "data": {
      "text/plain": [
       "'    GT_labels from 45322630 to 45331751'"
      ]
     },
     "metadata": {},
     "output_type": "display_data"
    },
    {
     "data": {
      "text/plain": [
       "'target_labels from 45322636 to 45331455'"
      ]
     },
     "metadata": {},
     "output_type": "display_data"
    },
    {
     "data": {
      "text/plain": [
       "'8820 >?= 8979.300000000001 = 0.9 * union 9977 => False'"
      ]
     },
     "metadata": {},
     "output_type": "display_data"
    },
    {
     "data": {
      "text/plain": [
       "Pandas(Index=759, query_name='S1_617!NC_060948.1!46882089!46892066!+', query_length=10009, query_start=9292, query_end=9605, strand='+', target_name='NC_060948.1', target_length=62460029, target_start=45331141, target_end=45331455, residue_matches=105, alignment_block_length=314, mapping_quality=0, tp='P', cm=8, s1=105, s2=105, dv=0.0166, rl=7987, experiment='t2tChrY-readst2tChrY-SVs-a0.99-d0.1-l10000', tool='minimap', read_name='S1_617', GT_ref='NC_060948.1', GT_from=46882089, GT_to=46892066, GT_strand='+', is_correct=False, start_diff=-1550948, end_diff=-1560611, read_sv='DUP')"
      ]
     },
     "metadata": {},
     "output_type": "display_data"
    },
    {
     "data": {
      "text/plain": [
       "'           GT from 46882089 to 46892066'"
      ]
     },
     "metadata": {},
     "output_type": "display_data"
    },
    {
     "data": {
      "text/plain": [
       "'       target from 45331141 to 45331455'"
      ]
     },
     "metadata": {},
     "output_type": "display_data"
    },
    {
     "data": {
      "text/plain": [
       "'    GT_labels from 45322630 to 45331751'"
      ]
     },
     "metadata": {},
     "output_type": "display_data"
    },
    {
     "data": {
      "text/plain": [
       "'target_labels from 45331142 to 45331455'"
      ]
     },
     "metadata": {},
     "output_type": "display_data"
    },
    {
     "data": {
      "text/plain": [
       "'314 >?= 8979.300000000001 = 0.9 * union 9977 => False'"
      ]
     },
     "metadata": {},
     "output_type": "display_data"
    },
    {
     "data": {
      "text/plain": [
       "Pandas(Index=766, query_name='S1_619!NC_060948.1!5949642!5958729!+', query_length=9110, query_start=29, query_end=9110, strand='+', target_name='NC_060948.1', target_length=62460029, target_start=5735598, target_end=5744657, residue_matches=7929, alignment_block_length=9105, mapping_quality=60, tp='P', cm=744, s1=7921, s2=80, dv=0.0007, rl=35, experiment='t2tChrY-readst2tChrY-SVs-a0.99-d0.1-l10000', tool='minimap', read_name='S1_619', GT_ref='NC_060948.1', GT_from=5949642, GT_to=5958729, GT_strand='+', is_correct=True, start_diff=-214044, end_diff=-214072, read_sv='DEL')"
      ]
     },
     "metadata": {},
     "output_type": "display_data"
    },
    {
     "data": {
      "text/plain": [
       "'           GT from 5949642 to 5958729'"
      ]
     },
     "metadata": {},
     "output_type": "display_data"
    },
    {
     "data": {
      "text/plain": [
       "'       target from 5735598 to 5744657'"
      ]
     },
     "metadata": {},
     "output_type": "display_data"
    },
    {
     "data": {
      "text/plain": [
       "'    GT_labels from 5735571 to 5744657'"
      ]
     },
     "metadata": {},
     "output_type": "display_data"
    },
    {
     "data": {
      "text/plain": [
       "'target_labels from 5735599 to 5744657'"
      ]
     },
     "metadata": {},
     "output_type": "display_data"
    },
    {
     "data": {
      "text/plain": [
       "'9059 >?= 8178.3 = 0.9 * union 9087 => True'"
      ]
     },
     "metadata": {},
     "output_type": "display_data"
    },
    {
     "data": {
      "text/plain": [
       "Pandas(Index=769, query_name='S1_621!NC_060948.1!45362653!45370995!+', query_length=8357, query_start=160, query_end=8129, strand='+', target_name='NC_060948.1', target_length=62460029, target_start=43841851, target_end=43850000, residue_matches=1525, alignment_block_length=8172, mapping_quality=1, tp='P', cm=113, s1=1484, s2=1450, dv=0.0162, rl=6503, experiment='t2tChrY-readst2tChrY-SVs-a0.99-d0.1-l10000', tool='minimap', read_name='S1_621', GT_ref='NC_060948.1', GT_from=45362653, GT_to=45370995, GT_strand='+', is_correct=True, start_diff=-1520802, end_diff=-1520995, read_sv='DUP')"
      ]
     },
     "metadata": {},
     "output_type": "display_data"
    },
    {
     "data": {
      "text/plain": [
       "'           GT from 45362653 to 45370995'"
      ]
     },
     "metadata": {},
     "output_type": "display_data"
    },
    {
     "data": {
      "text/plain": [
       "'       target from 43841851 to 43850000'"
      ]
     },
     "metadata": {},
     "output_type": "display_data"
    },
    {
     "data": {
      "text/plain": [
       "'    GT_labels from 43841692 to 43850225'"
      ]
     },
     "metadata": {},
     "output_type": "display_data"
    },
    {
     "data": {
      "text/plain": [
       "'target_labels from 43841852 to 43850000'"
      ]
     },
     "metadata": {},
     "output_type": "display_data"
    },
    {
     "data": {
      "text/plain": [
       "'7957 >?= 7680.6 = 0.9 * union 8534 => True'"
      ]
     },
     "metadata": {},
     "output_type": "display_data"
    },
    {
     "data": {
      "text/plain": [
       "Pandas(Index=770, query_name='S1_622!NC_060948.1!10112785!10122838!-', query_length=10092, query_start=5, query_end=10083, strand='-', target_name='NC_060948.1', target_length=62460029, target_start=9757986, target_end=9764090, residue_matches=5331, alignment_block_length=10088, mapping_quality=5, tp='P', cm=493, s1=4714, s2=4638, dv=0.0241, rl=0, experiment='t2tChrY-readst2tChrY-SVs-a0.99-d0.1-l10000', tool='minimap', read_name='S1_622', GT_ref='NC_060948.1', GT_from=10112785, GT_to=10122838, GT_strand='-', is_correct=False, start_diff=-354799, end_diff=-358748, read_sv='DUP')"
      ]
     },
     "metadata": {},
     "output_type": "display_data"
    },
    {
     "data": {
      "text/plain": [
       "'           GT from 10112785 to 10122838'"
      ]
     },
     "metadata": {},
     "output_type": "display_data"
    },
    {
     "data": {
      "text/plain": [
       "'       target from 9757986 to 9764090'"
      ]
     },
     "metadata": {},
     "output_type": "display_data"
    },
    {
     "data": {
      "text/plain": [
       "'    GT_labels from 9757978 to 9764095'"
      ]
     },
     "metadata": {},
     "output_type": "display_data"
    },
    {
     "data": {
      "text/plain": [
       "'target_labels from 9757987 to 9764090'"
      ]
     },
     "metadata": {},
     "output_type": "display_data"
    },
    {
     "data": {
      "text/plain": [
       "'6104 >?= 9047.7 = 0.9 * union 10053 => False'"
      ]
     },
     "metadata": {},
     "output_type": "display_data"
    },
    {
     "data": {
      "text/plain": [
       "Pandas(Index=771, query_name='S1_623!NC_060948.1!57936461!57948691!+', query_length=12283, query_start=37, query_end=12216, strand='+', target_name='NC_060948.1', target_length=62460029, target_start=56014654, target_end=56026782, residue_matches=2939, alignment_block_length=12186, mapping_quality=20, tp='P', cm=216, s1=2924, s2=2184, dv=0.0138, rl=8881, experiment='t2tChrY-readst2tChrY-SVs-a0.99-d0.1-l10000', tool='minimap', read_name='S1_623', GT_ref='NC_060948.1', GT_from=57936461, GT_to=57948691, GT_strand='+', is_correct=True, start_diff=-1921807, end_diff=-1921909, read_sv='multi')"
      ]
     },
     "metadata": {},
     "output_type": "display_data"
    },
    {
     "data": {
      "text/plain": [
       "'           GT from 57936461 to 57948691'"
      ]
     },
     "metadata": {},
     "output_type": "display_data"
    },
    {
     "data": {
      "text/plain": [
       "'       target from 56014654 to 56026782'"
      ]
     },
     "metadata": {},
     "output_type": "display_data"
    },
    {
     "data": {
      "text/plain": [
       "'    GT_labels from -120284 to 56026790'"
      ]
     },
     "metadata": {},
     "output_type": "display_data"
    },
    {
     "data": {
      "text/plain": [
       "'target_labels from 56014655 to 56026782'"
      ]
     },
     "metadata": {},
     "output_type": "display_data"
    },
    {
     "data": {
      "text/plain": [
       "'12128 >?= 11007.0 = 0.9 * union 12230 => True'"
      ]
     },
     "metadata": {},
     "output_type": "display_data"
    },
    {
     "data": {
      "text/plain": [
       "Pandas(Index=776, query_name='S1_627!NC_060948.1!41551296!41563905!+', query_length=12657, query_start=199, query_end=12619, strand='+', target_name='NC_060948.1', target_length=62460029, target_start=40172502, target_end=40184875, residue_matches=5580, alignment_block_length=12434, mapping_quality=2, tp='P', cm=476, s1=5567, s2=5464, dv=0.0044, rl=6798, experiment='t2tChrY-readst2tChrY-SVs-a0.99-d0.1-l10000', tool='minimap', read_name='S1_627', GT_ref='NC_060948.1', GT_from=41551296, GT_to=41563905, GT_strand='+', is_correct=True, start_diff=-1378794, end_diff=-1379030, read_sv='multi')"
      ]
     },
     "metadata": {},
     "output_type": "display_data"
    },
    {
     "data": {
      "text/plain": [
       "'           GT from 41551296 to 41563905'"
      ]
     },
     "metadata": {},
     "output_type": "display_data"
    },
    {
     "data": {
      "text/plain": [
       "'       target from 40172502 to 40184875'"
      ]
     },
     "metadata": {},
     "output_type": "display_data"
    },
    {
     "data": {
      "text/plain": [
       "'    GT_labels from 40172305 to 40184913'"
      ]
     },
     "metadata": {},
     "output_type": "display_data"
    },
    {
     "data": {
      "text/plain": [
       "'target_labels from 40172503 to 40184875'"
      ]
     },
     "metadata": {},
     "output_type": "display_data"
    },
    {
     "data": {
      "text/plain": [
       "'12373 >?= 11348.1 = 0.9 * union 12609 => True'"
      ]
     },
     "metadata": {},
     "output_type": "display_data"
    },
    {
     "data": {
      "text/plain": [
       "Pandas(Index=777, query_name='S1_628!NC_060948.1!1786867!1793957!-', query_length=7097, query_start=17, query_end=7079, strand='-', target_name='NC_060948.1', target_length=62460029, target_start=1733478, target_end=1740533, residue_matches=5574, alignment_block_length=7077, mapping_quality=60, tp='P', cm=512, s1=5572, s2=655, dv=0.0073, rl=167, experiment='t2tChrY-readst2tChrY-SVs-a0.99-d0.1-l10000', tool='minimap', read_name='S1_628', GT_ref='NC_060948.1', GT_from=1786867, GT_to=1793957, GT_strand='-', is_correct=True, start_diff=-53389, end_diff=-53424, read_sv='INV')"
      ]
     },
     "metadata": {},
     "output_type": "display_data"
    },
    {
     "data": {
      "text/plain": [
       "'           GT from 1786867 to 1793957'"
      ]
     },
     "metadata": {},
     "output_type": "display_data"
    },
    {
     "data": {
      "text/plain": [
       "'       target from 1733478 to 1740533'"
      ]
     },
     "metadata": {},
     "output_type": "display_data"
    },
    {
     "data": {
      "text/plain": [
       "'    GT_labels from 1733461 to 1740550'"
      ]
     },
     "metadata": {},
     "output_type": "display_data"
    },
    {
     "data": {
      "text/plain": [
       "'target_labels from 1733479 to 1740533'"
      ]
     },
     "metadata": {},
     "output_type": "display_data"
    },
    {
     "data": {
      "text/plain": [
       "'7055 >?= 6381.0 = 0.9 * union 7090 => True'"
      ]
     },
     "metadata": {},
     "output_type": "display_data"
    },
    {
     "data": {
      "text/plain": [
       "Pandas(Index=800, query_name='S1_638!NC_060948.1!41626042!41636622!-', query_length=10616, query_start=7, query_end=10511, strand='-', target_name='NC_060948.1', target_length=62460029, target_start=40244093, target_end=40254562, residue_matches=2103, alignment_block_length=10511, mapping_quality=9, tp='P', cm=160, s1=2092, s2=1766, dv=0.0152, rl=8177, experiment='t2tChrY-readst2tChrY-SVs-a0.99-d0.1-l10000', tool='minimap', read_name='S1_638', GT_ref='NC_060948.1', GT_from=41626042, GT_to=41636622, GT_strand='-', is_correct=True, start_diff=-1381949, end_diff=-1382060, read_sv='multi')"
      ]
     },
     "metadata": {},
     "output_type": "display_data"
    },
    {
     "data": {
      "text/plain": [
       "'           GT from 41626042 to 41636622'"
      ]
     },
     "metadata": {},
     "output_type": "display_data"
    },
    {
     "data": {
      "text/plain": [
       "'       target from 40244093 to 40254562'"
      ]
     },
     "metadata": {},
     "output_type": "display_data"
    },
    {
     "data": {
      "text/plain": [
       "'    GT_labels from 40243990 to 40254569'"
      ]
     },
     "metadata": {},
     "output_type": "display_data"
    },
    {
     "data": {
      "text/plain": [
       "'target_labels from 40244094 to 40254562'"
      ]
     },
     "metadata": {},
     "output_type": "display_data"
    },
    {
     "data": {
      "text/plain": [
       "'10469 >?= 9522.0 = 0.9 * union 10580 => True'"
      ]
     },
     "metadata": {},
     "output_type": "display_data"
    },
    {
     "data": {
      "text/plain": [
       "Pandas(Index=803, query_name='S1_66!NC_060948.1!21406900!21417627!-', query_length=10745, query_start=7, query_end=10702, strand='-', target_name='NC_060948.1', target_length=62460029, target_start=20649376, target_end=20660052, residue_matches=8782, alignment_block_length=10727, mapping_quality=60, tp='P', cm=808, s1=8774, s2=937, dv=0.0036, rl=0, experiment='t2tChrY-readst2tChrY-SVs-a0.99-d0.1-l10000', tool='minimap', read_name='S1_66', GT_ref='NC_060948.1', GT_from=21406900, GT_to=21417627, GT_strand='-', is_correct=True, start_diff=-757524, end_diff=-757575, read_sv='INV')"
      ]
     },
     "metadata": {},
     "output_type": "display_data"
    },
    {
     "data": {
      "text/plain": [
       "'           GT from 21406900 to 21417627'"
      ]
     },
     "metadata": {},
     "output_type": "display_data"
    },
    {
     "data": {
      "text/plain": [
       "'       target from 20649376 to 20660052'"
      ]
     },
     "metadata": {},
     "output_type": "display_data"
    },
    {
     "data": {
      "text/plain": [
       "'    GT_labels from 20649333 to 20660059'"
      ]
     },
     "metadata": {},
     "output_type": "display_data"
    },
    {
     "data": {
      "text/plain": [
       "'target_labels from 20649377 to 20660052'"
      ]
     },
     "metadata": {},
     "output_type": "display_data"
    },
    {
     "data": {
      "text/plain": [
       "'10676 >?= 9654.300000000001 = 0.9 * union 10727 => True'"
      ]
     },
     "metadata": {},
     "output_type": "display_data"
    },
    {
     "data": {
      "text/plain": [
       "Pandas(Index=806, query_name='S1_68!NC_060948.1!13450942!13459351!-', query_length=8430, query_start=12, query_end=8430, strand='-', target_name='NC_060948.1', target_length=62460029, target_start=12980801, target_end=12989199, residue_matches=7123, alignment_block_length=8443, mapping_quality=60, tp='P', cm=665, s1=7116, s2=58, dv=0.0007, rl=184, experiment='t2tChrY-readst2tChrY-SVs-a0.99-d0.1-l10000', tool='minimap', read_name='S1_68', GT_ref='NC_060948.1', GT_from=13450942, GT_to=13459351, GT_strand='-', is_correct=True, start_diff=-470141, end_diff=-470152, read_sv='DUP')"
      ]
     },
     "metadata": {},
     "output_type": "display_data"
    },
    {
     "data": {
      "text/plain": [
       "'           GT from 13450942 to 13459351'"
      ]
     },
     "metadata": {},
     "output_type": "display_data"
    },
    {
     "data": {
      "text/plain": [
       "'       target from 12980801 to 12989199'"
      ]
     },
     "metadata": {},
     "output_type": "display_data"
    },
    {
     "data": {
      "text/plain": [
       "'    GT_labels from 12980802 to 12989210'"
      ]
     },
     "metadata": {},
     "output_type": "display_data"
    },
    {
     "data": {
      "text/plain": [
       "'target_labels from 12980802 to 12989199'"
      ]
     },
     "metadata": {},
     "output_type": "display_data"
    },
    {
     "data": {
      "text/plain": [
       "'8398 >?= 7568.1 = 0.9 * union 8409 => True'"
      ]
     },
     "metadata": {},
     "output_type": "display_data"
    },
    {
     "data": {
      "text/plain": [
       "Pandas(Index=807, query_name='S1_69!NC_060948.1!28906965!28918965!+', query_length=12034, query_start=6, query_end=12029, strand='+', target_name='NC_060948.1', target_length=62460029, target_start=27929266, target_end=27941255, residue_matches=2049, alignment_block_length=12036, mapping_quality=9, tp='P', cm=146, s1=2035, s2=1674, dv=0.0156, rl=9361, experiment='t2tChrY-readst2tChrY-SVs-a0.99-d0.1-l10000', tool='minimap', read_name='S1_69', GT_ref='NC_060948.1', GT_from=28906965, GT_to=28918965, GT_strand='+', is_correct=True, start_diff=-977699, end_diff=-977710, read_sv='INV')"
      ]
     },
     "metadata": {},
     "output_type": "display_data"
    },
    {
     "data": {
      "text/plain": [
       "'           GT from 28906965 to 28918965'"
      ]
     },
     "metadata": {},
     "output_type": "display_data"
    },
    {
     "data": {
      "text/plain": [
       "'       target from 27929266 to 27941255'"
      ]
     },
     "metadata": {},
     "output_type": "display_data"
    },
    {
     "data": {
      "text/plain": [
       "'    GT_labels from 27929261 to 27941260'"
      ]
     },
     "metadata": {},
     "output_type": "display_data"
    },
    {
     "data": {
      "text/plain": [
       "'target_labels from 27929267 to 27941255'"
      ]
     },
     "metadata": {},
     "output_type": "display_data"
    },
    {
     "data": {
      "text/plain": [
       "'11989 >?= 10800.0 = 0.9 * union 12000 => True'"
      ]
     },
     "metadata": {},
     "output_type": "display_data"
    },
    {
     "data": {
      "text/plain": [
       "Pandas(Index=811, query_name='S1_71!NC_060948.1!4827488!4835289!+', query_length=7812, query_start=4, query_end=7796, strand='+', target_name='NC_060948.1', target_length=62460029, target_start=4646406, target_end=4654187, residue_matches=6824, alignment_block_length=7814, mapping_quality=60, tp='P', cm=626, s1=6821, s2=507, dv=0.0003, rl=0, experiment='t2tChrY-readst2tChrY-SVs-a0.99-d0.1-l10000', tool='minimap', read_name='S1_71', GT_ref='NC_060948.1', GT_from=4827488, GT_to=4835289, GT_strand='+', is_correct=True, start_diff=-181082, end_diff=-181102, read_sv='DUP')"
      ]
     },
     "metadata": {},
     "output_type": "display_data"
    },
    {
     "data": {
      "text/plain": [
       "'           GT from 4827488 to 4835289'"
      ]
     },
     "metadata": {},
     "output_type": "display_data"
    },
    {
     "data": {
      "text/plain": [
       "'       target from 4646406 to 4654187'"
      ]
     },
     "metadata": {},
     "output_type": "display_data"
    },
    {
     "data": {
      "text/plain": [
       "'    GT_labels from 4646403 to 4654203'"
      ]
     },
     "metadata": {},
     "output_type": "display_data"
    },
    {
     "data": {
      "text/plain": [
       "'target_labels from 4646407 to 4654187'"
      ]
     },
     "metadata": {},
     "output_type": "display_data"
    },
    {
     "data": {
      "text/plain": [
       "'7781 >?= 7020.900000000001 = 0.9 * union 7801 => True'"
      ]
     },
     "metadata": {},
     "output_type": "display_data"
    },
    {
     "data": {
      "text/plain": [
       "Pandas(Index=812, query_name='S1_72!NC_060948.1!13654076!13662641!-', query_length=8601, query_start=8, query_end=8597, strand='-', target_name='NC_060948.1', target_length=62460029, target_start=13179953, target_end=13188506, residue_matches=7510, alignment_block_length=8606, mapping_quality=60, tp='P', cm=699, s1=7498, s2=58, dv=0.0003, rl=114, experiment='t2tChrY-readst2tChrY-SVs-a0.99-d0.1-l10000', tool='minimap', read_name='S1_72', GT_ref='NC_060948.1', GT_from=13654076, GT_to=13662641, GT_strand='-', is_correct=True, start_diff=-474123, end_diff=-474135, read_sv='INV')"
      ]
     },
     "metadata": {},
     "output_type": "display_data"
    },
    {
     "data": {
      "text/plain": [
       "'           GT from 13654076 to 13662641'"
      ]
     },
     "metadata": {},
     "output_type": "display_data"
    },
    {
     "data": {
      "text/plain": [
       "'       target from 13179953 to 13188506'"
      ]
     },
     "metadata": {},
     "output_type": "display_data"
    },
    {
     "data": {
      "text/plain": [
       "'    GT_labels from 13179950 to 13188514'"
      ]
     },
     "metadata": {},
     "output_type": "display_data"
    },
    {
     "data": {
      "text/plain": [
       "'target_labels from 13179954 to 13188506'"
      ]
     },
     "metadata": {},
     "output_type": "display_data"
    },
    {
     "data": {
      "text/plain": [
       "'8553 >?= 7708.5 = 0.9 * union 8565 => True'"
      ]
     },
     "metadata": {},
     "output_type": "display_data"
    },
    {
     "data": {
      "text/plain": [
       "Pandas(Index=813, query_name='S1_73!NC_060948.1!7063384!7072565!+', query_length=9216, query_start=0, query_end=9200, strand='+', target_name='NC_060948.1', target_length=62460029, target_start=6805632, target_end=6815166, residue_matches=8089, alignment_block_length=9581, mapping_quality=60, tp='P', cm=756, s1=8022, s2=3426, dv=0.0015, rl=0, experiment='t2tChrY-readst2tChrY-SVs-a0.99-d0.1-l10000', tool='minimap', read_name='S1_73', GT_ref='NC_060948.1', GT_from=7063384, GT_to=7072565, GT_strand='+', is_correct=True, start_diff=-257752, end_diff=-257399, read_sv='multi')"
      ]
     },
     "metadata": {},
     "output_type": "display_data"
    },
    {
     "data": {
      "text/plain": [
       "'           GT from 7063384 to 7072565'"
      ]
     },
     "metadata": {},
     "output_type": "display_data"
    },
    {
     "data": {
      "text/plain": [
       "'       target from 6805632 to 6815166'"
      ]
     },
     "metadata": {},
     "output_type": "display_data"
    },
    {
     "data": {
      "text/plain": [
       "'    GT_labels from 6805633 to 6815182'"
      ]
     },
     "metadata": {},
     "output_type": "display_data"
    },
    {
     "data": {
      "text/plain": [
       "'target_labels from 6805633 to 6815166'"
      ]
     },
     "metadata": {},
     "output_type": "display_data"
    },
    {
     "data": {
      "text/plain": [
       "'9165 >?= 8595.0 = 0.9 * union 9550 => True'"
      ]
     },
     "metadata": {},
     "output_type": "display_data"
    },
    {
     "data": {
      "text/plain": [
       "Pandas(Index=816, query_name='S1_76!NC_060948.1!22236549!22245630!-', query_length=9104, query_start=17, query_end=9089, strand='-', target_name='NC_060948.1', target_length=62460029, target_start=21458396, target_end=21466521, residue_matches=7093, alignment_block_length=9088, mapping_quality=60, tp='P', cm=658, s1=6943, s2=76, dv=0.0045, rl=185, experiment='t2tChrY-readst2tChrY-SVs-a0.99-d0.1-l10000', tool='minimap', read_name='S1_76', GT_ref='NC_060948.1', GT_from=22236549, GT_to=22245630, GT_strand='-', is_correct=False, start_diff=-778153, end_diff=-779109, read_sv='INV')"
      ]
     },
     "metadata": {},
     "output_type": "display_data"
    },
    {
     "data": {
      "text/plain": [
       "'           GT from 22236549 to 22245630'"
      ]
     },
     "metadata": {},
     "output_type": "display_data"
    },
    {
     "data": {
      "text/plain": [
       "'       target from 21458396 to 21466521'"
      ]
     },
     "metadata": {},
     "output_type": "display_data"
    },
    {
     "data": {
      "text/plain": [
       "'    GT_labels from 21458382 to 21466538'"
      ]
     },
     "metadata": {},
     "output_type": "display_data"
    },
    {
     "data": {
      "text/plain": [
       "'target_labels from 21458397 to 21466521'"
      ]
     },
     "metadata": {},
     "output_type": "display_data"
    },
    {
     "data": {
      "text/plain": [
       "'8125 >?= 8172.900000000001 = 0.9 * union 9081 => False'"
      ]
     },
     "metadata": {},
     "output_type": "display_data"
    },
    {
     "data": {
      "text/plain": [
       "Pandas(Index=824, query_name='S1_83!NC_060948.1!47210878!47227527!+', query_length=16687, query_start=5, query_end=16676, strand='+', target_name='NC_060948.1', target_length=62460029, target_start=45637249, target_end=45653882, residue_matches=2049, alignment_block_length=16687, mapping_quality=2, tp='P', cm=140, s1=2031, s2=1918, dv=0.0265, rl=13495, experiment='t2tChrY-readst2tChrY-SVs-a0.99-d0.1-l10000', tool='minimap', read_name='S1_83', GT_ref='NC_060948.1', GT_from=47210878, GT_to=47227527, GT_strand='+', is_correct=True, start_diff=-1573629, end_diff=-1573645, read_sv='multi')"
      ]
     },
     "metadata": {},
     "output_type": "display_data"
    },
    {
     "data": {
      "text/plain": [
       "'           GT from 47210878 to 47227527'"
      ]
     },
     "metadata": {},
     "output_type": "display_data"
    },
    {
     "data": {
      "text/plain": [
       "'       target from 45637249 to 45653882'"
      ]
     },
     "metadata": {},
     "output_type": "display_data"
    },
    {
     "data": {
      "text/plain": [
       "'    GT_labels from 45637245 to 45653893'"
      ]
     },
     "metadata": {},
     "output_type": "display_data"
    },
    {
     "data": {
      "text/plain": [
       "'target_labels from 45637250 to 45653882'"
      ]
     },
     "metadata": {},
     "output_type": "display_data"
    },
    {
     "data": {
      "text/plain": [
       "'16633 >?= 14984.1 = 0.9 * union 16649 => True'"
      ]
     },
     "metadata": {},
     "output_type": "display_data"
    },
    {
     "data": {
      "text/plain": [
       "Pandas(Index=828, query_name='S1_87!NC_060948.1!29461625!29472605!+', query_length=11006, query_start=193, query_end=10731, strand='+', target_name='NC_060948.1', target_length=62460029, target_start=28470168, target_end=28480682, residue_matches=1961, alignment_block_length=10546, mapping_quality=31, tp='P', cm=156, s1=1951, s2=864, dv=0.0163, rl=8577, experiment='t2tChrY-readst2tChrY-SVs-a0.99-d0.1-l10000', tool='minimap', read_name='S1_87', GT_ref='NC_060948.1', GT_from=29461625, GT_to=29472605, GT_strand='+', is_correct=True, start_diff=-991457, end_diff=-991923, read_sv='INV')"
      ]
     },
     "metadata": {},
     "output_type": "display_data"
    },
    {
     "data": {
      "text/plain": [
       "'           GT from 29461625 to 29472605'"
      ]
     },
     "metadata": {},
     "output_type": "display_data"
    },
    {
     "data": {
      "text/plain": [
       "'       target from 28470168 to 28480682'"
      ]
     },
     "metadata": {},
     "output_type": "display_data"
    },
    {
     "data": {
      "text/plain": [
       "'    GT_labels from 28469976 to 28480955'"
      ]
     },
     "metadata": {},
     "output_type": "display_data"
    },
    {
     "data": {
      "text/plain": [
       "'target_labels from 28470169 to 28480682'"
      ]
     },
     "metadata": {},
     "output_type": "display_data"
    },
    {
     "data": {
      "text/plain": [
       "'10514 >?= 9882.0 = 0.9 * union 10980 => True'"
      ]
     },
     "metadata": {},
     "output_type": "display_data"
    },
    {
     "data": {
      "text/plain": [
       "Pandas(Index=830, query_name='S1_89!NC_060948.1!19508384!19514768!+', query_length=6404, query_start=6, query_end=6391, strand='+', target_name='NC_060948.1', target_length=62460029, target_start=18808848, target_end=18815213, residue_matches=5670, alignment_block_length=6394, mapping_quality=0, tp='P', cm=522, s1=5667, s2=5657, dv=0.0002, rl=0, experiment='t2tChrY-readst2tChrY-SVs-a0.99-d0.1-l10000', tool='minimap', read_name='S1_89', GT_ref='NC_060948.1', GT_from=19508384, GT_to=19514768, GT_strand='+', is_correct=True, start_diff=-699536, end_diff=-699555, read_sv='DUP')"
      ]
     },
     "metadata": {},
     "output_type": "display_data"
    },
    {
     "data": {
      "text/plain": [
       "'           GT from 19508384 to 19514768'"
      ]
     },
     "metadata": {},
     "output_type": "display_data"
    },
    {
     "data": {
      "text/plain": [
       "'       target from 18808848 to 18815213'"
      ]
     },
     "metadata": {},
     "output_type": "display_data"
    },
    {
     "data": {
      "text/plain": [
       "'    GT_labels from 18808843 to 18815226'"
      ]
     },
     "metadata": {},
     "output_type": "display_data"
    },
    {
     "data": {
      "text/plain": [
       "'target_labels from 18808849 to 18815213'"
      ]
     },
     "metadata": {},
     "output_type": "display_data"
    },
    {
     "data": {
      "text/plain": [
       "'6365 >?= 5745.6 = 0.9 * union 6384 => True'"
      ]
     },
     "metadata": {},
     "output_type": "display_data"
    },
    {
     "data": {
      "text/plain": [
       "Pandas(Index=834, query_name='S1_91!NC_060948.1!57059820!57070897!+', query_length=11121, query_start=35, query_end=11104, strand='+', target_name='NC_060948.1', target_length=62460029, target_start=55163255, target_end=55174281, residue_matches=1148, alignment_block_length=11076, mapping_quality=1, tp='P', cm=79, s1=1134, s2=1082, dv=0.0289, rl=8947, experiment='t2tChrY-readst2tChrY-SVs-a0.99-d0.1-l10000', tool='minimap', read_name='S1_91', GT_ref='NC_060948.1', GT_from=57059820, GT_to=57070897, GT_strand='+', is_correct=True, start_diff=-1896565, end_diff=-1896616, read_sv='DUP')"
      ]
     },
     "metadata": {},
     "output_type": "display_data"
    },
    {
     "data": {
      "text/plain": [
       "'           GT from 57059820 to 57070897'"
      ]
     },
     "metadata": {},
     "output_type": "display_data"
    },
    {
     "data": {
      "text/plain": [
       "'       target from 55163255 to 55174281'"
      ]
     },
     "metadata": {},
     "output_type": "display_data"
    },
    {
     "data": {
      "text/plain": [
       "'    GT_labels from 55163222 to 55174298'"
      ]
     },
     "metadata": {},
     "output_type": "display_data"
    },
    {
     "data": {
      "text/plain": [
       "'target_labels from 55163256 to 55174281'"
      ]
     },
     "metadata": {},
     "output_type": "display_data"
    },
    {
     "data": {
      "text/plain": [
       "'11026 >?= 9969.300000000001 = 0.9 * union 11077 => True'"
      ]
     },
     "metadata": {},
     "output_type": "display_data"
    },
    {
     "data": {
      "text/plain": [
       "Pandas(Index=836, query_name='S1_93!NC_060948.1!43190940!43202615!+', query_length=11714, query_start=240, query_end=11556, strand='+', target_name='NC_060948.1', target_length=62460029, target_start=41752271, target_end=41763548, residue_matches=1111, alignment_block_length=11321, mapping_quality=6, tp='P', cm=66, s1=1097, s2=857, dv=0.0318, rl=9829, experiment='t2tChrY-readst2tChrY-SVs-a0.99-d0.1-l10000', tool='minimap', read_name='S1_93', GT_ref='NC_060948.1', GT_from=43190940, GT_to=43202615, GT_strand='+', is_correct=True, start_diff=-1438669, end_diff=-1439067, read_sv='DEL')"
      ]
     },
     "metadata": {},
     "output_type": "display_data"
    },
    {
     "data": {
      "text/plain": [
       "'           GT from 43190940 to 43202615'"
      ]
     },
     "metadata": {},
     "output_type": "display_data"
    },
    {
     "data": {
      "text/plain": [
       "'       target from 41752271 to 41763548'"
      ]
     },
     "metadata": {},
     "output_type": "display_data"
    },
    {
     "data": {
      "text/plain": [
       "'    GT_labels from 41752032 to 41763706'"
      ]
     },
     "metadata": {},
     "output_type": "display_data"
    },
    {
     "data": {
      "text/plain": [
       "'target_labels from 41752272 to 41763548'"
      ]
     },
     "metadata": {},
     "output_type": "display_data"
    },
    {
     "data": {
      "text/plain": [
       "'11277 >?= 10507.5 = 0.9 * union 11675 => True'"
      ]
     },
     "metadata": {},
     "output_type": "display_data"
    },
    {
     "name": "stderr",
     "output_type": "stream",
     "text": [
      "Tools for t2tChrY-readst2tChrY-SVs-a0.99-d0.1-l10000: 100%|██████████| 2/2 [00:14<00:00,  7.15s/it]\n"
     ]
    },
    {
     "data": {
      "text/html": [
       "<style type=\"text/css\">\n",
       "</style>\n",
       "<table id=\"T_26a03\">\n",
       "  <caption>t2tChrY-readst2tChrY-SVs-a0.99-d0.1-l10000</caption>\n",
       "  <thead>\n",
       "    <tr>\n",
       "      <th class=\"blank level0\" >&nbsp;</th>\n",
       "      <th id=\"T_26a03_level0_col0\" class=\"col_heading level0 col0\" >reads</th>\n",
       "      <th id=\"T_26a03_level0_col1\" class=\"col_heading level0 col1\" >uniq</th>\n",
       "      <th id=\"T_26a03_level0_col2\" class=\"col_heading level0 col2\" >mult</th>\n",
       "      <th id=\"T_26a03_level0_col3\" class=\"col_heading level0 col3\" >unmapped</th>\n",
       "      <th id=\"T_26a03_level0_col4\" class=\"col_heading level0 col4\" >bad</th>\n",
       "      <th id=\"T_26a03_level0_col5\" class=\"col_heading level0 col5\" >mult bad group</th>\n",
       "      <th id=\"T_26a03_level0_col6\" class=\"col_heading level0 col6\" >bad mappings p.multiread</th>\n",
       "      <th id=\"T_26a03_level0_col7\" class=\"col_heading level0 col7\" >bad uniq</th>\n",
       "      <th id=\"T_26a03_level0_col8\" class=\"col_heading level0 col8\" >bad mult</th>\n",
       "      <th id=\"T_26a03_level0_col9\" class=\"col_heading level0 col9\" >bad Q60</th>\n",
       "      <th id=\"T_26a03_level0_col10\" class=\"col_heading level0 col10\" >bad uniq Q60</th>\n",
       "      <th id=\"T_26a03_level0_col11\" class=\"col_heading level0 col11\" >bad mult Q60</th>\n",
       "      <th id=\"T_26a03_level0_col12\" class=\"col_heading level0 col12\" >mean start diff</th>\n",
       "      <th id=\"T_26a03_level0_col13\" class=\"col_heading level0 col13\" >mean end diff</th>\n",
       "      <th id=\"T_26a03_level0_col14\" class=\"col_heading level0 col14\" >alignments depth</th>\n",
       "      <th id=\"T_26a03_level0_col15\" class=\"col_heading level0 col15\" >covered reference</th>\n",
       "      <th id=\"T_26a03_level0_col16\" class=\"col_heading level0 col16\" >bad INV</th>\n",
       "      <th id=\"T_26a03_level0_col17\" class=\"col_heading level0 col17\" >bad DEL</th>\n",
       "      <th id=\"T_26a03_level0_col18\" class=\"col_heading level0 col18\" >bad DUP</th>\n",
       "      <th id=\"T_26a03_level0_col19\" class=\"col_heading level0 col19\" >bad INS</th>\n",
       "      <th id=\"T_26a03_level0_col20\" class=\"col_heading level0 col20\" >bad multi</th>\n",
       "      <th id=\"T_26a03_level0_col21\" class=\"col_heading level0 col21\" >index time</th>\n",
       "      <th id=\"T_26a03_level0_col22\" class=\"col_heading level0 col22\" >map time</th>\n",
       "      <th id=\"T_26a03_level0_col23\" class=\"col_heading level0 col23\" >memory</th>\n",
       "    </tr>\n",
       "  </thead>\n",
       "  <tbody>\n",
       "    <tr>\n",
       "      <th id=\"T_26a03_level0_row0\" class=\"row_heading level0 row0\" >winnowmap</th>\n",
       "      <td id=\"T_26a03_row0_col0\" class=\"data row0 col0\" >638</td>\n",
       "      <td id=\"T_26a03_row0_col1\" class=\"data row0 col1\" >572 (89.66%)</td>\n",
       "      <td id=\"T_26a03_row0_col2\" class=\"data row0 col2\" >66 (10.34%)</td>\n",
       "      <td id=\"T_26a03_row0_col3\" class=\"data row0 col3\" >0 (0.00%)</td>\n",
       "      <td id=\"T_26a03_row0_col4\" class=\"data row0 col4\" >78 (12.23%)</td>\n",
       "      <td id=\"T_26a03_row0_col5\" class=\"data row0 col5\" >54</td>\n",
       "      <td id=\"T_26a03_row0_col6\" class=\"data row0 col6\" >2.85</td>\n",
       "      <td id=\"T_26a03_row0_col7\" class=\"data row0 col7\" >52</td>\n",
       "      <td id=\"T_26a03_row0_col8\" class=\"data row0 col8\" >26</td>\n",
       "      <td id=\"T_26a03_row0_col9\" class=\"data row0 col9\" >53</td>\n",
       "      <td id=\"T_26a03_row0_col10\" class=\"data row0 col10\" >25</td>\n",
       "      <td id=\"T_26a03_row0_col11\" class=\"data row0 col11\" >28</td>\n",
       "      <td id=\"T_26a03_row0_col12\" class=\"data row0 col12\" >-1064044.2</td>\n",
       "      <td id=\"T_26a03_row0_col13\" class=\"data row0 col13\" >-1064158.5</td>\n",
       "      <td id=\"T_26a03_row0_col14\" class=\"data row0 col14\" >0.12</td>\n",
       "      <td id=\"T_26a03_row0_col15\" class=\"data row0 col15\" >5875957 (9.41%)</td>\n",
       "      <td id=\"T_26a03_row0_col16\" class=\"data row0 col16\" >16 / 64 (25.00%)</td>\n",
       "      <td id=\"T_26a03_row0_col17\" class=\"data row0 col17\" >16 / 33 (48.48%)</td>\n",
       "      <td id=\"T_26a03_row0_col18\" class=\"data row0 col18\" >15 / 64 (23.44%)</td>\n",
       "      <td id=\"T_26a03_row0_col19\" class=\"data row0 col19\" >15 / 43 (34.88%)</td>\n",
       "      <td id=\"T_26a03_row0_col20\" class=\"data row0 col20\" >15 / 49 (30.61%)</td>\n",
       "      <td id=\"T_26a03_row0_col21\" class=\"data row0 col21\" >2.7</td>\n",
       "      <td id=\"T_26a03_row0_col22\" class=\"data row0 col22\" >689.2</td>\n",
       "      <td id=\"T_26a03_row0_col23\" class=\"data row0 col23\" >0.5</td>\n",
       "    </tr>\n",
       "    <tr>\n",
       "      <th id=\"T_26a03_level0_row1\" class=\"row_heading level0 row1\" >minimap</th>\n",
       "      <td id=\"T_26a03_row1_col0\" class=\"data row1 col0\" >638</td>\n",
       "      <td id=\"T_26a03_row1_col1\" class=\"data row1 col1\" >557 (87.30%)</td>\n",
       "      <td id=\"T_26a03_row1_col2\" class=\"data row1 col2\" >81 (12.70%)</td>\n",
       "      <td id=\"T_26a03_row1_col3\" class=\"data row1 col3\" >0 (0.00%)</td>\n",
       "      <td id=\"T_26a03_row1_col4\" class=\"data row1 col4\" >105 (16.46%)</td>\n",
       "      <td id=\"T_26a03_row1_col5\" class=\"data row1 col5\" >59</td>\n",
       "      <td id=\"T_26a03_row1_col6\" class=\"data row1 col6\" >3.27</td>\n",
       "      <td id=\"T_26a03_row1_col7\" class=\"data row1 col7\" >53</td>\n",
       "      <td id=\"T_26a03_row1_col8\" class=\"data row1 col8\" >52</td>\n",
       "      <td id=\"T_26a03_row1_col9\" class=\"data row1 col9\" >23</td>\n",
       "      <td id=\"T_26a03_row1_col10\" class=\"data row1 col10\" >16</td>\n",
       "      <td id=\"T_26a03_row1_col11\" class=\"data row1 col11\" >7</td>\n",
       "      <td id=\"T_26a03_row1_col12\" class=\"data row1 col12\" >-1044700.3</td>\n",
       "      <td id=\"T_26a03_row1_col13\" class=\"data row1 col13\" >-1044910.7</td>\n",
       "      <td id=\"T_26a03_row1_col14\" class=\"data row1 col14\" >0.14</td>\n",
       "      <td id=\"T_26a03_row1_col15\" class=\"data row1 col15\" >5763502 (9.23%)</td>\n",
       "      <td id=\"T_26a03_row1_col16\" class=\"data row1 col16\" >27 / 75 (36.00%)</td>\n",
       "      <td id=\"T_26a03_row1_col17\" class=\"data row1 col17\" >29 / 48 (60.42%)</td>\n",
       "      <td id=\"T_26a03_row1_col18\" class=\"data row1 col18\" >18 / 69 (26.09%)</td>\n",
       "      <td id=\"T_26a03_row1_col19\" class=\"data row1 col19\" >11 / 40 (27.50%)</td>\n",
       "      <td id=\"T_26a03_row1_col20\" class=\"data row1 col20\" >29 / 64 (45.31%)</td>\n",
       "      <td id=\"T_26a03_row1_col21\" class=\"data row1 col21\" >1.6</td>\n",
       "      <td id=\"T_26a03_row1_col22\" class=\"data row1 col22\" >12.1</td>\n",
       "      <td id=\"T_26a03_row1_col23\" class=\"data row1 col23\" >0.3</td>\n",
       "    </tr>\n",
       "  </tbody>\n",
       "</table>\n"
      ],
      "text/plain": [
       "<pandas.io.formats.style.Styler at 0x71df3bf356f0>"
      ]
     },
     "metadata": {},
     "output_type": "display_data"
    }
   ],
   "source": [
    "tools = ['sweepmap', 'sweepmap-slow', 'mapquik', 'blend', 'minimap', 'winnowmap'] \n",
    "#tools = ['winnowmap', 'minimap'] \n",
    "experiments = [\n",
    "#    ('t2tChrY', 't2tChrY', 't2tChrY-readst2tChrY-a0.99-d10-l10000'),\n",
    "#    ('chm13',   'chm13',   'chm13-readschm13-a0.99-d0.1-l10000'),\n",
    "#    ('t2tChrY', 't2tChrY', 't2tChrY-readst2tChrY-a0.99-d1-l24000'),\n",
    "#    ('chm13',   'chm13',   'HG002_24kb'),\n",
    "\t('t2tChrY', 't2tChrY-SVs', 't2tChrY-readst2tChrY-SVs-a0.99-d0.1-l10000'),\n",
    "]\n",
    "\n",
    "pd.set_option('display.width', 100)\n",
    "css = \"\"\" <style> table { font-family: \"Courier New\", Courier, monospace; } </style> \"\"\"\n",
    "display(HTML(css))\n",
    "dfs = []\n",
    "keys = []\n",
    "for refname, readsim_refname, data in experiments:\n",
    "    vcf_df = get_comparison_table(refname=refname, readsim_refname=readsim_refname, experiment=data, tools=tools).round(2)\n",
    "    dfs.append(vcf_df)\n",
    "    keys.append(data)\n",
    "    df_styled = vcf_df.style.set_caption(data)\n",
    "    display(df_styled)\n",
    "    #print(to_latex(df))\n",
    "#DF = pd.concat(dfs, keys=keys)\n",
    "#display(DF)"
   ]
  },
  {
   "cell_type": "markdown",
   "metadata": {},
   "source": [
    "Visualize how SweepMap parameters influence its accuracy and mapping runtime."
   ]
  },
  {
   "cell_type": "code",
   "execution_count": 67,
   "metadata": {},
   "outputs": [
    {
     "ename": "FileNotFoundError",
     "evalue": "[Errno 2] No such file or directory: 'reads/reads-t2tChrY-a0.99-d1-l10000.fa'",
     "output_type": "error",
     "traceback": [
      "\u001b[0;31m---------------------------------------------------------------------------\u001b[0m",
      "\u001b[0;31mFileNotFoundError\u001b[0m                         Traceback (most recent call last)",
      "\u001b[0;32m/tmp/ipykernel_309010/4216238044.py\u001b[0m in \u001b[0;36m<module>\u001b[0;34m\u001b[0m\n\u001b[1;32m     40\u001b[0m     \u001b[0mplt\u001b[0m\u001b[0;34m.\u001b[0m\u001b[0mclose\u001b[0m\u001b[0;34m(\u001b[0m\u001b[0mfig\u001b[0m\u001b[0;34m)\u001b[0m\u001b[0;34m\u001b[0m\u001b[0;34m\u001b[0m\u001b[0m\n\u001b[1;32m     41\u001b[0m \u001b[0;34m\u001b[0m\u001b[0m\n\u001b[0;32m---> 42\u001b[0;31m \u001b[0mKR_map_time_df\u001b[0m\u001b[0;34m,\u001b[0m \u001b[0mKR_issue_perc_df\u001b[0m \u001b[0;34m=\u001b[0m \u001b[0mread_matrix\u001b[0m\u001b[0;34m(\u001b[0m\u001b[0mKs\u001b[0m\u001b[0;34m,\u001b[0m \u001b[0mRs\u001b[0m\u001b[0;34m,\u001b[0m \u001b[0;34m'kmer size (K)'\u001b[0m\u001b[0;34m,\u001b[0m \u001b[0;34m'FracMinHash ratio (R)'\u001b[0m\u001b[0;34m,\u001b[0m \u001b[0;34m'sketching'\u001b[0m\u001b[0;34m)\u001b[0m\u001b[0;34m\u001b[0m\u001b[0;34m\u001b[0m\u001b[0m\n\u001b[0m\u001b[1;32m     43\u001b[0m \u001b[0mplot_SM_heatmap\u001b[0m\u001b[0;34m(\u001b[0m\u001b[0mKR_map_time_df\u001b[0m\u001b[0;34m,\u001b[0m \u001b[0mname\u001b[0m\u001b[0;34m=\u001b[0m\u001b[0;34m'heatmapKR_maptime'\u001b[0m\u001b[0;34m,\u001b[0m \u001b[0mtitle\u001b[0m\u001b[0;34m=\u001b[0m\u001b[0;34m'Map time'\u001b[0m\u001b[0;34m,\u001b[0m \u001b[0mcm\u001b[0m\u001b[0;34m=\u001b[0m\u001b[0;34m'mako_r'\u001b[0m\u001b[0;34m)\u001b[0m\u001b[0;34m\u001b[0m\u001b[0;34m\u001b[0m\u001b[0m\n\u001b[1;32m     44\u001b[0m \u001b[0mplot_SM_heatmap\u001b[0m\u001b[0;34m(\u001b[0m\u001b[0mKR_issue_perc_df\u001b[0m\u001b[0;34m,\u001b[0m \u001b[0mname\u001b[0m\u001b[0;34m=\u001b[0m\u001b[0;34m'heatmapKR_percissues'\u001b[0m\u001b[0;34m,\u001b[0m \u001b[0mtitle\u001b[0m\u001b[0;34m=\u001b[0m\u001b[0;34m'Percent of issues (wrong + unaligned)'\u001b[0m\u001b[0;34m,\u001b[0m \u001b[0mcm\u001b[0m\u001b[0;34m=\u001b[0m\u001b[0;34m'rocket_r'\u001b[0m\u001b[0;34m)\u001b[0m\u001b[0;34m\u001b[0m\u001b[0;34m\u001b[0m\u001b[0m\n",
      "\u001b[0;32m/tmp/ipykernel_309010/4216238044.py\u001b[0m in \u001b[0;36mread_matrix\u001b[0;34m(Ys, Xs, ylabel, xlabel, experiment)\u001b[0m\n\u001b[1;32m     17\u001b[0m         \u001b[0;32mfor\u001b[0m \u001b[0mx\u001b[0m \u001b[0;32min\u001b[0m \u001b[0mXs\u001b[0m\u001b[0;34m:\u001b[0m\u001b[0;34m\u001b[0m\u001b[0;34m\u001b[0m\u001b[0m\n\u001b[1;32m     18\u001b[0m             \u001b[0mrefname\u001b[0m\u001b[0;34m,\u001b[0m \u001b[0mdata\u001b[0m \u001b[0;34m=\u001b[0m \u001b[0mDATA\u001b[0m\u001b[0;34m\u001b[0m\u001b[0;34m\u001b[0m\u001b[0m\n\u001b[0;32m---> 19\u001b[0;31m             \u001b[0mreads\u001b[0m \u001b[0;34m=\u001b[0m \u001b[0mfasta2df\u001b[0m\u001b[0;34m(\u001b[0m\u001b[0mPath\u001b[0m\u001b[0;34m(\u001b[0m\u001b[0;34m'reads'\u001b[0m\u001b[0;34m)\u001b[0m \u001b[0;34m/\u001b[0m \u001b[0mPath\u001b[0m\u001b[0;34m(\u001b[0m\u001b[0;34m'reads-'\u001b[0m\u001b[0;34m+\u001b[0m\u001b[0mdata\u001b[0m\u001b[0;34m+\u001b[0m\u001b[0;34m'.fa'\u001b[0m\u001b[0;34m)\u001b[0m\u001b[0;34m)\u001b[0m\u001b[0;34m\u001b[0m\u001b[0;34m\u001b[0m\u001b[0m\n\u001b[0m\u001b[1;32m     20\u001b[0m             \u001b[0mpref\u001b[0m \u001b[0;34m=\u001b[0m \u001b[0mPath\u001b[0m\u001b[0;34m(\u001b[0m\u001b[0;34m\"out\"\u001b[0m\u001b[0;34m)\u001b[0m \u001b[0;34m/\u001b[0m \u001b[0mdata\u001b[0m \u001b[0;34m/\u001b[0m \u001b[0mexperiment\u001b[0m \u001b[0;34m/\u001b[0m \u001b[0;34mf'{TOOL}-{vary}{y}-{varx}{x}'\u001b[0m\u001b[0;34m\u001b[0m\u001b[0;34m\u001b[0m\u001b[0m\n\u001b[1;32m     21\u001b[0m             \u001b[0meval_file\u001b[0m \u001b[0;34m=\u001b[0m \u001b[0mstr\u001b[0m\u001b[0;34m(\u001b[0m\u001b[0mpref\u001b[0m\u001b[0;34m)\u001b[0m \u001b[0;34m+\u001b[0m \u001b[0;34m'.eval'\u001b[0m\u001b[0;34m\u001b[0m\u001b[0;34m\u001b[0m\u001b[0m\n",
      "\u001b[0;32m/tmp/ipykernel_309010/743677058.py\u001b[0m in \u001b[0;36mfasta2df\u001b[0;34m(fn)\u001b[0m\n\u001b[1;32m      3\u001b[0m \u001b[0;34m\u001b[0m\u001b[0m\n\u001b[1;32m      4\u001b[0m \u001b[0;32mdef\u001b[0m \u001b[0mfasta2df\u001b[0m\u001b[0;34m(\u001b[0m\u001b[0mfn\u001b[0m\u001b[0;34m)\u001b[0m\u001b[0;34m:\u001b[0m\u001b[0;34m\u001b[0m\u001b[0;34m\u001b[0m\u001b[0m\n\u001b[0;32m----> 5\u001b[0;31m     \u001b[0mseqs\u001b[0m \u001b[0;34m=\u001b[0m \u001b[0mSeqIO\u001b[0m\u001b[0;34m.\u001b[0m\u001b[0mparse\u001b[0m\u001b[0;34m(\u001b[0m\u001b[0mfn\u001b[0m\u001b[0;34m,\u001b[0m \u001b[0;34m\"fasta\"\u001b[0m\u001b[0;34m)\u001b[0m\u001b[0;34m\u001b[0m\u001b[0;34m\u001b[0m\u001b[0m\n\u001b[0m\u001b[1;32m      6\u001b[0m     \u001b[0mdf\u001b[0m \u001b[0;34m=\u001b[0m \u001b[0mpd\u001b[0m\u001b[0;34m.\u001b[0m\u001b[0mDataFrame\u001b[0m\u001b[0;34m(\u001b[0m\u001b[0;34m(\u001b[0m\u001b[0mstr\u001b[0m\u001b[0;34m(\u001b[0m\u001b[0ms\u001b[0m\u001b[0;34m.\u001b[0m\u001b[0mid\u001b[0m\u001b[0;34m)\u001b[0m\u001b[0;34m,\u001b[0m \u001b[0mstr\u001b[0m\u001b[0;34m(\u001b[0m\u001b[0ms\u001b[0m\u001b[0;34m.\u001b[0m\u001b[0mseq\u001b[0m\u001b[0;34m)\u001b[0m\u001b[0;34m)\u001b[0m \u001b[0;32mfor\u001b[0m \u001b[0ms\u001b[0m \u001b[0;32min\u001b[0m \u001b[0mseqs\u001b[0m\u001b[0;34m)\u001b[0m\u001b[0;34m\u001b[0m\u001b[0;34m\u001b[0m\u001b[0m\n\u001b[1;32m      7\u001b[0m     \u001b[0mdf\u001b[0m\u001b[0;34m.\u001b[0m\u001b[0mcolumns\u001b[0m \u001b[0;34m=\u001b[0m \u001b[0;34m[\u001b[0m\u001b[0;34m\"ID\"\u001b[0m\u001b[0;34m,\u001b[0m \u001b[0;34m\"Sequence\"\u001b[0m\u001b[0;34m]\u001b[0m\u001b[0;34m\u001b[0m\u001b[0;34m\u001b[0m\u001b[0m\n",
      "\u001b[0;32m~/.local/lib/python3.10/site-packages/Bio/SeqIO/__init__.py\u001b[0m in \u001b[0;36mparse\u001b[0;34m(handle, format, alphabet)\u001b[0m\n\u001b[1;32m    603\u001b[0m     \u001b[0miterator_generator\u001b[0m \u001b[0;34m=\u001b[0m \u001b[0m_FormatToIterator\u001b[0m\u001b[0;34m.\u001b[0m\u001b[0mget\u001b[0m\u001b[0;34m(\u001b[0m\u001b[0mformat\u001b[0m\u001b[0;34m)\u001b[0m\u001b[0;34m\u001b[0m\u001b[0;34m\u001b[0m\u001b[0m\n\u001b[1;32m    604\u001b[0m     \u001b[0;32mif\u001b[0m \u001b[0miterator_generator\u001b[0m\u001b[0;34m:\u001b[0m\u001b[0;34m\u001b[0m\u001b[0;34m\u001b[0m\u001b[0m\n\u001b[0;32m--> 605\u001b[0;31m         \u001b[0;32mreturn\u001b[0m \u001b[0miterator_generator\u001b[0m\u001b[0;34m(\u001b[0m\u001b[0mhandle\u001b[0m\u001b[0;34m)\u001b[0m\u001b[0;34m\u001b[0m\u001b[0;34m\u001b[0m\u001b[0m\n\u001b[0m\u001b[1;32m    606\u001b[0m     \u001b[0;32mif\u001b[0m \u001b[0mformat\u001b[0m \u001b[0;32min\u001b[0m \u001b[0mAlignIO\u001b[0m\u001b[0;34m.\u001b[0m\u001b[0m_FormatToIterator\u001b[0m\u001b[0;34m:\u001b[0m\u001b[0;34m\u001b[0m\u001b[0;34m\u001b[0m\u001b[0m\n\u001b[1;32m    607\u001b[0m         \u001b[0;31m# Use Bio.AlignIO to read in the alignments\u001b[0m\u001b[0;34m\u001b[0m\u001b[0;34m\u001b[0m\u001b[0m\n",
      "\u001b[0;32m~/.local/lib/python3.10/site-packages/Bio/SeqIO/FastaIO.py\u001b[0m in \u001b[0;36m__init__\u001b[0;34m(self, source, alphabet, title2ids)\u001b[0m\n\u001b[1;32m    221\u001b[0m             )\n\u001b[1;32m    222\u001b[0m         \u001b[0mself\u001b[0m\u001b[0;34m.\u001b[0m\u001b[0mtitle2ids\u001b[0m \u001b[0;34m=\u001b[0m \u001b[0mtitle2ids\u001b[0m\u001b[0;34m\u001b[0m\u001b[0;34m\u001b[0m\u001b[0m\n\u001b[0;32m--> 223\u001b[0;31m         \u001b[0msuper\u001b[0m\u001b[0;34m(\u001b[0m\u001b[0;34m)\u001b[0m\u001b[0;34m.\u001b[0m\u001b[0m__init__\u001b[0m\u001b[0;34m(\u001b[0m\u001b[0msource\u001b[0m\u001b[0;34m,\u001b[0m \u001b[0mmode\u001b[0m\u001b[0;34m=\u001b[0m\u001b[0;34m\"t\"\u001b[0m\u001b[0;34m,\u001b[0m \u001b[0mfmt\u001b[0m\u001b[0;34m=\u001b[0m\u001b[0;34m\"Fasta\"\u001b[0m\u001b[0;34m)\u001b[0m\u001b[0;34m\u001b[0m\u001b[0;34m\u001b[0m\u001b[0m\n\u001b[0m\u001b[1;32m    224\u001b[0m \u001b[0;34m\u001b[0m\u001b[0m\n\u001b[1;32m    225\u001b[0m     \u001b[0;32mdef\u001b[0m \u001b[0mparse\u001b[0m\u001b[0;34m(\u001b[0m\u001b[0mself\u001b[0m\u001b[0;34m,\u001b[0m \u001b[0mhandle\u001b[0m\u001b[0;34m)\u001b[0m\u001b[0;34m:\u001b[0m\u001b[0;34m\u001b[0m\u001b[0;34m\u001b[0m\u001b[0m\n",
      "\u001b[0;32m~/.local/lib/python3.10/site-packages/Bio/SeqIO/Interfaces.py\u001b[0m in \u001b[0;36m__init__\u001b[0;34m(self, source, alphabet, mode, fmt)\u001b[0m\n\u001b[1;32m     43\u001b[0m             \u001b[0;32mraise\u001b[0m \u001b[0mValueError\u001b[0m\u001b[0;34m(\u001b[0m\u001b[0;34m\"The alphabet argument is no longer supported\"\u001b[0m\u001b[0;34m)\u001b[0m\u001b[0;34m\u001b[0m\u001b[0;34m\u001b[0m\u001b[0m\n\u001b[1;32m     44\u001b[0m         \u001b[0;32mtry\u001b[0m\u001b[0;34m:\u001b[0m\u001b[0;34m\u001b[0m\u001b[0;34m\u001b[0m\u001b[0m\n\u001b[0;32m---> 45\u001b[0;31m             \u001b[0mself\u001b[0m\u001b[0;34m.\u001b[0m\u001b[0mstream\u001b[0m \u001b[0;34m=\u001b[0m \u001b[0mopen\u001b[0m\u001b[0;34m(\u001b[0m\u001b[0msource\u001b[0m\u001b[0;34m,\u001b[0m \u001b[0;34m\"r\"\u001b[0m \u001b[0;34m+\u001b[0m \u001b[0mmode\u001b[0m\u001b[0;34m)\u001b[0m\u001b[0;34m\u001b[0m\u001b[0;34m\u001b[0m\u001b[0m\n\u001b[0m\u001b[1;32m     46\u001b[0m             \u001b[0mself\u001b[0m\u001b[0;34m.\u001b[0m\u001b[0mshould_close_stream\u001b[0m \u001b[0;34m=\u001b[0m \u001b[0;32mTrue\u001b[0m\u001b[0;34m\u001b[0m\u001b[0;34m\u001b[0m\u001b[0m\n\u001b[1;32m     47\u001b[0m         \u001b[0;32mexcept\u001b[0m \u001b[0mTypeError\u001b[0m\u001b[0;34m:\u001b[0m  \u001b[0;31m# not a path, assume we received a stream\u001b[0m\u001b[0;34m\u001b[0m\u001b[0;34m\u001b[0m\u001b[0m\n",
      "\u001b[0;31mFileNotFoundError\u001b[0m: [Errno 2] No such file or directory: 'reads/reads-t2tChrY-a0.99-d1-l10000.fa'"
     ]
    }
   ],
   "source": [
    "Ks = [14, 16, 18, 20, 22, 24, 26]\n",
    "Rs = ['0.01', '0.05', '0.1', '0.15', '0.2']\n",
    "\n",
    "def read_matrix(Ys, Xs, ylabel, xlabel, experiment):\n",
    "    TOOL = 'sweepmap'\n",
    "    DATA = ('t2tChrY', 't2tChrY-a0.99-d1-l10000') # ('chm13', 'chm13-a0.99-d1-l10000')\n",
    "\n",
    "    VARS = {'thinning': ('S', 'M'), 'sketching': ('K', 'R')}\n",
    "    vary, varx = VARS[experiment]\n",
    "\n",
    "    map_time_df = pd.DataFrame(index=Ys, columns=Xs)\n",
    "    map_time_df.index.name = ylabel\n",
    "    map_time_df.columns.name = xlabel\n",
    "    issue_perc_df = map_time_df.copy() # pd.DataFrame(index=MAX_SEEDS, columns=MAX_MATCHES)\n",
    "\n",
    "    for y in Ys:\n",
    "        for x in Xs:\n",
    "            refname, data = DATA\n",
    "            reads = fasta2df(Path('reads') / Path('reads-'+data+'.fa'))\n",
    "            pref = Path(\"out\") / data / experiment / f'{TOOL}-{vary}{y}-{varx}{x}'\n",
    "            eval_file = str(pref) + '.eval'\n",
    "            unaligned,  aligned,  wrong,     issue_perc = get_eval(eval_file, len(reads))\n",
    "            index_time, map_time, index_mem, total_mem  = get_times(pref)\n",
    "            map_time_df.loc[y, x] = map_time\n",
    "            issue_perc_df.loc[y, x] = issue_perc / 100.0\n",
    "\n",
    "    return map_time_df, issue_perc_df\n",
    "\n",
    "def plot_SM_heatmap(df, name, title, cm):\n",
    "    fig, ax = plt.subplots(figsize=(6, 4))\n",
    "    sns.heatmap(df.astype(float), ax=ax, annot=True, fmt=\".2f\", cmap=cm) #, cbar=False)\n",
    "    ax.set_title(title)\n",
    "    ax.set_ylabel(df.index.name)\n",
    "    ax.set_xlabel(df.columns.name)\n",
    "    ax.set_yticklabels(ax.get_yticklabels(), rotation=0)\n",
    "    ax.invert_yaxis()\n",
    "    plt.tight_layout()\n",
    "    plt.show()\n",
    "    fig.savefig(f'imgs/{name}.png', dpi=300)\n",
    "    plt.close(fig)\n",
    "\n",
    "KR_map_time_df, KR_issue_perc_df = read_matrix(Ks, Rs, 'kmer size (K)', 'FracMinHash ratio (R)', 'sketching')\n",
    "plot_SM_heatmap(KR_map_time_df, name='heatmapKR_maptime', title='Map time', cm='mako_r')\n",
    "plot_SM_heatmap(KR_issue_perc_df, name='heatmapKR_percissues', title='Percent of issues (wrong + unaligned)', cm='rocket_r')\n",
    "\n",
    "MAX_SEEDS = [10, 30, 100, 300, 1000, 3000, 10000]\n",
    "MAX_MATCHES = [100, 300, 1000, 3000, 10000, 30000, 100000, 300000]\n",
    "SM_map_time_df, SM_issue_perc_df = read_matrix(MAX_SEEDS, MAX_MATCHES, 'max seeds (S)', 'max matches (M)', 'thinning')\n",
    "plot_SM_heatmap(SM_map_time_df, name='heatmapSM_maptime', title='Map time', cm='mako_r')\n",
    "plot_SM_heatmap(SM_issue_perc_df, name='heatmapSM_percissues', title='Percent of issues (wrong + unaligned)', cm='rocket_r')"
   ]
  },
  {
   "cell_type": "code",
   "execution_count": null,
   "metadata": {},
   "outputs": [
    {
     "name": "stderr",
     "output_type": "stream",
     "text": [
      "/home/pesho/.local/lib/python3.10/site-packages/vcfpy/header.py:413: FieldInfoNotFound: INFO dup_num not found using String/'.' instead\n",
      "  warnings.warn(\n"
     ]
    },
    {
     "data": {
      "text/html": [
       "<div>\n",
       "<style scoped>\n",
       "    .dataframe tbody tr th:only-of-type {\n",
       "        vertical-align: middle;\n",
       "    }\n",
       "\n",
       "    .dataframe tbody tr th {\n",
       "        vertical-align: top;\n",
       "    }\n",
       "\n",
       "    .dataframe thead th {\n",
       "        text-align: right;\n",
       "    }\n",
       "</style>\n",
       "<table border=\"1\" class=\"dataframe\">\n",
       "  <thead>\n",
       "    <tr style=\"text-align: right;\">\n",
       "      <th></th>\n",
       "      <th>CHROM</th>\n",
       "      <th>POS</th>\n",
       "      <th>ID</th>\n",
       "      <th>REF</th>\n",
       "      <th>ALT</th>\n",
       "      <th>QUAL</th>\n",
       "      <th>FILTER</th>\n",
       "      <th>PRECISE</th>\n",
       "      <th>SVTYPE</th>\n",
       "      <th>SVMETHOD</th>\n",
       "      <th>CHR2</th>\n",
       "      <th>END</th>\n",
       "      <th>SVLEN</th>\n",
       "      <th>dup_num</th>\n",
       "    </tr>\n",
       "  </thead>\n",
       "  <tbody>\n",
       "    <tr>\n",
       "      <th>4</th>\n",
       "      <td>NC_060948.1</td>\n",
       "      <td>3430510</td>\n",
       "      <td>[INS4SURVIVOR]</td>\n",
       "      <td>A</td>\n",
       "      <td>GGAGCTTAGGAGGTAAAAGGAACTTGTGAAGGTGAACTATCCCTAC...</td>\n",
       "      <td>None</td>\n",
       "      <td>PASS</td>\n",
       "      <td>True</td>\n",
       "      <td>INS</td>\n",
       "      <td>SURVIVOR_sim</td>\n",
       "      <td>NC_060948.1</td>\n",
       "      <td>3430745</td>\n",
       "      <td>235</td>\n",
       "      <td>NaN</td>\n",
       "    </tr>\n",
       "    <tr>\n",
       "      <th>2</th>\n",
       "      <td>NC_060948.1</td>\n",
       "      <td>14398344</td>\n",
       "      <td>[DUP2SURVIVOR]</td>\n",
       "      <td>N</td>\n",
       "      <td>DUP</td>\n",
       "      <td>None</td>\n",
       "      <td>PASS</td>\n",
       "      <td>True</td>\n",
       "      <td>DUP</td>\n",
       "      <td>SURVIVOR_sim</td>\n",
       "      <td>NC_060948.1</td>\n",
       "      <td>14398656</td>\n",
       "      <td>312</td>\n",
       "      <td>5</td>\n",
       "    </tr>\n",
       "    <tr>\n",
       "      <th>5</th>\n",
       "      <td>NC_060948.1</td>\n",
       "      <td>15092668</td>\n",
       "      <td>[DEL5SURVIVOR]</td>\n",
       "      <td>TTAGACTTCCTAAATATATAAAGCAAATATTAATGGACATAAAGGG...</td>\n",
       "      <td>T</td>\n",
       "      <td>None</td>\n",
       "      <td>PASS</td>\n",
       "      <td>True</td>\n",
       "      <td>DEL</td>\n",
       "      <td>SURVIVOR_sim</td>\n",
       "      <td>NC_060948.1</td>\n",
       "      <td>15092864</td>\n",
       "      <td>196</td>\n",
       "      <td>NaN</td>\n",
       "    </tr>\n",
       "    <tr>\n",
       "      <th>8</th>\n",
       "      <td>NC_060948.1</td>\n",
       "      <td>16086589</td>\n",
       "      <td>[INV8SURVIVOR]</td>\n",
       "      <td>N</td>\n",
       "      <td>INV</td>\n",
       "      <td>None</td>\n",
       "      <td>PASS</td>\n",
       "      <td>True</td>\n",
       "      <td>INV</td>\n",
       "      <td>SURVIVOR_sim</td>\n",
       "      <td>NC_060948.1</td>\n",
       "      <td>16087210</td>\n",
       "      <td>621</td>\n",
       "      <td>NaN</td>\n",
       "    </tr>\n",
       "    <tr>\n",
       "      <th>1</th>\n",
       "      <td>NC_060948.1</td>\n",
       "      <td>27847166</td>\n",
       "      <td>[DUP1SURVIVOR]</td>\n",
       "      <td>N</td>\n",
       "      <td>DUP</td>\n",
       "      <td>None</td>\n",
       "      <td>PASS</td>\n",
       "      <td>True</td>\n",
       "      <td>DUP</td>\n",
       "      <td>SURVIVOR_sim</td>\n",
       "      <td>NC_060948.1</td>\n",
       "      <td>27847906</td>\n",
       "      <td>740</td>\n",
       "      <td>6</td>\n",
       "    </tr>\n",
       "    <tr>\n",
       "      <th>0</th>\n",
       "      <td>NC_060948.1</td>\n",
       "      <td>35790329</td>\n",
       "      <td>[DUP0SURVIVOR]</td>\n",
       "      <td>N</td>\n",
       "      <td>DUP</td>\n",
       "      <td>None</td>\n",
       "      <td>PASS</td>\n",
       "      <td>True</td>\n",
       "      <td>DUP</td>\n",
       "      <td>SURVIVOR_sim</td>\n",
       "      <td>NC_060948.1</td>\n",
       "      <td>35790540</td>\n",
       "      <td>211</td>\n",
       "      <td>2</td>\n",
       "    </tr>\n",
       "    <tr>\n",
       "      <th>7</th>\n",
       "      <td>NC_060948.1</td>\n",
       "      <td>42134928</td>\n",
       "      <td>[INV7SURVIVOR]</td>\n",
       "      <td>N</td>\n",
       "      <td>INV</td>\n",
       "      <td>None</td>\n",
       "      <td>PASS</td>\n",
       "      <td>True</td>\n",
       "      <td>INV</td>\n",
       "      <td>SURVIVOR_sim</td>\n",
       "      <td>NC_060948.1</td>\n",
       "      <td>42135682</td>\n",
       "      <td>754</td>\n",
       "      <td>NaN</td>\n",
       "    </tr>\n",
       "    <tr>\n",
       "      <th>3</th>\n",
       "      <td>NC_060948.1</td>\n",
       "      <td>47095939</td>\n",
       "      <td>[INS3SURVIVOR]</td>\n",
       "      <td>G</td>\n",
       "      <td>AGAACCCCCCTTTAATATGAGCGAAATGCCTCTACCCTGGACCACG...</td>\n",
       "      <td>None</td>\n",
       "      <td>PASS</td>\n",
       "      <td>True</td>\n",
       "      <td>INS</td>\n",
       "      <td>SURVIVOR_sim</td>\n",
       "      <td>NC_060948.1</td>\n",
       "      <td>47096432</td>\n",
       "      <td>493</td>\n",
       "      <td>NaN</td>\n",
       "    </tr>\n",
       "    <tr>\n",
       "      <th>6</th>\n",
       "      <td>NC_060948.1</td>\n",
       "      <td>56548921</td>\n",
       "      <td>[INV6SURVIVOR]</td>\n",
       "      <td>N</td>\n",
       "      <td>INV</td>\n",
       "      <td>None</td>\n",
       "      <td>PASS</td>\n",
       "      <td>True</td>\n",
       "      <td>INV</td>\n",
       "      <td>SURVIVOR_sim</td>\n",
       "      <td>NC_060948.1</td>\n",
       "      <td>56549555</td>\n",
       "      <td>634</td>\n",
       "      <td>NaN</td>\n",
       "    </tr>\n",
       "  </tbody>\n",
       "</table>\n",
       "</div>"
      ],
      "text/plain": [
       "         CHROM       POS              ID  \\\n",
       "4  NC_060948.1   3430510  [INS4SURVIVOR]   \n",
       "2  NC_060948.1  14398344  [DUP2SURVIVOR]   \n",
       "5  NC_060948.1  15092668  [DEL5SURVIVOR]   \n",
       "8  NC_060948.1  16086589  [INV8SURVIVOR]   \n",
       "1  NC_060948.1  27847166  [DUP1SURVIVOR]   \n",
       "0  NC_060948.1  35790329  [DUP0SURVIVOR]   \n",
       "7  NC_060948.1  42134928  [INV7SURVIVOR]   \n",
       "3  NC_060948.1  47095939  [INS3SURVIVOR]   \n",
       "6  NC_060948.1  56548921  [INV6SURVIVOR]   \n",
       "\n",
       "                                                 REF  \\\n",
       "4                                                  A   \n",
       "2                                                  N   \n",
       "5  TTAGACTTCCTAAATATATAAAGCAAATATTAATGGACATAAAGGG...   \n",
       "8                                                  N   \n",
       "1                                                  N   \n",
       "0                                                  N   \n",
       "7                                                  N   \n",
       "3                                                  G   \n",
       "6                                                  N   \n",
       "\n",
       "                                                 ALT  QUAL FILTER  PRECISE  \\\n",
       "4  GGAGCTTAGGAGGTAAAAGGAACTTGTGAAGGTGAACTATCCCTAC...  None   PASS     True   \n",
       "2                                                DUP  None   PASS     True   \n",
       "5                                                  T  None   PASS     True   \n",
       "8                                                INV  None   PASS     True   \n",
       "1                                                DUP  None   PASS     True   \n",
       "0                                                DUP  None   PASS     True   \n",
       "7                                                INV  None   PASS     True   \n",
       "3  AGAACCCCCCTTTAATATGAGCGAAATGCCTCTACCCTGGACCACG...  None   PASS     True   \n",
       "6                                                INV  None   PASS     True   \n",
       "\n",
       "  SVTYPE      SVMETHOD         CHR2       END  SVLEN dup_num  \n",
       "4    INS  SURVIVOR_sim  NC_060948.1   3430745    235     NaN  \n",
       "2    DUP  SURVIVOR_sim  NC_060948.1  14398656    312       5  \n",
       "5    DEL  SURVIVOR_sim  NC_060948.1  15092864    196     NaN  \n",
       "8    INV  SURVIVOR_sim  NC_060948.1  16087210    621     NaN  \n",
       "1    DUP  SURVIVOR_sim  NC_060948.1  27847906    740       6  \n",
       "0    DUP  SURVIVOR_sim  NC_060948.1  35790540    211       2  \n",
       "7    INV  SURVIVOR_sim  NC_060948.1  42135682    754     NaN  \n",
       "3    INS  SURVIVOR_sim  NC_060948.1  47096432    493     NaN  \n",
       "6    INV  SURVIVOR_sim  NC_060948.1  56549555    634     NaN  "
      ]
     },
     "metadata": {},
     "output_type": "display_data"
    },
    {
     "data": {
      "text/plain": [
       "CHROM                                             NC_060948.1\n",
       "POS                                                   3430510\n",
       "ID                                             [INS4SURVIVOR]\n",
       "REF                                                         A\n",
       "ALT         GGAGCTTAGGAGGTAAAAGGAACTTGTGAAGGTGAACTATCCCTAC...\n",
       "QUAL                                                     None\n",
       "FILTER                                                   PASS\n",
       "PRECISE                                                  True\n",
       "SVTYPE                                                    INS\n",
       "SVMETHOD                                         SURVIVOR_sim\n",
       "CHR2                                              NC_060948.1\n",
       "END                                                   3430745\n",
       "SVLEN                                                     235\n",
       "dup_num                                                   NaN\n",
       "Name: 4, dtype: object"
      ]
     },
     "metadata": {},
     "output_type": "display_data"
    },
    {
     "name": "stdout",
     "output_type": "stream",
     "text": [
      "2. add 0:3430510 of len 3430510\n",
      "4. ins of len 235\n"
     ]
    },
    {
     "data": {
      "text/plain": [
       "CHROM          NC_060948.1\n",
       "POS               14398344\n",
       "ID          [DUP2SURVIVOR]\n",
       "REF                      N\n",
       "ALT                    DUP\n",
       "QUAL                  None\n",
       "FILTER                PASS\n",
       "PRECISE               True\n",
       "SVTYPE                 DUP\n",
       "SVMETHOD      SURVIVOR_sim\n",
       "CHR2           NC_060948.1\n",
       "END               14398656\n",
       "SVLEN                  312\n",
       "dup_num                  5\n",
       "Name: 2, dtype: object"
      ]
     },
     "metadata": {},
     "output_type": "display_data"
    },
    {
     "name": "stdout",
     "output_type": "stream",
     "text": [
      "2. add 3430510:14398344 of len 10967834\n",
      "3. dup at 14398344 312*5 of len 1560\n"
     ]
    },
    {
     "data": {
      "text/plain": [
       "CHROM                                             NC_060948.1\n",
       "POS                                                  15092668\n",
       "ID                                             [DEL5SURVIVOR]\n",
       "REF         TTAGACTTCCTAAATATATAAAGCAAATATTAATGGACATAAAGGG...\n",
       "ALT                                                         T\n",
       "QUAL                                                     None\n",
       "FILTER                                                   PASS\n",
       "PRECISE                                                  True\n",
       "SVTYPE                                                    DEL\n",
       "SVMETHOD                                         SURVIVOR_sim\n",
       "CHR2                                              NC_060948.1\n",
       "END                                                  15092864\n",
       "SVLEN                                                     196\n",
       "dup_num                                                   NaN\n",
       "Name: 5, dtype: object"
      ]
     },
     "metadata": {},
     "output_type": "display_data"
    },
    {
     "name": "stdout",
     "output_type": "stream",
     "text": [
      "2. add 14398344:15092668 of len 694324\n",
      "5. delete 15092668:15092864 of len 196\n"
     ]
    },
    {
     "data": {
      "text/plain": [
       "CHROM          NC_060948.1\n",
       "POS               16086589\n",
       "ID          [INV8SURVIVOR]\n",
       "REF                      N\n",
       "ALT                    INV\n",
       "QUAL                  None\n",
       "FILTER                PASS\n",
       "PRECISE               True\n",
       "SVTYPE                 INV\n",
       "SVMETHOD      SURVIVOR_sim\n",
       "CHR2           NC_060948.1\n",
       "END               16087210\n",
       "SVLEN                  621\n",
       "dup_num                NaN\n",
       "Name: 8, dtype: object"
      ]
     },
     "metadata": {},
     "output_type": "display_data"
    },
    {
     "name": "stdout",
     "output_type": "stream",
     "text": [
      "2. add 15092864:16086589 of len 993725\n",
      "6. inv 16086589:16087210 of len 621\n"
     ]
    },
    {
     "data": {
      "text/plain": [
       "CHROM          NC_060948.1\n",
       "POS               27847166\n",
       "ID          [DUP1SURVIVOR]\n",
       "REF                      N\n",
       "ALT                    DUP\n",
       "QUAL                  None\n",
       "FILTER                PASS\n",
       "PRECISE               True\n",
       "SVTYPE                 DUP\n",
       "SVMETHOD      SURVIVOR_sim\n",
       "CHR2           NC_060948.1\n",
       "END               27847906\n",
       "SVLEN                  740\n",
       "dup_num                  6\n",
       "Name: 1, dtype: object"
      ]
     },
     "metadata": {},
     "output_type": "display_data"
    },
    {
     "name": "stdout",
     "output_type": "stream",
     "text": [
      "2. add 16087210:27847166 of len 11759956\n",
      "3. dup at 27847166 740*6 of len 4440\n"
     ]
    },
    {
     "data": {
      "text/plain": [
       "CHROM          NC_060948.1\n",
       "POS               35790329\n",
       "ID          [DUP0SURVIVOR]\n",
       "REF                      N\n",
       "ALT                    DUP\n",
       "QUAL                  None\n",
       "FILTER                PASS\n",
       "PRECISE               True\n",
       "SVTYPE                 DUP\n",
       "SVMETHOD      SURVIVOR_sim\n",
       "CHR2           NC_060948.1\n",
       "END               35790540\n",
       "SVLEN                  211\n",
       "dup_num                  2\n",
       "Name: 0, dtype: object"
      ]
     },
     "metadata": {},
     "output_type": "display_data"
    },
    {
     "name": "stdout",
     "output_type": "stream",
     "text": [
      "2. add 27847166:35790329 of len 7943163\n",
      "3. dup at 35790329 211*2 of len 422\n"
     ]
    },
    {
     "data": {
      "text/plain": [
       "CHROM          NC_060948.1\n",
       "POS               42134928\n",
       "ID          [INV7SURVIVOR]\n",
       "REF                      N\n",
       "ALT                    INV\n",
       "QUAL                  None\n",
       "FILTER                PASS\n",
       "PRECISE               True\n",
       "SVTYPE                 INV\n",
       "SVMETHOD      SURVIVOR_sim\n",
       "CHR2           NC_060948.1\n",
       "END               42135682\n",
       "SVLEN                  754\n",
       "dup_num                NaN\n",
       "Name: 7, dtype: object"
      ]
     },
     "metadata": {},
     "output_type": "display_data"
    },
    {
     "name": "stdout",
     "output_type": "stream",
     "text": [
      "2. add 35790329:42134928 of len 6344599\n",
      "6. inv 42134928:42135682 of len 754\n"
     ]
    },
    {
     "data": {
      "text/plain": [
       "CHROM                                             NC_060948.1\n",
       "POS                                                  47095939\n",
       "ID                                             [INS3SURVIVOR]\n",
       "REF                                                         G\n",
       "ALT         AGAACCCCCCTTTAATATGAGCGAAATGCCTCTACCCTGGACCACG...\n",
       "QUAL                                                     None\n",
       "FILTER                                                   PASS\n",
       "PRECISE                                                  True\n",
       "SVTYPE                                                    INS\n",
       "SVMETHOD                                         SURVIVOR_sim\n",
       "CHR2                                              NC_060948.1\n",
       "END                                                  47096432\n",
       "SVLEN                                                     493\n",
       "dup_num                                                   NaN\n",
       "Name: 3, dtype: object"
      ]
     },
     "metadata": {},
     "output_type": "display_data"
    },
    {
     "name": "stdout",
     "output_type": "stream",
     "text": [
      "2. add 42135682:47095939 of len 4960257\n",
      "4. ins of len 493\n"
     ]
    },
    {
     "data": {
      "text/plain": [
       "CHROM          NC_060948.1\n",
       "POS               56548921\n",
       "ID          [INV6SURVIVOR]\n",
       "REF                      N\n",
       "ALT                    INV\n",
       "QUAL                  None\n",
       "FILTER                PASS\n",
       "PRECISE               True\n",
       "SVTYPE                 INV\n",
       "SVMETHOD      SURVIVOR_sim\n",
       "CHR2           NC_060948.1\n",
       "END               56549555\n",
       "SVLEN                  634\n",
       "dup_num                NaN\n",
       "Name: 6, dtype: object"
      ]
     },
     "metadata": {},
     "output_type": "display_data"
    },
    {
     "name": "stdout",
     "output_type": "stream",
     "text": [
      "2. add 47095939:56548921 of len 9452982\n",
      "6. inv 56548921:56549555 of len 634\n"
     ]
    },
    {
     "data": {
      "text/plain": [
       "CHROM    !!fake_chrom!!\n",
       "dtype: object"
      ]
     },
     "metadata": {},
     "output_type": "display_data"
    },
    {
     "name": "stdout",
     "output_type": "stream",
     "text": [
      "1. add 56549555: of len 5910474\n",
      "62466983 62466983\n"
     ]
    },
    {
     "data": {
      "text/plain": [
       "True"
      ]
     },
     "execution_count": 6,
     "metadata": {},
     "output_type": "execute_result"
    }
   ],
   "source": [
    "vcf_df = read_vcf('refs/t2tChrY-SVs.vcf')\n",
    "fa_orig = read_fasta_file('refs/t2tChrY.fa')\n",
    "fa_SURVIVOR = read_fasta_file('refs/t2tChrY-SVs.fasta')\n",
    "l_orig = gen_unique_labels(fa_orig)\n",
    "fa_SV, labels_SV = mutate(fa_orig, l_orig, vcf_df)\n",
    "#are_equal(fa_orig, fa_SURVIVOR)\n",
    "are_equal(fa_SV, fa_SURVIVOR)"
   ]
  },
  {
   "cell_type": "code",
   "execution_count": null,
   "metadata": {},
   "outputs": [],
   "source": []
  }
 ],
 "metadata": {
  "kernelspec": {
   "display_name": "Python 3",
   "language": "python",
   "name": "python3"
  },
  "language_info": {
   "codemirror_mode": {
    "name": "ipython",
    "version": 3
   },
   "file_extension": ".py",
   "mimetype": "text/x-python",
   "name": "python",
   "nbconvert_exporter": "python",
   "pygments_lexer": "ipython3",
   "version": "3.10.12"
  },
  "orig_nbformat": 4
 },
 "nbformat": 4,
 "nbformat_minor": 2
}
