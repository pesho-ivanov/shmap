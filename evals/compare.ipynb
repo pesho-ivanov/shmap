{
 "cells": [
  {
   "cell_type": "code",
   "execution_count": 16,
   "metadata": {},
   "outputs": [
    {
     "data": {
      "text/html": [
       " <style> table { font-family: \"Courier New\", Courier, monospace; } </style> "
      ],
      "text/plain": [
       "<IPython.core.display.HTML object>"
      ]
     },
     "metadata": {},
     "output_type": "display_data"
    },
    {
     "data": {
      "text/html": [
       "<div>\n",
       "<style scoped>\n",
       "    .dataframe tbody tr th:only-of-type {\n",
       "        vertical-align: middle;\n",
       "    }\n",
       "\n",
       "    .dataframe tbody tr th {\n",
       "        vertical-align: top;\n",
       "    }\n",
       "\n",
       "    .dataframe thead th {\n",
       "        text-align: right;\n",
       "    }\n",
       "</style>\n",
       "<table border=\"1\" class=\"dataframe\">\n",
       "  <thead>\n",
       "    <tr style=\"text-align: right;\">\n",
       "      <th>chm13-1B-a0.99-d1</th>\n",
       "      <th>aligned reads</th>\n",
       "      <th>wrong alignments</th>\n",
       "      <th>time (sec)</th>\n",
       "      <th>memory (GB)</th>\n",
       "    </tr>\n",
       "  </thead>\n",
       "  <tbody>\n",
       "    <tr>\n",
       "      <th>sweep</th>\n",
       "      <td>40040</td>\n",
       "      <td>165 (0.41%)</td>\n",
       "      <td>34.92</td>\n",
       "      <td>5.26</td>\n",
       "    </tr>\n",
       "    <tr>\n",
       "      <th>minimap</th>\n",
       "      <td>40040</td>\n",
       "      <td>68 (0.17%)</td>\n",
       "      <td>52.64</td>\n",
       "      <td>3.98</td>\n",
       "    </tr>\n",
       "    <tr>\n",
       "      <th>winnowmap</th>\n",
       "      <td>40040</td>\n",
       "      <td>80 (0.2%)</td>\n",
       "      <td>879.95</td>\n",
       "      <td>3.24</td>\n",
       "    </tr>\n",
       "    <tr>\n",
       "      <th>mapquik</th>\n",
       "      <td>15569</td>\n",
       "      <td>15556 (99.92%)</td>\n",
       "      <td>7.83</td>\n",
       "      <td>5.70</td>\n",
       "    </tr>\n",
       "  </tbody>\n",
       "</table>\n",
       "</div>"
      ],
      "text/plain": [
       "chm13-1B-a0.99-d1  aligned reads wrong alignments time (sec)  memory (GB)\n",
       "sweep                      40040      165 (0.41%)      34.92         5.26\n",
       "minimap                    40040       68 (0.17%)      52.64         3.98\n",
       "winnowmap                  40040        80 (0.2%)     879.95         3.24\n",
       "mapquik                    15569   15556 (99.92%)       7.83         5.70"
      ]
     },
     "metadata": {},
     "output_type": "display_data"
    },
    {
     "data": {
      "text/html": [
       " <style> table { font-family: \"Courier New\", Courier, monospace; } </style> "
      ],
      "text/plain": [
       "<IPython.core.display.HTML object>"
      ]
     },
     "metadata": {},
     "output_type": "display_data"
    },
    {
     "data": {
      "text/html": [
       "<div>\n",
       "<style scoped>\n",
       "    .dataframe tbody tr th:only-of-type {\n",
       "        vertical-align: middle;\n",
       "    }\n",
       "\n",
       "    .dataframe tbody tr th {\n",
       "        vertical-align: top;\n",
       "    }\n",
       "\n",
       "    .dataframe thead th {\n",
       "        text-align: right;\n",
       "    }\n",
       "</style>\n",
       "<table border=\"1\" class=\"dataframe\">\n",
       "  <thead>\n",
       "    <tr style=\"text-align: right;\">\n",
       "      <th>t2tChrY-a0.99-d1</th>\n",
       "      <th>aligned reads</th>\n",
       "      <th>wrong alignments</th>\n",
       "      <th>time (sec)</th>\n",
       "      <th>memory (GB)</th>\n",
       "    </tr>\n",
       "  </thead>\n",
       "  <tbody>\n",
       "    <tr>\n",
       "      <th>sweep</th>\n",
       "      <td>3138</td>\n",
       "      <td>254 (8.09%)</td>\n",
       "      <td>2.27</td>\n",
       "      <td>0.32</td>\n",
       "    </tr>\n",
       "    <tr>\n",
       "      <th>minimap</th>\n",
       "      <td>3138</td>\n",
       "      <td>138 (4.4%)</td>\n",
       "      <td>42.75</td>\n",
       "      <td>0.29</td>\n",
       "    </tr>\n",
       "    <tr>\n",
       "      <th>winnowmap</th>\n",
       "      <td>3138</td>\n",
       "      <td>151 (4.81%)</td>\n",
       "      <td>1984.93</td>\n",
       "      <td>1.08</td>\n",
       "    </tr>\n",
       "    <tr>\n",
       "      <th>mapquik</th>\n",
       "      <td>1416</td>\n",
       "      <td>1411 (99.65%)</td>\n",
       "      <td>0.53</td>\n",
       "      <td>2.06</td>\n",
       "    </tr>\n",
       "  </tbody>\n",
       "</table>\n",
       "</div>"
      ],
      "text/plain": [
       "t2tChrY-a0.99-d1  aligned reads wrong alignments time (sec)  memory (GB)\n",
       "sweep                      3138      254 (8.09%)       2.27         0.32\n",
       "minimap                    3138       138 (4.4%)      42.75         0.29\n",
       "winnowmap                  3138      151 (4.81%)    1984.93         1.08\n",
       "mapquik                    1416    1411 (99.65%)       0.53         2.06"
      ]
     },
     "metadata": {},
     "output_type": "display_data"
    }
   ],
   "source": [
    "import pandas as pd\n",
    "from IPython.display import display, HTML\n",
    "\n",
    "def get_table(outdir, tools):\n",
    "    alldf = pd.DataFrame(columns=['tool', 'aligned reads', 'wrong alignments', 'time (sec)', 'memory (GB)'])\n",
    "    for tool in tools:\n",
    "        evaldf = pd.read_csv(f'{outdir}/{tool}.eval', sep='\\t', names=['Q', 'quality', 'aligned', 'wrong', 'wrong_frac', 'aligned_cum'])\n",
    "        aligned = evaldf['aligned'].sum()\n",
    "        wrong = evaldf['wrong'].sum()\n",
    "        wrong_perc = (100.0 * wrong  / aligned).round(2)\n",
    "        with open(f'{outdir}/{tool}.time') as f:\n",
    "            arr = f.readline().split()\n",
    "            assert len(arr) == 2\n",
    "            time, mem = arr\n",
    "        alldf.loc[len(alldf.index)] = [tool, aligned, f'{wrong} ' + f'({wrong_perc}%)', time, mem]\n",
    "    alldf = alldf.set_index('tool')\n",
    "    alldf.index.name = None\n",
    "    alldf['memory (GB)'] = (alldf['memory (GB)'].astype(float) / (1024 * 1024)).round(2)\n",
    "    return alldf\n",
    "\n",
    "tools = ['sweep', 'minimap', 'winnowmap', 'mapquik']\n",
    "experiments = ['chm13-1B-a0.99-d1', 't2tChrY-a0.99-d1']\n",
    "for experiment in experiments:\n",
    "    df = get_table('newevals/' + experiment, tools)\n",
    "    df.columns.name = experiment\n",
    "    css = \"\"\" <style> table { font-family: \"Courier New\", Courier, monospace; } </style> \"\"\"\n",
    "    display(HTML(css))\n",
    "    display(df)\n",
    "    #print(df.to_latex(escape=True))"
   ]
  },
  {
   "cell_type": "code",
   "execution_count": null,
   "metadata": {},
   "outputs": [],
   "source": []
  },
  {
   "cell_type": "code",
   "execution_count": 8,
   "metadata": {},
   "outputs": [
    {
     "data": {
      "text/plain": [
       "'5       '"
      ]
     },
     "execution_count": 8,
     "metadata": {},
     "output_type": "execute_result"
    }
   ],
   "source": [
    "'5'.ljust(8)"
   ]
  },
  {
   "cell_type": "code",
   "execution_count": null,
   "metadata": {},
   "outputs": [],
   "source": []
  }
 ],
 "metadata": {
  "kernelspec": {
   "display_name": "Python 3",
   "language": "python",
   "name": "python3"
  },
  "language_info": {
   "codemirror_mode": {
    "name": "ipython",
    "version": 3
   },
   "file_extension": ".py",
   "mimetype": "text/x-python",
   "name": "python",
   "nbconvert_exporter": "python",
   "pygments_lexer": "ipython3",
   "version": "3.10.12"
  },
  "orig_nbformat": 4
 },
 "nbformat": 4,
 "nbformat_minor": 2
}
