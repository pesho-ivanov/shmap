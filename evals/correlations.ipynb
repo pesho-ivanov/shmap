{
 "cells": [
  {
   "cell_type": "code",
   "execution_count": 91,
   "metadata": {},
   "outputs": [],
   "source": [
    "import pandas as pd\n",
    "from pathlib import Path\n",
    "from readpaf import parse_paf\n",
    "from Bio import SeqIO\n",
    "from Bio.Seq import Seq\n",
    "import Levenshtein as lev\n",
    "\n",
    "def edit_dist(read, mapping, ref):\n",
    "    segm = ref.loc[ ref['ID'] == mapping['target_name'] ]['Sequence']\n",
    "    T = segm.iloc[0][ mapping['target_start'] : mapping['target_end'] ]\n",
    "    read_seq = read['Sequence']\n",
    "    read_seq_rc = read_seq if mapping['strand'] == '+' else str(Seq(read_seq).reverse_complement())\n",
    "    #ed = min(lev.distance(read_seq, T), lev.distance(str(Seq(read_seq).reverse_complement()), T))\n",
    "    ed = lev.distance(read_seq_rc, T)\n",
    "    ed = -1 if ed > 300 else ed\n",
    "    #display(ed, read_seq, read_seq_rc, T, mapping)\n",
    "    return ed\n",
    "\n",
    "def fasta2df(fn):\n",
    "    seqs = SeqIO.parse(fn, \"fasta\")\n",
    "    df = pd.DataFrame((str(s.id), str(s.seq)) for s in seqs)\n",
    "    df.columns = [\"ID\", \"Sequence\"]\n",
    "    return df\n",
    "\n",
    "def read_paf(pref):\n",
    "    paf_file = pref.with_suffix('.paf')\n",
    "    if not paf_file.exists():\n",
    "        raise Exception(f\"File does not exist or is empty: {paf_file}\")\n",
    "    with open(paf_file) as handle:\n",
    "        return parse_paf(handle, dataframe=True)\n",
    "    assert \"Openning failed.\"\n",
    "\n",
    "def get_ed(refname, experiment, tool):\n",
    "    ref = fasta2df(Path('refs') / (refname+'.fa'))\n",
    "    reads = fasta2df(Path('reads') / Path(experiment+'.fa'))\n",
    "    d = Path(\"out\") / experiment / tool / tool\n",
    "    df = read_paf(d)\n",
    "    df = df.head(100)\n",
    "    df['ed'] = [edit_dist(reads.iloc[i], mapping, ref) for i, mapping in df.iterrows()]\n",
    "    #display(ref, reads, df)\n",
    "    return df"
   ]
  },
  {
   "cell_type": "code",
   "execution_count": 92,
   "metadata": {},
   "outputs": [
    {
     "data": {
      "image/png": "[encoded data removed]",
      "text/plain": [
       "<Figure size 432x288 with 1 Axes>"
      ]
     },
     "metadata": {
      "needs_background": "light"
     },
     "output_type": "display_data"
    }
   ],
   "source": [
    "tool = 'sweepmap'\n",
    "experiments = [\n",
    "    ('chm13', 'chm13-a0.99-d0.1-l10000'),\n",
    "    ('t2tChrY', 't2tChrY-a0.99-d10-l10000'),\n",
    "    ('t2tChrY', 't2tChrY-a0.99-d1-l24000'),\n",
    "    ('chm13', 'HG002_24kb'),\n",
    "]\n",
    "\n",
    "for refname, data in experiments:\n",
    "    df = get_ed(refname, data, tool)\n",
    "    # plot 2D dotpoint of ed vs. J \n",
    "    df.plot.scatter(x='J', y='ed', c='DarkBlue')\n",
    "    break"
   ]
  },
  {
   "cell_type": "code",
   "execution_count": 1,
   "metadata": {},
   "outputs": [
    {
     "name": "stderr",
     "output_type": "stream",
     "text": [
      "/usr/lib/python3/dist-packages/scipy/__init__.py:146: UserWarning: A NumPy version >=1.17.3 and <1.25.0 is required for this version of SciPy (detected version 1.25.2\n",
      "  warnings.warn(f\"A NumPy version >={np_minversion} and <{np_maxversion}\"\n"
     ]
    },
    {
     "data": {
      "application/vnd.jupyter.widget-view+json": {
       "model_id": "401d73eeb1414f02a0b723b20a8ebf4b",
       "version_major": 2,
       "version_minor": 0
      },
      "text/plain": [
       "HBox(children=(VBox(children=(Button(button_style='primary', icon='arrows', layout=Layout(width='36px'), style…"
      ]
     },
     "execution_count": 1,
     "metadata": {},
     "output_type": "execute_result"
    }
   ],
   "source": [
    "import jscatter\n",
    "import numpy as np\n",
    "\n",
    "x = np.random.rand(500)\n",
    "y = np.random.rand(500)\n",
    "\n",
    "jscatter.plot(x, y)"
   ]
  },
  {
   "cell_type": "code",
   "execution_count": 3,
   "metadata": {},
   "outputs": [
    {
     "data": {
      "application/vnd.jupyter.widget-view+json": {
       "model_id": "21ae8290819b423f854c3ea685e77d88",
       "version_major": 2,
       "version_minor": 0
      },
      "text/plain": [
       "HBox(children=(HBox(children=(VBox(children=(Button(button_style='primary', icon='arrows', layout=Layout(width…"
      ]
     },
     "execution_count": 3,
     "metadata": {},
     "output_type": "execute_result"
    }
   ],
   "source": [
    "import ipywidgets\n",
    "import jscatter\n",
    "import numpy as np\n",
    "import pandas as pd\n",
    "\n",
    "df_sample = pd.DataFrame({\n",
    "  # Random floats\n",
    "  \"mass\": np.random.rand(500),\n",
    "  \"speed\": np.random.rand(500),\n",
    "  \"pval\": np.random.rand(500),\n",
    "  # Random letters A, B, C, D, E, F, G, H\n",
    "  \"cat\": np.vectorize(lambda x: chr(65 + round(x * 8)))(np.random.rand(500)),\n",
    "})\n",
    "\n",
    "scatter = jscatter.Scatter(data=df_sample, x=\"mass\", y=\"speed\", color_by=\"cat\")\n",
    "\n",
    "output = ipywidgets.Output()\n",
    "\n",
    "@output.capture(clear_output=True)\n",
    "def selection_change_handler(change):\n",
    "    display(df_sample.loc[change.new].style.hide(axis='index'))\n",
    "            \n",
    "scatter.widget.observe(selection_change_handler, names=[\"selection\"])\n",
    "\n",
    "ipywidgets.HBox([scatter.show(), output])"
   ]
  },
  {
   "cell_type": "code",
   "execution_count": 5,
   "metadata": {},
   "outputs": [
    {
     "data": {
      "application/vnd.jupyter.widget-view+json": {
       "model_id": "d7c73426a0b34cfb97bbe98acc9a6ce6",
       "version_major": 2,
       "version_minor": 0
      },
      "text/plain": [
       "Box(children=(HTML(value='\\n<div id=\"ifr-pyg-00062685cf3d79208Kc364JEmksN27qO\" style=\"height: auto\">\\n    <hea…"
      ]
     },
     "metadata": {},
     "output_type": "display_data"
    },
    {
     "data": {
      "text/html": [
       "<script>\n",
       "    window.addEventListener(\"message\", function(event) {\n",
       "        const backgroundMap = {\n",
       "            \"dark\": \"hsl(240 10% 3.9%)\",\n",
       "            \"light\": \"hsl(0 0 100%)\",\n",
       "        };\n",
       "        const colorMap = {\n",
       "            \"dark\": \"hsl(0 0% 98%)\",\n",
       "            \"light\": \"hsl(240 10% 3.9%)\",\n",
       "        };\n",
       "        if (event.data.action === \"changeAppearance\" && event.data.gid === \"00062685cf3d79208Kc364JEmksN27qO\") {\n",
       "            var iframe = document.getElementById(\"gwalker-00062685cf3d79208Kc364JEmksN27qO\");\n",
       "            iframe.style.background  = backgroundMap[event.data.appearance];\n",
       "            iframe.style.color = colorMap[event.data.appearance];\n",
       "        }\n",
       "    });\n",
       "</script>"
      ],
      "text/plain": [
       "<IPython.core.display.HTML object>"
      ]
     },
     "metadata": {},
     "output_type": "display_data"
    },
    {
     "data": {
      "text/html": [],
      "text/plain": [
       "<IPython.core.display.HTML object>"
      ]
     },
     "metadata": {},
     "output_type": "display_data"
    },
    {
     "data": {
      "text/plain": [
       "<pygwalker.api.pygwalker.PygWalker at 0x7aaec890bf40>"
      ]
     },
     "execution_count": 5,
     "metadata": {},
     "output_type": "execute_result"
    },
    {
     "name": "stderr",
     "output_type": "stream",
     "text": [
      "ERROR: kanaries_api_key is not valid.\n",
      "Please set kanaries_api_key first.\n",
      "If you are not kanaries user, please register it from 'https://kanaries.net/home/access' \n",
      "Then refer 'https://github.com/Kanaries/pygwalker/wiki/How-to-get-api-key-of-kanaries%3F' to set kanaries_api_key. \n",
      "\n",
      "ERROR: kanaries_api_key is not valid.\n",
      "Please set kanaries_api_key first.\n",
      "If you are not kanaries user, please register it from 'https://kanaries.net/home/access' \n",
      "Then refer 'https://github.com/Kanaries/pygwalker/wiki/How-to-get-api-key-of-kanaries%3F' to set kanaries_api_key. \n",
      "\n"
     ]
    }
   ],
   "source": [
    "import pygwalker as pyg\n",
    "\n",
    "pyg.walk(df_sample)"
   ]
  },
  {
   "cell_type": "code",
   "execution_count": null,
   "metadata": {},
   "outputs": [],
   "source": []
  }
 ],
 "metadata": {
  "kernelspec": {
   "display_name": "Python 3",
   "language": "python",
   "name": "python3"
  },
  "language_info": {
   "codemirror_mode": {
    "name": "ipython",
    "version": 3
   },
   "file_extension": ".py",
   "mimetype": "text/x-python",
   "name": "python",
   "nbconvert_exporter": "python",
   "pygments_lexer": "ipython3",
   "version": "3.10.12"
  }
 },
 "nbformat": 4,
 "nbformat_minor": 2
}
